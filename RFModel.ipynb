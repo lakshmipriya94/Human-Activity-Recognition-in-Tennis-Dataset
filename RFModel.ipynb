{
 "cells": [
  {
   "cell_type": "code",
   "execution_count": 1,
   "id": "fc241263",
   "metadata": {},
   "outputs": [],
   "source": [
    "import os\n",
    "import pandas as pd\n",
    "import numpy as np\n",
    "import matplotlib.pyplot as plt\n",
    "import math\n",
    "import pickle\n",
    "\n",
    "from xgboost import XGBClassifier\n",
    "from sklearn import preprocessing\n",
    "from sklearn.ensemble import RandomForestClassifier\n",
    "from sklearn.preprocessing import StandardScaler\n",
    "from sklearn.metrics import accuracy_score, precision_score, recall_score, f1_score\n",
    "\n",
    "from sklearn.model_selection import train_test_split\n",
    "from sklearn.metrics import classification_report\n",
    "\n",
    "from random import uniform\n",
    "from scipy.stats import randint\n",
    "from sklearn.linear_model import Lasso\n",
    "from sklearn.model_selection import StratifiedKFold, RandomizedSearchCV\n",
    "from sklearn.model_selection import train_test_split\n",
    "from sklearn.metrics import mean_squared_error\n"
   ]
  },
  {
   "cell_type": "code",
   "execution_count": 2,
   "id": "18326e96",
   "metadata": {},
   "outputs": [],
   "source": [
    "ball_release = pd.read_csv(r\"C:\\Users\\ASUS\\OneDrive\\Documents\\Academics\\Summer Semester\\Dataset\\tossstartframes.csv\",header=None)\n",
    "data_path = r\"C:\\Users\\ASUS\\OneDrive\\Documents\\Academics\\Summer Semester\\Dataset\\CSVs\\\\\"\n",
    "#test_data = pd.read_excel(r\"C:\\Users\\ASUS\\OneDrive\\Documents\\Academics\\Summer Semester\\Dataset\\model_inout\\test_25-06.xlsx\")\n",
    "frames = pd.read_csv(r\"C:\\Users\\ASUS\\OneDrive\\Documents\\Academics\\Summer Semester\\Dataset\\frames.csv\")\n",
    "cont_frames = pd.read_csv(r\"C:\\Users\\ASUS\\OneDrive\\Documents\\Academics\\Summer Semester\\Dataset\\contactframes.csv\")\n",
    "ball_toss = pd.read_csv(r\"C:\\Users\\ASUS\\OneDrive\\Documents\\Academics\\Summer Semester\\Dataset\\tossstartframes.csv\")"
   ]
  },
  {
   "cell_type": "code",
   "execution_count": 3,
   "id": "6cefb03c",
   "metadata": {},
   "outputs": [],
   "source": [
    "def classify_data(range_value,file,data_path,bl_toss):\n",
    "    data_list = []\n",
    "    class_list = []\n",
    "    ball_toss = []\n",
    "\n",
    "    for i in range(len(frames)):\n",
    "            #print(i)\n",
    "            file_name = frames.iloc[i][0]\n",
    "            toss_row = frames.iloc[i][1]\n",
    "            hit_row = frames.iloc[i][2]\n",
    "\n",
    "            for csv in os.listdir(data_path):\n",
    "\n",
    "                if file_name in csv:\n",
    "                        #print(\"\\n\",file_name)\n",
    "                        data = pd.read_csv(data_path+\"\\\\\"+csv)\n",
    "                        #print(data)\n",
    "                        class_list = [\"Before\" for i in range(0,hit_row-range_value)]\n",
    "                        class_list.extend([\"Hit\" for i in range(hit_row-range_value,hit_row+range_value)])\n",
    "                        class_list.extend([\"After\" for i in range(hit_row+range_value,len(data))])\n",
    "\n",
    "                        ball_toss = [\"Before Toss\" for i in range(0,toss_row-range_value)]\n",
    "                        ball_toss.extend([\"Toss\" for i in range(toss_row-range_value,toss_row+range_value)])\n",
    "                        ball_toss.extend([\"After Toss\" for i in range(toss_row+range_value,len(data))])\n",
    "\n",
    "                        file_list = [file_name for i in range(len(data))]\n",
    "                        data = data.assign(File=file_list,Class_1=class_list,Class_2=ball_toss)\n",
    "                        data_list.append(data)   \n",
    "                        dataframe = pd.concat(data_list)\n",
    "            #print(len(class_list),len(ball_toss),len(file_list)) \n",
    "    return dataframe"
   ]
  },
  {
   "cell_type": "code",
   "execution_count": 4,
   "id": "4d33d538",
   "metadata": {},
   "outputs": [],
   "source": [
    "def cal_ang(model_data):\n",
    "    \n",
    "    \n",
    "    angle_rad = []\n",
    "    sho_rand_angle = []\n",
    "    \n",
    "    for x1,y1,x2,y2 in zip(model_data[\"NOSE_X\"],model_data['NOSE_Y'],model_data['RIGHT_WRIST_X'],model_data['RIGHT_WRIST_Y']):\n",
    "        \n",
    "        \n",
    "    \n",
    "        angle_rad.append(math.atan2( y2 - y1 , x2 - x1 ))\n",
    "        #angle_deg = math.degrees(angle_rad)\n",
    "        #nose_wrist_angle.append(pygame.math.Vector2(x1, y1).angle_to((x2, y2)))\n",
    "    \n",
    "    for x1,y1,x2,y2 in zip(model_data[\"LEFT_WRIST_X\"],model_data['LEFT_WRIST_Y'],model_data['RIGHT_SHOULDER_X'],model_data['RIGHT_SHOULDER_Y']):\n",
    "        \n",
    "        #print(slope1,slope2)\n",
    "        sho_rand_angle.append(math.atan2( y2 - y1 , x2 - x1 ))\n",
    "        \n",
    "    return angle_rad,sho_rand_angle\n"
   ]
  },
  {
   "cell_type": "code",
   "execution_count": 5,
   "id": "5f930add",
   "metadata": {},
   "outputs": [],
   "source": [
    "model_data = classify_data(12,cont_frames,data_path,ball_toss)\n",
    "\n",
    "#model_data = model_data.drop(['Class'], axis=1)\n",
    "#model_data = model_data.drop(['Unnamed: 51'], axis=1)\n",
    "\n",
    "nose_angle, sho_angle = cal_ang(model_data)\n",
    "\n",
    "model_data['Nose-Wrist Angle'] = nose_angle \n",
    "model_data['Sho-Wrist Angle'] = sho_angle"
   ]
  },
  {
   "cell_type": "code",
   "execution_count": 6,
   "id": "2f679aec",
   "metadata": {},
   "outputs": [],
   "source": [
    "model_data.to_csv(r\"C:\\Users\\ASUS\\OneDrive\\Documents\\Academics\\Summer Semester\\Dataset\\model_inout\\DataSet_01_07.csv\")"
   ]
  },
  {
   "cell_type": "code",
   "execution_count": 6,
   "id": "c44bb869",
   "metadata": {},
   "outputs": [],
   "source": [
    "model_data = model_data.drop(['Unnamed: 51'], axis=1)\n",
    "#model_data = model_data.drop(['Unnamed: 56'], axis=1)\n",
    "#model_data = model_data.drop(['Unnamed: 57'], axis=1)\n",
    "#model_data = model_data.drop(['Unnamed: 58'], axis=1)\n",
    "#model_data = model_data.drop(['Unnamed: 0'], axis=1)"
   ]
  },
  {
   "cell_type": "code",
   "execution_count": 7,
   "id": "2b29f66a",
   "metadata": {},
   "outputs": [],
   "source": [
    "nose_df = pd.DataFrame(nose_angle)\n",
    "sho_df = pd.DataFrame(sho_angle)\n",
    "#nose_df.to_csv(r\"C:\\Users\\ASUS\\OneDrive\\Documents\\Academics\\Summer Semester\\noseeangle.csv\")\n",
    "#sho_df.to_csv(r\"C:\\Users\\ASUS\\OneDrive\\Documents\\Academics\\Summer Semester\\shoanglee.csv\")"
   ]
  },
  {
   "cell_type": "code",
   "execution_count": null,
   "id": "2cb3bf82",
   "metadata": {},
   "outputs": [],
   "source": [
    "#df_mod_dat = model_data.iloc[569:]\n",
    "#test_data = model_data[:568]\n",
    "\n",
    "#df1 = model_data.iloc[:568]\n",
    "#df2 = model_data.iloc[1298:]\n",
    "#df1 = model_data.iloc[579:1299]\n",
    "\n",
    "#frames = [df1, df2]\n",
    "\n",
    "#df_mod_dat = pd.concat(frames)\n",
    "#test_data = model_data.iloc[569:1299]"
   ]
  },
  {
   "cell_type": "code",
   "execution_count": 9,
   "id": "a2d05930",
   "metadata": {},
   "outputs": [],
   "source": [
    "feature_columns = ['NOSE_X', 'NOSE_Y', 'NOSE_Z', 'LEFT_SHOULDER_X', 'LEFT_SHOULDER_Y',\n",
    "       'LEFT_SHOULDER_Z', 'RIGHT_SHOULDER_X', 'RIGHT_SHOULDER_Y',\n",
    "       'RIGHT_SHOULDER_Z', 'LEFT_ELBOW_X', 'LEFT_ELBOW_Y', 'LEFT_ELBOW_Z',\n",
    "       'RIGHT_ELBOW_X', 'RIGHT_ELBOW_Y', 'RIGHT_ELBOW_Z', 'LEFT_WRIST_X',\n",
    "       'LEFT_WRIST_Y', 'LEFT_WRIST_Z', 'RIGHT_WRIST_X', 'RIGHT_WRIST_Y',\n",
    "       'RIGHT_WRIST_Z', 'LEFT_HIP_X', 'LEFT_HIP_Y', 'LEFT_HIP_Z',\n",
    "       'RIGHT_HIP_X', 'RIGHT_HIP_Y', 'RIGHT_HIP_Z', 'LEFT_KNEE_X',\n",
    "       'LEFT_KNEE_Y', 'LEFT_KNEE_Z', 'RIGHT_KNEE_X', 'RIGHT_KNEE_Y',\n",
    "       'RIGHT_KNEE_Z', 'LEFT_ANKLE_X', 'LEFT_ANKLE_Y', 'LEFT_ANKLE_Z',\n",
    "       'RIGHT_ANKLE_X', 'RIGHT_ANKLE_Y', 'RIGHT_ANKLE_Z', 'LEFT_HEEL_X',\n",
    "       'LEFT_HEEL_Y', 'LEFT_HEEL_Z', 'RIGHT_HEEL_X', 'RIGHT_HEEL_Y',\n",
    "       'RIGHT_HEEL_Z', 'LEFT_FOOT_INDEX_X', 'LEFT_FOOT_INDEX_Y',\n",
    "       'LEFT_FOOT_INDEX_Z', 'RIGHT_FOOT_INDEX_X', 'RIGHT_FOOT_INDEX_Y',\n",
    "       'RIGHT_FOOT_INDEX_Z','Sho-Wrist Angle']"
   ]
  },
  {
   "cell_type": "code",
   "execution_count": 10,
   "id": "6f84ff15",
   "metadata": {},
   "outputs": [],
   "source": [
    "X = model_data[feature_columns]\n",
    "Y = model_data['Class_2']\n",
    "\n",
    "label_encoder = preprocessing.LabelEncoder()\n",
    "y = label_encoder.fit_transform(Y)\n",
    "\n",
    "X_train, X_test, y_train, y_test = train_test_split(X, y, test_size=0.3, random_state=42)"
   ]
  },
  {
   "cell_type": "code",
   "execution_count": 32,
   "id": "501d35ce",
   "metadata": {},
   "outputs": [
    {
     "name": "stdout",
     "output_type": "stream",
     "text": [
      "Mean Squared Error: 0.06465233953607206\n"
     ]
    },
    {
     "name": "stderr",
     "output_type": "stream",
     "text": [
      "C:\\Users\\ASUS\\anaconda3\\lib\\site-packages\\sklearn\\linear_model\\_coordinate_descent.py:631: ConvergenceWarning: Objective did not converge. You might want to increase the number of iterations, check the scale of the features or consider increasing regularisation. Duality gap: 1.995e+00, tolerance: 6.176e-01\n",
      "  model = cd_fast.enet_coordinate_descent(\n"
     ]
    }
   ],
   "source": [
    "lasso = Lasso(alpha=0.1)\n",
    "\n",
    "lasso.fit(X_train, y_train)\n",
    "\n",
    "y_pred = lasso.predict(X_test)\n",
    "\n",
    "mse = mean_squared_error(y_test, y_pred)\n",
    "print(\"Mean Squared Error:\", mse)\n",
    "\n",
    "coefficients = pd.DataFrame({'Features': X_train.columns, 'Coefficients': lasso.coef_})\n",
    "\n",
    "coef_lis =[]\n",
    "\n",
    "for j in range(len(coefficients)):\n",
    "    if coefficients.iloc[j][1]!= 0:\n",
    "        coef_lis.append((coefficients.iloc[j][0]))\n",
    "        \n",
    "coef_lis.append('Sho-Wrist Angle')\n",
    "        \n",
    "    \n",
    "#print(([i for i in coefficients['Coefficients'] if i!=0]))\n"
   ]
  },
  {
   "cell_type": "code",
   "execution_count": 33,
   "id": "e7d5d72d",
   "metadata": {},
   "outputs": [
    {
     "data": {
      "text/plain": [
       "['NOSE_Z',\n",
       " 'LEFT_SHOULDER_Y',\n",
       " 'LEFT_SHOULDER_Z',\n",
       " 'RIGHT_SHOULDER_X',\n",
       " 'LEFT_ELBOW_Y',\n",
       " 'LEFT_ELBOW_Z',\n",
       " 'RIGHT_ELBOW_Y',\n",
       " 'RIGHT_ELBOW_Z',\n",
       " 'LEFT_WRIST_X',\n",
       " 'LEFT_WRIST_Y',\n",
       " 'LEFT_WRIST_Z',\n",
       " 'RIGHT_WRIST_X',\n",
       " 'RIGHT_WRIST_Z',\n",
       " 'RIGHT_HIP_X',\n",
       " 'LEFT_KNEE_X',\n",
       " 'LEFT_KNEE_Z',\n",
       " 'RIGHT_KNEE_X',\n",
       " 'RIGHT_KNEE_Y',\n",
       " 'RIGHT_KNEE_Z',\n",
       " 'RIGHT_ANKLE_X',\n",
       " 'LEFT_HEEL_X',\n",
       " 'LEFT_HEEL_Y',\n",
       " 'LEFT_HEEL_Z',\n",
       " 'RIGHT_FOOT_INDEX_Y',\n",
       " 'RIGHT_FOOT_INDEX_Z',\n",
       " 'Sho-Wrist Angle']"
      ]
     },
     "execution_count": 33,
     "metadata": {},
     "output_type": "execute_result"
    }
   ],
   "source": [
    "coef_lis"
   ]
  },
  {
   "cell_type": "code",
   "execution_count": 34,
   "id": "36dedf86",
   "metadata": {},
   "outputs": [],
   "source": [
    "new_X = model_data[coef_lis]\n",
    "new_X_train, new_X_test, y_train, y_test = train_test_split(new_X, y, test_size=0.3, random_state=42)"
   ]
  },
  {
   "cell_type": "markdown",
   "id": "c465b3af",
   "metadata": {},
   "source": [
    "Random Search for XGModel Class 1"
   ]
  },
  {
   "cell_type": "code",
   "execution_count": 35,
   "id": "d709c566",
   "metadata": {},
   "outputs": [],
   "source": [
    "param_grid = {'silent': [False],'max_depth': [6, 10, 15, 20],'learning_rate': [0.001, 0.01, 0.1, 0.2, 0,3],'subsample': [0.5, 0.6, 0.7, 0.8, 0.9, 1.0],'colsample_bytree': [0.4, 0.5, 0.6, 0.7, 0.8, 0.9, 1.0],'colsample_bylevel': [0.4, 0.5, 0.6, 0.7, 0.8, 0.9, 1.0],'min_child_weight': [0.5, 1.0, 3.0, 5.0, 7.0, 10.0],'gamma': [0, 0.25, 0.5, 1.0],'reg_lambda': [0.1, 1.0, 5.0, 10.0, 50.0, 100.0],'n_estimators': [100]}"
   ]
  },
  {
   "cell_type": "code",
   "execution_count": null,
   "id": "40cb2358",
   "metadata": {},
   "outputs": [],
   "source": [
    "#fit_params = {'eval_metric': 'mlogloss','early_stopping_rounds': 10,'eval_set': [(new_X_train, y_train)]}"
   ]
  },
  {
   "cell_type": "code",
   "execution_count": 1,
   "id": "2e83b6c0",
   "metadata": {},
   "outputs": [
    {
     "ename": "NameError",
     "evalue": "name 'y_train' is not defined",
     "output_type": "error",
     "traceback": [
      "\u001b[1;31m---------------------------------------------------------------------------\u001b[0m",
      "\u001b[1;31mNameError\u001b[0m                                 Traceback (most recent call last)",
      "\u001b[1;32m<ipython-input-1-f56205002e60>\u001b[0m in \u001b[0;36m<module>\u001b[1;34m\u001b[0m\n\u001b[1;32m----> 1\u001b[1;33m \u001b[0my_train\u001b[0m\u001b[1;33m\u001b[0m\u001b[1;33m\u001b[0m\u001b[0m\n\u001b[0m",
      "\u001b[1;31mNameError\u001b[0m: name 'y_train' is not defined"
     ]
    }
   ],
   "source": []
  },
  {
   "cell_type": "code",
   "execution_count": 36,
   "id": "8e4dcc0a",
   "metadata": {},
   "outputs": [
    {
     "name": "stdout",
     "output_type": "stream",
     "text": [
      "Accuracy: 0.9983515836571294\n"
     ]
    }
   ],
   "source": [
    "# fit model no training data\n",
    "xg_model = XGBClassifier()\n",
    "xg_model.fit(new_X_train, y_train) \n",
    "\n",
    "new_y_pred = xg_model.predict(new_X_test)\n",
    "\n",
    "accuracy = accuracy_score(y_test, new_y_pred)\n",
    "print(\"Accuracy:\", accuracy)\n"
   ]
  },
  {
   "cell_type": "code",
   "execution_count": 39,
   "id": "207aa877",
   "metadata": {},
   "outputs": [
    {
     "name": "stdout",
     "output_type": "stream",
     "text": [
      "Fitting 5 folds for each of 100 candidates, totalling 500 fits\n"
     ]
    },
    {
     "name": "stderr",
     "output_type": "stream",
     "text": [
      "C:\\Users\\ASUS\\anaconda3\\lib\\site-packages\\sklearn\\model_selection\\_search.py:952: UserWarning: One or more of the test scores are non-finite: [nan nan nan nan nan nan nan nan nan nan nan nan nan nan nan nan nan nan\n",
      " nan nan nan nan nan nan nan nan nan nan nan nan nan nan nan nan nan nan\n",
      " nan nan nan nan nan nan nan nan nan nan nan nan nan nan nan nan nan nan\n",
      " nan nan nan nan nan nan nan nan nan nan nan nan nan nan nan nan nan nan\n",
      " nan nan nan nan nan nan nan nan nan nan nan nan nan nan nan nan nan nan\n",
      " nan nan nan nan nan nan nan nan nan nan]\n",
      "  warnings.warn(\n"
     ]
    },
    {
     "name": "stdout",
     "output_type": "stream",
     "text": [
      "[10:45:42] WARNING: C:\\buildkite-agent\\builds\\buildkite-windows-cpu-autoscaling-group-i-0fdc6d574b9c0d168-1\\xgboost\\xgboost-ci-windows\\src\\learner.cc:767: \n",
      "Parameters: { \"silent\" } are not used.\n",
      "\n"
     ]
    },
    {
     "data": {
      "text/html": [
       "<style>#sk-container-id-2 {color: black;background-color: white;}#sk-container-id-2 pre{padding: 0;}#sk-container-id-2 div.sk-toggleable {background-color: white;}#sk-container-id-2 label.sk-toggleable__label {cursor: pointer;display: block;width: 100%;margin-bottom: 0;padding: 0.3em;box-sizing: border-box;text-align: center;}#sk-container-id-2 label.sk-toggleable__label-arrow:before {content: \"▸\";float: left;margin-right: 0.25em;color: #696969;}#sk-container-id-2 label.sk-toggleable__label-arrow:hover:before {color: black;}#sk-container-id-2 div.sk-estimator:hover label.sk-toggleable__label-arrow:before {color: black;}#sk-container-id-2 div.sk-toggleable__content {max-height: 0;max-width: 0;overflow: hidden;text-align: left;background-color: #f0f8ff;}#sk-container-id-2 div.sk-toggleable__content pre {margin: 0.2em;color: black;border-radius: 0.25em;background-color: #f0f8ff;}#sk-container-id-2 input.sk-toggleable__control:checked~div.sk-toggleable__content {max-height: 200px;max-width: 100%;overflow: auto;}#sk-container-id-2 input.sk-toggleable__control:checked~label.sk-toggleable__label-arrow:before {content: \"▾\";}#sk-container-id-2 div.sk-estimator input.sk-toggleable__control:checked~label.sk-toggleable__label {background-color: #d4ebff;}#sk-container-id-2 div.sk-label input.sk-toggleable__control:checked~label.sk-toggleable__label {background-color: #d4ebff;}#sk-container-id-2 input.sk-hidden--visually {border: 0;clip: rect(1px 1px 1px 1px);clip: rect(1px, 1px, 1px, 1px);height: 1px;margin: -1px;overflow: hidden;padding: 0;position: absolute;width: 1px;}#sk-container-id-2 div.sk-estimator {font-family: monospace;background-color: #f0f8ff;border: 1px dotted black;border-radius: 0.25em;box-sizing: border-box;margin-bottom: 0.5em;}#sk-container-id-2 div.sk-estimator:hover {background-color: #d4ebff;}#sk-container-id-2 div.sk-parallel-item::after {content: \"\";width: 100%;border-bottom: 1px solid gray;flex-grow: 1;}#sk-container-id-2 div.sk-label:hover label.sk-toggleable__label {background-color: #d4ebff;}#sk-container-id-2 div.sk-serial::before {content: \"\";position: absolute;border-left: 1px solid gray;box-sizing: border-box;top: 0;bottom: 0;left: 50%;z-index: 0;}#sk-container-id-2 div.sk-serial {display: flex;flex-direction: column;align-items: center;background-color: white;padding-right: 0.2em;padding-left: 0.2em;position: relative;}#sk-container-id-2 div.sk-item {position: relative;z-index: 1;}#sk-container-id-2 div.sk-parallel {display: flex;align-items: stretch;justify-content: center;background-color: white;position: relative;}#sk-container-id-2 div.sk-item::before, #sk-container-id-2 div.sk-parallel-item::before {content: \"\";position: absolute;border-left: 1px solid gray;box-sizing: border-box;top: 0;bottom: 0;left: 50%;z-index: -1;}#sk-container-id-2 div.sk-parallel-item {display: flex;flex-direction: column;z-index: 1;position: relative;background-color: white;}#sk-container-id-2 div.sk-parallel-item:first-child::after {align-self: flex-end;width: 50%;}#sk-container-id-2 div.sk-parallel-item:last-child::after {align-self: flex-start;width: 50%;}#sk-container-id-2 div.sk-parallel-item:only-child::after {width: 0;}#sk-container-id-2 div.sk-dashed-wrapped {border: 1px dashed gray;margin: 0 0.4em 0.5em 0.4em;box-sizing: border-box;padding-bottom: 0.4em;background-color: white;}#sk-container-id-2 div.sk-label label {font-family: monospace;font-weight: bold;display: inline-block;line-height: 1.2em;}#sk-container-id-2 div.sk-label-container {text-align: center;}#sk-container-id-2 div.sk-container {/* jupyter's `normalize.less` sets `[hidden] { display: none; }` but bootstrap.min.css set `[hidden] { display: none !important; }` so we also need the `!important` here to be able to override the default hidden behavior on the sphinx rendered scikit-learn.org. See: https://github.com/scikit-learn/scikit-learn/issues/21755 */display: inline-block !important;position: relative;}#sk-container-id-2 div.sk-text-repr-fallback {display: none;}</style><div id=\"sk-container-id-2\" class=\"sk-top-container\"><div class=\"sk-text-repr-fallback\"><pre>RandomizedSearchCV(cv=&lt;generator object _BaseKFold.split at 0x000002990DCD4E40&gt;,\n",
       "                   estimator=XGBClassifier(base_score=None, booster=None,\n",
       "                                           callbacks=None,\n",
       "                                           colsample_bylevel=None,\n",
       "                                           colsample_bynode=None,\n",
       "                                           colsample_bytree=None,\n",
       "                                           early_stopping_rounds=None,\n",
       "                                           enable_categorical=False,\n",
       "                                           eval_metric=None, feature_types=None,\n",
       "                                           gamma=None, gpu_id=None,\n",
       "                                           grow_policy=None,\n",
       "                                           importance_...\n",
       "                                        &#x27;colsample_bytree&#x27;: [0.4, 0.5, 0.6, 0.7,\n",
       "                                                             0.8, 0.9, 1.0],\n",
       "                                        &#x27;gamma&#x27;: [0, 0.25, 0.5, 1.0],\n",
       "                                        &#x27;learning_rate&#x27;: [0.001, 0.01, 0.1, 0.2,\n",
       "                                                          0, 3],\n",
       "                                        &#x27;max_depth&#x27;: [6, 10, 15, 20],\n",
       "                                        &#x27;min_child_weight&#x27;: [0.5, 1.0, 3.0, 5.0,\n",
       "                                                             7.0, 10.0],\n",
       "                                        &#x27;n_estimators&#x27;: [100],\n",
       "                                        &#x27;reg_lambda&#x27;: [0.1, 1.0, 5.0, 10.0,\n",
       "                                                       50.0, 100.0],\n",
       "                                        &#x27;silent&#x27;: [False],\n",
       "                                        &#x27;subsample&#x27;: [0.5, 0.6, 0.7, 0.8, 0.9,\n",
       "                                                      1.0]},\n",
       "                   random_state=42, scoring=&#x27;roc_auc&#x27;, verbose=3)</pre><b>In a Jupyter environment, please rerun this cell to show the HTML representation or trust the notebook. <br />On GitHub, the HTML representation is unable to render, please try loading this page with nbviewer.org.</b></div><div class=\"sk-container\" hidden><div class=\"sk-item sk-dashed-wrapped\"><div class=\"sk-label-container\"><div class=\"sk-label sk-toggleable\"><input class=\"sk-toggleable__control sk-hidden--visually\" id=\"sk-estimator-id-4\" type=\"checkbox\" ><label for=\"sk-estimator-id-4\" class=\"sk-toggleable__label sk-toggleable__label-arrow\">RandomizedSearchCV</label><div class=\"sk-toggleable__content\"><pre>RandomizedSearchCV(cv=&lt;generator object _BaseKFold.split at 0x000002990DCD4E40&gt;,\n",
       "                   estimator=XGBClassifier(base_score=None, booster=None,\n",
       "                                           callbacks=None,\n",
       "                                           colsample_bylevel=None,\n",
       "                                           colsample_bynode=None,\n",
       "                                           colsample_bytree=None,\n",
       "                                           early_stopping_rounds=None,\n",
       "                                           enable_categorical=False,\n",
       "                                           eval_metric=None, feature_types=None,\n",
       "                                           gamma=None, gpu_id=None,\n",
       "                                           grow_policy=None,\n",
       "                                           importance_...\n",
       "                                        &#x27;colsample_bytree&#x27;: [0.4, 0.5, 0.6, 0.7,\n",
       "                                                             0.8, 0.9, 1.0],\n",
       "                                        &#x27;gamma&#x27;: [0, 0.25, 0.5, 1.0],\n",
       "                                        &#x27;learning_rate&#x27;: [0.001, 0.01, 0.1, 0.2,\n",
       "                                                          0, 3],\n",
       "                                        &#x27;max_depth&#x27;: [6, 10, 15, 20],\n",
       "                                        &#x27;min_child_weight&#x27;: [0.5, 1.0, 3.0, 5.0,\n",
       "                                                             7.0, 10.0],\n",
       "                                        &#x27;n_estimators&#x27;: [100],\n",
       "                                        &#x27;reg_lambda&#x27;: [0.1, 1.0, 5.0, 10.0,\n",
       "                                                       50.0, 100.0],\n",
       "                                        &#x27;silent&#x27;: [False],\n",
       "                                        &#x27;subsample&#x27;: [0.5, 0.6, 0.7, 0.8, 0.9,\n",
       "                                                      1.0]},\n",
       "                   random_state=42, scoring=&#x27;roc_auc&#x27;, verbose=3)</pre></div></div></div><div class=\"sk-parallel\"><div class=\"sk-parallel-item\"><div class=\"sk-item\"><div class=\"sk-label-container\"><div class=\"sk-label sk-toggleable\"><input class=\"sk-toggleable__control sk-hidden--visually\" id=\"sk-estimator-id-5\" type=\"checkbox\" ><label for=\"sk-estimator-id-5\" class=\"sk-toggleable__label sk-toggleable__label-arrow\">estimator: XGBClassifier</label><div class=\"sk-toggleable__content\"><pre>XGBClassifier(base_score=None, booster=None, callbacks=None,\n",
       "              colsample_bylevel=None, colsample_bynode=None,\n",
       "              colsample_bytree=None, early_stopping_rounds=None,\n",
       "              enable_categorical=False, eval_metric=None, feature_types=None,\n",
       "              gamma=None, gpu_id=None, grow_policy=None, importance_type=None,\n",
       "              interaction_constraints=None, learning_rate=None, max_bin=None,\n",
       "              max_cat_threshold=None, max_cat_to_onehot=None,\n",
       "              max_delta_step=None, max_depth=None, max_leaves=None,\n",
       "              min_child_weight=None, missing=nan, monotone_constraints=None,\n",
       "              n_estimators=100, n_jobs=None, num_parallel_tree=None,\n",
       "              objective=&#x27;multi:softprob&#x27;, predictor=None, ...)</pre></div></div></div><div class=\"sk-serial\"><div class=\"sk-item\"><div class=\"sk-estimator sk-toggleable\"><input class=\"sk-toggleable__control sk-hidden--visually\" id=\"sk-estimator-id-6\" type=\"checkbox\" ><label for=\"sk-estimator-id-6\" class=\"sk-toggleable__label sk-toggleable__label-arrow\">XGBClassifier</label><div class=\"sk-toggleable__content\"><pre>XGBClassifier(base_score=None, booster=None, callbacks=None,\n",
       "              colsample_bylevel=None, colsample_bynode=None,\n",
       "              colsample_bytree=None, early_stopping_rounds=None,\n",
       "              enable_categorical=False, eval_metric=None, feature_types=None,\n",
       "              gamma=None, gpu_id=None, grow_policy=None, importance_type=None,\n",
       "              interaction_constraints=None, learning_rate=None, max_bin=None,\n",
       "              max_cat_threshold=None, max_cat_to_onehot=None,\n",
       "              max_delta_step=None, max_depth=None, max_leaves=None,\n",
       "              min_child_weight=None, missing=nan, monotone_constraints=None,\n",
       "              n_estimators=100, n_jobs=None, num_parallel_tree=None,\n",
       "              objective=&#x27;multi:softprob&#x27;, predictor=None, ...)</pre></div></div></div></div></div></div></div></div></div></div>"
      ],
      "text/plain": [
       "RandomizedSearchCV(cv=<generator object _BaseKFold.split at 0x000002990DCD4E40>,\n",
       "                   estimator=XGBClassifier(base_score=None, booster=None,\n",
       "                                           callbacks=None,\n",
       "                                           colsample_bylevel=None,\n",
       "                                           colsample_bynode=None,\n",
       "                                           colsample_bytree=None,\n",
       "                                           early_stopping_rounds=None,\n",
       "                                           enable_categorical=False,\n",
       "                                           eval_metric=None, feature_types=None,\n",
       "                                           gamma=None, gpu_id=None,\n",
       "                                           grow_policy=None,\n",
       "                                           importance_...\n",
       "                                        'colsample_bytree': [0.4, 0.5, 0.6, 0.7,\n",
       "                                                             0.8, 0.9, 1.0],\n",
       "                                        'gamma': [0, 0.25, 0.5, 1.0],\n",
       "                                        'learning_rate': [0.001, 0.01, 0.1, 0.2,\n",
       "                                                          0, 3],\n",
       "                                        'max_depth': [6, 10, 15, 20],\n",
       "                                        'min_child_weight': [0.5, 1.0, 3.0, 5.0,\n",
       "                                                             7.0, 10.0],\n",
       "                                        'n_estimators': [100],\n",
       "                                        'reg_lambda': [0.1, 1.0, 5.0, 10.0,\n",
       "                                                       50.0, 100.0],\n",
       "                                        'silent': [False],\n",
       "                                        'subsample': [0.5, 0.6, 0.7, 0.8, 0.9,\n",
       "                                                      1.0]},\n",
       "                   random_state=42, scoring='roc_auc', verbose=3)"
      ]
     },
     "execution_count": 39,
     "metadata": {},
     "output_type": "execute_result"
    }
   ],
   "source": [
    "folds = 5\n",
    "param_comb = 100\n",
    "\n",
    "skf = StratifiedKFo ld(n_splits=folds, shuffle = True, random_state = 42)\n",
    "\n",
    "random_search = RandomizedSearchCV(xg_model, param_distributions=param_grid, n_iter=param_comb, scoring='roc_auc', n_jobs=4, cv=skf.split(X_train,y_train), verbose=3, random_state=42 )\n",
    "\n",
    "random_search.fit(new_X_train, y_train)\n"
   ]
  },
  {
   "cell_type": "code",
   "execution_count": 15,
   "id": "bb41795b",
   "metadata": {},
   "outputs": [
    {
     "name": "stdout",
     "output_type": "stream",
     "text": [
      "{'subsample': 0.7, 'silent': False, 'reg_lambda': 50.0, 'n_estimators': 100, 'min_child_weight': 5.0, 'max_depth': 6, 'learning_rate': 0.2, 'gamma': 1.0, 'colsample_bytree': 0.9, 'colsample_bylevel': 0.4}\n"
     ]
    }
   ],
   "source": [
    "print(random_search.best_params_) "
   ]
  },
  {
   "cell_type": "code",
   "execution_count": null,
   "id": "b710fa9d",
   "metadata": {},
   "outputs": [],
   "source": []
  },
  {
   "cell_type": "code",
   "execution_count": 17,
   "id": "9f394b90",
   "metadata": {},
   "outputs": [
    {
     "name": "stdout",
     "output_type": "stream",
     "text": [
      "Accuracy: 0.9983515836571294\n"
     ]
    }
   ],
   "source": [
    "new_y_pred = random_search.predict(new_X_test)\n",
    "\n",
    "accuracy = accuracy_score(y_test, new_y_pred)\n",
    "print(\"Accuracy:\", accuracy)"
   ]
  },
  {
   "cell_type": "code",
   "execution_count": null,
   "id": "1cbbf695",
   "metadata": {},
   "outputs": [],
   "source": [
    "xg_model = XGBClassifier()\n",
    "xg_model.fit(new_X_train, y_train) \n",
    "\n",
    "new_y_pred = xg_model.predict(new_X_test)\n",
    "\n",
    "accuracy = accuracy_score(y_test, new_y_pred)\n",
    "print(\"Accuracy:\", accuracy)\n"
   ]
  },
  {
   "cell_type": "code",
   "execution_count": null,
   "id": "2ae9e62b",
   "metadata": {},
   "outputs": [],
   "source": [
    "X_pred = test_data[coef_lis]\n",
    "\n",
    "y_rand_test = test_model_rand.predict(X_pred)\n",
    "\n",
    "xg_data_f = pd.DataFrame(y_rand_test)\n",
    "xg_data_f.to_csv(r\"C:\\Users\\ASUS\\OneDrive\\Documents\\Academics\\Summer Semester\\Dataset\\model_inout\\rand_prediction_kev2_hit_10_7.csv\")"
   ]
  },
  {
   "cell_type": "code",
   "execution_count": null,
   "id": "1e375212",
   "metadata": {},
   "outputs": [],
   "source": [
    "X_pred = test_data[coef_lis]\n",
    "\n",
    "y_rand_test = xg_model.predict(X_pred)\n",
    "\n",
    "xg_data_f = pd.DataFrame(y_rand_test)\n",
    "xg_data_f.to_csv(r\"C:\\Users\\ASUS\\OneDrive\\Documents\\Academics\\Summer Semester\\Dataset\\model_inout\\xg_prediction_toss_finetuned_7_7.csv\")"
   ]
  },
  {
   "cell_type": "code",
   "execution_count": null,
   "id": "8d4bd32f",
   "metadata": {},
   "outputs": [],
   "source": [
    "eval_set = [(new_X_train, y_train), (new_X_test, y_test)]\n",
    "eval_metric = [\"auc\",\"error\"]\n",
    "%time model.fit(X_train, y_train, eval_metric=eval_metric, eval_set=eval_set, verbose=True)"
   ]
  },
  {
   "cell_type": "markdown",
   "id": "3a0d732b",
   "metadata": {},
   "source": [
    "**Random Forest**"
   ]
  },
  {
   "cell_type": "code",
   "execution_count": null,
   "id": "8e5119de",
   "metadata": {},
   "outputs": [],
   "source": [
    "test_model_rand = RandomForestClassifier()\n",
    "\n",
    "test_model_rand.fit(new_X_train, y_train)\n",
    "new_y_pred = test_model_rand.predict(new_X_test)\n",
    "\n",
    "accuracy = accuracy_score(y_test, new_y_pred)\n",
    "print(\"Accuracy:\", accuracy)\n",
    "\n"
   ]
  },
  {
   "cell_type": "code",
   "execution_count": null,
   "id": "ac9831c9",
   "metadata": {},
   "outputs": [],
   "source": [
    "X_pred = test_data[coef_lis]\n",
    "\n",
    "y_rand_test = test_model_rand.predict(X_pred)\n",
    "data_f = pd.DataFrame(y_rand_test)"
   ]
  },
  {
   "cell_type": "code",
   "execution_count": null,
   "id": "d068f807",
   "metadata": {},
   "outputs": [],
   "source": [
    "data_f.to_csv(r\"C:\\Users\\ASUS\\OneDrive\\Documents\\Academics\\Summer Semester\\Dataset\\model_inout\\\")"
   ]
  },
  {
   "cell_type": "code",
   "execution_count": 40,
   "id": "9bf14f9c",
   "metadata": {},
   "outputs": [
    {
     "name": "stdout",
     "output_type": "stream",
     "text": [
      "0.9983515836571294\n"
     ]
    }
   ],
   "source": [
    "model_filename = 'RandomXGB_Toss_01_08.sav'\n",
    "pickle.dump(xg_model, open(model_filename, 'wb'))\n",
    "\n",
    "loaded_model = pickle.load(open(model_filename, 'rb'))\n",
    "result = loaded_model.score(new_X_test, y_test)\n",
    "print(result)"
   ]
  },
  {
   "cell_type": "code",
   "execution_count": null,
   "id": "fef18efc",
   "metadata": {},
   "outputs": [],
   "source": [
    "import io\n",
    "import numpy as np\n",
    "import pandas as pd\n",
    "from keras.models import Sequential\n",
    "from keras.layers import LSTM\n",
    "from keras.layers import Dense\n",
    "from sklearn.preprocessing import LabelEncoder\n"
   ]
  },
  {
   "cell_type": "code",
   "execution_count": 2,
   "id": "e1b2f471",
   "metadata": {},
   "outputs": [
    {
     "ename": "NameError",
     "evalue": "name 'pd' is not defined",
     "output_type": "error",
     "traceback": [
      "\u001b[1;31m---------------------------------------------------------------------------\u001b[0m",
      "\u001b[1;31mNameError\u001b[0m                                 Traceback (most recent call last)",
      "\u001b[1;32m<ipython-input-2-9fa4563d52d5>\u001b[0m in \u001b[0;36m<module>\u001b[1;34m\u001b[0m\n\u001b[1;32m----> 1\u001b[1;33m \u001b[0mraw_data\u001b[0m \u001b[1;33m=\u001b[0m \u001b[0mpd\u001b[0m\u001b[1;33m.\u001b[0m\u001b[0mread_csv\u001b[0m\u001b[1;33m(\u001b[0m\u001b[1;34mr\"C:\\Users\\ASUS\\OneDrive\\Documents\\Academics\\Summer Semester\\Dataset\\model_inout\\DataSet_10_07.csv\"\u001b[0m\u001b[1;33m)\u001b[0m\u001b[1;33m\u001b[0m\u001b[1;33m\u001b[0m\u001b[0m\n\u001b[0m",
      "\u001b[1;31mNameError\u001b[0m: name 'pd' is not defined"
     ]
    }
   ],
   "source": [
    "raw_data = pd.read_csv(r\"C:\\Users\\ASUS\\OneDrive\\Documents\\Academics\\Summer Semester\\Dataset\\model_inout\\DataSet_10_07.csv\")"
   ]
  },
  {
   "cell_type": "code",
   "execution_count": null,
   "id": "5fd010a8",
   "metadata": {},
   "outputs": [],
   "source": [
    "raw_data.columns"
   ]
  },
  {
   "cell_type": "code",
   "execution_count": null,
   "id": "aa94341e",
   "metadata": {},
   "outputs": [],
   "source": [
    "data = raw_data[hit_toss].copy()"
   ]
  },
  {
   "cell_type": "code",
   "execution_count": null,
   "id": "082d9ee0",
   "metadata": {},
   "outputs": [],
   "source": [
    "data.to_csv(\"Hit_Toss_Dataset_26_07.csv\")"
   ]
  },
  {
   "cell_type": "code",
   "execution_count": null,
   "id": "8e747d10",
   "metadata": {},
   "outputs": [],
   "source": [
    "encoder = LabelEncoder()\n",
    "data[\"Class_1\"] = encoder.fit_transform(data[\"Class_1\"])\n",
    "data[\"Class_2\"] = encoder.fit_transform(data[\"Class_2\"])\n",
    "data[\"Out\"] = encoder.fit_transform(data[\"Out\"])"
   ]
  },
  {
   "cell_type": "code",
   "execution_count": null,
   "id": "75cfcb39",
   "metadata": {},
   "outputs": [],
   "source": [
    "#fet = ['NOSE_X','NOSE_Y','NOSE_Z','LEFT_SHOULDER_X','LEFT_SHOULDER_Y','RIGHT_SHOULDER_X','RIGHT_SHOULDER_Z','LEFT_ELBOW_Y','LEFT_ELBOW_Z','RIGHT_ELBOW_X','RIGHT_ELBOW_Z','LEFT_WRIST_Y','LEFT_WRIST_Z','RIGHT_WRIST_X','RIGHT_WRIST_Y','RIGHT_HIP_X','LEFT_KNEE_Z','RIGHT_KNEE_X','RIGHT_ANKLE_Z','LEFT_HEEL_Y','RIGHT_HEEL_X','RIGHT_HEEL_Y','LEFT_FOOT_INDEX_X','LEFT_FOOT_INDEX_Z','Nose-Wrist Angle','Sho-Wrist Angle','Class_1','Class_2','Out']\n",
    "fet = ['NOSE_X','NOSE_Y','LEFT_SHOULDER_X','LEFT_SHOULDER_Y','RIGHT_SHOULDER_X','LEFT_ELBOW_Y','LEFT_ELBOW_Z','RIGHT_ELBOW_X','RIGHT_ELBOW_Z','LEFT_WRIST_Y','LEFT_WRIST_Z','RIGHT_WRIST_Y','RIGHT_HIP_X','RIGHT_KNEE_X','LEFT_HEEL_Y','RIGHT_HEEL_X','RIGHT_HEEL_Y','LEFT_FOOT_INDEX_X','Nose-Wrist Angle','Sho-Wrist Angle','Class_1','Class_2','Out']"
   ]
  },
  {
   "cell_type": "code",
   "execution_count": null,
   "id": "388d5756",
   "metadata": {},
   "outputs": [],
   "source": [
    "#cam3 slow ---- Hit and Toss only\n",
    "df1 = data.iloc[:288]\n",
    "df2 = data.iloc[336:]\n",
    "frames = [df1,df2]\n",
    "dataframe = pd.concat(frames)\n",
    "test = data.iloc[289:336]"
   ]
  },
  {
   "cell_type": "code",
   "execution_count": null,
   "id": "cd995d70",
   "metadata": {},
   "outputs": [],
   "source": [
    "#raw data\n",
    "#df1 = data.iloc[:7539]\n",
    "#df2 = data.iloc[8441:]\n",
    "#frames = [df1,df2]\n",
    "#dataframe = pd.concat(frames)\n",
    "#test = data.iloc[7540:8440]"
   ]
  },
  {
   "cell_type": "code",
   "execution_count": null,
   "id": "863c94c5",
   "metadata": {},
   "outputs": [],
   "source": [
    "#Kev 1 data\n",
    "dataframe = data.iloc[48:]\n",
    "test = data.iloc[:47]"
   ]
  },
  {
   "cell_type": "code",
   "execution_count": null,
   "id": "eba2ec66",
   "metadata": {},
   "outputs": [],
   "source": [
    "dataframe = dataframe[fet]\n",
    "test = test[fet]"
   ]
  },
  {
   "cell_type": "code",
   "execution_count": null,
   "id": "a35d59e9",
   "metadata": {},
   "outputs": [],
   "source": [
    "cols = dataframe.columns[:-1]"
   ]
  },
  {
   "cell_type": "code",
   "execution_count": null,
   "id": "99c57bbf",
   "metadata": {},
   "outputs": [],
   "source": [
    "dataframe"
   ]
  },
  {
   "cell_type": "code",
   "execution_count": null,
   "id": "333fa839",
   "metadata": {},
   "outputs": [],
   "source": [
    "features = len(cols)"
   ]
  },
  {
   "cell_type": "code",
   "execution_count": null,
   "id": "8200e9e1",
   "metadata": {},
   "outputs": [],
   "source": [
    "#model = Sequential()\n",
    "#model.add(LSTM(100, activation = 'tanh',return_sequences = True, input_shape = (1,features)))\n",
    "#model.add(LSTM(40, activation = 'relu'))\n",
    "#model.add(Dense(1, activation = 'sigmoid'))\n",
    "#model.compile(optimizer = 'AdaGrad', loss = 'binary_crossentropy' ,metrics = ['accuracy'])\n",
    "# proff = 46 percent\n",
    "\n",
    "\n",
    "#model = Sequential()\n",
    "#model.add(LSTM(100, activation = 'tanh',return_sequences = True, input_shape = (1,features)))\n",
    "#model.add(LSTM(80, activation = 'relu',return_sequences = True))\n",
    "#model.add(LSTM(60, activation = 'tanh'))\n",
    "#model.add(Dense(1, activation = 'sigmoid'))\n",
    "#model.compile(optimizer = 'AdaGrad', loss = 'binary_crossentropy' ,metrics = ['accuracy'])\n",
    "\n",
    "\n",
    "#model = Sequential()\n",
    "#model.add(LSTM(100, activation = 'tanh',return_sequences = True, input_shape = (1,features)))\n",
    "#model.add(LSTM(80, activation = 'relu',return_sequences = True))\n",
    "#model.add(LSTM(60, activation = 'swish'))\n",
    "\n",
    "#model.add(Dense(1, activation = 'sigmoid'))\n",
    "#model.compile(optimizer = 'AdaGrad', loss = 'binary_crossentropy' ,metrics = ['accuracy'])\n",
    "\n",
    "#model = Sequential()\n",
    "#model.add(LSTM(100, activation = 'sigmoid',return_sequences = True, input_shape = (1,features)))\n",
    "#model.add(LSTM(60, activation = 'sigmoid',return_sequences = True))\n",
    "#model.add(LSTM(40, activation = 'sigmoid'))\n",
    "\n",
    "#model.add(Dense(1, activation = 'sigmoid'))\n",
    "#model.compile(optimizer = 'AdaGrad', loss = 'binary_crossentropy' ,metrics = ['accuracy'])\n",
    "#== best var.. unpro == 23 and pro==48\n",
    "\n",
    "\n",
    "#model = Sequential()\n",
    "#model.add(LSTM(100, activation = 'relu',return_sequences = True, input_shape = (1,features)))\n",
    "#model.add(LSTM(60, activation = 'relu',return_sequences = True))\n",
    "#model.add(LSTM(40, activation = 'sigmoid'))\n",
    "\n",
    "#model.add(Dense(1, activation = 'sigmoid'))\n",
    "#model.compile(optimizer = 'AdaGrad', loss = 'binary_crossentropy' ,metrics = ['accuracy'])\n",
    "#unpro = 36 and pro >50 \n",
    "\n",
    "#model = Sequential()\n",
    "#model.add(LSTM(100, activation = 'sigmoid',return_sequences = True, input_shape = (1,features)))\n",
    "#model.add(LSTM(60, activation = 'tanh',return_sequences = True))\n",
    "#model.add(LSTM(40, activation = 'sigmoid'))\n",
    "\n",
    "#model.add(Dense(1, activation = 'sigmoid'))\n",
    "#model.compile(optimizer = 'Adam', loss = 'binary_crossentropy' ,metrics = ['accuracy'])\n",
    "# unpro+2 = pro percent-- Sensible model\n",
    "\n",
    "#model = Sequential()\n",
    "#model.add(LSTM(100, activation = 'tanh',return_sequences = True, input_shape = (1,features)))\n",
    "#model.add(LSTM(60, activation = 'relu',return_sequences = True))\n",
    "#model.add(LSTM(40, activation = 'swish'))\n",
    "\n",
    "#model.add(Dense(1, activation = 'sigmoid'))\n",
    "#model.compile(optimizer = 'Adam', loss = 'binary_crossentropy' ,metrics = ['accuracy'])\n",
    "# highest accuracy = 0.8837. but percent of pro similar to unpro"
   ]
  },
  {
   "cell_type": "code",
   "execution_count": null,
   "id": "850b1393",
   "metadata": {},
   "outputs": [],
   "source": [
    "model = Sequential()\n",
    "model.add(LSTM(100, activation = 'tanh',return_sequences = True, input_shape = (1,features)))\n",
    "model.add(LSTM(80, activation = 'relu',return_sequences = True))\n",
    "model.add(LSTM(60, activation = 'swish'))\n",
    "\n",
    "model.add(Dense(1, activation = 'sigmoid'))\n",
    "model.compile(optimizer = 'Adam', loss = 'binary_crossentropy' ,metrics = ['accuracy'])"
   ]
  },
  {
   "cell_type": "code",
   "execution_count": null,
   "id": "d11f31be",
   "metadata": {},
   "outputs": [],
   "source": [
    "X = dataframe[fet[:-1]]\n",
    "X = np.resize(X,(X.shape[0],1,X.shape[1]))  \n",
    "y = dataframe[fet[-1]]\n",
    "model.fit(X,y,batch_size= len(X),epochs =20)"
   ]
  },
  {
   "cell_type": "code",
   "execution_count": 1,
   "id": "f29aee50",
   "metadata": {},
   "outputs": [
    {
     "ename": "NameError",
     "evalue": "name 'y' is not defined",
     "output_type": "error",
     "traceback": [
      "\u001b[1;31m---------------------------------------------------------------------------\u001b[0m",
      "\u001b[1;31mNameError\u001b[0m                                 Traceback (most recent call last)",
      "\u001b[1;32m<ipython-input-1-9063a9f0e032>\u001b[0m in \u001b[0;36m<module>\u001b[1;34m\u001b[0m\n\u001b[1;32m----> 1\u001b[1;33m \u001b[0my\u001b[0m\u001b[1;33m\u001b[0m\u001b[1;33m\u001b[0m\u001b[0m\n\u001b[0m",
      "\u001b[1;31mNameError\u001b[0m: name 'y' is not defined"
     ]
    }
   ],
   "source": [
    "y"
   ]
  },
  {
   "cell_type": "code",
   "execution_count": null,
   "id": "9fee9cdc",
   "metadata": {},
   "outputs": [],
   "source": [
    "# Final evaluation of the model\n",
    "scores = model.evaluate(X_test, y_test, verbose=0)\n",
    "print(\"Accuracy: %.2f%%\" % (scores[1]*100))"
   ]
  },
  {
   "cell_type": "code",
   "execution_count": null,
   "id": "1365c4ab",
   "metadata": {},
   "outputs": [],
   "source": [
    "pred_test = test[test.columns[:-1]]\n",
    "pred_test[\"Class_1\"] = encoder.fit_transform(pred_test[\"Class_1\"])\n",
    "pred_test[\"Class_2\"] = encoder.fit_transform(pred_test[\"Class_2\"])\n",
    "X_pred = np.resize(pred_test,(pred_test.shape[0],1,pred_test.shape[1]))"
   ]
  },
  {
   "cell_type": "code",
   "execution_count": null,
   "id": "ffa4bf15",
   "metadata": {},
   "outputs": [],
   "source": [
    "   "
   ]
  },
  {
   "cell_type": "code",
   "execution_count": 18,
   "id": "febeb4df",
   "metadata": {},
   "outputs": [],
   "source": [
    "import pandas as pd\n",
    "import pickle"
   ]
  },
  {
   "cell_type": "code",
   "execution_count": 19,
   "id": "db2bafe5",
   "metadata": {},
   "outputs": [],
   "source": [
    "data = pd.read_csv(r\"C:\\Users\\ASUS\\OneDrive\\Documents\\Academics\\Summer Semester\\Dataset\\CSVs\\Kevflipped3.csv\")"
   ]
  },
  {
   "cell_type": "code",
   "execution_count": 24,
   "id": "c3886f58",
   "metadata": {},
   "outputs": [
    {
     "data": {
      "text/plain": [
       "Index(['Unnamed: 0', 'NOSE_X', 'NOSE_Y', 'NOSE_Z', 'LEFT_SHOULDER_X',\n",
       "       'LEFT_SHOULDER_Y', 'LEFT_SHOULDER_Z', 'RIGHT_SHOULDER_X',\n",
       "       'RIGHT_SHOULDER_Y', 'RIGHT_SHOULDER_Z', 'LEFT_ELBOW_X', 'LEFT_ELBOW_Y',\n",
       "       'LEFT_ELBOW_Z', 'RIGHT_ELBOW_X', 'RIGHT_ELBOW_Y', 'RIGHT_ELBOW_Z',\n",
       "       'LEFT_WRIST_X', 'LEFT_WRIST_Y', 'LEFT_WRIST_Z', 'RIGHT_WRIST_X',\n",
       "       'RIGHT_WRIST_Y', 'RIGHT_WRIST_Z', 'LEFT_HIP_X', 'LEFT_HIP_Y',\n",
       "       'LEFT_HIP_Z', 'RIGHT_HIP_X', 'RIGHT_HIP_Y', 'RIGHT_HIP_Z',\n",
       "       'LEFT_KNEE_X', 'LEFT_KNEE_Y', 'LEFT_KNEE_Z', 'RIGHT_KNEE_X',\n",
       "       'RIGHT_KNEE_Y', 'RIGHT_KNEE_Z', 'LEFT_ANKLE_X', 'LEFT_ANKLE_Y',\n",
       "       'LEFT_ANKLE_Z', 'RIGHT_ANKLE_X', 'RIGHT_ANKLE_Y', 'RIGHT_ANKLE_Z',\n",
       "       'LEFT_HEEL_X', 'LEFT_HEEL_Y', 'LEFT_HEEL_Z', 'RIGHT_HEEL_X',\n",
       "       'RIGHT_HEEL_Y', 'RIGHT_HEEL_Z', 'LEFT_FOOT_INDEX_X',\n",
       "       'LEFT_FOOT_INDEX_Y', 'LEFT_FOOT_INDEX_Z', 'RIGHT_FOOT_INDEX_X',\n",
       "       'RIGHT_FOOT_INDEX_Y', 'RIGHT_FOOT_INDEX_Z', 'Nose-Wrist Angle',\n",
       "       'Sho-Wrist Angle'],\n",
       "      dtype='object')"
      ]
     },
     "execution_count": 24,
     "metadata": {},
     "output_type": "execute_result"
    }
   ],
   "source": [
    "data.columns"
   ]
  },
  {
   "cell_type": "code",
   "execution_count": 23,
   "id": "841fb180",
   "metadata": {},
   "outputs": [],
   "source": [
    "da_fr = cal_ang(data)\n",
    "data[\"Nose-Wrist Angle\"] = da_fr[0]\n",
    "data[\"Sho-Wrist Angle\"] = da_fr[1]"
   ]
  },
  {
   "cell_type": "code",
   "execution_count": 53,
   "id": "fbcfed00",
   "metadata": {},
   "outputs": [],
   "source": [
    "data.to_csv(r\"C:\\Users\\ASUS\\OneDrive\\Documents\\Academics\\Summer Semester\\Dataset\\Kevflipped3.csv\")"
   ]
  },
  {
   "cell_type": "code",
   "execution_count": 83,
   "id": "2a02115d",
   "metadata": {},
   "outputs": [],
   "source": [
    "pickled_model = pickle.load(open(r\"C:\\Users\\ASUS\\OneDrive\\Documents\\Academics\\Summer Semester\\Hit Classifier Models\\XGBoost_Hit_01_07.sav\", 'rb'))"
   ]
  },
  {
   "cell_type": "code",
   "execution_count": 84,
   "id": "7f5895e5",
   "metadata": {},
   "outputs": [],
   "source": [
    "fet = pickled_model.get_booster().feature_names"
   ]
  },
  {
   "cell_type": "code",
   "execution_count": 85,
   "id": "d44c2dea",
   "metadata": {},
   "outputs": [],
   "source": [
    "output = pickled_model.predict(data[fet])"
   ]
  },
  {
   "cell_type": "code",
   "execution_count": 78,
   "id": "3527c323",
   "metadata": {},
   "outputs": [],
   "source": [
    "th = pred_check(output)"
   ]
  },
  {
   "cell_type": "code",
   "execution_count": 77,
   "id": "98de55c4",
   "metadata": {},
   "outputs": [],
   "source": [
    "def pred_check(arr):\n",
    "    if arr[0] != 0:\n",
    "        arr[0] = 0\n",
    "\n",
    "    for i in range(len(arr) - 1):\n",
    "        if arr[i] == 0 and arr[i+1] == 1:\n",
    "            arr[i+1] = 2\n",
    "        if arr[i] == 2 and arr[i + 1] == 0:\n",
    "            arr[i + 1] = 1\n",
    "        if arr[i] == 1 and arr[i + 1] != 1:\n",
    "            arr[i + 1] = 1\n",
    "\n",
    "    \n",
    "    return arr\n"
   ]
  },
  {
   "cell_type": "code",
   "execution_count": 25,
   "id": "66405f33",
   "metadata": {},
   "outputs": [],
   "source": [
    "df = pd.DataFrame(random_search.predict(data[coef_lis]))"
   ]
  },
  {
   "cell_type": "code",
   "execution_count": 28,
   "id": "5a7e1049",
   "metadata": {},
   "outputs": [
    {
     "data": {
      "text/plain": [
       "array([1, 1, 1, 1, 1, 1, 1, 1, 1, 1, 1, 1, 1, 1, 1, 1, 1, 1, 1, 1, 1, 1,\n",
       "       1, 1, 1, 1, 1, 1, 1, 1, 1, 1, 1, 1, 1, 1, 1, 1, 1, 1, 1, 1, 1, 1,\n",
       "       1, 1, 1, 1, 1, 1, 1, 1, 1, 1, 1, 1, 1, 1, 1, 1, 1, 1, 1, 1, 1, 1,\n",
       "       1, 1, 1, 1, 1, 1, 1, 1, 1, 1, 1, 1, 1, 1, 1, 1, 1, 1, 1, 1, 1, 1,\n",
       "       1, 1, 1, 1, 1, 1, 1, 1, 1, 1, 1, 1, 1, 1, 1, 1, 1, 1, 1, 1, 1, 1,\n",
       "       1, 1, 1, 1, 1, 1, 1, 1, 1, 1, 1, 1, 1, 1, 1, 1, 1, 1, 1, 1, 1, 1,\n",
       "       1, 1, 1, 1, 1, 1, 1, 1, 1, 1, 1, 1, 1, 1, 1, 1, 1, 1, 1, 1, 1, 1,\n",
       "       1, 1, 1, 1, 1, 1, 1, 1, 1, 1, 1, 1, 1, 1, 1, 1, 1, 1, 1, 1, 1, 1,\n",
       "       1, 1, 1, 1, 1, 1, 1, 1, 1, 1, 1, 1, 1, 1, 1, 1, 1, 1, 1, 1, 1, 1,\n",
       "       1, 1, 1, 1, 1, 1, 1, 1, 1, 1, 1, 1, 1, 1, 1, 1, 1, 1, 1, 1, 1, 1,\n",
       "       1, 1, 1, 1, 1, 1, 1, 1, 1, 1, 1, 1, 1, 1, 1, 1, 1, 1, 1, 1, 1, 1,\n",
       "       1, 1, 1, 1, 1, 1, 1, 1, 1, 1, 1, 1, 1, 1, 1, 1, 1, 1, 1, 1, 1, 1,\n",
       "       1, 1, 1, 1, 1, 1, 1, 1, 1, 1, 1, 1, 1, 1, 1, 1, 1, 1, 1, 1, 1, 1,\n",
       "       1, 1, 1, 1, 1, 1, 1, 1, 1, 1, 1, 1, 1, 1, 1, 1, 1, 1, 1, 1, 1, 1,\n",
       "       1, 1, 1, 1, 1, 1, 1, 1, 1, 1, 1, 1, 1, 1, 1, 1, 1, 1, 1, 1, 1, 1,\n",
       "       1, 1, 1, 1, 1, 1, 1, 1, 1, 1, 1, 1, 1, 1, 1, 1, 1, 1, 1, 1, 1, 1,\n",
       "       1, 1, 1, 1, 1, 1, 1, 1, 1, 1, 1, 1, 1, 1, 1, 1, 1, 1, 1, 1, 1, 1,\n",
       "       1, 1, 1, 1, 1, 1, 1, 1, 1, 1, 1, 1, 1, 1, 1, 1, 1, 1, 1, 1, 1, 1,\n",
       "       1, 1, 1, 1, 1, 1, 1, 1, 1, 1, 1, 1, 1, 1, 1, 1, 1, 1, 1, 1, 1, 1,\n",
       "       1, 1, 1, 1, 1, 1, 1, 1, 1, 1, 1, 1, 1, 1, 1, 1, 1, 1, 1, 1, 1, 1,\n",
       "       1, 1, 1, 1, 1, 1, 1, 1, 1, 1, 1, 1, 1, 1, 1, 1, 1, 1, 1, 1, 1, 1,\n",
       "       1, 1, 1, 1, 1, 1, 1, 1, 1, 1, 1, 1, 1, 1, 1, 1, 1, 1, 1, 1, 1, 1,\n",
       "       1, 1, 1, 1, 1, 1, 1, 1, 1, 1, 1, 1, 1, 1, 1, 1, 1, 1, 1, 1, 1, 1,\n",
       "       1, 1, 1, 1, 1, 1, 1, 1, 1, 1, 1, 1, 1, 1, 1, 1, 1, 1, 1, 1, 1, 1,\n",
       "       1, 1, 1, 1, 1, 1, 1, 1, 1, 1, 1, 1, 1, 1, 1, 1, 1, 1, 1, 1, 1, 1,\n",
       "       1, 1, 1, 1, 1, 1, 1, 1, 1, 1, 1, 1, 1, 1, 1, 1, 1], dtype=int64)"
      ]
     },
     "execution_count": 28,
     "metadata": {},
     "output_type": "execute_result"
    }
   ],
   "source": [
    "random_search.predict(data[coef_lis])"
   ]
  },
  {
   "cell_type": "code",
   "execution_count": 79,
   "id": "eba8ca3d",
   "metadata": {},
   "outputs": [
    {
     "data": {
      "text/plain": [
       "array([0, 2, 2, 2, 2, 2, 2, 2, 2, 2, 2, 2, 2, 2, 2, 2, 2, 2, 2, 2, 2, 2,\n",
       "       2, 2, 2, 2, 2, 2, 2, 2, 2, 2, 2, 2, 2, 2, 2, 2, 2, 2, 2, 2, 2, 2,\n",
       "       2, 2, 2, 2, 2, 2, 2, 2, 2, 2, 2, 2, 2, 2, 2, 2, 2, 2, 2, 2, 2, 2,\n",
       "       2, 2, 2, 2, 2, 2, 2, 2, 2, 2, 2, 2, 2, 2, 2, 2, 2, 2, 2, 2, 2, 2,\n",
       "       2, 2, 2, 2, 2, 2, 2, 2, 2, 2, 2, 2, 2, 2, 2, 2, 2, 2, 2, 2, 2, 2,\n",
       "       2, 2, 2, 2, 2, 2, 2, 2, 2, 2, 2, 2, 2, 2, 2, 2, 2, 2, 2, 2, 2, 2,\n",
       "       2, 2, 2, 2, 2, 2, 2, 2, 2, 2, 2, 2, 2, 2, 2, 2, 2, 2, 2, 2, 2, 2,\n",
       "       2, 2, 2, 2, 2, 2, 2, 2, 2, 2, 2, 2, 2, 2, 2, 2, 2, 2, 2, 2, 2, 2,\n",
       "       2, 2, 2, 2, 2, 2, 2, 2, 2, 2, 2, 2, 2, 2, 2, 2, 2, 2, 2, 2, 2, 2,\n",
       "       2, 2, 2, 2, 2, 2, 2, 2, 2, 2, 2, 2, 2, 2, 2, 2, 2, 2, 2, 2, 2, 2,\n",
       "       2, 2, 2, 2, 2, 2, 2, 2, 2, 2, 2, 2, 2, 2, 2, 2, 2, 2, 2, 2, 2, 2,\n",
       "       2, 2, 2, 2, 2, 2, 2, 2, 2, 2, 2, 2, 2, 2, 2, 2, 2, 2, 2, 2, 2, 2,\n",
       "       2, 2, 2, 2, 2, 2, 2, 2, 2, 2, 2, 2, 2, 2, 2, 2, 2, 2, 2, 2, 2, 2,\n",
       "       2, 2, 2, 2, 2, 2, 2, 2, 2, 2, 2, 2, 2, 2, 2, 2, 2, 2, 2, 2, 2, 2,\n",
       "       2, 2, 2, 2, 2, 2, 2, 2, 2, 2, 2, 2, 2, 2, 2, 2, 2, 2, 2, 2, 2, 2,\n",
       "       2, 2, 2, 2, 2, 2, 2, 2, 2, 2, 2, 2, 2, 2, 2, 2, 2, 2, 2, 2, 2, 2,\n",
       "       2, 2, 2, 2, 2, 2, 2, 2, 2, 2, 2, 2, 2, 2, 2, 2, 2, 2, 2, 2, 2, 2,\n",
       "       2, 2, 2, 2, 2, 2, 2, 2, 2, 2, 2, 2, 2, 2, 2, 2, 2, 2, 2, 2, 2, 2,\n",
       "       2, 2, 2, 2, 2, 2, 2, 2, 2, 2, 2, 2, 2, 2, 2, 2, 2, 2, 2, 2, 2, 2,\n",
       "       2, 2, 2, 2, 2, 2, 2, 2, 2, 2, 2, 2, 2, 2, 2, 2, 2, 2, 2, 2, 2, 2,\n",
       "       2, 2, 2, 2, 2, 2, 2, 2, 2, 2, 2, 2, 2, 2, 2, 2, 2, 2, 2, 2, 2, 2,\n",
       "       2, 2, 2, 2, 2, 2, 2, 2, 2, 2, 2, 2, 2, 2, 2, 2, 2, 2, 2, 2, 2, 2,\n",
       "       2, 2, 2, 2, 2, 2, 2, 2, 2, 2, 2, 2, 2, 2, 2, 2, 2, 2, 2, 2, 2, 2,\n",
       "       2, 2, 2, 2, 2, 2, 2, 2, 2, 2, 2, 2, 2, 2, 2, 2, 2, 2, 2, 2, 2, 2,\n",
       "       2, 2, 2, 2, 2, 2, 2, 2, 2, 2, 2, 2, 2, 2, 2, 2, 2, 2, 2, 2, 2, 2,\n",
       "       2, 2, 2, 2, 2, 2, 2, 2, 2, 2, 2, 2, 2, 2, 2, 2, 1], dtype=int64)"
      ]
     },
     "execution_count": 79,
     "metadata": {},
     "output_type": "execute_result"
    }
   ],
   "source": [
    "th"
   ]
  },
  {
   "cell_type": "code",
   "execution_count": 27,
   "id": "75728da4",
   "metadata": {},
   "outputs": [],
   "source": [
    "df.to_csv(r\"C:\\Users\\ASUS\\OneDrive\\Documents\\Academics\\Summer Semester\\Dataset\\model_inout\\OOOOOOOOOOOOOO.csv\")"
   ]
  },
  {
   "cell_type": "code",
   "execution_count": null,
   "id": "4e28c054",
   "metadata": {},
   "outputs": [],
   "source": []
  }
 ],
 "metadata": {
  "kernelspec": {
   "display_name": "Python 3",
   "language": "python",
   "name": "python3"
  },
  "language_info": {
   "codemirror_mode": {
    "name": "ipython",
    "version": 3
   },
   "file_extension": ".py",
   "mimetype": "text/x-python",
   "name": "python",
   "nbconvert_exporter": "python",
   "pygments_lexer": "ipython3",
   "version": "3.8.8"
  }
 },
 "nbformat": 4,
 "nbformat_minor": 5
}
