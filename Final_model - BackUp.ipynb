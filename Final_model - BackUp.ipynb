{
 "cells": [
  {
   "cell_type": "code",
   "execution_count": 20,
   "id": "4558df48",
   "metadata": {},
   "outputs": [],
   "source": [
    "import cv2\n",
    "import pandas as pd\n",
    "import mediapipe as mp\n",
    "from PIL import Image\n",
    "\n",
    "import os\n",
    "from random import randint\n",
    "import pandas as pd\n",
    "import numpy as np\n",
    "import matplotlib.pyplot as plt\n",
    "import math\n",
    "import pickle\n",
    "import cv2\n",
    "\n",
    "from xgboost import XGBClassifier\n",
    "from sklearn import preprocessing\n",
    "from sklearn.ensemble import RandomForestClassifier\n",
    "from sklearn.preprocessing import StandardScaler\n",
    "from sklearn.metrics import accuracy_score, precision_score, recall_score, f1_score,make_scorer\n",
    "\n",
    "from sklearn.model_selection import train_test_split\n",
    "from sklearn.metrics import classification_report\n",
    "\n",
    "\n",
    "from random import uniform\n",
    "from scipy.stats import randint\n",
    "from sklearn.linear_model import Lasso\n",
    "from sklearn.linear_model import LassoCV\n",
    "from sklearn.model_selection import StratifiedKFold, RandomizedSearchCV\n",
    "from sklearn.model_selection import train_test_split\n",
    "from sklearn.metrics import mean_squared_error,log_loss\n",
    "\n",
    "import io\n",
    "import numpy as np\n",
    "import pandas as pd\n",
    "from sklearn.preprocessing import LabelEncoder\n",
    "\n",
    "from sklearn.metrics import confusion_matrix\n",
    "import matplotlib.pyplot as plt\n",
    "import seaborn as sns\n",
    "from keras.layers import Dropout\n",
    "\n",
    "import sklearn\n",
    "from sklearn.metrics import ConfusionMatrixDisplay\n",
    "from sklearn.metrics import classification_report\n",
    "\n",
    "from sklearn.metrics import roc_curve, roc_auc_score\n",
    "import matplotlib.pyplot as plt\n",
    "\n",
    "\n",
    "import numpy as np\n",
    "import keras\n",
    "from keras.models import Sequential\n",
    "from keras.layers import LSTM, Dense\n",
    "from keras.models import load_model\n",
    "from sklearn.model_selection import cross_val_score\n",
    "\n",
    "from tensorflow.keras.optimizers import Adam\n",
    "\n",
    "from keras.layers import Dense, Dropout, Activation\n",
    "from sklearn.model_selection import GridSearchCV\n",
    "from pandas import read_csv\n",
    "from tensorflow.keras.models import Sequential\n",
    "from tensorflow.keras.layers import Dense\n",
    "from scikeras.wrappers import KerasClassifier\n",
    "from sklearn.model_selection import cross_val_score\n",
    "from sklearn.preprocessing import LabelEncoder\n",
    "from sklearn.model_selection import StratifiedKFold\n",
    "import seaborn as sns\n",
    "#import matplotlib as plt\n",
    "from keras.callbacks import LearningRateScheduler\n",
    "import numpy as np\n",
    "\n",
    "\n",
    "from tensorflow.keras.models import save_model\n",
    "import tensorflow as tf\n",
    "\n",
    "#pip install tensorflow==2.7.0 --user"
   ]
  },
  {
   "cell_type": "code",
   "execution_count": 45,
   "id": "bcddf224",
   "metadata": {},
   "outputs": [],
   "source": [
    "#importing required libraries from mediapipe to draw and to perfom pose estimation from the video\n",
    "mp_drawing = mp.solutions.drawing_utils\n",
    "mp_pose = mp.solutions.pose\n",
    "\n",
    "#Initializing an empty dataframe with the required body landmarks as columns\n",
    "df = pd.DataFrame(columns = ['NOSE_X', 'NOSE_Y', 'NOSE_Z', 'LEFT_SHOULDER_X', 'LEFT_SHOULDER_Y',\n",
    "       'LEFT_SHOULDER_Z', 'RIGHT_SHOULDER_X', 'RIGHT_SHOULDER_Y',\n",
    "       'RIGHT_SHOULDER_Z', 'LEFT_ELBOW_X', 'LEFT_ELBOW_Y', 'LEFT_ELBOW_Z',\n",
    "       'RIGHT_ELBOW_X', 'RIGHT_ELBOW_Y', 'RIGHT_ELBOW_Z', 'LEFT_WRIST_X',\n",
    "       'LEFT_WRIST_Y', 'LEFT_WRIST_Z', 'RIGHT_WRIST_X', 'RIGHT_WRIST_Y',\n",
    "       'RIGHT_WRIST_Z', 'LEFT_HIP_X', 'LEFT_HIP_Y', 'LEFT_HIP_Z',\n",
    "       'RIGHT_HIP_X', 'RIGHT_HIP_Y', 'RIGHT_HIP_Z', 'LEFT_KNEE_X',\n",
    "       'LEFT_KNEE_Y', 'LEFT_KNEE_Z', 'RIGHT_KNEE_X', 'RIGHT_KNEE_Y',\n",
    "       'RIGHT_KNEE_Z', 'LEFT_ANKLE_X', 'LEFT_ANKLE_Y', 'LEFT_ANKLE_Z',\n",
    "       'RIGHT_ANKLE_X', 'RIGHT_ANKLE_Y', 'RIGHT_ANKLE_Z', 'LEFT_HEEL_X',\n",
    "       'LEFT_HEEL_Y', 'LEFT_HEEL_Z', 'RIGHT_HEEL_X', 'RIGHT_HEEL_Y',\n",
    "       'RIGHT_HEEL_Z', 'LEFT_FOOT_INDEX_X', 'LEFT_FOOT_INDEX_Y',\n",
    "       'LEFT_FOOT_INDEX_Z', 'RIGHT_FOOT_INDEX_X', 'RIGHT_FOOT_INDEX_Y',\n",
    "       'RIGHT_FOOT_INDEX_Z'])\n",
    "\n",
    "\n",
    "#Reading the video using CV2\n",
    "cap = cv2.VideoCapture(r\"C:\\Users\\ASUS\\OneDrive\\Documents\\Academics\\Summer Semester\\Dataset\\individual serves - side camera\\cameron's serves\\cam 2 slow.mov\")\n",
    "#output_file = r\"C:\\Users\\ASUS\\OneDrive\\Documents\\Academics\\Summer Semester\\Dataset\\individual serves - side camera\\Kev's Serves\\output_data.json\"\n",
    "pose = mp.solutions.pose.Pose(static_image_mode=False, min_detection_confidence=0.5, model_complexity=2)\n",
    "\n",
    "# The mininimum detection confidance and tracking confidence of mediapipe is set to 0.5 and while video is opened the it is\n",
    "# extracted into frames and landmarks are extracted from each frame and saved it as each row of dataframe 'df'\n",
    "\n",
    "with mp_pose.Pose(min_detection_confidence=0.5, min_tracking_confidence=0.5) as pose:\n",
    "    while cap.isOpened():\n",
    "            \n",
    "        \n",
    "        ret, frame = cap.read()\n",
    "\n",
    "\n",
    "        #flipped_frame = cv2.flip(frame, 1)\n",
    "\n",
    "        #pil_image = Image.fromarray(cv2.cvtColor(frame, cv2.COLOR_BGR2RGB))\n",
    "\n",
    "        #pil_image.show()\n",
    "\n",
    "\n",
    "        if not ret:\n",
    "\n",
    "            break\n",
    "\n",
    "        else:\n",
    "            #print(ret,\"\\n\")\n",
    "            RGB = cv2.cvtColor(frame, cv2.COLOR_BGR2RGB)\n",
    "\n",
    "\n",
    "            results = pose.process(RGB)\n",
    "\n",
    "            if results.pose_landmarks == None:\n",
    "\n",
    "                continue\n",
    "\n",
    "            else:\n",
    "\n",
    "                landmarks = results.pose_landmarks.landmark\n",
    "\n",
    "                #print(\"Cord------\",landmarks[mp_pose.PoseLandmark.LEFT_SHOULDER.value].x)\n",
    "\n",
    "                nose_x =  landmarks[mp_pose.PoseLandmark.NOSE.value].x\n",
    "                nose_Y =  landmarks[mp_pose.PoseLandmark.NOSE.value].y\n",
    "                nose_z =  landmarks[mp_pose.PoseLandmark.NOSE.value].z\n",
    "\n",
    "                left_sho_x = landmarks[mp_pose.PoseLandmark.LEFT_SHOULDER.value].x\n",
    "                left_sho_y = landmarks[mp_pose.PoseLandmark.LEFT_SHOULDER.value].y\n",
    "                left_sho_z = landmarks[mp_pose.PoseLandmark.LEFT_SHOULDER.value].z\n",
    "\n",
    "                right_sho_x = landmarks[mp_pose.PoseLandmark.RIGHT_SHOULDER.value].x\n",
    "                right_sho_y = landmarks[mp_pose.PoseLandmark.RIGHT_SHOULDER.value].y\n",
    "                right_sho_z = landmarks[mp_pose.PoseLandmark.RIGHT_SHOULDER.value].z\n",
    "\n",
    "                left_elb_x = landmarks[mp_pose.PoseLandmark.LEFT_ELBOW.value].x\n",
    "                left_elb_y = landmarks[mp_pose.PoseLandmark.LEFT_ELBOW.value].y\n",
    "                left_elb_z = landmarks[mp_pose.PoseLandmark.LEFT_ELBOW.value].z\n",
    "\n",
    "                right_elb_x = landmarks[mp_pose.PoseLandmark.RIGHT_ELBOW.value].x\n",
    "                right_elb_y = landmarks[mp_pose.PoseLandmark.RIGHT_ELBOW.value].y\n",
    "                right_elb_z = landmarks[mp_pose.PoseLandmark.RIGHT_ELBOW.value].z\n",
    "\n",
    "                left_wrist_x = landmarks[mp_pose.PoseLandmark.LEFT_WRIST.value].x\n",
    "                left_wrist_y = landmarks[mp_pose.PoseLandmark.LEFT_WRIST.value].y\n",
    "                left_wrist_z = landmarks[mp_pose.PoseLandmark.LEFT_WRIST.value].z\n",
    "\n",
    "                right_wrist_x = landmarks[mp_pose.PoseLandmark.RIGHT_WRIST.value].x\n",
    "                right_wrist_y = landmarks[mp_pose.PoseLandmark.RIGHT_WRIST.value].y\n",
    "                right_wrist_z = landmarks[mp_pose.PoseLandmark.RIGHT_WRIST.value].z\n",
    "\n",
    "                left_hip_x = landmarks[mp_pose.PoseLandmark.LEFT_HIP.value].x\n",
    "                left_hip_y = landmarks[mp_pose.PoseLandmark.LEFT_HIP.value].y\n",
    "                left_hip_z = landmarks[mp_pose.PoseLandmark.LEFT_HIP.value].z\n",
    "\n",
    "                right_hip_x = landmarks[mp_pose.PoseLandmark.RIGHT_HIP.value].x\n",
    "                right_hip_y = landmarks[mp_pose.PoseLandmark.RIGHT_HIP.value].y\n",
    "                right_hip_z = landmarks[mp_pose.PoseLandmark.RIGHT_HIP.value].z\n",
    "\n",
    "                left_knee_x = landmarks[mp_pose.PoseLandmark.LEFT_KNEE.value].x\n",
    "                left_knee_y = landmarks[mp_pose.PoseLandmark.LEFT_KNEE.value].y\n",
    "                left_knee_z = landmarks[mp_pose.PoseLandmark.LEFT_KNEE.value].z\n",
    "\n",
    "                right_knee_x = landmarks[mp_pose.PoseLandmark.RIGHT_KNEE.value].x\n",
    "                right_knee_y = landmarks[mp_pose.PoseLandmark.RIGHT_KNEE.value].y\n",
    "                right_knee_z = landmarks[mp_pose.PoseLandmark.RIGHT_KNEE.value].z           \n",
    "\n",
    "                left_ankle_x = landmarks[mp_pose.PoseLandmark.LEFT_ANKLE.value].x\n",
    "                left_ankle_y = landmarks[mp_pose.PoseLandmark.LEFT_ANKLE.value].y\n",
    "                left_ankle_z = landmarks[mp_pose.PoseLandmark.LEFT_ANKLE.value].z\n",
    "\n",
    "                right_ankle_x = landmarks[mp_pose.PoseLandmark.RIGHT_ANKLE.value].x\n",
    "                right_ankle_y = landmarks[mp_pose.PoseLandmark.RIGHT_ANKLE.value].y\n",
    "                right_ankle_z = landmarks[mp_pose.PoseLandmark.RIGHT_ANKLE.value].z\n",
    "\n",
    "                left_heel_x = landmarks[mp_pose.PoseLandmark.LEFT_HEEL.value].x\n",
    "                left_heel_y = landmarks[mp_pose.PoseLandmark.LEFT_HEEL.value].y\n",
    "                left_heel_z = landmarks[mp_pose.PoseLandmark.LEFT_HEEL.value].z\n",
    "\n",
    "                right_heel_x = landmarks[mp_pose.PoseLandmark.RIGHT_HEEL.value].x\n",
    "                right_heel_y = landmarks[mp_pose.PoseLandmark.RIGHT_HEEL.value].y\n",
    "                right_heel_z = landmarks[mp_pose.PoseLandmark.RIGHT_HEEL.value].z\n",
    "\n",
    "                left_foot_index_x = landmarks[mp_pose.PoseLandmark.RIGHT_FOOT_INDEX.value].x\n",
    "                left_foot_index_y = landmarks[mp_pose.PoseLandmark.RIGHT_FOOT_INDEX.value].y\n",
    "                left_foot_index_z = landmarks[mp_pose.PoseLandmark.RIGHT_FOOT_INDEX.value].z\n",
    "\n",
    "                right_foot_index_x = landmarks[mp_pose.PoseLandmark.RIGHT_FOOT_INDEX.value].x\n",
    "                right_foot_index_y = landmarks[mp_pose.PoseLandmark.RIGHT_FOOT_INDEX.value].y\n",
    "                right_foot_index_z = landmarks[mp_pose.PoseLandmark.RIGHT_FOOT_INDEX.value].z\n",
    "\n",
    "                #res_list.append([nose_x,nose_Y,nose_z,left_sho_x,left_sho_y,left_sho_z,right_sho_x,right_sho_y,right_sho_z,left_elb_x,left_elb_y,left_elb_z,right_elb_x,right_elb_y,right_elb_z,left_wrist_x,left_wrist_y,left_wrist_z,right_wrist_x,right_wrist_y,right_wrist_z,left_hip_x,left_hip_y,left_hip_z,right_hip_x,right_hip_y,right_hip_z,left_knee_x,left_knee_y,left_knee_z,right_knee_x,right_knee_y,right_knee_z,left_ankle_x,left_ankle_y,left_ankle_z,right_ankle_x,right_ankle_z,left_heel_x,left_heel_y,left_heel_z,right_heel_x,right_heel_y,right_heel_z,left_foot_index_x,left_foot_index_y,left_foot_index_z,right_foot_index_x,right_foot_index_y,right_foot_index_z])\n",
    "\n",
    "\n",
    "                data_row = [nose_x,nose_Y,nose_z,left_sho_x,left_sho_y,left_sho_z,right_sho_x,right_sho_y,right_sho_z,left_elb_x,left_elb_y,left_elb_z,right_elb_x,right_elb_y,right_elb_z,left_wrist_x,left_wrist_y,left_wrist_z,right_wrist_x,right_wrist_y,right_wrist_z,left_hip_x,left_hip_y,left_hip_z,right_hip_x,right_hip_y,right_hip_z,left_knee_x,left_knee_y,left_knee_z,right_knee_x,right_knee_y,right_knee_z,left_ankle_x,left_ankle_y,left_ankle_z,right_ankle_x,right_ankle_y,right_ankle_z,left_heel_x,left_heel_y,left_heel_z,right_heel_x,right_heel_y,right_heel_z,left_foot_index_x,left_foot_index_y,left_foot_index_z,right_foot_index_x,right_foot_index_y,right_foot_index_z]\n",
    "\n",
    "            \n",
    "                \n",
    "                df.loc[len(df)] = data_row\n",
    "                #print(\"---------\",data_row)\n",
    "                #df.append(data_row, ignore_index=True)\n",
    "\n",
    "        mp_drawing.draw_landmarks(frame, results.pose_landmarks, mp_pose.POSE_CONNECTIONS)\n",
    "\n",
    "        # show the final output\n",
    "        #cv2.imshow(r\"Output\", frame)"
   ]
  },
  {
   "cell_type": "code",
   "execution_count": 46,
   "id": "596d1a47",
   "metadata": {},
   "outputs": [],
   "source": [
    "#ball_release = pd.read_csv(r\"C:\\Users\\ASUS\\OneDrive\\Documents\\Academics\\Summer Semester\\Dissertation\\tossstartframes.csv\",header=None)\n",
    "data_path = r\"C:\\Users\\ASUS\\OneDrive\\Documents\\Academics\\Summer Semester\\Dataset\\CSVs\\\\\"\n",
    "#test_data = pd.read_excel(r\"C:\\Users\\ASUS\\OneDrive\\Documents\\Academics\\Summer Semester\\Dataset\\model_inout\\test_25-06.xlsx\")\n",
    "frames = pd.read_csv(r\"C:\\Users\\ASUS\\OneDrive\\Documents\\Academics\\Summer Semester\\Dissertation\\frames.csv\")\n",
    "#cont_frames = pd.read_csv(r\"C:\\Users\\ASUS\\OneDrive\\Documents\\Academics\\Summer Semester\\Dataset\\contactframes.csv\")\n",
    "#ball_toss = pd.read_csv(r\"C:\\Users\\ASUS\\OneDrive\\Documents\\Academics\\Summer Semester\\Dissertation\\tossstartframes.csv\")"
   ]
  },
  {
   "cell_type": "code",
   "execution_count": 47,
   "id": "2e8d4792",
   "metadata": {},
   "outputs": [],
   "source": [
    "#Function for data prepration: It classifyies the 'Class 1' and 'Class 2' and integrate the complete files into a single dataframe.\n",
    "\n",
    "def classify_data(range_value,file,data_path):\n",
    "    data_list = []\n",
    "    class_list = []\n",
    "    ball_toss = []\n",
    "    \n",
    "    df = pd.DataFrame()\n",
    "    \n",
    "    #print(\"---------\",frames)\n",
    "    for i in range(len(file)):\n",
    "            #print(i)\n",
    "            file_name = file.iloc[i][0]\n",
    "            #print(\"----\",file_name)\n",
    "            toss_row = file.iloc[i][1]\n",
    "            hit_row = file.iloc[i][2]\n",
    "\n",
    "            for csv in os.listdir(data_path): \n",
    "                \n",
    "                if file_name in csv:\n",
    "                        #print(\"\\n\",file_name)\n",
    "                        data = pd.read_csv(data_path+\"\\\\\"+csv)\n",
    "                        #print(data)\n",
    "                        \n",
    "                        \n",
    "                        \n",
    "                        class_list = [\"Before\" for i in range(0,toss_row-range_value)]\n",
    "                        class_list.extend([\"Toss\" for i in range(toss_row-range_value,toss_row+range_value)])\n",
    "                        class_list.extend([\"Prep\" for i in range(toss_row+range_value,hit_row-range_value)])\n",
    "                        class_list.extend([\"Hit\" for i in range(hit_row-range_value,hit_row+range_value)])\n",
    "                        class_list.extend([\"After\" for i in range(hit_row+range_value,len(data))])\n",
    "\n",
    "                        #ball_toss = [\"Before Toss\" for i in range(0,toss_row-range_value)]\n",
    "                        #ball_toss.extend([\"Toss\" for i in range(toss_row-range_value,toss_row+range_value)])\n",
    "                        #ball_toss.extend([\"After Toss\" for i in range(toss_row+range_value,len(data))])\n",
    "\n",
    "                        \n",
    "                        file_list = [file_name for i in range(len(class_list))]\n",
    "                        #print(\"\\n---------------\",file_list,\"\\n\\n\\n\\n****************\",class_list)\n",
    "                        \n",
    "                        data = data.assign(File=file_list,Class=class_list)\n",
    "                        data_list.append(data)   \n",
    "                        dataframe = pd.concat(data_list)\n",
    "                        #print(dataframe)\n",
    "                        \n",
    "    return dataframe"
   ]
  },
  {
   "cell_type": "code",
   "execution_count": 48,
   "id": "fd9dba21",
   "metadata": {},
   "outputs": [],
   "source": [
    "#Function to calculate the angle between two body landmark\n",
    "\n",
    "def cal_ang(i,j,k,l):\n",
    "    \n",
    "    \n",
    "    angle_rad = []\n",
    "    sho_rand_angle = []\n",
    "    \n",
    "    for x1,y1,x2,y2 in zip(i,j,k,l):\n",
    "        \n",
    "        \n",
    "    \n",
    "        angle_rad.append(math.atan2( y2 - y1 , x2 - x1 ))\n",
    "        #angle_deg = math.degrees(angle_rad)\n",
    "        #nose_wrist_angle.append(pygame.math.Vector2(x1, y1).angle_to((x2, y2)))\n",
    "    \n",
    "        \n",
    "    return angle_rad\n"
   ]
  },
  {
   "cell_type": "code",
   "execution_count": 49,
   "id": "55e052b4",
   "metadata": {},
   "outputs": [],
   "source": [
    "def pred_check(arr):\n",
    "\n",
    "    for i in range(len(arr) - 1):\n",
    "        \n",
    "        if (arr[i] == 1 and arr[i-1] == 1) and (arr[i + 1] == 0 ) :\n",
    "            \n",
    "            arr[i + 1] = 2\n",
    "        \n",
    "        elif (arr[i] == 2)  and (arr[i + 1] == 1):\n",
    "            arr[i + 1] = 0\n",
    "        \n",
    "        elif (arr[i] == 0 and arr[i+1] == 1):\n",
    "            arr[i+1] = 0\n",
    "        \n",
    "    \n",
    "    return arr\n"
   ]
  },
  {
   "cell_type": "code",
   "execution_count": 50,
   "id": "c45f972d",
   "metadata": {},
   "outputs": [],
   "source": [
    "feature_columns = ['NOSE_X', 'NOSE_Y', 'NOSE_Z', 'LEFT_SHOULDER_X', 'LEFT_SHOULDER_Y',\n",
    "       'LEFT_SHOULDER_Z', 'RIGHT_SHOULDER_X', 'RIGHT_SHOULDER_Y',\n",
    "       'RIGHT_SHOULDER_Z', 'LEFT_ELBOW_X', 'LEFT_ELBOW_Y', 'LEFT_ELBOW_Z',\n",
    "       'RIGHT_ELBOW_X', 'RIGHT_ELBOW_Y', 'RIGHT_ELBOW_Z', 'LEFT_WRIST_X',\n",
    "       'LEFT_WRIST_Y', 'LEFT_WRIST_Z', 'RIGHT_WRIST_X', 'RIGHT_WRIST_Y',\n",
    "       'RIGHT_WRIST_Z', 'LEFT_HIP_X', 'LEFT_HIP_Y', 'LEFT_HIP_Z',\n",
    "       'RIGHT_HIP_X', 'RIGHT_HIP_Y', 'RIGHT_HIP_Z', 'LEFT_KNEE_X',\n",
    "       'LEFT_KNEE_Y', 'LEFT_KNEE_Z', 'RIGHT_KNEE_X', 'RIGHT_KNEE_Y',\n",
    "       'RIGHT_KNEE_Z', 'LEFT_ANKLE_X', 'LEFT_ANKLE_Y', 'LEFT_ANKLE_Z',\n",
    "       'RIGHT_ANKLE_X', 'RIGHT_ANKLE_Y', 'RIGHT_ANKLE_Z', 'LEFT_HEEL_X',\n",
    "       'LEFT_HEEL_Y', 'LEFT_HEEL_Z', 'RIGHT_HEEL_X', 'RIGHT_HEEL_Y',\n",
    "       'RIGHT_HEEL_Z', 'LEFT_FOOT_INDEX_X', 'LEFT_FOOT_INDEX_Y',\n",
    "       'LEFT_FOOT_INDEX_Z', 'RIGHT_FOOT_INDEX_X', 'RIGHT_FOOT_INDEX_Y',\n",
    "       'RIGHT_FOOT_INDEX_Z' ,'Left_Sho_Wrist_Angle','Nose_Left_Wrist','Nose_Left_Elbow','Nose_Right_Wrist_Angle','Right_Sho_Wrist Angle','Nose_Right_Elbow']"
   ]
  },
  {
   "cell_type": "code",
   "execution_count": 26,
   "id": "9c21c098",
   "metadata": {},
   "outputs": [
    {
     "data": {
      "text/plain": [
       "57"
      ]
     },
     "execution_count": 26,
     "metadata": {},
     "output_type": "execute_result"
    }
   ],
   "source": [
    "len(feature_columns)"
   ]
  },
  {
   "cell_type": "code",
   "execution_count": 51,
   "id": "bcf21c15",
   "metadata": {},
   "outputs": [],
   "source": [
    "#The raw data is used to calculate the angles and then 'Class 1' and 'Class 2' extracted and all these values are\n",
    "#added to the dataframe\n",
    "\n",
    "model_data = classify_data(12,frames,data_path)\n",
    "\n",
    "\n",
    "nose_ryt_wrist = cal_ang(model_data['NOSE_X'],model_data['NOSE_Y'],model_data['RIGHT_WRIST_X'],model_data['RIGHT_WRIST_Y'])\n",
    "sho_ryt_wrist = cal_ang(model_data['RIGHT_SHOULDER_X'],model_data['RIGHT_SHOULDER_Y'],model_data['RIGHT_WRIST_X'],model_data['RIGHT_WRIST_Y'])\n",
    "nose_ryt_elb = cal_ang(model_data['NOSE_X'],model_data['NOSE_Y'],model_data['RIGHT_ELBOW_X'],model_data['RIGHT_ELBOW_Y'])\n",
    "\n",
    "sho_left_wrist = cal_ang(model_data['LEFT_SHOULDER_X'],model_data['LEFT_SHOULDER_Y'],model_data['LEFT_WRIST_X'],model_data['LEFT_WRIST_Y'])\n",
    "nose_left_wrist = cal_ang(model_data['NOSE_X'],model_data['NOSE_Y'],model_data['LEFT_WRIST_X'],model_data['LEFT_WRIST_Y'])\n",
    "nose_left_elb = cal_ang(model_data['NOSE_X'],model_data['NOSE_Y'],model_data['LEFT_ELBOW_X'],model_data['LEFT_ELBOW_Y'])\n",
    "\n",
    "\n",
    "model_data['Nose_Right_Wrist_Angle'] = nose_ryt_wrist \n",
    "model_data['Right_Sho_Wrist Angle'] = sho_ryt_wrist\n",
    "model_data['Nose_Right_Elbow'] = nose_ryt_elb\n",
    "model_data['Left_Sho_Wrist_Angle'] = sho_left_wrist\n",
    "model_data['Nose_Left_Wrist'] = nose_left_wrist\n",
    "model_data['Nose_Left_Elbow'] = nose_left_elb\n"
   ]
  },
  {
   "cell_type": "code",
   "execution_count": 61,
   "id": "93d9e0d6",
   "metadata": {},
   "outputs": [],
   "source": [
    "model_data = model_data.drop(columns=\"Timestamp\")"
   ]
  },
  {
   "cell_type": "code",
   "execution_count": 44,
   "id": "713494c6",
   "metadata": {},
   "outputs": [],
   "source": [
    "df = model_data"
   ]
  },
  {
   "cell_type": "code",
   "execution_count": 18,
   "id": "f4c0ef1c",
   "metadata": {},
   "outputs": [],
   "source": [
    "df = df.drop('Unnamed: 51',axis=1)"
   ]
  },
  {
   "cell_type": "code",
   "execution_count": 68,
   "id": "f011e758",
   "metadata": {},
   "outputs": [],
   "source": [
    "data = pd.read_csv(r\"C:\\Users\\ASUS\\OneDrive\\Documents\\Academics\\Summer Semester\\Dissertation\\Model_out\\DataSet.csv\")"
   ]
  },
  {
   "cell_type": "code",
   "execution_count": 82,
   "id": "d4d6c8bd",
   "metadata": {},
   "outputs": [
    {
     "data": {
      "text/plain": [
       "Index(['NOSE_X', 'NOSE_Y', 'NOSE_Z', 'LEFT_SHOULDER_X', 'LEFT_SHOULDER_Y',\n",
       "       'LEFT_SHOULDER_Z', 'RIGHT_SHOULDER_X', 'RIGHT_SHOULDER_Y',\n",
       "       'RIGHT_SHOULDER_Z', 'LEFT_ELBOW_X', 'LEFT_ELBOW_Y', 'LEFT_ELBOW_Z',\n",
       "       'RIGHT_ELBOW_X', 'RIGHT_ELBOW_Y', 'RIGHT_ELBOW_Z', 'LEFT_WRIST_X',\n",
       "       'LEFT_WRIST_Y', 'LEFT_WRIST_Z', 'RIGHT_WRIST_X', 'RIGHT_WRIST_Y',\n",
       "       'RIGHT_WRIST_Z', 'LEFT_HIP_X', 'LEFT_HIP_Y', 'LEFT_HIP_Z',\n",
       "       'RIGHT_HIP_X', 'RIGHT_HIP_Y', 'RIGHT_HIP_Z', 'LEFT_KNEE_X',\n",
       "       'LEFT_KNEE_Y', 'LEFT_KNEE_Z', 'RIGHT_KNEE_X', 'RIGHT_KNEE_Y',\n",
       "       'RIGHT_KNEE_Z', 'LEFT_ANKLE_X', 'LEFT_ANKLE_Y', 'LEFT_ANKLE_Z',\n",
       "       'RIGHT_ANKLE_X', 'RIGHT_ANKLE_Y', 'RIGHT_ANKLE_Z', 'LEFT_HEEL_X',\n",
       "       'LEFT_HEEL_Y', 'LEFT_HEEL_Z', 'RIGHT_HEEL_X', 'RIGHT_HEEL_Y',\n",
       "       'RIGHT_HEEL_Z', 'LEFT_FOOT_INDEX_X', 'LEFT_FOOT_INDEX_Y',\n",
       "       'LEFT_FOOT_INDEX_Z', 'RIGHT_FOOT_INDEX_X', 'RIGHT_FOOT_INDEX_Y',\n",
       "       'RIGHT_FOOT_INDEX_Z', 'Nose_Right_Wrist_Angle', 'Right_Sho_Wrist Angle',\n",
       "       'Nose_Right_Elbow', 'Left_Sho_Wrist_Angle', 'Nose_Left_Wrist',\n",
       "       'Nose_Left_Elbow', 'Class', 'Prediction', 'File'],\n",
       "      dtype='object')"
      ]
     },
     "execution_count": 82,
     "metadata": {},
     "output_type": "execute_result"
    }
   ],
   "source": [
    "data.columns"
   ]
  },
  {
   "cell_type": "code",
   "execution_count": 83,
   "id": "84fb93d2",
   "metadata": {},
   "outputs": [],
   "source": [
    "model_data= data"
   ]
  },
  {
   "cell_type": "code",
   "execution_count": 54,
   "id": "c969ea09",
   "metadata": {},
   "outputs": [
    {
     "data": {
      "text/plain": [
       "'C:\\\\Users\\\\ASUS\\\\OneDrive\\\\Documents\\\\Academics\\\\Summer Semester\\\\Dissertation\\\\Model_out\\\\DataSet.csv'"
      ]
     },
     "execution_count": 54,
     "metadata": {},
     "output_type": "execute_result"
    }
   ],
   "source": [
    "df['NOSE_X']"
   ]
  },
  {
   "cell_type": "code",
   "execution_count": 52,
   "id": "bdceb59f",
   "metadata": {},
   "outputs": [
    {
     "ename": "TypeError",
     "evalue": "string indices must be integers",
     "output_type": "error",
     "traceback": [
      "\u001b[1;31m---------------------------------------------------------------------------\u001b[0m",
      "\u001b[1;31mTypeError\u001b[0m                                 Traceback (most recent call last)",
      "\u001b[1;32m<ipython-input-52-7553323d93e2>\u001b[0m in \u001b[0;36m<module>\u001b[1;34m\u001b[0m\n\u001b[1;32m----> 1\u001b[1;33m \u001b[0mnose_ryt_wrist\u001b[0m \u001b[1;33m=\u001b[0m \u001b[0mcal_ang\u001b[0m\u001b[1;33m(\u001b[0m\u001b[0mdf\u001b[0m\u001b[1;33m[\u001b[0m\u001b[1;34m'NOSE_X'\u001b[0m\u001b[1;33m]\u001b[0m\u001b[1;33m,\u001b[0m\u001b[0mdf\u001b[0m\u001b[1;33m[\u001b[0m\u001b[1;34m'NOSE_Y'\u001b[0m\u001b[1;33m]\u001b[0m\u001b[1;33m,\u001b[0m\u001b[0mdf\u001b[0m\u001b[1;33m[\u001b[0m\u001b[1;34m'RIGHT_WRIST_X'\u001b[0m\u001b[1;33m]\u001b[0m\u001b[1;33m,\u001b[0m\u001b[0mdf\u001b[0m\u001b[1;33m[\u001b[0m\u001b[1;34m'RIGHT_WRIST_Y'\u001b[0m\u001b[1;33m]\u001b[0m\u001b[1;33m)\u001b[0m\u001b[1;33m\u001b[0m\u001b[1;33m\u001b[0m\u001b[0m\n\u001b[0m\u001b[0;32m      2\u001b[0m \u001b[0msho_ryt_wrist\u001b[0m \u001b[1;33m=\u001b[0m \u001b[0mcal_ang\u001b[0m\u001b[1;33m(\u001b[0m\u001b[0mdf\u001b[0m\u001b[1;33m[\u001b[0m\u001b[1;34m'RIGHT_SHOULDER_X'\u001b[0m\u001b[1;33m]\u001b[0m\u001b[1;33m,\u001b[0m\u001b[0mdf\u001b[0m\u001b[1;33m[\u001b[0m\u001b[1;34m'RIGHT_SHOULDER_Y'\u001b[0m\u001b[1;33m]\u001b[0m\u001b[1;33m,\u001b[0m\u001b[0mdf\u001b[0m\u001b[1;33m[\u001b[0m\u001b[1;34m'RIGHT_WRIST_X'\u001b[0m\u001b[1;33m]\u001b[0m\u001b[1;33m,\u001b[0m\u001b[0mdf\u001b[0m\u001b[1;33m[\u001b[0m\u001b[1;34m'RIGHT_WRIST_Y'\u001b[0m\u001b[1;33m]\u001b[0m\u001b[1;33m)\u001b[0m\u001b[1;33m\u001b[0m\u001b[1;33m\u001b[0m\u001b[0m\n\u001b[0;32m      3\u001b[0m \u001b[0mnose_ryt_elb\u001b[0m \u001b[1;33m=\u001b[0m \u001b[0mcal_ang\u001b[0m\u001b[1;33m(\u001b[0m\u001b[0mdf\u001b[0m\u001b[1;33m[\u001b[0m\u001b[1;34m'NOSE_X'\u001b[0m\u001b[1;33m]\u001b[0m\u001b[1;33m,\u001b[0m\u001b[0mdf\u001b[0m\u001b[1;33m[\u001b[0m\u001b[1;34m'NOSE_Y'\u001b[0m\u001b[1;33m]\u001b[0m\u001b[1;33m,\u001b[0m\u001b[0mdf\u001b[0m\u001b[1;33m[\u001b[0m\u001b[1;34m'RIGHT_ELBOW_X'\u001b[0m\u001b[1;33m]\u001b[0m\u001b[1;33m,\u001b[0m\u001b[0mdf\u001b[0m\u001b[1;33m[\u001b[0m\u001b[1;34m'RIGHT_ELBOW_Y'\u001b[0m\u001b[1;33m]\u001b[0m\u001b[1;33m)\u001b[0m\u001b[1;33m\u001b[0m\u001b[1;33m\u001b[0m\u001b[0m\n\u001b[0;32m      4\u001b[0m \u001b[1;33m\u001b[0m\u001b[0m\n\u001b[0;32m      5\u001b[0m \u001b[0msho_left_wrist\u001b[0m \u001b[1;33m=\u001b[0m \u001b[0mcal_ang\u001b[0m\u001b[1;33m(\u001b[0m\u001b[0mdf\u001b[0m\u001b[1;33m[\u001b[0m\u001b[1;34m'LEFT_SHOULDER_X'\u001b[0m\u001b[1;33m]\u001b[0m\u001b[1;33m,\u001b[0m\u001b[0mdf\u001b[0m\u001b[1;33m[\u001b[0m\u001b[1;34m'LEFT_SHOULDER_Y'\u001b[0m\u001b[1;33m]\u001b[0m\u001b[1;33m,\u001b[0m\u001b[0mdf\u001b[0m\u001b[1;33m[\u001b[0m\u001b[1;34m'LEFT_WRIST_X'\u001b[0m\u001b[1;33m]\u001b[0m\u001b[1;33m,\u001b[0m\u001b[0mdf\u001b[0m\u001b[1;33m[\u001b[0m\u001b[1;34m'LEFT_WRIST_Y'\u001b[0m\u001b[1;33m]\u001b[0m\u001b[1;33m)\u001b[0m\u001b[1;33m\u001b[0m\u001b[1;33m\u001b[0m\u001b[0m\n",
      "\u001b[1;31mTypeError\u001b[0m: string indices must be integers"
     ]
    }
   ],
   "source": [
    "nose_ryt_wrist = cal_ang(df['NOSE_X'],df['NOSE_Y'],df['RIGHT_WRIST_X'],df['RIGHT_WRIST_Y'])\n",
    "sho_ryt_wrist = cal_ang(df['RIGHT_SHOULDER_X'],df['RIGHT_SHOULDER_Y'],df['RIGHT_WRIST_X'],df['RIGHT_WRIST_Y'])\n",
    "nose_ryt_elb = cal_ang(df['NOSE_X'],df['NOSE_Y'],df['RIGHT_ELBOW_X'],df['RIGHT_ELBOW_Y'])\n",
    "\n",
    "sho_left_wrist = cal_ang(df['LEFT_SHOULDER_X'],df['LEFT_SHOULDER_Y'],df['LEFT_WRIST_X'],df['LEFT_WRIST_Y'])\n",
    "nose_left_wrist = cal_ang(df['NOSE_X'],df['NOSE_Y'],df['LEFT_WRIST_X'],df['LEFT_WRIST_Y'])\n",
    "nose_left_elb = cal_ang(df['NOSE_X'],df['NOSE_Y'],df['LEFT_ELBOW_X'],df['LEFT_ELBOW_Y'])\n",
    "\n",
    "\n",
    "df['Nose_Right_Wrist_Angle'] = nose_ryt_wrist \n",
    "df['Right_Sho_Wrist Angle'] = sho_ryt_wrist\n",
    "df['Nose_Right_Elbow'] = nose_ryt_elb\n",
    "df['Left_Sho_Wrist_Angle'] = sho_left_wrist\n",
    "df['Nose_Left_Wrist'] = nose_left_wrist\n",
    "df['Nose_Left_Elbow'] = nose_left_elb\n"
   ]
  },
  {
   "cell_type": "code",
   "execution_count": 84,
   "id": "2251e723",
   "metadata": {},
   "outputs": [],
   "source": [
    "#Splitting data for training and prediction\n",
    "\n",
    "input_data = model_data[:40747]\n",
    "#test = model_data[1:1205]\n",
    "test_kev = model_data[40747:]\n",
    "\n",
    "\n",
    "\n",
    "X = model_data[feature_columns]\n",
    "Y = model_data['Class']\n",
    "\n",
    "label_encoder = preprocessing.LabelEncoder()\n",
    "y = label_encoder.fit_transform(Y)\n",
    "\n",
    "X_train, X_test, y_train, y_test = train_test_split(X, y, test_size=0.3, random_state=None)"
   ]
  },
  {
   "cell_type": "code",
   "execution_count": 85,
   "id": "d0b1bdb6",
   "metadata": {},
   "outputs": [
    {
     "data": {
      "text/plain": [
       "array(['After', 'Before', 'Hit', 'Prep', 'Toss'], dtype=object)"
      ]
     },
     "execution_count": 85,
     "metadata": {},
     "output_type": "execute_result"
    }
   ],
   "source": [
    "label_encoder.classes_"
   ]
  },
  {
   "cell_type": "code",
   "execution_count": 87,
   "id": "7fc5f938",
   "metadata": {},
   "outputs": [
    {
     "name": "stderr",
     "output_type": "stream",
     "text": [
      "C:\\Users\\ASUS\\anaconda3\\lib\\site-packages\\sklearn\\linear_model\\_coordinate_descent.py:470: ConvergenceWarning: Objective did not converge. You might want to increase the number of iterations. Duality gap: 7.869689132048734, tolerance: 3.316617192852116\n",
      "  model = cd_fast.enet_coordinate_descent_gram(\n",
      "C:\\Users\\ASUS\\anaconda3\\lib\\site-packages\\sklearn\\linear_model\\_coordinate_descent.py:470: ConvergenceWarning: Objective did not converge. You might want to increase the number of iterations. Duality gap: 79.83596449241304, tolerance: 3.316617192852116\n",
      "  model = cd_fast.enet_coordinate_descent_gram(\n",
      "C:\\Users\\ASUS\\anaconda3\\lib\\site-packages\\sklearn\\linear_model\\_coordinate_descent.py:470: ConvergenceWarning: Objective did not converge. You might want to increase the number of iterations. Duality gap: 93.67300262750814, tolerance: 3.316617192852116\n",
      "  model = cd_fast.enet_coordinate_descent_gram(\n",
      "C:\\Users\\ASUS\\anaconda3\\lib\\site-packages\\sklearn\\linear_model\\_coordinate_descent.py:470: ConvergenceWarning: Objective did not converge. You might want to increase the number of iterations. Duality gap: 70.14824545699412, tolerance: 3.316617192852116\n",
      "  model = cd_fast.enet_coordinate_descent_gram(\n",
      "C:\\Users\\ASUS\\anaconda3\\lib\\site-packages\\sklearn\\linear_model\\_coordinate_descent.py:470: ConvergenceWarning: Objective did not converge. You might want to increase the number of iterations. Duality gap: 123.83633789011947, tolerance: 3.316617192852116\n",
      "  model = cd_fast.enet_coordinate_descent_gram(\n",
      "C:\\Users\\ASUS\\anaconda3\\lib\\site-packages\\sklearn\\linear_model\\_coordinate_descent.py:470: ConvergenceWarning: Objective did not converge. You might want to increase the number of iterations. Duality gap: 287.7618072736186, tolerance: 3.316617192852116\n",
      "  model = cd_fast.enet_coordinate_descent_gram(\n",
      "C:\\Users\\ASUS\\anaconda3\\lib\\site-packages\\sklearn\\linear_model\\_coordinate_descent.py:470: ConvergenceWarning: Objective did not converge. You might want to increase the number of iterations. Duality gap: 312.3741413056987, tolerance: 3.316617192852116\n",
      "  model = cd_fast.enet_coordinate_descent_gram(\n",
      "C:\\Users\\ASUS\\anaconda3\\lib\\site-packages\\sklearn\\linear_model\\_coordinate_descent.py:470: ConvergenceWarning: Objective did not converge. You might want to increase the number of iterations. Duality gap: 547.7773365818484, tolerance: 3.316617192852116\n",
      "  model = cd_fast.enet_coordinate_descent_gram(\n",
      "C:\\Users\\ASUS\\anaconda3\\lib\\site-packages\\sklearn\\linear_model\\_coordinate_descent.py:470: ConvergenceWarning: Objective did not converge. You might want to increase the number of iterations. Duality gap: 1241.011169094285, tolerance: 3.316617192852116\n",
      "  model = cd_fast.enet_coordinate_descent_gram(\n",
      "C:\\Users\\ASUS\\anaconda3\\lib\\site-packages\\sklearn\\linear_model\\_coordinate_descent.py:470: ConvergenceWarning: Objective did not converge. You might want to increase the number of iterations. Duality gap: 1428.247414764931, tolerance: 3.316617192852116\n",
      "  model = cd_fast.enet_coordinate_descent_gram(\n",
      "C:\\Users\\ASUS\\anaconda3\\lib\\site-packages\\sklearn\\linear_model\\_coordinate_descent.py:470: ConvergenceWarning: Objective did not converge. You might want to increase the number of iterations. Duality gap: 2342.476668636251, tolerance: 3.316617192852116\n",
      "  model = cd_fast.enet_coordinate_descent_gram(\n",
      "C:\\Users\\ASUS\\anaconda3\\lib\\site-packages\\sklearn\\linear_model\\_coordinate_descent.py:470: ConvergenceWarning: Objective did not converge. You might want to increase the number of iterations. Duality gap: 2498.0198090435024, tolerance: 3.316617192852116\n",
      "  model = cd_fast.enet_coordinate_descent_gram(\n",
      "C:\\Users\\ASUS\\anaconda3\\lib\\site-packages\\sklearn\\linear_model\\_coordinate_descent.py:470: ConvergenceWarning: Objective did not converge. You might want to increase the number of iterations. Duality gap: 2642.8392821174725, tolerance: 3.316617192852116\n",
      "  model = cd_fast.enet_coordinate_descent_gram(\n",
      "C:\\Users\\ASUS\\anaconda3\\lib\\site-packages\\sklearn\\linear_model\\_coordinate_descent.py:470: ConvergenceWarning: Objective did not converge. You might want to increase the number of iterations. Duality gap: 2853.076197392191, tolerance: 3.316617192852116\n",
      "  model = cd_fast.enet_coordinate_descent_gram(\n",
      "C:\\Users\\ASUS\\anaconda3\\lib\\site-packages\\sklearn\\linear_model\\_coordinate_descent.py:470: ConvergenceWarning: Objective did not converge. You might want to increase the number of iterations. Duality gap: 3029.336824639363, tolerance: 3.316617192852116\n",
      "  model = cd_fast.enet_coordinate_descent_gram(\n",
      "C:\\Users\\ASUS\\anaconda3\\lib\\site-packages\\sklearn\\linear_model\\_coordinate_descent.py:470: ConvergenceWarning: Objective did not converge. You might want to increase the number of iterations. Duality gap: 3137.7917098295197, tolerance: 3.316617192852116\n",
      "  model = cd_fast.enet_coordinate_descent_gram(\n",
      "C:\\Users\\ASUS\\anaconda3\\lib\\site-packages\\sklearn\\linear_model\\_coordinate_descent.py:470: ConvergenceWarning: Objective did not converge. You might want to increase the number of iterations. Duality gap: 3198.153996592803, tolerance: 3.316617192852116\n",
      "  model = cd_fast.enet_coordinate_descent_gram(\n",
      "C:\\Users\\ASUS\\anaconda3\\lib\\site-packages\\sklearn\\linear_model\\_coordinate_descent.py:470: ConvergenceWarning: Objective did not converge. You might want to increase the number of iterations. Duality gap: 3232.7936210514017, tolerance: 3.316617192852116\n",
      "  model = cd_fast.enet_coordinate_descent_gram(\n",
      "C:\\Users\\ASUS\\anaconda3\\lib\\site-packages\\sklearn\\linear_model\\_coordinate_descent.py:470: ConvergenceWarning: Objective did not converge. You might want to increase the number of iterations. Duality gap: 3253.153718306635, tolerance: 3.316617192852116\n",
      "  model = cd_fast.enet_coordinate_descent_gram(\n",
      "C:\\Users\\ASUS\\anaconda3\\lib\\site-packages\\sklearn\\linear_model\\_coordinate_descent.py:470: ConvergenceWarning: Objective did not converge. You might want to increase the number of iterations. Duality gap: 3264.6412804874535, tolerance: 3.316617192852116\n",
      "  model = cd_fast.enet_coordinate_descent_gram(\n",
      "C:\\Users\\ASUS\\anaconda3\\lib\\site-packages\\sklearn\\linear_model\\_coordinate_descent.py:470: ConvergenceWarning: Objective did not converge. You might want to increase the number of iterations. Duality gap: 3271.0792072535887, tolerance: 3.316617192852116\n",
      "  model = cd_fast.enet_coordinate_descent_gram(\n",
      "C:\\Users\\ASUS\\anaconda3\\lib\\site-packages\\sklearn\\linear_model\\_coordinate_descent.py:470: ConvergenceWarning: Objective did not converge. You might want to increase the number of iterations. Duality gap: 3274.4839275385266, tolerance: 3.316617192852116\n",
      "  model = cd_fast.enet_coordinate_descent_gram(\n",
      "C:\\Users\\ASUS\\anaconda3\\lib\\site-packages\\sklearn\\linear_model\\_coordinate_descent.py:470: ConvergenceWarning: Objective did not converge. You might want to increase the number of iterations. Duality gap: 3276.1632490442025, tolerance: 3.316617192852116\n",
      "  model = cd_fast.enet_coordinate_descent_gram(\n",
      "C:\\Users\\ASUS\\anaconda3\\lib\\site-packages\\sklearn\\linear_model\\_coordinate_descent.py:470: ConvergenceWarning: Objective did not converge. You might want to increase the number of iterations. Duality gap: 3276.77750952914, tolerance: 3.316617192852116\n",
      "  model = cd_fast.enet_coordinate_descent_gram(\n",
      "C:\\Users\\ASUS\\anaconda3\\lib\\site-packages\\sklearn\\linear_model\\_coordinate_descent.py:470: ConvergenceWarning: Objective did not converge. You might want to increase the number of iterations. Duality gap: 3276.7314766954096, tolerance: 3.316617192852116\n",
      "  model = cd_fast.enet_coordinate_descent_gram(\n",
      "C:\\Users\\ASUS\\anaconda3\\lib\\site-packages\\sklearn\\linear_model\\_coordinate_descent.py:470: ConvergenceWarning: Objective did not converge. You might want to increase the number of iterations. Duality gap: 3276.2769684012187, tolerance: 3.316617192852116\n",
      "  model = cd_fast.enet_coordinate_descent_gram(\n",
      "C:\\Users\\ASUS\\anaconda3\\lib\\site-packages\\sklearn\\linear_model\\_coordinate_descent.py:470: ConvergenceWarning: Objective did not converge. You might want to increase the number of iterations. Duality gap: 3275.6108760841717, tolerance: 3.316617192852116\n",
      "  model = cd_fast.enet_coordinate_descent_gram(\n",
      "C:\\Users\\ASUS\\anaconda3\\lib\\site-packages\\sklearn\\linear_model\\_coordinate_descent.py:470: ConvergenceWarning: Objective did not converge. You might want to increase the number of iterations. Duality gap: 3274.9056091270677, tolerance: 3.316617192852116\n",
      "  model = cd_fast.enet_coordinate_descent_gram(\n",
      "C:\\Users\\ASUS\\anaconda3\\lib\\site-packages\\sklearn\\linear_model\\_coordinate_descent.py:470: ConvergenceWarning: Objective did not converge. You might want to increase the number of iterations. Duality gap: 3273.9974250569217, tolerance: 3.316617192852116\n",
      "  model = cd_fast.enet_coordinate_descent_gram(\n",
      "C:\\Users\\ASUS\\anaconda3\\lib\\site-packages\\sklearn\\linear_model\\_coordinate_descent.py:470: ConvergenceWarning: Objective did not converge. You might want to increase the number of iterations. Duality gap: 3272.98489587876, tolerance: 3.316617192852116\n",
      "  model = cd_fast.enet_coordinate_descent_gram(\n",
      "C:\\Users\\ASUS\\anaconda3\\lib\\site-packages\\sklearn\\linear_model\\_coordinate_descent.py:470: ConvergenceWarning: Objective did not converge. You might want to increase the number of iterations. Duality gap: 3271.922150958151, tolerance: 3.316617192852116\n",
      "  model = cd_fast.enet_coordinate_descent_gram(\n",
      "C:\\Users\\ASUS\\anaconda3\\lib\\site-packages\\sklearn\\linear_model\\_coordinate_descent.py:470: ConvergenceWarning: Objective did not converge. You might want to increase the number of iterations. Duality gap: 3270.838804080868, tolerance: 3.316617192852116\n",
      "  model = cd_fast.enet_coordinate_descent_gram(\n",
      "C:\\Users\\ASUS\\anaconda3\\lib\\site-packages\\sklearn\\linear_model\\_coordinate_descent.py:470: ConvergenceWarning: Objective did not converge. You might want to increase the number of iterations. Duality gap: 3269.7509804481147, tolerance: 3.316617192852116\n",
      "  model = cd_fast.enet_coordinate_descent_gram(\n",
      "C:\\Users\\ASUS\\anaconda3\\lib\\site-packages\\sklearn\\linear_model\\_coordinate_descent.py:470: ConvergenceWarning: Objective did not converge. You might want to increase the number of iterations. Duality gap: 3268.667477216628, tolerance: 3.316617192852116\n",
      "  model = cd_fast.enet_coordinate_descent_gram(\n",
      "C:\\Users\\ASUS\\anaconda3\\lib\\site-packages\\sklearn\\linear_model\\_coordinate_descent.py:470: ConvergenceWarning: Objective did not converge. You might want to increase the number of iterations. Duality gap: 3267.593281905273, tolerance: 3.316617192852116\n",
      "  model = cd_fast.enet_coordinate_descent_gram(\n",
      "C:\\Users\\ASUS\\anaconda3\\lib\\site-packages\\sklearn\\linear_model\\_coordinate_descent.py:470: ConvergenceWarning: Objective did not converge. You might want to increase the number of iterations. Duality gap: 3266.531436127562, tolerance: 3.316617192852116\n",
      "  model = cd_fast.enet_coordinate_descent_gram(\n",
      "C:\\Users\\ASUS\\anaconda3\\lib\\site-packages\\sklearn\\linear_model\\_coordinate_descent.py:470: ConvergenceWarning: Objective did not converge. You might want to increase the number of iterations. Duality gap: 3265.48405751031, tolerance: 3.316617192852116\n",
      "  model = cd_fast.enet_coordinate_descent_gram(\n",
      "C:\\Users\\ASUS\\anaconda3\\lib\\site-packages\\sklearn\\linear_model\\_coordinate_descent.py:470: ConvergenceWarning: Objective did not converge. You might want to increase the number of iterations. Duality gap: 3264.452862211613, tolerance: 3.316617192852116\n",
      "  model = cd_fast.enet_coordinate_descent_gram(\n",
      "C:\\Users\\ASUS\\anaconda3\\lib\\site-packages\\sklearn\\linear_model\\_coordinate_descent.py:470: ConvergenceWarning: Objective did not converge. You might want to increase the number of iterations. Duality gap: 3263.4394075498158, tolerance: 3.316617192852116\n",
      "  model = cd_fast.enet_coordinate_descent_gram(\n",
      "C:\\Users\\ASUS\\anaconda3\\lib\\site-packages\\sklearn\\linear_model\\_coordinate_descent.py:470: ConvergenceWarning: Objective did not converge. You might want to increase the number of iterations. Duality gap: 3262.4451834897973, tolerance: 3.316617192852116\n",
      "  model = cd_fast.enet_coordinate_descent_gram(\n",
      "C:\\Users\\ASUS\\anaconda3\\lib\\site-packages\\sklearn\\linear_model\\_coordinate_descent.py:470: ConvergenceWarning: Objective did not converge. You might want to increase the number of iterations. Duality gap: 3261.471627688104, tolerance: 3.316617192852116\n",
      "  model = cd_fast.enet_coordinate_descent_gram(\n",
      "C:\\Users\\ASUS\\anaconda3\\lib\\site-packages\\sklearn\\linear_model\\_coordinate_descent.py:470: ConvergenceWarning: Objective did not converge. You might want to increase the number of iterations. Duality gap: 3260.520107199746, tolerance: 3.316617192852116\n",
      "  model = cd_fast.enet_coordinate_descent_gram(\n",
      "C:\\Users\\ASUS\\anaconda3\\lib\\site-packages\\sklearn\\linear_model\\_coordinate_descent.py:470: ConvergenceWarning: Objective did not converge. You might want to increase the number of iterations. Duality gap: 3259.591890224731, tolerance: 3.316617192852116\n",
      "  model = cd_fast.enet_coordinate_descent_gram(\n",
      "C:\\Users\\ASUS\\anaconda3\\lib\\site-packages\\sklearn\\linear_model\\_coordinate_descent.py:470: ConvergenceWarning: Objective did not converge. You might want to increase the number of iterations. Duality gap: 3258.68812015235, tolerance: 3.316617192852116\n",
      "  model = cd_fast.enet_coordinate_descent_gram(\n",
      "C:\\Users\\ASUS\\anaconda3\\lib\\site-packages\\sklearn\\linear_model\\_coordinate_descent.py:470: ConvergenceWarning: Objective did not converge. You might want to increase the number of iterations. Duality gap: 3257.809796873268, tolerance: 3.316617192852116\n",
      "  model = cd_fast.enet_coordinate_descent_gram(\n",
      "C:\\Users\\ASUS\\anaconda3\\lib\\site-packages\\sklearn\\linear_model\\_coordinate_descent.py:470: ConvergenceWarning: Objective did not converge. You might want to increase the number of iterations. Duality gap: 3256.9577668144166, tolerance: 3.316617192852116\n",
      "  model = cd_fast.enet_coordinate_descent_gram(\n",
      "C:\\Users\\ASUS\\anaconda3\\lib\\site-packages\\sklearn\\linear_model\\_coordinate_descent.py:470: ConvergenceWarning: Objective did not converge. You might want to increase the number of iterations. Duality gap: 3256.132720696189, tolerance: 3.316617192852116\n",
      "  model = cd_fast.enet_coordinate_descent_gram(\n",
      "C:\\Users\\ASUS\\anaconda3\\lib\\site-packages\\sklearn\\linear_model\\_coordinate_descent.py:470: ConvergenceWarning: Objective did not converge. You might want to increase the number of iterations. Duality gap: 3255.3351974544858, tolerance: 3.316617192852116\n",
      "  model = cd_fast.enet_coordinate_descent_gram(\n",
      "C:\\Users\\ASUS\\anaconda3\\lib\\site-packages\\sklearn\\linear_model\\_coordinate_descent.py:470: ConvergenceWarning: Objective did not converge. You might want to increase the number of iterations. Duality gap: 3254.5655919663272, tolerance: 3.316617192852116\n",
      "  model = cd_fast.enet_coordinate_descent_gram(\n",
      "C:\\Users\\ASUS\\anaconda3\\lib\\site-packages\\sklearn\\linear_model\\_coordinate_descent.py:470: ConvergenceWarning: Objective did not converge. You might want to increase the number of iterations. Duality gap: 3253.8241651581025, tolerance: 3.316617192852116\n",
      "  model = cd_fast.enet_coordinate_descent_gram(\n"
     ]
    },
    {
     "name": "stderr",
     "output_type": "stream",
     "text": [
      "C:\\Users\\ASUS\\anaconda3\\lib\\site-packages\\sklearn\\linear_model\\_coordinate_descent.py:470: ConvergenceWarning: Objective did not converge. You might want to increase the number of iterations. Duality gap: 3253.111054498511, tolerance: 3.316617192852116\n",
      "  model = cd_fast.enet_coordinate_descent_gram(\n",
      "C:\\Users\\ASUS\\anaconda3\\lib\\site-packages\\sklearn\\linear_model\\_coordinate_descent.py:470: ConvergenceWarning: Objective did not converge. You might want to increase the number of iterations. Duality gap: 3252.4262843243655, tolerance: 3.316617192852116\n",
      "  model = cd_fast.enet_coordinate_descent_gram(\n",
      "C:\\Users\\ASUS\\anaconda3\\lib\\site-packages\\sklearn\\linear_model\\_coordinate_descent.py:470: ConvergenceWarning: Objective did not converge. You might want to increase the number of iterations. Duality gap: 3251.7697748769515, tolerance: 3.316617192852116\n",
      "  model = cd_fast.enet_coordinate_descent_gram(\n",
      "C:\\Users\\ASUS\\anaconda3\\lib\\site-packages\\sklearn\\linear_model\\_coordinate_descent.py:470: ConvergenceWarning: Objective did not converge. You might want to increase the number of iterations. Duality gap: 77.42329243550921, tolerance: 3.321741422145181\n",
      "  model = cd_fast.enet_coordinate_descent_gram(\n",
      "C:\\Users\\ASUS\\anaconda3\\lib\\site-packages\\sklearn\\linear_model\\_coordinate_descent.py:470: ConvergenceWarning: Objective did not converge. You might want to increase the number of iterations. Duality gap: 94.46881892848614, tolerance: 3.321741422145181\n",
      "  model = cd_fast.enet_coordinate_descent_gram(\n",
      "C:\\Users\\ASUS\\anaconda3\\lib\\site-packages\\sklearn\\linear_model\\_coordinate_descent.py:470: ConvergenceWarning: Objective did not converge. You might want to increase the number of iterations. Duality gap: 74.96386060971054, tolerance: 3.321741422145181\n",
      "  model = cd_fast.enet_coordinate_descent_gram(\n",
      "C:\\Users\\ASUS\\anaconda3\\lib\\site-packages\\sklearn\\linear_model\\_coordinate_descent.py:470: ConvergenceWarning: Objective did not converge. You might want to increase the number of iterations. Duality gap: 133.02695073450377, tolerance: 3.321741422145181\n",
      "  model = cd_fast.enet_coordinate_descent_gram(\n",
      "C:\\Users\\ASUS\\anaconda3\\lib\\site-packages\\sklearn\\linear_model\\_coordinate_descent.py:470: ConvergenceWarning: Objective did not converge. You might want to increase the number of iterations. Duality gap: 220.72574262924263, tolerance: 3.321741422145181\n",
      "  model = cd_fast.enet_coordinate_descent_gram(\n",
      "C:\\Users\\ASUS\\anaconda3\\lib\\site-packages\\sklearn\\linear_model\\_coordinate_descent.py:470: ConvergenceWarning: Objective did not converge. You might want to increase the number of iterations. Duality gap: 304.50416589582437, tolerance: 3.321741422145181\n",
      "  model = cd_fast.enet_coordinate_descent_gram(\n",
      "C:\\Users\\ASUS\\anaconda3\\lib\\site-packages\\sklearn\\linear_model\\_coordinate_descent.py:470: ConvergenceWarning: Objective did not converge. You might want to increase the number of iterations. Duality gap: 463.425564759239, tolerance: 3.321741422145181\n",
      "  model = cd_fast.enet_coordinate_descent_gram(\n",
      "C:\\Users\\ASUS\\anaconda3\\lib\\site-packages\\sklearn\\linear_model\\_coordinate_descent.py:470: ConvergenceWarning: Objective did not converge. You might want to increase the number of iterations. Duality gap: 1104.971470647245, tolerance: 3.321741422145181\n",
      "  model = cd_fast.enet_coordinate_descent_gram(\n",
      "C:\\Users\\ASUS\\anaconda3\\lib\\site-packages\\sklearn\\linear_model\\_coordinate_descent.py:470: ConvergenceWarning: Objective did not converge. You might want to increase the number of iterations. Duality gap: 1327.8943361416195, tolerance: 3.321741422145181\n",
      "  model = cd_fast.enet_coordinate_descent_gram(\n",
      "C:\\Users\\ASUS\\anaconda3\\lib\\site-packages\\sklearn\\linear_model\\_coordinate_descent.py:470: ConvergenceWarning: Objective did not converge. You might want to increase the number of iterations. Duality gap: 2183.2412751648026, tolerance: 3.321741422145181\n",
      "  model = cd_fast.enet_coordinate_descent_gram(\n",
      "C:\\Users\\ASUS\\anaconda3\\lib\\site-packages\\sklearn\\linear_model\\_coordinate_descent.py:470: ConvergenceWarning: Objective did not converge. You might want to increase the number of iterations. Duality gap: 2447.917442498902, tolerance: 3.321741422145181\n",
      "  model = cd_fast.enet_coordinate_descent_gram(\n",
      "C:\\Users\\ASUS\\anaconda3\\lib\\site-packages\\sklearn\\linear_model\\_coordinate_descent.py:470: ConvergenceWarning: Objective did not converge. You might want to increase the number of iterations. Duality gap: 2591.936869627223, tolerance: 3.321741422145181\n",
      "  model = cd_fast.enet_coordinate_descent_gram(\n",
      "C:\\Users\\ASUS\\anaconda3\\lib\\site-packages\\sklearn\\linear_model\\_coordinate_descent.py:470: ConvergenceWarning: Objective did not converge. You might want to increase the number of iterations. Duality gap: 2803.0312471496436, tolerance: 3.321741422145181\n",
      "  model = cd_fast.enet_coordinate_descent_gram(\n",
      "C:\\Users\\ASUS\\anaconda3\\lib\\site-packages\\sklearn\\linear_model\\_coordinate_descent.py:470: ConvergenceWarning: Objective did not converge. You might want to increase the number of iterations. Duality gap: 2990.7525192256744, tolerance: 3.321741422145181\n",
      "  model = cd_fast.enet_coordinate_descent_gram(\n",
      "C:\\Users\\ASUS\\anaconda3\\lib\\site-packages\\sklearn\\linear_model\\_coordinate_descent.py:470: ConvergenceWarning: Objective did not converge. You might want to increase the number of iterations. Duality gap: 3114.495386403446, tolerance: 3.321741422145181\n",
      "  model = cd_fast.enet_coordinate_descent_gram(\n",
      "C:\\Users\\ASUS\\anaconda3\\lib\\site-packages\\sklearn\\linear_model\\_coordinate_descent.py:470: ConvergenceWarning: Objective did not converge. You might want to increase the number of iterations. Duality gap: 3180.159556625638, tolerance: 3.321741422145181\n",
      "  model = cd_fast.enet_coordinate_descent_gram(\n",
      "C:\\Users\\ASUS\\anaconda3\\lib\\site-packages\\sklearn\\linear_model\\_coordinate_descent.py:470: ConvergenceWarning: Objective did not converge. You might want to increase the number of iterations. Duality gap: 3216.444456309783, tolerance: 3.321741422145181\n",
      "  model = cd_fast.enet_coordinate_descent_gram(\n",
      "C:\\Users\\ASUS\\anaconda3\\lib\\site-packages\\sklearn\\linear_model\\_coordinate_descent.py:470: ConvergenceWarning: Objective did not converge. You might want to increase the number of iterations. Duality gap: 3236.687385199778, tolerance: 3.321741422145181\n",
      "  model = cd_fast.enet_coordinate_descent_gram(\n",
      "C:\\Users\\ASUS\\anaconda3\\lib\\site-packages\\sklearn\\linear_model\\_coordinate_descent.py:470: ConvergenceWarning: Objective did not converge. You might want to increase the number of iterations. Duality gap: 3247.9349857471484, tolerance: 3.321741422145181\n",
      "  model = cd_fast.enet_coordinate_descent_gram(\n",
      "C:\\Users\\ASUS\\anaconda3\\lib\\site-packages\\sklearn\\linear_model\\_coordinate_descent.py:470: ConvergenceWarning: Objective did not converge. You might want to increase the number of iterations. Duality gap: 3253.9474313442797, tolerance: 3.321741422145181\n",
      "  model = cd_fast.enet_coordinate_descent_gram(\n",
      "C:\\Users\\ASUS\\anaconda3\\lib\\site-packages\\sklearn\\linear_model\\_coordinate_descent.py:470: ConvergenceWarning: Objective did not converge. You might want to increase the number of iterations. Duality gap: 3257.054315386218, tolerance: 3.321741422145181\n",
      "  model = cd_fast.enet_coordinate_descent_gram(\n",
      "C:\\Users\\ASUS\\anaconda3\\lib\\site-packages\\sklearn\\linear_model\\_coordinate_descent.py:470: ConvergenceWarning: Objective did not converge. You might want to increase the number of iterations. Duality gap: 3258.467541645302, tolerance: 3.321741422145181\n",
      "  model = cd_fast.enet_coordinate_descent_gram(\n",
      "C:\\Users\\ASUS\\anaconda3\\lib\\site-packages\\sklearn\\linear_model\\_coordinate_descent.py:470: ConvergenceWarning: Objective did not converge. You might want to increase the number of iterations. Duality gap: 3258.8385551457104, tolerance: 3.321741422145181\n",
      "  model = cd_fast.enet_coordinate_descent_gram(\n",
      "C:\\Users\\ASUS\\anaconda3\\lib\\site-packages\\sklearn\\linear_model\\_coordinate_descent.py:470: ConvergenceWarning: Objective did not converge. You might want to increase the number of iterations. Duality gap: 3258.5761478072563, tolerance: 3.321741422145181\n",
      "  model = cd_fast.enet_coordinate_descent_gram(\n",
      "C:\\Users\\ASUS\\anaconda3\\lib\\site-packages\\sklearn\\linear_model\\_coordinate_descent.py:470: ConvergenceWarning: Objective did not converge. You might want to increase the number of iterations. Duality gap: 3257.9280728720905, tolerance: 3.321741422145181\n",
      "  model = cd_fast.enet_coordinate_descent_gram(\n"
     ]
    },
    {
     "name": "stderr",
     "output_type": "stream",
     "text": [
      "C:\\Users\\ASUS\\anaconda3\\lib\\site-packages\\sklearn\\linear_model\\_coordinate_descent.py:470: ConvergenceWarning: Objective did not converge. You might want to increase the number of iterations. Duality gap: 3257.050732807337, tolerance: 3.321741422145181\n",
      "  model = cd_fast.enet_coordinate_descent_gram(\n",
      "C:\\Users\\ASUS\\anaconda3\\lib\\site-packages\\sklearn\\linear_model\\_coordinate_descent.py:470: ConvergenceWarning: Objective did not converge. You might want to increase the number of iterations. Duality gap: 3256.178448419939, tolerance: 3.321741422145181\n",
      "  model = cd_fast.enet_coordinate_descent_gram(\n",
      "C:\\Users\\ASUS\\anaconda3\\lib\\site-packages\\sklearn\\linear_model\\_coordinate_descent.py:470: ConvergenceWarning: Objective did not converge. You might want to increase the number of iterations. Duality gap: 3255.1255208326384, tolerance: 3.321741422145181\n",
      "  model = cd_fast.enet_coordinate_descent_gram(\n",
      "C:\\Users\\ASUS\\anaconda3\\lib\\site-packages\\sklearn\\linear_model\\_coordinate_descent.py:470: ConvergenceWarning: Objective did not converge. You might want to increase the number of iterations. Duality gap: 3253.9826985282443, tolerance: 3.321741422145181\n",
      "  model = cd_fast.enet_coordinate_descent_gram(\n",
      "C:\\Users\\ASUS\\anaconda3\\lib\\site-packages\\sklearn\\linear_model\\_coordinate_descent.py:470: ConvergenceWarning: Objective did not converge. You might want to increase the number of iterations. Duality gap: 3252.7992983856366, tolerance: 3.321741422145181\n",
      "  model = cd_fast.enet_coordinate_descent_gram(\n",
      "C:\\Users\\ASUS\\anaconda3\\lib\\site-packages\\sklearn\\linear_model\\_coordinate_descent.py:470: ConvergenceWarning: Objective did not converge. You might want to increase the number of iterations. Duality gap: 3251.6019559773927, tolerance: 3.321741422145181\n",
      "  model = cd_fast.enet_coordinate_descent_gram(\n",
      "C:\\Users\\ASUS\\anaconda3\\lib\\site-packages\\sklearn\\linear_model\\_coordinate_descent.py:470: ConvergenceWarning: Objective did not converge. You might want to increase the number of iterations. Duality gap: 3250.4049235351877, tolerance: 3.321741422145181\n",
      "  model = cd_fast.enet_coordinate_descent_gram(\n",
      "C:\\Users\\ASUS\\anaconda3\\lib\\site-packages\\sklearn\\linear_model\\_coordinate_descent.py:470: ConvergenceWarning: Objective did not converge. You might want to increase the number of iterations. Duality gap: 3249.2157120131283, tolerance: 3.321741422145181\n",
      "  model = cd_fast.enet_coordinate_descent_gram(\n",
      "C:\\Users\\ASUS\\anaconda3\\lib\\site-packages\\sklearn\\linear_model\\_coordinate_descent.py:470: ConvergenceWarning: Objective did not converge. You might want to increase the number of iterations. Duality gap: 3248.038429203594, tolerance: 3.321741422145181\n",
      "  model = cd_fast.enet_coordinate_descent_gram(\n",
      "C:\\Users\\ASUS\\anaconda3\\lib\\site-packages\\sklearn\\linear_model\\_coordinate_descent.py:470: ConvergenceWarning: Objective did not converge. You might want to increase the number of iterations. Duality gap: 3246.8755070919674, tolerance: 3.321741422145181\n",
      "  model = cd_fast.enet_coordinate_descent_gram(\n",
      "C:\\Users\\ASUS\\anaconda3\\lib\\site-packages\\sklearn\\linear_model\\_coordinate_descent.py:470: ConvergenceWarning: Objective did not converge. You might want to increase the number of iterations. Duality gap: 3245.7286444856713, tolerance: 3.321741422145181\n",
      "  model = cd_fast.enet_coordinate_descent_gram(\n",
      "C:\\Users\\ASUS\\anaconda3\\lib\\site-packages\\sklearn\\linear_model\\_coordinate_descent.py:470: ConvergenceWarning: Objective did not converge. You might want to increase the number of iterations. Duality gap: 3244.5992843351746, tolerance: 3.321741422145181\n",
      "  model = cd_fast.enet_coordinate_descent_gram(\n",
      "C:\\Users\\ASUS\\anaconda3\\lib\\site-packages\\sklearn\\linear_model\\_coordinate_descent.py:470: ConvergenceWarning: Objective did not converge. You might want to increase the number of iterations. Duality gap: 3243.4888261239716, tolerance: 3.321741422145181\n",
      "  model = cd_fast.enet_coordinate_descent_gram(\n",
      "C:\\Users\\ASUS\\anaconda3\\lib\\site-packages\\sklearn\\linear_model\\_coordinate_descent.py:470: ConvergenceWarning: Objective did not converge. You might want to increase the number of iterations. Duality gap: 3242.398693661542, tolerance: 3.321741422145181\n",
      "  model = cd_fast.enet_coordinate_descent_gram(\n",
      "C:\\Users\\ASUS\\anaconda3\\lib\\site-packages\\sklearn\\linear_model\\_coordinate_descent.py:470: ConvergenceWarning: Objective did not converge. You might want to increase the number of iterations. Duality gap: 3241.3303306533912, tolerance: 3.321741422145181\n",
      "  model = cd_fast.enet_coordinate_descent_gram(\n",
      "C:\\Users\\ASUS\\anaconda3\\lib\\site-packages\\sklearn\\linear_model\\_coordinate_descent.py:470: ConvergenceWarning: Objective did not converge. You might want to increase the number of iterations. Duality gap: 3240.285165279705, tolerance: 3.321741422145181\n",
      "  model = cd_fast.enet_coordinate_descent_gram(\n",
      "C:\\Users\\ASUS\\anaconda3\\lib\\site-packages\\sklearn\\linear_model\\_coordinate_descent.py:470: ConvergenceWarning: Objective did not converge. You might want to increase the number of iterations. Duality gap: 3239.2645667189627, tolerance: 3.321741422145181\n",
      "  model = cd_fast.enet_coordinate_descent_gram(\n",
      "C:\\Users\\ASUS\\anaconda3\\lib\\site-packages\\sklearn\\linear_model\\_coordinate_descent.py:470: ConvergenceWarning: Objective did not converge. You might want to increase the number of iterations. Duality gap: 3238.269805688462, tolerance: 3.321741422145181\n",
      "  model = cd_fast.enet_coordinate_descent_gram(\n",
      "C:\\Users\\ASUS\\anaconda3\\lib\\site-packages\\sklearn\\linear_model\\_coordinate_descent.py:470: ConvergenceWarning: Objective did not converge. You might want to increase the number of iterations. Duality gap: 3237.302024357498, tolerance: 3.321741422145181\n",
      "  model = cd_fast.enet_coordinate_descent_gram(\n",
      "C:\\Users\\ASUS\\anaconda3\\lib\\site-packages\\sklearn\\linear_model\\_coordinate_descent.py:470: ConvergenceWarning: Objective did not converge. You might want to increase the number of iterations. Duality gap: 3236.3622168570123, tolerance: 3.321741422145181\n",
      "  model = cd_fast.enet_coordinate_descent_gram(\n",
      "C:\\Users\\ASUS\\anaconda3\\lib\\site-packages\\sklearn\\linear_model\\_coordinate_descent.py:470: ConvergenceWarning: Objective did not converge. You might want to increase the number of iterations. Duality gap: 3235.451219633937, tolerance: 3.321741422145181\n",
      "  model = cd_fast.enet_coordinate_descent_gram(\n",
      "C:\\Users\\ASUS\\anaconda3\\lib\\site-packages\\sklearn\\linear_model\\_coordinate_descent.py:470: ConvergenceWarning: Objective did not converge. You might want to increase the number of iterations. Duality gap: 3234.569709813125, tolerance: 3.321741422145181\n",
      "  model = cd_fast.enet_coordinate_descent_gram(\n",
      "C:\\Users\\ASUS\\anaconda3\\lib\\site-packages\\sklearn\\linear_model\\_coordinate_descent.py:470: ConvergenceWarning: Objective did not converge. You might want to increase the number of iterations. Duality gap: 3233.7182092109197, tolerance: 3.321741422145181\n",
      "  model = cd_fast.enet_coordinate_descent_gram(\n",
      "C:\\Users\\ASUS\\anaconda3\\lib\\site-packages\\sklearn\\linear_model\\_coordinate_descent.py:470: ConvergenceWarning: Objective did not converge. You might want to increase the number of iterations. Duality gap: 3232.897091956788, tolerance: 3.321741422145181\n",
      "  model = cd_fast.enet_coordinate_descent_gram(\n",
      "C:\\Users\\ASUS\\anaconda3\\lib\\site-packages\\sklearn\\linear_model\\_coordinate_descent.py:470: ConvergenceWarning: Objective did not converge. You might want to increase the number of iterations. Duality gap: 3232.1065939618547, tolerance: 3.321741422145181\n",
      "  model = cd_fast.enet_coordinate_descent_gram(\n",
      "C:\\Users\\ASUS\\anaconda3\\lib\\site-packages\\sklearn\\linear_model\\_coordinate_descent.py:470: ConvergenceWarning: Objective did not converge. You might want to increase the number of iterations. Duality gap: 3231.3468227560925, tolerance: 3.321741422145181\n",
      "  model = cd_fast.enet_coordinate_descent_gram(\n",
      "C:\\Users\\ASUS\\anaconda3\\lib\\site-packages\\sklearn\\linear_model\\_coordinate_descent.py:470: ConvergenceWarning: Objective did not converge. You might want to increase the number of iterations. Duality gap: 3230.617767016657, tolerance: 3.321741422145181\n",
      "  model = cd_fast.enet_coordinate_descent_gram(\n",
      "C:\\Users\\ASUS\\anaconda3\\lib\\site-packages\\sklearn\\linear_model\\_coordinate_descent.py:470: ConvergenceWarning: Objective did not converge. You might want to increase the number of iterations. Duality gap: 4.531442144121684, tolerance: 3.336716238857712\n",
      "  model = cd_fast.enet_coordinate_descent_gram(\n",
      "C:\\Users\\ASUS\\anaconda3\\lib\\site-packages\\sklearn\\linear_model\\_coordinate_descent.py:470: ConvergenceWarning: Objective did not converge. You might want to increase the number of iterations. Duality gap: 78.49030119993131, tolerance: 3.336716238857712\n",
      "  model = cd_fast.enet_coordinate_descent_gram(\n",
      "C:\\Users\\ASUS\\anaconda3\\lib\\site-packages\\sklearn\\linear_model\\_coordinate_descent.py:470: ConvergenceWarning: Objective did not converge. You might want to increase the number of iterations. Duality gap: 91.88131972342853, tolerance: 3.336716238857712\n",
      "  model = cd_fast.enet_coordinate_descent_gram(\n",
      "C:\\Users\\ASUS\\anaconda3\\lib\\site-packages\\sklearn\\linear_model\\_coordinate_descent.py:470: ConvergenceWarning: Objective did not converge. You might want to increase the number of iterations. Duality gap: 68.47311927821283, tolerance: 3.336716238857712\n",
      "  model = cd_fast.enet_coordinate_descent_gram(\n",
      "C:\\Users\\ASUS\\anaconda3\\lib\\site-packages\\sklearn\\linear_model\\_coordinate_descent.py:470: ConvergenceWarning: Objective did not converge. You might want to increase the number of iterations. Duality gap: 127.40781833833262, tolerance: 3.336716238857712\n",
      "  model = cd_fast.enet_coordinate_descent_gram(\n"
     ]
    },
    {
     "name": "stderr",
     "output_type": "stream",
     "text": [
      "C:\\Users\\ASUS\\anaconda3\\lib\\site-packages\\sklearn\\linear_model\\_coordinate_descent.py:470: ConvergenceWarning: Objective did not converge. You might want to increase the number of iterations. Duality gap: 281.68481246884403, tolerance: 3.336716238857712\n",
      "  model = cd_fast.enet_coordinate_descent_gram(\n",
      "C:\\Users\\ASUS\\anaconda3\\lib\\site-packages\\sklearn\\linear_model\\_coordinate_descent.py:470: ConvergenceWarning: Objective did not converge. You might want to increase the number of iterations. Duality gap: 312.5187489144746, tolerance: 3.336716238857712\n",
      "  model = cd_fast.enet_coordinate_descent_gram(\n",
      "C:\\Users\\ASUS\\anaconda3\\lib\\site-packages\\sklearn\\linear_model\\_coordinate_descent.py:470: ConvergenceWarning: Objective did not converge. You might want to increase the number of iterations. Duality gap: 536.8800903723277, tolerance: 3.336716238857712\n",
      "  model = cd_fast.enet_coordinate_descent_gram(\n",
      "C:\\Users\\ASUS\\anaconda3\\lib\\site-packages\\sklearn\\linear_model\\_coordinate_descent.py:470: ConvergenceWarning: Objective did not converge. You might want to increase the number of iterations. Duality gap: 1183.6427017295555, tolerance: 3.336716238857712\n",
      "  model = cd_fast.enet_coordinate_descent_gram(\n",
      "C:\\Users\\ASUS\\anaconda3\\lib\\site-packages\\sklearn\\linear_model\\_coordinate_descent.py:470: ConvergenceWarning: Objective did not converge. You might want to increase the number of iterations. Duality gap: 1503.1464867916375, tolerance: 3.336716238857712\n",
      "  model = cd_fast.enet_coordinate_descent_gram(\n",
      "C:\\Users\\ASUS\\anaconda3\\lib\\site-packages\\sklearn\\linear_model\\_coordinate_descent.py:470: ConvergenceWarning: Objective did not converge. You might want to increase the number of iterations. Duality gap: 2319.9341759458976, tolerance: 3.336716238857712\n",
      "  model = cd_fast.enet_coordinate_descent_gram(\n",
      "C:\\Users\\ASUS\\anaconda3\\lib\\site-packages\\sklearn\\linear_model\\_coordinate_descent.py:470: ConvergenceWarning: Objective did not converge. You might want to increase the number of iterations. Duality gap: 2528.7032157206295, tolerance: 3.336716238857712\n",
      "  model = cd_fast.enet_coordinate_descent_gram(\n",
      "C:\\Users\\ASUS\\anaconda3\\lib\\site-packages\\sklearn\\linear_model\\_coordinate_descent.py:470: ConvergenceWarning: Objective did not converge. You might want to increase the number of iterations. Duality gap: 2679.8068716779494, tolerance: 3.336716238857712\n",
      "  model = cd_fast.enet_coordinate_descent_gram(\n",
      "C:\\Users\\ASUS\\anaconda3\\lib\\site-packages\\sklearn\\linear_model\\_coordinate_descent.py:470: ConvergenceWarning: Objective did not converge. You might want to increase the number of iterations. Duality gap: 2883.790590131966, tolerance: 3.336716238857712\n",
      "  model = cd_fast.enet_coordinate_descent_gram(\n",
      "C:\\Users\\ASUS\\anaconda3\\lib\\site-packages\\sklearn\\linear_model\\_coordinate_descent.py:470: ConvergenceWarning: Objective did not converge. You might want to increase the number of iterations. Duality gap: 3048.2903470790898, tolerance: 3.336716238857712\n",
      "  model = cd_fast.enet_coordinate_descent_gram(\n",
      "C:\\Users\\ASUS\\anaconda3\\lib\\site-packages\\sklearn\\linear_model\\_coordinate_descent.py:470: ConvergenceWarning: Objective did not converge. You might want to increase the number of iterations. Duality gap: 3149.134057350539, tolerance: 3.336716238857712\n",
      "  model = cd_fast.enet_coordinate_descent_gram(\n",
      "C:\\Users\\ASUS\\anaconda3\\lib\\site-packages\\sklearn\\linear_model\\_coordinate_descent.py:470: ConvergenceWarning: Objective did not converge. You might want to increase the number of iterations. Duality gap: 3208.3658032148487, tolerance: 3.336716238857712\n",
      "  model = cd_fast.enet_coordinate_descent_gram(\n",
      "C:\\Users\\ASUS\\anaconda3\\lib\\site-packages\\sklearn\\linear_model\\_coordinate_descent.py:470: ConvergenceWarning: Objective did not converge. You might want to increase the number of iterations. Duality gap: 3242.3178989261787, tolerance: 3.336716238857712\n",
      "  model = cd_fast.enet_coordinate_descent_gram(\n",
      "C:\\Users\\ASUS\\anaconda3\\lib\\site-packages\\sklearn\\linear_model\\_coordinate_descent.py:470: ConvergenceWarning: Objective did not converge. You might want to increase the number of iterations. Duality gap: 3261.6087001217697, tolerance: 3.336716238857712\n",
      "  model = cd_fast.enet_coordinate_descent_gram(\n",
      "C:\\Users\\ASUS\\anaconda3\\lib\\site-packages\\sklearn\\linear_model\\_coordinate_descent.py:470: ConvergenceWarning: Objective did not converge. You might want to increase the number of iterations. Duality gap: 3272.4665633733343, tolerance: 3.336716238857712\n",
      "  model = cd_fast.enet_coordinate_descent_gram(\n",
      "C:\\Users\\ASUS\\anaconda3\\lib\\site-packages\\sklearn\\linear_model\\_coordinate_descent.py:470: ConvergenceWarning: Objective did not converge. You might want to increase the number of iterations. Duality gap: 3278.328796778555, tolerance: 3.336716238857712\n",
      "  model = cd_fast.enet_coordinate_descent_gram(\n",
      "C:\\Users\\ASUS\\anaconda3\\lib\\site-packages\\sklearn\\linear_model\\_coordinate_descent.py:470: ConvergenceWarning: Objective did not converge. You might want to increase the number of iterations. Duality gap: 3281.4083803994167, tolerance: 3.336716238857712\n",
      "  model = cd_fast.enet_coordinate_descent_gram(\n",
      "C:\\Users\\ASUS\\anaconda3\\lib\\site-packages\\sklearn\\linear_model\\_coordinate_descent.py:470: ConvergenceWarning: Objective did not converge. You might want to increase the number of iterations. Duality gap: 3282.826075739251, tolerance: 3.336716238857712\n",
      "  model = cd_fast.enet_coordinate_descent_gram(\n",
      "C:\\Users\\ASUS\\anaconda3\\lib\\site-packages\\sklearn\\linear_model\\_coordinate_descent.py:470: ConvergenceWarning: Objective did not converge. You might want to increase the number of iterations. Duality gap: 3283.224149774975, tolerance: 3.336716238857712\n",
      "  model = cd_fast.enet_coordinate_descent_gram(\n",
      "C:\\Users\\ASUS\\anaconda3\\lib\\site-packages\\sklearn\\linear_model\\_coordinate_descent.py:470: ConvergenceWarning: Objective did not converge. You might want to increase the number of iterations. Duality gap: 3282.992566402759, tolerance: 3.336716238857712\n",
      "  model = cd_fast.enet_coordinate_descent_gram(\n",
      "C:\\Users\\ASUS\\anaconda3\\lib\\site-packages\\sklearn\\linear_model\\_coordinate_descent.py:470: ConvergenceWarning: Objective did not converge. You might want to increase the number of iterations. Duality gap: 3282.375621143211, tolerance: 3.336716238857712\n",
      "  model = cd_fast.enet_coordinate_descent_gram(\n",
      "C:\\Users\\ASUS\\anaconda3\\lib\\site-packages\\sklearn\\linear_model\\_coordinate_descent.py:470: ConvergenceWarning: Objective did not converge. You might want to increase the number of iterations. Duality gap: 3281.523296630746, tolerance: 3.336716238857712\n",
      "  model = cd_fast.enet_coordinate_descent_gram(\n",
      "C:\\Users\\ASUS\\anaconda3\\lib\\site-packages\\sklearn\\linear_model\\_coordinate_descent.py:470: ConvergenceWarning: Objective did not converge. You might want to increase the number of iterations. Duality gap: 3280.676281019931, tolerance: 3.336716238857712\n",
      "  model = cd_fast.enet_coordinate_descent_gram(\n",
      "C:\\Users\\ASUS\\anaconda3\\lib\\site-packages\\sklearn\\linear_model\\_coordinate_descent.py:470: ConvergenceWarning: Objective did not converge. You might want to increase the number of iterations. Duality gap: 3279.6558689440017, tolerance: 3.336716238857712\n",
      "  model = cd_fast.enet_coordinate_descent_gram(\n",
      "C:\\Users\\ASUS\\anaconda3\\lib\\site-packages\\sklearn\\linear_model\\_coordinate_descent.py:470: ConvergenceWarning: Objective did not converge. You might want to increase the number of iterations. Duality gap: 3278.535868259562, tolerance: 3.336716238857712\n",
      "  model = cd_fast.enet_coordinate_descent_gram(\n",
      "C:\\Users\\ASUS\\anaconda3\\lib\\site-packages\\sklearn\\linear_model\\_coordinate_descent.py:470: ConvergenceWarning: Objective did not converge. You might want to increase the number of iterations. Duality gap: 3277.3707339331622, tolerance: 3.336716238857712\n",
      "  model = cd_fast.enet_coordinate_descent_gram(\n",
      "C:\\Users\\ASUS\\anaconda3\\lib\\site-packages\\sklearn\\linear_model\\_coordinate_descent.py:470: ConvergenceWarning: Objective did not converge. You might want to increase the number of iterations. Duality gap: 3276.1898182820096, tolerance: 3.336716238857712\n",
      "  model = cd_fast.enet_coordinate_descent_gram(\n",
      "C:\\Users\\ASUS\\anaconda3\\lib\\site-packages\\sklearn\\linear_model\\_coordinate_descent.py:470: ConvergenceWarning: Objective did not converge. You might want to increase the number of iterations. Duality gap: 3275.0087904399898, tolerance: 3.336716238857712\n",
      "  model = cd_fast.enet_coordinate_descent_gram(\n",
      "C:\\Users\\ASUS\\anaconda3\\lib\\site-packages\\sklearn\\linear_model\\_coordinate_descent.py:470: ConvergenceWarning: Objective did not converge. You might want to increase the number of iterations. Duality gap: 3273.8359598335023, tolerance: 3.336716238857712\n",
      "  model = cd_fast.enet_coordinate_descent_gram(\n",
      "C:\\Users\\ASUS\\anaconda3\\lib\\site-packages\\sklearn\\linear_model\\_coordinate_descent.py:470: ConvergenceWarning: Objective did not converge. You might want to increase the number of iterations. Duality gap: 3272.6758006994455, tolerance: 3.336716238857712\n",
      "  model = cd_fast.enet_coordinate_descent_gram(\n",
      "C:\\Users\\ASUS\\anaconda3\\lib\\site-packages\\sklearn\\linear_model\\_coordinate_descent.py:470: ConvergenceWarning: Objective did not converge. You might want to increase the number of iterations. Duality gap: 3271.530838100662, tolerance: 3.336716238857712\n",
      "  model = cd_fast.enet_coordinate_descent_gram(\n",
      "C:\\Users\\ASUS\\anaconda3\\lib\\site-packages\\sklearn\\linear_model\\_coordinate_descent.py:470: ConvergenceWarning: Objective did not converge. You might want to increase the number of iterations. Duality gap: 3270.402732219386, tolerance: 3.336716238857712\n",
      "  model = cd_fast.enet_coordinate_descent_gram(\n",
      "C:\\Users\\ASUS\\anaconda3\\lib\\site-packages\\sklearn\\linear_model\\_coordinate_descent.py:470: ConvergenceWarning: Objective did not converge. You might want to increase the number of iterations. Duality gap: 3269.292791079562, tolerance: 3.336716238857712\n",
      "  model = cd_fast.enet_coordinate_descent_gram(\n",
      "C:\\Users\\ASUS\\anaconda3\\lib\\site-packages\\sklearn\\linear_model\\_coordinate_descent.py:470: ConvergenceWarning: Objective did not converge. You might want to increase the number of iterations. Duality gap: 3268.2022172842985, tolerance: 3.336716238857712\n",
      "  model = cd_fast.enet_coordinate_descent_gram(\n",
      "C:\\Users\\ASUS\\anaconda3\\lib\\site-packages\\sklearn\\linear_model\\_coordinate_descent.py:470: ConvergenceWarning: Objective did not converge. You might want to increase the number of iterations. Duality gap: 3267.1322032118824, tolerance: 3.336716238857712\n",
      "  model = cd_fast.enet_coordinate_descent_gram(\n",
      "C:\\Users\\ASUS\\anaconda3\\lib\\site-packages\\sklearn\\linear_model\\_coordinate_descent.py:470: ConvergenceWarning: Objective did not converge. You might want to increase the number of iterations. Duality gap: 3266.0839473554647, tolerance: 3.336716238857712\n",
      "  model = cd_fast.enet_coordinate_descent_gram(\n",
      "C:\\Users\\ASUS\\anaconda3\\lib\\site-packages\\sklearn\\linear_model\\_coordinate_descent.py:470: ConvergenceWarning: Objective did not converge. You might want to increase the number of iterations. Duality gap: 3265.058636731797, tolerance: 3.336716238857712\n",
      "  model = cd_fast.enet_coordinate_descent_gram(\n",
      "C:\\Users\\ASUS\\anaconda3\\lib\\site-packages\\sklearn\\linear_model\\_coordinate_descent.py:470: ConvergenceWarning: Objective did not converge. You might want to increase the number of iterations. Duality gap: 3264.0574146853783, tolerance: 3.336716238857712\n",
      "  model = cd_fast.enet_coordinate_descent_gram(\n",
      "C:\\Users\\ASUS\\anaconda3\\lib\\site-packages\\sklearn\\linear_model\\_coordinate_descent.py:470: ConvergenceWarning: Objective did not converge. You might want to increase the number of iterations. Duality gap: 3263.081350322348, tolerance: 3.336716238857712\n",
      "  model = cd_fast.enet_coordinate_descent_gram(\n"
     ]
    },
    {
     "name": "stderr",
     "output_type": "stream",
     "text": [
      "C:\\Users\\ASUS\\anaconda3\\lib\\site-packages\\sklearn\\linear_model\\_coordinate_descent.py:470: ConvergenceWarning: Objective did not converge. You might want to increase the number of iterations. Duality gap: 3262.131414097956, tolerance: 3.336716238857712\n",
      "  model = cd_fast.enet_coordinate_descent_gram(\n",
      "C:\\Users\\ASUS\\anaconda3\\lib\\site-packages\\sklearn\\linear_model\\_coordinate_descent.py:470: ConvergenceWarning: Objective did not converge. You might want to increase the number of iterations. Duality gap: 3261.208461361001, tolerance: 3.336716238857712\n",
      "  model = cd_fast.enet_coordinate_descent_gram(\n",
      "C:\\Users\\ASUS\\anaconda3\\lib\\site-packages\\sklearn\\linear_model\\_coordinate_descent.py:470: ConvergenceWarning: Objective did not converge. You might want to increase the number of iterations. Duality gap: 3260.3132234195173, tolerance: 3.336716238857712\n",
      "  model = cd_fast.enet_coordinate_descent_gram(\n",
      "C:\\Users\\ASUS\\anaconda3\\lib\\site-packages\\sklearn\\linear_model\\_coordinate_descent.py:470: ConvergenceWarning: Objective did not converge. You might want to increase the number of iterations. Duality gap: 3259.4463048627313, tolerance: 3.336716238857712\n",
      "  model = cd_fast.enet_coordinate_descent_gram(\n",
      "C:\\Users\\ASUS\\anaconda3\\lib\\site-packages\\sklearn\\linear_model\\_coordinate_descent.py:470: ConvergenceWarning: Objective did not converge. You might want to increase the number of iterations. Duality gap: 3258.6081852371185, tolerance: 3.336716238857712\n",
      "  model = cd_fast.enet_coordinate_descent_gram(\n",
      "C:\\Users\\ASUS\\anaconda3\\lib\\site-packages\\sklearn\\linear_model\\_coordinate_descent.py:470: ConvergenceWarning: Objective did not converge. You might want to increase the number of iterations. Duality gap: 3257.7992234207104, tolerance: 3.336716238857712\n",
      "  model = cd_fast.enet_coordinate_descent_gram(\n",
      "C:\\Users\\ASUS\\anaconda3\\lib\\site-packages\\sklearn\\linear_model\\_coordinate_descent.py:470: ConvergenceWarning: Objective did not converge. You might want to increase the number of iterations. Duality gap: 3257.0196633232604, tolerance: 3.336716238857712\n",
      "  model = cd_fast.enet_coordinate_descent_gram(\n",
      "C:\\Users\\ASUS\\anaconda3\\lib\\site-packages\\sklearn\\linear_model\\_coordinate_descent.py:470: ConvergenceWarning: Objective did not converge. You might want to increase the number of iterations. Duality gap: 3256.2696398147295, tolerance: 3.336716238857712\n",
      "  model = cd_fast.enet_coordinate_descent_gram(\n",
      "C:\\Users\\ASUS\\anaconda3\\lib\\site-packages\\sklearn\\linear_model\\_coordinate_descent.py:470: ConvergenceWarning: Objective did not converge. You might want to increase the number of iterations. Duality gap: 3255.549184293913, tolerance: 3.336716238857712\n",
      "  model = cd_fast.enet_coordinate_descent_gram(\n",
      "C:\\Users\\ASUS\\anaconda3\\lib\\site-packages\\sklearn\\linear_model\\_coordinate_descent.py:470: ConvergenceWarning: Objective did not converge. You might want to increase the number of iterations. Duality gap: 77.35147545894688, tolerance: 3.3097691647408563\n",
      "  model = cd_fast.enet_coordinate_descent_gram(\n",
      "C:\\Users\\ASUS\\anaconda3\\lib\\site-packages\\sklearn\\linear_model\\_coordinate_descent.py:470: ConvergenceWarning: Objective did not converge. You might want to increase the number of iterations. Duality gap: 88.73311920984452, tolerance: 3.3097691647408563\n",
      "  model = cd_fast.enet_coordinate_descent_gram(\n",
      "C:\\Users\\ASUS\\anaconda3\\lib\\site-packages\\sklearn\\linear_model\\_coordinate_descent.py:470: ConvergenceWarning: Objective did not converge. You might want to increase the number of iterations. Duality gap: 69.77098586362808, tolerance: 3.3097691647408563\n",
      "  model = cd_fast.enet_coordinate_descent_gram(\n",
      "C:\\Users\\ASUS\\anaconda3\\lib\\site-packages\\sklearn\\linear_model\\_coordinate_descent.py:470: ConvergenceWarning: Objective did not converge. You might want to increase the number of iterations. Duality gap: 128.84120111538687, tolerance: 3.3097691647408563\n",
      "  model = cd_fast.enet_coordinate_descent_gram(\n",
      "C:\\Users\\ASUS\\anaconda3\\lib\\site-packages\\sklearn\\linear_model\\_coordinate_descent.py:470: ConvergenceWarning: Objective did not converge. You might want to increase the number of iterations. Duality gap: 297.40498938944256, tolerance: 3.3097691647408563\n",
      "  model = cd_fast.enet_coordinate_descent_gram(\n",
      "C:\\Users\\ASUS\\anaconda3\\lib\\site-packages\\sklearn\\linear_model\\_coordinate_descent.py:470: ConvergenceWarning: Objective did not converge. You might want to increase the number of iterations. Duality gap: 304.2131683509524, tolerance: 3.3097691647408563\n",
      "  model = cd_fast.enet_coordinate_descent_gram(\n",
      "C:\\Users\\ASUS\\anaconda3\\lib\\site-packages\\sklearn\\linear_model\\_coordinate_descent.py:470: ConvergenceWarning: Objective did not converge. You might want to increase the number of iterations. Duality gap: 555.228673274778, tolerance: 3.3097691647408563\n",
      "  model = cd_fast.enet_coordinate_descent_gram(\n",
      "C:\\Users\\ASUS\\anaconda3\\lib\\site-packages\\sklearn\\linear_model\\_coordinate_descent.py:470: ConvergenceWarning: Objective did not converge. You might want to increase the number of iterations. Duality gap: 1076.1225587598528, tolerance: 3.3097691647408563\n",
      "  model = cd_fast.enet_coordinate_descent_gram(\n",
      "C:\\Users\\ASUS\\anaconda3\\lib\\site-packages\\sklearn\\linear_model\\_coordinate_descent.py:470: ConvergenceWarning: Objective did not converge. You might want to increase the number of iterations. Duality gap: 1489.643363161124, tolerance: 3.3097691647408563\n",
      "  model = cd_fast.enet_coordinate_descent_gram(\n",
      "C:\\Users\\ASUS\\anaconda3\\lib\\site-packages\\sklearn\\linear_model\\_coordinate_descent.py:470: ConvergenceWarning: Objective did not converge. You might want to increase the number of iterations. Duality gap: 2235.763105002619, tolerance: 3.3097691647408563\n",
      "  model = cd_fast.enet_coordinate_descent_gram(\n",
      "C:\\Users\\ASUS\\anaconda3\\lib\\site-packages\\sklearn\\linear_model\\_coordinate_descent.py:470: ConvergenceWarning: Objective did not converge. You might want to increase the number of iterations. Duality gap: 2494.5148655663534, tolerance: 3.3097691647408563\n",
      "  model = cd_fast.enet_coordinate_descent_gram(\n",
      "C:\\Users\\ASUS\\anaconda3\\lib\\site-packages\\sklearn\\linear_model\\_coordinate_descent.py:470: ConvergenceWarning: Objective did not converge. You might want to increase the number of iterations. Duality gap: 2647.1296973825783, tolerance: 3.3097691647408563\n",
      "  model = cd_fast.enet_coordinate_descent_gram(\n",
      "C:\\Users\\ASUS\\anaconda3\\lib\\site-packages\\sklearn\\linear_model\\_coordinate_descent.py:470: ConvergenceWarning: Objective did not converge. You might want to increase the number of iterations. Duality gap: 2847.3578988397617, tolerance: 3.3097691647408563\n",
      "  model = cd_fast.enet_coordinate_descent_gram(\n",
      "C:\\Users\\ASUS\\anaconda3\\lib\\site-packages\\sklearn\\linear_model\\_coordinate_descent.py:470: ConvergenceWarning: Objective did not converge. You might want to increase the number of iterations. Duality gap: 3013.9058625154526, tolerance: 3.3097691647408563\n",
      "  model = cd_fast.enet_coordinate_descent_gram(\n",
      "C:\\Users\\ASUS\\anaconda3\\lib\\site-packages\\sklearn\\linear_model\\_coordinate_descent.py:470: ConvergenceWarning: Objective did not converge. You might want to increase the number of iterations. Duality gap: 3111.5868923402286, tolerance: 3.3097691647408563\n",
      "  model = cd_fast.enet_coordinate_descent_gram(\n",
      "C:\\Users\\ASUS\\anaconda3\\lib\\site-packages\\sklearn\\linear_model\\_coordinate_descent.py:470: ConvergenceWarning: Objective did not converge. You might want to increase the number of iterations. Duality gap: 3170.0835335095653, tolerance: 3.3097691647408563\n",
      "  model = cd_fast.enet_coordinate_descent_gram(\n",
      "C:\\Users\\ASUS\\anaconda3\\lib\\site-packages\\sklearn\\linear_model\\_coordinate_descent.py:470: ConvergenceWarning: Objective did not converge. You might want to increase the number of iterations. Duality gap: 3203.2638122318544, tolerance: 3.3097691647408563\n",
      "  model = cd_fast.enet_coordinate_descent_gram(\n",
      "C:\\Users\\ASUS\\anaconda3\\lib\\site-packages\\sklearn\\linear_model\\_coordinate_descent.py:470: ConvergenceWarning: Objective did not converge. You might want to increase the number of iterations. Duality gap: 3222.467771515232, tolerance: 3.3097691647408563\n",
      "  model = cd_fast.enet_coordinate_descent_gram(\n",
      "C:\\Users\\ASUS\\anaconda3\\lib\\site-packages\\sklearn\\linear_model\\_coordinate_descent.py:470: ConvergenceWarning: Objective did not converge. You might want to increase the number of iterations. Duality gap: 3233.04123032081, tolerance: 3.3097691647408563\n",
      "  model = cd_fast.enet_coordinate_descent_gram(\n",
      "C:\\Users\\ASUS\\anaconda3\\lib\\site-packages\\sklearn\\linear_model\\_coordinate_descent.py:470: ConvergenceWarning: Objective did not converge. You might want to increase the number of iterations. Duality gap: 3238.9036117359656, tolerance: 3.3097691647408563\n",
      "  model = cd_fast.enet_coordinate_descent_gram(\n",
      "C:\\Users\\ASUS\\anaconda3\\lib\\site-packages\\sklearn\\linear_model\\_coordinate_descent.py:470: ConvergenceWarning: Objective did not converge. You might want to increase the number of iterations. Duality gap: 3241.9946736764405, tolerance: 3.3097691647408563\n",
      "  model = cd_fast.enet_coordinate_descent_gram(\n",
      "C:\\Users\\ASUS\\anaconda3\\lib\\site-packages\\sklearn\\linear_model\\_coordinate_descent.py:470: ConvergenceWarning: Objective did not converge. You might want to increase the number of iterations. Duality gap: 3243.4019416259807, tolerance: 3.3097691647408563\n",
      "  model = cd_fast.enet_coordinate_descent_gram(\n",
      "C:\\Users\\ASUS\\anaconda3\\lib\\site-packages\\sklearn\\linear_model\\_coordinate_descent.py:470: ConvergenceWarning: Objective did not converge. You might want to increase the number of iterations. Duality gap: 3243.7982594611995, tolerance: 3.3097691647408563\n",
      "  model = cd_fast.enet_coordinate_descent_gram(\n",
      "C:\\Users\\ASUS\\anaconda3\\lib\\site-packages\\sklearn\\linear_model\\_coordinate_descent.py:470: ConvergenceWarning: Objective did not converge. You might want to increase the number of iterations. Duality gap: 3243.5653633291295, tolerance: 3.3097691647408563\n",
      "  model = cd_fast.enet_coordinate_descent_gram(\n",
      "C:\\Users\\ASUS\\anaconda3\\lib\\site-packages\\sklearn\\linear_model\\_coordinate_descent.py:470: ConvergenceWarning: Objective did not converge. You might want to increase the number of iterations. Duality gap: 3242.947797240525, tolerance: 3.3097691647408563\n",
      "  model = cd_fast.enet_coordinate_descent_gram(\n",
      "C:\\Users\\ASUS\\anaconda3\\lib\\site-packages\\sklearn\\linear_model\\_coordinate_descent.py:470: ConvergenceWarning: Objective did not converge. You might want to increase the number of iterations. Duality gap: 3242.0971234197373, tolerance: 3.3097691647408563\n",
      "  model = cd_fast.enet_coordinate_descent_gram(\n",
      "C:\\Users\\ASUS\\anaconda3\\lib\\site-packages\\sklearn\\linear_model\\_coordinate_descent.py:470: ConvergenceWarning: Objective did not converge. You might want to increase the number of iterations. Duality gap: 3241.2644124907815, tolerance: 3.3097691647408563\n",
      "  model = cd_fast.enet_coordinate_descent_gram(\n",
      "C:\\Users\\ASUS\\anaconda3\\lib\\site-packages\\sklearn\\linear_model\\_coordinate_descent.py:470: ConvergenceWarning: Objective did not converge. You might want to increase the number of iterations. Duality gap: 3240.2460898661902, tolerance: 3.3097691647408563\n",
      "  model = cd_fast.enet_coordinate_descent_gram(\n",
      "C:\\Users\\ASUS\\anaconda3\\lib\\site-packages\\sklearn\\linear_model\\_coordinate_descent.py:470: ConvergenceWarning: Objective did not converge. You might want to increase the number of iterations. Duality gap: 3239.1312016471165, tolerance: 3.3097691647408563\n",
      "  model = cd_fast.enet_coordinate_descent_gram(\n",
      "C:\\Users\\ASUS\\anaconda3\\lib\\site-packages\\sklearn\\linear_model\\_coordinate_descent.py:470: ConvergenceWarning: Objective did not converge. You might want to increase the number of iterations. Duality gap: 3237.9733571063753, tolerance: 3.3097691647408563\n",
      "  model = cd_fast.enet_coordinate_descent_gram(\n",
      "C:\\Users\\ASUS\\anaconda3\\lib\\site-packages\\sklearn\\linear_model\\_coordinate_descent.py:470: ConvergenceWarning: Objective did not converge. You might want to increase the number of iterations. Duality gap: 3236.8014640310557, tolerance: 3.3097691647408563\n",
      "  model = cd_fast.enet_coordinate_descent_gram(\n",
      "C:\\Users\\ASUS\\anaconda3\\lib\\site-packages\\sklearn\\linear_model\\_coordinate_descent.py:470: ConvergenceWarning: Objective did not converge. You might want to increase the number of iterations. Duality gap: 3235.630965383067, tolerance: 3.3097691647408563\n",
      "  model = cd_fast.enet_coordinate_descent_gram(\n",
      "C:\\Users\\ASUS\\anaconda3\\lib\\site-packages\\sklearn\\linear_model\\_coordinate_descent.py:470: ConvergenceWarning: Objective did not converge. You might want to increase the number of iterations. Duality gap: 3234.4700608594667, tolerance: 3.3097691647408563\n",
      "  model = cd_fast.enet_coordinate_descent_gram(\n",
      "C:\\Users\\ASUS\\anaconda3\\lib\\site-packages\\sklearn\\linear_model\\_coordinate_descent.py:470: ConvergenceWarning: Objective did not converge. You might want to increase the number of iterations. Duality gap: 3233.323166191657, tolerance: 3.3097691647408563\n",
      "  model = cd_fast.enet_coordinate_descent_gram(\n",
      "C:\\Users\\ASUS\\anaconda3\\lib\\site-packages\\sklearn\\linear_model\\_coordinate_descent.py:470: ConvergenceWarning: Objective did not converge. You might want to increase the number of iterations. Duality gap: 3232.1928018861317, tolerance: 3.3097691647408563\n",
      "  model = cd_fast.enet_coordinate_descent_gram(\n",
      "C:\\Users\\ASUS\\anaconda3\\lib\\site-packages\\sklearn\\linear_model\\_coordinate_descent.py:470: ConvergenceWarning: Objective did not converge. You might want to increase the number of iterations. Duality gap: 3231.0806028377046, tolerance: 3.3097691647408563\n",
      "  model = cd_fast.enet_coordinate_descent_gram(\n",
      "C:\\Users\\ASUS\\anaconda3\\lib\\site-packages\\sklearn\\linear_model\\_coordinate_descent.py:470: ConvergenceWarning: Objective did not converge. You might want to increase the number of iterations. Duality gap: 3229.98785878565, tolerance: 3.3097691647408563\n",
      "  model = cd_fast.enet_coordinate_descent_gram(\n",
      "C:\\Users\\ASUS\\anaconda3\\lib\\site-packages\\sklearn\\linear_model\\_coordinate_descent.py:470: ConvergenceWarning: Objective did not converge. You might want to increase the number of iterations. Duality gap: 3228.915742539087, tolerance: 3.3097691647408563\n",
      "  model = cd_fast.enet_coordinate_descent_gram(\n",
      "C:\\Users\\ASUS\\anaconda3\\lib\\site-packages\\sklearn\\linear_model\\_coordinate_descent.py:470: ConvergenceWarning: Objective did not converge. You might want to increase the number of iterations. Duality gap: 3227.8654016480473, tolerance: 3.3097691647408563\n",
      "  model = cd_fast.enet_coordinate_descent_gram(\n",
      "C:\\Users\\ASUS\\anaconda3\\lib\\site-packages\\sklearn\\linear_model\\_coordinate_descent.py:470: ConvergenceWarning: Objective did not converge. You might want to increase the number of iterations. Duality gap: 3226.8379733861575, tolerance: 3.3097691647408563\n",
      "  model = cd_fast.enet_coordinate_descent_gram(\n",
      "C:\\Users\\ASUS\\anaconda3\\lib\\site-packages\\sklearn\\linear_model\\_coordinate_descent.py:470: ConvergenceWarning: Objective did not converge. You might want to increase the number of iterations. Duality gap: 3225.834565369395, tolerance: 3.3097691647408563\n",
      "  model = cd_fast.enet_coordinate_descent_gram(\n",
      "C:\\Users\\ASUS\\anaconda3\\lib\\site-packages\\sklearn\\linear_model\\_coordinate_descent.py:470: ConvergenceWarning: Objective did not converge. You might want to increase the number of iterations. Duality gap: 3224.8562256730065, tolerance: 3.3097691647408563\n",
      "  model = cd_fast.enet_coordinate_descent_gram(\n",
      "C:\\Users\\ASUS\\anaconda3\\lib\\site-packages\\sklearn\\linear_model\\_coordinate_descent.py:470: ConvergenceWarning: Objective did not converge. You might want to increase the number of iterations. Duality gap: 3223.903913610742, tolerance: 3.3097691647408563\n",
      "  model = cd_fast.enet_coordinate_descent_gram(\n",
      "C:\\Users\\ASUS\\anaconda3\\lib\\site-packages\\sklearn\\linear_model\\_coordinate_descent.py:470: ConvergenceWarning: Objective did not converge. You might want to increase the number of iterations. Duality gap: 3222.978477533377, tolerance: 3.3097691647408563\n",
      "  model = cd_fast.enet_coordinate_descent_gram(\n",
      "C:\\Users\\ASUS\\anaconda3\\lib\\site-packages\\sklearn\\linear_model\\_coordinate_descent.py:470: ConvergenceWarning: Objective did not converge. You might want to increase the number of iterations. Duality gap: 3222.0806410064642, tolerance: 3.3097691647408563\n",
      "  model = cd_fast.enet_coordinate_descent_gram(\n",
      "C:\\Users\\ASUS\\anaconda3\\lib\\site-packages\\sklearn\\linear_model\\_coordinate_descent.py:470: ConvergenceWarning: Objective did not converge. You might want to increase the number of iterations. Duality gap: 3221.2109966795547, tolerance: 3.3097691647408563\n",
      "  model = cd_fast.enet_coordinate_descent_gram(\n",
      "C:\\Users\\ASUS\\anaconda3\\lib\\site-packages\\sklearn\\linear_model\\_coordinate_descent.py:470: ConvergenceWarning: Objective did not converge. You might want to increase the number of iterations. Duality gap: 3220.3700065987878, tolerance: 3.3097691647408563\n",
      "  model = cd_fast.enet_coordinate_descent_gram(\n",
      "C:\\Users\\ASUS\\anaconda3\\lib\\site-packages\\sklearn\\linear_model\\_coordinate_descent.py:470: ConvergenceWarning: Objective did not converge. You might want to increase the number of iterations. Duality gap: 3219.5580066576326, tolerance: 3.3097691647408563\n",
      "  model = cd_fast.enet_coordinate_descent_gram(\n",
      "C:\\Users\\ASUS\\anaconda3\\lib\\site-packages\\sklearn\\linear_model\\_coordinate_descent.py:470: ConvergenceWarning: Objective did not converge. You might want to increase the number of iterations. Duality gap: 3218.7752138190426, tolerance: 3.3097691647408563\n",
      "  model = cd_fast.enet_coordinate_descent_gram(\n",
      "C:\\Users\\ASUS\\anaconda3\\lib\\site-packages\\sklearn\\linear_model\\_coordinate_descent.py:470: ConvergenceWarning: Objective did not converge. You might want to increase the number of iterations. Duality gap: 3218.0217343621252, tolerance: 3.3097691647408563\n",
      "  model = cd_fast.enet_coordinate_descent_gram(\n",
      "C:\\Users\\ASUS\\anaconda3\\lib\\site-packages\\sklearn\\linear_model\\_coordinate_descent.py:470: ConvergenceWarning: Objective did not converge. You might want to increase the number of iterations. Duality gap: 3217.297572176099, tolerance: 3.3097691647408563\n",
      "  model = cd_fast.enet_coordinate_descent_gram(\n",
      "C:\\Users\\ASUS\\anaconda3\\lib\\site-packages\\sklearn\\linear_model\\_coordinate_descent.py:470: ConvergenceWarning: Objective did not converge. You might want to increase the number of iterations. Duality gap: 3216.602636347254, tolerance: 3.3097691647408563\n",
      "  model = cd_fast.enet_coordinate_descent_gram(\n"
     ]
    },
    {
     "name": "stderr",
     "output_type": "stream",
     "text": [
      "C:\\Users\\ASUS\\anaconda3\\lib\\site-packages\\sklearn\\linear_model\\_coordinate_descent.py:470: ConvergenceWarning: Objective did not converge. You might want to increase the number of iterations. Duality gap: 76.38062745057505, tolerance: 3.320874343842843\n",
      "  model = cd_fast.enet_coordinate_descent_gram(\n",
      "C:\\Users\\ASUS\\anaconda3\\lib\\site-packages\\sklearn\\linear_model\\_coordinate_descent.py:470: ConvergenceWarning: Objective did not converge. You might want to increase the number of iterations. Duality gap: 89.74915789544139, tolerance: 3.320874343842843\n",
      "  model = cd_fast.enet_coordinate_descent_gram(\n",
      "C:\\Users\\ASUS\\anaconda3\\lib\\site-packages\\sklearn\\linear_model\\_coordinate_descent.py:470: ConvergenceWarning: Objective did not converge. You might want to increase the number of iterations. Duality gap: 66.45251649595957, tolerance: 3.320874343842843\n",
      "  model = cd_fast.enet_coordinate_descent_gram(\n",
      "C:\\Users\\ASUS\\anaconda3\\lib\\site-packages\\sklearn\\linear_model\\_coordinate_descent.py:470: ConvergenceWarning: Objective did not converge. You might want to increase the number of iterations. Duality gap: 121.10793768708572, tolerance: 3.320874343842843\n",
      "  model = cd_fast.enet_coordinate_descent_gram(\n",
      "C:\\Users\\ASUS\\anaconda3\\lib\\site-packages\\sklearn\\linear_model\\_coordinate_descent.py:470: ConvergenceWarning: Objective did not converge. You might want to increase the number of iterations. Duality gap: 254.75112059027015, tolerance: 3.320874343842843\n",
      "  model = cd_fast.enet_coordinate_descent_gram(\n",
      "C:\\Users\\ASUS\\anaconda3\\lib\\site-packages\\sklearn\\linear_model\\_coordinate_descent.py:470: ConvergenceWarning: Objective did not converge. You might want to increase the number of iterations. Duality gap: 295.31932565655734, tolerance: 3.320874343842843\n",
      "  model = cd_fast.enet_coordinate_descent_gram(\n",
      "C:\\Users\\ASUS\\anaconda3\\lib\\site-packages\\sklearn\\linear_model\\_coordinate_descent.py:470: ConvergenceWarning: Objective did not converge. You might want to increase the number of iterations. Duality gap: 505.0067980785607, tolerance: 3.320874343842843\n",
      "  model = cd_fast.enet_coordinate_descent_gram(\n",
      "C:\\Users\\ASUS\\anaconda3\\lib\\site-packages\\sklearn\\linear_model\\_coordinate_descent.py:470: ConvergenceWarning: Objective did not converge. You might want to increase the number of iterations. Duality gap: 1159.1631678670383, tolerance: 3.320874343842843\n",
      "  model = cd_fast.enet_coordinate_descent_gram(\n",
      "C:\\Users\\ASUS\\anaconda3\\lib\\site-packages\\sklearn\\linear_model\\_coordinate_descent.py:470: ConvergenceWarning: Objective did not converge. You might want to increase the number of iterations. Duality gap: 1459.4915705148833, tolerance: 3.320874343842843\n",
      "  model = cd_fast.enet_coordinate_descent_gram(\n",
      "C:\\Users\\ASUS\\anaconda3\\lib\\site-packages\\sklearn\\linear_model\\_coordinate_descent.py:470: ConvergenceWarning: Objective did not converge. You might want to increase the number of iterations. Duality gap: 2176.519646365441, tolerance: 3.320874343842843\n",
      "  model = cd_fast.enet_coordinate_descent_gram(\n",
      "C:\\Users\\ASUS\\anaconda3\\lib\\site-packages\\sklearn\\linear_model\\_coordinate_descent.py:470: ConvergenceWarning: Objective did not converge. You might want to increase the number of iterations. Duality gap: 2443.1322572161303, tolerance: 3.320874343842843\n",
      "  model = cd_fast.enet_coordinate_descent_gram(\n",
      "C:\\Users\\ASUS\\anaconda3\\lib\\site-packages\\sklearn\\linear_model\\_coordinate_descent.py:470: ConvergenceWarning: Objective did not converge. You might want to increase the number of iterations. Duality gap: 2582.0887732853193, tolerance: 3.320874343842843\n",
      "  model = cd_fast.enet_coordinate_descent_gram(\n",
      "C:\\Users\\ASUS\\anaconda3\\lib\\site-packages\\sklearn\\linear_model\\_coordinate_descent.py:470: ConvergenceWarning: Objective did not converge. You might want to increase the number of iterations. Duality gap: 2801.2028194615646, tolerance: 3.320874343842843\n",
      "  model = cd_fast.enet_coordinate_descent_gram(\n",
      "C:\\Users\\ASUS\\anaconda3\\lib\\site-packages\\sklearn\\linear_model\\_coordinate_descent.py:470: ConvergenceWarning: Objective did not converge. You might want to increase the number of iterations. Duality gap: 2973.4223566898536, tolerance: 3.320874343842843\n",
      "  model = cd_fast.enet_coordinate_descent_gram(\n",
      "C:\\Users\\ASUS\\anaconda3\\lib\\site-packages\\sklearn\\linear_model\\_coordinate_descent.py:470: ConvergenceWarning: Objective did not converge. You might want to increase the number of iterations. Duality gap: 3087.840389850536, tolerance: 3.320874343842843\n",
      "  model = cd_fast.enet_coordinate_descent_gram(\n",
      "C:\\Users\\ASUS\\anaconda3\\lib\\site-packages\\sklearn\\linear_model\\_coordinate_descent.py:470: ConvergenceWarning: Objective did not converge. You might want to increase the number of iterations. Duality gap: 3147.612556970182, tolerance: 3.320874343842843\n",
      "  model = cd_fast.enet_coordinate_descent_gram(\n",
      "C:\\Users\\ASUS\\anaconda3\\lib\\site-packages\\sklearn\\linear_model\\_coordinate_descent.py:470: ConvergenceWarning: Objective did not converge. You might want to increase the number of iterations. Duality gap: 3180.87056270393, tolerance: 3.320874343842843\n",
      "  model = cd_fast.enet_coordinate_descent_gram(\n",
      "C:\\Users\\ASUS\\anaconda3\\lib\\site-packages\\sklearn\\linear_model\\_coordinate_descent.py:470: ConvergenceWarning: Objective did not converge. You might want to increase the number of iterations. Duality gap: 3199.6457644952166, tolerance: 3.320874343842843\n",
      "  model = cd_fast.enet_coordinate_descent_gram(\n",
      "C:\\Users\\ASUS\\anaconda3\\lib\\site-packages\\sklearn\\linear_model\\_coordinate_descent.py:470: ConvergenceWarning: Objective did not converge. You might want to increase the number of iterations. Duality gap: 3210.0710026820343, tolerance: 3.320874343842843\n",
      "  model = cd_fast.enet_coordinate_descent_gram(\n",
      "C:\\Users\\ASUS\\anaconda3\\lib\\site-packages\\sklearn\\linear_model\\_coordinate_descent.py:470: ConvergenceWarning: Objective did not converge. You might want to increase the number of iterations. Duality gap: 3215.7467228986525, tolerance: 3.320874343842843\n",
      "  model = cd_fast.enet_coordinate_descent_gram(\n",
      "C:\\Users\\ASUS\\anaconda3\\lib\\site-packages\\sklearn\\linear_model\\_coordinate_descent.py:470: ConvergenceWarning: Objective did not converge. You might want to increase the number of iterations. Duality gap: 3218.6638117695843, tolerance: 3.320874343842843\n",
      "  model = cd_fast.enet_coordinate_descent_gram(\n",
      "C:\\Users\\ASUS\\anaconda3\\lib\\site-packages\\sklearn\\linear_model\\_coordinate_descent.py:470: ConvergenceWarning: Objective did not converge. You might want to increase the number of iterations. Duality gap: 3219.956119415938, tolerance: 3.320874343842843\n",
      "  model = cd_fast.enet_coordinate_descent_gram(\n",
      "C:\\Users\\ASUS\\anaconda3\\lib\\site-packages\\sklearn\\linear_model\\_coordinate_descent.py:470: ConvergenceWarning: Objective did not converge. You might want to increase the number of iterations. Duality gap: 3220.264287005382, tolerance: 3.320874343842843\n",
      "  model = cd_fast.enet_coordinate_descent_gram(\n",
      "C:\\Users\\ASUS\\anaconda3\\lib\\site-packages\\sklearn\\linear_model\\_coordinate_descent.py:470: ConvergenceWarning: Objective did not converge. You might want to increase the number of iterations. Duality gap: 3219.9757455395907, tolerance: 3.320874343842843\n",
      "  model = cd_fast.enet_coordinate_descent_gram(\n",
      "C:\\Users\\ASUS\\anaconda3\\lib\\site-packages\\sklearn\\linear_model\\_coordinate_descent.py:470: ConvergenceWarning: Objective did not converge. You might want to increase the number of iterations. Duality gap: 3219.3256229754816, tolerance: 3.320874343842843\n",
      "  model = cd_fast.enet_coordinate_descent_gram(\n",
      "C:\\Users\\ASUS\\anaconda3\\lib\\site-packages\\sklearn\\linear_model\\_coordinate_descent.py:470: ConvergenceWarning: Objective did not converge. You might want to increase the number of iterations. Duality gap: 3218.4580396162846, tolerance: 3.320874343842843\n",
      "  model = cd_fast.enet_coordinate_descent_gram(\n",
      "C:\\Users\\ASUS\\anaconda3\\lib\\site-packages\\sklearn\\linear_model\\_coordinate_descent.py:470: ConvergenceWarning: Objective did not converge. You might want to increase the number of iterations. Duality gap: 3217.557617010801, tolerance: 3.320874343842843\n",
      "  model = cd_fast.enet_coordinate_descent_gram(\n",
      "C:\\Users\\ASUS\\anaconda3\\lib\\site-packages\\sklearn\\linear_model\\_coordinate_descent.py:470: ConvergenceWarning: Objective did not converge. You might want to increase the number of iterations. Duality gap: 3216.5543008697177, tolerance: 3.320874343842843\n",
      "  model = cd_fast.enet_coordinate_descent_gram(\n",
      "C:\\Users\\ASUS\\anaconda3\\lib\\site-packages\\sklearn\\linear_model\\_coordinate_descent.py:470: ConvergenceWarning: Objective did not converge. You might want to increase the number of iterations. Duality gap: 3215.454134031219, tolerance: 3.320874343842843\n",
      "  model = cd_fast.enet_coordinate_descent_gram(\n",
      "C:\\Users\\ASUS\\anaconda3\\lib\\site-packages\\sklearn\\linear_model\\_coordinate_descent.py:470: ConvergenceWarning: Objective did not converge. You might want to increase the number of iterations. Duality gap: 3214.3086107583968, tolerance: 3.320874343842843\n",
      "  model = cd_fast.enet_coordinate_descent_gram(\n",
      "C:\\Users\\ASUS\\anaconda3\\lib\\site-packages\\sklearn\\linear_model\\_coordinate_descent.py:470: ConvergenceWarning: Objective did not converge. You might want to increase the number of iterations. Duality gap: 3213.1455857191618, tolerance: 3.320874343842843\n",
      "  model = cd_fast.enet_coordinate_descent_gram(\n",
      "C:\\Users\\ASUS\\anaconda3\\lib\\site-packages\\sklearn\\linear_model\\_coordinate_descent.py:470: ConvergenceWarning: Objective did not converge. You might want to increase the number of iterations. Duality gap: 3211.98003251339, tolerance: 3.320874343842843\n",
      "  model = cd_fast.enet_coordinate_descent_gram(\n",
      "C:\\Users\\ASUS\\anaconda3\\lib\\site-packages\\sklearn\\linear_model\\_coordinate_descent.py:470: ConvergenceWarning: Objective did not converge. You might want to increase the number of iterations. Duality gap: 3210.8200127119835, tolerance: 3.320874343842843\n",
      "  model = cd_fast.enet_coordinate_descent_gram(\n",
      "C:\\Users\\ASUS\\anaconda3\\lib\\site-packages\\sklearn\\linear_model\\_coordinate_descent.py:470: ConvergenceWarning: Objective did not converge. You might want to increase the number of iterations. Duality gap: 3209.670053282046, tolerance: 3.320874343842843\n",
      "  model = cd_fast.enet_coordinate_descent_gram(\n",
      "C:\\Users\\ASUS\\anaconda3\\lib\\site-packages\\sklearn\\linear_model\\_coordinate_descent.py:470: ConvergenceWarning: Objective did not converge. You might want to increase the number of iterations. Duality gap: 3208.5329142339942, tolerance: 3.320874343842843\n",
      "  model = cd_fast.enet_coordinate_descent_gram(\n",
      "C:\\Users\\ASUS\\anaconda3\\lib\\site-packages\\sklearn\\linear_model\\_coordinate_descent.py:470: ConvergenceWarning: Objective did not converge. You might want to increase the number of iterations. Duality gap: 3207.4106018055804, tolerance: 3.320874343842843\n",
      "  model = cd_fast.enet_coordinate_descent_gram(\n",
      "C:\\Users\\ASUS\\anaconda3\\lib\\site-packages\\sklearn\\linear_model\\_coordinate_descent.py:470: ConvergenceWarning: Objective did not converge. You might want to increase the number of iterations. Duality gap: 3206.3048260685377, tolerance: 3.320874343842843\n",
      "  model = cd_fast.enet_coordinate_descent_gram(\n",
      "C:\\Users\\ASUS\\anaconda3\\lib\\site-packages\\sklearn\\linear_model\\_coordinate_descent.py:470: ConvergenceWarning: Objective did not converge. You might want to increase the number of iterations. Duality gap: 3205.2172091432653, tolerance: 3.320874343842843\n",
      "  model = cd_fast.enet_coordinate_descent_gram(\n",
      "C:\\Users\\ASUS\\anaconda3\\lib\\site-packages\\sklearn\\linear_model\\_coordinate_descent.py:470: ConvergenceWarning: Objective did not converge. You might want to increase the number of iterations. Duality gap: 3204.1493516958208, tolerance: 3.320874343842843\n",
      "  model = cd_fast.enet_coordinate_descent_gram(\n",
      "C:\\Users\\ASUS\\anaconda3\\lib\\site-packages\\sklearn\\linear_model\\_coordinate_descent.py:470: ConvergenceWarning: Objective did not converge. You might want to increase the number of iterations. Duality gap: 3203.102829508193, tolerance: 3.320874343842843\n",
      "  model = cd_fast.enet_coordinate_descent_gram(\n",
      "C:\\Users\\ASUS\\anaconda3\\lib\\site-packages\\sklearn\\linear_model\\_coordinate_descent.py:470: ConvergenceWarning: Objective did not converge. You might want to increase the number of iterations. Duality gap: 3202.0791615686367, tolerance: 3.320874343842843\n",
      "  model = cd_fast.enet_coordinate_descent_gram(\n",
      "C:\\Users\\ASUS\\anaconda3\\lib\\site-packages\\sklearn\\linear_model\\_coordinate_descent.py:470: ConvergenceWarning: Objective did not converge. You might want to increase the number of iterations. Duality gap: 3201.079772534712, tolerance: 3.320874343842843\n",
      "  model = cd_fast.enet_coordinate_descent_gram(\n",
      "C:\\Users\\ASUS\\anaconda3\\lib\\site-packages\\sklearn\\linear_model\\_coordinate_descent.py:470: ConvergenceWarning: Objective did not converge. You might want to increase the number of iterations. Duality gap: 3200.1059605645887, tolerance: 3.320874343842843\n",
      "  model = cd_fast.enet_coordinate_descent_gram(\n",
      "C:\\Users\\ASUS\\anaconda3\\lib\\site-packages\\sklearn\\linear_model\\_coordinate_descent.py:470: ConvergenceWarning: Objective did not converge. You might want to increase the number of iterations. Duality gap: 3199.158875148375, tolerance: 3.320874343842843\n",
      "  model = cd_fast.enet_coordinate_descent_gram(\n",
      "C:\\Users\\ASUS\\anaconda3\\lib\\site-packages\\sklearn\\linear_model\\_coordinate_descent.py:470: ConvergenceWarning: Objective did not converge. You might want to increase the number of iterations. Duality gap: 3198.2395052240067, tolerance: 3.320874343842843\n",
      "  model = cd_fast.enet_coordinate_descent_gram(\n",
      "C:\\Users\\ASUS\\anaconda3\\lib\\site-packages\\sklearn\\linear_model\\_coordinate_descent.py:470: ConvergenceWarning: Objective did not converge. You might want to increase the number of iterations. Duality gap: 3197.348676221837, tolerance: 3.320874343842843\n",
      "  model = cd_fast.enet_coordinate_descent_gram(\n",
      "C:\\Users\\ASUS\\anaconda3\\lib\\site-packages\\sklearn\\linear_model\\_coordinate_descent.py:470: ConvergenceWarning: Objective did not converge. You might want to increase the number of iterations. Duality gap: 3196.48705376118, tolerance: 3.320874343842843\n",
      "  model = cd_fast.enet_coordinate_descent_gram(\n",
      "C:\\Users\\ASUS\\anaconda3\\lib\\site-packages\\sklearn\\linear_model\\_coordinate_descent.py:470: ConvergenceWarning: Objective did not converge. You might want to increase the number of iterations. Duality gap: 3195.6551513915083, tolerance: 3.320874343842843\n",
      "  model = cd_fast.enet_coordinate_descent_gram(\n",
      "C:\\Users\\ASUS\\anaconda3\\lib\\site-packages\\sklearn\\linear_model\\_coordinate_descent.py:470: ConvergenceWarning: Objective did not converge. You might want to increase the number of iterations. Duality gap: 3194.853340465, tolerance: 3.320874343842843\n",
      "  model = cd_fast.enet_coordinate_descent_gram(\n",
      "C:\\Users\\ASUS\\anaconda3\\lib\\site-packages\\sklearn\\linear_model\\_coordinate_descent.py:470: ConvergenceWarning: Objective did not converge. You might want to increase the number of iterations. Duality gap: 3194.0818602906597, tolerance: 3.320874343842843\n",
      "  model = cd_fast.enet_coordinate_descent_gram(\n"
     ]
    },
    {
     "name": "stderr",
     "output_type": "stream",
     "text": [
      "C:\\Users\\ASUS\\anaconda3\\lib\\site-packages\\sklearn\\linear_model\\_coordinate_descent.py:470: ConvergenceWarning: Objective did not converge. You might want to increase the number of iterations. Duality gap: 3193.3408276801047, tolerance: 3.320874343842843\n",
      "  model = cd_fast.enet_coordinate_descent_gram(\n",
      "C:\\Users\\ASUS\\anaconda3\\lib\\site-packages\\sklearn\\linear_model\\_coordinate_descent.py:470: ConvergenceWarning: Objective did not converge. You might want to increase the number of iterations. Duality gap: 3192.6302449927202, tolerance: 3.320874343842843\n",
      "  model = cd_fast.enet_coordinate_descent_gram(\n",
      "C:\\Users\\ASUS\\anaconda3\\lib\\site-packages\\sklearn\\linear_model\\_coordinate_descent.py:470: ConvergenceWarning: Objective did not converge. You might want to increase the number of iterations. Duality gap: 79.87265580577878, tolerance: 3.3042524554308272\n",
      "  model = cd_fast.enet_coordinate_descent_gram(\n",
      "C:\\Users\\ASUS\\anaconda3\\lib\\site-packages\\sklearn\\linear_model\\_coordinate_descent.py:470: ConvergenceWarning: Objective did not converge. You might want to increase the number of iterations. Duality gap: 93.7762746155795, tolerance: 3.3042524554308272\n",
      "  model = cd_fast.enet_coordinate_descent_gram(\n",
      "C:\\Users\\ASUS\\anaconda3\\lib\\site-packages\\sklearn\\linear_model\\_coordinate_descent.py:470: ConvergenceWarning: Objective did not converge. You might want to increase the number of iterations. Duality gap: 67.65570120170378, tolerance: 3.3042524554308272\n",
      "  model = cd_fast.enet_coordinate_descent_gram(\n",
      "C:\\Users\\ASUS\\anaconda3\\lib\\site-packages\\sklearn\\linear_model\\_coordinate_descent.py:470: ConvergenceWarning: Objective did not converge. You might want to increase the number of iterations. Duality gap: 123.47041105836797, tolerance: 3.3042524554308272\n",
      "  model = cd_fast.enet_coordinate_descent_gram(\n",
      "C:\\Users\\ASUS\\anaconda3\\lib\\site-packages\\sklearn\\linear_model\\_coordinate_descent.py:470: ConvergenceWarning: Objective did not converge. You might want to increase the number of iterations. Duality gap: 188.2400841433846, tolerance: 3.3042524554308272\n",
      "  model = cd_fast.enet_coordinate_descent_gram(\n",
      "C:\\Users\\ASUS\\anaconda3\\lib\\site-packages\\sklearn\\linear_model\\_coordinate_descent.py:470: ConvergenceWarning: Objective did not converge. You might want to increase the number of iterations. Duality gap: 277.34648943082175, tolerance: 3.3042524554308272\n",
      "  model = cd_fast.enet_coordinate_descent_gram(\n",
      "C:\\Users\\ASUS\\anaconda3\\lib\\site-packages\\sklearn\\linear_model\\_coordinate_descent.py:470: ConvergenceWarning: Objective did not converge. You might want to increase the number of iterations. Duality gap: 506.7335395245782, tolerance: 3.3042524554308272\n",
      "  model = cd_fast.enet_coordinate_descent_gram(\n",
      "C:\\Users\\ASUS\\anaconda3\\lib\\site-packages\\sklearn\\linear_model\\_coordinate_descent.py:470: ConvergenceWarning: Objective did not converge. You might want to increase the number of iterations. Duality gap: 833.0432748288222, tolerance: 3.3042524554308272\n",
      "  model = cd_fast.enet_coordinate_descent_gram(\n",
      "C:\\Users\\ASUS\\anaconda3\\lib\\site-packages\\sklearn\\linear_model\\_coordinate_descent.py:470: ConvergenceWarning: Objective did not converge. You might want to increase the number of iterations. Duality gap: 1286.6353212256513, tolerance: 3.3042524554308272\n",
      "  model = cd_fast.enet_coordinate_descent_gram(\n",
      "C:\\Users\\ASUS\\anaconda3\\lib\\site-packages\\sklearn\\linear_model\\_coordinate_descent.py:470: ConvergenceWarning: Objective did not converge. You might want to increase the number of iterations. Duality gap: 2268.8136741368467, tolerance: 3.3042524554308272\n",
      "  model = cd_fast.enet_coordinate_descent_gram(\n",
      "C:\\Users\\ASUS\\anaconda3\\lib\\site-packages\\sklearn\\linear_model\\_coordinate_descent.py:470: ConvergenceWarning: Objective did not converge. You might want to increase the number of iterations. Duality gap: 2480.6231749010103, tolerance: 3.3042524554308272\n",
      "  model = cd_fast.enet_coordinate_descent_gram(\n",
      "C:\\Users\\ASUS\\anaconda3\\lib\\site-packages\\sklearn\\linear_model\\_coordinate_descent.py:470: ConvergenceWarning: Objective did not converge. You might want to increase the number of iterations. Duality gap: 2642.3740102257298, tolerance: 3.3042524554308272\n",
      "  model = cd_fast.enet_coordinate_descent_gram(\n",
      "C:\\Users\\ASUS\\anaconda3\\lib\\site-packages\\sklearn\\linear_model\\_coordinate_descent.py:470: ConvergenceWarning: Objective did not converge. You might want to increase the number of iterations. Duality gap: 2844.107043060618, tolerance: 3.3042524554308272\n",
      "  model = cd_fast.enet_coordinate_descent_gram(\n",
      "C:\\Users\\ASUS\\anaconda3\\lib\\site-packages\\sklearn\\linear_model\\_coordinate_descent.py:470: ConvergenceWarning: Objective did not converge. You might want to increase the number of iterations. Duality gap: 3007.5981958425655, tolerance: 3.3042524554308272\n",
      "  model = cd_fast.enet_coordinate_descent_gram(\n",
      "C:\\Users\\ASUS\\anaconda3\\lib\\site-packages\\sklearn\\linear_model\\_coordinate_descent.py:470: ConvergenceWarning: Objective did not converge. You might want to increase the number of iterations. Duality gap: 3114.3214217183327, tolerance: 3.3042524554308272\n",
      "  model = cd_fast.enet_coordinate_descent_gram(\n",
      "C:\\Users\\ASUS\\anaconda3\\lib\\site-packages\\sklearn\\linear_model\\_coordinate_descent.py:470: ConvergenceWarning: Objective did not converge. You might want to increase the number of iterations. Duality gap: 3173.493651003114, tolerance: 3.3042524554308272\n",
      "  model = cd_fast.enet_coordinate_descent_gram(\n",
      "C:\\Users\\ASUS\\anaconda3\\lib\\site-packages\\sklearn\\linear_model\\_coordinate_descent.py:470: ConvergenceWarning: Objective did not converge. You might want to increase the number of iterations. Duality gap: 3207.198002245916, tolerance: 3.3042524554308272\n",
      "  model = cd_fast.enet_coordinate_descent_gram(\n",
      "C:\\Users\\ASUS\\anaconda3\\lib\\site-packages\\sklearn\\linear_model\\_coordinate_descent.py:470: ConvergenceWarning: Objective did not converge. You might want to increase the number of iterations. Duality gap: 3226.467720916006, tolerance: 3.3042524554308272\n",
      "  model = cd_fast.enet_coordinate_descent_gram(\n",
      "C:\\Users\\ASUS\\anaconda3\\lib\\site-packages\\sklearn\\linear_model\\_coordinate_descent.py:470: ConvergenceWarning: Objective did not converge. You might want to increase the number of iterations. Duality gap: 3237.2469147914003, tolerance: 3.3042524554308272\n",
      "  model = cd_fast.enet_coordinate_descent_gram(\n",
      "C:\\Users\\ASUS\\anaconda3\\lib\\site-packages\\sklearn\\linear_model\\_coordinate_descent.py:470: ConvergenceWarning: Objective did not converge. You might want to increase the number of iterations. Duality gap: 3243.169995155071, tolerance: 3.3042524554308272\n",
      "  model = cd_fast.enet_coordinate_descent_gram(\n",
      "C:\\Users\\ASUS\\anaconda3\\lib\\site-packages\\sklearn\\linear_model\\_coordinate_descent.py:470: ConvergenceWarning: Objective did not converge. You might want to increase the number of iterations. Duality gap: 3246.2692040993916, tolerance: 3.3042524554308272\n",
      "  model = cd_fast.enet_coordinate_descent_gram(\n",
      "C:\\Users\\ASUS\\anaconda3\\lib\\site-packages\\sklearn\\linear_model\\_coordinate_descent.py:470: ConvergenceWarning: Objective did not converge. You might want to increase the number of iterations. Duality gap: 3247.6875515273696, tolerance: 3.3042524554308272\n",
      "  model = cd_fast.enet_coordinate_descent_gram(\n",
      "C:\\Users\\ASUS\\anaconda3\\lib\\site-packages\\sklearn\\linear_model\\_coordinate_descent.py:470: ConvergenceWarning: Objective did not converge. You might want to increase the number of iterations. Duality gap: 3248.0886528147207, tolerance: 3.3042524554308272\n",
      "  model = cd_fast.enet_coordinate_descent_gram(\n",
      "C:\\Users\\ASUS\\anaconda3\\lib\\site-packages\\sklearn\\linear_model\\_coordinate_descent.py:470: ConvergenceWarning: Objective did not converge. You might want to increase the number of iterations. Duality gap: 3247.8680878824675, tolerance: 3.3042524554308272\n",
      "  model = cd_fast.enet_coordinate_descent_gram(\n",
      "C:\\Users\\ASUS\\anaconda3\\lib\\site-packages\\sklearn\\linear_model\\_coordinate_descent.py:470: ConvergenceWarning: Objective did not converge. You might want to increase the number of iterations. Duality gap: 3247.269693965934, tolerance: 3.3042524554308272\n",
      "  model = cd_fast.enet_coordinate_descent_gram(\n",
      "C:\\Users\\ASUS\\anaconda3\\lib\\site-packages\\sklearn\\linear_model\\_coordinate_descent.py:470: ConvergenceWarning: Objective did not converge. You might want to increase the number of iterations. Duality gap: 3246.442392913848, tolerance: 3.3042524554308272\n",
      "  model = cd_fast.enet_coordinate_descent_gram(\n",
      "C:\\Users\\ASUS\\anaconda3\\lib\\site-packages\\sklearn\\linear_model\\_coordinate_descent.py:470: ConvergenceWarning: Objective did not converge. You might want to increase the number of iterations. Duality gap: 3245.6046230373845, tolerance: 3.3042524554308272\n",
      "  model = cd_fast.enet_coordinate_descent_gram(\n",
      "C:\\Users\\ASUS\\anaconda3\\lib\\site-packages\\sklearn\\linear_model\\_coordinate_descent.py:470: ConvergenceWarning: Objective did not converge. You might want to increase the number of iterations. Duality gap: 3244.6223015537553, tolerance: 3.3042524554308272\n",
      "  model = cd_fast.enet_coordinate_descent_gram(\n",
      "C:\\Users\\ASUS\\anaconda3\\lib\\site-packages\\sklearn\\linear_model\\_coordinate_descent.py:470: ConvergenceWarning: Objective did not converge. You might want to increase the number of iterations. Duality gap: 3243.5437653447652, tolerance: 3.3042524554308272\n",
      "  model = cd_fast.enet_coordinate_descent_gram(\n",
      "C:\\Users\\ASUS\\anaconda3\\lib\\site-packages\\sklearn\\linear_model\\_coordinate_descent.py:470: ConvergenceWarning: Objective did not converge. You might want to increase the number of iterations. Duality gap: 3242.421951264476, tolerance: 3.3042524554308272\n",
      "  model = cd_fast.enet_coordinate_descent_gram(\n",
      "C:\\Users\\ASUS\\anaconda3\\lib\\site-packages\\sklearn\\linear_model\\_coordinate_descent.py:470: ConvergenceWarning: Objective did not converge. You might want to increase the number of iterations. Duality gap: 3241.2854704430315, tolerance: 3.3042524554308272\n",
      "  model = cd_fast.enet_coordinate_descent_gram(\n",
      "C:\\Users\\ASUS\\anaconda3\\lib\\site-packages\\sklearn\\linear_model\\_coordinate_descent.py:470: ConvergenceWarning: Objective did not converge. You might want to increase the number of iterations. Duality gap: 3240.1496327901505, tolerance: 3.3042524554308272\n",
      "  model = cd_fast.enet_coordinate_descent_gram(\n",
      "C:\\Users\\ASUS\\anaconda3\\lib\\site-packages\\sklearn\\linear_model\\_coordinate_descent.py:470: ConvergenceWarning: Objective did not converge. You might want to increase the number of iterations. Duality gap: 3239.0226371367276, tolerance: 3.3042524554308272\n",
      "  model = cd_fast.enet_coordinate_descent_gram(\n",
      "C:\\Users\\ASUS\\anaconda3\\lib\\site-packages\\sklearn\\linear_model\\_coordinate_descent.py:470: ConvergenceWarning: Objective did not converge. You might want to increase the number of iterations. Duality gap: 3237.90892943032, tolerance: 3.3042524554308272\n",
      "  model = cd_fast.enet_coordinate_descent_gram(\n",
      "C:\\Users\\ASUS\\anaconda3\\lib\\site-packages\\sklearn\\linear_model\\_coordinate_descent.py:470: ConvergenceWarning: Objective did not converge. You might want to increase the number of iterations. Duality gap: 3236.8110807572357, tolerance: 3.3042524554308272\n",
      "  model = cd_fast.enet_coordinate_descent_gram(\n",
      "C:\\Users\\ASUS\\anaconda3\\lib\\site-packages\\sklearn\\linear_model\\_coordinate_descent.py:470: ConvergenceWarning: Objective did not converge. You might want to increase the number of iterations. Duality gap: 3235.730797754739, tolerance: 3.3042524554308272\n",
      "  model = cd_fast.enet_coordinate_descent_gram(\n",
      "C:\\Users\\ASUS\\anaconda3\\lib\\site-packages\\sklearn\\linear_model\\_coordinate_descent.py:470: ConvergenceWarning: Objective did not converge. You might want to increase the number of iterations. Duality gap: 3234.669438890682, tolerance: 3.3042524554308272\n",
      "  model = cd_fast.enet_coordinate_descent_gram(\n",
      "C:\\Users\\ASUS\\anaconda3\\lib\\site-packages\\sklearn\\linear_model\\_coordinate_descent.py:470: ConvergenceWarning: Objective did not converge. You might want to increase the number of iterations. Duality gap: 3233.628251731828, tolerance: 3.3042524554308272\n",
      "  model = cd_fast.enet_coordinate_descent_gram(\n",
      "C:\\Users\\ASUS\\anaconda3\\lib\\site-packages\\sklearn\\linear_model\\_coordinate_descent.py:470: ConvergenceWarning: Objective did not converge. You might want to increase the number of iterations. Duality gap: 3232.6084601310445, tolerance: 3.3042524554308272\n",
      "  model = cd_fast.enet_coordinate_descent_gram(\n",
      "C:\\Users\\ASUS\\anaconda3\\lib\\site-packages\\sklearn\\linear_model\\_coordinate_descent.py:470: ConvergenceWarning: Objective did not converge. You might want to increase the number of iterations. Duality gap: 3231.6112748095666, tolerance: 3.3042524554308272\n",
      "  model = cd_fast.enet_coordinate_descent_gram(\n",
      "C:\\Users\\ASUS\\anaconda3\\lib\\site-packages\\sklearn\\linear_model\\_coordinate_descent.py:470: ConvergenceWarning: Objective did not converge. You might want to increase the number of iterations. Duality gap: 3230.637870003101, tolerance: 3.3042524554308272\n",
      "  model = cd_fast.enet_coordinate_descent_gram(\n",
      "C:\\Users\\ASUS\\anaconda3\\lib\\site-packages\\sklearn\\linear_model\\_coordinate_descent.py:470: ConvergenceWarning: Objective did not converge. You might want to increase the number of iterations. Duality gap: 3229.68935003152, tolerance: 3.3042524554308272\n",
      "  model = cd_fast.enet_coordinate_descent_gram(\n",
      "C:\\Users\\ASUS\\anaconda3\\lib\\site-packages\\sklearn\\linear_model\\_coordinate_descent.py:470: ConvergenceWarning: Objective did not converge. You might want to increase the number of iterations. Duality gap: 3228.7667179803566, tolerance: 3.3042524554308272\n",
      "  model = cd_fast.enet_coordinate_descent_gram(\n",
      "C:\\Users\\ASUS\\anaconda3\\lib\\site-packages\\sklearn\\linear_model\\_coordinate_descent.py:470: ConvergenceWarning: Objective did not converge. You might want to increase the number of iterations. Duality gap: 3227.8708522454954, tolerance: 3.3042524554308272\n",
      "  model = cd_fast.enet_coordinate_descent_gram(\n",
      "C:\\Users\\ASUS\\anaconda3\\lib\\site-packages\\sklearn\\linear_model\\_coordinate_descent.py:470: ConvergenceWarning: Objective did not converge. You might want to increase the number of iterations. Duality gap: 3227.0024922349926, tolerance: 3.3042524554308272\n",
      "  model = cd_fast.enet_coordinate_descent_gram(\n",
      "C:\\Users\\ASUS\\anaconda3\\lib\\site-packages\\sklearn\\linear_model\\_coordinate_descent.py:470: ConvergenceWarning: Objective did not converge. You might want to increase the number of iterations. Duality gap: 3226.162232709445, tolerance: 3.3042524554308272\n",
      "  model = cd_fast.enet_coordinate_descent_gram(\n",
      "C:\\Users\\ASUS\\anaconda3\\lib\\site-packages\\sklearn\\linear_model\\_coordinate_descent.py:470: ConvergenceWarning: Objective did not converge. You might want to increase the number of iterations. Duality gap: 3225.3505249569366, tolerance: 3.3042524554308272\n",
      "  model = cd_fast.enet_coordinate_descent_gram(\n",
      "C:\\Users\\ASUS\\anaconda3\\lib\\site-packages\\sklearn\\linear_model\\_coordinate_descent.py:470: ConvergenceWarning: Objective did not converge. You might want to increase the number of iterations. Duality gap: 3224.567682767927, tolerance: 3.3042524554308272\n",
      "  model = cd_fast.enet_coordinate_descent_gram(\n",
      "C:\\Users\\ASUS\\anaconda3\\lib\\site-packages\\sklearn\\linear_model\\_coordinate_descent.py:470: ConvergenceWarning: Objective did not converge. You might want to increase the number of iterations. Duality gap: 3223.813891286974, tolerance: 3.3042524554308272\n",
      "  model = cd_fast.enet_coordinate_descent_gram(\n",
      "C:\\Users\\ASUS\\anaconda3\\lib\\site-packages\\sklearn\\linear_model\\_coordinate_descent.py:470: ConvergenceWarning: Objective did not converge. You might want to increase the number of iterations. Duality gap: 3223.0892170123384, tolerance: 3.3042524554308272\n",
      "  model = cd_fast.enet_coordinate_descent_gram(\n",
      "C:\\Users\\ASUS\\anaconda3\\lib\\site-packages\\sklearn\\linear_model\\_coordinate_descent.py:470: ConvergenceWarning: Objective did not converge. You might want to increase the number of iterations. Duality gap: 3222.393617877685, tolerance: 3.3042524554308272\n",
      "  model = cd_fast.enet_coordinate_descent_gram(\n",
      "C:\\Users\\ASUS\\anaconda3\\lib\\site-packages\\sklearn\\linear_model\\_coordinate_descent.py:470: ConvergenceWarning: Objective did not converge. You might want to increase the number of iterations. Duality gap: 3221.726952540782, tolerance: 3.3042524554308272\n",
      "  model = cd_fast.enet_coordinate_descent_gram(\n"
     ]
    },
    {
     "name": "stderr",
     "output_type": "stream",
     "text": [
      "C:\\Users\\ASUS\\anaconda3\\lib\\site-packages\\sklearn\\linear_model\\_coordinate_descent.py:474: ConvergenceWarning: Objective did not converge. You might want to increase the number of iterations. Duality gap: 4108.213993478774, tolerance: 3.982019509594866\n",
      "  model = cd_fast.enet_coordinate_descent(\n"
     ]
    },
    {
     "name": "stdout",
     "output_type": "stream",
     "text": [
      "Best Alpha: 1e-10\n",
      "Mean Squared Error: 0.29957316117122246\n"
     ]
    },
    {
     "name": "stderr",
     "output_type": "stream",
     "text": [
      "C:\\Users\\ASUS\\anaconda3\\lib\\site-packages\\sklearn\\linear_model\\_coordinate_descent.py:474: ConvergenceWarning: Objective did not converge. You might want to increase the number of iterations. Duality gap: 4108.213993478774, tolerance: 3.982019509594866\n",
      "  model = cd_fast.enet_coordinate_descent(\n"
     ]
    }
   ],
   "source": [
    "alp = np.logspace(-10, 10, 100)  \n",
    "\n",
    "lasso_cv = LassoCV(alphas=alp, cv=6)  \n",
    "\n",
    "lasso_cv.fit(X_train, y_train)\n",
    "\n",
    "alpha_val = lasso_cv.alpha_\n",
    "\n",
    "print(\"Best Alpha:\", alpha_val)\n",
    "\n",
    "final_lasso = Lasso(alpha=alpha_val)\n",
    "final_lasso.fit(X_train, y_train)\n",
    "\n",
    "y_pred = final_lasso.predict(X_test)\n",
    "mean_sq_err = mean_squared_error(y_test, y_pred)\n",
    "\n",
    "print(\"Mean Squared Error:\", mean_sq_err)"
   ]
  },
  {
   "cell_type": "code",
   "execution_count": 88,
   "id": "8173b9c6",
   "metadata": {},
   "outputs": [
    {
     "name": "stdout",
     "output_type": "stream",
     "text": [
      "Mean Squared Error: 0.29957316117122246\n",
      "['LEFT_SHOULDER_Z', 'LEFT_ELBOW_X', 'LEFT_ELBOW_Z', 'LEFT_HIP_X', 'RIGHT_HIP_Z', 'Left_Sho_Wrist_Angle', 'Nose_Left_Wrist', 'Nose_Left_Elbow', 'Nose_Right_Wrist_Angle', 'Right_Sho_Wrist Angle', 'Nose_Right_Elbow']\n"
     ]
    },
    {
     "name": "stderr",
     "output_type": "stream",
     "text": [
      "C:\\Users\\ASUS\\anaconda3\\lib\\site-packages\\sklearn\\linear_model\\_coordinate_descent.py:474: ConvergenceWarning: Objective did not converge. You might want to increase the number of iterations. Duality gap: 4108.213993478774, tolerance: 3.982019509594866\n",
      "  model = cd_fast.enet_coordinate_descent(\n"
     ]
    }
   ],
   "source": [
    "#By using the alphe value from previos step, finding the feature the infleance the output most.\n",
    "#Best Alpha: 1e-06\n",
    "#Mean Squared Error: 0.10416667916202277\n",
    "\n",
    "coef_lis =[]\n",
    "\n",
    "lasso = Lasso(alpha=1e-10)\n",
    "\n",
    "lasso.fit(X_train, y_train)\n",
    "\n",
    "y_pred = lasso.predict(X_test)\n",
    "\n",
    "mean_sq_err = mean_squared_error(y_test, y_pred)\n",
    "print(\"Mean Squared Error:\", mean_sq_err)\n",
    "\n",
    "coeff = pd.DataFrame({'Features': X_train.columns, 'Coefficients': lasso.coef_})\n",
    "\n",
    "\n",
    "for i,j in zip(coeff['Features'],coeff['Coefficients']):\n",
    "    if (j>0.01 or j<-0.01):\n",
    "        coef_lis.append(i)\n",
    "\n",
    "#for j in range(len(coeff)):\n",
    "    #if coeff.iloc[j][1]!= i>0.01 or coeff.iloc[j][1]!= i<-0.01:\n",
    "        #c((coeff.iloc[j][0]))\n",
    "        \n",
    "        \n",
    "        \n",
    "#coef_lis.append('Nose_Right_Wrist_Angle')\n",
    "#coef_lis.append('Right_Sho_Wrist Angle') \n",
    "#coef_lis.append('Nose_Right_Elbow')\n",
    "         \n",
    "        \n",
    "#coef_lis.append('Left_Sho_Wrist_Angle')\n",
    "#coef_lis.append('Nose_Left_Wrist') \n",
    "#coef_lis.append('Nose_Left_Elbow')\n",
    "    \n",
    "print(coef_lis)"
   ]
  },
  {
   "cell_type": "code",
   "execution_count": 53,
   "id": "d11d9f88",
   "metadata": {},
   "outputs": [
    {
     "name": "stdout",
     "output_type": "stream",
     "text": [
      "[0.01297337396686898, 0.01220480403920476, -0.0179111018906866, -0.01635260337769221, 0.011736211674369747, -0.05831453982060606, -0.04684548377038655, -0.033987527333995515, -0.031743919763601885, -0.05120769979692899, 0.12495218489576589]\n"
     ]
    }
   ],
   "source": [
    "print(([i for i in coeff['Coefficients'] if (i>0.01 or i<-0.01)]))"
   ]
  },
  {
   "cell_type": "code",
   "execution_count": 20,
   "id": "a00a5526",
   "metadata": {},
   "outputs": [
    {
     "data": {
      "image/png": "[encoded data removed]",
      "text/plain": [
       "<Figure size 1080x1080 with 1 Axes>"
      ]
     },
     "metadata": {
      "needs_background": "light"
     },
     "output_type": "display_data"
    }
   ],
   "source": [
    "plt.figure(figsize=(15, 15))\n",
    "plt.bar(range(len(coef_lis)), coef_lis)\n",
    "plt.xlabel('Coefficient Index')\n",
    "plt.ylabel('Coefficient Value')\n",
    "plt.title('Non-Zero Coefficients for Lasso Regression (alpha=1e-10)')\n",
    "plt.xticks(range(len(coef_lis)), [str(i) for i in range(len(coef_lis))])\n",
    "plt.grid(True)\n",
    "plt.show()"
   ]
  },
  {
   "cell_type": "code",
   "execution_count": 54,
   "id": "068e3c8e",
   "metadata": {},
   "outputs": [
    {
     "name": "stdout",
     "output_type": "stream",
     "text": [
      "0.01297337396686898 --------- LEFT_SHOULDER_Z\n",
      "0.01220480403920476 --------- LEFT_ELBOW_X\n",
      "-0.0179111018906866 --------- LEFT_ELBOW_Z\n",
      "-0.01635260337769221 --------- LEFT_HIP_X\n",
      "0.011736211674369747 --------- RIGHT_HIP_Z\n",
      "-0.05831453982060606 --------- Left_Sho_Wrist_Angle\n",
      "-0.04684548377038655 --------- Nose_Left_Wrist\n",
      "-0.033987527333995515 --------- Nose_Left_Elbow\n",
      "-0.031743919763601885 --------- Nose_Right_Wrist_Angle\n",
      "-0.05120769979692899 --------- Right_Sho_Wrist Angle\n"
     ]
    }
   ],
   "source": [
    "for i,j in zip(coeff['Coefficients'],coef_lis):\n",
    "    if (i>0.01 or i<-0.01):\n",
    "        print(i,\"---------\",j)"
   ]
  },
  {
   "cell_type": "code",
   "execution_count": 68,
   "id": "d5743430",
   "metadata": {},
   "outputs": [],
   "source": [
    "#Creating new train-test split using the newly found features\n",
    "new_X = model_data[coef_lis]\n",
    "new_X_train, new_X_test, y_train, y_test = train_test_split(new_X, y, test_size=0.3, random_state= None,shuffle=True)"
   ]
  },
  {
   "cell_type": "code",
   "execution_count": 69,
   "id": "0ffb66be",
   "metadata": {},
   "outputs": [],
   "source": [
    "X_to_test = test_kev[coef_lis]"
   ]
  },
  {
   "cell_type": "code",
   "execution_count": 48,
   "id": "a40ee904",
   "metadata": {},
   "outputs": [],
   "source": [
    "new_X = df[coef_lis]"
   ]
  },
  {
   "cell_type": "code",
   "execution_count": 70,
   "id": "88094359",
   "metadata": {},
   "outputs": [
    {
     "data": {
      "text/html": [
       "<div>\n",
       "<style scoped>\n",
       "    .dataframe tbody tr th:only-of-type {\n",
       "        vertical-align: middle;\n",
       "    }\n",
       "\n",
       "    .dataframe tbody tr th {\n",
       "        vertical-align: top;\n",
       "    }\n",
       "\n",
       "    .dataframe thead th {\n",
       "        text-align: right;\n",
       "    }\n",
       "</style>\n",
       "<table border=\"1\" class=\"dataframe\">\n",
       "  <thead>\n",
       "    <tr style=\"text-align: right;\">\n",
       "      <th></th>\n",
       "      <th>LEFT_SHOULDER_Z</th>\n",
       "      <th>LEFT_ELBOW_X</th>\n",
       "      <th>LEFT_ELBOW_Z</th>\n",
       "      <th>LEFT_HIP_X</th>\n",
       "      <th>RIGHT_HIP_Z</th>\n",
       "      <th>Left_Sho_Wrist_Angle</th>\n",
       "      <th>Nose_Left_Wrist</th>\n",
       "      <th>Nose_Left_Elbow</th>\n",
       "      <th>Nose_Right_Wrist_Angle</th>\n",
       "      <th>Right_Sho_Wrist Angle</th>\n",
       "      <th>Nose_Right_Elbow</th>\n",
       "    </tr>\n",
       "  </thead>\n",
       "  <tbody>\n",
       "    <tr>\n",
       "      <th>0</th>\n",
       "      <td>0.097256</td>\n",
       "      <td>0.385520</td>\n",
       "      <td>0.218673</td>\n",
       "      <td>0.374279</td>\n",
       "      <td>-0.154749</td>\n",
       "      <td>1.253485</td>\n",
       "      <td>1.380747</td>\n",
       "      <td>1.629800</td>\n",
       "      <td>2.184579</td>\n",
       "      <td>1.664838</td>\n",
       "      <td>2.497794</td>\n",
       "    </tr>\n",
       "    <tr>\n",
       "      <th>1</th>\n",
       "      <td>0.175091</td>\n",
       "      <td>0.382995</td>\n",
       "      <td>0.261512</td>\n",
       "      <td>0.373840</td>\n",
       "      <td>-0.155073</td>\n",
       "      <td>1.278204</td>\n",
       "      <td>1.406325</td>\n",
       "      <td>1.649709</td>\n",
       "      <td>2.187863</td>\n",
       "      <td>1.663589</td>\n",
       "      <td>2.507557</td>\n",
       "    </tr>\n",
       "    <tr>\n",
       "      <th>2</th>\n",
       "      <td>0.185736</td>\n",
       "      <td>0.380898</td>\n",
       "      <td>0.270470</td>\n",
       "      <td>0.373335</td>\n",
       "      <td>-0.155450</td>\n",
       "      <td>1.292996</td>\n",
       "      <td>1.420526</td>\n",
       "      <td>1.666095</td>\n",
       "      <td>2.189647</td>\n",
       "      <td>1.664194</td>\n",
       "      <td>2.510686</td>\n",
       "    </tr>\n",
       "    <tr>\n",
       "      <th>3</th>\n",
       "      <td>0.178089</td>\n",
       "      <td>0.379626</td>\n",
       "      <td>0.265612</td>\n",
       "      <td>0.372936</td>\n",
       "      <td>-0.155461</td>\n",
       "      <td>1.298850</td>\n",
       "      <td>1.426114</td>\n",
       "      <td>1.675857</td>\n",
       "      <td>2.190554</td>\n",
       "      <td>1.663929</td>\n",
       "      <td>2.511905</td>\n",
       "    </tr>\n",
       "    <tr>\n",
       "      <th>4</th>\n",
       "      <td>0.171813</td>\n",
       "      <td>0.379061</td>\n",
       "      <td>0.260608</td>\n",
       "      <td>0.372508</td>\n",
       "      <td>-0.155767</td>\n",
       "      <td>1.301431</td>\n",
       "      <td>1.428055</td>\n",
       "      <td>1.680128</td>\n",
       "      <td>2.191076</td>\n",
       "      <td>1.662867</td>\n",
       "      <td>2.512940</td>\n",
       "    </tr>\n",
       "    <tr>\n",
       "      <th>...</th>\n",
       "      <td>...</td>\n",
       "      <td>...</td>\n",
       "      <td>...</td>\n",
       "      <td>...</td>\n",
       "      <td>...</td>\n",
       "      <td>...</td>\n",
       "      <td>...</td>\n",
       "      <td>...</td>\n",
       "      <td>...</td>\n",
       "      <td>...</td>\n",
       "      <td>...</td>\n",
       "    </tr>\n",
       "    <tr>\n",
       "      <th>789</th>\n",
       "      <td>68.100954</td>\n",
       "      <td>415.794711</td>\n",
       "      <td>93.601992</td>\n",
       "      <td>445.072246</td>\n",
       "      <td>-68.932123</td>\n",
       "      <td>-1.903740</td>\n",
       "      <td>-2.220360</td>\n",
       "      <td>-2.439770</td>\n",
       "      <td>-1.717207</td>\n",
       "      <td>-1.676663</td>\n",
       "      <td>-1.761567</td>\n",
       "    </tr>\n",
       "    <tr>\n",
       "      <th>790</th>\n",
       "      <td>62.849430</td>\n",
       "      <td>415.832670</td>\n",
       "      <td>89.056109</td>\n",
       "      <td>445.497129</td>\n",
       "      <td>-68.884964</td>\n",
       "      <td>-1.899850</td>\n",
       "      <td>-2.218322</td>\n",
       "      <td>-2.438111</td>\n",
       "      <td>-1.705543</td>\n",
       "      <td>-1.661155</td>\n",
       "      <td>-1.756199</td>\n",
       "    </tr>\n",
       "    <tr>\n",
       "      <th>791</th>\n",
       "      <td>63.582843</td>\n",
       "      <td>416.055186</td>\n",
       "      <td>89.975699</td>\n",
       "      <td>445.943856</td>\n",
       "      <td>-68.919752</td>\n",
       "      <td>-1.895237</td>\n",
       "      <td>-2.214868</td>\n",
       "      <td>-2.435621</td>\n",
       "      <td>-1.702983</td>\n",
       "      <td>-1.657132</td>\n",
       "      <td>-1.749919</td>\n",
       "    </tr>\n",
       "    <tr>\n",
       "      <th>792</th>\n",
       "      <td>64.661601</td>\n",
       "      <td>416.133978</td>\n",
       "      <td>92.334552</td>\n",
       "      <td>446.216304</td>\n",
       "      <td>-69.235936</td>\n",
       "      <td>-1.887328</td>\n",
       "      <td>-2.209066</td>\n",
       "      <td>-2.430917</td>\n",
       "      <td>-1.682290</td>\n",
       "      <td>-1.628947</td>\n",
       "      <td>-1.742389</td>\n",
       "    </tr>\n",
       "    <tr>\n",
       "      <th>793</th>\n",
       "      <td>73.890905</td>\n",
       "      <td>416.194940</td>\n",
       "      <td>99.827346</td>\n",
       "      <td>446.700110</td>\n",
       "      <td>-71.906279</td>\n",
       "      <td>-1.880694</td>\n",
       "      <td>-2.201539</td>\n",
       "      <td>-2.424127</td>\n",
       "      <td>-1.669463</td>\n",
       "      <td>-1.613756</td>\n",
       "      <td>-1.735263</td>\n",
       "    </tr>\n",
       "  </tbody>\n",
       "</table>\n",
       "<p>41541 rows × 11 columns</p>\n",
       "</div>"
      ],
      "text/plain": [
       "     LEFT_SHOULDER_Z  LEFT_ELBOW_X  LEFT_ELBOW_Z  LEFT_HIP_X  RIGHT_HIP_Z  \\\n",
       "0           0.097256      0.385520      0.218673    0.374279    -0.154749   \n",
       "1           0.175091      0.382995      0.261512    0.373840    -0.155073   \n",
       "2           0.185736      0.380898      0.270470    0.373335    -0.155450   \n",
       "3           0.178089      0.379626      0.265612    0.372936    -0.155461   \n",
       "4           0.171813      0.379061      0.260608    0.372508    -0.155767   \n",
       "..               ...           ...           ...         ...          ...   \n",
       "789        68.100954    415.794711     93.601992  445.072246   -68.932123   \n",
       "790        62.849430    415.832670     89.056109  445.497129   -68.884964   \n",
       "791        63.582843    416.055186     89.975699  445.943856   -68.919752   \n",
       "792        64.661601    416.133978     92.334552  446.216304   -69.235936   \n",
       "793        73.890905    416.194940     99.827346  446.700110   -71.906279   \n",
       "\n",
       "     Left_Sho_Wrist_Angle  Nose_Left_Wrist  Nose_Left_Elbow  \\\n",
       "0                1.253485         1.380747         1.629800   \n",
       "1                1.278204         1.406325         1.649709   \n",
       "2                1.292996         1.420526         1.666095   \n",
       "3                1.298850         1.426114         1.675857   \n",
       "4                1.301431         1.428055         1.680128   \n",
       "..                    ...              ...              ...   \n",
       "789             -1.903740        -2.220360        -2.439770   \n",
       "790             -1.899850        -2.218322        -2.438111   \n",
       "791             -1.895237        -2.214868        -2.435621   \n",
       "792             -1.887328        -2.209066        -2.430917   \n",
       "793             -1.880694        -2.201539        -2.424127   \n",
       "\n",
       "     Nose_Right_Wrist_Angle  Right_Sho_Wrist Angle  Nose_Right_Elbow  \n",
       "0                  2.184579               1.664838          2.497794  \n",
       "1                  2.187863               1.663589          2.507557  \n",
       "2                  2.189647               1.664194          2.510686  \n",
       "3                  2.190554               1.663929          2.511905  \n",
       "4                  2.191076               1.662867          2.512940  \n",
       "..                      ...                    ...               ...  \n",
       "789               -1.717207              -1.676663         -1.761567  \n",
       "790               -1.705543              -1.661155         -1.756199  \n",
       "791               -1.702983              -1.657132         -1.749919  \n",
       "792               -1.682290              -1.628947         -1.742389  \n",
       "793               -1.669463              -1.613756         -1.735263  \n",
       "\n",
       "[41541 rows x 11 columns]"
      ]
     },
     "execution_count": 70,
     "metadata": {},
     "output_type": "execute_result"
    }
   ],
   "source": [
    "new_X"
   ]
  },
  {
   "cell_type": "markdown",
   "id": "5ed2a4f3",
   "metadata": {},
   "source": [
    "*RANDOM SEARCH FOR HIT*"
   ]
  },
  {
   "cell_type": "code",
   "execution_count": 15,
   "id": "b09d4286",
   "metadata": {},
   "outputs": [],
   "source": [
    "#Defing the range of values to be validated for each parameter\n",
    "\n",
    "#param_grid = {'max_depth': [6, 10, 15, 20],'learning_rate': [0.001, 0.01, 0.1, 0.2, 0,3],'subsample': [0.5, 0.6, 0.7, 0.8, 0.9, 1.0],'colsample_bytree': [0.4, 0.5, 0.6, 0.7, 0.8, 0.9, 1.0],'colsample_bylevel': [0.4, 0.5, 0.6, 0.7, 0.8, 0.9, 1.0],'min_child_weight': [0.5, 1.0, 3.0, 5.0, 7.0, 10.0],'gamma': [0, 0.25, 0.5, 1.0],'reg_lambda': [0.1, 1.0, 5.0, 10.0, 50.0, 100.0],'n_estimators': [100]}\n",
    "\n",
    "param_grid = {\n",
    "    \"n_estimators\": [100,150],  # Number of boosting rounds\n",
    "    \"max_depth\": [3, 4, 5, 6],  # Maximum depth of trees\n",
    "    \"min_child_weight\": randint(1, 10),  # Minimum sum of instance weight in a child node\n",
    "    \"gamma\": [0, 0.1, 0.2, 0.3],  # Minimum loss reduction required for further partition\n",
    "    \"reg_alpha\": [0, 0.1, 0.2, 0.3],  # L1 regularization term on weights\n",
    "    \"reg_lambda\": [0, 0.1, 0.2, 0.3],  # L2 regularization term on weights\n",
    "    \"scale_pos_weight\": [1, 3, 5],  # Handling class imbalance\n",
    "}\n",
    "\n"
   ]
  },
  {
   "cell_type": "code",
   "execution_count": 16,
   "id": "6f35b1ec",
   "metadata": {},
   "outputs": [],
   "source": [
    "#XG Boost classifier defenition\n",
    "xg_model = XGBClassifier(objective=\"multi:softmax\", num_class=3)"
   ]
  },
  {
   "cell_type": "code",
   "execution_count": null,
   "id": "cbd2f432",
   "metadata": {
    "scrolled": false
   },
   "outputs": [],
   "source": [
    "#The best hyperparameters are extracted by running 5 fold random search CV to find the 100 parameter combinations and it is splitted using StratifiedKFold to preserve\n",
    "# the class distribution.\n",
    " \n",
    "folds = 5\n",
    "param_comb = 100     \n",
    "     \n",
    "skf = StratifiedKFold(n_splits=folds, shuffle = True, random_state = None)\n",
    "\n",
    "random_search = RandomizedSearchCV(xg_model, param_distributions=param_grid, n_iter=param_comb, scoring='f1_macro', cv=skf.split(X_train,y_train), verbose=3, random_state=None )\n",
    "random_search.fit(new_X_train, y_train)"
   ]
  },
  {
   "cell_type": "code",
   "execution_count": 43,
   "id": "7d41bd88",
   "metadata": {},
   "outputs": [
    {
     "data": {
      "text/plain": [
       "{'gamma': 0,\n",
       " 'max_depth': 4,\n",
       " 'min_child_weight': 1,\n",
       " 'n_estimators': 100,\n",
       " 'reg_alpha': 0.1,\n",
       " 'reg_lambda': 0.2,\n",
       " 'scale_pos_weight': 3}"
      ]
     },
     "execution_count": 43,
     "metadata": {},
     "output_type": "execute_result"
    }
   ],
   "source": [
    "random_search.best_params_"
   ]
  },
  {
   "cell_type": "code",
   "execution_count": 82,
   "id": "57bc609f",
   "metadata": {},
   "outputs": [],
   "source": [
    "clf = RandomForestClassifier(max_depth= 4,n_estimators= 150) \n",
    "clf.fit(new_X_train, y_train) \n",
    "y_pred = clf.predict(new_X_test)"
   ]
  },
  {
   "cell_type": "code",
   "execution_count": 91,
   "id": "dcac757e",
   "metadata": {},
   "outputs": [
    {
     "data": {
      "text/html": [
       "<div>\n",
       "<style scoped>\n",
       "    .dataframe tbody tr th:only-of-type {\n",
       "        vertical-align: middle;\n",
       "    }\n",
       "\n",
       "    .dataframe tbody tr th {\n",
       "        vertical-align: top;\n",
       "    }\n",
       "\n",
       "    .dataframe thead th {\n",
       "        text-align: right;\n",
       "    }\n",
       "</style>\n",
       "<table border=\"1\" class=\"dataframe\">\n",
       "  <thead>\n",
       "    <tr style=\"text-align: right;\">\n",
       "      <th></th>\n",
       "      <th>NOSE_X</th>\n",
       "      <th>NOSE_Y</th>\n",
       "      <th>NOSE_Z</th>\n",
       "      <th>LEFT_SHOULDER_X</th>\n",
       "      <th>LEFT_SHOULDER_Y</th>\n",
       "      <th>LEFT_SHOULDER_Z</th>\n",
       "      <th>RIGHT_SHOULDER_X</th>\n",
       "      <th>RIGHT_SHOULDER_Y</th>\n",
       "      <th>RIGHT_SHOULDER_Z</th>\n",
       "      <th>LEFT_ELBOW_X</th>\n",
       "      <th>...</th>\n",
       "      <th>RIGHT_FOOT_INDEX_Y</th>\n",
       "      <th>RIGHT_FOOT_INDEX_Z</th>\n",
       "      <th>File</th>\n",
       "      <th>Class</th>\n",
       "      <th>Nose_Right_Wrist_Angle</th>\n",
       "      <th>Right_Sho_Wrist Angle</th>\n",
       "      <th>Nose_Right_Elbow</th>\n",
       "      <th>Left_Sho_Wrist_Angle</th>\n",
       "      <th>Nose_Left_Wrist</th>\n",
       "      <th>Nose_Left_Elbow</th>\n",
       "    </tr>\n",
       "  </thead>\n",
       "  <tbody>\n",
       "    <tr>\n",
       "      <th>0</th>\n",
       "      <td>0.393201</td>\n",
       "      <td>0.422577</td>\n",
       "      <td>-0.261642</td>\n",
       "      <td>0.387936</td>\n",
       "      <td>0.485447</td>\n",
       "      <td>0.097256</td>\n",
       "      <td>0.280079</td>\n",
       "      <td>0.473706</td>\n",
       "      <td>-0.379060</td>\n",
       "      <td>0.385520</td>\n",
       "      <td>...</td>\n",
       "      <td>0.876692</td>\n",
       "      <td>-0.519742</td>\n",
       "      <td>Lak2</td>\n",
       "      <td>Before</td>\n",
       "      <td>2.184579</td>\n",
       "      <td>1.664838</td>\n",
       "      <td>2.497794</td>\n",
       "      <td>1.253485</td>\n",
       "      <td>1.380747</td>\n",
       "      <td>1.629800</td>\n",
       "    </tr>\n",
       "    <tr>\n",
       "      <th>1</th>\n",
       "      <td>0.393207</td>\n",
       "      <td>0.423227</td>\n",
       "      <td>-0.160749</td>\n",
       "      <td>0.386230</td>\n",
       "      <td>0.485303</td>\n",
       "      <td>0.175091</td>\n",
       "      <td>0.279769</td>\n",
       "      <td>0.473445</td>\n",
       "      <td>-0.302719</td>\n",
       "      <td>0.382995</td>\n",
       "      <td>...</td>\n",
       "      <td>0.878136</td>\n",
       "      <td>-0.545627</td>\n",
       "      <td>Lak2</td>\n",
       "      <td>Before</td>\n",
       "      <td>2.187863</td>\n",
       "      <td>1.663589</td>\n",
       "      <td>2.507557</td>\n",
       "      <td>1.278204</td>\n",
       "      <td>1.406325</td>\n",
       "      <td>1.649709</td>\n",
       "    </tr>\n",
       "    <tr>\n",
       "      <th>2</th>\n",
       "      <td>0.393215</td>\n",
       "      <td>0.423485</td>\n",
       "      <td>-0.150250</td>\n",
       "      <td>0.385456</td>\n",
       "      <td>0.485172</td>\n",
       "      <td>0.185736</td>\n",
       "      <td>0.279787</td>\n",
       "      <td>0.473365</td>\n",
       "      <td>-0.293013</td>\n",
       "      <td>0.380898</td>\n",
       "      <td>...</td>\n",
       "      <td>0.878858</td>\n",
       "      <td>-0.541710</td>\n",
       "      <td>Lak2</td>\n",
       "      <td>Before</td>\n",
       "      <td>2.189647</td>\n",
       "      <td>1.664194</td>\n",
       "      <td>2.510686</td>\n",
       "      <td>1.292996</td>\n",
       "      <td>1.420526</td>\n",
       "      <td>1.666095</td>\n",
       "    </tr>\n",
       "    <tr>\n",
       "      <th>3</th>\n",
       "      <td>0.393198</td>\n",
       "      <td>0.423656</td>\n",
       "      <td>-0.157523</td>\n",
       "      <td>0.385134</td>\n",
       "      <td>0.485154</td>\n",
       "      <td>0.178089</td>\n",
       "      <td>0.279732</td>\n",
       "      <td>0.473381</td>\n",
       "      <td>-0.295993</td>\n",
       "      <td>0.379626</td>\n",
       "      <td>...</td>\n",
       "      <td>0.879190</td>\n",
       "      <td>-0.539156</td>\n",
       "      <td>Lak2</td>\n",
       "      <td>Before</td>\n",
       "      <td>2.190554</td>\n",
       "      <td>1.663929</td>\n",
       "      <td>2.511905</td>\n",
       "      <td>1.298850</td>\n",
       "      <td>1.426114</td>\n",
       "      <td>1.675857</td>\n",
       "    </tr>\n",
       "    <tr>\n",
       "      <th>4</th>\n",
       "      <td>0.393174</td>\n",
       "      <td>0.423814</td>\n",
       "      <td>-0.167579</td>\n",
       "      <td>0.385034</td>\n",
       "      <td>0.485031</td>\n",
       "      <td>0.171813</td>\n",
       "      <td>0.279611</td>\n",
       "      <td>0.473405</td>\n",
       "      <td>-0.301945</td>\n",
       "      <td>0.379061</td>\n",
       "      <td>...</td>\n",
       "      <td>0.879831</td>\n",
       "      <td>-0.529378</td>\n",
       "      <td>Lak2</td>\n",
       "      <td>Before</td>\n",
       "      <td>2.191076</td>\n",
       "      <td>1.662867</td>\n",
       "      <td>2.512940</td>\n",
       "      <td>1.301431</td>\n",
       "      <td>1.428055</td>\n",
       "      <td>1.680128</td>\n",
       "    </tr>\n",
       "    <tr>\n",
       "      <th>...</th>\n",
       "      <td>...</td>\n",
       "      <td>...</td>\n",
       "      <td>...</td>\n",
       "      <td>...</td>\n",
       "      <td>...</td>\n",
       "      <td>...</td>\n",
       "      <td>...</td>\n",
       "      <td>...</td>\n",
       "      <td>...</td>\n",
       "      <td>...</td>\n",
       "      <td>...</td>\n",
       "      <td>...</td>\n",
       "      <td>...</td>\n",
       "      <td>...</td>\n",
       "      <td>...</td>\n",
       "      <td>...</td>\n",
       "      <td>...</td>\n",
       "      <td>...</td>\n",
       "      <td>...</td>\n",
       "      <td>...</td>\n",
       "      <td>...</td>\n",
       "    </tr>\n",
       "    <tr>\n",
       "      <th>195</th>\n",
       "      <td>0.411035</td>\n",
       "      <td>0.437880</td>\n",
       "      <td>-0.225619</td>\n",
       "      <td>0.376133</td>\n",
       "      <td>0.479017</td>\n",
       "      <td>0.137451</td>\n",
       "      <td>0.289482</td>\n",
       "      <td>0.465377</td>\n",
       "      <td>-0.410517</td>\n",
       "      <td>0.380763</td>\n",
       "      <td>...</td>\n",
       "      <td>0.878016</td>\n",
       "      <td>-0.252286</td>\n",
       "      <td>Lak2</td>\n",
       "      <td>Before</td>\n",
       "      <td>2.264255</td>\n",
       "      <td>1.801673</td>\n",
       "      <td>2.538633</td>\n",
       "      <td>1.156254</td>\n",
       "      <td>1.446077</td>\n",
       "      <td>1.832119</td>\n",
       "    </tr>\n",
       "    <tr>\n",
       "      <th>196</th>\n",
       "      <td>0.411115</td>\n",
       "      <td>0.437849</td>\n",
       "      <td>-0.221293</td>\n",
       "      <td>0.375926</td>\n",
       "      <td>0.479263</td>\n",
       "      <td>0.141091</td>\n",
       "      <td>0.289495</td>\n",
       "      <td>0.465381</td>\n",
       "      <td>-0.404152</td>\n",
       "      <td>0.379341</td>\n",
       "      <td>...</td>\n",
       "      <td>0.878183</td>\n",
       "      <td>-0.241748</td>\n",
       "      <td>Lak2</td>\n",
       "      <td>Before</td>\n",
       "      <td>2.266103</td>\n",
       "      <td>1.803719</td>\n",
       "      <td>2.540880</td>\n",
       "      <td>1.152769</td>\n",
       "      <td>1.449743</td>\n",
       "      <td>1.844843</td>\n",
       "    </tr>\n",
       "    <tr>\n",
       "      <th>197</th>\n",
       "      <td>0.411198</td>\n",
       "      <td>0.437835</td>\n",
       "      <td>-0.220360</td>\n",
       "      <td>0.375850</td>\n",
       "      <td>0.479397</td>\n",
       "      <td>0.141600</td>\n",
       "      <td>0.289492</td>\n",
       "      <td>0.465376</td>\n",
       "      <td>-0.403663</td>\n",
       "      <td>0.378618</td>\n",
       "      <td>...</td>\n",
       "      <td>0.878339</td>\n",
       "      <td>-0.247295</td>\n",
       "      <td>Lak2</td>\n",
       "      <td>Before</td>\n",
       "      <td>2.267172</td>\n",
       "      <td>1.804637</td>\n",
       "      <td>2.542617</td>\n",
       "      <td>1.152137</td>\n",
       "      <td>1.452574</td>\n",
       "      <td>1.851849</td>\n",
       "    </tr>\n",
       "    <tr>\n",
       "      <th>198</th>\n",
       "      <td>0.411266</td>\n",
       "      <td>0.437819</td>\n",
       "      <td>-0.221058</td>\n",
       "      <td>0.375806</td>\n",
       "      <td>0.479436</td>\n",
       "      <td>0.140524</td>\n",
       "      <td>0.289474</td>\n",
       "      <td>0.465362</td>\n",
       "      <td>-0.405362</td>\n",
       "      <td>0.378449</td>\n",
       "      <td>...</td>\n",
       "      <td>0.878409</td>\n",
       "      <td>-0.245455</td>\n",
       "      <td>Lak2</td>\n",
       "      <td>Before</td>\n",
       "      <td>2.267906</td>\n",
       "      <td>1.805078</td>\n",
       "      <td>2.543830</td>\n",
       "      <td>1.150243</td>\n",
       "      <td>1.453088</td>\n",
       "      <td>1.854329</td>\n",
       "    </tr>\n",
       "    <tr>\n",
       "      <th>199</th>\n",
       "      <td>0.411320</td>\n",
       "      <td>0.437876</td>\n",
       "      <td>-0.223228</td>\n",
       "      <td>0.372469</td>\n",
       "      <td>0.479235</td>\n",
       "      <td>0.136324</td>\n",
       "      <td>0.289286</td>\n",
       "      <td>0.465393</td>\n",
       "      <td>-0.415338</td>\n",
       "      <td>0.372313</td>\n",
       "      <td>...</td>\n",
       "      <td>0.878455</td>\n",
       "      <td>-0.131868</td>\n",
       "      <td>Lak2</td>\n",
       "      <td>Before</td>\n",
       "      <td>2.268337</td>\n",
       "      <td>1.804642</td>\n",
       "      <td>2.544897</td>\n",
       "      <td>1.109365</td>\n",
       "      <td>1.453837</td>\n",
       "      <td>1.907282</td>\n",
       "    </tr>\n",
       "  </tbody>\n",
       "</table>\n",
       "<p>200 rows × 59 columns</p>\n",
       "</div>"
      ],
      "text/plain": [
       "       NOSE_X    NOSE_Y    NOSE_Z  LEFT_SHOULDER_X  LEFT_SHOULDER_Y  \\\n",
       "0    0.393201  0.422577 -0.261642         0.387936         0.485447   \n",
       "1    0.393207  0.423227 -0.160749         0.386230         0.485303   \n",
       "2    0.393215  0.423485 -0.150250         0.385456         0.485172   \n",
       "3    0.393198  0.423656 -0.157523         0.385134         0.485154   \n",
       "4    0.393174  0.423814 -0.167579         0.385034         0.485031   \n",
       "..        ...       ...       ...              ...              ...   \n",
       "195  0.411035  0.437880 -0.225619         0.376133         0.479017   \n",
       "196  0.411115  0.437849 -0.221293         0.375926         0.479263   \n",
       "197  0.411198  0.437835 -0.220360         0.375850         0.479397   \n",
       "198  0.411266  0.437819 -0.221058         0.375806         0.479436   \n",
       "199  0.411320  0.437876 -0.223228         0.372469         0.479235   \n",
       "\n",
       "     LEFT_SHOULDER_Z  RIGHT_SHOULDER_X  RIGHT_SHOULDER_Y  RIGHT_SHOULDER_Z  \\\n",
       "0           0.097256          0.280079          0.473706         -0.379060   \n",
       "1           0.175091          0.279769          0.473445         -0.302719   \n",
       "2           0.185736          0.279787          0.473365         -0.293013   \n",
       "3           0.178089          0.279732          0.473381         -0.295993   \n",
       "4           0.171813          0.279611          0.473405         -0.301945   \n",
       "..               ...               ...               ...               ...   \n",
       "195         0.137451          0.289482          0.465377         -0.410517   \n",
       "196         0.141091          0.289495          0.465381         -0.404152   \n",
       "197         0.141600          0.289492          0.465376         -0.403663   \n",
       "198         0.140524          0.289474          0.465362         -0.405362   \n",
       "199         0.136324          0.289286          0.465393         -0.415338   \n",
       "\n",
       "     LEFT_ELBOW_X  ...  RIGHT_FOOT_INDEX_Y  RIGHT_FOOT_INDEX_Z  File   Class  \\\n",
       "0        0.385520  ...            0.876692           -0.519742  Lak2  Before   \n",
       "1        0.382995  ...            0.878136           -0.545627  Lak2  Before   \n",
       "2        0.380898  ...            0.878858           -0.541710  Lak2  Before   \n",
       "3        0.379626  ...            0.879190           -0.539156  Lak2  Before   \n",
       "4        0.379061  ...            0.879831           -0.529378  Lak2  Before   \n",
       "..            ...  ...                 ...                 ...   ...     ...   \n",
       "195      0.380763  ...            0.878016           -0.252286  Lak2  Before   \n",
       "196      0.379341  ...            0.878183           -0.241748  Lak2  Before   \n",
       "197      0.378618  ...            0.878339           -0.247295  Lak2  Before   \n",
       "198      0.378449  ...            0.878409           -0.245455  Lak2  Before   \n",
       "199      0.372313  ...            0.878455           -0.131868  Lak2  Before   \n",
       "\n",
       "     Nose_Right_Wrist_Angle  Right_Sho_Wrist Angle  Nose_Right_Elbow  \\\n",
       "0                  2.184579               1.664838          2.497794   \n",
       "1                  2.187863               1.663589          2.507557   \n",
       "2                  2.189647               1.664194          2.510686   \n",
       "3                  2.190554               1.663929          2.511905   \n",
       "4                  2.191076               1.662867          2.512940   \n",
       "..                      ...                    ...               ...   \n",
       "195                2.264255               1.801673          2.538633   \n",
       "196                2.266103               1.803719          2.540880   \n",
       "197                2.267172               1.804637          2.542617   \n",
       "198                2.267906               1.805078          2.543830   \n",
       "199                2.268337               1.804642          2.544897   \n",
       "\n",
       "     Left_Sho_Wrist_Angle  Nose_Left_Wrist  Nose_Left_Elbow  \n",
       "0                1.253485         1.380747         1.629800  \n",
       "1                1.278204         1.406325         1.649709  \n",
       "2                1.292996         1.420526         1.666095  \n",
       "3                1.298850         1.426114         1.675857  \n",
       "4                1.301431         1.428055         1.680128  \n",
       "..                    ...              ...              ...  \n",
       "195              1.156254         1.446077         1.832119  \n",
       "196              1.152769         1.449743         1.844843  \n",
       "197              1.152137         1.452574         1.851849  \n",
       "198              1.150243         1.453088         1.854329  \n",
       "199              1.109365         1.453837         1.907282  \n",
       "\n",
       "[200 rows x 59 columns]"
      ]
     },
     "execution_count": 91,
     "metadata": {},
     "output_type": "execute_result"
    }
   ],
   "source": [
    "model_data.iloc[:200]"
   ]
  },
  {
   "cell_type": "code",
   "execution_count": 83,
   "id": "ac2faa7c",
   "metadata": {},
   "outputs": [],
   "source": [
    "pred = clf.predict(X_to_test)"
   ]
  },
  {
   "cell_type": "code",
   "execution_count": null,
   "id": "27254641",
   "metadata": {},
   "outputs": [],
   "source": [
    "0'After'\n",
    "1'Before'\n",
    "2'Hit'\n",
    "3'Prep'\n",
    "4'Toss'"
   ]
  },
  {
   "cell_type": "code",
   "execution_count": 92,
   "id": "a178eaab",
   "metadata": {},
   "outputs": [],
   "source": [
    "xgb_model = XGBClassifier(objective=\"multi:softmax\", num_class=5)\n",
    "xgb_model.fit(new_X_train, y_train) \n",
    "y_pred = xgb_model.predict(new_X_test)"
   ]
  },
  {
   "cell_type": "code",
   "execution_count": 95,
   "id": "54003467",
   "metadata": {},
   "outputs": [
    {
     "data": {
      "text/plain": [
       "array([1, 1, 1, 1, 1, 1, 1, 1, 1, 1, 1, 1, 1, 1, 1, 1, 1, 1, 1, 1, 1, 1,\n",
       "       1, 1, 1, 1, 1, 1, 1, 1, 1, 1, 1, 1, 1, 1, 1, 1, 1, 1, 1, 1, 1, 1,\n",
       "       1, 1, 1, 1, 1, 1, 1, 1, 1, 1, 1, 1, 1, 1, 1, 1, 1, 1, 1, 1, 1, 1,\n",
       "       1, 1, 1, 1, 1, 1, 1, 1, 1, 1, 1, 1, 1, 1, 1, 1, 1, 1, 1, 1, 1, 1,\n",
       "       1, 1, 1, 1, 1, 1, 1, 1, 1, 1, 1, 1, 1, 1, 1, 1, 1, 1, 1, 1, 1, 1,\n",
       "       1, 1, 1, 1, 1, 1, 1, 1, 1, 1, 1, 1, 1, 1, 1, 1, 1, 1, 1, 1, 1, 1,\n",
       "       1, 1, 1, 1, 1, 1, 1, 1, 1, 1, 1, 1, 1, 1, 1, 1, 1, 1, 1, 1, 1, 1,\n",
       "       1, 1, 1, 1, 1, 1, 1, 1, 1, 1, 1, 1, 1, 1, 1, 1, 1, 1, 1, 1, 1, 1,\n",
       "       1, 1, 1, 1, 1, 1, 1, 1, 1, 1, 1, 1, 1, 1, 1, 1, 1, 1, 1, 1, 1, 1,\n",
       "       1, 1, 1, 1, 1, 1, 1, 1, 1, 1, 1, 1, 1, 1, 1, 1, 1, 1, 1, 1, 1, 1,\n",
       "       1, 1, 1, 1, 1, 1, 1, 1, 1, 1, 1, 1, 1, 1, 1, 1, 1, 1, 1, 1, 1, 1,\n",
       "       1, 1, 1, 1, 1, 1, 1, 1, 1, 1, 1, 1, 1, 1, 1, 1, 1, 1, 1, 1, 1, 1,\n",
       "       1, 1, 1, 1, 1, 1, 1, 1, 1, 1, 1, 1, 1, 1, 1, 1, 1, 1, 1, 1, 1, 1,\n",
       "       1, 1, 1, 1, 1, 1, 1, 1, 1, 1, 1, 1, 1, 1, 1, 1, 1, 1, 1, 1, 1, 1,\n",
       "       1, 1, 1, 1, 1, 1, 1, 1, 1, 1, 1, 1, 1, 1, 1, 1, 1, 1, 1, 1, 1, 1,\n",
       "       1, 1, 1, 1, 1, 1, 1, 1, 1, 1, 1, 1, 1, 1, 1, 1, 1, 1, 1, 1, 1, 1,\n",
       "       1, 1, 1, 1, 1, 1, 1, 1, 4, 4, 4, 4, 4, 4, 4, 4, 4, 4, 4, 4, 4, 4,\n",
       "       4, 4, 4, 4, 4, 4, 4, 4, 4, 4, 3, 3, 3, 3, 3, 3, 3, 3, 3, 3, 3, 3,\n",
       "       3, 3, 3, 3, 3, 3, 3, 3, 3, 3, 3, 3, 3, 3, 3, 3, 3, 3, 3, 3, 3, 3,\n",
       "       3, 3, 3, 3, 3, 3, 3, 3, 3, 3, 3, 3, 3, 3, 3, 3, 3, 3, 3, 3, 3, 3,\n",
       "       3, 3, 3, 3, 3, 3, 3, 3, 3, 3, 3, 3, 3, 3, 3, 3, 3, 3, 3, 3, 3, 3,\n",
       "       3, 3, 3, 3, 3, 3, 3, 3, 3, 3, 3, 3, 3, 3, 3, 3, 3, 3, 3, 3, 3, 3,\n",
       "       3, 3, 3, 3, 3, 3, 3, 3, 3, 3, 3, 3, 3, 3, 3, 3, 3, 3, 3, 3, 3, 3,\n",
       "       3, 3, 3, 3, 3, 3, 3, 3, 3, 3, 3, 3, 3, 3, 3, 3, 3, 3, 3, 3, 3, 3,\n",
       "       3, 3, 3, 3, 3, 3, 3, 3, 3, 3, 3, 3, 3, 3, 3, 3, 3, 3, 3, 3, 3, 3,\n",
       "       3, 3, 3, 3, 3, 3, 3, 3, 3, 3, 3, 3, 3, 3, 3, 3, 3, 3, 3, 3, 3, 3,\n",
       "       3, 3, 3, 3, 3, 3, 3, 3, 3, 3, 3, 3, 3, 3, 3, 3, 3, 3, 3, 3, 3, 3,\n",
       "       3, 3, 3, 3, 3, 3, 2, 2, 2, 2, 2, 2, 2, 2, 2, 2, 2, 2, 2, 2, 2, 2,\n",
       "       2, 2, 2, 2, 2, 2, 2, 2, 0, 0, 0, 0, 0, 0, 0, 0, 0, 0, 0, 0, 0, 0,\n",
       "       0, 0, 0, 0, 0, 0, 0, 0, 0, 0, 0, 0, 0, 0, 0, 0, 0, 0, 0, 0, 0, 0,\n",
       "       0, 0, 0, 0, 0, 0, 0, 0, 0, 0, 0, 0, 0, 0, 0, 0, 0, 0, 0, 0, 0, 0,\n",
       "       0, 0, 0, 0, 0, 0, 0, 0, 0, 0, 0, 0, 0, 0, 0, 0, 0, 0, 0, 0, 0, 0,\n",
       "       0, 0, 0, 0, 0, 0, 0, 0, 0, 0, 0, 0, 0, 0, 0, 0, 0, 0, 0, 0, 0, 0,\n",
       "       0, 0, 0, 0, 0, 0, 0, 0, 0, 0, 0, 0, 0, 0, 0, 0, 0, 0, 0, 0, 0, 0,\n",
       "       0, 0, 0, 0, 0, 0, 0, 0, 0, 0, 0, 0, 0, 0, 0, 0, 0, 0, 0, 0, 0, 0,\n",
       "       0, 0, 0, 0, 0, 0, 0, 0, 0, 0, 0, 0, 0, 0, 0, 0, 0, 0, 0, 0, 0, 0,\n",
       "       0, 0])"
      ]
     },
     "execution_count": 95,
     "metadata": {},
     "output_type": "execute_result"
    }
   ],
   "source": [
    "xgb_model.predict(X_to_test)"
   ]
  },
  {
   "cell_type": "code",
   "execution_count": 73,
   "id": "184095dc",
   "metadata": {},
   "outputs": [],
   "source": [
    "param_dist = {\n",
    "    \"class_weight\": [\"balanced\", \"balanced_subsample\"],\n",
    "    \"max_depth\": [3,4,5], \n",
    "    \"max_features\": randint(4, 11), \n",
    "    \"min_samples_split\": randint(2, 11), \n",
    "    \"bootstrap\": [True, False], \n",
    "    \"criterion\": [\"gini\", \"entropy\"]}\n"
   ]
  },
  {
   "cell_type": "code",
   "execution_count": 74,
   "id": "44f83dac",
   "metadata": {},
   "outputs": [
    {
     "data": {
      "text/plain": [
       "RandomizedSearchCV(cv=5, error_score=nan,\n",
       "                   estimator=RandomForestClassifier(bootstrap=True,\n",
       "                                                    ccp_alpha=0.0,\n",
       "                                                    class_weight=None,\n",
       "                                                    criterion='gini',\n",
       "                                                    max_depth=None,\n",
       "                                                    max_features='auto',\n",
       "                                                    max_leaf_nodes=None,\n",
       "                                                    max_samples=None,\n",
       "                                                    min_impurity_decrease=0.0,\n",
       "                                                    min_impurity_split=None,\n",
       "                                                    min_samples_leaf=1,\n",
       "                                                    min_samples_split=2,\n",
       "                                                    min_weight_fraction_leaf=0.0,\n",
       "                                                    n_estimators=100,\n",
       "                                                    n_jobs...\n",
       "                                                         'balanced_subsample'],\n",
       "                                        'criterion': ['gini', 'entropy'],\n",
       "                                        'max_depth': [3, 4, 5],\n",
       "                                        'max_features': <scipy.stats._distn_infrastructure.rv_frozen object at 0x000001A550527280>,\n",
       "                                        'min_samples_split': <scipy.stats._distn_infrastructure.rv_frozen object at 0x000001A557AABC70>},\n",
       "                   pre_dispatch='2*n_jobs', random_state=None, refit=True,\n",
       "                   return_train_score=False, scoring=None, verbose=0)"
      ]
     },
     "execution_count": 74,
     "metadata": {},
     "output_type": "execute_result"
    }
   ],
   "source": [
    "clf = RandomForestClassifier(n_estimators=100)\n",
    "  \n",
    "random_search = RandomizedSearchCV(clf, param_distributions=param_dist, n_iter=100, cv=5)\n",
    "random_search.fit(new_X_train, y_train)     "
   ]
  },
  {
   "cell_type": "code",
   "execution_count": 75,
   "id": "c84f99ed",
   "metadata": {
    "scrolled": true
   },
   "outputs": [
    {
     "data": {
      "text/plain": [
       "{'bootstrap': True,\n",
       " 'class_weight': 'balanced',\n",
       " 'criterion': 'gini',\n",
       " 'max_depth': 5,\n",
       " 'max_features': 9,\n",
       " 'min_samples_split': 9}"
      ]
     },
     "execution_count": 75,
     "metadata": {},
     "output_type": "execute_result"
    }
   ],
   "source": [
    "random_search.best_params_"
   ]
  },
  {
   "cell_type": "code",
   "execution_count": 44,
   "id": "7a1384bb",
   "metadata": {},
   "outputs": [
    {
     "data": {
      "text/plain": [
       "0.9870915203212209"
      ]
     },
     "execution_count": 44,
     "metadata": {},
     "output_type": "execute_result"
    }
   ],
   "source": [
    "random_search.best_score_"
   ]
  },
  {
   "cell_type": "code",
   "execution_count": 23,
   "id": "59a0ba10",
   "metadata": {},
   "outputs": [
    {
     "data": {
      "text/plain": [
       "36"
      ]
     },
     "execution_count": 23,
     "metadata": {},
     "output_type": "execute_result"
    }
   ],
   "source": [
    "random_search.best_index_"
   ]
  },
  {
   "cell_type": "code",
   "execution_count": null,
   "id": "3df307e3",
   "metadata": {},
   "outputs": [],
   "source": [
    "pickleFile.feature_names_in_"
   ]
  },
  {
   "cell_type": "code",
   "execution_count": 55,
   "id": "b11dedff",
   "metadata": {},
   "outputs": [
    {
     "ename": "NameError",
     "evalue": "name 'random_search' is not defined",
     "output_type": "error",
     "traceback": [
      "\u001b[1;31m---------------------------------------------------------------------------\u001b[0m",
      "\u001b[1;31mNameError\u001b[0m                                 Traceback (most recent call last)",
      "\u001b[1;32m<ipython-input-55-86d85212aeb5>\u001b[0m in \u001b[0;36m<module>\u001b[1;34m\u001b[0m\n\u001b[1;32m----> 1\u001b[1;33m \u001b[0my_pred\u001b[0m \u001b[1;33m=\u001b[0m \u001b[0mrandom_search\u001b[0m\u001b[1;33m.\u001b[0m\u001b[0mpredict\u001b[0m\u001b[1;33m(\u001b[0m\u001b[0mnew_X_test\u001b[0m\u001b[1;33m)\u001b[0m\u001b[1;33m\u001b[0m\u001b[1;33m\u001b[0m\u001b[0m\n\u001b[0m",
      "\u001b[1;31mNameError\u001b[0m: name 'random_search' is not defined"
     ]
    }
   ],
   "source": [
    "y_pred = random_search.predict(new_X_test)"
   ]
  },
  {
   "cell_type": "code",
   "execution_count": 78,
   "id": "a3db20c6",
   "metadata": {},
   "outputs": [
    {
     "name": "stdout",
     "output_type": "stream",
     "text": [
      "Accuracy: 0.9577148359143064 \t conf\t [[5996  166  242]\n",
      " [  16 5569   99]\n",
      " [   2    2  371]] Class\t               precision    recall  f1-score   support\n",
      "\n",
      "           0       1.00      0.94      0.97      6404\n",
      "           1       0.97      0.98      0.98      5684\n",
      "           2       0.52      0.99      0.68       375\n",
      "\n",
      "    accuracy                           0.96     12463\n",
      "   macro avg       0.83      0.97      0.87     12463\n",
      "weighted avg       0.97      0.96      0.96     12463\n",
      "\n"
     ]
    }
   ],
   "source": [
    "accuracy = accuracy_score(y_test, y_pred)\n",
    "\n",
    "acc,cf,cl = model_perfomance(y_test, y_pred)\n",
    "print(\"Accuracy:\", acc,\"\\t\",\"conf\\t\",cf,\"Class\\t\",cl)"
   ]
  },
  {
   "cell_type": "code",
   "execution_count": null,
   "id": "3846845c",
   "metadata": {},
   "outputs": [],
   "source": [
    "#The best parameters extracted by Lasso is used and both XG Boost and Random Forest are trained and evaluated"
   ]
  },
  {
   "cell_type": "markdown",
   "id": "6bed2a9e",
   "metadata": {},
   "source": [
    "*RF FOR HIT*"
   ]
  },
  {
   "cell_type": "code",
   "execution_count": 15,
   "id": "5fcf4ccf",
   "metadata": {},
   "outputs": [],
   "source": [
    "params = {'bootstrap': True,\n",
    " 'class_weight': 'balanced_subsample',\n",
    " 'criterion': 'entropy',\n",
    " 'max_depth': 5,\n",
    " 'max_features': 10,\n",
    " 'min_samples_split': 10}\n",
    "rf_hit_model = RandomForestClassifier(**params)"
   ]
  },
  {
   "cell_type": "code",
   "execution_count": 17,
   "id": "11e62347",
   "metadata": {},
   "outputs": [
    {
     "data": {
      "text/plain": [
       "RandomForestClassifier(bootstrap=True, ccp_alpha=0.0,\n",
       "                       class_weight='balanced_subsample', criterion='entropy',\n",
       "                       max_depth=5, max_features=10, max_leaf_nodes=None,\n",
       "                       max_samples=None, min_impurity_decrease=0.0,\n",
       "                       min_impurity_split=None, min_samples_leaf=1,\n",
       "                       min_samples_split=10, min_weight_fraction_leaf=0.0,\n",
       "                       n_estimators=100, n_jobs=None, oob_score=False,\n",
       "                       random_state=None, verbose=0, warm_start=False)"
      ]
     },
     "execution_count": 17,
     "metadata": {},
     "output_type": "execute_result"
    }
   ],
   "source": [
    "rf_hit_model.fit(new_X_train, y_train) "
   ]
  },
  {
   "cell_type": "code",
   "execution_count": 99,
   "id": "535d1008",
   "metadata": {},
   "outputs": [],
   "source": [
    "y_pred = rf_hit_model.predict(new_X_test)"
   ]
  },
  {
   "cell_type": "code",
   "execution_count": 100,
   "id": "9072d0f6",
   "metadata": {},
   "outputs": [
    {
     "name": "stdout",
     "output_type": "stream",
     "text": [
      "0.9591591109684666 --------- [[6036  169  217]\n",
      " [  15 5533  107]\n",
      " [   0    1  385]] -------               precision    recall  f1-score   support\n",
      "\n",
      "           0       1.00      0.94      0.97      6422\n",
      "           1       0.97      0.98      0.97      5655\n",
      "           2       0.54      1.00      0.70       386\n",
      "\n",
      "    accuracy                           0.96     12463\n",
      "   macro avg       0.84      0.97      0.88     12463\n",
      "weighted avg       0.97      0.96      0.96     12463\n",
      "\n"
     ]
    }
   ],
   "source": [
    "acc,cf,cl = model_perfomance(y_test,y_pred)\n",
    "print(acc,\"---------\",cf,\"-------\",cl)"
   ]
  },
  {
   "cell_type": "code",
   "execution_count": 102,
   "id": "1db7c978",
   "metadata": {},
   "outputs": [
    {
     "data": {
      "text/plain": [
       "DecisionTreeClassifier(ccp_alpha=0.0, class_weight=None, criterion='gini',\n",
       "                       max_depth=None, max_features=None, max_leaf_nodes=None,\n",
       "                       min_impurity_decrease=0.0, min_impurity_split=None,\n",
       "                       min_samples_leaf=1, min_samples_split=2,\n",
       "                       min_weight_fraction_leaf=0.0, presort='deprecated',\n",
       "                       random_state=None, splitter='best')"
      ]
     },
     "execution_count": 102,
     "metadata": {},
     "output_type": "execute_result"
    }
   ],
   "source": [
    "rf_hit_model.base_estimator_"
   ]
  },
  {
   "cell_type": "code",
   "execution_count": 64,
   "id": "6a4fe8ae",
   "metadata": {},
   "outputs": [
    {
     "data": {
      "text/plain": [
       "0.6784080879403033"
      ]
     },
     "execution_count": 64,
     "metadata": {},
     "output_type": "execute_result"
    }
   ],
   "source": [
    "accuracy_score(y_test,y_pred)"
   ]
  },
  {
   "cell_type": "code",
   "execution_count": null,
   "id": "d8913705",
   "metadata": {},
   "outputs": [],
   "source": []
  },
  {
   "cell_type": "markdown",
   "id": "a2db7861",
   "metadata": {},
   "source": [
    "*XGB FOR HIT*"
   ]
  },
  {
   "cell_type": "code",
   "execution_count": 22,
   "id": "b689deaf",
   "metadata": {},
   "outputs": [
    {
     "ename": "NameError",
     "evalue": "name 'xgb_hitmodel' is not defined",
     "output_type": "error",
     "traceback": [
      "\u001b[1;31m---------------------------------------------------------------------------\u001b[0m",
      "\u001b[1;31mNameError\u001b[0m                                 Traceback (most recent call last)",
      "\u001b[1;32m<ipython-input-22-52e09c3af2fa>\u001b[0m in \u001b[0;36m<module>\u001b[1;34m\u001b[0m\n\u001b[0;32m     28\u001b[0m \u001b[0mxgb_model\u001b[0m \u001b[1;33m=\u001b[0m \u001b[0mXGBClassifier\u001b[0m\u001b[1;33m(\u001b[0m\u001b[0mobjective\u001b[0m\u001b[1;33m=\u001b[0m\u001b[1;34m\"multi:softmax\"\u001b[0m\u001b[1;33m,\u001b[0m \u001b[0mnum_class\u001b[0m\u001b[1;33m=\u001b[0m\u001b[1;36m3\u001b[0m\u001b[1;33m,\u001b[0m \u001b[1;33m**\u001b[0m\u001b[0mparams\u001b[0m\u001b[1;33m)\u001b[0m\u001b[1;33m\u001b[0m\u001b[1;33m\u001b[0m\u001b[0m\n\u001b[0;32m     29\u001b[0m \u001b[1;33m\u001b[0m\u001b[0m\n\u001b[1;32m---> 30\u001b[1;33m \u001b[0mxgb_hitmodel\u001b[0m\u001b[1;33m.\u001b[0m\u001b[0mfit\u001b[0m\u001b[1;33m(\u001b[0m\u001b[0mnew_X_train\u001b[0m\u001b[1;33m,\u001b[0m \u001b[0my_train\u001b[0m\u001b[1;33m)\u001b[0m\u001b[1;33m\u001b[0m\u001b[1;33m\u001b[0m\u001b[0m\n\u001b[0m",
      "\u001b[1;31mNameError\u001b[0m: name 'xgb_hitmodel' is not defined"
     ]
    }
   ],
   "source": [
    "#params = {\n",
    " #   'subsample': 0.7,\n",
    " #   'reg_lambda': 50.0,\n",
    " #   'n_estimators': 100,\n",
    " #   'min_child_weight': 5.0,\n",
    " #   'max_depth': 6,\n",
    " #   'learning_rate': 0.2,\n",
    " #   'gamma': 1.0,\n",
    " #   'colsample_bytree': 0.9,\n",
    " #   'colsample_bylevel': 0.4,}\n",
    "\n",
    "params ={'bootstrap': True,\n",
    " 'class_weight': 'balanced_subsample',\n",
    " 'criterion': 'entropy',\n",
    " 'max_depth': 5,\n",
    " 'max_features': 10,\n",
    " 'min_samples_split': 10,\n",
    " 'eval_metric': f1_score}\n",
    "\n",
    "params = {'gamma': 0,\n",
    " 'max_depth': 4,\n",
    " 'min_child_weight': 1,\n",
    " 'n_estimators': 100,\n",
    " 'reg_alpha': 0.1,\n",
    " 'reg_lambda': 0.2,\n",
    " 'scale_pos_weight': 3}\n",
    "\n",
    "xgb_model = XGBClassifier(objective=\"multi:softmax\", num_class=3, **params)\n",
    "\n",
    "xgb_hitmodel.fit(new_X_train, y_train)"
   ]
  },
  {
   "cell_type": "code",
   "execution_count": 38,
   "id": "02977880",
   "metadata": {},
   "outputs": [],
   "source": [
    "y_pred = xgb_hitmodel.predict(new_X_test)"
   ]
  },
  {
   "cell_type": "code",
   "execution_count": 42,
   "id": "1657b24e",
   "metadata": {},
   "outputs": [
    {
     "data": {
      "text/plain": [
       "XGBClassifier(base_score=None, booster=None, bootstrap=True, callbacks=None,\n",
       "              class_weight='balanced_subsample', colsample_bylevel=None,\n",
       "              colsample_bynode=None, colsample_bytree=None, criterion='entropy',\n",
       "              early_stopping_rounds=None, enable_categorical=False,\n",
       "              eval_metric=<function f1_score at 0x000001A53F4A7AF0>,\n",
       "              feature_types=None, gamma=None, gpu_id=None, grow_policy=None,\n",
       "              importance_type=None, interaction_constraints=None,\n",
       "              learning_rate=None, max_bin=None, max_cat_threshold=None,\n",
       "              max_cat_to_onehot=None, max_delta_step=None, max_depth=5,\n",
       "              max_features=10, max_leaves=None, min_child_weight=None,\n",
       "              min_samples_split=10, missing=nan, monotone_constraints=None, ...)"
      ]
     },
     "execution_count": 42,
     "metadata": {},
     "output_type": "execute_result"
    }
   ],
   "source": [
    "xgb_hitmodel"
   ]
  },
  {
   "cell_type": "code",
   "execution_count": null,
   "id": "1b9151fc",
   "metadata": {},
   "outputs": [],
   "source": [
    "test = label_encoder.fit_transform(test_kev['Class_1'])"
   ]
  },
  {
   "cell_type": "code",
   "execution_count": 39,
   "id": "3ade48a5",
   "metadata": {},
   "outputs": [
    {
     "data": {
      "text/plain": [
       "0.9982347749338041"
      ]
     },
     "execution_count": 39,
     "metadata": {},
     "output_type": "execute_result"
    }
   ],
   "source": [
    "accuracy_score(y_test,y_pred)"
   ]
  },
  {
   "cell_type": "code",
   "execution_count": 40,
   "id": "0f1592c7",
   "metadata": {},
   "outputs": [
    {
     "data": {
      "text/plain": [
       "array([[3055,    0,    8],\n",
       "       [   0, 9028,    8],\n",
       "       [   4,    2,  358]], dtype=int64)"
      ]
     },
     "execution_count": 40,
     "metadata": {},
     "output_type": "execute_result"
    }
   ],
   "source": [
    "confusion_matrix(y_test,y_pred)"
   ]
  },
  {
   "cell_type": "code",
   "execution_count": 41,
   "id": "60e9f7a2",
   "metadata": {},
   "outputs": [
    {
     "data": {
      "text/plain": [
       "'              precision    recall  f1-score   support\\n\\n           0       1.00      1.00      1.00      3063\\n           1       1.00      1.00      1.00      9036\\n           2       0.96      0.98      0.97       364\\n\\n    accuracy                           1.00     12463\\n   macro avg       0.99      0.99      0.99     12463\\nweighted avg       1.00      1.00      1.00     12463\\n'"
      ]
     },
     "execution_count": 41,
     "metadata": {},
     "output_type": "execute_result"
    }
   ],
   "source": [
    "sklearn.metrics.classification_report(y_test,y_pred)"
   ]
  },
  {
   "cell_type": "code",
   "execution_count": 57,
   "id": "dab55059",
   "metadata": {},
   "outputs": [],
   "source": [
    "y_h_pred = y_pred = model.predict(X_to_test)"
   ]
  },
  {
   "cell_type": "code",
   "execution_count": 59,
   "id": "366cbfef",
   "metadata": {},
   "outputs": [],
   "source": [
    "y_h_pred = pred_check(y_h_pred)"
   ]
  },
  {
   "cell_type": "code",
   "execution_count": 27,
   "id": "b68b488b",
   "metadata": {},
   "outputs": [],
   "source": [
    "pickle.dump(rf_hit_model, open(r'C:\\Users\\ASUS\\OneDrive\\Documents\\Academics\\Summer Semester\\Dissertation\\Models\\Toss model\\rf_hit_model.pkl', 'wb'))"
   ]
  },
  {
   "cell_type": "code",
   "execution_count": null,
   "id": "19966561",
   "metadata": {},
   "outputs": [],
   "source": [
    "pickled_model = pickle.load(open('C:\\Users\\ASUS\\OneDrive\\Documents\\Academics\\Summer Semester\\Dissertation\\Models\\Hit model\\xgb_model.pkl', 'rb'))"
   ]
  },
  {
   "cell_type": "markdown",
   "id": "4fc41d57",
   "metadata": {},
   "source": [
    "*RF FOR TOSS*"
   ]
  },
  {
   "cell_type": "code",
   "execution_count": 38,
   "id": "00c30325",
   "metadata": {},
   "outputs": [
    {
     "data": {
      "text/plain": [
       "RandomForestClassifier(bootstrap=True, ccp_alpha=0.0, class_weight='balanced',\n",
       "                       criterion='gini', max_depth=5, max_features=9,\n",
       "                       max_leaf_nodes=None, max_samples=None,\n",
       "                       min_impurity_decrease=0.0, min_impurity_split=None,\n",
       "                       min_samples_leaf=1, min_samples_split=9,\n",
       "                       min_weight_fraction_leaf=0.0, n_estimators=100,\n",
       "                       n_jobs=None, oob_score=False, random_state=None,\n",
       "                       verbose=0, warm_start=False)"
      ]
     },
     "execution_count": 38,
     "metadata": {},
     "output_type": "execute_result"
    }
   ],
   "source": [
    "#params = {'bootstrap': True, 'criterion': 'gini', 'max_depth': 5, 'max_features': 10, 'min_samples_split': 2}\n",
    "\n",
    "params = {'bootstrap': True,\n",
    " 'class_weight': 'balanced',\n",
    " 'criterion': 'gini',\n",
    " 'max_depth': 5,\n",
    " 'max_features': 9,\n",
    " 'min_samples_split': 9}\n",
    "\n",
    "rf_tossmodel = RandomForestClassifier(**params)\n",
    "\n",
    "\n",
    "rf_tossmodel.fit(new_X_train, y_train)"
   ]
  },
  {
   "cell_type": "code",
   "execution_count": 39,
   "id": "fc69cc7e",
   "metadata": {},
   "outputs": [],
   "source": [
    "y_pred = rf_tossmodel.predict(new_X_test)"
   ]
  },
  {
   "cell_type": "code",
   "execution_count": 40,
   "id": "81859960",
   "metadata": {},
   "outputs": [],
   "source": [
    "y_test = label_encoder.fit_transform(y_test)"
   ]
  },
  {
   "cell_type": "code",
   "execution_count": 41,
   "id": "a6a659a8",
   "metadata": {},
   "outputs": [
    {
     "data": {
      "text/plain": [
       "0.4031132151167456"
      ]
     },
     "execution_count": 41,
     "metadata": {},
     "output_type": "execute_result"
    }
   ],
   "source": [
    "accuracy_score(y_test,y_pred)"
   ]
  },
  {
   "cell_type": "code",
   "execution_count": 21,
   "id": "576f7324",
   "metadata": {},
   "outputs": [],
   "source": [
    "y_test_rfpred = rf_model.predict(X_to_test)"
   ]
  },
  {
   "cell_type": "code",
   "execution_count": 30,
   "id": "d4184d93",
   "metadata": {},
   "outputs": [],
   "source": [
    "out_toss = pred_check(y_test_rfpred)"
   ]
  },
  {
   "cell_type": "markdown",
   "id": "0f80eeef",
   "metadata": {},
   "source": [
    "*XGB FOR TOSS*"
   ]
  },
  {
   "cell_type": "code",
   "execution_count": 42,
   "id": "9550b110",
   "metadata": {},
   "outputs": [
    {
     "name": "stdout",
     "output_type": "stream",
     "text": [
      "[08:51:24] WARNING: C:\\buildkite-agent\\builds\\buildkite-windows-cpu-autoscaling-group-i-0fdc6d574b9c0d168-1\\xgboost\\xgboost-ci-windows\\src\\learner.cc:767: \n",
      "Parameters: { \"scale_pos_weight\" } are not used.\n",
      "\n"
     ]
    },
    {
     "data": {
      "text/plain": [
       "XGBClassifier(base_score=None, booster=None, callbacks=None,\n",
       "              colsample_bylevel=None, colsample_bynode=None,\n",
       "              colsample_bytree=None, early_stopping_rounds=None,\n",
       "              enable_categorical=False, eval_metric=None, feature_types=None,\n",
       "              gamma=0, gpu_id=None, grow_policy=None, importance_type=None,\n",
       "              interaction_constraints=None, learning_rate=None, max_bin=None,\n",
       "              max_cat_threshold=None, max_cat_to_onehot=None,\n",
       "              max_delta_step=None, max_depth=4, max_leaves=None,\n",
       "              min_child_weight=1, missing=nan, monotone_constraints=None,\n",
       "              n_estimators=100, n_jobs=None, num_class=3,\n",
       "              num_parallel_tree=None, objective='multi:softmax', ...)"
      ]
     },
     "execution_count": 42,
     "metadata": {},
     "output_type": "execute_result"
    }
   ],
   "source": [
    "#params = {'subsample': 0.7, 'silent': False, 'reg_lambda': 50.0, 'n_estimators': 100, 'min_child_weight': 5.0, 'max_depth': 6, 'learning_rate': 0.2, 'gamma': 1.0, 'colsample_bytree': 0.9, 'colsample_bylevel': 0.4}\n",
    "params = {'gamma': 0,\n",
    " 'max_depth': 4,\n",
    " 'min_child_weight': 1,\n",
    " 'n_estimators': 100,\n",
    " 'reg_alpha': 0.1,\n",
    " 'reg_lambda': 0.2,\n",
    " 'scale_pos_weight': 3}\n",
    "\n",
    "\n",
    "xgb_model = XGBClassifier(objective=\"multi:softmax\", num_class=3, **params)\n",
    "\n",
    "xgb_model.fit(new_X_train, y_train)"
   ]
  },
  {
   "cell_type": "code",
   "execution_count": 43,
   "id": "2124ffc5",
   "metadata": {},
   "outputs": [],
   "source": [
    "y_pred = xgb_model.predict(new_X_test)"
   ]
  },
  {
   "cell_type": "code",
   "execution_count": 44,
   "id": "e788bfc3",
   "metadata": {},
   "outputs": [],
   "source": [
    "y_test = label_encoder.fit_transform(y_test)"
   ]
  },
  {
   "cell_type": "code",
   "execution_count": 45,
   "id": "de5a5e54",
   "metadata": {},
   "outputs": [
    {
     "data": {
      "text/plain": [
       "0.503891518895932"
      ]
     },
     "execution_count": 45,
     "metadata": {},
     "output_type": "execute_result"
    }
   ],
   "source": [
    "accuracy_score(y_test,y_pred)"
   ]
  },
  {
   "cell_type": "code",
   "execution_count": 26,
   "id": "e688e886",
   "metadata": {},
   "outputs": [],
   "source": [
    "y_test_xgpred = xgb_model.predict(X_to_test)"
   ]
  },
  {
   "cell_type": "code",
   "execution_count": 61,
   "id": "dbeb27c1",
   "metadata": {},
   "outputs": [],
   "source": [
    "df['Class_1'] = y_h_pred"
   ]
  },
  {
   "cell_type": "markdown",
   "id": "b566c9f2",
   "metadata": {},
   "source": [
    "*SAVE THE MODEL*"
   ]
  },
  {
   "cell_type": "code",
   "execution_count": 16,
   "id": "bd5ea609",
   "metadata": {},
   "outputs": [],
   "source": [
    "filename = r'C:\\Users\\ASUS\\OneDrive\\Documents\\Academics\\Summer Semester\\Dissertation\\Models\\Toss model\\XGBoost.sav'\n",
    "pickle.dump(xgb_model, open(filename, 'wb'))"
   ]
  },
  {
   "cell_type": "code",
   "execution_count": 2,
   "id": "89ff3b27",
   "metadata": {},
   "outputs": [
    {
     "name": "stderr",
     "output_type": "stream",
     "text": [
      "C:\\Users\\ASUS\\anaconda3\\lib\\site-packages\\sklearn\\base.py:313: UserWarning: Trying to unpickle estimator DecisionTreeClassifier from version 1.2.2 when using version 0.22.2.post1. This might lead to breaking code or invalid results. Use at your own risk.\n",
      "  warnings.warn(\n",
      "C:\\Users\\ASUS\\anaconda3\\lib\\site-packages\\sklearn\\base.py:313: UserWarning: Trying to unpickle estimator RandomForestClassifier from version 1.2.2 when using version 0.22.2.post1. This might lead to breaking code or invalid results. Use at your own risk.\n",
      "  warnings.warn(\n"
     ]
    }
   ],
   "source": [
    "xgBoost_hit = pickle.load(open(r\"C:\\Users\\ASUS\\OneDrive\\Documents\\Academics\\Summer Semester\\Dissertation\\Models\\Hit model\\xgb_model_latest.pkl\", \"rb\"))\n",
    "\n",
    "rf_hit = pickle.load(open(r\"C:\\Users\\ASUS\\OneDrive\\Documents\\Academics\\Summer Semester\\Dissertation\\Models\\Hit model\\rf_model_latest.pkl\", \"rb\"))\n",
    "\n",
    "xgBoost_toss = pickle.load(open(r\"C:\\Users\\ASUS\\OneDrive\\Documents\\Academics\\Summer Semester\\Dissertation\\Models\\Toss model\\XGBoost.sav\", \"rb\"))\n",
    "\n",
    "rf_toss = pickle.load(open(r\"C:\\Users\\ASUS\\OneDrive\\Documents\\Academics\\Summer Semester\\Dissertation\\Models\\Toss model\\rf_model_latest.pkl\", \"rb\"))\n",
    "\n",
    "xgb_toss = pickle.load(open(r\"C:\\Users\\ASUS\\OneDrive\\Documents\\Academics\\Summer Semester\\Dissertation\\Models\\Toss model\\xgb_model.pkl\", \"rb\"))\n",
    "\n",
    "xgb_hit = pickle.load(open(r\"C:\\Users\\ASUS\\OneDrive\\Documents\\Academics\\Summer Semester\\Dissertation\\Models\\Hit model\\xgb_model.pkl\", \"rb\"))\n",
    "\n",
    "rand_hit = pickle.load(open(r\"C:\\Users\\ASUS\\OneDrive\\Documents\\Academics\\Summer Semester\\Dissertation\\Models\\Hit model\\rf_model.pkl\", \"rb\"))\n",
    " \n",
    "rand_toss = pickle.load(open(r\"C:\\Users\\ASUS\\OneDrive\\Documents\\Academics\\Summer Semester\\Dissertation\\Models\\Toss model\\RF_model.pkl\", \"rb\"))\n",
    "\n",
    "\n",
    "\n",
    "\n",
    "\n",
    "\n",
    "rf_feat_hit = pickle.load(open(r\"C:\\Users\\ASUS\\OneDrive\\Documents\\Academics\\Summer Semester\\Dissertation\\Models\\Hit model\\old_models\\Random_Forest_100iter_model.sav\",\"rb\"))\n",
    "\n",
    "xgb_feat_hit = pickle.load(open(r\"C:\\Users\\ASUS\\OneDrive\\Documents\\Academics\\Summer Semester\\Dissertation\\Models\\Hit model\\old_models\\XGBoost_model.sav\",\"rb\"))\n",
    "\n",
    "rf_mix_hit = pickle.load(open(r\"C:\\Users\\ASUS\\OneDrive\\Documents\\Academics\\Summer Semester\\Dissertation\\Models\\Hit model\\old_models\\RandRFMix.sav\",\"rb\"))\n",
    "\n",
    "xgb_mix_hit = pickle.load(open(r\"C:\\Users\\ASUS\\OneDrive\\Documents\\Academics\\Summer Semester\\Dissertation\\Models\\Hit model\\old_models\\XGBoostmodel_06_08.sav\",\"rb\"))\n",
    "\n",
    "#rf_feat_toss = pickle.load(open(r\"C:\\Users\\ASUS\\OneDrive\\Documents\\Academics\\Summer Semester\\Dissertation\\Models\\Hit model\\old_models\\Random_Forest_100iter_model.sav\"))\n",
    "\n",
    "#xgb_feat_toss = pickle.load(open(r\"C:\\Users\\ASUS\\OneDrive\\Documents\\Academics\\Summer Semester\\Dissertation\\Models\\Hit model\\old_models\\XGBoost_model.sav\"))\n",
    "\n",
    "xgb_mix_toss = pickle.load(open(r\"C:\\Users\\ASUS\\OneDrive\\Documents\\Academics\\Summer Semester\\Dissertation\\Models\\Toss model\\old_models\\XGBoostMixmodel.sav\",\"rb\"))\n",
    "\n",
    "rf_mix_toss = pickle.load(open(r\"C:\\Users\\ASUS\\OneDrive\\Documents\\Academics\\Summer Semester\\Dissertation\\Models\\Toss model\\old_models\\RandRF_08_08.sav\",\"rb\"))\n",
    "\n"
   ]
  },
  {
   "cell_type": "code",
   "execution_count": 3,
   "id": "22af7095",
   "metadata": {},
   "outputs": [
    {
     "ename": "TypeError",
     "evalue": "'XGBClassifier' object is not subscriptable",
     "output_type": "error",
     "traceback": [
      "\u001b[1;31m---------------------------------------------------------------------------\u001b[0m",
      "\u001b[1;31mTypeError\u001b[0m                                 Traceback (most recent call last)",
      "\u001b[1;32m<ipython-input-3-328b7b6a5d91>\u001b[0m in \u001b[0;36m<module>\u001b[1;34m\u001b[0m\n\u001b[0;32m      1\u001b[0m \u001b[1;31m# Extract the training history\u001b[0m\u001b[1;33m\u001b[0m\u001b[1;33m\u001b[0m\u001b[1;33m\u001b[0m\u001b[0m\n\u001b[1;32m----> 2\u001b[1;33m \u001b[0mhistory\u001b[0m \u001b[1;33m=\u001b[0m \u001b[0mxgBoost_hit\u001b[0m\u001b[1;33m[\u001b[0m\u001b[1;34m'history'\u001b[0m\u001b[1;33m]\u001b[0m\u001b[1;33m\u001b[0m\u001b[1;33m\u001b[0m\u001b[0m\n\u001b[0m\u001b[0;32m      3\u001b[0m \u001b[1;33m\u001b[0m\u001b[0m\n\u001b[0;32m      4\u001b[0m \u001b[1;31m# Extract loss values from the history\u001b[0m\u001b[1;33m\u001b[0m\u001b[1;33m\u001b[0m\u001b[1;33m\u001b[0m\u001b[0m\n\u001b[0;32m      5\u001b[0m \u001b[0mtraining_loss\u001b[0m \u001b[1;33m=\u001b[0m \u001b[0mhistory\u001b[0m\u001b[1;33m[\u001b[0m\u001b[1;34m'loss'\u001b[0m\u001b[1;33m]\u001b[0m\u001b[1;33m\u001b[0m\u001b[1;33m\u001b[0m\u001b[0m\n",
      "\u001b[1;31mTypeError\u001b[0m: 'XGBClassifier' object is not subscriptable"
     ]
    }
   ],
   "source": [
    "# Extract the training history\n",
    "history = xgBoost_hit['history']\n",
    "\n",
    "# Extract loss values from the history\n",
    "training_loss = history['loss']\n",
    "validation_loss = history['val_loss']\n",
    "\n",
    "# Create a range of epochs for the x-axis\n",
    "epochs = range(1, len(training_loss) + 1)\n",
    "\n",
    "# Plot training and validation loss\n",
    "plt.figure(figsize=(10, 6))\n",
    "plt.plot(epochs, training_loss, label='Training Loss')\n",
    "plt.plot(epochs, validation_loss, label='Validation Loss')\n",
    "plt.title('Training and Validation Loss')\n",
    "plt.xlabel('Epochs')\n",
    "plt.ylabel('Loss')\n",
    "plt.legend()\n",
    "plt.grid(True)\n",
    "plt.show()\n"
   ]
  },
  {
   "cell_type": "code",
   "execution_count": 4,
   "id": "61a70a6b",
   "metadata": {},
   "outputs": [
    {
     "ename": "TypeError",
     "evalue": "'XGBClassifier' object is not subscriptable",
     "output_type": "error",
     "traceback": [
      "\u001b[1;31m---------------------------------------------------------------------------\u001b[0m",
      "\u001b[1;31mTypeError\u001b[0m                                 Traceback (most recent call last)",
      "\u001b[1;32m<ipython-input-4-921650c79c41>\u001b[0m in \u001b[0;36m<module>\u001b[1;34m\u001b[0m\n\u001b[1;32m----> 1\u001b[1;33m \u001b[0mxgBoost_hit\u001b[0m\u001b[1;33m[\u001b[0m\u001b[1;34m'history'\u001b[0m\u001b[1;33m]\u001b[0m\u001b[1;33m\u001b[0m\u001b[1;33m\u001b[0m\u001b[0m\n\u001b[0m",
      "\u001b[1;31mTypeError\u001b[0m: 'XGBClassifier' object is not subscriptable"
     ]
    }
   ],
   "source": [
    "xgBoost_hit['history']"
   ]
  },
  {
   "cell_type": "code",
   "execution_count": 110,
   "id": "c437cbb0",
   "metadata": {},
   "outputs": [
    {
     "data": {
      "text/plain": [
       "(0.9994383374789376,\n",
       " array([[6421,    0,    1],\n",
       "        [   0, 5654,    1],\n",
       "        [   2,    3,  381]], dtype=int64),\n",
       " '              precision    recall  f1-score   support\\n\\n           0       1.00      1.00      1.00      6422\\n           1       1.00      1.00      1.00      5655\\n           2       0.99      0.99      0.99       386\\n\\n    accuracy                           1.00     12463\\n   macro avg       1.00      1.00      1.00     12463\\nweighted avg       1.00      1.00      1.00     12463\\n')"
      ]
     },
     "execution_count": 110,
     "metadata": {},
     "output_type": "execute_result"
    }
   ],
   "source": [
    "model_perfomance(y_test,xgBoost_toss.predict(new_X_test))"
   ]
  },
  {
   "cell_type": "code",
   "execution_count": 111,
   "id": "7ebe4ead",
   "metadata": {},
   "outputs": [
    {
     "data": {
      "text/plain": [
       "(0.9993580999759287,\n",
       " array([[6420,    0,    2],\n",
       "        [   0, 5654,    1],\n",
       "        [   2,    3,  381]], dtype=int64),\n",
       " '              precision    recall  f1-score   support\\n\\n           0       1.00      1.00      1.00      6422\\n           1       1.00      1.00      1.00      5655\\n           2       0.99      0.99      0.99       386\\n\\n    accuracy                           1.00     12463\\n   macro avg       1.00      1.00      1.00     12463\\nweighted avg       1.00      1.00      1.00     12463\\n')"
      ]
     },
     "execution_count": 111,
     "metadata": {},
     "output_type": "execute_result"
    }
   ],
   "source": [
    "model_perfomance(y_test,xgb_toss.predict(new_X_test))"
   ]
  },
  {
   "cell_type": "code",
   "execution_count": 112,
   "id": "bed76e1d",
   "metadata": {},
   "outputs": [
    {
     "data": {
      "text/plain": [
       "(0.958035785926342,\n",
       " array([[6029,  168,  225],\n",
       "        [  12, 5526,  117],\n",
       "        [   0,    1,  385]], dtype=int64),\n",
       " '              precision    recall  f1-score   support\\n\\n           0       1.00      0.94      0.97      6422\\n           1       0.97      0.98      0.97      5655\\n           2       0.53      1.00      0.69       386\\n\\n    accuracy                           0.96     12463\\n   macro avg       0.83      0.97      0.88     12463\\nweighted avg       0.97      0.96      0.96     12463\\n')"
      ]
     },
     "execution_count": 112,
     "metadata": {},
     "output_type": "execute_result"
    }
   ],
   "source": [
    "model_perfomance(y_test,rf_toss.predict(new_X_test))"
   ]
  },
  {
   "cell_type": "code",
   "execution_count": 113,
   "id": "42f942f2",
   "metadata": {},
   "outputs": [
    {
     "data": {
      "text/plain": [
       "(0.9845141619192811,\n",
       " array([[6391,   28,    3],\n",
       "        [  36, 5618,    1],\n",
       "        [  67,   58,  261]], dtype=int64),\n",
       " '              precision    recall  f1-score   support\\n\\n           0       0.98      1.00      0.99      6422\\n           1       0.98      0.99      0.99      5655\\n           2       0.98      0.68      0.80       386\\n\\n    accuracy                           0.98     12463\\n   macro avg       0.98      0.89      0.93     12463\\nweighted avg       0.98      0.98      0.98     12463\\n')"
      ]
     },
     "execution_count": 113,
     "metadata": {},
     "output_type": "execute_result"
    }
   ],
   "source": [
    "model_perfomance(y_test,rand_toss.predict(new_X_test))"
   ]
  },
  {
   "cell_type": "code",
   "execution_count": null,
   "id": "8ea95c63",
   "metadata": {},
   "outputs": [],
   "source": []
  },
  {
   "cell_type": "code",
   "execution_count": null,
   "id": "29265028",
   "metadata": {},
   "outputs": [],
   "source": []
  },
  {
   "cell_type": "code",
   "execution_count": 104,
   "id": "d2460e98",
   "metadata": {},
   "outputs": [],
   "source": [
    "train_log_loss_xgBoost_hit = log_loss(y_train, xgBoost_hit.predict_proba(new_X_train))\n",
    "\n",
    "val_log_loss_xgBoost_hit = log_loss(y_test, xgBoost_hit.predict_proba(new_X_test))\n",
    "\n",
    "train_log_loss_rf_hit = log_loss(y_train, rf_hit.predict_proba(new_X_train))\n",
    "\n",
    "val_log_loss_rf_hit = log_loss(y_test, rf_hit.predict_proba(new_X_test))\n",
    "\n",
    "train_log_loss_xgBoost_toss = log_loss(y_train, xgBoost_toss.predict_proba(new_X_train))\n",
    "\n",
    "val_log_loss_xgBoost_toss = log_loss(y_test, xgBoost_toss.predict_proba(new_X_test))\n",
    "\n",
    "train_log_loss_rf_toss = log_loss(y_train, rf_toss.predict_proba(new_X_train))\n",
    "\n",
    "val_log_loss_rf_toss = log_loss(y_test, rf_toss.predict_proba(new_X_test))\n",
    "\n",
    "\n",
    "\n",
    "train_log_loss_xgb_hit = log_loss(y_train, xgBoost_hit.predict_proba(new_X_train))\n",
    "\n",
    "val_log_loss_xgb_hit = log_loss(y_test, xgBoost_hit.predict_proba(new_X_test))\n",
    "\n",
    "train_log_loss_rand_hit = log_loss(y_train, rand_hit.predict_proba(new_X_train))\n",
    "\n",
    "val_log_loss_rand_hit = log_loss(y_test, rand_hit.predict_proba(new_X_test))\n",
    "\n",
    "train_log_loss_xgb_toss = log_loss(y_train, xgb_toss.predict_proba(new_X_train))\n",
    "\n",
    "val_log_loss_xgb_toss = log_loss(y_test, xgb_toss.predict_proba(new_X_test))\n",
    "\n",
    "train_log_loss_rand_toss = log_loss(y_train, rand_toss.predict_proba(new_X_train))\n",
    "\n",
    "val_log_loss_rand_toss = log_loss(y_test, rand_toss.predict_proba(new_X_test))\n",
    "\n",
    "\n",
    "train_loss_rf_hit_on_toss = log_loss(y_train, rf_hit_model.predict_proba(new_X_train))\n",
    "\n",
    "val_loss_rf_hit_on_toss = log_loss(y_test, rf_hit_model.predict_proba(new_X_test))\n",
    "\n",
    "\n",
    "\n",
    "\n",
    "\n",
    "#train_loss_rf_feat_hit = log_loss(y_train, rf_feat_hit.predict_proba(new_X_train))\n",
    "#val_log_loss_rf_feat_hit = log_loss(y_test, rf_feat_hit.predict_proba(new_X_test))\n",
    "\n",
    "#train_loss_xgb_feat_hit = log_loss(y_train, xgb_feat_hit.predict_proba(new_X_train))\n",
    "#val_log_loss_xgb_feat_hit = log_loss(y_test, xgb_feat_hit.predict_proba(new_X_test))\n",
    "\n",
    "#train_loss_rf_mix_hit = log_loss(y_train, rf_mix_hit.predict_proba(new_X_train))\n",
    "#val_log_loss_rf_mix_hit = log_loss(y_test, rf_mix_hit.predict_proba(new_X_test))\n",
    "\n",
    "#train_loss_xgb_mix_hit = log_loss(y_train, xgb_mix_hit.predict_proba(new_X_train))\n",
    "#val_log_loss_xgb_mix_hit = log_loss(y_test, xgb_mix_hit.predict_proba(new_X_test))\n",
    "\n",
    "#train_loss_xgb_mix_toss = log_loss(y_train, xgb_mix_toss.predict_proba(new_X_train))\n",
    "#val_log_loss_xgb_mix_toss = log_loss(y_test, xgb_mix_toss.predict_proba(new_X_test))\n",
    "\n",
    "#train_loss_rf_mix_toss = log_loss(y_train, rf_mix_toss.predict_proba(new_X_train))\n",
    "#val_log_loss_rf_mix_toss = log_loss(y_test, rf_mix_toss.predict_proba(new_X_test))"
   ]
  },
  {
   "cell_type": "code",
   "execution_count": 106,
   "id": "425786d8",
   "metadata": {},
   "outputs": [
    {
     "name": "stdout",
     "output_type": "stream",
     "text": [
      "XGBoost_Hit\n",
      "\n",
      "Train-- 3.7851902822259222\n",
      "Validation-- 3.8104886814439616 \n",
      "\n",
      "rf_hit\n",
      "\n",
      "\n",
      "Train-- 2.7883787632016834\n",
      "Validation-- 2.832569704541027 \n",
      "\n",
      "xgb_hit\n",
      "\n",
      "Train-- 3.7851902822259222\n",
      "Validation-- 3.8104886814439616 \n",
      "\n",
      "rand_hit\n",
      "\n",
      "\n",
      "Train-- 2.554700559942454\n",
      "Validation-- 2.601399146818608 \n",
      "\n",
      "TOSS\n",
      "\n",
      "Train-- 0.0072036047189041365\n",
      "Validation-- 0.007256995820662048 \n",
      "\n",
      "Train-- 0.15522147327569727\n",
      "Validation-- 0.1553639854340621 \n",
      "\n",
      "Train-- 0.0018601166012627449\n",
      "Validation-- 0.0019711717482510643 \n",
      "\n",
      "Train-- 0.08443057577143\n",
      "Validation-- 0.08595372010480981 \n",
      "\n",
      "0.1600827320945387\n",
      "0.16033819216442588\n"
     ]
    }
   ],
   "source": [
    "print(\"XGBoost_Hit\\n\")\n",
    "print(\"Train--\",train_log_loss_xgBoost_hit)\n",
    "\n",
    "print(\"Validation--\",val_log_loss_xgBoost_hit,\"\\n\")\n",
    "#loss_graph(train_log_loss_xgBoost_hit,val_log_loss_xgBoost_hit)\n",
    "\n",
    "print(\"rf_hit\\n\")\n",
    "\n",
    "print(\"\\nTrain--\",train_log_loss_rf_hit)\n",
    "\n",
    "print(\"Validation--\",val_log_loss_rf_hit,\"\\n\")\n",
    "\n",
    "print(\"xgb_hit\\n\")\n",
    "\n",
    "print(\"Train--\",train_log_loss_xgb_hit)\n",
    "\n",
    "print(\"Validation--\",val_log_loss_xgb_hit,\"\\n\")\n",
    "#loss_graph(train_log_loss_xgBoost_hit,val_log_loss_xgBoost_hit)\n",
    "\n",
    "print(\"rand_hit\\n\")\n",
    "\n",
    "print(\"\\nTrain--\",train_log_loss_rand_hit)\n",
    "\n",
    "print(\"Validation--\",val_log_loss_rand_hit,\"\\n\")\n",
    "\n",
    "print(\"TOSS\\n\")\n",
    "\n",
    "print(\"Train--\",train_log_loss_xgb_toss)\n",
    "\n",
    "print(\"Validation--\",val_log_loss_xgb_toss,\"\\n\")\n",
    "\n",
    "print(\"Train--\",train_log_loss_rf_toss)\n",
    "\n",
    "print(\"Validation--\",val_log_loss_rf_toss,\"\\n\")\n",
    "\n",
    "print(\"Train--\",train_log_loss_xgBoost_toss)\n",
    "\n",
    "print(\"Validation--\",val_log_loss_xgBoost_toss,\"\\n\")\n",
    "\n",
    "print(\"Train--\",train_log_loss_rand_toss)\n",
    "\n",
    "print(\"Validation--\",val_log_loss_rand_toss,\"\\n\")\n",
    "\n",
    "print(train_loss_rf_hit_on_toss)\n",
    "\n",
    "print(val_loss_rf_hit_on_toss)"
   ]
  },
  {
   "cell_type": "code",
   "execution_count": 85,
   "id": "547f0879",
   "metadata": {},
   "outputs": [
    {
     "data": {
      "text/plain": [
       "DecisionTreeClassifier(ccp_alpha=0.0, class_weight=None, criterion='gini',\n",
       "                       max_depth=None, max_features=None, max_leaf_nodes=None,\n",
       "                       min_impurity_decrease=0.0, min_impurity_split=None,\n",
       "                       min_samples_leaf=1, min_samples_split=2,\n",
       "                       min_weight_fraction_leaf=0.0, presort='deprecated',\n",
       "                       random_state=None, splitter='best')"
      ]
     },
     "execution_count": 85,
     "metadata": {},
     "output_type": "execute_result"
    }
   ],
   "source": [
    "rand_hit.base_estimator_"
   ]
  },
  {
   "cell_type": "code",
   "execution_count": 84,
   "id": "12d5d136",
   "metadata": {},
   "outputs": [
    {
     "data": {
      "text/plain": [
       "DecisionTreeClassifier(ccp_alpha=0.0, class_weight=None, criterion='gini',\n",
       "                       max_depth=None, max_features=None, max_leaf_nodes=None,\n",
       "                       min_impurity_decrease=0.0, min_impurity_split=None,\n",
       "                       min_samples_leaf=1, min_samples_split=2,\n",
       "                       min_weight_fraction_leaf=0.0, presort='deprecated',\n",
       "                       random_state=None, splitter='best')"
      ]
     },
     "execution_count": 84,
     "metadata": {},
     "output_type": "execute_result"
    }
   ],
   "source": [
    "rf_hit.base_estimator_"
   ]
  },
  {
   "cell_type": "code",
   "execution_count": 83,
   "id": "c1c04bdd",
   "metadata": {},
   "outputs": [
    {
     "data": {
      "text/plain": [
       "DecisionTreeClassifier(ccp_alpha=0.0, class_weight=None, criterion='gini',\n",
       "                       max_depth=None, max_features=None, max_leaf_nodes=None,\n",
       "                       min_impurity_decrease=0.0, min_impurity_split=None,\n",
       "                       min_samples_leaf=1, min_samples_split=2,\n",
       "                       min_weight_fraction_leaf=0.0, presort='deprecated',\n",
       "                       random_state=None, splitter='best')"
      ]
     },
     "execution_count": 83,
     "metadata": {},
     "output_type": "execute_result"
    }
   ],
   "source": [
    "rf_hit_model.base_estimator_"
   ]
  },
  {
   "cell_type": "code",
   "execution_count": 67,
   "id": "18282ab5",
   "metadata": {},
   "outputs": [
    {
     "name": "stdout",
     "output_type": "stream",
     "text": [
      "(0.9832863333104065, array([[ 6819,   265,    24],\n",
      "       [   16, 21067,    10],\n",
      "       [   10,   161,   706]], dtype=int64), '              precision    recall  f1-score   support\\n\\n           0       1.00      0.96      0.98      7108\\n           1       0.98      1.00      0.99     21093\\n           2       0.95      0.81      0.87       877\\n\\n    accuracy                           0.98     29078\\n   macro avg       0.98      0.92      0.95     29078\\nweighted avg       0.98      0.98      0.98     29078\\n')\n",
      "\n",
      "\n",
      "\n",
      "\n",
      "(0.982026799326005, array([[2955,  114,   18],\n",
      "       [   3, 8973,    5],\n",
      "       [   4,   80,  311]], dtype=int64), '              precision    recall  f1-score   support\\n\\n           0       1.00      0.96      0.98      3087\\n           1       0.98      1.00      0.99      8981\\n           2       0.93      0.79      0.85       395\\n\\n    accuracy                           0.98     12463\\n   macro avg       0.97      0.91      0.94     12463\\nweighted avg       0.98      0.98      0.98     12463\\n')\n",
      "\n",
      "\n",
      "\n",
      "\n"
     ]
    }
   ],
   "source": [
    "rand_hit.predict(new_X_train)\n",
    "print(model_perfomance(y_train,rand_hit.predict(new_X_train)))\n",
    "print(\"\\n\\n\\n\")\n",
    "print(model_perfomance(y_test,rand_hit.predict(new_X_test)))\n",
    "print(\"\\n\\n\\n\")"
   ]
  },
  {
   "cell_type": "code",
   "execution_count": 37,
   "id": "b8920fe4",
   "metadata": {},
   "outputs": [
    {
     "name": "stdout",
     "output_type": "stream",
     "text": [
      "Training\n",
      " (0.7030057087832726, array([[ 7098,    53,     0],\n",
      "       [ 7045, 13344,   644],\n",
      "       [  894,     0,     0]], dtype=int64), '              precision    recall  f1-score   support\\n\\n           0       0.47      0.99      0.64      7151\\n           1       1.00      0.63      0.78     21033\\n           2       0.00      0.00      0.00       894\\n\\n    accuracy                           0.70     29078\\n   macro avg       0.49      0.54      0.47     29078\\nweighted avg       0.84      0.70      0.72     29078\\n')\n",
      "\n",
      "\n",
      "\n",
      "\n",
      "Val\n",
      " (0.7008745887827971, array([[3022,   22,    0],\n",
      "       [3050, 5713,  278],\n",
      "       [ 378,    0,    0]], dtype=int64), '              precision    recall  f1-score   support\\n\\n           0       0.47      0.99      0.64      3044\\n           1       1.00      0.63      0.77      9041\\n           2       0.00      0.00      0.00       378\\n\\n    accuracy                           0.70     12463\\n   macro avg       0.49      0.54      0.47     12463\\nweighted avg       0.84      0.70      0.72     12463\\n')\n"
     ]
    }
   ],
   "source": [
    "rand_toss.predict(new_X_train)\n",
    "print(\"Training\\n\",model_perfomance(y_train,rand_toss.predict(new_X_train)))\n",
    "print(\"\\n\\n\\n\")\n",
    "rand_toss.predict(new_X_test)\n",
    "print(\"Val\\n\",model_perfomance(y_test,rand_toss.predict(new_X_test)))"
   ]
  },
  {
   "cell_type": "code",
   "execution_count": 68,
   "id": "29cf4339",
   "metadata": {},
   "outputs": [
    {
     "name": "stdout",
     "output_type": "stream",
     "text": [
      "(0.9994841460898274, array([[ 7104,     0,     4],\n",
      "       [    0, 21086,     7],\n",
      "       [    2,     2,   873]], dtype=int64), '              precision    recall  f1-score   support\\n\\n           0       1.00      1.00      1.00      7108\\n           1       1.00      1.00      1.00     21093\\n           2       0.99      1.00      0.99       877\\n\\n    accuracy                           1.00     29078\\n   macro avg       1.00      1.00      1.00     29078\\nweighted avg       1.00      1.00      1.00     29078\\n')\n",
      "\n",
      "\n",
      "\n",
      "\n",
      "(0.9994383374789376, array([[3083,    0,    4],\n",
      "       [   0, 8980,    1],\n",
      "       [   2,    0,  393]], dtype=int64), '              precision    recall  f1-score   support\\n\\n           0       1.00      1.00      1.00      3087\\n           1       1.00      1.00      1.00      8981\\n           2       0.99      0.99      0.99       395\\n\\n    accuracy                           1.00     12463\\n   macro avg       1.00      1.00      1.00     12463\\nweighted avg       1.00      1.00      1.00     12463\\n')\n"
     ]
    }
   ],
   "source": [
    "xgBoost_hit.predict(new_X_train)\n",
    "print(model_perfomance(y_train,xgBoost_hit.predict(new_X_train)))\n",
    "print(\"\\n\\n\\n\")\n",
    "xgBoost_hit.predict(new_X_test)\n",
    "print(model_perfomance(y_test,xgBoost_hit.predict(new_X_test)))"
   ]
  },
  {
   "cell_type": "code",
   "execution_count": 69,
   "id": "b1693c64",
   "metadata": {},
   "outputs": [
    {
     "name": "stdout",
     "output_type": "stream",
     "text": [
      "(0.9741041337093335, array([[ 6943,     4,   161],\n",
      "       [  355, 20505,   233],\n",
      "       [    0,     0,   877]], dtype=int64), '              precision    recall  f1-score   support\\n\\n           0       0.95      0.98      0.96      7108\\n           1       1.00      0.97      0.99     21093\\n           2       0.69      1.00      0.82       877\\n\\n    accuracy                           0.97     29078\\n   macro avg       0.88      0.98      0.92     29078\\nweighted avg       0.98      0.97      0.98     29078\\n')\n",
      "\n",
      "\n",
      "\n",
      "\n",
      "(0.972558773970954, array([[2995,    5,   87],\n",
      "       [ 153, 8732,   96],\n",
      "       [   1,    0,  394]], dtype=int64), '              precision    recall  f1-score   support\\n\\n           0       0.95      0.97      0.96      3087\\n           1       1.00      0.97      0.99      8981\\n           2       0.68      1.00      0.81       395\\n\\n    accuracy                           0.97     12463\\n   macro avg       0.88      0.98      0.92     12463\\nweighted avg       0.98      0.97      0.97     12463\\n')\n"
     ]
    }
   ],
   "source": [
    "rf_hit.predict(new_X_train)\n",
    "print(model_perfomance(y_train,rf_hit.predict(new_X_train)))\n",
    "print(\"\\n\\n\\n\")\n",
    "rf_hit.predict(new_X_test)\n",
    "print(model_perfomance(y_test,rf_hit.predict(new_X_test)))"
   ]
  },
  {
   "cell_type": "code",
   "execution_count": 40,
   "id": "a854648d",
   "metadata": {},
   "outputs": [
    {
     "name": "stdout",
     "output_type": "stream",
     "text": [
      "(0.7030057087832726, array([[ 7151,     0,     0],\n",
      "       [ 6864, 13291,   878],\n",
      "       [  894,     0,     0]], dtype=int64), '              precision    recall  f1-score   support\\n\\n           0       0.48      1.00      0.65      7151\\n           1       1.00      0.63      0.77     21033\\n           2       0.00      0.00      0.00       894\\n\\n    accuracy                           0.70     29078\\n   macro avg       0.49      0.54      0.47     29078\\nweighted avg       0.84      0.70      0.72     29078\\n')\n",
      "\n",
      "\n",
      "\n",
      "\n",
      "(0.7007141137767793, array([[3044,    0,    0],\n",
      "       [2958, 5689,  394],\n",
      "       [ 378,    0,    0]], dtype=int64), '              precision    recall  f1-score   support\\n\\n           0       0.48      1.00      0.65      3044\\n           1       1.00      0.63      0.77      9041\\n           2       0.00      0.00      0.00       378\\n\\n    accuracy                           0.70     12463\\n   macro avg       0.49      0.54      0.47     12463\\nweighted avg       0.84      0.70      0.72     12463\\n')\n"
     ]
    }
   ],
   "source": [
    "xgBoost_toss.predict(new_X_train)\n",
    "print(model_perfomance(y_train,xgBoost_toss.predict(new_X_train)))\n",
    "print(\"\\n\\n\\n\")\n",
    "xgBoost_toss.predict(new_X_test)\n",
    "print(model_perfomance(y_test,xgBoost_toss.predict(new_X_test)))"
   ]
  },
  {
   "cell_type": "code",
   "execution_count": 41,
   "id": "8af206d4",
   "metadata": {},
   "outputs": [
    {
     "name": "stdout",
     "output_type": "stream",
     "text": [
      "(0.6797235023041475, array([[ 6718,   351,    82],\n",
      "       [ 6467, 12987,  1579],\n",
      "       [  834,     0,    60]], dtype=int64), '              precision    recall  f1-score   support\\n\\n           0       0.48      0.94      0.63      7151\\n           1       0.97      0.62      0.76     21033\\n           2       0.03      0.07      0.05       894\\n\\n    accuracy                           0.68     29078\\n   macro avg       0.50      0.54      0.48     29078\\nweighted avg       0.82      0.68      0.70     29078\\n')\n",
      "\n",
      "\n",
      "\n",
      "\n",
      "(0.6769638128861429, array([[2860,  158,   26],\n",
      "       [2774, 5556,  711],\n",
      "       [ 357,    0,   21]], dtype=int64), '              precision    recall  f1-score   support\\n\\n           0       0.48      0.94      0.63      3044\\n           1       0.97      0.61      0.75      9041\\n           2       0.03      0.06      0.04       378\\n\\n    accuracy                           0.68     12463\\n   macro avg       0.49      0.54      0.47     12463\\nweighted avg       0.82      0.68      0.70     12463\\n')\n"
     ]
    }
   ],
   "source": [
    "rf_toss.predict(new_X_train)\n",
    "print(model_perfomance(y_train,rf_toss.predict(new_X_train)))\n",
    "print(\"\\n\\n\\n\")\n",
    "rf_toss.predict(new_X_test)\n",
    "print(model_perfomance(y_test,rf_toss.predict(new_X_test)))"
   ]
  },
  {
   "cell_type": "code",
   "execution_count": 42,
   "id": "af02d538",
   "metadata": {},
   "outputs": [
    {
     "name": "stdout",
     "output_type": "stream",
     "text": [
      "(0.7029369282619162, array([[ 7151,     0,     0],\n",
      "       [ 6869, 13289,   875],\n",
      "       [  894,     0,     0]], dtype=int64), '              precision    recall  f1-score   support\\n\\n           0       0.48      1.00      0.65      7151\\n           1       1.00      0.63      0.77     21033\\n           2       0.00      0.00      0.00       894\\n\\n    accuracy                           0.70     29078\\n   macro avg       0.49      0.54      0.47     29078\\nweighted avg       0.84      0.70      0.72     29078\\n')\n",
      "\n",
      "\n",
      "\n",
      "\n",
      "(0.7006338762737704, array([[3043,    1,    0],\n",
      "       [2963, 5689,  389],\n",
      "       [ 378,    0,    0]], dtype=int64), '              precision    recall  f1-score   support\\n\\n           0       0.48      1.00      0.65      3044\\n           1       1.00      0.63      0.77      9041\\n           2       0.00      0.00      0.00       378\\n\\n    accuracy                           0.70     12463\\n   macro avg       0.49      0.54      0.47     12463\\nweighted avg       0.84      0.70      0.72     12463\\n')\n"
     ]
    }
   ],
   "source": [
    "xgb_toss.predict(new_X_train)\n",
    "print(model_perfomance(y_train,xgb_toss.predict(new_X_train)))\n",
    "print(\"\\n\\n\\n\")\n",
    "xgb_toss.predict(new_X_test)\n",
    "print(model_perfomance(y_test,xgb_toss.predict(new_X_test)))"
   ]
  },
  {
   "cell_type": "code",
   "execution_count": 43,
   "id": "ff8b6a34",
   "metadata": {},
   "outputs": [
    {
     "name": "stdout",
     "output_type": "stream",
     "text": [
      "(0.9989682921796548, array([[ 7139,     0,    12],\n",
      "       [    1, 21029,     3],\n",
      "       [    9,     5,   880]], dtype=int64), '              precision    recall  f1-score   support\\n\\n           0       1.00      1.00      1.00      7151\\n           1       1.00      1.00      1.00     21033\\n           2       0.98      0.98      0.98       894\\n\\n    accuracy                           1.00     29078\\n   macro avg       0.99      0.99      0.99     29078\\nweighted avg       1.00      1.00      1.00     29078\\n')\n",
      "\n",
      "\n",
      "\n",
      "\n",
      "(0.9982347749338041, array([[3037,    1,    6],\n",
      "       [   0, 9035,    6],\n",
      "       [   5,    4,  369]], dtype=int64), '              precision    recall  f1-score   support\\n\\n           0       1.00      1.00      1.00      3044\\n           1       1.00      1.00      1.00      9041\\n           2       0.97      0.98      0.97       378\\n\\n    accuracy                           1.00     12463\\n   macro avg       0.99      0.99      0.99     12463\\nweighted avg       1.00      1.00      1.00     12463\\n')\n"
     ]
    }
   ],
   "source": [
    "xgb_hit.predict(new_X_train)\n",
    "print(model_perfomance(y_train,xgb_hit.predict(new_X_train)))\n",
    "print(\"\\n\\n\\n\")\n",
    "xgb_hit.predict(new_X_test)\n",
    "print(model_perfomance(y_test,xgb_hit.predict(new_X_test)))"
   ]
  },
  {
   "cell_type": "code",
   "execution_count": null,
   "id": "bd28e32d",
   "metadata": {},
   "outputs": [],
   "source": []
  },
  {
   "cell_type": "code",
   "execution_count": null,
   "id": "a6bafe26",
   "metadata": {},
   "outputs": [],
   "source": []
  },
  {
   "cell_type": "code",
   "execution_count": null,
   "id": "a010332d",
   "metadata": {},
   "outputs": [],
   "source": []
  },
  {
   "cell_type": "code",
   "execution_count": 52,
   "id": "8071cfd0",
   "metadata": {},
   "outputs": [
    {
     "data": {
      "text/plain": [
       "array([1, 1, 1, 1, 1, 1, 1, 1, 1, 1, 1, 1, 1, 1, 1, 1, 1, 1, 1, 1, 1, 1,\n",
       "       1, 1, 1, 1, 1, 1, 1, 1, 1, 1, 1, 1, 1, 1, 1, 1, 1, 1, 1, 1, 1, 1,\n",
       "       1, 1, 1, 1, 1, 1, 1, 1, 1, 1, 1, 1, 1, 2, 2, 2, 2, 2, 2, 2, 2, 2,\n",
       "       2, 2, 2, 2, 2, 2, 2, 1, 1, 1, 1, 1, 1, 1, 1, 1, 1, 1, 1, 1, 1, 1,\n",
       "       1, 1, 1, 1, 1, 1, 1, 1, 1, 1, 1, 1, 1, 1, 1, 1, 1, 1, 1, 1, 1, 1,\n",
       "       1, 1, 1, 1, 1, 1, 1, 1, 1, 1, 1, 1, 1, 1, 1, 1, 1, 1, 1, 1, 1, 1,\n",
       "       1, 1, 1, 1, 1, 1, 1, 1, 1, 1, 1, 1, 1, 1, 1, 1, 1, 1, 1, 1, 1, 1,\n",
       "       1, 1, 1, 1, 1, 1, 1, 1, 1, 1, 1, 1, 1, 1, 1, 1, 1, 1, 1, 1, 1, 1,\n",
       "       1, 1, 1, 1, 1, 1, 1, 1, 0, 0, 0, 0, 0, 0, 0, 0, 0, 0, 0, 0, 0, 0,\n",
       "       0, 0, 0, 0, 0, 0, 0, 0, 0, 0, 0, 0, 0, 0, 0, 0, 0, 0, 0, 0, 0, 0,\n",
       "       0, 0, 0, 0, 0, 2, 2, 2, 2, 2, 2, 2, 2, 2, 2, 2, 2, 2, 2, 2, 2, 2,\n",
       "       2, 2, 2, 2, 2, 2, 2, 1, 2, 1, 1, 0, 0, 1, 1, 1, 0, 1, 1, 0, 0, 0,\n",
       "       0, 0, 0, 0, 0, 0, 0, 0, 0, 0, 0, 0, 0, 0, 0, 0, 0, 0, 0, 0, 0, 0,\n",
       "       0, 0, 0, 0, 0, 0, 0, 0, 0, 0, 0, 0, 0, 0, 0, 0, 0, 0, 0, 0, 0, 0,\n",
       "       0, 0, 0, 0, 0, 0, 0, 0, 0, 0, 0, 0, 0, 0, 0, 0, 0, 0, 0, 0, 0, 0,\n",
       "       0, 0, 0, 0, 0, 0, 0, 0, 0, 0, 0, 0, 0, 0, 0, 0, 0, 0, 0, 0, 0, 0,\n",
       "       0, 0, 0, 0, 0, 0, 0, 0, 0, 0, 0, 0, 0, 0, 0, 0, 0, 0, 0, 0, 0, 0,\n",
       "       0, 0, 0, 0, 0, 0, 0, 0, 0, 0, 0, 0, 0, 0, 0, 0, 0, 0, 0, 0, 0, 0,\n",
       "       0, 0, 0, 0, 0, 0, 0, 0, 0, 0, 0, 0, 0, 0, 0, 0, 0, 0, 0, 0, 0, 0,\n",
       "       0, 0, 0, 0, 0, 0, 0, 0, 0, 0, 0, 0, 0, 0, 0, 0, 0, 0, 0, 0, 0, 0,\n",
       "       0, 0, 0, 0, 0, 0, 0, 0, 0, 0])"
      ]
     },
     "execution_count": 52,
     "metadata": {},
     "output_type": "execute_result"
    }
   ],
   "source": [
    "y_hit_xgpred"
   ]
  },
  {
   "cell_type": "markdown",
   "id": "55454c56",
   "metadata": {},
   "source": [
    "*ANALYSE PREDICTION RESULTS*"
   ]
  },
  {
   "cell_type": "code",
   "execution_count": 8,
   "id": "d00454d7",
   "metadata": {},
   "outputs": [],
   "source": [
    "#Function to evaluate the perfomance of a model by calculating accuracy, Confusion matrix and Classification Report\n",
    "\n",
    "def model_perfomance(test,prediction):\n",
    "    accuracy = accuracy_score(test,prediction)\n",
    "    conf_matrix = confusion_matrix(test,prediction)\n",
    "    class_report = sklearn.metrics.classification_report(test,prediction)\n",
    "    \n",
    "    return accuracy,conf_matrix,class_report"
   ]
  },
  {
   "cell_type": "code",
   "execution_count": 185,
   "id": "d707bca0",
   "metadata": {},
   "outputs": [],
   "source": [
    "def loss_graph(train_loss,val_loss):    \n",
    "    plt.plot(train_loss)\n",
    "    plt.plot(val_loss)\n",
    "    plt.title('model train vs validation loss')\n",
    "    plt.ylabel('loss')\n",
    "    plt.xlabel('epoch')\n",
    "    plt.legend(['train', 'validation'], loc='upper right')\n",
    "    plt.show()"
   ]
  },
  {
   "cell_type": "markdown",
   "id": "c636681e",
   "metadata": {},
   "source": [
    "*SELECT KEY FRAMES*"
   ]
  },
  {
   "cell_type": "code",
   "execution_count": 82,
   "id": "5396ee26",
   "metadata": {},
   "outputs": [],
   "source": [
    "# The frames from Toss row till Hit row is selected.\n",
    "\n",
    "def find_index(dataframe):\n",
    "    \n",
    "    for i,j in enumerate(df[\"Class_2\"]):\n",
    "    \n",
    "        if j == 2:\n",
    "            go = i\n",
    "            break\n",
    "            \n",
    "    for u,v in enumerate(dataframe['Class_1']):\n",
    "        \n",
    "        if v == 2:\n",
    "            stop = u \n",
    "\n",
    "    return go,stop"
   ]
  },
  {
   "cell_type": "markdown",
   "id": "e2c134a3",
   "metadata": {},
   "source": [
    "*LSTM MODEL*"
   ]
  },
  {
   "cell_type": "code",
   "execution_count": 89,
   "id": "0ed902d4",
   "metadata": {},
   "outputs": [],
   "source": [
    "data=pd.read_csv(r\"C:\\Users\\ASUS\\OneDrive\\Documents\\Academics\\Summer Semester\\Dissertation\\Model_out\\DataSet.csv\")"
   ]
  },
  {
   "cell_type": "code",
   "execution_count": 101,
   "id": "f880d19f",
   "metadata": {},
   "outputs": [],
   "source": [
    "data = data[coef_lis]"
   ]
  },
  {
   "cell_type": "code",
   "execution_count": 84,
   "id": "e8967a80",
   "metadata": {
    "collapsed": true
   },
   "outputs": [],
   "source": [
    "start,end = find_index(df)\n",
    "dataframe = df[start:end+1]"
   ]
  },
  {
   "cell_type": "code",
   "execution_count": 100,
   "id": "e42de014",
   "metadata": {},
   "outputs": [
    {
     "data": {
      "text/html": [
       "<div>\n",
       "<style scoped>\n",
       "    .dataframe tbody tr th:only-of-type {\n",
       "        vertical-align: middle;\n",
       "    }\n",
       "\n",
       "    .dataframe tbody tr th {\n",
       "        vertical-align: top;\n",
       "    }\n",
       "\n",
       "    .dataframe thead th {\n",
       "        text-align: right;\n",
       "    }\n",
       "</style>\n",
       "<table border=\"1\" class=\"dataframe\">\n",
       "  <thead>\n",
       "    <tr style=\"text-align: right;\">\n",
       "      <th></th>\n",
       "      <th>Unnamed: 0</th>\n",
       "      <th>NOSE_X</th>\n",
       "      <th>NOSE_Y</th>\n",
       "      <th>NOSE_Z</th>\n",
       "      <th>LEFT_SHOULDER_X</th>\n",
       "      <th>LEFT_SHOULDER_Y</th>\n",
       "      <th>LEFT_SHOULDER_Z</th>\n",
       "      <th>RIGHT_SHOULDER_X</th>\n",
       "      <th>RIGHT_SHOULDER_Y</th>\n",
       "      <th>RIGHT_SHOULDER_Z</th>\n",
       "      <th>...</th>\n",
       "      <th>Right_Sho_Wrist Angle</th>\n",
       "      <th>Nose_Right_Elbow</th>\n",
       "      <th>Left_Sho_Wrist_Angle</th>\n",
       "      <th>Nose_Left_Wrist</th>\n",
       "      <th>Nose_Left_Elbow</th>\n",
       "      <th>Class</th>\n",
       "      <th>Prediction</th>\n",
       "      <th>Unnamed: 60</th>\n",
       "      <th>Unnamed: 61</th>\n",
       "      <th>Unnamed: 62</th>\n",
       "    </tr>\n",
       "  </thead>\n",
       "  <tbody>\n",
       "    <tr>\n",
       "      <th>0</th>\n",
       "      <td>0</td>\n",
       "      <td>0.393201</td>\n",
       "      <td>0.422577</td>\n",
       "      <td>-0.261642</td>\n",
       "      <td>0.387936</td>\n",
       "      <td>0.485447</td>\n",
       "      <td>0.097256</td>\n",
       "      <td>0.280079</td>\n",
       "      <td>0.473706</td>\n",
       "      <td>-0.379060</td>\n",
       "      <td>...</td>\n",
       "      <td>1.664838</td>\n",
       "      <td>2.497794</td>\n",
       "      <td>1.253485</td>\n",
       "      <td>1.380747</td>\n",
       "      <td>1.629800</td>\n",
       "      <td>Before</td>\n",
       "      <td>Ametuer</td>\n",
       "      <td>NaN</td>\n",
       "      <td>NaN</td>\n",
       "      <td>NaN</td>\n",
       "    </tr>\n",
       "    <tr>\n",
       "      <th>1</th>\n",
       "      <td>1</td>\n",
       "      <td>0.393207</td>\n",
       "      <td>0.423227</td>\n",
       "      <td>-0.160749</td>\n",
       "      <td>0.386230</td>\n",
       "      <td>0.485303</td>\n",
       "      <td>0.175091</td>\n",
       "      <td>0.279769</td>\n",
       "      <td>0.473445</td>\n",
       "      <td>-0.302719</td>\n",
       "      <td>...</td>\n",
       "      <td>1.663589</td>\n",
       "      <td>2.507557</td>\n",
       "      <td>1.278204</td>\n",
       "      <td>1.406325</td>\n",
       "      <td>1.649709</td>\n",
       "      <td>Before</td>\n",
       "      <td>Ametuer</td>\n",
       "      <td>NaN</td>\n",
       "      <td>NaN</td>\n",
       "      <td>NaN</td>\n",
       "    </tr>\n",
       "    <tr>\n",
       "      <th>2</th>\n",
       "      <td>2</td>\n",
       "      <td>0.393215</td>\n",
       "      <td>0.423485</td>\n",
       "      <td>-0.150250</td>\n",
       "      <td>0.385456</td>\n",
       "      <td>0.485172</td>\n",
       "      <td>0.185736</td>\n",
       "      <td>0.279787</td>\n",
       "      <td>0.473365</td>\n",
       "      <td>-0.293013</td>\n",
       "      <td>...</td>\n",
       "      <td>1.664194</td>\n",
       "      <td>2.510686</td>\n",
       "      <td>1.292996</td>\n",
       "      <td>1.420526</td>\n",
       "      <td>1.666095</td>\n",
       "      <td>Before</td>\n",
       "      <td>Ametuer</td>\n",
       "      <td>NaN</td>\n",
       "      <td>NaN</td>\n",
       "      <td>NaN</td>\n",
       "    </tr>\n",
       "    <tr>\n",
       "      <th>3</th>\n",
       "      <td>3</td>\n",
       "      <td>0.393198</td>\n",
       "      <td>0.423656</td>\n",
       "      <td>-0.157523</td>\n",
       "      <td>0.385134</td>\n",
       "      <td>0.485154</td>\n",
       "      <td>0.178089</td>\n",
       "      <td>0.279732</td>\n",
       "      <td>0.473381</td>\n",
       "      <td>-0.295993</td>\n",
       "      <td>...</td>\n",
       "      <td>1.663929</td>\n",
       "      <td>2.511905</td>\n",
       "      <td>1.298850</td>\n",
       "      <td>1.426114</td>\n",
       "      <td>1.675857</td>\n",
       "      <td>Before</td>\n",
       "      <td>Ametuer</td>\n",
       "      <td>NaN</td>\n",
       "      <td>NaN</td>\n",
       "      <td>NaN</td>\n",
       "    </tr>\n",
       "    <tr>\n",
       "      <th>4</th>\n",
       "      <td>4</td>\n",
       "      <td>0.393174</td>\n",
       "      <td>0.423814</td>\n",
       "      <td>-0.167579</td>\n",
       "      <td>0.385034</td>\n",
       "      <td>0.485031</td>\n",
       "      <td>0.171813</td>\n",
       "      <td>0.279611</td>\n",
       "      <td>0.473405</td>\n",
       "      <td>-0.301945</td>\n",
       "      <td>...</td>\n",
       "      <td>1.662867</td>\n",
       "      <td>2.512940</td>\n",
       "      <td>1.301431</td>\n",
       "      <td>1.428055</td>\n",
       "      <td>1.680128</td>\n",
       "      <td>Before</td>\n",
       "      <td>Ametuer</td>\n",
       "      <td>NaN</td>\n",
       "      <td>NaN</td>\n",
       "      <td>NaN</td>\n",
       "    </tr>\n",
       "    <tr>\n",
       "      <th>...</th>\n",
       "      <td>...</td>\n",
       "      <td>...</td>\n",
       "      <td>...</td>\n",
       "      <td>...</td>\n",
       "      <td>...</td>\n",
       "      <td>...</td>\n",
       "      <td>...</td>\n",
       "      <td>...</td>\n",
       "      <td>...</td>\n",
       "      <td>...</td>\n",
       "      <td>...</td>\n",
       "      <td>...</td>\n",
       "      <td>...</td>\n",
       "      <td>...</td>\n",
       "      <td>...</td>\n",
       "      <td>...</td>\n",
       "      <td>...</td>\n",
       "      <td>...</td>\n",
       "      <td>...</td>\n",
       "      <td>...</td>\n",
       "      <td>...</td>\n",
       "    </tr>\n",
       "    <tr>\n",
       "      <th>41536</th>\n",
       "      <td>789</td>\n",
       "      <td>514.067867</td>\n",
       "      <td>823.728867</td>\n",
       "      <td>47.048424</td>\n",
       "      <td>446.531582</td>\n",
       "      <td>790.610504</td>\n",
       "      <td>68.100954</td>\n",
       "      <td>504.034259</td>\n",
       "      <td>783.134232</td>\n",
       "      <td>-114.340392</td>\n",
       "      <td>...</td>\n",
       "      <td>-1.676663</td>\n",
       "      <td>-1.761567</td>\n",
       "      <td>-1.903740</td>\n",
       "      <td>-2.220360</td>\n",
       "      <td>-2.439770</td>\n",
       "      <td>After</td>\n",
       "      <td>Ametuer</td>\n",
       "      <td>NaN</td>\n",
       "      <td>NaN</td>\n",
       "      <td>NaN</td>\n",
       "    </tr>\n",
       "    <tr>\n",
       "      <th>41537</th>\n",
       "      <td>790</td>\n",
       "      <td>513.908758</td>\n",
       "      <td>823.855057</td>\n",
       "      <td>37.498596</td>\n",
       "      <td>446.363032</td>\n",
       "      <td>790.681229</td>\n",
       "      <td>62.849430</td>\n",
       "      <td>503.963234</td>\n",
       "      <td>783.756561</td>\n",
       "      <td>-121.806471</td>\n",
       "      <td>...</td>\n",
       "      <td>-1.661155</td>\n",
       "      <td>-1.756199</td>\n",
       "      <td>-1.899850</td>\n",
       "      <td>-2.218322</td>\n",
       "      <td>-2.438111</td>\n",
       "      <td>After</td>\n",
       "      <td>Ametuer</td>\n",
       "      <td>NaN</td>\n",
       "      <td>NaN</td>\n",
       "      <td>NaN</td>\n",
       "    </tr>\n",
       "    <tr>\n",
       "      <th>41538</th>\n",
       "      <td>791</td>\n",
       "      <td>513.635924</td>\n",
       "      <td>824.124069</td>\n",
       "      <td>41.686356</td>\n",
       "      <td>446.389897</td>\n",
       "      <td>791.219330</td>\n",
       "      <td>63.582843</td>\n",
       "      <td>503.727458</td>\n",
       "      <td>784.559097</td>\n",
       "      <td>-117.911410</td>\n",
       "      <td>...</td>\n",
       "      <td>-1.657132</td>\n",
       "      <td>-1.749919</td>\n",
       "      <td>-1.895237</td>\n",
       "      <td>-2.214868</td>\n",
       "      <td>-2.435621</td>\n",
       "      <td>After</td>\n",
       "      <td>Ametuer</td>\n",
       "      <td>NaN</td>\n",
       "      <td>NaN</td>\n",
       "      <td>NaN</td>\n",
       "    </tr>\n",
       "    <tr>\n",
       "      <th>41539</th>\n",
       "      <td>792</td>\n",
       "      <td>513.319380</td>\n",
       "      <td>824.682922</td>\n",
       "      <td>37.274734</td>\n",
       "      <td>446.133456</td>\n",
       "      <td>791.528778</td>\n",
       "      <td>64.661601</td>\n",
       "      <td>503.495092</td>\n",
       "      <td>785.265808</td>\n",
       "      <td>-121.205303</td>\n",
       "      <td>...</td>\n",
       "      <td>-1.628947</td>\n",
       "      <td>-1.742389</td>\n",
       "      <td>-1.887328</td>\n",
       "      <td>-2.209066</td>\n",
       "      <td>-2.430917</td>\n",
       "      <td>After</td>\n",
       "      <td>Ametuer</td>\n",
       "      <td>NaN</td>\n",
       "      <td>NaN</td>\n",
       "      <td>NaN</td>\n",
       "    </tr>\n",
       "    <tr>\n",
       "      <th>41540</th>\n",
       "      <td>793</td>\n",
       "      <td>512.841132</td>\n",
       "      <td>825.528107</td>\n",
       "      <td>37.491604</td>\n",
       "      <td>446.027777</td>\n",
       "      <td>791.887512</td>\n",
       "      <td>73.890905</td>\n",
       "      <td>503.287575</td>\n",
       "      <td>786.691742</td>\n",
       "      <td>-125.545020</td>\n",
       "      <td>...</td>\n",
       "      <td>-1.613756</td>\n",
       "      <td>-1.735263</td>\n",
       "      <td>-1.880694</td>\n",
       "      <td>-2.201539</td>\n",
       "      <td>-2.424127</td>\n",
       "      <td>After</td>\n",
       "      <td>Ametuer</td>\n",
       "      <td>NaN</td>\n",
       "      <td>NaN</td>\n",
       "      <td>NaN</td>\n",
       "    </tr>\n",
       "  </tbody>\n",
       "</table>\n",
       "<p>41541 rows × 63 columns</p>\n",
       "</div>"
      ],
      "text/plain": [
       "       Unnamed: 0      NOSE_X      NOSE_Y     NOSE_Z  LEFT_SHOULDER_X  \\\n",
       "0               0    0.393201    0.422577  -0.261642         0.387936   \n",
       "1               1    0.393207    0.423227  -0.160749         0.386230   \n",
       "2               2    0.393215    0.423485  -0.150250         0.385456   \n",
       "3               3    0.393198    0.423656  -0.157523         0.385134   \n",
       "4               4    0.393174    0.423814  -0.167579         0.385034   \n",
       "...           ...         ...         ...        ...              ...   \n",
       "41536         789  514.067867  823.728867  47.048424       446.531582   \n",
       "41537         790  513.908758  823.855057  37.498596       446.363032   \n",
       "41538         791  513.635924  824.124069  41.686356       446.389897   \n",
       "41539         792  513.319380  824.682922  37.274734       446.133456   \n",
       "41540         793  512.841132  825.528107  37.491604       446.027777   \n",
       "\n",
       "       LEFT_SHOULDER_Y  LEFT_SHOULDER_Z  RIGHT_SHOULDER_X  RIGHT_SHOULDER_Y  \\\n",
       "0             0.485447         0.097256          0.280079          0.473706   \n",
       "1             0.485303         0.175091          0.279769          0.473445   \n",
       "2             0.485172         0.185736          0.279787          0.473365   \n",
       "3             0.485154         0.178089          0.279732          0.473381   \n",
       "4             0.485031         0.171813          0.279611          0.473405   \n",
       "...                ...              ...               ...               ...   \n",
       "41536       790.610504        68.100954        504.034259        783.134232   \n",
       "41537       790.681229        62.849430        503.963234        783.756561   \n",
       "41538       791.219330        63.582843        503.727458        784.559097   \n",
       "41539       791.528778        64.661601        503.495092        785.265808   \n",
       "41540       791.887512        73.890905        503.287575        786.691742   \n",
       "\n",
       "       RIGHT_SHOULDER_Z  ...  Right_Sho_Wrist Angle  Nose_Right_Elbow  \\\n",
       "0             -0.379060  ...               1.664838          2.497794   \n",
       "1             -0.302719  ...               1.663589          2.507557   \n",
       "2             -0.293013  ...               1.664194          2.510686   \n",
       "3             -0.295993  ...               1.663929          2.511905   \n",
       "4             -0.301945  ...               1.662867          2.512940   \n",
       "...                 ...  ...                    ...               ...   \n",
       "41536       -114.340392  ...              -1.676663         -1.761567   \n",
       "41537       -121.806471  ...              -1.661155         -1.756199   \n",
       "41538       -117.911410  ...              -1.657132         -1.749919   \n",
       "41539       -121.205303  ...              -1.628947         -1.742389   \n",
       "41540       -125.545020  ...              -1.613756         -1.735263   \n",
       "\n",
       "       Left_Sho_Wrist_Angle  Nose_Left_Wrist  Nose_Left_Elbow   Class  \\\n",
       "0                  1.253485         1.380747         1.629800  Before   \n",
       "1                  1.278204         1.406325         1.649709  Before   \n",
       "2                  1.292996         1.420526         1.666095  Before   \n",
       "3                  1.298850         1.426114         1.675857  Before   \n",
       "4                  1.301431         1.428055         1.680128  Before   \n",
       "...                     ...              ...              ...     ...   \n",
       "41536             -1.903740        -2.220360        -2.439770   After   \n",
       "41537             -1.899850        -2.218322        -2.438111   After   \n",
       "41538             -1.895237        -2.214868        -2.435621   After   \n",
       "41539             -1.887328        -2.209066        -2.430917   After   \n",
       "41540             -1.880694        -2.201539        -2.424127   After   \n",
       "\n",
       "       Prediction  Unnamed: 60  Unnamed: 61  Unnamed: 62  \n",
       "0         Ametuer          NaN          NaN          NaN  \n",
       "1         Ametuer          NaN          NaN          NaN  \n",
       "2         Ametuer          NaN          NaN          NaN  \n",
       "3         Ametuer          NaN          NaN          NaN  \n",
       "4         Ametuer          NaN          NaN          NaN  \n",
       "...           ...          ...          ...          ...  \n",
       "41536     Ametuer          NaN          NaN          NaN  \n",
       "41537     Ametuer          NaN          NaN          NaN  \n",
       "41538     Ametuer          NaN          NaN          NaN  \n",
       "41539     Ametuer          NaN          NaN          NaN  \n",
       "41540     Ametuer          NaN          NaN          NaN  \n",
       "\n",
       "[41541 rows x 63 columns]"
      ]
     },
     "execution_count": 100,
     "metadata": {},
     "output_type": "execute_result"
    }
   ],
   "source": [
    "data[data.columns[:-2]]"
   ]
  },
  {
   "cell_type": "code",
   "execution_count": 122,
   "id": "31ca98cf",
   "metadata": {},
   "outputs": [],
   "source": [
    "#Train-Validation-Test split for the final model.\n",
    "\n",
    "X = data[data.columns[:-1]]\n",
    "Y = data[data.columns[-1]]\n",
    "\n",
    "encoder = LabelEncoder()\n",
    "encoder.fit(Y)\n",
    "Y = encoder.transform(Y)\n",
    "\n",
    "\n",
    "X_train, X_test, Y_train, y_test = train_test_split(X, Y, test_size=0.3)\n",
    "\n",
    "\n",
    "X_test_am = data.iloc[:101][data.columns[:-1]]\n",
    "Y_test_am = data.iloc[:101][data.columns[-1]]\n",
    "\n",
    "\n",
    "X_test_pro = data[12115:][data.columns[:-1]]\n",
    "Y_test_pro = data[12115:][data.columns[-1]]"
   ]
  },
  {
   "cell_type": "code",
   "execution_count": 121,
   "id": "ced235cb",
   "metadata": {},
   "outputs": [
    {
     "name": "stderr",
     "output_type": "stream",
     "text": [
      "<ipython-input-121-6a68a0e61d50>:3: SettingWithCopyWarning: \n",
      "A value is trying to be set on a copy of a slice from a DataFrame.\n",
      "Try using .loc[row_indexer,col_indexer] = value instead\n",
      "\n",
      "See the caveats in the documentation: https://pandas.pydata.org/pandas-docs/stable/user_guide/indexing.html#returning-a-view-versus-a-copy\n",
      "  X[\"Class\"] = encoder.transform(X[\"Class\"])\n"
     ]
    }
   ],
   "source": [
    "encoder = LabelEncoder()\n",
    "encoder.fit(X[\"Class\"])\n",
    "X[\"Class\"] = encoder.transform(X[\"Class\"])"
   ]
  },
  {
   "cell_type": "code",
   "execution_count": 206,
   "id": "3ab0b259",
   "metadata": {},
   "outputs": [
    {
     "name": "stdout",
     "output_type": "stream",
     "text": [
      "[0 0 0 0 0 0 0 0 0 0 0 0 0 0 0 0 0 0 0 0 0 0 0 0 0 0 0 0 0 0 0 0 0 0 0 0 0\n",
      " 0 0 0 0 0 0 0 0 0 0 0 0 0 0 0 0 0 0 0 0 0 0 0 0 0 0 0 0 0 0 0 0 0 0 0 0 0\n",
      " 0 0 0 0 0 0 0 0 0 0 0 0 0 0 0 0 0 0 0 0 0 0 0 0 0 0 0 0 0 0 0 0 0 0 0 0 0\n",
      " 0 0 0 0 0 0 0 0 0 0 0 0 0 0 0 0 0 0 0 0 0 0 0 0 0 0 0 0 0 0 0 0 0 0 0 0 0\n",
      " 0 0 0 0 0 0 0 0 0 0 0 0 0 0 0 0 0 0 0 0 0 0 0 0 0 0 0 0 0 0 0 0 0 0 0 0 0\n",
      " 0 0 0 0 0 0 0 0 0 0 0 0 0 0 0 0 0 0 0 0 0 0 0 0 0 0 0 0 0 0 0 0 0 0 0 0 0\n",
      " 0 0 0 0 0 0 0 0 0 0 0 0 0 0 0 0 0 0 0 0 0 0 0 0 0 0 0 0 0 0 0 0 0 0 0]\n"
     ]
    },
    {
     "ename": "ValueError",
     "evalue": "y contains previously unseen labels: 'Amatuer'",
     "output_type": "error",
     "traceback": [
      "\u001b[1;31m---------------------------------------------------------------------------\u001b[0m",
      "\u001b[1;31mKeyError\u001b[0m                                  Traceback (most recent call last)",
      "\u001b[1;32m~\\anaconda3\\lib\\site-packages\\sklearn\\preprocessing\\_label.py\u001b[0m in \u001b[0;36m_encode_python\u001b[1;34m(values, uniques, encode)\u001b[0m\n\u001b[0;32m     64\u001b[0m         \u001b[1;32mtry\u001b[0m\u001b[1;33m:\u001b[0m\u001b[1;33m\u001b[0m\u001b[1;33m\u001b[0m\u001b[0m\n\u001b[1;32m---> 65\u001b[1;33m             \u001b[0mencoded\u001b[0m \u001b[1;33m=\u001b[0m \u001b[0mnp\u001b[0m\u001b[1;33m.\u001b[0m\u001b[0marray\u001b[0m\u001b[1;33m(\u001b[0m\u001b[1;33m[\u001b[0m\u001b[0mtable\u001b[0m\u001b[1;33m[\u001b[0m\u001b[0mv\u001b[0m\u001b[1;33m]\u001b[0m \u001b[1;32mfor\u001b[0m \u001b[0mv\u001b[0m \u001b[1;32min\u001b[0m \u001b[0mvalues\u001b[0m\u001b[1;33m]\u001b[0m\u001b[1;33m)\u001b[0m\u001b[1;33m\u001b[0m\u001b[1;33m\u001b[0m\u001b[0m\n\u001b[0m\u001b[0;32m     66\u001b[0m         \u001b[1;32mexcept\u001b[0m \u001b[0mKeyError\u001b[0m \u001b[1;32mas\u001b[0m \u001b[0me\u001b[0m\u001b[1;33m:\u001b[0m\u001b[1;33m\u001b[0m\u001b[1;33m\u001b[0m\u001b[0m\n",
      "\u001b[1;32m~\\anaconda3\\lib\\site-packages\\sklearn\\preprocessing\\_label.py\u001b[0m in \u001b[0;36m<listcomp>\u001b[1;34m(.0)\u001b[0m\n\u001b[0;32m     64\u001b[0m         \u001b[1;32mtry\u001b[0m\u001b[1;33m:\u001b[0m\u001b[1;33m\u001b[0m\u001b[1;33m\u001b[0m\u001b[0m\n\u001b[1;32m---> 65\u001b[1;33m             \u001b[0mencoded\u001b[0m \u001b[1;33m=\u001b[0m \u001b[0mnp\u001b[0m\u001b[1;33m.\u001b[0m\u001b[0marray\u001b[0m\u001b[1;33m(\u001b[0m\u001b[1;33m[\u001b[0m\u001b[0mtable\u001b[0m\u001b[1;33m[\u001b[0m\u001b[0mv\u001b[0m\u001b[1;33m]\u001b[0m \u001b[1;32mfor\u001b[0m \u001b[0mv\u001b[0m \u001b[1;32min\u001b[0m \u001b[0mvalues\u001b[0m\u001b[1;33m]\u001b[0m\u001b[1;33m)\u001b[0m\u001b[1;33m\u001b[0m\u001b[1;33m\u001b[0m\u001b[0m\n\u001b[0m\u001b[0;32m     66\u001b[0m         \u001b[1;32mexcept\u001b[0m \u001b[0mKeyError\u001b[0m \u001b[1;32mas\u001b[0m \u001b[0me\u001b[0m\u001b[1;33m:\u001b[0m\u001b[1;33m\u001b[0m\u001b[1;33m\u001b[0m\u001b[0m\n",
      "\u001b[1;31mKeyError\u001b[0m: 'Amatuer'",
      "\nDuring handling of the above exception, another exception occurred:\n",
      "\u001b[1;31mValueError\u001b[0m                                Traceback (most recent call last)",
      "\u001b[1;32m<ipython-input-206-5a48d486a5ce>\u001b[0m in \u001b[0;36m<module>\u001b[1;34m\u001b[0m\n\u001b[0;32m      7\u001b[0m \u001b[1;33m\u001b[0m\u001b[0m\n\u001b[0;32m      8\u001b[0m \u001b[0mprint\u001b[0m\u001b[1;33m(\u001b[0m\u001b[0mencoder\u001b[0m\u001b[1;33m.\u001b[0m\u001b[0mtransform\u001b[0m\u001b[1;33m(\u001b[0m\u001b[0mdata\u001b[0m\u001b[1;33m[\u001b[0m\u001b[0mdata\u001b[0m\u001b[1;33m.\u001b[0m\u001b[0mcolumns\u001b[0m\u001b[1;33m[\u001b[0m\u001b[1;33m-\u001b[0m\u001b[1;36m1\u001b[0m\u001b[1;33m]\u001b[0m\u001b[1;33m]\u001b[0m\u001b[1;33m[\u001b[0m\u001b[1;36m12115\u001b[0m\u001b[1;33m:\u001b[0m\u001b[1;33m]\u001b[0m\u001b[1;33m)\u001b[0m\u001b[1;33m)\u001b[0m\u001b[1;33m\u001b[0m\u001b[1;33m\u001b[0m\u001b[0m\n\u001b[1;32m----> 9\u001b[1;33m \u001b[0mprint\u001b[0m\u001b[1;33m(\u001b[0m\u001b[0mencoder\u001b[0m\u001b[1;33m.\u001b[0m\u001b[0mtransform\u001b[0m\u001b[1;33m(\u001b[0m\u001b[0mdata\u001b[0m\u001b[1;33m[\u001b[0m\u001b[0mdata\u001b[0m\u001b[1;33m.\u001b[0m\u001b[0mcolumns\u001b[0m\u001b[1;33m[\u001b[0m\u001b[1;33m-\u001b[0m\u001b[1;36m1\u001b[0m\u001b[1;33m]\u001b[0m\u001b[1;33m]\u001b[0m\u001b[1;33m[\u001b[0m\u001b[1;33m:\u001b[0m\u001b[1;36m101\u001b[0m\u001b[1;33m]\u001b[0m\u001b[1;33m)\u001b[0m\u001b[1;33m)\u001b[0m\u001b[1;33m\u001b[0m\u001b[1;33m\u001b[0m\u001b[0m\n\u001b[0m",
      "\u001b[1;32m~\\anaconda3\\lib\\site-packages\\sklearn\\preprocessing\\_label.py\u001b[0m in \u001b[0;36mtransform\u001b[1;34m(self, y)\u001b[0m\n\u001b[0;32m    271\u001b[0m             \u001b[1;32mreturn\u001b[0m \u001b[0mnp\u001b[0m\u001b[1;33m.\u001b[0m\u001b[0marray\u001b[0m\u001b[1;33m(\u001b[0m\u001b[1;33m[\u001b[0m\u001b[1;33m]\u001b[0m\u001b[1;33m)\u001b[0m\u001b[1;33m\u001b[0m\u001b[1;33m\u001b[0m\u001b[0m\n\u001b[0;32m    272\u001b[0m \u001b[1;33m\u001b[0m\u001b[0m\n\u001b[1;32m--> 273\u001b[1;33m         \u001b[0m_\u001b[0m\u001b[1;33m,\u001b[0m \u001b[0my\u001b[0m \u001b[1;33m=\u001b[0m \u001b[0m_encode\u001b[0m\u001b[1;33m(\u001b[0m\u001b[0my\u001b[0m\u001b[1;33m,\u001b[0m \u001b[0muniques\u001b[0m\u001b[1;33m=\u001b[0m\u001b[0mself\u001b[0m\u001b[1;33m.\u001b[0m\u001b[0mclasses_\u001b[0m\u001b[1;33m,\u001b[0m \u001b[0mencode\u001b[0m\u001b[1;33m=\u001b[0m\u001b[1;32mTrue\u001b[0m\u001b[1;33m)\u001b[0m\u001b[1;33m\u001b[0m\u001b[1;33m\u001b[0m\u001b[0m\n\u001b[0m\u001b[0;32m    274\u001b[0m         \u001b[1;32mreturn\u001b[0m \u001b[0my\u001b[0m\u001b[1;33m\u001b[0m\u001b[1;33m\u001b[0m\u001b[0m\n\u001b[0;32m    275\u001b[0m \u001b[1;33m\u001b[0m\u001b[0m\n",
      "\u001b[1;32m~\\anaconda3\\lib\\site-packages\\sklearn\\preprocessing\\_label.py\u001b[0m in \u001b[0;36m_encode\u001b[1;34m(values, uniques, encode, check_unknown)\u001b[0m\n\u001b[0;32m    110\u001b[0m     \u001b[1;32mif\u001b[0m \u001b[0mvalues\u001b[0m\u001b[1;33m.\u001b[0m\u001b[0mdtype\u001b[0m \u001b[1;33m==\u001b[0m \u001b[0mobject\u001b[0m\u001b[1;33m:\u001b[0m\u001b[1;33m\u001b[0m\u001b[1;33m\u001b[0m\u001b[0m\n\u001b[0;32m    111\u001b[0m         \u001b[1;32mtry\u001b[0m\u001b[1;33m:\u001b[0m\u001b[1;33m\u001b[0m\u001b[1;33m\u001b[0m\u001b[0m\n\u001b[1;32m--> 112\u001b[1;33m             \u001b[0mres\u001b[0m \u001b[1;33m=\u001b[0m \u001b[0m_encode_python\u001b[0m\u001b[1;33m(\u001b[0m\u001b[0mvalues\u001b[0m\u001b[1;33m,\u001b[0m \u001b[0muniques\u001b[0m\u001b[1;33m,\u001b[0m \u001b[0mencode\u001b[0m\u001b[1;33m)\u001b[0m\u001b[1;33m\u001b[0m\u001b[1;33m\u001b[0m\u001b[0m\n\u001b[0m\u001b[0;32m    113\u001b[0m         \u001b[1;32mexcept\u001b[0m \u001b[0mTypeError\u001b[0m\u001b[1;33m:\u001b[0m\u001b[1;33m\u001b[0m\u001b[1;33m\u001b[0m\u001b[0m\n\u001b[0;32m    114\u001b[0m             \u001b[1;32mraise\u001b[0m \u001b[0mTypeError\u001b[0m\u001b[1;33m(\u001b[0m\u001b[1;34m\"argument must be a string or number\"\u001b[0m\u001b[1;33m)\u001b[0m\u001b[1;33m\u001b[0m\u001b[1;33m\u001b[0m\u001b[0m\n",
      "\u001b[1;32m~\\anaconda3\\lib\\site-packages\\sklearn\\preprocessing\\_label.py\u001b[0m in \u001b[0;36m_encode_python\u001b[1;34m(values, uniques, encode)\u001b[0m\n\u001b[0;32m     65\u001b[0m             \u001b[0mencoded\u001b[0m \u001b[1;33m=\u001b[0m \u001b[0mnp\u001b[0m\u001b[1;33m.\u001b[0m\u001b[0marray\u001b[0m\u001b[1;33m(\u001b[0m\u001b[1;33m[\u001b[0m\u001b[0mtable\u001b[0m\u001b[1;33m[\u001b[0m\u001b[0mv\u001b[0m\u001b[1;33m]\u001b[0m \u001b[1;32mfor\u001b[0m \u001b[0mv\u001b[0m \u001b[1;32min\u001b[0m \u001b[0mvalues\u001b[0m\u001b[1;33m]\u001b[0m\u001b[1;33m)\u001b[0m\u001b[1;33m\u001b[0m\u001b[1;33m\u001b[0m\u001b[0m\n\u001b[0;32m     66\u001b[0m         \u001b[1;32mexcept\u001b[0m \u001b[0mKeyError\u001b[0m \u001b[1;32mas\u001b[0m \u001b[0me\u001b[0m\u001b[1;33m:\u001b[0m\u001b[1;33m\u001b[0m\u001b[1;33m\u001b[0m\u001b[0m\n\u001b[1;32m---> 67\u001b[1;33m             raise ValueError(\"y contains previously unseen labels: %s\"\n\u001b[0m\u001b[0;32m     68\u001b[0m                              % str(e))\n\u001b[0;32m     69\u001b[0m         \u001b[1;32mreturn\u001b[0m \u001b[0muniques\u001b[0m\u001b[1;33m,\u001b[0m \u001b[0mencoded\u001b[0m\u001b[1;33m\u001b[0m\u001b[1;33m\u001b[0m\u001b[0m\n",
      "\u001b[1;31mValueError\u001b[0m: y contains previously unseen labels: 'Amatuer'"
     ]
    }
   ],
   "source": [
    "encoder = LabelEncoder()\n",
    "\n",
    "encoder.fit(data[data.columns[-1]][:101])\n",
    "\n",
    "encoder.fit(data[data.columns[-1]][12115:])\n",
    "\n",
    "\n",
    "print(encoder.transform(data[data.columns[-1]][12115:]))\n",
    "print(encoder.transform(data[data.columns[-1]][:101]))"
   ]
  },
  {
   "cell_type": "code",
   "execution_count": 145,
   "id": "4d768a1f",
   "metadata": {},
   "outputs": [],
   "source": [
    "X_train = np.array(X_train).astype(np.float32)\n",
    "Y_train = np.array(Y_train).astype(np.float32)\n",
    "X_test = np.array(X_test).astype(np.float32)\n",
    "y_test = np.array(y_test).astype(np.float32)"
   ]
  },
  {
   "cell_type": "code",
   "execution_count": 144,
   "id": "ddb3cfef",
   "metadata": {},
   "outputs": [
    {
     "data": {
      "text/plain": [
       "17405    3\n",
       "11396    1\n",
       "18518    0\n",
       "29545    1\n",
       "25799    1\n",
       "        ..\n",
       "37287    0\n",
       "25515    2\n",
       "22044    0\n",
       "37724    0\n",
       "34656    0\n",
       "Name: Class, Length: 12463, dtype: int32"
      ]
     },
     "execution_count": 144,
     "metadata": {},
     "output_type": "execute_result"
    }
   ],
   "source": [
    "X_test[\"Class\"]"
   ]
  },
  {
   "cell_type": "code",
   "execution_count": 163,
   "id": "6a99a9a7",
   "metadata": {
    "scrolled": true
   },
   "outputs": [],
   "source": [
    "#Architeture of a simple LSTM model for binary classification\n",
    "X_train, X_test, Y_train, y_test = train_test_split(X, Y, test_size=0.3,random_state=None)\n",
    "\n",
    "X_train = X_train.to_numpy()\n",
    "X_test = X_test.to_numpy()\n",
    "\n",
    "X_train = np.reshape(X_train,  (X_train.shape[0], 1, 12))\n",
    "X_test = np.reshape(X_test, (X_test.shape[0], 1, 12))\n",
    "\n",
    "\n",
    "model = Sequential()\n",
    "model.add(LSTM(6, activation='relu', input_shape=(1,12)))\n",
    "model.add(Dense(1, activation='sigmoid'))\n",
    "model.compile(optimizer='adam', loss='binary_crossentropy', metrics=['accuracy'])"
   ]
  },
  {
   "cell_type": "code",
   "execution_count": 148,
   "id": "5b9180ff",
   "metadata": {},
   "outputs": [
    {
     "name": "stdout",
     "output_type": "stream",
     "text": [
      "(29078, 12)\n"
     ]
    }
   ],
   "source": [
    "print(X_train.shape)"
   ]
  },
  {
   "cell_type": "code",
   "execution_count": 164,
   "id": "6d3dd10d",
   "metadata": {
    "scrolled": true
   },
   "outputs": [
    {
     "name": "stdout",
     "output_type": "stream",
     "text": [
      "Epoch 1/30\n",
      "5816/5816 [==============================] - 19s 3ms/step - loss: 0.3288 - accuracy: 0.8946 - val_loss: 0.2717 - val_accuracy: 0.8995: 0.3\n",
      "Epoch 2/30\n",
      "5816/5816 [==============================] - 14s 2ms/step - loss: 0.2666 - accuracy: 0.8975 - val_loss: 0.2517 - val_accuracy: 0.8998\n",
      "Epoch 3/30\n",
      "5816/5816 [==============================] - 14s 2ms/step - loss: 0.2540 - accuracy: 0.8975 - val_loss: 0.2438 - val_accuracy: 0.9001\n",
      "Epoch 4/30\n",
      "5816/5816 [==============================] - 14s 2ms/step - loss: 0.2493 - accuracy: 0.8976 - val_loss: 0.2368 - val_accuracy: 0.9001ETA - ETA: 2s - loss: 0.2504  - ETA: 2s - loss: 0.2496 - accuracy: 0.89 - ETA: 1s - loss: 0.2501 - accuracy:  - ETA: 1s - loss: 0.2500 - ac - ETA: 0s - los\n",
      "Epoch 5/30\n",
      "5816/5816 [==============================] - 14s 2ms/step - loss: 0.2517 - accuracy: 0.8976 - val_loss: 0.2465 - val_accuracy: 0.9001\n",
      "Epoch 6/30\n",
      "5816/5816 [==============================] - 14s 2ms/step - loss: 0.2472 - accuracy: 0.8976 - val_loss: 0.2429 - val_accuracy: 0.9001\n",
      "Epoch 7/30\n",
      "5816/5816 [==============================] - 14s 2ms/step - loss: 0.2421 - accuracy: 0.8976 - val_loss: 0.2328 - val_accuracy: 0.9001s - los - E - ETA: \n",
      "Epoch 8/30\n",
      "5816/5816 [==============================] - 14s 2ms/step - loss: 0.2442 - accuracy: 0.8976 - val_loss: 0.2252 - val_accuracy: 0.9001- loss: 0.244 - ETA:  - ETA: 0s - loss: 0.2458 -  - ETA: 0s - loss: 0.2449 - accuracy\n",
      "Epoch 9/30\n",
      "5816/5816 [==============================] - 14s 2ms/step - loss: 0.2377 - accuracy: 0.8976 - val_loss: 0.2337 - val_accuracy: 0.9001\n",
      "Epoch 10/30\n",
      "5816/5816 [==============================] - 14s 2ms/step - loss: 0.2330 - accuracy: 0.8976 - val_loss: 0.2234 - val_accuracy: 0.9001\n",
      "Epoch 11/30\n",
      "5816/5816 [==============================] - 14s 2ms/step - loss: 0.2299 - accuracy: 0.8976 - val_loss: 0.2188 - val_accuracy: 0.9001\n",
      "Epoch 12/30\n",
      "5816/5816 [==============================] - 14s 2ms/step - loss: 0.2234 - accuracy: 0.8976 - val_loss: 0.2156 - val_accuracy: 0.9001\n",
      "Epoch 13/30\n",
      "5816/5816 [==============================] - 14s 2ms/step - loss: 0.2230 - accuracy: 0.8976 - val_loss: 0.2343 - val_accuracy: 0.9001\n",
      "Epoch 14/30\n",
      "5816/5816 [==============================] - 14s 2ms/step - loss: 0.2233 - accuracy: 0.8976 - val_loss: 0.2195 - val_accuracy: 0.9001\n",
      "Epoch 15/30\n",
      "5816/5816 [==============================] - 14s 2ms/step - loss: 0.2213 - accuracy: 0.8976 - val_loss: 0.2313 - val_accuracy: 0.9001\n",
      "Epoch 16/30\n",
      "5816/5816 [==============================] - 14s 2ms/step - loss: 0.2195 - accuracy: 0.8976 - val_loss: 0.2154 - val_accuracy: 0.9001acy: 0.89 - ETA: 3s - loss: 0.2210 - accuracy - ETA: 2s - loss: 0.2210 - accura - ETA:  - ETA: 1s - l\n",
      "Epoch 17/30\n",
      "5816/5816 [==============================] - 14s 2ms/step - loss: 0.2176 - accuracy: 0.8976 - val_loss: 0.2124 - val_accuracy: 0.9001\n",
      "Epoch 18/30\n",
      "5816/5816 [==============================] - 14s 2ms/step - loss: 0.2181 - accuracy: 0.8976 - val_loss: 0.2108 - val_accuracy: 0.9001\n",
      "Epoch 19/30\n",
      "5816/5816 [==============================] - 15s 3ms/step - loss: 0.2160 - accuracy: 0.8976 - val_loss: 0.2175 - val_accuracy: 0.9001\n",
      "Epoch 20/30\n",
      "5816/5816 [==============================] - 14s 2ms/step - loss: 0.2156 - accuracy: 0.8976 - val_loss: 0.2159 - val_accuracy: 0.9001\n",
      "Epoch 21/30\n",
      "5816/5816 [==============================] - 14s 2ms/step - loss: 0.2129 - accuracy: 0.8976 - val_loss: 0.2100 - val_accuracy: 0.9001\n",
      "Epoch 22/30\n",
      "5816/5816 [==============================] - 15s 3ms/step - loss: 0.2123 - accuracy: 0.8976 - val_loss: 0.2148 - val_accuracy: 0.9001 10s - loss: 0.2153 - accuracy: - ETA: 10s - loss: 0.2214 - accuracy: 0.891 - ETA: 10s - loss:\n",
      "Epoch 23/30\n",
      "5816/5816 [==============================] - 14s 2ms/step - loss: 0.2128 - accuracy: 0.8976 - val_loss: 0.2088 - val_accuracy: 0.9001\n",
      "Epoch 24/30\n",
      "5816/5816 [==============================] - 14s 2ms/step - loss: 0.2112 - accuracy: 0.8976 - val_loss: 0.2092 - val_accuracy: 0.9001\n",
      "Epoch 25/30\n",
      "5816/5816 [==============================] - 14s 2ms/step - loss: 0.2099 - accuracy: 0.8976 - val_loss: 0.2059 - val_accuracy: 0.9001acy - ETA: 2s - l - ETA: 2s - loss: 0.2088 - accura - ETA: 1s - - ETA: 1s - loss: 0.2090 - accuracy - ETA: 0s - loss: 0.2094 - accuracy:  - ETA: 0s - loss: 0.2093 - accuracy: 0. - ETA: 0s - loss: 0\n",
      "Epoch 26/30\n",
      "5816/5816 [==============================] - 14s 2ms/step - loss: 0.2107 - accuracy: 0.8976 - val_loss: 0.2079 - val_accuracy: 0.9001\n",
      "Epoch 27/30\n",
      "5816/5816 [==============================] - 14s 2ms/step - loss: 0.2092 - accuracy: 0.8976 - val_loss: 0.2041 - val_accuracy: 0.9001\n",
      "Epoch 28/30\n",
      "5816/5816 [==============================] - 14s 2ms/step - loss: 0.2083 - accuracy: 0.8976 - val_loss: 0.2068 - val_accuracy: 0.9001oss: 0.1943  - ETA: 9s - loss: 0.2 - ETA: 3s - loss: 0.2064 - accuracy: 0. - ETA: 3s - loss: 0.2069 - accuracy: 0.89 - ETA: 3s - - ETA: 0s - loss: 0.2082 - accura - ETA: 0s - loss: 0.2082 - accuracy\n",
      "Epoch 29/30\n",
      "5816/5816 [==============================] - 14s 2ms/step - loss: 0.2080 - accuracy: 0.8976 - val_loss: 0.2435 - val_accuracy: 0.9001los - ETA: 0s - loss:\n",
      "Epoch 30/30\n",
      "5816/5816 [==============================] - 14s 2ms/step - loss: 0.2078 - accuracy: 0.8976 - val_loss: 0.2016 - val_accuracy: 0.900111s - loss: 0.2074 - accur - ETA: 10s  - ETA: 0s - loss:\n"
     ]
    }
   ],
   "source": [
    "lstm = model.fit(X_train,Y_train, batch_size=5, epochs=30,validation_data=(X_test, y_test))"
   ]
  },
  {
   "cell_type": "code",
   "execution_count": 165,
   "id": "1f5e89e1",
   "metadata": {},
   "outputs": [
    {
     "name": "stdout",
     "output_type": "stream",
     "text": [
      "INFO:tensorflow:Assets written to: C:\\Users\\ASUS\\OneDrive\\Documents\\Academics\\Summer Semester\\Dissertation\\Models\\LSTM\\new_lstm\\\\assets\n"
     ]
    },
    {
     "name": "stderr",
     "output_type": "stream",
     "text": [
      "WARNING:absl:<keras.layers.recurrent.LSTMCell object at 0x000002D6C522EB20> has the same name 'LSTMCell' as a built-in Keras object. Consider renaming <class 'keras.layers.recurrent.LSTMCell'> to avoid naming conflicts when loading with `tf.keras.models.load_model`. If renaming is not possible, pass the object in the `custom_objects` parameter of the load function.\n"
     ]
    }
   ],
   "source": [
    "lstm.model.save(r\"C:\\Users\\ASUS\\OneDrive\\Documents\\Academics\\Summer Semester\\Dissertation\\Models\\LSTM\\new_lstm\\\\\")"
   ]
  },
  {
   "cell_type": "code",
   "execution_count": 180,
   "id": "39c348c5",
   "metadata": {},
   "outputs": [
    {
     "name": "stdout",
     "output_type": "stream",
     "text": [
      "Model: \"sequential\"\n",
      "_________________________________________________________________\n",
      " Layer (type)                Output Shape              Param #   \n",
      "=================================================================\n",
      " lstm (LSTM)                 (None, 5)                 140       \n",
      "                                                                 \n",
      " dense (Dense)               (None, 1)                 6         \n",
      "                                                                 \n",
      "=================================================================\n",
      "Total params: 146\n",
      "Trainable params: 146\n",
      "Non-trainable params: 0\n",
      "_________________________________________________________________\n"
     ]
    }
   ],
   "source": [
    "lstm.model.summary()"
   ]
  },
  {
   "cell_type": "code",
   "execution_count": 174,
   "id": "dd792896",
   "metadata": {},
   "outputs": [
    {
     "name": "stdout",
     "output_type": "stream",
     "text": [
      "Model: \"sequential_6\"\n",
      "_________________________________________________________________\n",
      " Layer (type)                Output Shape              Param #   \n",
      "=================================================================\n",
      " lstm_6 (LSTM)               (None, 5)                 140       \n",
      "                                                                 \n",
      " dense_6 (Dense)             (None, 1)                 6         \n",
      "                                                                 \n",
      "=================================================================\n",
      "Total params: 146\n",
      "Trainable params: 146\n",
      "Non-trainable params: 0\n",
      "_________________________________________________________________\n"
     ]
    }
   ],
   "source": [
    "loss_graph()"
   ]
  },
  {
   "cell_type": "code",
   "execution_count": 138,
   "id": "06946503",
   "metadata": {},
   "outputs": [
    {
     "name": "stderr",
     "output_type": "stream",
     "text": [
      "C:\\Users\\ASUS\\anaconda3\\lib\\site-packages\\sklearn\\metrics\\_classification.py:1272: UndefinedMetricWarning: Precision and F-score are ill-defined and being set to 0.0 in labels with no predicted samples. Use `zero_division` parameter to control this behavior.\n",
      "  _warn_prf(average, modifier, msg_start, len(result))\n",
      "C:\\Users\\ASUS\\anaconda3\\lib\\site-packages\\sklearn\\metrics\\_classification.py:1272: UndefinedMetricWarning: Recall and F-score are ill-defined and being set to 0.0 in labels with no true samples. Use `zero_division` parameter to control this behavior.\n",
      "  _warn_prf(average, modifier, msg_start, len(result))\n"
     ]
    },
    {
     "data": {
      "text/plain": [
       "(0.0,\n",
       " array([[  0, 257],\n",
       "        [  0,   0]], dtype=int64),\n",
       " '              precision    recall  f1-score   support\\n\\n         0.0       0.00      0.00      0.00     257.0\\n         1.0       0.00      0.00      0.00       0.0\\n\\n    accuracy                           0.00     257.0\\n   macro avg       0.00      0.00      0.00     257.0\\nweighted avg       0.00      0.00      0.00     257.0\\n')"
      ]
     },
     "execution_count": 138,
     "metadata": {},
     "output_type": "execute_result"
    }
   ],
   "source": [
    "model_perfomance(Y_test_pro,np.round(new_lstm.predict(X_test_pro)))"
   ]
  },
  {
   "cell_type": "code",
   "execution_count": 54,
   "id": "4f2a0a85",
   "metadata": {},
   "outputs": [],
   "source": [
    "y_pred = np.round(lstm.predict(X_test))"
   ]
  },
  {
   "cell_type": "code",
   "execution_count": 190,
   "id": "5c61b015",
   "metadata": {},
   "outputs": [
    {
     "data": {
      "image/png": "[encoded data removed]",
      "text/plain": [
       "<Figure size 432x288 with 1 Axes>"
      ]
     },
     "metadata": {
      "needs_background": "light"
     },
     "output_type": "display_data"
    }
   ],
   "source": [
    "train_loss = lstm.history['loss']\n",
    "val_loss = lstm.history['val_loss']\n",
    "loss_graph(train_loss,val_loss)"
   ]
  },
  {
   "cell_type": "code",
   "execution_count": 191,
   "id": "e9167536",
   "metadata": {},
   "outputs": [
    {
     "ename": "TypeError",
     "evalue": "'History' object is not subscriptable",
     "output_type": "error",
     "traceback": [
      "\u001b[1;31m---------------------------------------------------------------------------\u001b[0m",
      "\u001b[1;31mTypeError\u001b[0m                                 Traceback (most recent call last)",
      "\u001b[1;32m<ipython-input-191-eacbd1198866>\u001b[0m in \u001b[0;36m<module>\u001b[1;34m\u001b[0m\n\u001b[1;32m----> 1\u001b[1;33m \u001b[0mtrain_loss\u001b[0m \u001b[1;33m=\u001b[0m \u001b[0mker_model\u001b[0m\u001b[1;33m.\u001b[0m\u001b[0mhistory\u001b[0m\u001b[1;33m[\u001b[0m\u001b[1;34m'loss'\u001b[0m\u001b[1;33m]\u001b[0m\u001b[1;33m\u001b[0m\u001b[1;33m\u001b[0m\u001b[0m\n\u001b[0m\u001b[0;32m      2\u001b[0m \u001b[0mval_loss\u001b[0m \u001b[1;33m=\u001b[0m \u001b[0mker_model\u001b[0m\u001b[1;33m.\u001b[0m\u001b[0mhistory\u001b[0m\u001b[1;33m[\u001b[0m\u001b[1;34m'val_loss'\u001b[0m\u001b[1;33m]\u001b[0m\u001b[1;33m\u001b[0m\u001b[1;33m\u001b[0m\u001b[0m\n\u001b[0;32m      3\u001b[0m \u001b[0mloss_graph\u001b[0m\u001b[1;33m(\u001b[0m\u001b[0mtrain_loss\u001b[0m\u001b[1;33m,\u001b[0m\u001b[0mval_loss\u001b[0m\u001b[1;33m)\u001b[0m\u001b[1;33m\u001b[0m\u001b[1;33m\u001b[0m\u001b[0m\n",
      "\u001b[1;31mTypeError\u001b[0m: 'History' object is not subscriptable"
     ]
    }
   ],
   "source": [
    "train_loss = ker_model.history['loss']\n",
    "val_loss = ker_model.history['val_loss']\n",
    "loss_graph(train_loss,val_loss)"
   ]
  },
  {
   "cell_type": "code",
   "execution_count": 55,
   "id": "137de3d1",
   "metadata": {},
   "outputs": [
    {
     "ename": "NameError",
     "evalue": "name 'model_perfomance' is not defined",
     "output_type": "error",
     "traceback": [
      "\u001b[1;31m---------------------------------------------------------------------------\u001b[0m",
      "\u001b[1;31mNameError\u001b[0m                                 Traceback (most recent call last)",
      "\u001b[1;32m<ipython-input-55-5dd7bbafca8e>\u001b[0m in \u001b[0;36m<module>\u001b[1;34m\u001b[0m\n\u001b[1;32m----> 1\u001b[1;33m \u001b[0mlstm_acc\u001b[0m\u001b[1;33m,\u001b[0m\u001b[0mlstm_cm\u001b[0m\u001b[1;33m,\u001b[0m\u001b[0mlstm_class\u001b[0m \u001b[1;33m=\u001b[0m \u001b[0mmodel_perfomance\u001b[0m\u001b[1;33m(\u001b[0m\u001b[0my_pred\u001b[0m\u001b[1;33m,\u001b[0m\u001b[0mX_test\u001b[0m\u001b[1;33m)\u001b[0m\u001b[1;33m\u001b[0m\u001b[1;33m\u001b[0m\u001b[0m\n\u001b[0m",
      "\u001b[1;31mNameError\u001b[0m: name 'model_perfomance' is not defined"
     ]
    }
   ],
   "source": [
    "lstm_acc,lstm_cm,lstm_class = model_perfomance(y_pred,X_test)"
   ]
  },
  {
   "cell_type": "code",
   "execution_count": null,
   "id": "661966d9",
   "metadata": {},
   "outputs": [],
   "source": [
    "#Drawing training and validation loss graph\n",
    "\n",
    "plt.plot(lstm.history['loss'])\n",
    "plt.plot(lstm.history['val_loss'])\n",
    "plt.title('model train vs validation loss')\n",
    "plt.ylabel('loss')\n",
    "plt.xlabel('epoch')\n",
    "plt.legend(['train', 'validation'], loc='upper right')\n",
    "plt.show()"
   ]
  },
  {
   "cell_type": "markdown",
   "id": "d48a50ce",
   "metadata": {},
   "source": [
    "*KERAS MODEL*"
   ]
  },
  {
   "cell_type": "markdown",
   "id": "107aba4f",
   "metadata": {},
   "source": [
    "*GRID SEARCH CV FOR KERAS*"
   ]
  },
  {
   "cell_type": "code",
   "execution_count": 97,
   "id": "239d91ba",
   "metadata": {},
   "outputs": [
    {
     "name": "stderr",
     "output_type": "stream",
     "text": [
      "<ipython-input-97-286893264bb9>:20: DeprecationWarning: KerasClassifier is deprecated, use Sci-Keras (https://github.com/adriangb/scikeras) instead.\n",
      "  model = KerasClassifier(build_fn=build_model, verbose=0)\n"
     ]
    },
    {
     "name": "stdout",
     "output_type": "stream",
     "text": [
      "Fitting 5 folds for each of 432 candidates, totalling 2160 fits\n"
     ]
    },
    {
     "name": "stderr",
     "output_type": "stream",
     "text": [
      "[Parallel(n_jobs=1)]: Using backend SequentialBackend with 1 concurrent workers.\n",
      "[Parallel(n_jobs=1)]: Done 2160 out of 2160 | elapsed: 63.8min finished\n"
     ]
    },
    {
     "name": "stdout",
     "output_type": "stream",
     "text": [
      "Best: 0.934533 using {'activation': 'relu', 'batch_size': 5, 'dropout_rate': 0.0, 'hidden_units': 32, 'num_layers': 3}\n"
     ]
    }
   ],
   "source": [
    "from sklearn.model_selection import GridSearchCV\n",
    "from sklearn.model_selection import StratifiedKFold\n",
    "from keras.wrappers.scikit_learn import KerasClassifier\n",
    "from keras.models import Sequential\n",
    "\n",
    "# Define a function to build your Keras model\n",
    "def build_model(hidden_units=8, activation='relu', dropout_rate=0.0, num_layers=1):\n",
    "    model = Sequential()\n",
    "    model.add(Dense(hidden_units, input_dim=X_train.shape[1], activation=activation))\n",
    "    \n",
    "    \n",
    "    model.add(Dropout(dropout_rate))  # Adding a dropout layer\n",
    "    \n",
    "    model.add(Dense(1, activation='sigmoid'))\n",
    "    model.compile(loss='binary_crossentropy', optimizer='adam', metrics=['accuracy'])\n",
    "    return model\n",
    "\n",
    "# Create a KerasClassifier with the build_model function\n",
    "model = KerasClassifier(build_fn=build_model, verbose=0)\n",
    "\n",
    "# Define parameter grid for GridSearch\n",
    "param_grid = {\n",
    "    'hidden_units': [5,6,8,32],\n",
    "    'batch_size' : [5,10,20,25],\n",
    "    'dropout_rate': [0.0, 0.2, 0.4],\n",
    "    'activation' : ['tanh','relu','sigmoid'],\n",
    "    'num_layers': [1, 2, 3]\n",
    "}\n",
    "\n",
    "# Perform GridSearchCV\n",
    "kfold = StratifiedKFold(n_splits=5, shuffle=True)\n",
    "grid_search = GridSearchCV(estimator=model, param_grid=param_grid, scoring='roc_auc', cv=kfold, verbose=1)\n",
    "grid_out = grid_search.fit(X_train, Y_train)\n",
    "\n",
    "print(\"Best: %f using %s\" % (grid_out.best_score_, grid_out.best_params_))"
   ]
  },
  {
   "cell_type": "code",
   "execution_count": null,
   "id": "db1f0194",
   "metadata": {},
   "outputs": [],
   "source": [
    "keras_model = estimator.fit(X_train,y_train)"
   ]
  },
  {
   "cell_type": "code",
   "execution_count": null,
   "id": "f8b594d6",
   "metadata": {},
   "outputs": [],
   "source": [
    "y_pred = estimator.predict(X_test)"
   ]
  },
  {
   "cell_type": "code",
   "execution_count": null,
   "id": "328b076c",
   "metadata": {},
   "outputs": [],
   "source": [
    "keras_acc,keras_cm,keras_class = model_perfomance(y_test,y_pred)"
   ]
  },
  {
   "cell_type": "code",
   "execution_count": null,
   "id": "6ede87a4",
   "metadata": {},
   "outputs": [],
   "source": [
    "keras_model.save(r'C:\\Users\\ASUS\\OneDrive\\Documents\\Academics\\Summer Semester\\Dissertation\\Models\\Keras\\Keras_17_8.keras')  # The file needs to end with the .keras extension"
   ]
  },
  {
   "cell_type": "code",
   "execution_count": 5,
   "id": "c68dd9e2",
   "metadata": {},
   "outputs": [
    {
     "name": "stdout",
     "output_type": "stream",
     "text": [
      "WARNING:tensorflow:Error in loading the saved optimizer state. As a result, your model is starting with a freshly initialized optimizer.\n"
     ]
    }
   ],
   "source": [
    "ker_model = keras.models.load_model(r\"C:\\Users\\ASUS\\OneDrive\\Documents\\Academics\\Summer Semester\\Dissertation\\Models\\Keras\\Keras_17_8.keras\")"
   ]
  },
  {
   "cell_type": "code",
   "execution_count": 46,
   "id": "250e7471",
   "metadata": {},
   "outputs": [],
   "source": [
    "#model_perfomance(y_test,np.round(ker_model.predict(X_test)))\n",
    "predict_prob = np.round(ker_model.predict(X_test_pro))"
   ]
  },
  {
   "cell_type": "code",
   "execution_count": 30,
   "id": "5babed91",
   "metadata": {},
   "outputs": [],
   "source": [
    "x_tocheck = X[103:358]\n",
    "y_tocheck = Y[103:358]\n"
   ]
  },
  {
   "cell_type": "code",
   "execution_count": 4,
   "id": "f8e0294b",
   "metadata": {},
   "outputs": [
    {
     "ename": "NameError",
     "evalue": "name 'model_perfomance' is not defined",
     "output_type": "error",
     "traceback": [
      "\u001b[1;31m---------------------------------------------------------------------------\u001b[0m",
      "\u001b[1;31mNameError\u001b[0m                                 Traceback (most recent call last)",
      "\u001b[1;32m<ipython-input-4-09d68781c6b1>\u001b[0m in \u001b[0;36m<module>\u001b[1;34m\u001b[0m\n\u001b[1;32m----> 1\u001b[1;33m \u001b[0mmodel_perfomance\u001b[0m\u001b[1;33m(\u001b[0m\u001b[0mY_test_am\u001b[0m\u001b[1;33m,\u001b[0m\u001b[0mpredict_prob\u001b[0m\u001b[1;33m)\u001b[0m\u001b[1;33m\u001b[0m\u001b[1;33m\u001b[0m\u001b[0m\n\u001b[0m",
      "\u001b[1;31mNameError\u001b[0m: name 'model_perfomance' is not defined"
     ]
    }
   ],
   "source": [
    "model_perfomance(Y_test_am,predict_prob)"
   ]
  },
  {
   "cell_type": "code",
   "execution_count": null,
   "id": "0d18b7fc",
   "metadata": {},
   "outputs": [],
   "source": [
    "train_loss = lstm.history[\"tra\"]\n",
    "\n",
    "loss_graph(train_loss,val_loss)"
   ]
  },
  {
   "cell_type": "code",
   "execution_count": 115,
   "id": "f54bccc9",
   "metadata": {},
   "outputs": [
    {
     "data": {
      "image/png": "[encoded data removed]",
      "text/plain": [
       "<Figure size 432x288 with 1 Axes>"
      ]
     },
     "metadata": {
      "needs_background": "light"
     },
     "output_type": "display_data"
    }
   ],
   "source": [
    "import matplotlib.pyplot as plt\n",
    "\n",
    "\n",
    "fpr, tpr, thresholds = roc_curve(y_test, y_pred_proba)\n",
    "auc = roc_auc_score(y_test, y_pred_proba)\n",
    "\n",
    "plt.plot(fpr, tpr, label=f'AUC = {auc:.2f}')\n",
    "plt.xlabel('False Positive Rate')\n",
    "plt.ylabel('True Positive Rate')\n",
    "plt.title('Receiver Operating Characteristic (ROC) Curve')\n",
    "plt.legend()\n",
    "plt.show()"
   ]
  },
  {
   "cell_type": "code",
   "execution_count": 6,
   "id": "91ae3643",
   "metadata": {},
   "outputs": [],
   "source": [
    "lstm_model = load_model(r\"C:\\Users\\ASUS\\OneDrive\\Documents\\Academics\\Summer Semester\\Dissertation\\Models\\LSTM\\old_lstm\\\\\")"
   ]
  },
  {
   "cell_type": "code",
   "execution_count": 12,
   "id": "cc3f5e1b",
   "metadata": {},
   "outputs": [],
   "source": [
    "new_lstm = load_model(r\"C:\\Users\\ASUS\\OneDrive\\Documents\\Academics\\Summer Semester\\Dissertation\\Models\\LSTM\\\\\")"
   ]
  },
  {
   "cell_type": "code",
   "execution_count": 32,
   "id": "27adf50c",
   "metadata": {},
   "outputs": [],
   "source": [
    "out = ker_model.predict(X_test_pro)"
   ]
  },
  {
   "cell_type": "markdown",
   "id": "2c803b41",
   "metadata": {},
   "source": []
  },
  {
   "cell_type": "code",
   "execution_count": 30,
   "id": "c4132312",
   "metadata": {},
   "outputs": [
    {
     "ename": "ValueError",
     "evalue": "Found input variables with inconsistent numbers of samples: [101, 257]",
     "output_type": "error",
     "traceback": [
      "\u001b[1;31m---------------------------------------------------------------------------\u001b[0m",
      "\u001b[1;31mValueError\u001b[0m                                Traceback (most recent call last)",
      "\u001b[1;32m<ipython-input-30-e0ea58d5482a>\u001b[0m in \u001b[0;36m<module>\u001b[1;34m\u001b[0m\n\u001b[1;32m----> 1\u001b[1;33m \u001b[0mout\u001b[0m \u001b[1;33m=\u001b[0m \u001b[0mmodel_perfomance\u001b[0m\u001b[1;33m(\u001b[0m\u001b[0mY_test_am\u001b[0m\u001b[1;33m,\u001b[0m\u001b[0mnp\u001b[0m\u001b[1;33m.\u001b[0m\u001b[0mround\u001b[0m\u001b[1;33m(\u001b[0m\u001b[0mnew_lstm\u001b[0m\u001b[1;33m.\u001b[0m\u001b[0mpredict\u001b[0m\u001b[1;33m(\u001b[0m\u001b[0mX_test_pro\u001b[0m\u001b[1;33m)\u001b[0m\u001b[1;33m)\u001b[0m\u001b[1;33m)\u001b[0m\u001b[1;33m\u001b[0m\u001b[1;33m\u001b[0m\u001b[0m\n\u001b[0m",
      "\u001b[1;32m<ipython-input-8-b8b00e8e62ed>\u001b[0m in \u001b[0;36mmodel_perfomance\u001b[1;34m(test, prediction)\u001b[0m\n\u001b[0;32m      2\u001b[0m \u001b[1;33m\u001b[0m\u001b[0m\n\u001b[0;32m      3\u001b[0m \u001b[1;32mdef\u001b[0m \u001b[0mmodel_perfomance\u001b[0m\u001b[1;33m(\u001b[0m\u001b[0mtest\u001b[0m\u001b[1;33m,\u001b[0m\u001b[0mprediction\u001b[0m\u001b[1;33m)\u001b[0m\u001b[1;33m:\u001b[0m\u001b[1;33m\u001b[0m\u001b[1;33m\u001b[0m\u001b[0m\n\u001b[1;32m----> 4\u001b[1;33m     \u001b[0maccuracy\u001b[0m \u001b[1;33m=\u001b[0m \u001b[0maccuracy_score\u001b[0m\u001b[1;33m(\u001b[0m\u001b[0mtest\u001b[0m\u001b[1;33m,\u001b[0m\u001b[0mprediction\u001b[0m\u001b[1;33m)\u001b[0m\u001b[1;33m\u001b[0m\u001b[1;33m\u001b[0m\u001b[0m\n\u001b[0m\u001b[0;32m      5\u001b[0m     \u001b[0mconf_matrix\u001b[0m \u001b[1;33m=\u001b[0m \u001b[0mconfusion_matrix\u001b[0m\u001b[1;33m(\u001b[0m\u001b[0mtest\u001b[0m\u001b[1;33m,\u001b[0m\u001b[0mprediction\u001b[0m\u001b[1;33m)\u001b[0m\u001b[1;33m\u001b[0m\u001b[1;33m\u001b[0m\u001b[0m\n\u001b[0;32m      6\u001b[0m     \u001b[0mclass_report\u001b[0m \u001b[1;33m=\u001b[0m \u001b[0msklearn\u001b[0m\u001b[1;33m.\u001b[0m\u001b[0mmetrics\u001b[0m\u001b[1;33m.\u001b[0m\u001b[0mclassification_report\u001b[0m\u001b[1;33m(\u001b[0m\u001b[0mtest\u001b[0m\u001b[1;33m,\u001b[0m\u001b[0mprediction\u001b[0m\u001b[1;33m)\u001b[0m\u001b[1;33m\u001b[0m\u001b[1;33m\u001b[0m\u001b[0m\n",
      "\u001b[1;32m~\\anaconda3\\lib\\site-packages\\sklearn\\metrics\\_classification.py\u001b[0m in \u001b[0;36maccuracy_score\u001b[1;34m(y_true, y_pred, normalize, sample_weight)\u001b[0m\n\u001b[0;32m    183\u001b[0m \u001b[1;33m\u001b[0m\u001b[0m\n\u001b[0;32m    184\u001b[0m     \u001b[1;31m# Compute accuracy for each possible representation\u001b[0m\u001b[1;33m\u001b[0m\u001b[1;33m\u001b[0m\u001b[1;33m\u001b[0m\u001b[0m\n\u001b[1;32m--> 185\u001b[1;33m     \u001b[0my_type\u001b[0m\u001b[1;33m,\u001b[0m \u001b[0my_true\u001b[0m\u001b[1;33m,\u001b[0m \u001b[0my_pred\u001b[0m \u001b[1;33m=\u001b[0m \u001b[0m_check_targets\u001b[0m\u001b[1;33m(\u001b[0m\u001b[0my_true\u001b[0m\u001b[1;33m,\u001b[0m \u001b[0my_pred\u001b[0m\u001b[1;33m)\u001b[0m\u001b[1;33m\u001b[0m\u001b[1;33m\u001b[0m\u001b[0m\n\u001b[0m\u001b[0;32m    186\u001b[0m     \u001b[0mcheck_consistent_length\u001b[0m\u001b[1;33m(\u001b[0m\u001b[0my_true\u001b[0m\u001b[1;33m,\u001b[0m \u001b[0my_pred\u001b[0m\u001b[1;33m,\u001b[0m \u001b[0msample_weight\u001b[0m\u001b[1;33m)\u001b[0m\u001b[1;33m\u001b[0m\u001b[1;33m\u001b[0m\u001b[0m\n\u001b[0;32m    187\u001b[0m     \u001b[1;32mif\u001b[0m \u001b[0my_type\u001b[0m\u001b[1;33m.\u001b[0m\u001b[0mstartswith\u001b[0m\u001b[1;33m(\u001b[0m\u001b[1;34m'multilabel'\u001b[0m\u001b[1;33m)\u001b[0m\u001b[1;33m:\u001b[0m\u001b[1;33m\u001b[0m\u001b[1;33m\u001b[0m\u001b[0m\n",
      "\u001b[1;32m~\\anaconda3\\lib\\site-packages\\sklearn\\metrics\\_classification.py\u001b[0m in \u001b[0;36m_check_targets\u001b[1;34m(y_true, y_pred)\u001b[0m\n\u001b[0;32m     78\u001b[0m     \u001b[0my_pred\u001b[0m \u001b[1;33m:\u001b[0m \u001b[0marray\u001b[0m \u001b[1;32mor\u001b[0m \u001b[0mindicator\u001b[0m \u001b[0mmatrix\u001b[0m\u001b[1;33m\u001b[0m\u001b[1;33m\u001b[0m\u001b[0m\n\u001b[0;32m     79\u001b[0m     \"\"\"\n\u001b[1;32m---> 80\u001b[1;33m     \u001b[0mcheck_consistent_length\u001b[0m\u001b[1;33m(\u001b[0m\u001b[0my_true\u001b[0m\u001b[1;33m,\u001b[0m \u001b[0my_pred\u001b[0m\u001b[1;33m)\u001b[0m\u001b[1;33m\u001b[0m\u001b[1;33m\u001b[0m\u001b[0m\n\u001b[0m\u001b[0;32m     81\u001b[0m     \u001b[0mtype_true\u001b[0m \u001b[1;33m=\u001b[0m \u001b[0mtype_of_target\u001b[0m\u001b[1;33m(\u001b[0m\u001b[0my_true\u001b[0m\u001b[1;33m)\u001b[0m\u001b[1;33m\u001b[0m\u001b[1;33m\u001b[0m\u001b[0m\n\u001b[0;32m     82\u001b[0m     \u001b[0mtype_pred\u001b[0m \u001b[1;33m=\u001b[0m \u001b[0mtype_of_target\u001b[0m\u001b[1;33m(\u001b[0m\u001b[0my_pred\u001b[0m\u001b[1;33m)\u001b[0m\u001b[1;33m\u001b[0m\u001b[1;33m\u001b[0m\u001b[0m\n",
      "\u001b[1;32m~\\anaconda3\\lib\\site-packages\\sklearn\\utils\\validation.py\u001b[0m in \u001b[0;36mcheck_consistent_length\u001b[1;34m(*arrays)\u001b[0m\n\u001b[0;32m    209\u001b[0m     \u001b[0muniques\u001b[0m \u001b[1;33m=\u001b[0m \u001b[0mnp\u001b[0m\u001b[1;33m.\u001b[0m\u001b[0munique\u001b[0m\u001b[1;33m(\u001b[0m\u001b[0mlengths\u001b[0m\u001b[1;33m)\u001b[0m\u001b[1;33m\u001b[0m\u001b[1;33m\u001b[0m\u001b[0m\n\u001b[0;32m    210\u001b[0m     \u001b[1;32mif\u001b[0m \u001b[0mlen\u001b[0m\u001b[1;33m(\u001b[0m\u001b[0muniques\u001b[0m\u001b[1;33m)\u001b[0m \u001b[1;33m>\u001b[0m \u001b[1;36m1\u001b[0m\u001b[1;33m:\u001b[0m\u001b[1;33m\u001b[0m\u001b[1;33m\u001b[0m\u001b[0m\n\u001b[1;32m--> 211\u001b[1;33m         raise ValueError(\"Found input variables with inconsistent numbers of\"\n\u001b[0m\u001b[0;32m    212\u001b[0m                          \" samples: %r\" % [int(l) for l in lengths])\n\u001b[0;32m    213\u001b[0m \u001b[1;33m\u001b[0m\u001b[0m\n",
      "\u001b[1;31mValueError\u001b[0m: Found input variables with inconsistent numbers of samples: [101, 257]"
     ]
    }
   ],
   "source": [
    "out = model_perfomance(Y_test_am,np.round(new_lstm.predict(X_test_pro)))"
   ]
  },
  {
   "cell_type": "code",
   "execution_count": 95,
   "id": "599f9150",
   "metadata": {},
   "outputs": [],
   "source": [
    "output = np.round(lstm_model.predict(dataframe[dataframe.columns[-8:-2]]))"
   ]
  },
  {
   "cell_type": "code",
   "execution_count": 99,
   "id": "8296c269",
   "metadata": {},
   "outputs": [
    {
     "data": {
      "text/plain": [
       "0.6621622"
      ]
     },
     "execution_count": 99,
     "metadata": {},
     "output_type": "execute_result"
    }
   ],
   "source": [
    "message(out)"
   ]
  },
  {
   "cell_type": "code",
   "execution_count": 33,
   "id": "679b2eed",
   "metadata": {},
   "outputs": [
    {
     "name": "stdout",
     "output_type": "stream",
     "text": [
      "Hello.............\n",
      "You are 87 % Professional!!!\n",
      "You are a good player but please improve your hit to be a professional player..\n"
     ]
    }
   ],
   "source": [
    "#Function to calculate the professionalism of the player and shows a message out.\n",
    "\n",
    "def message(out):\n",
    "    size = out\n",
    "    toss = out[:15]\n",
    "    mid = out[15:-15]\n",
    "    hit = out[-15:]\n",
    "    hit_am = np.count_nonzero(hit == 1)\n",
    "    toss_am = np.count_nonzero(toss == 1)\n",
    "    mid_am = np.count_nonzero(mid == 1)\n",
    "    \n",
    "    #print(\"---------------------\",hit_am,toss_am,mid_am)\n",
    "    flag_hit = 0\n",
    "    flag_mid = 0\n",
    "    flag_toss = 0\n",
    "    \n",
    "    value = out.mean()\n",
    "    \n",
    "    if value > 0.5:\n",
    "        print(\"Hello.............\\nYou are\",int(value*100),\"% Professional!!!\")\n",
    "    else:\n",
    "        print(\"Hello.............\\nYou are an unprofessional Player...\")\n",
    "    \n",
    "    if hit_am > np.round(len(hit)/5):\n",
    "        flag_hit = 1    \n",
    "    if toss_am > np.round(len(toss)/5):  \n",
    "        flag_toss = 1\n",
    "    if mid_am > np.round(len(mid)/5):\n",
    "        flag_mid = 1\n",
    "    \n",
    "    return flag_hit,flag_toss,flag_mid\n",
    "\n",
    "\n",
    "hit,toss,mid = message(out)\n",
    "#print(hit,toss,mid)\n",
    "\n",
    "if hit and toss and mid == 0:\n",
    "    print(\"Your way of tossing the ball and getting prepared for hitting the ball and the hit can be improved..\")\n",
    "elif hit and mid == 0:\n",
    "    print(\"Your way of tossing the ball is Professional but hitting the ball and getting prepared for hitting the ball can be improved..\")\n",
    "elif hit and toss == 0:\n",
    "    print(\"Your way of getting prepared for hitting the ball is Professional but tossing the ball and Hitting the ball can be improved..\")\n",
    "elif toss and mid == 0:\n",
    "    print(\"Your way of Hitting the ball is more like a Professional but tossing the ball and getting prepared for hitting the ball can be improved..\")\n",
    "\n",
    "elif hit == 0:\n",
    "    print(\"You are a good player but please improve your hit to be a professional player..\")\n",
    "elif toss == 0:\n",
    "    print(\"You are a good player but please improve your ball toss to be a professional player..\")\n",
    "elif mid == 0:\n",
    "    print(\"You are a good player but please improve your preperation to hit the ball to be a professional player..\")\n",
    "    \n",
    "    \n",
    "else:\n",
    "    print(\"Your way of tossing, getting prepared to hit the ball and finally hitting the ball are a completely professional!!!!\")\n"
   ]
  },
  {
   "cell_type": "code",
   "execution_count": null,
   "id": "f1d5ff94",
   "metadata": {},
   "outputs": [],
   "source": []
  }
 ],
 "metadata": {
  "kernelspec": {
   "display_name": "Python 3",
   "language": "python",
   "name": "python3"
  },
  "language_info": {
   "codemirror_mode": {
    "name": "ipython",
    "version": 3
   },
   "file_extension": ".py",
   "mimetype": "text/x-python",
   "name": "python",
   "nbconvert_exporter": "python",
   "pygments_lexer": "ipython3",
   "version": "3.8.8"
  }
 },
 "nbformat": 4,
 "nbformat_minor": 5
}
