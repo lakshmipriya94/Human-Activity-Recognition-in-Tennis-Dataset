{
 "cells": [
  {
   "cell_type": "code",
   "execution_count": 36,
   "id": "ad0b222b",
   "metadata": {},
   "outputs": [],
   "source": [
    "import cv2\n",
    "import pandas as pd\n",
    "import mediapipe as mp\n",
    "from PIL import Image\n",
    "\n",
    "import os\n",
    "from random import randint\n",
    "import pandas as pd\n",
    "import numpy as np\n",
    "import matplotlib.pyplot as plt\n",
    "import math\n",
    "import pickle\n",
    "import cv2\n",
    "\n",
    "from xgboost import XGBClassifier\n",
    "from sklearn import preprocessing\n",
    "from sklearn.ensemble import RandomForestClassifier\n",
    "from sklearn.preprocessing import StandardScaler\n",
    "from sklearn.metrics import accuracy_score, precision_score, recall_score, f1_score,make_scorer\n",
    "\n",
    "from sklearn.model_selection import train_test_split\n",
    "from sklearn.metrics import classification_report\n",
    "\n",
    "\n",
    "from random import uniform\n",
    "from scipy.stats import randint\n",
    "from sklearn.linear_model import Lasso\n",
    "from sklearn.linear_model import LassoCV\n",
    "from sklearn.model_selection import StratifiedKFold, RandomizedSearchCV\n",
    "from sklearn.model_selection import train_test_split\n",
    "from sklearn.metrics import mean_squared_error,log_loss\n",
    "\n",
    "import io\n",
    "import numpy as np\n",
    "import pandas as pd\n",
    "from sklearn.preprocessing import LabelEncoder\n",
    "\n",
    "from sklearn.metrics import confusion_matrix\n",
    "import matplotlib.pyplot as plt\n",
    "import seaborn as sns\n",
    "from keras.layers import Dropout\n",
    "\n",
    "import sklearn\n",
    "from sklearn.metrics import ConfusionMatrixDisplay\n",
    "from sklearn.metrics import classification_report\n",
    "\n",
    "from sklearn.metrics import roc_curve, roc_auc_score, auc\n",
    "import matplotlib.pyplot as plt\n",
    "\n",
    "\n",
    "import numpy as np\n",
    "import keras\n",
    "from keras.models import Sequential\n",
    "from keras.layers import LSTM, Dense\n",
    "from keras.models import load_model\n",
    "from sklearn.model_selection import cross_val_score\n",
    "\n",
    "from tensorflow.keras.optimizers import Adam\n",
    "\n",
    "from keras.layers import Dense, Dropout, Activation\n",
    "from sklearn.model_selection import GridSearchCV\n",
    "from pandas import read_csv\n",
    "from tensorflow.keras.models import Sequential\n",
    "from tensorflow.keras.layers import Dense\n",
    "from scikeras.wrappers import KerasClassifier\n",
    "from sklearn.model_selection import cross_val_score\n",
    "from sklearn.preprocessing import LabelEncoder\n",
    "from sklearn.model_selection import StratifiedKFold\n",
    "import seaborn as sns\n",
    "#import matplotlib as plt\n",
    "from keras.callbacks import LearningRateScheduler\n",
    "import numpy as np\n",
    "\n",
    "\n",
    "from tensorflow.keras.models import save_model\n",
    "import tensorflow as tf\n",
    "\n",
    "# The files to create dataframe from dataset\n",
    "#ball_release = pd.read_csv(r\"C:\\Users\\ASUS\\OneDrive\\Documents\\Academics\\Summer Semester\\Dissertation\\tossstartframes.csv\",header=None)\n",
    "data_path = r\"C:\\Users\\ASUS\\OneDrive\\Documents\\Academics\\Summer Semester\\Dataset\\CSVs\\\\\"\n",
    "#test_data = pd.read_excel(r\"C:\\Users\\ASUS\\OneDrive\\Documents\\Academics\\Summer Semester\\Dataset\\model_inout\\test_25-06.xlsx\")\n",
    "frames = pd.read_csv(r\"C:\\Users\\ASUS\\OneDrive\\Documents\\Academics\\Summer Semester\\Dissertation\\frames.csv\")\n",
    "#cont_frames = pd.read_csv(r\"C:\\Users\\ASUS\\OneDrive\\Documents\\Academics\\Summer Semester\\Dataset\\contactframes.csv\")\n",
    "#ball_toss = pd.read_csv(r\"C:\\Users\\ASUS\\OneDrive\\Documents\\Academics\\Summer Semester\\Dissertation\\tossstartframes.csv\")\n",
    "\n",
    "#pip install tensorflow==2.7.0 --user"
   ]
  },
  {
   "cell_type": "code",
   "execution_count": 2,
   "id": "bb706844",
   "metadata": {},
   "outputs": [],
   "source": [
    "def process_video(cap):        \n",
    "        #importing required libraries from mediapipe to draw and to perfom pose estimation from the video\n",
    "        mp_drawing = mp.solutions.drawing_utils\n",
    "        mp_pose = mp.solutions.pose\n",
    "\n",
    "        #Initializing an empty dataframe with the required body landmarks as columns of a dataframe\n",
    "        df = pd.DataFrame(columns = ['NOSE_X', 'NOSE_Y', 'NOSE_Z', 'LEFT_SHOULDER_X', 'LEFT_SHOULDER_Y',\n",
    "               'LEFT_SHOULDER_Z', 'RIGHT_SHOULDER_X', 'RIGHT_SHOULDER_Y',\n",
    "               'RIGHT_SHOULDER_Z', 'LEFT_ELBOW_X', 'LEFT_ELBOW_Y', 'LEFT_ELBOW_Z',\n",
    "               'RIGHT_ELBOW_X', 'RIGHT_ELBOW_Y', 'RIGHT_ELBOW_Z', 'LEFT_WRIST_X',\n",
    "               'LEFT_WRIST_Y', 'LEFT_WRIST_Z', 'RIGHT_WRIST_X', 'RIGHT_WRIST_Y',\n",
    "               'RIGHT_WRIST_Z', 'LEFT_HIP_X', 'LEFT_HIP_Y', 'LEFT_HIP_Z',\n",
    "               'RIGHT_HIP_X', 'RIGHT_HIP_Y', 'RIGHT_HIP_Z', 'LEFT_KNEE_X',\n",
    "               'LEFT_KNEE_Y', 'LEFT_KNEE_Z', 'RIGHT_KNEE_X', 'RIGHT_KNEE_Y',\n",
    "               'RIGHT_KNEE_Z', 'LEFT_ANKLE_X', 'LEFT_ANKLE_Y', 'LEFT_ANKLE_Z',\n",
    "               'RIGHT_ANKLE_X', 'RIGHT_ANKLE_Y', 'RIGHT_ANKLE_Z', 'LEFT_HEEL_X',\n",
    "               'LEFT_HEEL_Y', 'LEFT_HEEL_Z', 'RIGHT_HEEL_X', 'RIGHT_HEEL_Y',\n",
    "               'RIGHT_HEEL_Z', 'LEFT_FOOT_INDEX_X', 'LEFT_FOOT_INDEX_Y',\n",
    "               'LEFT_FOOT_INDEX_Z', 'RIGHT_FOOT_INDEX_X', 'RIGHT_FOOT_INDEX_Y',\n",
    "               'RIGHT_FOOT_INDEX_Z'])\n",
    "\n",
    "\n",
    "        #Reading the video using CV2\n",
    "        #output_file = r\"C:\\Users\\ASUS\\OneDrive\\Documents\\Academics\\Summer Semester\\Dataset\\individual serves - side camera\\Kev's Serves\\output_data.json\"\n",
    "        pose = mp.solutions.pose.Pose(static_image_mode=False, min_detection_confidence=0.5, model_complexity=2)\n",
    "\n",
    "        # The mininimum detection confidance and tracking confidence of mediapipe is set to 0.5 and while video is opened the it is\n",
    "        # extracted into frames and landmarks are extracted from each frame and saved it as each row of dataframe 'df'\n",
    "\n",
    "        with mp_pose.Pose(min_detection_confidence=0.5, min_tracking_confidence=0.5) as pose:\n",
    "            while cap.isOpened():\n",
    "\n",
    "\n",
    "                ret, frame = cap.read()\n",
    "\n",
    "\n",
    "                #flipped_frame = cv2.flip(frame, 1)\n",
    "\n",
    "                #pil_image = Image.fromarray(cv2.cvtColor(frame, cv2.COLOR_BGR2RGB))\n",
    "\n",
    "                #pil_image.show()\n",
    "\n",
    "\n",
    "                if not ret:\n",
    "\n",
    "                    break\n",
    "\n",
    "                else:\n",
    "                    #print(ret,\"\\n\")\n",
    "                    RGB = cv2.cvtColor(frame, cv2.COLOR_BGR2RGB)\n",
    "\n",
    "\n",
    "                    results = pose.process(RGB)\n",
    "\n",
    "                    if results.pose_landmarks == None:\n",
    "\n",
    "                        continue\n",
    "\n",
    "                    else:\n",
    "\n",
    "                        landmarks = results.pose_landmarks.landmark\n",
    "\n",
    "                        #print(\"Cord------\",landmarks[mp_pose.PoseLandmark.LEFT_SHOULDER.value].x)\n",
    "\n",
    "                        nose_x =  landmarks[mp_pose.PoseLandmark.NOSE.value].x\n",
    "                        nose_Y =  landmarks[mp_pose.PoseLandmark.NOSE.value].y\n",
    "                        nose_z =  landmarks[mp_pose.PoseLandmark.NOSE.value].z\n",
    "\n",
    "                        left_sho_x = landmarks[mp_pose.PoseLandmark.LEFT_SHOULDER.value].x\n",
    "                        left_sho_y = landmarks[mp_pose.PoseLandmark.LEFT_SHOULDER.value].y\n",
    "                        left_sho_z = landmarks[mp_pose.PoseLandmark.LEFT_SHOULDER.value].z\n",
    "\n",
    "                        right_sho_x = landmarks[mp_pose.PoseLandmark.RIGHT_SHOULDER.value].x\n",
    "                        right_sho_y = landmarks[mp_pose.PoseLandmark.RIGHT_SHOULDER.value].y\n",
    "                        right_sho_z = landmarks[mp_pose.PoseLandmark.RIGHT_SHOULDER.value].z\n",
    "\n",
    "                        left_elb_x = landmarks[mp_pose.PoseLandmark.LEFT_ELBOW.value].x\n",
    "                        left_elb_y = landmarks[mp_pose.PoseLandmark.LEFT_ELBOW.value].y\n",
    "                        left_elb_z = landmarks[mp_pose.PoseLandmark.LEFT_ELBOW.value].z\n",
    "\n",
    "                        right_elb_x = landmarks[mp_pose.PoseLandmark.RIGHT_ELBOW.value].x\n",
    "                        right_elb_y = landmarks[mp_pose.PoseLandmark.RIGHT_ELBOW.value].y\n",
    "                        right_elb_z = landmarks[mp_pose.PoseLandmark.RIGHT_ELBOW.value].z\n",
    "\n",
    "                        left_wrist_x = landmarks[mp_pose.PoseLandmark.LEFT_WRIST.value].x\n",
    "                        left_wrist_y = landmarks[mp_pose.PoseLandmark.LEFT_WRIST.value].y\n",
    "                        left_wrist_z = landmarks[mp_pose.PoseLandmark.LEFT_WRIST.value].z\n",
    "\n",
    "                        right_wrist_x = landmarks[mp_pose.PoseLandmark.RIGHT_WRIST.value].x\n",
    "                        right_wrist_y = landmarks[mp_pose.PoseLandmark.RIGHT_WRIST.value].y\n",
    "                        right_wrist_z = landmarks[mp_pose.PoseLandmark.RIGHT_WRIST.value].z\n",
    "\n",
    "                        left_hip_x = landmarks[mp_pose.PoseLandmark.LEFT_HIP.value].x\n",
    "                        left_hip_y = landmarks[mp_pose.PoseLandmark.LEFT_HIP.value].y\n",
    "                        left_hip_z = landmarks[mp_pose.PoseLandmark.LEFT_HIP.value].z\n",
    "\n",
    "                        right_hip_x = landmarks[mp_pose.PoseLandmark.RIGHT_HIP.value].x\n",
    "                        right_hip_y = landmarks[mp_pose.PoseLandmark.RIGHT_HIP.value].y\n",
    "                        right_hip_z = landmarks[mp_pose.PoseLandmark.RIGHT_HIP.value].z\n",
    "\n",
    "                        left_knee_x = landmarks[mp_pose.PoseLandmark.LEFT_KNEE.value].x\n",
    "                        left_knee_y = landmarks[mp_pose.PoseLandmark.LEFT_KNEE.value].y\n",
    "                        left_knee_z = landmarks[mp_pose.PoseLandmark.LEFT_KNEE.value].z\n",
    "\n",
    "                        right_knee_x = landmarks[mp_pose.PoseLandmark.RIGHT_KNEE.value].x\n",
    "                        right_knee_y = landmarks[mp_pose.PoseLandmark.RIGHT_KNEE.value].y\n",
    "                        right_knee_z = landmarks[mp_pose.PoseLandmark.RIGHT_KNEE.value].z           \n",
    "\n",
    "                        left_ankle_x = landmarks[mp_pose.PoseLandmark.LEFT_ANKLE.value].x\n",
    "                        left_ankle_y = landmarks[mp_pose.PoseLandmark.LEFT_ANKLE.value].y\n",
    "                        left_ankle_z = landmarks[mp_pose.PoseLandmark.LEFT_ANKLE.value].z\n",
    "\n",
    "                        right_ankle_x = landmarks[mp_pose.PoseLandmark.RIGHT_ANKLE.value].x\n",
    "                        right_ankle_y = landmarks[mp_pose.PoseLandmark.RIGHT_ANKLE.value].y\n",
    "                        right_ankle_z = landmarks[mp_pose.PoseLandmark.RIGHT_ANKLE.value].z\n",
    "\n",
    "                        left_heel_x = landmarks[mp_pose.PoseLandmark.LEFT_HEEL.value].x\n",
    "                        left_heel_y = landmarks[mp_pose.PoseLandmark.LEFT_HEEL.value].y\n",
    "                        left_heel_z = landmarks[mp_pose.PoseLandmark.LEFT_HEEL.value].z\n",
    "\n",
    "                        right_heel_x = landmarks[mp_pose.PoseLandmark.RIGHT_HEEL.value].x\n",
    "                        right_heel_y = landmarks[mp_pose.PoseLandmark.RIGHT_HEEL.value].y\n",
    "                        right_heel_z = landmarks[mp_pose.PoseLandmark.RIGHT_HEEL.value].z\n",
    "\n",
    "                        left_foot_index_x = landmarks[mp_pose.PoseLandmark.RIGHT_FOOT_INDEX.value].x\n",
    "                        left_foot_index_y = landmarks[mp_pose.PoseLandmark.RIGHT_FOOT_INDEX.value].y\n",
    "                        left_foot_index_z = landmarks[mp_pose.PoseLandmark.RIGHT_FOOT_INDEX.value].z\n",
    "\n",
    "                        right_foot_index_x = landmarks[mp_pose.PoseLandmark.RIGHT_FOOT_INDEX.value].x\n",
    "                        right_foot_index_y = landmarks[mp_pose.PoseLandmark.RIGHT_FOOT_INDEX.value].y\n",
    "                        right_foot_index_z = landmarks[mp_pose.PoseLandmark.RIGHT_FOOT_INDEX.value].z\n",
    "\n",
    "                        #res_list.append([nose_x,nose_Y,nose_z,left_sho_x,left_sho_y,left_sho_z,right_sho_x,right_sho_y,right_sho_z,left_elb_x,left_elb_y,left_elb_z,right_elb_x,right_elb_y,right_elb_z,left_wrist_x,left_wrist_y,left_wrist_z,right_wrist_x,right_wrist_y,right_wrist_z,left_hip_x,left_hip_y,left_hip_z,right_hip_x,right_hip_y,right_hip_z,left_knee_x,left_knee_y,left_knee_z,right_knee_x,right_knee_y,right_knee_z,left_ankle_x,left_ankle_y,left_ankle_z,right_ankle_x,right_ankle_z,left_heel_x,left_heel_y,left_heel_z,right_heel_x,right_heel_y,right_heel_z,left_foot_index_x,left_foot_index_y,left_foot_index_z,right_foot_index_x,right_foot_index_y,right_foot_index_z])\n",
    "\n",
    "\n",
    "                        data_row = [nose_x,nose_Y,nose_z,left_sho_x,left_sho_y,left_sho_z,right_sho_x,right_sho_y,right_sho_z,left_elb_x,left_elb_y,left_elb_z,right_elb_x,right_elb_y,right_elb_z,left_wrist_x,left_wrist_y,left_wrist_z,right_wrist_x,right_wrist_y,right_wrist_z,left_hip_x,left_hip_y,left_hip_z,right_hip_x,right_hip_y,right_hip_z,left_knee_x,left_knee_y,left_knee_z,right_knee_x,right_knee_y,right_knee_z,left_ankle_x,left_ankle_y,left_ankle_z,right_ankle_x,right_ankle_y,right_ankle_z,left_heel_x,left_heel_y,left_heel_z,right_heel_x,right_heel_y,right_heel_z,left_foot_index_x,left_foot_index_y,left_foot_index_z,right_foot_index_x,right_foot_index_y,right_foot_index_z]\n",
    "\n",
    "\n",
    "\n",
    "                        df.loc[len(df)] = data_row\n",
    "                        #print(\"---------\",data_row)\n",
    "                        #df.append(data_row, ignore_index=True)\n",
    "\n",
    "                mp_drawing.draw_landmarks(frame, results.pose_landmarks, mp_pose.POSE_CONNECTIONS)\n",
    "\n",
    "        return df        "
   ]
  },
  {
   "cell_type": "code",
   "execution_count": 3,
   "id": "363771ab",
   "metadata": {},
   "outputs": [],
   "source": [
    "#Function for data prepration: It classifyies the 'Class 1' and 'Class 2' and integrate the complete files into a single dataframe.\n",
    "\n",
    "def classify_data(range_value,file,data_path):\n",
    "    data_list = []\n",
    "    class_list = []\n",
    "    ball_toss = []\n",
    "    \n",
    "    df = pd.DataFrame()\n",
    "    \n",
    "    #print(\"---------\",frames)\n",
    "    for i in range(len(file)):\n",
    "            #print(i)\n",
    "            file_name = file.iloc[i][0]\n",
    "            #print(\"----\",file_name)\n",
    "            toss_row = file.iloc[i][1]\n",
    "            hit_row = file.iloc[i][2]\n",
    "\n",
    "            for csv in os.listdir(data_path): \n",
    "                \n",
    "                if file_name in csv:\n",
    "                        #print(\"\\n\",file_name)\n",
    "                        data = pd.read_csv(data_path+\"\\\\\"+csv)\n",
    "                        #print(data)\n",
    "                        \n",
    "                        \n",
    "                        \n",
    "                        class_list = [\"Before\" for i in range(0,hit_row-range_value)]\n",
    "                        class_list.extend([\"Hit\" for i in range(hit_row-range_value,hit_row+range_value)])\n",
    "                        class_list.extend([\"After\" for i in range(hit_row+range_value,len(data))])\n",
    "\n",
    "                        ball_toss = [\"Before Toss\" for i in range(0,toss_row-range_value)]\n",
    "                        ball_toss.extend([\"Toss\" for i in range(toss_row-range_value,toss_row+range_value)])\n",
    "                        ball_toss.extend([\"After Toss\" for i in range(toss_row+range_value,len(data))])\n",
    "\n",
    "                        file_list = [file_name for i in range(len(data))]\n",
    "                        data = data.assign(File=file_list,Class_1=class_list,Class_2=ball_toss)\n",
    "                        data_list.append(data)   \n",
    "                        dataframe = pd.concat(data_list)\n",
    "                        #print(dataframe)\n",
    "                        \n",
    "    return dataframe"
   ]
  },
  {
   "cell_type": "code",
   "execution_count": 4,
   "id": "aa5f1920",
   "metadata": {},
   "outputs": [],
   "source": [
    "#Function to calculate the angle between two body landmark by taking the x,y co-ordinates of both points\n",
    "\n",
    "def cal_ang(i,j,k,l):\n",
    "    \n",
    "    \n",
    "    angle_rad = []\n",
    "    sho_rand_angle = []\n",
    "    \n",
    "    for x1,y1,x2,y2 in zip(i,j,k,l):\n",
    "        \n",
    "        \n",
    "    \n",
    "        angle_rad.append(math.atan2( y2 - y1 , x2 - x1 ))\n",
    "        #angle_deg = math.degrees(angle_rad)\n",
    "        #nose_wrist_angle.append(pygame.math.Vector2(x1, y1).angle_to((x2, y2)))\n",
    "    \n",
    "        \n",
    "    return angle_rad\n"
   ]
  },
  {
   "cell_type": "code",
   "execution_count": 5,
   "id": "3e69772a",
   "metadata": {},
   "outputs": [],
   "source": [
    "#Checks and correct the prediction by multi-classifier model by checking the conditions like it should be in \"Before\"-\"Hit\"/\"Toss\"-\"After\" order\n",
    "def pred_check(arr):\n",
    "\n",
    "    for i in range(len(arr) - 1):\n",
    "        \n",
    "        if (arr[i] == 1 and arr[i-1] == 1) and (arr[i + 1] == 0 ) :\n",
    "            \n",
    "            arr[i + 1] = 2\n",
    "        \n",
    "        elif (arr[i] == 2)  and (arr[i + 1] == 1):\n",
    "            \n",
    "            arr[i + 1] = 0\n",
    "        \n",
    "        elif (arr[i] == 0 and arr[i+1] == 1):\n",
    "            arr[i+1] = 0\n",
    "        \n",
    "    \n",
    "    return arr\n"
   ]
  },
  {
   "cell_type": "code",
   "execution_count": 6,
   "id": "b1851c5b",
   "metadata": {},
   "outputs": [],
   "source": [
    "#Find the mean square error of prediction for each alpha value and finds the most suitable alpha which has the least mean square error.\n",
    "def best_alpha(X_train,y_train):    \n",
    "    alp = np.logspace(-10, 10, 100)  \n",
    "\n",
    "    lasso_cv = LassoCV(alphas=alp, cv=5)  \n",
    "\n",
    "    lasso_cv.fit(X_train, y_train)\n",
    "\n",
    "    alpha_val = lasso_cv.alpha_\n",
    "\n",
    "    print(\"Best Alpha:\", alpha_val)\n",
    "\n",
    "    final_lasso = Lasso(alpha=alpha_val)\n",
    "    final_lasso.fit(X_train, y_train)\n",
    "\n",
    "    y_pred = final_lasso.predict(X_test)\n",
    "    mean_sq_err = mean_squared_error(y_test, y_pred)\n",
    "    print(\"Mean Squared Error:\", mean_sq_err)\n",
    "    return mean_sq_err"
   ]
  },
  {
   "cell_type": "code",
   "execution_count": 7,
   "id": "07c499bb",
   "metadata": {},
   "outputs": [],
   "source": [
    "#Extract the coefficient value which helps to identify the relevence of the feature by Lasso Regression cross validation\n",
    "def lasso_cross_val(X_train,X_test,y_train,y_test):\n",
    "    \n",
    "    coef_lis =[]\n",
    "\n",
    "    lasso = Lasso(alpha=1e-10)\n",
    "\n",
    "    lasso.fit(X_train, y_train)\n",
    "\n",
    "    y_pred = lasso.predict(X_test)\n",
    "\n",
    "    mean_sq_err = mean_squared_error(y_test, y_pred)\n",
    "    print(\"Mean Squared Error:\", mean_sq_err)\n",
    "\n",
    "    coeff = pd.DataFrame({'Features': X_train.columns, 'Coefficients': lasso.coef_})\n",
    "\n",
    "\n",
    "    for j in range(len(coeff)):\n",
    "        if coeff.iloc[j][1]!= 0:\n",
    "            coef_lis.append((coeff.iloc[j][0]))\n",
    "\n",
    "    print(([i for i in coeff['Coefficients'] if i!=0]))\n",
    "    \n",
    "    return coef_lis    \n",
    "#coef_lis.append('Nose_Right_Wrist_Angle')\n",
    "#coef_lis.append('Right_Sho_Wrist Angle') \n",
    "#coef_lis.append('Nose_Right_Elbow')\n",
    "         \n",
    "        \n",
    "#coef_lis.append('Left_Sho_Wrist_Angle')\n",
    "#coef_lis.append('Nose_Left_Wrist') \n",
    "#coef_lis.append('Nose_Left_Elbow')\n",
    "    \n",
    "\n"
   ]
  },
  {
   "cell_type": "markdown",
   "id": "f1ed4fc5",
   "metadata": {},
   "source": [
    "Random Search"
   ]
  },
  {
   "cell_type": "code",
   "execution_count": 8,
   "id": "a802824c",
   "metadata": {},
   "outputs": [],
   "source": [
    "#Function to check different hyperparameter values for XG Boost and perform random search to find the best hyperparameter values\n",
    "\n",
    "def xgb_randomsearch(new_X_train, y_train):  \n",
    "    #params = {\n",
    " #   'subsample': 0.7,\n",
    " #   'reg_lambda': 50.0,\n",
    " #   'n_estimators': 100,\n",
    " #   'min_child_weight': 5.0,\n",
    " #   'max_depth': 6,\n",
    " #   'learning_rate': 0.2,\n",
    " #   'gamma': 1.0,\n",
    " #   'colsample_bytree': 0.9,\n",
    " #   'colsample_bylevel': 0.4,}\n",
    "\n",
    "    #params ={'bootstrap': True,'class_weight': 'balanced_subsample','criterion': 'entropy','max_depth': 5,'max_features': 10,'min_samples_split': 10,'eval_metric': f1_score}\n",
    "\n",
    "    #params = {'gamma': 0,'max_depth': 4,'min_child_weight': 1,'n_estimators': 100,'reg_alpha': 0.1,'reg_lambda': 0.2,'scale_pos_weight': 3}\n",
    "\n",
    "    #param = {\"n_estimators\": [100,150],  \"max_depth\": [3, 4, 5, 6], \"min_child_weight\": randint(1, 10),\"gamma\": [0, 0.1, 0.2, 0.3],\"reg_alpha\": [0, 0.1, 0.2, 0.3],\"reg_lambda\": [0, 0.1, 0.2, 0.3],\"scale_pos_weight\": [1, 3, 5],}\n",
    "    \n",
    "    param_grid = {'gamma': 0,'max_depth': 4,'min_child_weight': 1,'n_estimators': 100,'reg_alpha': 0.1,'reg_lambda': 0.2,'scale_pos_weight': 3}\n",
    "\n",
    "\n",
    "\n",
    "    xg_model = XGBClassifier(objective=\"multi:softmax\", num_class=3)\n",
    "\n",
    "    folds = 5\n",
    "    param_comb = 100     \n",
    "\n",
    "    skf = StratifiedKFold(n_splits=folds, shuffle = True, random_state = None)\n",
    "\n",
    "    random_search = RandomizedSearchCV(xg_model, param_distributions=param_grid, n_iter=param_comb, scoring='f1_macro', cv=skf.split(new_X_train,y_train), verbose=3, random_state=None )\n",
    "    random_search.fit(new_X_train, y_train)\n",
    "\n",
    "    return random_search.best_params_,random_search.best_score_"
   ]
  },
  {
   "cell_type": "code",
   "execution_count": 9,
   "id": "2831d50e",
   "metadata": {},
   "outputs": [],
   "source": [
    "#Function to check different hyperparameter values for Random Forest and perform random search to find the best hyperparameter values\n",
    "\n",
    "def randomforest_randsearch(new_X_train, y_train):\n",
    "    params = {'bootstrap': True,'class_weight': 'balanced_subsample','criterion': 'entropy','max_depth': 5,'max_features': 10,'min_samples_split': 10}\n",
    "    params = {'bootstrap': True,'class_weight': 'balanced','criterion': 'gini','max_depth': 5,'max_features': 9,'min_samples_split': 9}\n",
    "    \n",
    "    \n",
    "    rf = RandomForestClassifier(n_estimators=100)\n",
    "  \n",
    "    random_search = RandomizedSearchCV(rf, param_distributions=params, n_iter=100, cv=5)\n",
    "    random_search.fit(new_X_train, y_train)\n",
    "    return random_search.best_params_,random_search.best_score_"
   ]
  },
  {
   "cell_type": "code",
   "execution_count": 10,
   "id": "d55e8072",
   "metadata": {},
   "outputs": [],
   "source": [
    "#Function to pickle any models \n",
    "def save_tunedmodel(model):    \n",
    "    filename = r'C:\\Users\\ASUS\\OneDrive\\Documents\\Academics\\Summer Semester\\Dissertation\\Models\\Toss model\\XGBoost.sav'\n",
    "    pickle.dump(model, open(filename, 'wb'))"
   ]
  },
  {
   "cell_type": "code",
   "execution_count": 43,
   "id": "dd069143",
   "metadata": {},
   "outputs": [],
   "source": [
    "#Function to draw AUC ROC curve for binary classification models\n",
    "\n",
    "def draw_auc(y_test, y_pred):\n",
    "    \n",
    "    fpr, tpr, _ = roc_curve(y_test, y_pred)\n",
    "\n",
    "    roc_auc = auc(fpr, tpr)\n",
    "\n",
    "    plt.plot(fpr, tpr, label=f'AUC = {roc_auc:.2f}')\n",
    "    plt.xlabel('False Positive Rate')\n",
    "    plt.ylabel('True Positive Rate')\n",
    "    plt.title('Receiver Operating Characteristic (ROC) Curve')\n",
    "    plt.legend()\n",
    "    plt.show()"
   ]
  },
  {
   "cell_type": "code",
   "execution_count": 12,
   "id": "dc0e0aef",
   "metadata": {},
   "outputs": [],
   "source": [
    "#Function to identify the data row for key frames using the output of multiclassification models\n",
    "# The frames from Toss row till Hit row is selected.\n",
    "\n",
    "def find_index(dataframe):\n",
    "    go = \"Not found\"\n",
    "    stop = \"Not found\"\n",
    "    \n",
    "    for i,j in enumerate(df[\"Class_2\"]):\n",
    "    \n",
    "        if j == 2:\n",
    "            go = i\n",
    "            break\n",
    "    if go == \"Not found\":\n",
    "        \n",
    "        print(\"Unable to detect Toss activity in video or the player is not using right hand!!!\")\n",
    "        \n",
    "    for u,v in enumerate(dataframe['Class_1']):\n",
    "        \n",
    "        if v == 2:\n",
    "            stop = u \n",
    "        \n",
    "    if stop == \"Not found\":\n",
    "        \n",
    "        print(\"Unable to detect Hit activity in video or the player is not using right hand!!!\")\n",
    "\n",
    "\n",
    "    return go,stop"
   ]
  },
  {
   "cell_type": "code",
   "execution_count": 13,
   "id": "8a8409e8",
   "metadata": {},
   "outputs": [],
   "source": [
    "#Functions to draw train loss versus validation loss for binary classification models\n",
    "\n",
    "def loss_graph(train_loss,val_loss):    \n",
    "    plt.plot(train_loss)\n",
    "    plt.plot(val_loss)\n",
    "    plt.title('model train vs validation loss')\n",
    "    plt.ylabel('loss')\n",
    "    plt.xlabel('epoch')\n",
    "    plt.legend(['train', 'validation'], loc='upper right')\n",
    "    plt.show()\n"
   ]
  },
  {
   "cell_type": "code",
   "execution_count": 14,
   "id": "484a4283",
   "metadata": {},
   "outputs": [],
   "source": [
    "#Function to evaluate the models using accuracy, confusioin matrix and classification report.\n",
    "\n",
    "def model_perfomance(test,prediction):\n",
    "    accuracy = accuracy_score(test,prediction)\n",
    "    conf_matrix = confusion_matrix(test,prediction)\n",
    "    class_report = sklearn.metrics.classification_report(test,prediction)\n",
    "    \n",
    "    return accuracy,conf_matrix,class_report"
   ]
  },
  {
   "cell_type": "code",
   "execution_count": 75,
   "id": "768a8731",
   "metadata": {},
   "outputs": [],
   "source": [
    "#Function to calculate the professionalism of the player and shows a message out.\n",
    "\n",
    "def message(out):\n",
    "    size = out\n",
    "    toss = out[:15]\n",
    "    mid = out[15:-15]\n",
    "    hit = out[-15:]\n",
    "    hit_am = np.count_nonzero(hit == 1)\n",
    "    toss_am = np.count_nonzero(toss == 1)\n",
    "    mid_am = np.count_nonzero(mid == 1)\n",
    "    \n",
    "    #print(\"---------------------\",hit_am,toss_am,mid_am)\n",
    "    flag_hit = 0\n",
    "    flag_mid = 0\n",
    "    flag_toss = 0\n",
    "    \n",
    "    value = out.mean()\n",
    "    \n",
    "    if value > 0.5:\n",
    "        print(\"Hello.............\\nYou are\",int(value*100),\"% Professional!!!\")\n",
    "    else:\n",
    "        print(\"Hello.............\\nYou are an unprofessional Player...\")\n",
    "    \n",
    "    \n",
    "    if hit_am > np.round(len(hit)/5):\n",
    "        flag_hit = 1    \n",
    "    if toss_am > np.round(len(toss)/5):  \n",
    "        flag_toss = 1\n",
    "    if mid_am > np.round(len(mid)/5):\n",
    "        flag_mid = 1\n",
    "\n",
    "\n",
    "    if value==1 :\n",
    "        print(\"Your way of tossing, getting prepared to hit the ball and finally hitting the ball are a completely professional!!!!\")\n",
    "    elif flag_hit == 0 and flag_toss == 0 and flag_mid == 0:\n",
    "        print(\"Your way of tossing the ball and getting prepared for hitting the ball and the hit can be improved..\")\n",
    "    elif flag_hit and flag_mid == 0:\n",
    "        print(\"Your way of tossing the ball is Professional but hitting the ball and getting prepared for hitting the ball can be improved..\")\n",
    "    elif flag_hit and flag_toss == 0:\n",
    "        print(\"Your way of getting prepared for hitting the ball is Professional but tossing the ball and Hitting the ball can be improved..\")\n",
    "    elif flag_toss and flag_mid == 0:\n",
    "        print(\"Your way of Hitting the ball is more like a Professional but tossing the ball and getting prepared for hitting the ball can be improved..\")\n"
   ]
  },
  {
   "cell_type": "code",
   "execution_count": 363,
   "id": "e54b42ac",
   "metadata": {},
   "outputs": [
    {
     "data": {
      "text/plain": [
       "Index(['Unnamed: 0', 'NOSE_X', 'NOSE_Y', 'NOSE_Z', 'LEFT_SHOULDER_X',\n",
       "       'LEFT_SHOULDER_Y', 'LEFT_SHOULDER_Z', 'RIGHT_SHOULDER_X',\n",
       "       'RIGHT_SHOULDER_Y', 'RIGHT_SHOULDER_Z', 'LEFT_ELBOW_X', 'LEFT_ELBOW_Y',\n",
       "       'LEFT_ELBOW_Z', 'RIGHT_ELBOW_X', 'RIGHT_ELBOW_Y', 'RIGHT_ELBOW_Z',\n",
       "       'LEFT_WRIST_X', 'LEFT_WRIST_Y', 'LEFT_WRIST_Z', 'RIGHT_WRIST_X',\n",
       "       'RIGHT_WRIST_Y', 'RIGHT_WRIST_Z', 'LEFT_HIP_X', 'LEFT_HIP_Y',\n",
       "       'LEFT_HIP_Z', 'RIGHT_HIP_X', 'RIGHT_HIP_Y', 'RIGHT_HIP_Z',\n",
       "       'LEFT_KNEE_X', 'LEFT_KNEE_Y', 'LEFT_KNEE_Z', 'RIGHT_KNEE_X',\n",
       "       'RIGHT_KNEE_Y', 'RIGHT_KNEE_Z', 'LEFT_ANKLE_X', 'LEFT_ANKLE_Y',\n",
       "       'LEFT_ANKLE_Z', 'RIGHT_ANKLE_X', 'RIGHT_ANKLE_Y', 'RIGHT_ANKLE_Z',\n",
       "       'LEFT_HEEL_X', 'LEFT_HEEL_Y', 'LEFT_HEEL_Z', 'RIGHT_HEEL_X',\n",
       "       'RIGHT_HEEL_Y', 'RIGHT_HEEL_Z', 'LEFT_FOOT_INDEX_X',\n",
       "       'LEFT_FOOT_INDEX_Y', 'LEFT_FOOT_INDEX_Z', 'RIGHT_FOOT_INDEX_X',\n",
       "       'RIGHT_FOOT_INDEX_Y', 'RIGHT_FOOT_INDEX_Z', 'File', 'Class_1',\n",
       "       'Class_2', 'Class', 'Timestamp', 'Unnamed: 53', 'DB Scan',\n",
       "       'Unnamed: 51', 'Nose_Right_Wrist_Angle', 'Right_Sho_Wrist Angle',\n",
       "       'Nose_Right_Elbow', 'Left_Sho_Wrist_Angle', 'Nose_Left_Wrist',\n",
       "       'Nose_Left_Elbow'],\n",
       "      dtype='object')"
      ]
     },
     "execution_count": 363,
     "metadata": {},
     "output_type": "execute_result"
    }
   ],
   "source": [
    "model_data.columns"
   ]
  },
  {
   "cell_type": "code",
   "execution_count": 377,
   "id": "574870b5",
   "metadata": {},
   "outputs": [],
   "source": [
    "feature_columns = ['NOSE_X', 'NOSE_Y', 'NOSE_Z', 'LEFT_SHOULDER_X', 'LEFT_SHOULDER_Y',\n",
    "       'LEFT_SHOULDER_Z', 'RIGHT_SHOULDER_X', 'RIGHT_SHOULDER_Y',\n",
    "       'RIGHT_SHOULDER_Z', 'LEFT_ELBOW_X', 'LEFT_ELBOW_Y', 'LEFT_ELBOW_Z',\n",
    "       'RIGHT_ELBOW_X', 'RIGHT_ELBOW_Y', 'RIGHT_ELBOW_Z', 'LEFT_WRIST_X',\n",
    "       'LEFT_WRIST_Y', 'LEFT_WRIST_Z', 'RIGHT_WRIST_X', 'RIGHT_WRIST_Y',\n",
    "       'RIGHT_WRIST_Z', 'LEFT_HIP_X', 'LEFT_HIP_Y', 'LEFT_HIP_Z',\n",
    "       'RIGHT_HIP_X', 'RIGHT_HIP_Y', 'RIGHT_HIP_Z', 'LEFT_KNEE_X',\n",
    "       'LEFT_KNEE_Y', 'LEFT_KNEE_Z', 'RIGHT_KNEE_X', 'RIGHT_KNEE_Y',\n",
    "       'RIGHT_KNEE_Z', 'LEFT_ANKLE_X', 'LEFT_ANKLE_Y', 'LEFT_ANKLE_Z',\n",
    "       'RIGHT_ANKLE_X', 'RIGHT_ANKLE_Y', 'RIGHT_ANKLE_Z', 'LEFT_HEEL_X',\n",
    "       'LEFT_HEEL_Y', 'LEFT_HEEL_Z', 'RIGHT_HEEL_X', 'RIGHT_HEEL_Y',\n",
    "       'RIGHT_HEEL_Z', 'LEFT_FOOT_INDEX_X', 'LEFT_FOOT_INDEX_Y',\n",
    "       'LEFT_FOOT_INDEX_Z', 'RIGHT_FOOT_INDEX_X', 'RIGHT_FOOT_INDEX_Y',\n",
    "       'RIGHT_FOOT_INDEX_Z' ,'Left_Sho_Wrist_Angle','Nose_Left_Wrist',\n",
    "    'Nose_Left_Elbow','Nose_Right_Wrist_Angle','Right_Sho_Wrist Angle','Nose_Right_Elbow','Class_1','Class_2']"
   ]
  },
  {
   "cell_type": "code",
   "execution_count": 365,
   "id": "2e34121f",
   "metadata": {},
   "outputs": [],
   "source": [
    "model_data = classify_data(12,frames,data_path)\n",
    "\n",
    "\n",
    "nose_ryt_wrist = cal_ang(model_data['NOSE_X'],model_data['NOSE_Y'],model_data['RIGHT_WRIST_X'],model_data['RIGHT_WRIST_Y'])\n",
    "sho_ryt_wrist = cal_ang(model_data['RIGHT_SHOULDER_X'],model_data['RIGHT_SHOULDER_Y'],model_data['RIGHT_WRIST_X'],model_data['RIGHT_WRIST_Y'])\n",
    "nose_ryt_elb = cal_ang(model_data['NOSE_X'],model_data['NOSE_Y'],model_data['RIGHT_ELBOW_X'],model_data['RIGHT_ELBOW_Y'])\n",
    "\n",
    "sho_left_wrist = cal_ang(model_data['LEFT_SHOULDER_X'],model_data['LEFT_SHOULDER_Y'],model_data['LEFT_WRIST_X'],model_data['LEFT_WRIST_Y'])\n",
    "nose_left_wrist = cal_ang(model_data['NOSE_X'],model_data['NOSE_Y'],model_data['LEFT_WRIST_X'],model_data['LEFT_WRIST_Y'])\n",
    "nose_left_elb = cal_ang(model_data['NOSE_X'],model_data['NOSE_Y'],model_data['LEFT_ELBOW_X'],model_data['LEFT_ELBOW_Y'])\n",
    "\n",
    "\n",
    "model_data['Nose_Right_Wrist_Angle'] = nose_ryt_wrist \n",
    "model_data['Right_Sho_Wrist Angle'] = sho_ryt_wrist\n",
    "model_data['Nose_Right_Elbow'] = nose_ryt_elb\n",
    "model_data['Left_Sho_Wrist_Angle'] = sho_left_wrist\n",
    "model_data['Nose_Left_Wrist'] = nose_left_wrist\n",
    "model_data['Nose_Left_Elbow'] = nose_left_elb\n",
    "\n",
    "\n",
    "model_data = model_data[feature_columns]\n",
    "\n",
    "#Splitting data for training and prediction\n",
    "\n",
    "input_data = model_data[1205:40747]\n",
    "test = model_data[1:1205]\n",
    "test_kev = model_data[40747:]\n"
   ]
  },
  {
   "cell_type": "code",
   "execution_count": 375,
   "id": "3aaff466",
   "metadata": {},
   "outputs": [
    {
     "data": {
      "image/png": "[encoded data removed]",
      "text/plain": [
       "<Figure size 1584x1800 with 2 Axes>"
      ]
     },
     "metadata": {
      "needs_background": "light"
     },
     "output_type": "display_data"
    }
   ],
   "source": [
    "#Extract co-relation matrix and plot the values greater than 0.98\n",
    "\n",
    "correlation_matrix = model_data.corr()\n",
    "\n",
    "plt.figure(figsize=(22, 25))\n",
    "plt.imshow(correlation_matrix, cmap='coolwarm', interpolation='none')\n",
    "plt.colorbar()\n",
    "plt.xticks(range(len(correlation_matrix.columns)), correlation_matrix.columns, rotation=45)\n",
    "plt.yticks(range(len(correlation_matrix.columns)), correlation_matrix.columns)\n",
    "plt.title('Correlation Coefficient Matrix')\n",
    "plt.show()\n"
   ]
  },
  {
   "cell_type": "code",
   "execution_count": 102,
   "id": "62bb2955",
   "metadata": {},
   "outputs": [],
   "source": [
    "feature_columns = ['NOSE_X', 'NOSE_Y', 'NOSE_Z', 'LEFT_SHOULDER_X', 'LEFT_SHOULDER_Y',\n",
    "       'LEFT_SHOULDER_Z', 'RIGHT_SHOULDER_X', 'RIGHT_SHOULDER_Y',\n",
    "       'RIGHT_SHOULDER_Z', 'LEFT_ELBOW_X', 'LEFT_ELBOW_Y', 'LEFT_ELBOW_Z',\n",
    "       'RIGHT_ELBOW_X', 'RIGHT_ELBOW_Y', 'RIGHT_ELBOW_Z', 'LEFT_WRIST_X',\n",
    "       'LEFT_WRIST_Y', 'LEFT_WRIST_Z', 'RIGHT_WRIST_X', 'RIGHT_WRIST_Y',\n",
    "       'RIGHT_WRIST_Z', 'LEFT_HIP_X', 'LEFT_HIP_Y', 'LEFT_HIP_Z',\n",
    "       'RIGHT_HIP_X', 'RIGHT_HIP_Y', 'RIGHT_HIP_Z', 'LEFT_KNEE_X',\n",
    "       'LEFT_KNEE_Y', 'LEFT_KNEE_Z', 'RIGHT_KNEE_X', 'RIGHT_KNEE_Y',\n",
    "       'RIGHT_KNEE_Z', 'LEFT_ANKLE_X', 'LEFT_ANKLE_Y', 'LEFT_ANKLE_Z',\n",
    "       'RIGHT_ANKLE_X', 'RIGHT_ANKLE_Y', 'RIGHT_ANKLE_Z', 'LEFT_HEEL_X',\n",
    "       'LEFT_HEEL_Y', 'LEFT_HEEL_Z', 'RIGHT_HEEL_X', 'RIGHT_HEEL_Y',\n",
    "       'RIGHT_HEEL_Z', 'LEFT_FOOT_INDEX_X', 'LEFT_FOOT_INDEX_Y',\n",
    "       'LEFT_FOOT_INDEX_Z', 'RIGHT_FOOT_INDEX_X', 'RIGHT_FOOT_INDEX_Y',\n",
    "       'RIGHT_FOOT_INDEX_Z' ,'Left_Sho_Wrist_Angle','Nose_Left_Wrist',\n",
    "    'Nose_Left_Elbow','Nose_Right_Wrist_Angle','Right_Sho_Wrist Angle','Nose_Right_Elbow']"
   ]
  },
  {
   "cell_type": "code",
   "execution_count": 385,
   "id": "c055c8ac",
   "metadata": {},
   "outputs": [
    {
     "data": {
      "text/plain": [
       "(39542, 57)"
      ]
     },
     "execution_count": 385,
     "metadata": {},
     "output_type": "execute_result"
    }
   ],
   "source": [
    "X.shape"
   ]
  },
  {
   "cell_type": "code",
   "execution_count": 387,
   "id": "aa14b1b6",
   "metadata": {},
   "outputs": [
    {
     "name": "stdout",
     "output_type": "stream",
     "text": [
      "Mean Squared Error: 0.07818394003234998\n",
      "[0.0010122707524043537, 0.00020193533005896818, 0.0006637879709188563, 0.0016780124548800778, -0.002338086644198157, -0.002179581013765947, -0.002864243363579483, 0.0019371516887924883, 0.0002406482567394735, 0.0025727163576598528, -0.0013328343338533915, 0.0014915433967388088, -5.5868820689326076e-05, 0.00025826450681608955, -0.0008828776405771422, 0.00013074175247442378, 0.002134918343347979, -0.0003690199386034159, -0.0005621143739789359, 0.0028033096486927652, 0.0005962326820058763, -0.0027461713523381625, -0.003163477602193362, 0.0007539301083425636, -0.0006696996945346926, 0.0004215230669131723, -0.00016518532500304616, -0.0010271973205735851, -0.00036380378694193794, -0.000402648235127134, -0.000446803228893171, 0.00014189069349807522, -0.0005680253328134385, 0.0005670609693218456, -0.00019908158916580638, 0.0006234861191692727, 0.0006323545167961126, -8.716326205786116e-05, 0.0005452998072448521, 0.0015098299065387886, -0.0015946846504465953, 0.00015948632682001135, 0.0023472013846427015, -0.001060432129999327, 0.00035880249836969786, -0.00213584940408628, 0.0019349748342419094, -0.0006284586838765692, -0.0015695614915772487, 0.0013186623425344539, -0.00046532171512949874, -0.08352877037033095, -0.0023861813123106346, 0.06279428767657504, 0.040435638125388515, -0.032136507841741754, 0.04129074304849889]\n"
     ]
    },
    {
     "name": "stderr",
     "output_type": "stream",
     "text": [
      "C:\\Users\\ASUS\\anaconda3\\lib\\site-packages\\sklearn\\linear_model\\_coordinate_descent.py:474: ConvergenceWarning: Objective did not converge. You might want to increase the number of iterations. Duality gap: 1062.772957841085, tolerance: 0.6293700639473948\n",
      "  model = cd_fast.enet_coordinate_descent(\n"
     ]
    }
   ],
   "source": [
    "#Spilitting the train - test of data\n",
    "\n",
    "X = input_data[feature_columns]\n",
    "Y = input_data['Class_1']\n",
    "#Y = input_data['Class_2']\n",
    "\n",
    "label_encoder = preprocessing.LabelEncoder()\n",
    "y = label_encoder.fit_transform(Y)\n",
    "\n",
    "X_train, X_test, y_train, y_test = train_test_split(X, y, test_size=0.3, random_state=None)\n",
    "\n",
    "\n",
    "coef_lis = lasso_cross_val(X_train,X_test,y_train,y_test)\n",
    "\n",
    "new_X = model_data[coef_lis]\n",
    "new_X_train = X_train[coef_lis]\n",
    "new_X_test = X_test[coef_lis]\n",
    "#new_X_train, new_X_test, y_train, y_test = train_test_split(new_X, y, test_size=0.3, random_state= None,shuffle=True)"
   ]
  },
  {
   "cell_type": "code",
   "execution_count": null,
   "id": "fee87938",
   "metadata": {},
   "outputs": [],
   "source": [
    "params,_ = xgb_randomsearch(new_X_train, y_train)\n",
    "xgb_model = XGBClassifier(objective=\"multi:softmax\", num_class=3, **params)\n",
    "xgb_model.fit(new_X_train, y_train)\n",
    "save_tunedmodel(xgb_model)"
   ]
  },
  {
   "cell_type": "code",
   "execution_count": null,
   "id": "5088846a",
   "metadata": {},
   "outputs": [],
   "source": [
    "params,_ = randomforest_randsearch(new_X_train, y_train)\n",
    "rf_model = RandomForestClassifier(**params)\n",
    "rf_model.fit(new_X_train, y_train)\n",
    "save_tunedmodel(rf_model)"
   ]
  },
  {
   "cell_type": "code",
   "execution_count": null,
   "id": "cf453062",
   "metadata": {},
   "outputs": [],
   "source": [
    "accuract,cf, class_report = model_perfomance(y_test,rf_model.predict(new_X_train))"
   ]
  },
  {
   "cell_type": "markdown",
   "id": "69344902",
   "metadata": {},
   "source": [
    "Deep Learning Model"
   ]
  },
  {
   "cell_type": "code",
   "execution_count": 28,
   "id": "1b4b87cb",
   "metadata": {},
   "outputs": [],
   "source": [
    "data=pd.read_csv(r\"C:\\Users\\ASUS\\OneDrive\\Documents\\Academics\\Summer Semester\\Dissertation\\Model_out\\Neural Net In.csv\")"
   ]
  },
  {
   "cell_type": "code",
   "execution_count": 29,
   "id": "1f3dddd0",
   "metadata": {},
   "outputs": [],
   "source": [
    "X = data[data.columns[-10:-4]]\n",
    "Y = data[data.columns[-1]]\n",
    "\n",
    "encoder = LabelEncoder()\n",
    "encoder.fit(Y)\n",
    "Y = encoder.transform(Y)\n",
    "\n",
    "\n",
    "X_train, X_test, Y_train, y_test = train_test_split(X, Y, test_size=0.3)\n",
    "\n",
    "\n",
    "X_test_am = X[:101]\n",
    "Y_test_am = Y[:101]\n",
    "\n",
    "\n",
    "\n",
    "X_test_pro = X[12115:]\n",
    "Y_test_pro = Y[12115:]\n",
    "\n"
   ]
  },
  {
   "cell_type": "code",
   "execution_count": 396,
   "id": "30895367",
   "metadata": {},
   "outputs": [],
   "source": [
    "#Architeture of a simple LSTM model for binary classification\n",
    "X_train, X_test, Y_train, y_test = train_test_split(X, Y, test_size=0.3,random_state=None)\n",
    "\n",
    "model = Sequential()\n",
    "model.add(LSTM(6, activation='relu', input_shape= (6,1)))\n",
    "model.add(Dense(1, activation='sigmoid'))\n",
    "model.compile(optimizer='adam', loss='binary_crossentropy', metrics=['accuracy'])"
   ]
  },
  {
   "cell_type": "code",
   "execution_count": 397,
   "id": "8d3b7981",
   "metadata": {},
   "outputs": [
    {
     "name": "stdout",
     "output_type": "stream",
     "text": [
      "Epoch 1/30\n",
      "1732/1732 [==============================] - 10s 5ms/step - loss: 0.4122 - accuracy: 0.8523 - val_loss: 0.3320 - val_accuracy: 0.8750\n",
      "Epoch 2/30\n",
      "1732/1732 [==============================] - 4s 2ms/step - loss: 0.3079 - accuracy: 0.8652 - val_loss: 0.2377 - val_accuracy: 0.8990\n",
      "Epoch 3/30\n",
      "1732/1732 [==============================] - 4s 2ms/step - loss: 0.2459 - accuracy: 0.8912 - val_loss: 0.2327 - val_accuracy: 0.8877\n",
      "Epoch 4/30\n",
      "1732/1732 [==============================] - 4s 2ms/step - loss: 0.2266 - accuracy: 0.9037 - val_loss: 0.2028 - val_accuracy: 0.9230\n",
      "Epoch 5/30\n",
      "1732/1732 [==============================] - 4s 2ms/step - loss: 0.2191 - accuracy: 0.9085 - val_loss: 0.1998 - val_accuracy: 0.9089\n",
      "Epoch 6/30\n",
      "1732/1732 [==============================] - 4s 2ms/step - loss: 0.2119 - accuracy: 0.9113 - val_loss: 0.2051 - val_accuracy: 0.9054\n",
      "Epoch 7/30\n",
      "1732/1732 [==============================] - 4s 2ms/step - loss: 0.2068 - accuracy: 0.9142 - val_loss: 0.1896 - val_accuracy: 0.9205\n",
      "Epoch 8/30\n",
      "1732/1732 [==============================] - 4s 2ms/step - loss: 0.2019 - accuracy: 0.9148 - val_loss: 0.1842 - val_accuracy: 0.9270\n",
      "Epoch 9/30\n",
      "1732/1732 [==============================] - 4s 2ms/step - loss: 0.1989 - accuracy: 0.9186 - val_loss: 0.1854 - val_accuracy: 0.9278\n",
      "Epoch 10/30\n",
      "1732/1732 [==============================] - 4s 3ms/step - loss: 0.1945 - accuracy: 0.9177 - val_loss: 0.1869 - val_accuracy: 0.9151\n",
      "Epoch 11/30\n",
      "1732/1732 [==============================] - 4s 3ms/step - loss: 0.1924 - accuracy: 0.9196 - val_loss: 0.1740 - val_accuracy: 0.9324\n",
      "Epoch 12/30\n",
      "1732/1732 [==============================] - 4s 2ms/step - loss: 0.1902 - accuracy: 0.9217 - val_loss: 0.1757 - val_accuracy: 0.9332\n",
      "Epoch 13/30\n",
      "1732/1732 [==============================] - 4s 2ms/step - loss: 0.1866 - accuracy: 0.9212 - val_loss: 0.1855 - val_accuracy: 0.9216\n",
      "Epoch 14/30\n",
      "1732/1732 [==============================] - 4s 2ms/step - loss: 0.1855 - accuracy: 0.9233 - val_loss: 0.1639 - val_accuracy: 0.9362\n",
      "Epoch 15/30\n",
      "1732/1732 [==============================] - 4s 2ms/step - loss: 0.1834 - accuracy: 0.9249 - val_loss: 0.1661 - val_accuracy: 0.9383\n",
      "Epoch 16/30\n",
      "1732/1732 [==============================] - 4s 2ms/step - loss: 0.1803 - accuracy: 0.9246 - val_loss: 0.1725 - val_accuracy: 0.9305\n",
      "Epoch 17/30\n",
      "1732/1732 [==============================] - 4s 2ms/step - loss: 0.1777 - accuracy: 0.9233 - val_loss: 0.1669 - val_accuracy: 0.9335\n",
      "Epoch 18/30\n",
      "1732/1732 [==============================] - 4s 2ms/step - loss: 0.1787 - accuracy: 0.9244 - val_loss: 0.1653 - val_accuracy: 0.9337\n",
      "Epoch 19/30\n",
      "1732/1732 [==============================] - 4s 3ms/step - loss: 0.1772 - accuracy: 0.9248 - val_loss: 0.1568 - val_accuracy: 0.9372\n",
      "Epoch 20/30\n",
      "1732/1732 [==============================] - 4s 2ms/step - loss: 0.1757 - accuracy: 0.9242 - val_loss: 0.1703 - val_accuracy: 0.9278\n",
      "Epoch 21/30\n",
      "1732/1732 [==============================] - 4s 2ms/step - loss: 0.1719 - accuracy: 0.9288 - val_loss: 0.1677 - val_accuracy: 0.9256\n",
      "Epoch 22/30\n",
      "1732/1732 [==============================] - 4s 2ms/step - loss: 0.1704 - accuracy: 0.9281 - val_loss: 0.1881 - val_accuracy: 0.9192\n",
      "Epoch 23/30\n",
      "1732/1732 [==============================] - 4s 2ms/step - loss: 0.1700 - accuracy: 0.9278 - val_loss: 0.1619 - val_accuracy: 0.9335\n",
      "Epoch 24/30\n",
      "1732/1732 [==============================] - 4s 2ms/step - loss: 0.1701 - accuracy: 0.9298 - val_loss: 0.1542 - val_accuracy: 0.9356\n",
      "Epoch 25/30\n",
      "1732/1732 [==============================] - 4s 2ms/step - loss: 0.1658 - accuracy: 0.9291 - val_loss: 0.1606 - val_accuracy: 0.9321\n",
      "Epoch 26/30\n",
      "1732/1732 [==============================] - 5s 3ms/step - loss: 0.1643 - accuracy: 0.9303 - val_loss: 0.1456 - val_accuracy: 0.9434\n",
      "Epoch 27/30\n",
      "1732/1732 [==============================] - 4s 2ms/step - loss: 0.1630 - accuracy: 0.9290 - val_loss: 0.1472 - val_accuracy: 0.9364\n",
      "Epoch 28/30\n",
      "1732/1732 [==============================] - 4s 3ms/step - loss: 0.1568 - accuracy: 0.9355 - val_loss: 0.1444 - val_accuracy: 0.9440\n",
      "Epoch 29/30\n",
      "1732/1732 [==============================] - 4s 2ms/step - loss: 0.1555 - accuracy: 0.9346 - val_loss: 0.1404 - val_accuracy: 0.9423\n",
      "Epoch 30/30\n",
      "1732/1732 [==============================] - 4s 2ms/step - loss: 0.1525 - accuracy: 0.9358 - val_loss: 0.1389 - val_accuracy: 0.9461\n"
     ]
    }
   ],
   "source": [
    "lstm = model.fit(X_train,Y_train, batch_size=5, epochs=30,validation_data=(X_test, y_test))"
   ]
  },
  {
   "cell_type": "code",
   "execution_count": 407,
   "id": "e49653d4",
   "metadata": {},
   "outputs": [
    {
     "data": {
      "image/png": "[encoded data removed]",
      "text/plain": [
       "<Figure size 432x288 with 1 Axes>"
      ]
     },
     "metadata": {
      "needs_background": "light"
     },
     "output_type": "display_data"
    }
   ],
   "source": [
    "train_loss = lstm.history['loss']\n",
    "val_loss = lstm.history['val_loss']\n",
    "loss_graph(train_loss,val_loss)\n",
    "\n",
    "y_pred = lstm.model.predict(X_test)\n",
    "\n",
    "#lstm_acc,lstm_cm,lstm_class = model_perfomance(y_test,y_pred)\n"
   ]
  },
  {
   "cell_type": "code",
   "execution_count": null,
   "id": "34309f89",
   "metadata": {},
   "outputs": [],
   "source": [
    "lstm.model.save(r\"C:\\Users\\ASUS\\OneDrive\\Documents\\Academics\\Summer Semester\\Dissertation\\Models\\LSTM\\new_lstm\\\\\")"
   ]
  },
  {
   "cell_type": "code",
   "execution_count": 402,
   "id": "278f6247",
   "metadata": {},
   "outputs": [],
   "source": [
    "# Function to build your Keras model\n",
    "\n",
    "def build_model(hidden_units=32, activation='relu', dropout=0.0, num_layers=1):\n",
    "    model = Sequential()\n",
    "    model.add(Dense(hidden_units, input_dim=X_train.shape[1], activation=activation))\n",
    "    \n",
    "    model.add(Dense(hidden_units, input_dim=X_train.shape[1], activation=activation))\n",
    "    \n",
    "    model.add(Dropout(dropout)) \n",
    "    \n",
    "    model.add(Dense(1, activation='sigmoid'))\n",
    "    model.compile(loss='binary_crossentropy', optimizer='adam', metrics=['accuracy'])\n",
    "    return model\n",
    "\n",
    "# Create a KerasClassifier with the build_model function\n",
    "model = KerasClassifier(build_fn=build_model, verbose=0)\n",
    "\n",
    "# Define parameter grid for GridSearch\n",
    "param_grid = {\n",
    "    'hidden_units': [5,6,8,32],\n",
    "    'batch_size' : [5,10,20,25],\n",
    "    'dropout_rate': [0.0, 0.2, 0.4],\n",
    "    'activation' : ['tanh','relu','sigmoid'],\n",
    "    'num_layers': [1, 2, 3]\n",
    "}\n",
    "\n"
   ]
  },
  {
   "cell_type": "code",
   "execution_count": 18,
   "id": "70b0ea4e",
   "metadata": {},
   "outputs": [],
   "source": [
    "# Perform GridSearchCV for hyperparameters\n",
    "kfold = StratifiedKFold(n_splits=5, shuffle=True)\n",
    "grid_search = GridSearchCV(estimator=model, param_grid=param_grid, scoring='roc_auc', cv=kfold, verbose=1)\n",
    "grid_out = grid_search.fit(X_train, Y_train)\n",
    "\n",
    "print(\"Best: %f using %s\" % (grid_out.best_score_, grid_out.best_params_))"
   ]
  },
  {
   "cell_type": "markdown",
   "id": "dc0cc92c",
   "metadata": {},
   "source": [
    "Best: 0.934533 using {'activation': 'relu', 'batch_size': 5, 'dropout_rate': 0.0, 'hidden_units': 32, 'num_layers': 3}"
   ]
  },
  {
   "cell_type": "code",
   "execution_count": null,
   "id": "f9e2701b",
   "metadata": {},
   "outputs": [],
   "source": [
    "keras_model = estimator.fit(X_train,y_train)"
   ]
  },
  {
   "cell_type": "code",
   "execution_count": null,
   "id": "5c5a1a49",
   "metadata": {},
   "outputs": [],
   "source": [
    "accuracy,cf, class_report = model_perfomance(y_test,keras_model.predict(new_X_train))"
   ]
  },
  {
   "cell_type": "code",
   "execution_count": null,
   "id": "ee7df6d2",
   "metadata": {},
   "outputs": [],
   "source": [
    "train_loss = ker_model.history['loss']\n",
    "val_loss = ker_model.history['val_loss']\n",
    "loss_graph(train_loss,val_loss)"
   ]
  },
  {
   "cell_type": "code",
   "execution_count": 32,
   "id": "70dc971e",
   "metadata": {},
   "outputs": [
    {
     "name": "stdout",
     "output_type": "stream",
     "text": [
      "(0.8855064655172413, array([[ 359,  402],\n",
      "       [  23, 2928]], dtype=int64), '              precision    recall  f1-score   support\\n\\n           0       0.94      0.47      0.63       761\\n           1       0.88      0.99      0.93      2951\\n\\n    accuracy                           0.89      3712\\n   macro avg       0.91      0.73      0.78      3712\\nweighted avg       0.89      0.89      0.87      3712\\n')\n"
     ]
    }
   ],
   "source": [
    "y_pred = np.round(ker_model.predict(X_test))\n",
    "print(model_perfomance(y_test,y_pred))"
   ]
  },
  {
   "cell_type": "code",
   "execution_count": 44,
   "id": "aec63dc2",
   "metadata": {},
   "outputs": [
    {
     "data": {
      "image/png": "[encoded data removed]",
      "text/plain": [
       "<Figure size 432x288 with 1 Axes>"
      ]
     },
     "metadata": {
      "needs_background": "light"
     },
     "output_type": "display_data"
    }
   ],
   "source": [
    "draw_auc(y_test,y_pred)"
   ]
  },
  {
   "cell_type": "code",
   "execution_count": null,
   "id": "b4327675",
   "metadata": {},
   "outputs": [],
   "source": [
    "keras_model.save(r'C:\\Users\\ASUS\\OneDrive\\Documents\\Academics\\Summer Semester\\Dissertation\\Models\\Keras\\Keras_17_8.keras')"
   ]
  },
  {
   "cell_type": "code",
   "execution_count": null,
   "id": "671459de",
   "metadata": {},
   "outputs": [],
   "source": [
    "out = ker_model.predict(X_test_pro)\n",
    "message(out)\n",
    "#print(hit,toss,mid)"
   ]
  },
  {
   "cell_type": "code",
   "execution_count": 20,
   "id": "c93b546e",
   "metadata": {},
   "outputs": [
    {
     "name": "stdout",
     "output_type": "stream",
     "text": [
      "WARNING:tensorflow:Error in loading the saved optimizer state. As a result, your model is starting with a freshly initialized optimizer.\n"
     ]
    }
   ],
   "source": [
    "xgBoost_hit = pickle.load(open(r\"C:\\Users\\ASUS\\OneDrive\\Documents\\Academics\\Summer Semester\\Dissertation\\Models\\Hit model\\xgb_model.pkl\",\"rb\"))\n",
    "\n",
    "xgBoost_toss = pickle.load(open(r\"C:\\Users\\ASUS\\OneDrive\\Documents\\Academics\\Summer Semester\\Dissertation\\Models\\Hit model\\xgb_model.pkl\", \"rb\"))\n",
    "\n",
    "ker_model = keras.models.load_model(r\"C:\\Users\\ASUS\\OneDrive\\Documents\\Academics\\Summer Semester\\Dissertation\\Models\\Keras\\Keras_17_8.keras\")\n",
    "\n",
    "lstm_model = load_model(r\"C:\\Users\\ASUS\\OneDrive\\Documents\\Academics\\Summer Semester\\Dissertation\\Models\\LSTM\\old_lstm\\\\\")"
   ]
  },
  {
   "cell_type": "code",
   "execution_count": 94,
   "id": "593b7a3b",
   "metadata": {},
   "outputs": [],
   "source": [
    "#Reading video using cv2\n",
    "\n",
    "\n",
    "cap = cv2.VideoCapture(r\"C:\\Users\\ASUS\\OneDrive\\Documents\\Academics\\Summer Semester\\Dataset\\Test\\20230802_183702.mp4\")\n",
    "\n",
    "#cap = cv2.VideoCapture(r\"C:\\Users\\ASUS\\OneDrive\\Documents\\Academics\\Summer Semester\\Dataset\\Test\\cam 5 slow.mov\")\n",
    "    \n",
    "#cap = cv2.VideoCapture(r\"C:\\Users\\ASUS\\OneDrive\\Documents\\Academics\\Summer Semester\\Dataset\\Test\\ewan 3 slow.mov\")\n",
    "\n",
    "#cap = cv2.VideoCapture(r\"C:\\Users\\ASUS\\OneDrive\\Documents\\Academics\\Summer Semester\\Dataset\\Test\\Kev s 1.mov\")\n",
    "        \n",
    "df = process_video(cap)"
   ]
  },
  {
   "cell_type": "code",
   "execution_count": 95,
   "id": "a3af3e56",
   "metadata": {},
   "outputs": [],
   "source": [
    "nose_ryt_wrist = cal_ang(df['NOSE_X'],df['NOSE_Y'],df['RIGHT_WRIST_X'],df['RIGHT_WRIST_Y'])\n",
    "sho_ryt_wrist = cal_ang(df['RIGHT_SHOULDER_X'],df['RIGHT_SHOULDER_Y'],df['RIGHT_WRIST_X'],df['RIGHT_WRIST_Y'])\n",
    "nose_ryt_elb = cal_ang(df['NOSE_X'],df['NOSE_Y'],df['RIGHT_ELBOW_X'],df['RIGHT_ELBOW_Y'])\n",
    "\n",
    "sho_left_wrist = cal_ang(df['LEFT_SHOULDER_X'],df['LEFT_SHOULDER_Y'],df['LEFT_WRIST_X'],df['LEFT_WRIST_Y'])\n",
    "nose_left_wrist = cal_ang(df['NOSE_X'],df['NOSE_Y'],df['LEFT_WRIST_X'],df['LEFT_WRIST_Y'])\n",
    "nose_left_elb = cal_ang(df['NOSE_X'],df['NOSE_Y'],df['LEFT_ELBOW_X'],df['LEFT_ELBOW_Y'])\n",
    "\n",
    "\n",
    "df['Nose_Right_Wrist_Angle'] = nose_ryt_wrist \n",
    "df['Right_Sho_Wrist Angle'] = sho_ryt_wrist\n",
    "df['Nose_Right_Elbow'] = nose_ryt_elb\n",
    "df['Left_Sho_Wrist_Angle'] = sho_left_wrist\n",
    "df['Nose_Left_Wrist'] = nose_left_wrist\n",
    "df['Nose_Left_Elbow'] = nose_left_elb\n"
   ]
  },
  {
   "cell_type": "code",
   "execution_count": 96,
   "id": "20444395",
   "metadata": {},
   "outputs": [],
   "source": [
    "coef_lis = df.columns\n",
    "\n",
    "Pred = df[coef_lis]"
   ]
  },
  {
   "cell_type": "code",
   "execution_count": 97,
   "id": "b7c6fde8",
   "metadata": {},
   "outputs": [],
   "source": [
    "class1 = xgBoost_hit.predict(Pred[xgBoost_hit.feature_names_in_])\n",
    "class2 = xgBoost_toss.predict(Pred[xgBoost_toss.feature_names_in_])\n",
    "df['Class_1'] = class1\n",
    "df['Class_2'] = class2"
   ]
  },
  {
   "cell_type": "code",
   "execution_count": 98,
   "id": "819e4f7d",
   "metadata": {},
   "outputs": [],
   "source": [
    "start,stop = find_index(df)"
   ]
  },
  {
   "cell_type": "code",
   "execution_count": 99,
   "id": "cc4dfb6e",
   "metadata": {},
   "outputs": [],
   "source": [
    "\n",
    "#Taking only the key frame's data from the dataframe\n",
    "\n",
    "new_df = df.iloc[start:stop+5]\n",
    "new_df = new_df[new_df.columns[:-2]]"
   ]
  },
  {
   "cell_type": "code",
   "execution_count": 100,
   "id": "47728077",
   "metadata": {},
   "outputs": [
    {
     "name": "stdout",
     "output_type": "stream",
     "text": [
      "Hello.............\n",
      "You are an unprofessional Player...\n",
      "Your way of tossing the ball and getting prepared for hitting the ball and the hit can be improved..\n"
     ]
    }
   ],
   "source": [
    "input_data = new_df.iloc[-1][-6:].values.reshape(1, 6, 1)  # Reshape input data to (1, 6, 1) shape\n",
    "\n",
    "Output = lstm_model.predict(input_data)\n",
    "\n",
    "message(Output)\n"
   ]
  },
  {
   "cell_type": "code",
   "execution_count": 101,
   "id": "6168e4b1",
   "metadata": {},
   "outputs": [
    {
     "data": {
      "text/plain": [
       "array([[0.00190687]], dtype=float32)"
      ]
     },
     "execution_count": 101,
     "metadata": {},
     "output_type": "execute_result"
    }
   ],
   "source": [
    "Output"
   ]
  },
  {
   "cell_type": "code",
   "execution_count": null,
   "id": "e4e0466b",
   "metadata": {},
   "outputs": [],
   "source": []
  },
  {
   "cell_type": "code",
   "execution_count": null,
   "id": "13dbabe3",
   "metadata": {},
   "outputs": [],
   "source": []
  },
  {
   "cell_type": "code",
   "execution_count": null,
   "id": "cc8a46d1",
   "metadata": {},
   "outputs": [],
   "source": []
  },
  {
   "cell_type": "code",
   "execution_count": null,
   "id": "e11edd6f",
   "metadata": {},
   "outputs": [],
   "source": []
  },
  {
   "cell_type": "code",
   "execution_count": null,
   "id": "c6153892",
   "metadata": {},
   "outputs": [],
   "source": []
  },
  {
   "cell_type": "code",
   "execution_count": null,
   "id": "8e181d2c",
   "metadata": {},
   "outputs": [],
   "source": []
  },
  {
   "cell_type": "code",
   "execution_count": null,
   "id": "837557d3",
   "metadata": {},
   "outputs": [],
   "source": []
  },
  {
   "cell_type": "code",
   "execution_count": null,
   "id": "91e317c3",
   "metadata": {},
   "outputs": [],
   "source": []
  },
  {
   "cell_type": "code",
   "execution_count": null,
   "id": "79cacf46",
   "metadata": {},
   "outputs": [],
   "source": []
  },
  {
   "cell_type": "code",
   "execution_count": null,
   "id": "2ba0d1fa",
   "metadata": {},
   "outputs": [],
   "source": []
  }
 ],
 "metadata": {
  "kernelspec": {
   "display_name": "Python 3",
   "language": "python",
   "name": "python3"
  },
  "language_info": {
   "codemirror_mode": {
    "name": "ipython",
    "version": 3
   },
   "file_extension": ".py",
   "mimetype": "text/x-python",
   "name": "python",
   "nbconvert_exporter": "python",
   "pygments_lexer": "ipython3",
   "version": "3.8.8"
  }
 },
 "nbformat": 4,
 "nbformat_minor": 5
}
