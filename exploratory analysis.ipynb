{
 "cells": [
  {
   "cell_type": "markdown",
   "id": "50a99c69",
   "metadata": {},
   "source": [
    "**Professional Players**--\n",
    "Body orientation to the court,\n",
    "Racket drop after ball hit,\n",
    "Advanced serves use pronation while serving the ball,\n",
    "The final jump - all land on one foot inside the court, with their momentum going forward\n"
   ]
  },
  {
   "cell_type": "markdown",
   "id": "cdf30a86",
   "metadata": {},
   "source": [
    "**Wrong serves**---\n",
    "Hand rotating,\n",
    "body orientation to the court"
   ]
  },
  {
   "cell_type": "markdown",
   "id": "7709631c",
   "metadata": {},
   "source": [
    "**Serves classification**\n",
    "the flat (limited spin), slice (sidespin), and topspin “kick” serves "
   ]
  },
  {
   "cell_type": "code",
   "execution_count": 1,
   "id": "8bc1052f",
   "metadata": {},
   "outputs": [
    {
     "name": "stdout",
     "output_type": "stream",
     "text": [
      "pygame 2.5.0 (SDL 2.28.0, Python 3.8.8)\n",
      "Hello from the pygame community. https://www.pygame.org/contribute.html\n"
     ]
    }
   ],
   "source": [
    "import os\n",
    "import pandas as pd\n",
    "import numpy as np\n",
    "import matplotlib.pyplot as plt\n",
    "import math\n",
    "import pygame\n",
    "import pickle\n",
    "\n",
    "from sklearn.model_selection import train_test_split\n",
    "\n",
    "from sklearn import preprocessing\n",
    "from sklearn.tree import DecisionTreeClassifier\n",
    "from sklearn.ensemble import RandomForestClassifier\n",
    "from sklearn.preprocessing import StandardScaler\n",
    "from sklearn.decomposition import PCA\n",
    "from sklearn.metrics import accuracy_score, precision_score, recall_score, f1_score\n",
    "\n",
    "from sklearn.linear_model import LogisticRegression\n",
    "from sklearn.model_selection import train_test_split\n",
    "from sklearn.metrics import classification_report\n",
    "\n",
    "from sklearn.model_selection import GridSearchCV\n",
    "from sklearn.linear_model import Lasso\n",
    "from sklearn.model_selection import train_test_split\n",
    "from sklearn.metrics import mean_squared_error\n"
   ]
  },
  {
   "cell_type": "code",
   "execution_count": 2,
   "id": "eb642324",
   "metadata": {},
   "outputs": [],
   "source": [
    "ball_release = pd.read_csv(r\"C:\\Users\\ASUS\\OneDrive\\Documents\\Academics\\Summer Semester\\Dataset\\tossstartframes.csv\",header=None)\n",
    "data_path = r\"C:\\Users\\ASUS\\OneDrive\\Documents\\Academics\\Summer Semester\\Dataset\\CSVs\\\\\"\n",
    "test_data = pd.read_excel(r\"C:\\Users\\ASUS\\OneDrive\\Documents\\Academics\\Summer Semester\\Dataset\\model_inout\\test_25-06.xlsx\")\n",
    "frames = pd.read_csv(r\"C:\\Users\\ASUS\\OneDrive\\Documents\\Academics\\Summer Semester\\Dataset\\frames.csv\")\n",
    "cont_frames = pd.read_csv(r\"C:\\Users\\ASUS\\OneDrive\\Documents\\Academics\\Summer Semester\\Dataset\\contactframes.csv\")\n",
    "ball_toss = pd.read_csv(r\"C:\\Users\\ASUS\\OneDrive\\Documents\\Academics\\Summer Semester\\Dataset\\tossstartframes.csv\")"
   ]
  },
  {
   "cell_type": "code",
   "execution_count": 3,
   "id": "7cb5bb49",
   "metadata": {},
   "outputs": [],
   "source": [
    "def classify_data(range_value,file,data_path,bl_toss):\n",
    "    data_list = []\n",
    "    class_list = []\n",
    "    ball_toss = []\n",
    "\n",
    "    for i in range(len(frames)):\n",
    "            #print(i)\n",
    "            file_name = frames.iloc[i][0]\n",
    "            toss_row = frames.iloc[i][1]\n",
    "            hit_row = frames.iloc[i][2]\n",
    "\n",
    "            for csv in os.listdir(data_path):\n",
    "\n",
    "                if file_name in csv:\n",
    "                        #print(\"\\n\",file_name)\n",
    "                        data = pd.read_csv(data_path+\"\\\\\"+csv)\n",
    "                        #print(data)\n",
    "                        class_list = [\"Before\" for i in range(0,hit_row-range_value)]\n",
    "                        class_list.extend([\"Hit\" for i in range(hit_row-range_value,hit_row+range_value)])\n",
    "                        class_list.extend([\"After\" for i in range(hit_row+range_value,len(data))])\n",
    "\n",
    "                        ball_toss = [\"Before Toss\" for i in range(0,toss_row-range_value)]\n",
    "                        ball_toss.extend([\"Toss\" for i in range(toss_row-range_value,toss_row+range_value)])\n",
    "                        ball_toss.extend([\"After Toss\" for i in range(toss_row+range_value,len(data))])\n",
    "\n",
    "                        file_list = [file_name for i in range(len(data))]\n",
    "                        data = data.assign(File=file_list,Class_1=class_list,Class_2=ball_toss)\n",
    "                        data_list.append(data)   \n",
    "                        dataframe = pd.concat(data_list)\n",
    "            #print(len(class_list),len(ball_toss),len(file_list)) \n",
    "    return dataframe"
   ]
  },
  {
   "cell_type": "code",
   "execution_count": 4,
   "id": "da5708f8",
   "metadata": {},
   "outputs": [],
   "source": [
    "def cal_ang(df):\n",
    "    \n",
    "    nose_wrist_angle = []\n",
    "    wrist_sho_angle = []\n",
    "    \n",
    "    \n",
    "    for x1,y1,x2,y2 in zip(model_data[\"NOSE_X\"],model_data['NOSE_Y'],model_data['RIGHT_WRIST_X'],model_data['RIGHT_WRIST_Y']):\n",
    "\n",
    "            #print(slope1,slope2)\n",
    "        nose_wrist_angle.append(pygame.math.Vector2(x1, y1).angle_to((x2, y2)))\n",
    "    \n",
    "    for x1,y1,x2,y2 in zip(model_data[\"LEFT_WRIST_X\"],model_data['LEFT_WRIST_Y'],model_data['RIGHT_SHOULDER_X'],model_data['RIGHT_SHOULDER_Y']):\n",
    "        \n",
    "        #print(slope1,slope2)\n",
    "        wrist_sho_angle.append(pygame.math.Vector2(x1, y1).angle_to((x2, y2)))\n",
    "        \n",
    "    return nose_wrist_angle,wrist_sho_angle\n"
   ]
  },
  {
   "cell_type": "code",
   "execution_count": 5,
   "id": "6d615e91",
   "metadata": {
    "scrolled": true
   },
   "outputs": [],
   "source": [
    "model_data = classify_data(12,cont_frames,data_path,ball_toss)\n",
    "\n",
    "model_data = model_data.drop(['Class'], axis=1)\n",
    "model_data = model_data.drop(['Unnamed: 51'], axis=1)\n",
    "\n",
    "nose_angle, sho_angle = cal_ang(model_data)\n",
    "\n",
    "model_data['Nose-Wrist Angle'] = nose_angle \n",
    "model_data['Sho-Wrist Angle'] = sho_angle"
   ]
  },
  {
   "cell_type": "code",
   "execution_count": 16,
   "id": "cb8e7206",
   "metadata": {},
   "outputs": [],
   "source": [
    "model_data = model_data.drop(['Unnamed: 55'], axis=1)\n",
    "model_data = model_data.drop(['Unnamed: 56'], axis=1)\n",
    "model_data = model_data.drop(['Unnamed: 57'], axis=1)\n",
    "model_data = model_data.drop(['Unnamed: 58'], axis=1)\n",
    "model_data = model_data.drop(['Unnamed: 0'], axis=1)\n"
   ]
  },
  {
   "cell_type": "code",
   "execution_count": 7,
   "id": "056cd1dc",
   "metadata": {},
   "outputs": [],
   "source": [
    "nose_df = pd.DataFrame(nose_angle)\n",
    "sho_df = pd.DataFrame(sho_angle)\n",
    "nose_df.to_csv(r\"C:\\Users\\ASUS\\OneDrive\\Documents\\Academics\\Summer Semester\\noseeangle.csv\")\n",
    "sho_df.to_csv(r\"C:\\Users\\ASUS\\OneDrive\\Documents\\Academics\\Summer Semester\\shoanglee.csv\")"
   ]
  },
  {
   "cell_type": "code",
   "execution_count": 18,
   "id": "78b8e8b7",
   "metadata": {},
   "outputs": [],
   "source": [
    "model_data = model_data.iloc[569:]"
   ]
  },
  {
   "cell_type": "code",
   "execution_count": 9,
   "id": "2992fe18",
   "metadata": {},
   "outputs": [
    {
     "data": {
      "text/plain": [
       "Index(['NOSE_X', 'NOSE_Y', 'NOSE_Z', 'LEFT_SHOULDER_X', 'LEFT_SHOULDER_Y',\n",
       "       'LEFT_SHOULDER_Z', 'RIGHT_SHOULDER_X', 'RIGHT_SHOULDER_Y',\n",
       "       'RIGHT_SHOULDER_Z', 'LEFT_ELBOW_X', 'LEFT_ELBOW_Y', 'LEFT_ELBOW_Z',\n",
       "       'RIGHT_ELBOW_X', 'RIGHT_ELBOW_Y', 'RIGHT_ELBOW_Z', 'LEFT_WRIST_X',\n",
       "       'LEFT_WRIST_Y', 'LEFT_WRIST_Z', 'RIGHT_WRIST_X', 'RIGHT_WRIST_Y',\n",
       "       'RIGHT_WRIST_Z', 'LEFT_HIP_X', 'LEFT_HIP_Y', 'LEFT_HIP_Z',\n",
       "       'RIGHT_HIP_X', 'RIGHT_HIP_Y', 'RIGHT_HIP_Z', 'LEFT_KNEE_X',\n",
       "       'LEFT_KNEE_Y', 'LEFT_KNEE_Z', 'RIGHT_KNEE_X', 'RIGHT_KNEE_Y',\n",
       "       'RIGHT_KNEE_Z', 'LEFT_ANKLE_X', 'LEFT_ANKLE_Y', 'LEFT_ANKLE_Z',\n",
       "       'RIGHT_ANKLE_X', 'RIGHT_ANKLE_Y', 'RIGHT_ANKLE_Z', 'LEFT_HEEL_X',\n",
       "       'LEFT_HEEL_Y', 'LEFT_HEEL_Z', 'RIGHT_HEEL_X', 'RIGHT_HEEL_Y',\n",
       "       'RIGHT_HEEL_Z', 'LEFT_FOOT_INDEX_X', 'LEFT_FOOT_INDEX_Y',\n",
       "       'LEFT_FOOT_INDEX_Z', 'RIGHT_FOOT_INDEX_X', 'RIGHT_FOOT_INDEX_Y',\n",
       "       'RIGHT_FOOT_INDEX_Z', 'File', 'Class_1', 'Class_2', 'Nose-Wrist Angle',\n",
       "       'Sho-Wrist Angle'],\n",
       "      dtype='object')"
      ]
     },
     "execution_count": 9,
     "metadata": {},
     "output_type": "execute_result"
    }
   ],
   "source": [
    "model_data.columns"
   ]
  },
  {
   "cell_type": "code",
   "execution_count": 23,
   "id": "57f76636",
   "metadata": {},
   "outputs": [],
   "source": [
    "feature_columns = ['NOSE_X', 'NOSE_Y', 'NOSE_Z', 'LEFT_SHOULDER_X', 'LEFT_SHOULDER_Y',\n",
    "       'LEFT_SHOULDER_Z', 'RIGHT_SHOULDER_X', 'RIGHT_SHOULDER_Y',\n",
    "       'RIGHT_SHOULDER_Z', 'LEFT_ELBOW_X', 'LEFT_ELBOW_Y', 'LEFT_ELBOW_Z',\n",
    "       'RIGHT_ELBOW_X', 'RIGHT_ELBOW_Y', 'RIGHT_ELBOW_Z', 'LEFT_WRIST_X',\n",
    "       'LEFT_WRIST_Y', 'LEFT_WRIST_Z', 'RIGHT_WRIST_X', 'RIGHT_WRIST_Y',\n",
    "       'RIGHT_WRIST_Z', 'LEFT_HIP_X', 'LEFT_HIP_Y', 'LEFT_HIP_Z',\n",
    "       'RIGHT_HIP_X', 'RIGHT_HIP_Y', 'RIGHT_HIP_Z', 'LEFT_KNEE_X',\n",
    "       'LEFT_KNEE_Y', 'LEFT_KNEE_Z', 'RIGHT_KNEE_X', 'RIGHT_KNEE_Y',\n",
    "       'RIGHT_KNEE_Z', 'LEFT_ANKLE_X', 'LEFT_ANKLE_Y', 'LEFT_ANKLE_Z',\n",
    "       'RIGHT_ANKLE_X', 'RIGHT_ANKLE_Y', 'RIGHT_ANKLE_Z', 'LEFT_HEEL_X',\n",
    "       'LEFT_HEEL_Y', 'LEFT_HEEL_Z', 'RIGHT_HEEL_X', 'RIGHT_HEEL_Y',\n",
    "       'RIGHT_HEEL_Z', 'LEFT_FOOT_INDEX_X', 'LEFT_FOOT_INDEX_Y',\n",
    "       'LEFT_FOOT_INDEX_Z', 'RIGHT_FOOT_INDEX_X', 'RIGHT_FOOT_INDEX_Y',\n",
    "       'RIGHT_FOOT_INDEX_Z','Sho_Wri_Angle']"
   ]
  },
  {
   "cell_type": "code",
   "execution_count": null,
   "id": "c9f3da53",
   "metadata": {},
   "outputs": [],
   "source": [
    "model_data.to_csv(r\"C:\\Users\\ASUS\\OneDrive\\Documents\\Academics\\Summer Semester\\dataset_30_06_23.csv\")"
   ]
  },
  {
   "cell_type": "code",
   "execution_count": 10,
   "id": "efba58c9",
   "metadata": {},
   "outputs": [],
   "source": [
    "model_data = pd.read_csv(r\"C:\\Users\\ASUS\\OneDrive\\Documents\\Academics\\Summer Semester\\Dataset\\model_inout\\dataset_28_06_23.csv\")"
   ]
  },
  {
   "cell_type": "code",
   "execution_count": 30,
   "id": "705ef132",
   "metadata": {},
   "outputs": [],
   "source": [
    "data_frame = model_data.reset_index(drop=True)"
   ]
  },
  {
   "cell_type": "code",
   "execution_count": null,
   "id": "ed489948",
   "metadata": {},
   "outputs": [],
   "source": [
    "m1 = y1-x1\n",
    "m2 = y2-x2\n",
    "\n",
    "# Create a figure and axis\n",
    "fig, ax = plt.subplots()\n",
    "\n",
    "# Plot the horizontal line through the first point\n",
    "#ax.axhline(y=y1, color='r', linestyle='--', label='Horizontal Line')\n",
    "\n",
    "# Plot the line between the two points\n",
    "plt.plot([x1,x2],[y1,y2], 'bo', linestyle=\"--\")\n",
    "ax.axhline(y = y2, color='r', label = 'Line')\n",
    "\n",
    "\n",
    "# Set the aspect ratio and limits of the plot\n",
    "ax.set_aspect('equal')\n",
    "ax.set_xlim(min(x1, x2) - 10, max(x1, x2) + 10)\n",
    "ax.set_ylim(min(y1, y2) - 10, max(y1, y2) + 10)\n",
    "\n",
    "\n",
    "#print(min(x1, x2) - 10,\"--\",max(x1, x2) + 10)\n",
    "#print(min(y1, y2) - 10,\"--\",max(y1, y2) + 10)\n",
    "\n",
    "ax.set_xlabel('X')\n",
    "ax.set_ylabel('Y')\n",
    "ax.legend()\n",
    "\n",
    "# Show the plot\n",
    "plt.show()\n"
   ]
  },
  {
   "cell_type": "code",
   "execution_count": null,
   "id": "b4461035",
   "metadata": {},
   "outputs": [],
   "source": []
  },
  {
   "cell_type": "code",
   "execution_count": null,
   "id": "5d36b893",
   "metadata": {},
   "outputs": [],
   "source": [
    "\"\"\"height wrist - height of nose\n",
    "x1= 10\n",
    "x2= 15\n",
    "y1= 5\n",
    "y2= 4\n",
    "\n",
    "pygame.math.Vector2(x1, y1).angle_to((x2, y2))\n",
    "\n",
    "angle = math.degrees(np.arctan((y2-y1)/(x2-x1)))\n",
    "print(angle)\"\"\""
   ]
  },
  {
   "cell_type": "code",
   "execution_count": 35,
   "id": "d096aee0",
   "metadata": {},
   "outputs": [],
   "source": [
    "df_mod_dat = model_data\n",
    "test_data = df_mod_dat[:568]"
   ]
  },
  {
   "cell_type": "code",
   "execution_count": 22,
   "id": "8dbaec94",
   "metadata": {},
   "outputs": [
    {
     "data": {
      "text/plain": [
       "Index(['NOSE_X', 'NOSE_Y', 'NOSE_Z', 'LEFT_SHOULDER_X', 'LEFT_SHOULDER_Y',\n",
       "       'LEFT_SHOULDER_Z', 'RIGHT_SHOULDER_X', 'RIGHT_SHOULDER_Y',\n",
       "       'RIGHT_SHOULDER_Z', 'LEFT_ELBOW_X', 'LEFT_ELBOW_Y', 'LEFT_ELBOW_Z',\n",
       "       'RIGHT_ELBOW_X', 'RIGHT_ELBOW_Y', 'RIGHT_ELBOW_Z', 'LEFT_WRIST_X',\n",
       "       'LEFT_WRIST_Y', 'LEFT_WRIST_Z', 'RIGHT_WRIST_X', 'RIGHT_WRIST_Y',\n",
       "       'RIGHT_WRIST_Z', 'LEFT_HIP_X', 'LEFT_HIP_Y', 'LEFT_HIP_Z',\n",
       "       'RIGHT_HIP_X', 'RIGHT_HIP_Y', 'RIGHT_HIP_Z', 'LEFT_KNEE_X',\n",
       "       'LEFT_KNEE_Y', 'LEFT_KNEE_Z', 'RIGHT_KNEE_X', 'RIGHT_KNEE_Y',\n",
       "       'RIGHT_KNEE_Z', 'LEFT_ANKLE_X', 'LEFT_ANKLE_Y', 'LEFT_ANKLE_Z',\n",
       "       'RIGHT_ANKLE_X', 'RIGHT_ANKLE_Y', 'RIGHT_ANKLE_Z', 'LEFT_HEEL_X',\n",
       "       'LEFT_HEEL_Y', 'LEFT_HEEL_Z', 'RIGHT_HEEL_X', 'RIGHT_HEEL_Y',\n",
       "       'RIGHT_HEEL_Z', 'LEFT_FOOT_INDEX_X', 'LEFT_FOOT_INDEX_Y',\n",
       "       'LEFT_FOOT_INDEX_Z', 'RIGHT_FOOT_INDEX_X', 'RIGHT_FOOT_INDEX_Y',\n",
       "       'RIGHT_FOOT_INDEX_Z', 'Sho_Wri_Angle', 'Nose Angle', 'File', 'Class_1',\n",
       "       'Class_2', 'Class_1 Pred', 'Class_1 Pred.1', 'Class_1 Pred.2',\n",
       "       'Class_2 Prediction'],\n",
       "      dtype='object')"
      ]
     },
     "execution_count": 22,
     "metadata": {},
     "output_type": "execute_result"
    }
   ],
   "source": [
    "model_data.columns"
   ]
  },
  {
   "cell_type": "code",
   "execution_count": 36,
   "id": "e71ea094",
   "metadata": {},
   "outputs": [
    {
     "data": {
      "text/html": [
       "<div>\n",
       "<style scoped>\n",
       "    .dataframe tbody tr th:only-of-type {\n",
       "        vertical-align: middle;\n",
       "    }\n",
       "\n",
       "    .dataframe tbody tr th {\n",
       "        vertical-align: top;\n",
       "    }\n",
       "\n",
       "    .dataframe thead th {\n",
       "        text-align: right;\n",
       "    }\n",
       "</style>\n",
       "<table border=\"1\" class=\"dataframe\">\n",
       "  <thead>\n",
       "    <tr style=\"text-align: right;\">\n",
       "      <th></th>\n",
       "      <th>NOSE_X</th>\n",
       "      <th>NOSE_Y</th>\n",
       "      <th>NOSE_Z</th>\n",
       "      <th>LEFT_SHOULDER_X</th>\n",
       "      <th>LEFT_SHOULDER_Y</th>\n",
       "      <th>LEFT_SHOULDER_Z</th>\n",
       "      <th>RIGHT_SHOULDER_X</th>\n",
       "      <th>RIGHT_SHOULDER_Y</th>\n",
       "      <th>RIGHT_SHOULDER_Z</th>\n",
       "      <th>LEFT_ELBOW_X</th>\n",
       "      <th>...</th>\n",
       "      <th>RIGHT_HEEL_X</th>\n",
       "      <th>RIGHT_HEEL_Y</th>\n",
       "      <th>RIGHT_HEEL_Z</th>\n",
       "      <th>LEFT_FOOT_INDEX_X</th>\n",
       "      <th>LEFT_FOOT_INDEX_Y</th>\n",
       "      <th>LEFT_FOOT_INDEX_Z</th>\n",
       "      <th>RIGHT_FOOT_INDEX_X</th>\n",
       "      <th>RIGHT_FOOT_INDEX_Y</th>\n",
       "      <th>RIGHT_FOOT_INDEX_Z</th>\n",
       "      <th>Sho_Wri_Angle</th>\n",
       "    </tr>\n",
       "  </thead>\n",
       "  <tbody>\n",
       "    <tr>\n",
       "      <th>569</th>\n",
       "      <td>395.586584</td>\n",
       "      <td>851.678162</td>\n",
       "      <td>-121.882914</td>\n",
       "      <td>399.725683</td>\n",
       "      <td>806.766663</td>\n",
       "      <td>34.971888</td>\n",
       "      <td>336.122804</td>\n",
       "      <td>807.260590</td>\n",
       "      <td>-150.791506</td>\n",
       "      <td>435.477297</td>\n",
       "      <td>...</td>\n",
       "      <td>320.951028</td>\n",
       "      <td>529.571533</td>\n",
       "      <td>120.492243</td>\n",
       "      <td>413.672977</td>\n",
       "      <td>519.452438</td>\n",
       "      <td>152.303478</td>\n",
       "      <td>306.993027</td>\n",
       "      <td>516.755485</td>\n",
       "      <td>32.890832</td>\n",
       "      <td>9.641503</td>\n",
       "    </tr>\n",
       "    <tr>\n",
       "      <th>570</th>\n",
       "      <td>395.622182</td>\n",
       "      <td>851.644058</td>\n",
       "      <td>-121.245654</td>\n",
       "      <td>399.788167</td>\n",
       "      <td>806.717911</td>\n",
       "      <td>34.950616</td>\n",
       "      <td>336.318455</td>\n",
       "      <td>807.259522</td>\n",
       "      <td>-149.701649</td>\n",
       "      <td>436.128838</td>\n",
       "      <td>...</td>\n",
       "      <td>320.943561</td>\n",
       "      <td>529.789543</td>\n",
       "      <td>117.732850</td>\n",
       "      <td>413.815219</td>\n",
       "      <td>519.452820</td>\n",
       "      <td>148.500921</td>\n",
       "      <td>307.153487</td>\n",
       "      <td>517.007370</td>\n",
       "      <td>30.704545</td>\n",
       "      <td>9.676623</td>\n",
       "    </tr>\n",
       "    <tr>\n",
       "      <th>571</th>\n",
       "      <td>395.740242</td>\n",
       "      <td>851.530838</td>\n",
       "      <td>-122.451510</td>\n",
       "      <td>399.965708</td>\n",
       "      <td>806.665649</td>\n",
       "      <td>34.977660</td>\n",
       "      <td>336.600237</td>\n",
       "      <td>807.263336</td>\n",
       "      <td>-152.689801</td>\n",
       "      <td>436.923738</td>\n",
       "      <td>...</td>\n",
       "      <td>320.915880</td>\n",
       "      <td>529.840889</td>\n",
       "      <td>120.464584</td>\n",
       "      <td>413.897316</td>\n",
       "      <td>519.453850</td>\n",
       "      <td>158.114365</td>\n",
       "      <td>307.251205</td>\n",
       "      <td>517.232475</td>\n",
       "      <td>31.968804</td>\n",
       "      <td>9.717714</td>\n",
       "    </tr>\n",
       "    <tr>\n",
       "      <th>572</th>\n",
       "      <td>395.833068</td>\n",
       "      <td>851.530533</td>\n",
       "      <td>-122.871394</td>\n",
       "      <td>400.205648</td>\n",
       "      <td>806.639328</td>\n",
       "      <td>34.001420</td>\n",
       "      <td>336.836872</td>\n",
       "      <td>807.261429</td>\n",
       "      <td>-152.743574</td>\n",
       "      <td>437.545195</td>\n",
       "      <td>...</td>\n",
       "      <td>320.912919</td>\n",
       "      <td>529.944954</td>\n",
       "      <td>121.129739</td>\n",
       "      <td>413.965509</td>\n",
       "      <td>519.456902</td>\n",
       "      <td>154.713121</td>\n",
       "      <td>307.322659</td>\n",
       "      <td>517.392883</td>\n",
       "      <td>33.350311</td>\n",
       "      <td>9.761724</td>\n",
       "    </tr>\n",
       "    <tr>\n",
       "      <th>573</th>\n",
       "      <td>395.911496</td>\n",
       "      <td>851.466293</td>\n",
       "      <td>-122.215733</td>\n",
       "      <td>400.276952</td>\n",
       "      <td>806.675873</td>\n",
       "      <td>34.115467</td>\n",
       "      <td>337.037373</td>\n",
       "      <td>807.248383</td>\n",
       "      <td>-152.090896</td>\n",
       "      <td>437.632141</td>\n",
       "      <td>...</td>\n",
       "      <td>320.921974</td>\n",
       "      <td>529.966850</td>\n",
       "      <td>117.221814</td>\n",
       "      <td>414.063699</td>\n",
       "      <td>519.456978</td>\n",
       "      <td>156.283843</td>\n",
       "      <td>307.343044</td>\n",
       "      <td>517.562065</td>\n",
       "      <td>30.536708</td>\n",
       "      <td>9.775344</td>\n",
       "    </tr>\n",
       "    <tr>\n",
       "      <th>...</th>\n",
       "      <td>...</td>\n",
       "      <td>...</td>\n",
       "      <td>...</td>\n",
       "      <td>...</td>\n",
       "      <td>...</td>\n",
       "      <td>...</td>\n",
       "      <td>...</td>\n",
       "      <td>...</td>\n",
       "      <td>...</td>\n",
       "      <td>...</td>\n",
       "      <td>...</td>\n",
       "      <td>...</td>\n",
       "      <td>...</td>\n",
       "      <td>...</td>\n",
       "      <td>...</td>\n",
       "      <td>...</td>\n",
       "      <td>...</td>\n",
       "      <td>...</td>\n",
       "      <td>...</td>\n",
       "      <td>...</td>\n",
       "      <td>...</td>\n",
       "    </tr>\n",
       "    <tr>\n",
       "      <th>32527</th>\n",
       "      <td>651.828852</td>\n",
       "      <td>817.657929</td>\n",
       "      <td>188.215156</td>\n",
       "      <td>590.579435</td>\n",
       "      <td>797.971115</td>\n",
       "      <td>240.326335</td>\n",
       "      <td>641.684180</td>\n",
       "      <td>803.920670</td>\n",
       "      <td>-2.243143</td>\n",
       "      <td>555.525645</td>\n",
       "      <td>...</td>\n",
       "      <td>616.414837</td>\n",
       "      <td>530.519714</td>\n",
       "      <td>-34.980984</td>\n",
       "      <td>486.121695</td>\n",
       "      <td>529.093132</td>\n",
       "      <td>-52.007974</td>\n",
       "      <td>657.904442</td>\n",
       "      <td>544.572754</td>\n",
       "      <td>-53.522585</td>\n",
       "      <td>-0.626207</td>\n",
       "    </tr>\n",
       "    <tr>\n",
       "      <th>32528</th>\n",
       "      <td>653.170692</td>\n",
       "      <td>817.695084</td>\n",
       "      <td>189.345074</td>\n",
       "      <td>592.114001</td>\n",
       "      <td>798.569260</td>\n",
       "      <td>236.453226</td>\n",
       "      <td>643.331298</td>\n",
       "      <td>804.345779</td>\n",
       "      <td>-1.334168</td>\n",
       "      <td>557.476437</td>\n",
       "      <td>...</td>\n",
       "      <td>620.618513</td>\n",
       "      <td>530.720406</td>\n",
       "      <td>-30.921235</td>\n",
       "      <td>486.097298</td>\n",
       "      <td>529.083557</td>\n",
       "      <td>-67.623231</td>\n",
       "      <td>662.537170</td>\n",
       "      <td>546.316910</td>\n",
       "      <td>-49.853468</td>\n",
       "      <td>-0.689641</td>\n",
       "    </tr>\n",
       "    <tr>\n",
       "      <th>32529</th>\n",
       "      <td>654.404561</td>\n",
       "      <td>817.971649</td>\n",
       "      <td>179.370207</td>\n",
       "      <td>593.823781</td>\n",
       "      <td>798.985138</td>\n",
       "      <td>228.952203</td>\n",
       "      <td>644.880391</td>\n",
       "      <td>804.996109</td>\n",
       "      <td>-11.140953</td>\n",
       "      <td>559.070216</td>\n",
       "      <td>...</td>\n",
       "      <td>624.683851</td>\n",
       "      <td>530.975265</td>\n",
       "      <td>-27.992526</td>\n",
       "      <td>486.077042</td>\n",
       "      <td>529.761124</td>\n",
       "      <td>-63.281566</td>\n",
       "      <td>666.900705</td>\n",
       "      <td>548.792229</td>\n",
       "      <td>-45.919912</td>\n",
       "      <td>-0.628664</td>\n",
       "    </tr>\n",
       "    <tr>\n",
       "      <th>32530</th>\n",
       "      <td>655.654122</td>\n",
       "      <td>817.857361</td>\n",
       "      <td>181.545296</td>\n",
       "      <td>594.851818</td>\n",
       "      <td>798.978119</td>\n",
       "      <td>225.683985</td>\n",
       "      <td>645.856555</td>\n",
       "      <td>804.964142</td>\n",
       "      <td>-15.565245</td>\n",
       "      <td>561.265980</td>\n",
       "      <td>...</td>\n",
       "      <td>629.088360</td>\n",
       "      <td>531.133919</td>\n",
       "      <td>-33.269700</td>\n",
       "      <td>486.074574</td>\n",
       "      <td>530.044746</td>\n",
       "      <td>-94.187626</td>\n",
       "      <td>670.501705</td>\n",
       "      <td>551.564140</td>\n",
       "      <td>-52.693911</td>\n",
       "      <td>-0.521422</td>\n",
       "    </tr>\n",
       "    <tr>\n",
       "      <th>32531</th>\n",
       "      <td>656.659205</td>\n",
       "      <td>817.778778</td>\n",
       "      <td>188.100357</td>\n",
       "      <td>595.342534</td>\n",
       "      <td>798.978500</td>\n",
       "      <td>224.983327</td>\n",
       "      <td>646.942924</td>\n",
       "      <td>805.190964</td>\n",
       "      <td>-9.334124</td>\n",
       "      <td>561.796188</td>\n",
       "      <td>...</td>\n",
       "      <td>633.131812</td>\n",
       "      <td>531.189384</td>\n",
       "      <td>-45.449442</td>\n",
       "      <td>486.316702</td>\n",
       "      <td>530.256462</td>\n",
       "      <td>-89.807176</td>\n",
       "      <td>674.728963</td>\n",
       "      <td>553.368454</td>\n",
       "      <td>-66.136408</td>\n",
       "      <td>-0.520251</td>\n",
       "    </tr>\n",
       "  </tbody>\n",
       "</table>\n",
       "<p>31963 rows × 52 columns</p>\n",
       "</div>"
      ],
      "text/plain": [
       "           NOSE_X      NOSE_Y      NOSE_Z  LEFT_SHOULDER_X  LEFT_SHOULDER_Y  \\\n",
       "569    395.586584  851.678162 -121.882914       399.725683       806.766663   \n",
       "570    395.622182  851.644058 -121.245654       399.788167       806.717911   \n",
       "571    395.740242  851.530838 -122.451510       399.965708       806.665649   \n",
       "572    395.833068  851.530533 -122.871394       400.205648       806.639328   \n",
       "573    395.911496  851.466293 -122.215733       400.276952       806.675873   \n",
       "...           ...         ...         ...              ...              ...   \n",
       "32527  651.828852  817.657929  188.215156       590.579435       797.971115   \n",
       "32528  653.170692  817.695084  189.345074       592.114001       798.569260   \n",
       "32529  654.404561  817.971649  179.370207       593.823781       798.985138   \n",
       "32530  655.654122  817.857361  181.545296       594.851818       798.978119   \n",
       "32531  656.659205  817.778778  188.100357       595.342534       798.978500   \n",
       "\n",
       "       LEFT_SHOULDER_Z  RIGHT_SHOULDER_X  RIGHT_SHOULDER_Y  RIGHT_SHOULDER_Z  \\\n",
       "569          34.971888        336.122804        807.260590       -150.791506   \n",
       "570          34.950616        336.318455        807.259522       -149.701649   \n",
       "571          34.977660        336.600237        807.263336       -152.689801   \n",
       "572          34.001420        336.836872        807.261429       -152.743574   \n",
       "573          34.115467        337.037373        807.248383       -152.090896   \n",
       "...                ...               ...               ...               ...   \n",
       "32527       240.326335        641.684180        803.920670         -2.243143   \n",
       "32528       236.453226        643.331298        804.345779         -1.334168   \n",
       "32529       228.952203        644.880391        804.996109        -11.140953   \n",
       "32530       225.683985        645.856555        804.964142        -15.565245   \n",
       "32531       224.983327        646.942924        805.190964         -9.334124   \n",
       "\n",
       "       LEFT_ELBOW_X  ...  RIGHT_HEEL_X  RIGHT_HEEL_Y  RIGHT_HEEL_Z  \\\n",
       "569      435.477297  ...    320.951028    529.571533    120.492243   \n",
       "570      436.128838  ...    320.943561    529.789543    117.732850   \n",
       "571      436.923738  ...    320.915880    529.840889    120.464584   \n",
       "572      437.545195  ...    320.912919    529.944954    121.129739   \n",
       "573      437.632141  ...    320.921974    529.966850    117.221814   \n",
       "...             ...  ...           ...           ...           ...   \n",
       "32527    555.525645  ...    616.414837    530.519714    -34.980984   \n",
       "32528    557.476437  ...    620.618513    530.720406    -30.921235   \n",
       "32529    559.070216  ...    624.683851    530.975265    -27.992526   \n",
       "32530    561.265980  ...    629.088360    531.133919    -33.269700   \n",
       "32531    561.796188  ...    633.131812    531.189384    -45.449442   \n",
       "\n",
       "       LEFT_FOOT_INDEX_X  LEFT_FOOT_INDEX_Y  LEFT_FOOT_INDEX_Z  \\\n",
       "569           413.672977         519.452438         152.303478   \n",
       "570           413.815219         519.452820         148.500921   \n",
       "571           413.897316         519.453850         158.114365   \n",
       "572           413.965509         519.456902         154.713121   \n",
       "573           414.063699         519.456978         156.283843   \n",
       "...                  ...                ...                ...   \n",
       "32527         486.121695         529.093132         -52.007974   \n",
       "32528         486.097298         529.083557         -67.623231   \n",
       "32529         486.077042         529.761124         -63.281566   \n",
       "32530         486.074574         530.044746         -94.187626   \n",
       "32531         486.316702         530.256462         -89.807176   \n",
       "\n",
       "       RIGHT_FOOT_INDEX_X  RIGHT_FOOT_INDEX_Y  RIGHT_FOOT_INDEX_Z  \\\n",
       "569            306.993027          516.755485           32.890832   \n",
       "570            307.153487          517.007370           30.704545   \n",
       "571            307.251205          517.232475           31.968804   \n",
       "572            307.322659          517.392883           33.350311   \n",
       "573            307.343044          517.562065           30.536708   \n",
       "...                   ...                 ...                 ...   \n",
       "32527          657.904442          544.572754          -53.522585   \n",
       "32528          662.537170          546.316910          -49.853468   \n",
       "32529          666.900705          548.792229          -45.919912   \n",
       "32530          670.501705          551.564140          -52.693911   \n",
       "32531          674.728963          553.368454          -66.136408   \n",
       "\n",
       "       Sho_Wri_Angle  \n",
       "569         9.641503  \n",
       "570         9.676623  \n",
       "571         9.717714  \n",
       "572         9.761724  \n",
       "573         9.775344  \n",
       "...              ...  \n",
       "32527      -0.626207  \n",
       "32528      -0.689641  \n",
       "32529      -0.628664  \n",
       "32530      -0.521422  \n",
       "32531      -0.520251  \n",
       "\n",
       "[31963 rows x 52 columns]"
      ]
     },
     "execution_count": 36,
     "metadata": {},
     "output_type": "execute_result"
    }
   ],
   "source": [
    "df_mod_dat[feature_columns]"
   ]
  },
  {
   "cell_type": "code",
   "execution_count": 37,
   "id": "05172984",
   "metadata": {},
   "outputs": [],
   "source": [
    "X = df_mod_dat[feature_columns]\n",
    "Y = df_mod_dat['Class_1']\n",
    "\n",
    "label_encoder = preprocessing.LabelEncoder()\n",
    "y = label_encoder.fit_transform(Y)\n",
    "\n",
    "X_train, X_test, y_train, y_test = train_test_split(X, y, test_size=0.3, random_state=42)"
   ]
  },
  {
   "cell_type": "code",
   "execution_count": 41,
   "id": "ccdcd63b",
   "metadata": {},
   "outputs": [
    {
     "name": "stdout",
     "output_type": "stream",
     "text": [
      "Mean Squared Error: 0.039475967538253186\n"
     ]
    },
    {
     "name": "stderr",
     "output_type": "stream",
     "text": [
      "C:\\Users\\ASUS\\anaconda3\\lib\\site-packages\\sklearn\\linear_model\\_coordinate_descent.py:631: ConvergenceWarning: Objective did not converge. You might want to increase the number of iterations, check the scale of the features or consider increasing regularisation. Duality gap: 5.348e+00, tolerance: 5.055e-01\n",
      "  model = cd_fast.enet_coordinate_descent(\n"
     ]
    }
   ],
   "source": [
    "lasso = Lasso(alpha=0.1)\n",
    "\n",
    "lasso.fit(X_train, y_train)\n",
    "\n",
    "y_pred = lasso.predict(X_test)\n",
    "\n",
    "mse = mean_squared_error(y_test, y_pred)\n",
    "print(\"Mean Squared Error:\", mse)\n",
    "\n",
    "coefficients = pd.DataFrame({'Features': X_train.columns, 'Coefficients': lasso.coef_})\n",
    "\n",
    "coef_lis =[]\n",
    "\n",
    "for j in range(len(coefficients)):\n",
    "    if coefficients.iloc[j][1]!= 0:\n",
    "        coef_lis.append((coefficients.iloc[j][0]))\n",
    "        \n",
    "coef_lis.append('Nose Angle')\n",
    "        \n",
    "    \n",
    "#print(([i for i in coefficients['Coefficients'] if i!=0]))\n"
   ]
  },
  {
   "cell_type": "code",
   "execution_count": 42,
   "id": "5a6e8410",
   "metadata": {},
   "outputs": [
    {
     "data": {
      "text/plain": [
       "['NOSE_X',\n",
       " 'NOSE_Y',\n",
       " 'LEFT_SHOULDER_X',\n",
       " 'LEFT_SHOULDER_Y',\n",
       " 'RIGHT_SHOULDER_X',\n",
       " 'RIGHT_SHOULDER_Z',\n",
       " 'LEFT_ELBOW_Y',\n",
       " 'LEFT_ELBOW_Z',\n",
       " 'RIGHT_ELBOW_X',\n",
       " 'RIGHT_ELBOW_Y',\n",
       " 'RIGHT_ELBOW_Z',\n",
       " 'LEFT_WRIST_Y',\n",
       " 'RIGHT_WRIST_X',\n",
       " 'RIGHT_WRIST_Y',\n",
       " 'RIGHT_HIP_X',\n",
       " 'LEFT_KNEE_Z',\n",
       " 'RIGHT_KNEE_X',\n",
       " 'RIGHT_ANKLE_Z',\n",
       " 'LEFT_HEEL_Y',\n",
       " 'RIGHT_HEEL_X',\n",
       " 'RIGHT_HEEL_Y',\n",
       " 'LEFT_FOOT_INDEX_X',\n",
       " 'LEFT_FOOT_INDEX_Z',\n",
       " 'Nose Angle']"
      ]
     },
     "execution_count": 42,
     "metadata": {},
     "output_type": "execute_result"
    }
   ],
   "source": [
    "coef_lis"
   ]
  },
  {
   "cell_type": "code",
   "execution_count": 43,
   "id": "39a9e137",
   "metadata": {},
   "outputs": [],
   "source": [
    "new_X = df_mod_dat[coef_lis]\n",
    "new_X_train, new_X_test, y_train, y_test = train_test_split(new_X, y, test_size=0.3, random_state=42)"
   ]
  },
  {
   "cell_type": "code",
   "execution_count": null,
   "id": "bc0a152b",
   "metadata": {},
   "outputs": [],
   "source": [
    "from sklearn.model_selection import RandomizedSearchCV, train_test_split\n",
    "from scipy.stats import randint"
   ]
  },
  {
   "cell_type": "code",
   "execution_count": null,
   "id": "b374ec6e",
   "metadata": {},
   "outputs": [],
   "source": [
    "param_dist = {'n_estimators': randint(50,500),'max_depth': randint(1,20)}"
   ]
  },
  {
   "cell_type": "code",
   "execution_count": null,
   "id": "19b15a20",
   "metadata": {},
   "outputs": [],
   "source": [
    "rand_search = RandomizedSearchCV(test_model_rand, param_distributions = param_dist, n_iter=5, cv=5)"
   ]
  },
  {
   "cell_type": "code",
   "execution_count": null,
   "id": "699fa3a5",
   "metadata": {},
   "outputs": [],
   "source": [
    "rand_search.fit(new_X_train, y_train)\n",
    "\n",
    "# Create a variable for the best model\n",
    "best_rf = rand_search.best_estimator_\n",
    "\n",
    "# Print the best hyperparameters\n",
    "print('Best hyperparameters:',  rand_search.best_params_)"
   ]
  },
  {
   "cell_type": "code",
   "execution_count": null,
   "id": "badf4112",
   "metadata": {},
   "outputs": [],
   "source": [
    "new_y_pred = best_rf.predict(new_X_test)\n",
    "\n",
    "accuracy = accuracy_score(y_test, new_y_pred)\n",
    "print(\"Accuracy:\", accuracy)\n",
    "\n",
    "# Create the confusion matrix\n",
    "#cm = confusion_matrix(y_test, y_pred)\n",
    "\n",
    "#ConfusionMatrixDisplay(confusion_matrix=cm).plot();"
   ]
  },
  {
   "cell_type": "code",
   "execution_count": 44,
   "id": "2f94f9bc",
   "metadata": {},
   "outputs": [
    {
     "name": "stdout",
     "output_type": "stream",
     "text": [
      "Accuracy: 0.9972885598081135\n"
     ]
    }
   ],
   "source": [
    "test_model_rand = RandomForestClassifier()\n",
    "\n",
    "test_model_rand.fit(new_X_train, y_train)\n",
    "new_y_pred = test_model_rand.predict(new_X_test)\n",
    "\n",
    "accuracy = accuracy_score(y_test, new_y_pred)\n",
    "print(\"Accuracy:\", accuracy)\n",
    "\n"
   ]
  },
  {
   "cell_type": "code",
   "execution_count": 46,
   "id": "ec0f06a1",
   "metadata": {},
   "outputs": [],
   "source": [
    "X_pred = test_data[coef_lis]\n",
    "\n",
    "y_rand_test = test_model_rand.predict(X_pred)"
   ]
  },
  {
   "cell_type": "code",
   "execution_count": 47,
   "id": "41e20e20",
   "metadata": {},
   "outputs": [],
   "source": [
    "data_f = pd.DataFrame(y_rand_test)"
   ]
  },
  {
   "cell_type": "code",
   "execution_count": 48,
   "id": "4b006668",
   "metadata": {},
   "outputs": [],
   "source": [
    "data_f.to_csv(r\"C:\\Users\\ASUS\\OneDrive\\Documents\\Academics\\Summer Semester\\Dataset\\model_inout\\anggg_out.csv\")"
   ]
  },
  {
   "cell_type": "code",
   "execution_count": null,
   "id": "a7d64469",
   "metadata": {},
   "outputs": [],
   "source": [
    "model_rand = RandomForestClassifier()\n",
    "\n",
    "model_rand.fit(new_X_train, y_train)\n",
    "new_y_pred = model_rand.predict(new_X_test)\n",
    "\n",
    "accuracy = accuracy_score(y_test, new_y_pred)\n",
    "print(\"Accuracy:\", accuracy)\n",
    "\n",
    "X_pred = test_data[coef_lis]\n",
    "\n",
    "y_rand_test = model_rand.predict(X_pred)"
   ]
  },
  {
   "cell_type": "code",
   "execution_count": null,
   "id": "9f4de8c9",
   "metadata": {},
   "outputs": [],
   "source": [
    "df = pd.DataFrame(y_rand_test)\n",
    "df.to_csv(r\"C:\\Users\\ASUS\\OneDrive\\Documents\\Academics\\Summer Semester\\Dataset\\model_inout\\rand_out_30_06.csv\")"
   ]
  },
  {
   "cell_type": "code",
   "execution_count": null,
   "id": "efd982e1",
   "metadata": {},
   "outputs": [],
   "source": [
    "model_filename = 'Random_Forest_finalized_model.sav'\n",
    "pickle.dump(model_rand, open(model_filename, 'wb'))\n"
   ]
  },
  {
   "cell_type": "code",
   "execution_count": null,
   "id": "fc2611e1",
   "metadata": {},
   "outputs": [],
   "source": [
    "\n",
    "loaded_model = pickle.load(open(model_filename, 'rb'))\n",
    "result = loaded_model.score(new_X_test, y_test)\n",
    "print(result)"
   ]
  },
  {
   "cell_type": "code",
   "execution_count": null,
   "id": "a43ebcd9",
   "metadata": {},
   "outputs": [],
   "source": []
  },
  {
   "cell_type": "markdown",
   "id": "4d317ff3",
   "metadata": {},
   "source": [
    "**EXPLORATORY DATA ANALYSIS**"
   ]
  },
  {
   "cell_type": "code",
   "execution_count": null,
   "id": "eb63dc19",
   "metadata": {},
   "outputs": [],
   "source": [
    "kev1_point = cont_frames[1][0]\n",
    "kev2_point = cont_frames[1][1]\n",
    "kev3_point = cont_frames[1][2]\n",
    "kev4_point = cont_frames[1][3]\n",
    "kev5_point = cont_frames[1][4]\n",
    "kev6_point = cont_frames[1][5]\n",
    "\n",
    "cam3_point = cont_frames[1][5]\n",
    "cam4_point = cont_frames[1][5]\n",
    "cam5_point = cont_frames[1][5]\n",
    "cam6_point = cont_frames[1][5]\n",
    "cam7_point = cont_frames[1][5]\n",
    "cam8_point = cont_frames[1][5]\n",
    "cam9_point = cont_frames[1][5]"
   ]
  },
  {
   "cell_type": "code",
   "execution_count": null,
   "id": "e164b662",
   "metadata": {},
   "outputs": [],
   "source": [
    "cont_frames[1][5]"
   ]
  },
  {
   "cell_type": "code",
   "execution_count": null,
   "id": "055f38b8",
   "metadata": {},
   "outputs": [],
   "source": [
    "cont_frames"
   ]
  },
  {
   "cell_type": "code",
   "execution_count": null,
   "id": "905126fa",
   "metadata": {},
   "outputs": [],
   "source": [
    "data.columns"
   ]
  },
  {
   "cell_type": "markdown",
   "id": "428a7c5d",
   "metadata": {},
   "source": [
    "**KEV**"
   ]
  },
  {
   "cell_type": "code",
   "execution_count": null,
   "id": "b86c133d",
   "metadata": {},
   "outputs": [],
   "source": [
    "ryt_sho_Y = np.array(data['RIGHT_SHOULDER_Y'])\n",
    "ryt_wrst_Y = np.array(data['RIGHT_WRIST_Y'])\n",
    "ryt_elbow_Y = np.array(data['RIGHT_ELBOW_Y'])\n",
    "ryt_ankle_Y = np.array(data['RIGHT_ANKLE_Y'])\n",
    "\n",
    "\n",
    "\n",
    "sh_line = ryt_sho_Y[kev1_point - 2]\n",
    "wrst_line = ryt_wrst_Y[kev1_point - 2]\n",
    "lbow_line = ryt_elbow_Y[kev1_point - 2]\n",
    "ank_line = ryt_ankle_Y[kev1_point - 2]\n",
    "print(sh_line,wrst_line,lbow_line,ank_line)\n",
    "\n",
    "\n",
    "fig, axs = plt.subplots(2, 2, figsize=(10, 8))\n",
    "\n",
    "#fig, axs = plt.subplots(2, 2)\n",
    "axs[0, 0].plot(ryt_sho_Y)\n",
    "axs[0, 0].axhline(sh_line, color='r', linestyle='--')\n",
    "axs[0, 0].set_title('Right Shoulder')\n",
    "\n",
    "axs[0, 1].plot(ryt_wrst_Y, 'tab:orange')\n",
    "axs[0, 1].axhline(wrst_line, color='r', linestyle='--')\n",
    "axs[0, 1].set_title('Right Wrist')\n",
    "\n",
    "axs[1, 0].plot(ryt_elbow_Y, 'tab:green')\n",
    "axs[1, 0].axhline(lbow_line, color='r', linestyle='--')\n",
    "axs[1, 0].set_title('Right Elbow')\n",
    "\n",
    "axs[1, 1].plot(ryt_ankle_Y, 'tab:pink')\n",
    "axs[1, 1].axhline(ank_line, color='r', linestyle='--')\n",
    "axs[1, 1].set_title('Right Ankle')\n",
    "\n",
    "\n",
    "plt.show()\n"
   ]
  },
  {
   "cell_type": "code",
   "execution_count": null,
   "id": "06fc7c90",
   "metadata": {},
   "outputs": [],
   "source": [
    "data = pd.read_csv(r\"C:\\Users\\ASUS\\OneDrive\\Documents\\Academics\\Summer Semester\\Dataset\\CSVs\\kev 2 slow.csv\")\n",
    "ryt_sho_Y = np.array(data['RIGHT_SHOULDER_Y'])\n",
    "ryt_wrst_Y = np.array(data['RIGHT_WRIST_Y'])\n",
    "ryt_elbow_Y = np.array(data['RIGHT_ELBOW_Y'])\n",
    "ryt_ankle_Y = np.array(data['RIGHT_ANKLE_Y'])\n",
    "\n",
    "\n",
    "\n",
    "sh_line = ryt_sho_Y[kev2_point - 2]\n",
    "wrst_line = ryt_wrst_Y[kev2_point - 2]\n",
    "lbow_line = ryt_elbow_Y[kev2_point - 2]\n",
    "ank_line = ryt_ankle_Y[kev2_point - 2]\n",
    "print(sh_line,wrst_line,lbow_line,ank_line)\n",
    "\n",
    "\n",
    "fig, axs = plt.subplots(2, 2, figsize=(10, 8))\n",
    "\n",
    "#fig, axs = plt.subplots(2, 2)\n",
    "axs[0, 0].plot(ryt_sho_Y)\n",
    "axs[0, 0].axhline(sh_line, color='r', linestyle='--')\n",
    "axs[0, 0].set_title('Right Shoulder')\n",
    "\n",
    "axs[0, 1].plot(ryt_wrst_Y, 'tab:orange')\n",
    "axs[0, 1].axhline(wrst_line, color='r', linestyle='--')\n",
    "axs[0, 1].set_title('Right Wrist')\n",
    "\n",
    "axs[1, 0].plot(ryt_elbow_Y, 'tab:green')\n",
    "axs[1, 0].axhline(lbow_line, color='r', linestyle='--')\n",
    "axs[1, 0].set_title('Right Elbow')\n",
    "\n",
    "axs[1, 1].plot(ryt_ankle_Y, 'tab:pink')\n",
    "axs[1, 1].axhline(ank_line, color='r', linestyle='--')\n",
    "axs[1, 1].set_title('Right Ankle')\n",
    "\n",
    "\n",
    "plt.show()\n"
   ]
  },
  {
   "cell_type": "code",
   "execution_count": null,
   "id": "a45ea8ab",
   "metadata": {},
   "outputs": [],
   "source": [
    "data = pd.read_csv(r\"C:\\Users\\ASUS\\OneDrive\\Documents\\Academics\\Summer Semester\\Dataset\\CSVs\\kev 3 slow.csv\")\n",
    "ryt_sho_Y = np.array(data['RIGHT_SHOULDER_Y'])\n",
    "ryt_wrst_Y = np.array(data['RIGHT_WRIST_Y'])\n",
    "ryt_elbow_Y = np.array(data['RIGHT_ELBOW_Y'])\n",
    "ryt_ankle_Y = np.array(data['RIGHT_ANKLE_Y'])\n",
    "\n",
    "\n",
    "\n",
    "sh_line = ryt_sho_Y[kev3_point - 2]\n",
    "wrst_line = ryt_wrst_Y[kev3_point - 2]\n",
    "lbow_line = ryt_elbow_Y[kev3_point - 2]\n",
    "ank_line = ryt_ankle_Y[kev3_point - 2]\n",
    "print(sh_line,wrst_line,lbow_line,ank_line)\n",
    "\n",
    "\n",
    "fig, axs = plt.subplots(2, 2, figsize=(10, 8))\n",
    "\n",
    "#fig, axs = plt.subplots(2, 2)\n",
    "axs[0, 0].plot(ryt_sho_Y)\n",
    "axs[0, 0].axhline(sh_line, color='r', linestyle='--')\n",
    "axs[0, 0].set_title('Right Shoulder')\n",
    "\n",
    "axs[0, 1].plot(ryt_wrst_Y, 'tab:orange')\n",
    "axs[0, 1].axhline(wrst_line, color='r', linestyle='--')\n",
    "axs[0, 1].set_title('Right Wrist')\n",
    "\n",
    "axs[1, 0].plot(ryt_elbow_Y, 'tab:green')\n",
    "axs[1, 0].axhline(lbow_line, color='r', linestyle='--')\n",
    "axs[1, 0].set_title('Right Elbow')\n",
    "\n",
    "axs[1, 1].plot(ryt_ankle_Y, 'tab:pink')\n",
    "axs[1, 1].axhline(ank_line, color='r', linestyle='--')\n",
    "axs[1, 1].set_title('Right Ankle')\n",
    "\n",
    "\n",
    "plt.show()\n"
   ]
  },
  {
   "cell_type": "code",
   "execution_count": null,
   "id": "7b1fa369",
   "metadata": {},
   "outputs": [],
   "source": [
    "data = pd.read_csv(r\"C:\\Users\\ASUS\\OneDrive\\Documents\\Academics\\Summer Semester\\Dataset\\CSVs\\kev 4 slow.csv\")\n",
    "ryt_sho_Y = np.array(data['RIGHT_SHOULDER_Y'])\n",
    "ryt_wrst_Y = np.array(data['RIGHT_WRIST_Y'])\n",
    "ryt_elbow_Y = np.array(data['RIGHT_ELBOW_Y'])\n",
    "ryt_ankle_Y = np.array(data['RIGHT_ANKLE_Y'])\n",
    "\n",
    "\n",
    "\n",
    "sh_line = ryt_sho_Y[kev4_point - 2]\n",
    "wrst_line = ryt_wrst_Y[kev4_point - 2]\n",
    "lbow_line = ryt_elbow_Y[kev4_point - 2]\n",
    "ank_line = ryt_ankle_Y[kev4_point - 2]\n",
    "print(sh_line,wrst_line,lbow_line,ank_line)\n",
    "\n",
    "\n",
    "fig, axs = plt.subplots(2, 2, figsize=(10, 8))\n",
    "\n",
    "#fig, axs = plt.subplots(2, 2)\n",
    "axs[0, 0].plot(ryt_sho_Y)\n",
    "axs[0, 0].axhline(sh_line, color='r', linestyle='--')\n",
    "axs[0, 0].set_title('Right Shoulder')\n",
    "\n",
    "axs[0, 1].plot(ryt_wrst_Y, 'tab:orange')\n",
    "axs[0, 1].axhline(wrst_line, color='r', linestyle='--')\n",
    "axs[0, 1].set_title('Right Wrist')\n",
    "\n",
    "axs[1, 0].plot(ryt_elbow_Y, 'tab:green')\n",
    "axs[1, 0].axhline(lbow_line, color='r', linestyle='--')\n",
    "axs[1, 0].set_title('Right Elbow')\n",
    "\n",
    "axs[1, 1].plot(ryt_ankle_Y, 'tab:pink')\n",
    "axs[1, 1].axhline(ank_line, color='r', linestyle='--')\n",
    "axs[1, 1].set_title('Right Ankle')\n",
    "\n",
    "\n",
    "plt.show()\n"
   ]
  },
  {
   "cell_type": "code",
   "execution_count": null,
   "id": "815499c8",
   "metadata": {},
   "outputs": [],
   "source": [
    "data = pd.read_csv(r\"C:\\Users\\ASUS\\OneDrive\\Documents\\Academics\\Summer Semester\\Dataset\\CSVs\\kev 5 slow.csv\")\n",
    "ryt_sho_Y = np.array(data['RIGHT_SHOULDER_Y'])\n",
    "ryt_wrst_Y = np.array(data['RIGHT_WRIST_Y'])\n",
    "ryt_elbow_Y = np.array(data['RIGHT_ELBOW_Y'])\n",
    "ryt_ankle_Y = np.array(data['RIGHT_ANKLE_Y'])\n",
    "\n",
    "\n",
    "\n",
    "sh_line = ryt_sho_Y[kev5_point - 2]\n",
    "wrst_line = ryt_wrst_Y[kev5_point - 2]\n",
    "lbow_line = ryt_elbow_Y[kev5_point - 2]\n",
    "ank_line = ryt_ankle_Y[kev5_point - 2]\n",
    "print(sh_line,wrst_line,lbow_line,ank_line)\n",
    "\n",
    "\n",
    "fig, axs = plt.subplots(2, 2, figsize=(10, 8))\n",
    "\n",
    "#fig, axs = plt.subplots(2, 2)\n",
    "axs[0, 0].plot(ryt_sho_Y)\n",
    "axs[0, 0].axhline(sh_line, color='r', linestyle='--')\n",
    "axs[0, 0].set_title('Right Shoulder')\n",
    "\n",
    "axs[0, 1].plot(ryt_wrst_Y, 'tab:orange')\n",
    "axs[0, 1].axhline(wrst_line, color='r', linestyle='--')\n",
    "axs[0, 1].set_title('Right Wrist')\n",
    "\n",
    "axs[1, 0].plot(ryt_elbow_Y, 'tab:green')\n",
    "axs[1, 0].axhline(lbow_line, color='r', linestyle='--')\n",
    "axs[1, 0].set_title('Right Elbow')\n",
    "\n",
    "axs[1, 1].plot(ryt_ankle_Y, 'tab:pink')\n",
    "axs[1, 1].axhline(ank_line, color='r', linestyle='--')\n",
    "axs[1, 1].set_title('Right Ankle')\n",
    "\n",
    "\n",
    "plt.show()\n"
   ]
  },
  {
   "cell_type": "code",
   "execution_count": null,
   "id": "f6823542",
   "metadata": {},
   "outputs": [],
   "source": [
    "data = pd.read_csv(r\"C:\\Users\\ASUS\\OneDrive\\Documents\\Academics\\Summer Semester\\Dataset\\CSVs\\kev 6 slow.csv\")\n",
    "ryt_sho_Y = np.array(data['RIGHT_SHOULDER_Y'])\n",
    "ryt_wrst_Y = np.array(data['RIGHT_WRIST_Y'])\n",
    "ryt_elbow_Y = np.array(data['RIGHT_ELBOW_Y'])\n",
    "ryt_ankle_Y = np.array(data['RIGHT_ANKLE_Y'])\n",
    "\n",
    "\n",
    "\n",
    "sh_line = ryt_sho_Y[kev6_point - 2]\n",
    "wrst_line = ryt_wrst_Y[kev6_point - 2]\n",
    "lbow_line = ryt_elbow_Y[kev6_point - 2]\n",
    "ank_line = ryt_ankle_Y[kev6_point - 2]\n",
    "print(sh_line,wrst_line,lbow_line,ank_line)\n",
    "\n",
    "\n",
    "fig, axs = plt.subplots(2, 2, figsize=(10, 8))\n",
    "\n",
    "#fig, axs = plt.subplots(2, 2)\n",
    "axs[0, 0].plot(ryt_sho_Y)\n",
    "axs[0, 0].axhline(sh_line, color='r', linestyle='--')\n",
    "axs[0, 0].set_title('Right Shoulder')\n",
    "\n",
    "axs[0, 1].plot(ryt_wrst_Y, 'tab:orange')\n",
    "axs[0, 1].axhline(wrst_line, color='r', linestyle='--')\n",
    "axs[0, 1].set_title('Right Wrist')\n",
    "\n",
    "axs[1, 0].plot(ryt_elbow_Y, 'tab:green')\n",
    "axs[1, 0].axhline(lbow_line, color='r', linestyle='--')\n",
    "axs[1, 0].set_title('Right Elbow')\n",
    "\n",
    "axs[1, 1].plot(ryt_ankle_Y, 'tab:pink')\n",
    "axs[1, 1].axhline(ank_line, color='r', linestyle='--')\n",
    "axs[1, 1].set_title('Right Ankle')\n",
    "\n",
    "\n",
    "plt.show()\n"
   ]
  },
  {
   "cell_type": "markdown",
   "id": "8d9a4fde",
   "metadata": {},
   "source": [
    "**CAM 3 SLOW**"
   ]
  },
  {
   "cell_type": "code",
   "execution_count": null,
   "id": "1bae8164",
   "metadata": {},
   "outputs": [],
   "source": [
    "data = pd.read_csv(r\"C:\\Users\\ASUS\\OneDrive\\Documents\\Academics\\Summer Semester\\Dataset\\CSVs\\cam 3 slow.csv\")\n",
    "ryt_sho_Y = np.array(data['RIGHT_SHOULDER_Y'])\n",
    "ryt_wrst_Y = np.array(data['RIGHT_WRIST_Y'])\n",
    "ryt_elbow_Y = np.array(data['RIGHT_ELBOW_Y'])\n",
    "ryt_ankle_Y = np.array(data['RIGHT_ANKLE_Y'])\n",
    "\n",
    "\n",
    "\n",
    "sh_line = ryt_sho_Y[cam3_point - 2]\n",
    "wrst_line = ryt_wrst_Y[cam3_point - 2]\n",
    "lbow_line = ryt_elbow_Y[cam3_point - 2]\n",
    "ank_line = ryt_ankle_Y[cam3_point - 2]\n",
    "print(sh_line,wrst_line,lbow_line,ank_line)\n",
    "\n",
    "\n",
    "fig, axs = plt.subplots(2, 2, figsize=(10, 8))\n",
    "\n",
    "#fig, axs = plt.subplots(2, 2)\n",
    "axs[0, 0].plot(ryt_sho_Y)\n",
    "axs[0, 0].axhline(sh_line, color='r', linestyle='--')\n",
    "axs[0, 0].set_title('Right Shoulder')\n",
    "\n",
    "axs[0, 1].plot(ryt_wrst_Y, 'tab:orange')\n",
    "axs[0, 1].axhline(wrst_line, color='r', linestyle='--')\n",
    "axs[0, 1].set_title('Right Wrist')\n",
    "\n",
    "axs[1, 0].plot(ryt_elbow_Y, 'tab:green')\n",
    "axs[1, 0].axhline(lbow_line, color='r', linestyle='--')\n",
    "axs[1, 0].set_title('Right Elbow')\n",
    "\n",
    "axs[1, 1].plot(ryt_ankle_Y, 'tab:pink')\n",
    "axs[1, 1].axhline(ank_line, color='r', linestyle='--')\n",
    "axs[1, 1].set_title('Right Ankle')\n",
    "\n",
    "\n",
    "plt.show()\n"
   ]
  },
  {
   "cell_type": "code",
   "execution_count": null,
   "id": "dc785cef",
   "metadata": {},
   "outputs": [],
   "source": [
    "data = pd.read_csv(r\"C:\\Users\\ASUS\\OneDrive\\Documents\\Academics\\Summer Semester\\Dataset\\CSVs\\cam 4 slow.csv\")\n",
    "ryt_sho_Y = np.array(data['RIGHT_SHOULDER_Y'])\n",
    "ryt_wrst_Y = np.array(data['RIGHT_WRIST_Y'])\n",
    "ryt_elbow_Y = np.array(data['RIGHT_ELBOW_Y'])\n",
    "ryt_ankle_Y = np.array(data['RIGHT_ANKLE_Y'])\n",
    "\n",
    "\n",
    "\n",
    "sh_line = ryt_sho_Y[cam4_point - 2]\n",
    "wrst_line = ryt_wrst_Y[cam4_point - 2]\n",
    "lbow_line = ryt_elbow_Y[cam4_point - 2]\n",
    "ank_line = ryt_ankle_Y[cam4_point - 2]\n",
    "print(sh_line,wrst_line,lbow_line,ank_line)\n",
    "\n",
    "\n",
    "fig, axs = plt.subplots(2, 2, figsize=(10, 8))\n",
    "\n",
    "#fig, axs = plt.subplots(2, 2)\n",
    "axs[0, 0].plot(ryt_sho_Y)\n",
    "axs[0, 0].axhline(sh_line, color='r', linestyle='--')\n",
    "axs[0, 0].set_title('Right Shoulder')\n",
    "\n",
    "axs[0, 1].plot(ryt_wrst_Y, 'tab:orange')\n",
    "axs[0, 1].axhline(wrst_line, color='r', linestyle='--')\n",
    "axs[0, 1].set_title('Right Wrist')\n",
    "\n",
    "axs[1, 0].plot(ryt_elbow_Y, 'tab:green')\n",
    "axs[1, 0].axhline(lbow_line, color='r', linestyle='--')\n",
    "axs[1, 0].set_title('Right Elbow')\n",
    "\n",
    "axs[1, 1].plot(ryt_ankle_Y, 'tab:pink')\n",
    "axs[1, 1].axhline(ank_line, color='r', linestyle='--')\n",
    "axs[1, 1].set_title('Right Ankle')\n",
    "\n",
    "\n",
    "plt.show()\n"
   ]
  },
  {
   "cell_type": "code",
   "execution_count": null,
   "id": "f99b85d9",
   "metadata": {},
   "outputs": [],
   "source": [
    "data = pd.read_csv(r\"C:\\Users\\ASUS\\OneDrive\\Documents\\Academics\\Summer Semester\\Dataset\\CSVs\\cam 5 slow.csv\")\n",
    "ryt_sho_Y = np.array(data['RIGHT_SHOULDER_Y'])\n",
    "ryt_wrst_Y = np.array(data['RIGHT_WRIST_Y'])\n",
    "ryt_elbow_Y = np.array(data['RIGHT_ELBOW_Y'])\n",
    "ryt_ankle_Y = np.array(data['RIGHT_ANKLE_Y'])\n",
    "\n",
    "\n",
    "\n",
    "sh_line = ryt_sho_Y[cam5_point - 2]\n",
    "wrst_line = ryt_wrst_Y[cam5_point - 2]\n",
    "lbow_line = ryt_elbow_Y[cam5_point - 2]\n",
    "ank_line = ryt_ankle_Y[cam5_point - 2]\n",
    "print(sh_line,wrst_line,lbow_line,ank_line)\n",
    "\n",
    "\n",
    "fig, axs = plt.subplots(2, 2, figsize=(10, 8))\n",
    "\n",
    "#fig, axs = plt.subplots(2, 2)\n",
    "axs[0, 0].plot(ryt_sho_Y)\n",
    "axs[0, 0].axhline(sh_line, color='r', linestyle='--')\n",
    "axs[0, 0].set_title('Right Shoulder')\n",
    "\n",
    "axs[0, 1].plot(ryt_wrst_Y, 'tab:orange')\n",
    "axs[0, 1].axhline(wrst_line, color='r', linestyle='--')\n",
    "axs[0, 1].set_title('Right Wrist')\n",
    "\n",
    "axs[1, 0].plot(ryt_elbow_Y, 'tab:green')\n",
    "axs[1, 0].axhline(lbow_line, color='r', linestyle='--')\n",
    "axs[1, 0].set_title('Right Elbow')\n",
    "\n",
    "axs[1, 1].plot(ryt_ankle_Y, 'tab:pink')\n",
    "axs[1, 1].axhline(ank_line, color='r', linestyle='--')\n",
    "axs[1, 1].set_title('Right Ankle')\n",
    "\n",
    "\n",
    "plt.show()\n"
   ]
  },
  {
   "cell_type": "code",
   "execution_count": null,
   "id": "da4db292",
   "metadata": {},
   "outputs": [],
   "source": [
    "data = pd.read_csv(r\"C:\\Users\\ASUS\\OneDrive\\Documents\\Academics\\Summer Semester\\Dataset\\CSVs\\cam 6 slow.csv\")\n",
    "ryt_sho_Y = np.array(data['RIGHT_SHOULDER_Y'])\n",
    "ryt_wrst_Y = np.array(data['RIGHT_WRIST_Y'])\n",
    "ryt_elbow_Y = np.array(data['RIGHT_ELBOW_Y'])\n",
    "ryt_ankle_Y = np.array(data['RIGHT_ANKLE_Y'])\n",
    "\n",
    "\n",
    "\n",
    "sh_line = ryt_sho_Y[cam6_point - 2]\n",
    "wrst_line = ryt_wrst_Y[cam6_point - 2]\n",
    "lbow_line = ryt_elbow_Y[cam6_point - 2]\n",
    "ank_line = ryt_ankle_Y[cam6_point - 2]\n",
    "print(sh_line,wrst_line,lbow_line,ank_line)\n",
    "\n",
    "\n",
    "fig, axs = plt.subplots(2, 2, figsize=(10, 8))\n",
    "\n",
    "#fig, axs = plt.subplots(2, 2)\n",
    "axs[0, 0].plot(ryt_sho_Y)\n",
    "axs[0, 0].axhline(sh_line, color='r', linestyle='--')\n",
    "axs[0, 0].set_title('Right Shoulder')\n",
    "\n",
    "axs[0, 1].plot(ryt_wrst_Y, 'tab:orange')\n",
    "axs[0, 1].axhline(wrst_line, color='r', linestyle='--')\n",
    "axs[0, 1].set_title('Right Wrist')\n",
    "\n",
    "axs[1, 0].plot(ryt_elbow_Y, 'tab:green')\n",
    "axs[1, 0].axhline(lbow_line, color='r', linestyle='--')\n",
    "axs[1, 0].set_title('Right Elbow')\n",
    "\n",
    "axs[1, 1].plot(ryt_ankle_Y, 'tab:pink')\n",
    "axs[1, 1].axhline(ank_line, color='r', linestyle='--')\n",
    "axs[1, 1].set_title('Right Ankle')\n",
    "\n",
    "\n",
    "plt.show()\n"
   ]
  },
  {
   "cell_type": "code",
   "execution_count": null,
   "id": "391148cf",
   "metadata": {},
   "outputs": [],
   "source": [
    "data = pd.read_csv(r\"C:\\Users\\ASUS\\OneDrive\\Documents\\Academics\\Summer Semester\\Dataset\\CSVs\\cam 7 slow.csv\")\n",
    "ryt_sho_Y = np.array(data['RIGHT_SHOULDER_Y'])\n",
    "ryt_wrst_Y = np.array(data['RIGHT_WRIST_Y'])\n",
    "ryt_elbow_Y = np.array(data['RIGHT_ELBOW_Y'])\n",
    "ryt_ankle_Y = np.array(data['RIGHT_ANKLE_Y'])\n",
    "\n",
    "\n",
    "\n",
    "sh_line = ryt_sho_Y[cam7_point - 2]\n",
    "wrst_line = ryt_wrst_Y[cam7_point - 2]\n",
    "lbow_line = ryt_elbow_Y[cam7_point - 2]\n",
    "ank_line = ryt_ankle_Y[cam7_point - 2]\n",
    "print(sh_line,wrst_line,lbow_line,ank_line)\n",
    "\n",
    "\n",
    "fig, axs = plt.subplots(2, 2, figsize=(10, 8))\n",
    "\n",
    "#fig, axs = plt.subplots(2, 2)\n",
    "axs[0, 0].plot(ryt_sho_Y)\n",
    "axs[0, 0].axhline(sh_line, color='r', linestyle='--')\n",
    "axs[0, 0].set_title('Right Shoulder')\n",
    "\n",
    "axs[0, 1].plot(ryt_wrst_Y, 'tab:orange')\n",
    "axs[0, 1].axhline(wrst_line, color='r', linestyle='--')\n",
    "axs[0, 1].set_title('Right Wrist')\n",
    "\n",
    "axs[1, 0].plot(ryt_elbow_Y, 'tab:green')\n",
    "axs[1, 0].axhline(lbow_line, color='r', linestyle='--')\n",
    "axs[1, 0].set_title('Right Elbow')\n",
    "\n",
    "axs[1, 1].plot(ryt_ankle_Y, 'tab:pink')\n",
    "axs[1, 1].axhline(ank_line, color='r', linestyle='--')\n",
    "axs[1, 1].set_title('Right Ankle')\n",
    "\n",
    "\n",
    "plt.show()\n"
   ]
  },
  {
   "cell_type": "code",
   "execution_count": null,
   "id": "e3906bd5",
   "metadata": {},
   "outputs": [],
   "source": [
    "data = pd.read_csv(r\"C:\\Users\\ASUS\\OneDrive\\Documents\\Academics\\Summer Semester\\Dataset\\CSVs\\cam 8 slow.csv\")\n",
    "ryt_sho_Y = np.array(data['RIGHT_SHOULDER_Y'])\n",
    "ryt_wrst_Y = np.array(data['RIGHT_WRIST_Y'])\n",
    "ryt_elbow_Y = np.array(data['RIGHT_ELBOW_Y'])\n",
    "ryt_ankle_Y = np.array(data['RIGHT_ANKLE_Y'])\n",
    "\n",
    "\n",
    "\n",
    "sh_line = ryt_sho_Y[cam8_point - 2]\n",
    "wrst_line = ryt_wrst_Y[cam8_point - 2]\n",
    "lbow_line = ryt_elbow_Y[cam8_point - 2]\n",
    "ank_line = ryt_ankle_Y[cam8_point - 2]\n",
    "print(sh_line,wrst_line,lbow_line,ank_line)\n",
    "\n",
    "\n",
    "fig, axs = plt.subplots(2, 2, figsize=(10, 8))\n",
    "\n",
    "#fig, axs = plt.subplots(2, 2)\n",
    "axs[0, 0].plot(ryt_sho_Y)\n",
    "axs[0, 0].axhline(sh_line, color='r', linestyle='--')\n",
    "axs[0, 0].set_title('Right Shoulder')\n",
    "\n",
    "axs[0, 1].plot(ryt_wrst_Y, 'tab:orange')\n",
    "axs[0, 1].axhline(wrst_line, color='r', linestyle='--')\n",
    "axs[0, 1].set_title('Right Wrist')\n",
    "\n",
    "axs[1, 0].plot(ryt_elbow_Y, 'tab:green')\n",
    "axs[1, 0].axhline(lbow_line, color='r', linestyle='--')\n",
    "axs[1, 0].set_title('Right Elbow')\n",
    "\n",
    "axs[1, 1].plot(ryt_ankle_Y, 'tab:pink')\n",
    "axs[1, 1].axhline(ank_line, color='r', linestyle='--')\n",
    "axs[1, 1].set_title('Right Ankle')\n",
    "\n",
    "\n",
    "plt.show()\n"
   ]
  },
  {
   "cell_type": "code",
   "execution_count": null,
   "id": "71fed346",
   "metadata": {},
   "outputs": [],
   "source": [
    "data = pd.read_csv(r\"C:\\Users\\ASUS\\OneDrive\\Documents\\Academics\\Summer Semester\\Dataset\\CSVs\\cam 9 slow.csv\")\n",
    "ryt_sho_Y = np.array(data['RIGHT_SHOULDER_Y'])\n",
    "ryt_wrst_Y = np.array(data['RIGHT_WRIST_Y'])\n",
    "ryt_elbow_Y = np.array(data['RIGHT_ELBOW_Y'])\n",
    "ryt_ankle_Y = np.array(data['RIGHT_ANKLE_Y'])\n",
    "\n",
    "\n",
    "\n",
    "sh_line = ryt_sho_Y[cam9_point - 2]\n",
    "wrst_line = ryt_wrst_Y[cam9_point - 2]\n",
    "lbow_line = ryt_elbow_Y[cam9_point - 2]\n",
    "ank_line = ryt_ankle_Y[cam9_point - 2]\n",
    "print(sh_line,wrst_line,lbow_line,ank_line)\n",
    "\n",
    "\n",
    "fig, axs = plt.subplots(2, 2, figsize=(10, 8))\n",
    "\n",
    "#fig, axs = plt.subplots(2, 2)\n",
    "axs[0, 0].plot(ryt_sho_Y)\n",
    "axs[0, 0].axhline(sh_line, color='r', linestyle='--')\n",
    "axs[0, 0].set_title('Right Shoulder')\n",
    "\n",
    "axs[0, 1].plot(ryt_wrst_Y, 'tab:orange')\n",
    "axs[0, 1].axhline(wrst_line, color='r', linestyle='--')\n",
    "axs[0, 1].set_title('Right Wrist')\n",
    "\n",
    "axs[1, 0].plot(ryt_elbow_Y, 'tab:green')\n",
    "axs[1, 0].axhline(lbow_line, color='r', linestyle='--')\n",
    "axs[1, 0].set_title('Right Elbow')\n",
    "\n",
    "axs[1, 1].plot(ryt_ankle_Y, 'tab:pink')\n",
    "axs[1, 1].axhline(ank_line, color='r', linestyle='--')\n",
    "axs[1, 1].set_title('Right Ankle')\n",
    "\n",
    "\n",
    "plt.show()\n"
   ]
  },
  {
   "cell_type": "code",
   "execution_count": null,
   "id": "c2e40832",
   "metadata": {},
   "outputs": [],
   "source": []
  },
  {
   "cell_type": "code",
   "execution_count": null,
   "id": "aa48d743",
   "metadata": {},
   "outputs": [],
   "source": [
    "param_dict ={'criterion':['gini','entropy'],'max_depth':range(1,10),'max_leaf_nodes':range(0,6),'min_samples_split':range(1,6),'min_samples_leaf':range(1,6)}"
   ]
  },
  {
   "cell_type": "code",
   "execution_count": null,
   "id": "0eefce6a",
   "metadata": {},
   "outputs": [],
   "source": [
    "grid = GridSearc0hCV(model_tree,param_grid=param_dict,cv=10,verbose=1,n_jobs=-1)\n",
    "grid.fit(X_train, y_train)"
   ]
  },
  {
   "cell_type": "code",
   "execution_count": null,
   "id": "386c74a5",
   "metadata": {},
   "outputs": [],
   "source": [
    "print(grid.best_params_,\"\\n\",grid.best_score_,\"\\n\")"
   ]
  },
  {
   "cell_type": "code",
   "execution_count": null,
   "id": "f33cf2c0",
   "metadata": {},
   "outputs": [],
   "source": [
    "def classify_data(range_value,file,data_path):\n",
    "    data_list = []\n",
    "    file_list = []\n",
    "    #print(\"\\n\",file)\n",
    "    for i in range(len(file)):\n",
    "        file_name = file.iloc[i][0]\n",
    "        hit_row = file.iloc[i][1]\n",
    "        #print(file_name)\n",
    "        for csv in os.listdir(data_path):\n",
    "            #print(csv)\n",
    "            if file_name in csv:\n",
    "                #print(\"\\n\",file_name)\n",
    "                data = pd.read_csv(data_path+\"\\\\\"+csv)\n",
    "                class_list = [\"Before\" for i in range(0,hit_row-range_value)]\n",
    "                class_list.extend([\"Hit\" for i in range(hit_row-range_value,hit_row+range_value)])\n",
    "                class_list.extend([\"After\" for i in range(hit_row+range_value,len(data))])\n",
    "                file_list = [file_name for i in range(len(data))]\n",
    "                data = data.assign(Class=class_list,File=file_list)\n",
    "                data_list.append(data)   \n",
    "        dataframe = pd.concat(data_list)\n",
    "        #print(dataframe)\n",
    "    dataframe.to_csv(data_path+\"\\\\\"+\"dataset_25-06-2023.csv\") \n",
    "    \n"
   ]
  },
  {
   "cell_type": "code",
   "execution_count": null,
   "id": "edd091a2",
   "metadata": {},
   "outputs": [],
   "source": [
    "data = r\"C:\\Users\\ASUS\\OneDrive\\Documents\\Academics\\Summer Semester\\Dataset\\CSVs\"\n",
    "cont_frames = pd.read_csv(r\"C:\\Users\\ASUS\\OneDrive\\Documents\\Academics\\Summer Semester\\Dataset\\contactframes.csv\")\n",
    "classify_data(12,cont_frames,data)\n"
   ]
  },
  {
   "cell_type": "code",
   "execution_count": null,
   "id": "e125a63e",
   "metadata": {},
   "outputs": [],
   "source": [
    "for csv in model_data.iterrows():\n",
    "    print(csv)\n",
    "    break"
   ]
  },
  {
   "cell_type": "code",
   "execution_count": null,
   "id": "afec14c0",
   "metadata": {},
   "outputs": [],
   "source": []
  },
  {
   "cell_type": "code",
   "execution_count": null,
   "id": "ee28c70d",
   "metadata": {},
   "outputs": [],
   "source": [
    "correlation_matrix = model_data.corr()\n",
    "\n",
    "count = 0\n",
    "for i in model_data.columns[:-1]:\n",
    "    for j in model_data.columns[:-1]:\n",
    "        if correlation_matrix[i][j]>=0.98 and i != j :\n",
    "            x_axis = correlation_matrix[i]\n",
    "            y_axis = correlation_matrix[j]\n",
    "            \n",
    "            \n",
    "            #i = i.replace(\"_\",\" \")\n",
    "            #j = j.replace(\"_\",\" \")\n",
    "\n",
    "            plt.plot(x_axis, y_axis)\n",
    "            #plt.title(i,\"---\",j,\"graph\")\n",
    "            plt.xlabel(i)\n",
    "            plt.ylabel(j)\n",
    "            plt.show()\n",
    "            count+=1\n",
    "print(count)"
   ]
  },
  {
   "cell_type": "code",
   "execution_count": null,
   "id": "2f777380",
   "metadata": {},
   "outputs": [],
   "source": [
    "n_components = 25  \n",
    "pca = PCA(n_components=n_components)\n",
    "\n",
    "pca.fit(X)\n",
    "\n",
    "components = pca.components_  \n",
    "explained_variance_ratio = pca.explained_variance_ratio_  \n",
    "\n",
    "X_transformed = pca.transform(X)\n"
   ]
  },
  {
   "cell_type": "code",
   "execution_count": null,
   "id": "d36a984e",
   "metadata": {},
   "outputs": [],
   "source": [
    "X_train, X_test, y_train, y_test = train_test_split(X_transformed, y, test_size=0.3, random_state=42)"
   ]
  },
  {
   "cell_type": "code",
   "execution_count": null,
   "id": "faab2c54",
   "metadata": {},
   "outputs": [],
   "source": [
    "scaler = StandardScaler()\n",
    "X_train = scaler.fit_transform(X_train)\n",
    "X_test = scaler.transform(X_test)\n",
    "\n",
    "#X_pred_ = test_data[test_data.columns[1:-1]]\n",
    "#X_pred = scaler.transform(X_pred_)\n"
   ]
  },
  {
   "cell_type": "code",
   "execution_count": null,
   "id": "8d475fb4",
   "metadata": {},
   "outputs": [],
   "source": [
    "len(y_train)"
   ]
  },
  {
   "cell_type": "code",
   "execution_count": null,
   "id": "3d7f2d64",
   "metadata": {},
   "outputs": [],
   "source": [
    "model_rand = RandomForestClassifier()"
   ]
  },
  {
   "cell_type": "code",
   "execution_count": null,
   "id": "6dafbc32",
   "metadata": {},
   "outputs": [],
   "source": [
    "print('Parameters currently in use:\\n')\n",
    "print(model_rand.get_params())"
   ]
  },
  {
   "cell_type": "code",
   "execution_count": null,
   "id": "afa85e32",
   "metadata": {},
   "outputs": [],
   "source": [
    "model_rand.fit(X_train, y_train)\n",
    "y_pred = model_rand.predict(X_test)"
   ]
  },
  {
   "cell_type": "code",
   "execution_count": null,
   "id": "280ff9df",
   "metadata": {},
   "outputs": [],
   "source": [
    "accuracy = accuracy_score(y_test, y_pred)\n",
    "print(\"Accuracy:\", accuracy)"
   ]
  },
  {
   "cell_type": "code",
   "execution_count": null,
   "id": "75d225a5",
   "metadata": {},
   "outputs": [],
   "source": [
    "X_pred = test_data[feature_columns]\n",
    "X_pred = pca.fit_transform(X_pred)\n",
    "#X_pred = scaler.transform(X_pred)"
   ]
  },
  {
   "cell_type": "code",
   "execution_count": null,
   "id": "3f235be7",
   "metadata": {},
   "outputs": [],
   "source": [
    "scaler.transform(X_pred)"
   ]
  },
  {
   "cell_type": "code",
   "execution_count": null,
   "id": "efc853d2",
   "metadata": {},
   "outputs": [],
   "source": [
    "y_rand_test = model_rand.predict(X_pred)"
   ]
  },
  {
   "cell_type": "code",
   "execution_count": null,
   "id": "51343d9f",
   "metadata": {},
   "outputs": [],
   "source": [
    "y_rand_test"
   ]
  },
  {
   "cell_type": "code",
   "execution_count": null,
   "id": "44ec560a",
   "metadata": {},
   "outputs": [],
   "source": [
    "X_pred"
   ]
  },
  {
   "cell_type": "code",
   "execution_count": null,
   "id": "4ce58117",
   "metadata": {},
   "outputs": [],
   "source": [
    "label_encoder = preprocessing.LabelEncoder()\n",
    "y = label_encoder.fit_transform(Y)"
   ]
  },
  {
   "cell_type": "code",
   "execution_count": null,
   "id": "3e176451",
   "metadata": {},
   "outputs": [],
   "source": []
  },
  {
   "cell_type": "code",
   "execution_count": null,
   "id": "a6b2fa5a",
   "metadata": {},
   "outputs": [],
   "source": [
    "y_rand_test"
   ]
  },
  {
   "cell_type": "code",
   "execution_count": null,
   "id": "b448ea21",
   "metadata": {},
   "outputs": [],
   "source": [
    "test_rand = pd.DataFrame(y_rand_test)\n",
    "test_rand.to_csv(r\"C:\\Users\\ASUS\\OneDrive\\Documents\\Academics\\Summer Semester\\Dataset\\model_inout\\Rand_latest.csv\")"
   ]
  },
  {
   "cell_type": "code",
   "execution_count": null,
   "id": "59692ff7",
   "metadata": {},
   "outputs": [],
   "source": [
    "grid = GridSearc0hCV(model_tree,param_grid=param_dict,cv=10,verbose=1,n_jobs=-1)\n",
    "grid.fit(X_train, y_train)"
   ]
  },
  {
   "cell_type": "code",
   "execution_count": null,
   "id": "a4bba2da",
   "metadata": {},
   "outputs": [],
   "source": [
    "param_dict ={'n_estimators': range(2,200),'max_features': ['auto', 'sqrt'],'min_samples_split' : [2, 5, 10],'min_samples_leaf' : [1, 2, 4],'bootstrap' : [True, False]}"
   ]
  },
  {
   "cell_type": "code",
   "execution_count": null,
   "id": "f7d164f8",
   "metadata": {},
   "outputs": [],
   "source": [
    "model_rand = RandomForestClassifier()\n",
    "\n",
    "grid_search = GridSearchCV(estimator=model_rand, param_grid=param_dict, cv=5)\n",
    "grid_search.fit(X_train, y_train)\n",
    "\n",
    "best_params = grid_search.best_params_\n",
    "best_estimator = grid_search.best_estimator_\n",
    "y_pred = best_estimator.predict(X_test)\n",
    "\n",
    "print(f\"Best hyperparameters: {best_params}\")\n",
    "print(classification_report(y_test, y_pred))"
   ]
  },
  {
   "cell_type": "code",
   "execution_count": null,
   "id": "c0e04a91",
   "metadata": {},
   "outputs": [],
   "source": [
    "test_cols = test_data.columns[1:-1]\n",
    "\n",
    "X_pred = test_data.loc[:,test_cols]"
   ]
  },
  {
   "cell_type": "code",
   "execution_count": null,
   "id": "94b05644",
   "metadata": {},
   "outputs": [],
   "source": []
  },
  {
   "cell_type": "code",
   "execution_count": null,
   "id": "38b02886",
   "metadata": {},
   "outputs": [],
   "source": []
  },
  {
   "cell_type": "code",
   "execution_count": null,
   "id": "9b509b2d",
   "metadata": {},
   "outputs": [],
   "source": []
  },
  {
   "cell_type": "code",
   "execution_count": null,
   "id": "8962da9b",
   "metadata": {},
   "outputs": [],
   "source": []
  },
  {
   "cell_type": "code",
   "execution_count": null,
   "id": "650955fb",
   "metadata": {},
   "outputs": [],
   "source": [
    "model_tree = DecisionTreeClassifier(max_depth=5,max_leaf_nodes=3,random_state=42)"
   ]
  },
  {
   "cell_type": "code",
   "execution_count": null,
   "id": "16601903",
   "metadata": {},
   "outputs": [],
   "source": [
    "model_tree.fit(X_train, y_train)"
   ]
  },
  {
   "cell_type": "code",
   "execution_count": null,
   "id": "472903c3",
   "metadata": {},
   "outputs": [],
   "source": [
    "y_pred = model_tree.predict(X_test)\n",
    "accuracy = accuracy_score(y_test, y_pred)\n",
    "print(\"Accuracy:\", accuracy)"
   ]
  },
  {
   "cell_type": "code",
   "execution_count": null,
   "id": "fd390429",
   "metadata": {},
   "outputs": [],
   "source": [
    "test_data = pd.read_excel(r\"C:\\Users\\ASUS\\OneDrive\\Documents\\Academics\\Summer Semester\\Dataset\\test.xlsx\")\n",
    "X_pred = test_data[feature_columns]\n",
    "X_pred = scaler.transform(X_pred)\n",
    "y_tree_test = model_tree.predict(X_pred)\n",
    "tree_df = pd.DataFrame(y_tree_test)\n",
    "tree_df.to_csv(r\"C:\\Users\\ASUS\\OneDrive\\Documents\\Academics\\Summer Semester\\Dataset\\treeout.csv\")"
   ]
  },
  {
   "cell_type": "code",
   "execution_count": null,
   "id": "0fd331c6",
   "metadata": {},
   "outputs": [],
   "source": []
  },
  {
   "cell_type": "code",
   "execution_count": null,
   "id": "92cbf4b5",
   "metadata": {},
   "outputs": [],
   "source": []
  },
  {
   "cell_type": "code",
   "execution_count": null,
   "id": "cc753bef",
   "metadata": {},
   "outputs": [],
   "source": []
  },
  {
   "cell_type": "code",
   "execution_count": null,
   "id": "dc962edf",
   "metadata": {},
   "outputs": [],
   "source": [
    "df['Class']"
   ]
  },
  {
   "cell_type": "code",
   "execution_count": null,
   "id": "5e987e0d",
   "metadata": {},
   "outputs": [],
   "source": []
  },
  {
   "cell_type": "code",
   "execution_count": null,
   "id": "6503754b",
   "metadata": {},
   "outputs": [],
   "source": [
    "from sklearn.ensemble import GradientBoostingClassifier"
   ]
  },
  {
   "cell_type": "code",
   "execution_count": null,
   "id": "9aac63f9",
   "metadata": {},
   "outputs": [],
   "source": [
    "model_grad = GradientBoostingClassifier()"
   ]
  },
  {
   "cell_type": "code",
   "execution_count": null,
   "id": "00ab0c7c",
   "metadata": {},
   "outputs": [],
   "source": [
    "model_grad.fit(X_train, y_train)"
   ]
  },
  {
   "cell_type": "code",
   "execution_count": null,
   "id": "4468c32d",
   "metadata": {},
   "outputs": [],
   "source": [
    "y_pred = model_grad.predict(X_test)"
   ]
  },
  {
   "cell_type": "code",
   "execution_count": null,
   "id": "94103ea1",
   "metadata": {},
   "outputs": [],
   "source": [
    "accuracy = accuracy_score(y_test, y_pred)\n",
    "print(\"Accuracy:\", accuracy)"
   ]
  },
  {
   "cell_type": "code",
   "execution_count": null,
   "id": "245aff00",
   "metadata": {},
   "outputs": [],
   "source": [
    "logreg_classifier = LogisticRegression(multi_class='auto', 'C'= 10.0, 'penalty'= 'l2', 'solver'= 'liblinear')\n",
    "\n",
    "# Train the classifier\n",
    "logreg_classifier.fit(X_train, y_train)\n",
    "\n",
    "# Predict the labels for the test set\n",
    "y_pred = logreg_classifier.predict(X_test)\n",
    "\n",
    "# Evaluate the classifier\n",
    "print(classification_report(y_test, y_pred))\n"
   ]
  },
  {
   "cell_type": "code",
   "execution_count": null,
   "id": "4b0ee2a6",
   "metadata": {},
   "outputs": [],
   "source": [
    "X_pred = test_data[feature_columns]\n",
    "X_pred = scaler.transform(X_pred)\n",
    "y_pred = logreg_classifier.predict(X_pred)"
   ]
  },
  {
   "cell_type": "code",
   "execution_count": null,
   "id": "222f3f4f",
   "metadata": {},
   "outputs": [],
   "source": [
    "y_pred"
   ]
  },
  {
   "cell_type": "code",
   "execution_count": null,
   "id": "ff158d19",
   "metadata": {},
   "outputs": [],
   "source": []
  },
  {
   "cell_type": "code",
   "execution_count": null,
   "id": "9a529a7d",
   "metadata": {},
   "outputs": [],
   "source": [
    "param_grid = {\n",
    "    'C': [0.01, 0.1, 1.0, 10.0],  # Regularization parameter\n",
    "    'penalty': ['l1', 'l2'],  # Regularization penalty ('l1' or 'l2')\n",
    "    'solver': ['liblinear'],  # Solver algorithm ('liblinear' for small datasets)\n",
    "}\n",
    "\n",
    "# Initialize the logistic regression classifier\n",
    "logreg_classifier = LogisticRegression(multi_class='auto')\n",
    "\n",
    "# Perform grid search with cross-validation\n",
    "grid_search = GridSearchCV(estimator=logreg_classifier, param_grid=param_grid, cv=5)\n",
    "grid_search.fit(X_train, y_train)\n",
    "\n",
    "# Get the best hyperparameters and evaluate the model\n",
    "best_params = grid_search.best_params_\n",
    "best_estimator = grid_search.best_estimator_\n",
    "y_pred = best_estimator.predict(X_test)\n",
    "\n",
    "# Evaluate the model\n",
    "print(f\"Best hyperparameters: {best_params}\")\n",
    "print(classification_report(y_test, y_pred))\n"
   ]
  },
  {
   "cell_type": "code",
   "execution_count": null,
   "id": "937801d1",
   "metadata": {},
   "outputs": [],
   "source": [
    "from sklearn.model_selection import train_test_split, GridSearchCV"
   ]
  },
  {
   "cell_type": "code",
   "execution_count": null,
   "id": "705fee95",
   "metadata": {},
   "outputs": [],
   "source": [
    "y_pred = best_estimator.predict(X_pred)\n",
    "\n",
    "# Evaluate the model\n",
    "print(f\"Best hyperparameters: {best_params}\")\n",
    "print(y_pred)"
   ]
  },
  {
   "cell_type": "code",
   "execution_count": null,
   "id": "1ee495bd",
   "metadata": {},
   "outputs": [],
   "source": [
    "log_df = pd.DataFrame(y_pred)\n",
    "log_df.to_csv(r\"C:\\Users\\ASUS\\OneDrive\\Documents\\Academics\\Summer Semester\\Dataset\\log_out.csv\")"
   ]
  },
  {
   "cell_type": "code",
   "execution_count": null,
   "id": "6c26c284",
   "metadata": {},
   "outputs": [],
   "source": []
  },
  {
   "cell_type": "code",
   "execution_count": null,
   "id": "1da7d8a9",
   "metadata": {},
   "outputs": [],
   "source": []
  }
 ],
 "metadata": {
  "kernelspec": {
   "display_name": "Python 3",
   "language": "python",
   "name": "python3"
  },
  "language_info": {
   "codemirror_mode": {
    "name": "ipython",
    "version": 3
   },
   "file_extension": ".py",
   "mimetype": "text/x-python",
   "name": "python",
   "nbconvert_exporter": "python",
   "pygments_lexer": "ipython3",
   "version": "3.8.8"
  }
 },
 "nbformat": 4,
 "nbformat_minor": 5
}
