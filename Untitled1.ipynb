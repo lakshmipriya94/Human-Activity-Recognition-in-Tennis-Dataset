{
 "cells": [
  {
   "cell_type": "code",
   "execution_count": null,
   "id": "89718590",
   "metadata": {
    "scrolled": false
   },
   "outputs": [],
   "source": [
    "def extract_frames(video_path, output_path):\n",
    "    # Open the video file\n",
    "    video = cv2.VideoCapture(video_path)\n",
    "    \n",
    "    # Get total frames in the video\n",
    "    total_frames = int(video.get(cv2.CAP_PROP_FRAME_COUNT))\n",
    "    current_frame = 0\n",
    "    \n",
    "    while True:\n",
    "        # Read the current frame\n",
    "        ret, frame = video.read()\n",
    "        \n",
    "        if not ret:\n",
    "            # End of frames\n",
    "            break\n",
    "        \n",
    "        # Save the current frame as an image\n",
    "        output_file = f\"{output_path}/frame_{current_frame}.jpg\"\n",
    "        cv2.imwrite(output_file, frame)\n",
    "        \n",
    "        # Display progress\n",
    "        print(f\"Extracted frame {current_frame + 1}/{total_frames}\")\n",
    "        \n",
    "        current_frame += 1\n",
    "    \n",
    "    # Release the video file\n",
    "    video.release()\n",
    "    print(\"Extraction completed!\")\n",
    "\n",
    "# Example usage\n",
    "video_path = r\"C:\\Users\\ASUS\\OneDrive\\Documents\\Academics\\Summer Semester\\Dataset\\individual serves - side camera\\patrick's serves\\patrick 10 no slow.mov\"\n",
    "output_path = r\"C:\\Users\\ASUS\\OneDrive\\Documents\\Academics\\Summer Semester\\Dataset\\individual serves - side camera\\patrick's serves\\patrick 10\"\n",
    "extract_frames(video_path, output_path)\n"
   ]
  },
  {
   "cell_type": "code",
   "execution_count": 27,
   "id": "cec45590",
   "metadata": {},
   "outputs": [
    {
     "data": {
      "text/plain": [
       "pandas.core.frame.DataFrame"
      ]
     },
     "execution_count": 27,
     "metadata": {},
     "output_type": "execute_result"
    }
   ],
   "source": [
    "type(df)"
   ]
  },
  {
   "cell_type": "code",
   "execution_count": 35,
   "id": "57a5c2cf",
   "metadata": {},
   "outputs": [
    {
     "name": "stdout",
     "output_type": "stream",
     "text": [
      "timestamp                                             0.308569\n",
      "landmarks    [(0, 0.5215015411376953, 0.3498152792453766, -...\n",
      "Name: 0, dtype: object\n"
     ]
    }
   ],
   "source": [
    "import cv2\n",
    "import mediapipe as mp\n",
    "import pandas as pd\n",
    "import time\n",
    "\n",
    "\n",
    "mp_pose = mp.solutions.pose\n",
    "\n",
    "# Initialize VideoCapture object\n",
    "video = cv2.VideoCapture(r\"C:\\Users\\ASUS\\OneDrive\\Documents\\Academics\\Summer Semester\\Dataset\\individual serves - side camera\\cameron's serves\\cam 3 slow.mov\")\n",
    "\n",
    "# Create a MediaPipe pose object\n",
    "pose = mp_pose.Pose(static_image_mode=False, min_detection_confidence=0.5, min_tracking_confidence=0.5)\n",
    "\n",
    "# Create an empty list to store pose coordinates and timestamps\n",
    "pose_data = []\n",
    "\n",
    "# Process video frames\n",
    "start_time = time.time()\n",
    "while True:\n",
    "    # Read the next frame\n",
    "    ret, frame = video.read()\n",
    "\n",
    "    # Break loop if video has ended\n",
    "    if not ret:\n",
    "        break\n",
    "\n",
    "    # Convert frame to RGB\n",
    "    frame_rgb = cv2.cvtColor(frame, cv2.COLOR_BGR2RGB)\n",
    "\n",
    "    # Detect pose landmarks and process the frame\n",
    "    results = pose.process(frame_rgb)\n",
    "\n",
    "    # Check if pose landmarks are available\n",
    "    if results.pose_landmarks is not None:\n",
    "        # Get current timestamp\n",
    "        current_time = time.time() - start_time\n",
    "\n",
    "        # Get all pose landmarks and their coordinates\n",
    "        landmarks = [(idx, landmark.x, landmark.y, landmark.z) for idx, landmark in enumerate(results.pose_landmarks.landmark)]\n",
    "\n",
    "        # Append pose coordinates and timestamp to the list\n",
    "        pose_data.append({\n",
    "            'timestamp': current_time,\n",
    "            'landmarks': landmarks\n",
    "        })\n",
    "\n",
    "\n",
    "df = pd.DataFrame(pose_data)\n",
    "\n",
    "print(df.iloc[0])"
   ]
  },
  {
   "cell_type": "code",
   "execution_count": 34,
   "id": "85a89044",
   "metadata": {},
   "outputs": [],
   "source": [
    "df.to_csv(\"timestamp.csv\")"
   ]
  },
  {
   "cell_type": "code",
   "execution_count": null,
   "id": "b3708e62",
   "metadata": {},
   "outputs": [],
   "source": []
  },
  {
   "cell_type": "code",
   "execution_count": null,
   "id": "c656ecc5",
   "metadata": {},
   "outputs": [],
   "source": []
  },
  {
   "cell_type": "code",
   "execution_count": null,
   "id": "500a2792",
   "metadata": {},
   "outputs": [],
   "source": []
  },
  {
   "cell_type": "code",
   "execution_count": null,
   "id": "46f95ec8",
   "metadata": {},
   "outputs": [],
   "source": []
  }
 ],
 "metadata": {
  "kernelspec": {
   "display_name": "Python 3",
   "language": "python",
   "name": "python3"
  },
  "language_info": {
   "codemirror_mode": {
    "name": "ipython",
    "version": 3
   },
   "file_extension": ".py",
   "mimetype": "text/x-python",
   "name": "python",
   "nbconvert_exporter": "python",
   "pygments_lexer": "ipython3",
   "version": "3.8.8"
  }
 },
 "nbformat": 4,
 "nbformat_minor": 5
}
