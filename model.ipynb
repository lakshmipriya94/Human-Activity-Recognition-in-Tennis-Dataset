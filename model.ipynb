{
 "cells": [
  {
   "cell_type": "code",
   "execution_count": 1,
   "id": "53bbf6ad",
   "metadata": {},
   "outputs": [],
   "source": [
    "import os\n",
    "from random import randint\n",
    "import pandas as pd\n",
    "import numpy as np\n",
    "import matplotlib.pyplot as plt\n",
    "import math\n",
    "import pickle\n",
    "import cv2\n",
    "\n",
    "from xgboost import XGBClassifier\n",
    "from sklearn import preprocessing\n",
    "from sklearn.ensemble import RandomForestClassifier\n",
    "from sklearn.preprocessing import StandardScaler\n",
    "from sklearn.metrics import accuracy_score, precision_score, recall_score, f1_score\n",
    "\n",
    "from sklearn.model_selection import train_test_split\n",
    "from sklearn.metrics import classification_report\n",
    "\n",
    "from random import uniform\n",
    "from scipy.stats import randint\n",
    "from sklearn.linear_model import Lasso\n",
    "from sklearn.linear_model import LassoCV\n",
    "from sklearn.model_selection import StratifiedKFold, RandomizedSearchCV\n",
    "from sklearn.model_selection import train_test_split\n",
    "from sklearn.metrics import mean_squared_error\n",
    "\n",
    "import io\n",
    "import numpy as np\n",
    "import pandas as pd\n",
    "from keras.models import Sequential\n",
    "from keras.layers import LSTM\n",
    "from keras.layers import Dense\n",
    "from sklearn.preprocessing import LabelEncoder\n",
    "\n",
    "from sklearn.metrics import confusion_matrix\n",
    "import matplotlib.pyplot as plt\n",
    "import seaborn as sns\n",
    "from keras.layers import Dropout\n",
    "\n",
    "\n"
   ]
  },
  {
   "cell_type": "code",
   "execution_count": 2,
   "id": "f9df1528",
   "metadata": {},
   "outputs": [],
   "source": [
    "#ball_release = pd.read_csv(r\"C:\\Users\\ASUS\\OneDrive\\Documents\\Academics\\Summer Semester\\Dissertation\\tossstartframes.csv\",header=None)\n",
    "data_path = r\"C:\\Users\\ASUS\\OneDrive\\Documents\\Academics\\Summer Semester\\Dataset\\CSVs\\\\\"\n",
    "#test_data = pd.read_excel(r\"C:\\Users\\ASUS\\OneDrive\\Documents\\Academics\\Summer Semester\\Dataset\\model_inout\\test_25-06.xlsx\")\n",
    "frames = pd.read_csv(r\"C:\\Users\\ASUS\\OneDrive\\Documents\\Academics\\Summer Semester\\Dissertation\\frames.csv\")\n",
    "#cont_frames = pd.read_csv(r\"C:\\Users\\ASUS\\OneDrive\\Documents\\Academics\\Summer Semester\\Dataset\\contactframes.csv\")\n",
    "#ball_toss = pd.read_csv(r\"C:\\Users\\ASUS\\OneDrive\\Documents\\Academics\\Summer Semester\\Dissertation\\tossstartframes.csv\")"
   ]
  },
  {
   "cell_type": "code",
   "execution_count": 3,
   "id": "bd6f1807",
   "metadata": {},
   "outputs": [],
   "source": [
    "def classify_data(range_value,file,data_path):\n",
    "    data_list = []\n",
    "    class_list = []\n",
    "    ball_toss = []\n",
    "    \n",
    "    \n",
    "    #print(\"---------\",frames)\n",
    "    for i in range(len(file)):\n",
    "            #print(i)\n",
    "            file_name = file.iloc[i][0]\n",
    "            #print(\"----\",file_name)\n",
    "            toss_row = file.iloc[i][1]\n",
    "            hit_row = file.iloc[i][2]\n",
    "            \n",
    "            \n",
    "            for csv in os.listdir(data_path): \n",
    "                \n",
    "                if file_name in csv:\n",
    "                        #print(\"\\n\",file_name)\n",
    "                        data = pd.read_csv(data_path+\"\\\\\"+csv)\n",
    "                        #print(data)\n",
    "                        \n",
    "                        \n",
    "                        \n",
    "                        class_list = [\"Before\" for i in range(0,hit_row-range_value)]\n",
    "                        class_list.extend([\"Hit\" for i in range(hit_row-range_value,hit_row+range_value)])\n",
    "                        class_list.extend([\"After\" for i in range(hit_row+range_value,len(data))])\n",
    "\n",
    "                        ball_toss = [\"Before Toss\" for i in range(0,toss_row-range_value)]\n",
    "                        ball_toss.extend([\"Toss\" for i in range(toss_row-range_value,toss_row+range_value)])\n",
    "                        ball_toss.extend([\"After Toss\" for i in range(toss_row+range_value,len(data))])\n",
    "                        \n",
    "                        \n",
    "                        file_list = [file_name for i in range(len(data))]\n",
    "                        data = data.assign(File=file_list,Class_1=class_list,Class_2=ball_toss)\n",
    "                        data_list.append(data)   \n",
    "                        dataframe = pd.concat(data_list)\n",
    "                        #print(dataframe)\n",
    "                        \n",
    "                        \n",
    "    return dataframe"
   ]
  },
  {
   "cell_type": "code",
   "execution_count": 4,
   "id": "69beb12e",
   "metadata": {},
   "outputs": [],
   "source": [
    "def lstm_data(data,contact_file,fl_name):\n",
    "    \n",
    "    lstm_data = pd.DataFrame()\n",
    "    #print(\"---------\",frames)\n",
    "    for i in range(len(contact_file)):\n",
    "            #print(i)\n",
    "        file_name = contact_file.iloc[i][0]\n",
    "        for file in fl_name:\n",
    "            \n",
    "            if file_name == file:\n",
    "            \n",
    "                #print(\"----\",file_name)\n",
    "                toss_row = contact_file.iloc[i][1]\n",
    "                hit_row = contact_file.iloc[i][2]\n",
    "                #df = data[data['File'].contains(name)]\n",
    "                df = data[data['File'].str.contains(file_name)]\n",
    "                start =  toss_row-6\n",
    "                end = hit_row+6\n",
    "                #print(name,\"-------\",start,\"-----------\",end)    \n",
    "\n",
    "                    #print(data)\n",
    "                frames = [lstm_data, data[start:end]]\n",
    "\n",
    "                lstm_data = pd.concat(frames)\n",
    "\n",
    "    return lstm_data"
   ]
  },
  {
   "cell_type": "code",
   "execution_count": 41,
   "id": "407d8fb2",
   "metadata": {},
   "outputs": [
    {
     "data": {
      "text/html": [
       "<div>\n",
       "<style scoped>\n",
       "    .dataframe tbody tr th:only-of-type {\n",
       "        vertical-align: middle;\n",
       "    }\n",
       "\n",
       "    .dataframe tbody tr th {\n",
       "        vertical-align: top;\n",
       "    }\n",
       "\n",
       "    .dataframe thead th {\n",
       "        text-align: right;\n",
       "    }\n",
       "</style>\n",
       "<table border=\"1\" class=\"dataframe\">\n",
       "  <thead>\n",
       "    <tr style=\"text-align: right;\">\n",
       "      <th></th>\n",
       "      <th>File Name</th>\n",
       "      <th>Ball Release</th>\n",
       "      <th>Hit Row</th>\n",
       "    </tr>\n",
       "  </thead>\n",
       "  <tbody>\n",
       "    <tr>\n",
       "      <th>0</th>\n",
       "      <td>Lak2</td>\n",
       "      <td>712</td>\n",
       "      <td>789</td>\n",
       "    </tr>\n",
       "    <tr>\n",
       "      <th>1</th>\n",
       "      <td>Lak3</td>\n",
       "      <td>608</td>\n",
       "      <td>692</td>\n",
       "    </tr>\n",
       "    <tr>\n",
       "      <th>2</th>\n",
       "      <td>Lak4</td>\n",
       "      <td>715</td>\n",
       "      <td>797</td>\n",
       "    </tr>\n",
       "    <tr>\n",
       "      <th>3</th>\n",
       "      <td>Lak5</td>\n",
       "      <td>762</td>\n",
       "      <td>836</td>\n",
       "    </tr>\n",
       "    <tr>\n",
       "      <th>4</th>\n",
       "      <td>cam 3 slow</td>\n",
       "      <td>405</td>\n",
       "      <td>637</td>\n",
       "    </tr>\n",
       "    <tr>\n",
       "      <th>5</th>\n",
       "      <td>cam 4 slow</td>\n",
       "      <td>566</td>\n",
       "      <td>789</td>\n",
       "    </tr>\n",
       "    <tr>\n",
       "      <th>6</th>\n",
       "      <td>cam 5 slow</td>\n",
       "      <td>381</td>\n",
       "      <td>613</td>\n",
       "    </tr>\n",
       "    <tr>\n",
       "      <th>7</th>\n",
       "      <td>cam 6 slow</td>\n",
       "      <td>382</td>\n",
       "      <td>615</td>\n",
       "    </tr>\n",
       "    <tr>\n",
       "      <th>8</th>\n",
       "      <td>cam 7 slow</td>\n",
       "      <td>348</td>\n",
       "      <td>579</td>\n",
       "    </tr>\n",
       "    <tr>\n",
       "      <th>9</th>\n",
       "      <td>cam 8 slow</td>\n",
       "      <td>541</td>\n",
       "      <td>765</td>\n",
       "    </tr>\n",
       "    <tr>\n",
       "      <th>10</th>\n",
       "      <td>cam 9 slow</td>\n",
       "      <td>474</td>\n",
       "      <td>707</td>\n",
       "    </tr>\n",
       "    <tr>\n",
       "      <th>11</th>\n",
       "      <td>ewan 3 slow</td>\n",
       "      <td>220</td>\n",
       "      <td>444</td>\n",
       "    </tr>\n",
       "    <tr>\n",
       "      <th>12</th>\n",
       "      <td>ewan 4 slow</td>\n",
       "      <td>318</td>\n",
       "      <td>544</td>\n",
       "    </tr>\n",
       "    <tr>\n",
       "      <th>13</th>\n",
       "      <td>ewan 5 slow</td>\n",
       "      <td>257</td>\n",
       "      <td>482</td>\n",
       "    </tr>\n",
       "    <tr>\n",
       "      <th>14</th>\n",
       "      <td>ewan 6 slow</td>\n",
       "      <td>285</td>\n",
       "      <td>500</td>\n",
       "    </tr>\n",
       "    <tr>\n",
       "      <th>15</th>\n",
       "      <td>ewan 7 slow</td>\n",
       "      <td>290</td>\n",
       "      <td>512</td>\n",
       "    </tr>\n",
       "    <tr>\n",
       "      <th>16</th>\n",
       "      <td>ewan 9 slow</td>\n",
       "      <td>280</td>\n",
       "      <td>513</td>\n",
       "    </tr>\n",
       "    <tr>\n",
       "      <th>17</th>\n",
       "      <td>james 2 slow</td>\n",
       "      <td>373</td>\n",
       "      <td>604</td>\n",
       "    </tr>\n",
       "    <tr>\n",
       "      <th>18</th>\n",
       "      <td>james 3 slow</td>\n",
       "      <td>539</td>\n",
       "      <td>771</td>\n",
       "    </tr>\n",
       "    <tr>\n",
       "      <th>19</th>\n",
       "      <td>james 4 slow</td>\n",
       "      <td>194</td>\n",
       "      <td>418</td>\n",
       "    </tr>\n",
       "    <tr>\n",
       "      <th>20</th>\n",
       "      <td>james 5 slow</td>\n",
       "      <td>360</td>\n",
       "      <td>583</td>\n",
       "    </tr>\n",
       "    <tr>\n",
       "      <th>21</th>\n",
       "      <td>james 6 slow</td>\n",
       "      <td>412</td>\n",
       "      <td>645</td>\n",
       "    </tr>\n",
       "    <tr>\n",
       "      <th>22</th>\n",
       "      <td>james 7 slow</td>\n",
       "      <td>566</td>\n",
       "      <td>796</td>\n",
       "    </tr>\n",
       "    <tr>\n",
       "      <th>23</th>\n",
       "      <td>liam 3 slow</td>\n",
       "      <td>365</td>\n",
       "      <td>574</td>\n",
       "    </tr>\n",
       "    <tr>\n",
       "      <th>24</th>\n",
       "      <td>liam 4 slow</td>\n",
       "      <td>420</td>\n",
       "      <td>625</td>\n",
       "    </tr>\n",
       "    <tr>\n",
       "      <th>25</th>\n",
       "      <td>liam 5 slow</td>\n",
       "      <td>294</td>\n",
       "      <td>505</td>\n",
       "    </tr>\n",
       "    <tr>\n",
       "      <th>26</th>\n",
       "      <td>liam 6 slow</td>\n",
       "      <td>426</td>\n",
       "      <td>643</td>\n",
       "    </tr>\n",
       "    <tr>\n",
       "      <th>27</th>\n",
       "      <td>liam 7 slow</td>\n",
       "      <td>233</td>\n",
       "      <td>452</td>\n",
       "    </tr>\n",
       "    <tr>\n",
       "      <th>28</th>\n",
       "      <td>liam 8 slow</td>\n",
       "      <td>224</td>\n",
       "      <td>434</td>\n",
       "    </tr>\n",
       "    <tr>\n",
       "      <th>29</th>\n",
       "      <td>patrick 3 slow</td>\n",
       "      <td>94</td>\n",
       "      <td>365</td>\n",
       "    </tr>\n",
       "    <tr>\n",
       "      <th>30</th>\n",
       "      <td>patrick 4 slow</td>\n",
       "      <td>271</td>\n",
       "      <td>543</td>\n",
       "    </tr>\n",
       "    <tr>\n",
       "      <th>31</th>\n",
       "      <td>patrick 5 slow</td>\n",
       "      <td>180</td>\n",
       "      <td>439</td>\n",
       "    </tr>\n",
       "    <tr>\n",
       "      <th>32</th>\n",
       "      <td>patrick 6 slow</td>\n",
       "      <td>289</td>\n",
       "      <td>557</td>\n",
       "    </tr>\n",
       "    <tr>\n",
       "      <th>33</th>\n",
       "      <td>patrick 7 slow</td>\n",
       "      <td>265</td>\n",
       "      <td>520</td>\n",
       "    </tr>\n",
       "    <tr>\n",
       "      <th>34</th>\n",
       "      <td>patrick 8 slow</td>\n",
       "      <td>230</td>\n",
       "      <td>496</td>\n",
       "    </tr>\n",
       "    <tr>\n",
       "      <th>35</th>\n",
       "      <td>patrick 9 slow</td>\n",
       "      <td>176</td>\n",
       "      <td>426</td>\n",
       "    </tr>\n",
       "    <tr>\n",
       "      <th>36</th>\n",
       "      <td>scott 3 slow</td>\n",
       "      <td>213</td>\n",
       "      <td>440</td>\n",
       "    </tr>\n",
       "    <tr>\n",
       "      <th>37</th>\n",
       "      <td>scott 4 slow</td>\n",
       "      <td>123</td>\n",
       "      <td>358</td>\n",
       "    </tr>\n",
       "    <tr>\n",
       "      <th>38</th>\n",
       "      <td>scott 5 slow</td>\n",
       "      <td>446</td>\n",
       "      <td>680</td>\n",
       "    </tr>\n",
       "    <tr>\n",
       "      <th>39</th>\n",
       "      <td>scott 6 slow</td>\n",
       "      <td>528</td>\n",
       "      <td>765</td>\n",
       "    </tr>\n",
       "    <tr>\n",
       "      <th>40</th>\n",
       "      <td>scott 7 slow</td>\n",
       "      <td>287</td>\n",
       "      <td>518</td>\n",
       "    </tr>\n",
       "    <tr>\n",
       "      <th>41</th>\n",
       "      <td>scott 9 slow</td>\n",
       "      <td>73</td>\n",
       "      <td>308</td>\n",
       "    </tr>\n",
       "    <tr>\n",
       "      <th>42</th>\n",
       "      <td>Lak6</td>\n",
       "      <td>484</td>\n",
       "      <td>576</td>\n",
       "    </tr>\n",
       "    <tr>\n",
       "      <th>43</th>\n",
       "      <td>Lak7</td>\n",
       "      <td>688</td>\n",
       "      <td>792</td>\n",
       "    </tr>\n",
       "    <tr>\n",
       "      <th>44</th>\n",
       "      <td>Lak8</td>\n",
       "      <td>524</td>\n",
       "      <td>597</td>\n",
       "    </tr>\n",
       "    <tr>\n",
       "      <th>45</th>\n",
       "      <td>Lak9</td>\n",
       "      <td>528</td>\n",
       "      <td>636</td>\n",
       "    </tr>\n",
       "    <tr>\n",
       "      <th>46</th>\n",
       "      <td>Lak10</td>\n",
       "      <td>492</td>\n",
       "      <td>576</td>\n",
       "    </tr>\n",
       "    <tr>\n",
       "      <th>47</th>\n",
       "      <td>kev 1 slow</td>\n",
       "      <td>144</td>\n",
       "      <td>393</td>\n",
       "    </tr>\n",
       "    <tr>\n",
       "      <th>48</th>\n",
       "      <td>kev 2 slow</td>\n",
       "      <td>311</td>\n",
       "      <td>550</td>\n",
       "    </tr>\n",
       "    <tr>\n",
       "      <th>49</th>\n",
       "      <td>kev 3 slow</td>\n",
       "      <td>196</td>\n",
       "      <td>440</td>\n",
       "    </tr>\n",
       "    <tr>\n",
       "      <th>50</th>\n",
       "      <td>kev 4 slow</td>\n",
       "      <td>329</td>\n",
       "      <td>580</td>\n",
       "    </tr>\n",
       "    <tr>\n",
       "      <th>51</th>\n",
       "      <td>kev 5 slow</td>\n",
       "      <td>416</td>\n",
       "      <td>679</td>\n",
       "    </tr>\n",
       "    <tr>\n",
       "      <th>52</th>\n",
       "      <td>kev 6 slow</td>\n",
       "      <td>373</td>\n",
       "      <td>612</td>\n",
       "    </tr>\n",
       "  </tbody>\n",
       "</table>\n",
       "</div>"
      ],
      "text/plain": [
       "         File Name  Ball Release  Hit Row\n",
       "0             Lak2           712      789\n",
       "1             Lak3           608      692\n",
       "2             Lak4           715      797\n",
       "3             Lak5           762      836\n",
       "4       cam 3 slow           405      637\n",
       "5       cam 4 slow           566      789\n",
       "6       cam 5 slow           381      613\n",
       "7       cam 6 slow           382      615\n",
       "8       cam 7 slow           348      579\n",
       "9       cam 8 slow           541      765\n",
       "10      cam 9 slow           474      707\n",
       "11     ewan 3 slow           220      444\n",
       "12     ewan 4 slow           318      544\n",
       "13     ewan 5 slow           257      482\n",
       "14     ewan 6 slow           285      500\n",
       "15     ewan 7 slow           290      512\n",
       "16     ewan 9 slow           280      513\n",
       "17    james 2 slow           373      604\n",
       "18    james 3 slow           539      771\n",
       "19    james 4 slow           194      418\n",
       "20    james 5 slow           360      583\n",
       "21    james 6 slow           412      645\n",
       "22    james 7 slow           566      796\n",
       "23     liam 3 slow           365      574\n",
       "24     liam 4 slow           420      625\n",
       "25     liam 5 slow           294      505\n",
       "26     liam 6 slow           426      643\n",
       "27     liam 7 slow           233      452\n",
       "28     liam 8 slow           224      434\n",
       "29  patrick 3 slow            94      365\n",
       "30  patrick 4 slow           271      543\n",
       "31  patrick 5 slow           180      439\n",
       "32  patrick 6 slow           289      557\n",
       "33  patrick 7 slow           265      520\n",
       "34  patrick 8 slow           230      496\n",
       "35  patrick 9 slow           176      426\n",
       "36    scott 3 slow           213      440\n",
       "37    scott 4 slow           123      358\n",
       "38    scott 5 slow           446      680\n",
       "39    scott 6 slow           528      765\n",
       "40    scott 7 slow           287      518\n",
       "41    scott 9 slow            73      308\n",
       "42            Lak6           484      576\n",
       "43            Lak7           688      792\n",
       "44            Lak8           524      597\n",
       "45            Lak9           528      636\n",
       "46           Lak10           492      576\n",
       "47      kev 1 slow           144      393\n",
       "48      kev 2 slow           311      550\n",
       "49      kev 3 slow           196      440\n",
       "50      kev 4 slow           329      580\n",
       "51      kev 5 slow           416      679\n",
       "52      kev 6 slow           373      612"
      ]
     },
     "execution_count": 41,
     "metadata": {},
     "output_type": "execute_result"
    }
   ],
   "source": [
    "frames"
   ]
  },
  {
   "cell_type": "code",
   "execution_count": 50,
   "id": "2f02b33a",
   "metadata": {},
   "outputs": [
    {
     "name": "stdout",
     "output_type": "stream",
     "text": [
      "Lak2 712 789\n",
      "706    Lak2\n",
      "707    Lak2\n",
      "708    Lak2\n",
      "709    Lak2\n",
      "710    Lak2\n",
      "       ... \n",
      "790    Lak2\n",
      "791    Lak2\n",
      "792    Lak2\n",
      "793    Lak2\n",
      "794    Lak2\n",
      "Name: File, Length: 89, dtype: object\n",
      "Lak3 608 692\n",
      "602    Lak2\n",
      "603    Lak2\n",
      "604    Lak2\n",
      "605    Lak2\n",
      "606    Lak2\n",
      "       ... \n",
      "693    Lak2\n",
      "694    Lak2\n",
      "695    Lak2\n",
      "696    Lak2\n",
      "697    Lak2\n",
      "Name: File, Length: 96, dtype: object\n",
      "Lak4 715 797\n",
      "709    Lak2\n",
      "710    Lak2\n",
      "711    Lak2\n",
      "712    Lak2\n",
      "713    Lak2\n",
      "       ... \n",
      "798    Lak2\n",
      "799    Lak2\n",
      "800    Lak2\n",
      "801    Lak2\n",
      "802    Lak2\n",
      "Name: File, Length: 94, dtype: object\n",
      "Lak5 762 836\n",
      "756    Lak2\n",
      "757    Lak2\n",
      "758    Lak2\n",
      "759    Lak2\n",
      "760    Lak2\n",
      "       ... \n",
      "837    Lak2\n",
      "838    Lak2\n",
      "839    Lak2\n",
      "840    Lak2\n",
      "841    Lak2\n",
      "Name: File, Length: 86, dtype: object\n",
      "cam 3 slow 405 637\n",
      "399    Lak2\n",
      "400    Lak2\n",
      "401    Lak2\n",
      "402    Lak2\n",
      "403    Lak2\n",
      "       ... \n",
      "638    Lak2\n",
      "639    Lak2\n",
      "640    Lak2\n",
      "641    Lak2\n",
      "642    Lak2\n",
      "Name: File, Length: 244, dtype: object\n",
      "cam 4 slow 566 789\n",
      "560    Lak2\n",
      "561    Lak2\n",
      "562    Lak2\n",
      "563    Lak2\n",
      "564    Lak2\n",
      "       ... \n",
      "790    Lak2\n",
      "791    Lak2\n",
      "792    Lak2\n",
      "793    Lak2\n",
      "794    Lak2\n",
      "Name: File, Length: 235, dtype: object\n",
      "cam 5 slow 381 613\n",
      "375    Lak2\n",
      "376    Lak2\n",
      "377    Lak2\n",
      "378    Lak2\n",
      "379    Lak2\n",
      "       ... \n",
      "614    Lak2\n",
      "615    Lak2\n",
      "616    Lak2\n",
      "617    Lak2\n",
      "618    Lak2\n",
      "Name: File, Length: 244, dtype: object\n",
      "cam 6 slow 382 615\n",
      "376    Lak2\n",
      "377    Lak2\n",
      "378    Lak2\n",
      "379    Lak2\n",
      "380    Lak2\n",
      "       ... \n",
      "616    Lak2\n",
      "617    Lak2\n",
      "618    Lak2\n",
      "619    Lak2\n",
      "620    Lak2\n",
      "Name: File, Length: 245, dtype: object\n",
      "cam 7 slow 348 579\n",
      "342    Lak2\n",
      "343    Lak2\n",
      "344    Lak2\n",
      "345    Lak2\n",
      "346    Lak2\n",
      "       ... \n",
      "580    Lak2\n",
      "581    Lak2\n",
      "582    Lak2\n",
      "583    Lak2\n",
      "584    Lak2\n",
      "Name: File, Length: 243, dtype: object\n",
      "cam 8 slow 541 765\n",
      "535    Lak2\n",
      "536    Lak2\n",
      "537    Lak2\n",
      "538    Lak2\n",
      "539    Lak2\n",
      "       ... \n",
      "766    Lak2\n",
      "767    Lak2\n",
      "768    Lak2\n",
      "769    Lak2\n",
      "770    Lak2\n",
      "Name: File, Length: 236, dtype: object\n",
      "cam 9 slow 474 707\n",
      "468    Lak2\n",
      "469    Lak2\n",
      "470    Lak2\n",
      "471    Lak2\n",
      "472    Lak2\n",
      "       ... \n",
      "708    Lak2\n",
      "709    Lak2\n",
      "710    Lak2\n",
      "711    Lak2\n",
      "712    Lak2\n",
      "Name: File, Length: 245, dtype: object\n",
      "ewan 3 slow 220 444\n",
      "214    Lak2\n",
      "215    Lak2\n",
      "216    Lak2\n",
      "217    Lak2\n",
      "218    Lak2\n",
      "       ... \n",
      "445    Lak2\n",
      "446    Lak2\n",
      "447    Lak2\n",
      "448    Lak2\n",
      "449    Lak2\n",
      "Name: File, Length: 236, dtype: object\n",
      "ewan 4 slow 318 544\n",
      "312    Lak2\n",
      "313    Lak2\n",
      "314    Lak2\n",
      "315    Lak2\n",
      "316    Lak2\n",
      "       ... \n",
      "545    Lak2\n",
      "546    Lak2\n",
      "547    Lak2\n",
      "548    Lak2\n",
      "549    Lak2\n",
      "Name: File, Length: 238, dtype: object\n",
      "ewan 5 slow 257 482\n",
      "251    Lak2\n",
      "252    Lak2\n",
      "253    Lak2\n",
      "254    Lak2\n",
      "255    Lak2\n",
      "       ... \n",
      "483    Lak2\n",
      "484    Lak2\n",
      "485    Lak2\n",
      "486    Lak2\n",
      "487    Lak2\n",
      "Name: File, Length: 237, dtype: object\n",
      "ewan 6 slow 285 500\n",
      "279    Lak2\n",
      "280    Lak2\n",
      "281    Lak2\n",
      "282    Lak2\n",
      "283    Lak2\n",
      "       ... \n",
      "501    Lak2\n",
      "502    Lak2\n",
      "503    Lak2\n",
      "504    Lak2\n",
      "505    Lak2\n",
      "Name: File, Length: 227, dtype: object\n",
      "ewan 7 slow 290 512\n",
      "284    Lak2\n",
      "285    Lak2\n",
      "286    Lak2\n",
      "287    Lak2\n",
      "288    Lak2\n",
      "       ... \n",
      "513    Lak2\n",
      "514    Lak2\n",
      "515    Lak2\n",
      "516    Lak2\n",
      "517    Lak2\n",
      "Name: File, Length: 234, dtype: object\n",
      "ewan 9 slow 280 513\n",
      "274    Lak2\n",
      "275    Lak2\n",
      "276    Lak2\n",
      "277    Lak2\n",
      "278    Lak2\n",
      "       ... \n",
      "514    Lak2\n",
      "515    Lak2\n",
      "516    Lak2\n",
      "517    Lak2\n",
      "518    Lak2\n",
      "Name: File, Length: 245, dtype: object\n",
      "james 2 slow 373 604\n",
      "367    Lak2\n",
      "368    Lak2\n",
      "369    Lak2\n",
      "370    Lak2\n",
      "371    Lak2\n",
      "       ... \n",
      "605    Lak2\n",
      "606    Lak2\n",
      "607    Lak2\n",
      "608    Lak2\n",
      "609    Lak2\n",
      "Name: File, Length: 243, dtype: object\n",
      "james 3 slow 539 771\n",
      "533    Lak2\n",
      "534    Lak2\n",
      "535    Lak2\n",
      "536    Lak2\n",
      "537    Lak2\n",
      "       ... \n",
      "772    Lak2\n",
      "773    Lak2\n",
      "774    Lak2\n",
      "775    Lak2\n",
      "776    Lak2\n",
      "Name: File, Length: 244, dtype: object\n",
      "james 4 slow 194 418\n",
      "188    Lak2\n",
      "189    Lak2\n",
      "190    Lak2\n",
      "191    Lak2\n",
      "192    Lak2\n",
      "       ... \n",
      "419    Lak2\n",
      "420    Lak2\n",
      "421    Lak2\n",
      "422    Lak2\n",
      "423    Lak2\n",
      "Name: File, Length: 236, dtype: object\n",
      "james 5 slow 360 583\n",
      "354    Lak2\n",
      "355    Lak2\n",
      "356    Lak2\n",
      "357    Lak2\n",
      "358    Lak2\n",
      "       ... \n",
      "584    Lak2\n",
      "585    Lak2\n",
      "586    Lak2\n",
      "587    Lak2\n",
      "588    Lak2\n",
      "Name: File, Length: 235, dtype: object\n",
      "james 6 slow 412 645\n",
      "406    Lak2\n",
      "407    Lak2\n",
      "408    Lak2\n",
      "409    Lak2\n",
      "410    Lak2\n",
      "       ... \n",
      "646    Lak2\n",
      "647    Lak2\n",
      "648    Lak2\n",
      "649    Lak2\n",
      "650    Lak2\n",
      "Name: File, Length: 245, dtype: object\n",
      "james 7 slow 566 796\n",
      "560    Lak2\n",
      "561    Lak2\n",
      "562    Lak2\n",
      "563    Lak2\n",
      "564    Lak2\n",
      "       ... \n",
      "797    Lak2\n",
      "798    Lak2\n",
      "799    Lak2\n",
      "800    Lak2\n",
      "801    Lak2\n",
      "Name: File, Length: 242, dtype: object\n",
      "liam 3 slow 365 574\n",
      "359    Lak2\n",
      "360    Lak2\n",
      "361    Lak2\n",
      "362    Lak2\n",
      "363    Lak2\n",
      "       ... \n",
      "575    Lak2\n",
      "576    Lak2\n",
      "577    Lak2\n",
      "578    Lak2\n",
      "579    Lak2\n",
      "Name: File, Length: 221, dtype: object\n",
      "liam 4 slow 420 625\n",
      "414    Lak2\n",
      "415    Lak2\n",
      "416    Lak2\n",
      "417    Lak2\n",
      "418    Lak2\n",
      "       ... \n",
      "626    Lak2\n",
      "627    Lak2\n",
      "628    Lak2\n",
      "629    Lak2\n",
      "630    Lak2\n",
      "Name: File, Length: 217, dtype: object\n",
      "liam 5 slow 294 505\n",
      "288    Lak2\n",
      "289    Lak2\n",
      "290    Lak2\n",
      "291    Lak2\n",
      "292    Lak2\n",
      "       ... \n",
      "506    Lak2\n",
      "507    Lak2\n",
      "508    Lak2\n",
      "509    Lak2\n",
      "510    Lak2\n",
      "Name: File, Length: 223, dtype: object\n",
      "liam 6 slow 426 643\n",
      "420    Lak2\n",
      "421    Lak2\n",
      "422    Lak2\n",
      "423    Lak2\n",
      "424    Lak2\n",
      "       ... \n",
      "644    Lak2\n",
      "645    Lak2\n",
      "646    Lak2\n",
      "647    Lak2\n",
      "648    Lak2\n",
      "Name: File, Length: 229, dtype: object\n",
      "liam 7 slow 233 452\n",
      "227    Lak2\n",
      "228    Lak2\n",
      "229    Lak2\n",
      "230    Lak2\n",
      "231    Lak2\n",
      "       ... \n",
      "453    Lak2\n",
      "454    Lak2\n",
      "455    Lak2\n",
      "456    Lak2\n",
      "457    Lak2\n",
      "Name: File, Length: 231, dtype: object\n",
      "liam 8 slow 224 434\n",
      "218    Lak2\n",
      "219    Lak2\n",
      "220    Lak2\n",
      "221    Lak2\n",
      "222    Lak2\n",
      "       ... \n",
      "435    Lak2\n",
      "436    Lak2\n",
      "437    Lak2\n",
      "438    Lak2\n",
      "439    Lak2\n",
      "Name: File, Length: 222, dtype: object\n",
      "patrick 3 slow 94 365\n",
      "88     Lak2\n",
      "89     Lak2\n",
      "90     Lak2\n",
      "91     Lak2\n",
      "92     Lak2\n",
      "       ... \n",
      "366    Lak2\n",
      "367    Lak2\n",
      "368    Lak2\n",
      "369    Lak2\n",
      "370    Lak2\n",
      "Name: File, Length: 283, dtype: object\n",
      "patrick 4 slow 271 543\n",
      "265    Lak2\n",
      "266    Lak2\n",
      "267    Lak2\n",
      "268    Lak2\n",
      "269    Lak2\n",
      "       ... \n",
      "544    Lak2\n",
      "545    Lak2\n",
      "546    Lak2\n",
      "547    Lak2\n",
      "548    Lak2\n",
      "Name: File, Length: 284, dtype: object\n",
      "patrick 5 slow 180 439\n",
      "174    Lak2\n",
      "175    Lak2\n",
      "176    Lak2\n",
      "177    Lak2\n",
      "178    Lak2\n",
      "       ... \n",
      "440    Lak2\n",
      "441    Lak2\n",
      "442    Lak2\n",
      "443    Lak2\n",
      "444    Lak2\n",
      "Name: File, Length: 271, dtype: object\n",
      "patrick 6 slow 289 557\n",
      "283    Lak2\n",
      "284    Lak2\n",
      "285    Lak2\n",
      "286    Lak2\n",
      "287    Lak2\n",
      "       ... \n",
      "558    Lak2\n",
      "559    Lak2\n",
      "560    Lak2\n",
      "561    Lak2\n",
      "562    Lak2\n",
      "Name: File, Length: 280, dtype: object\n",
      "patrick 7 slow 265 520\n",
      "259    Lak2\n",
      "260    Lak2\n",
      "261    Lak2\n",
      "262    Lak2\n",
      "263    Lak2\n",
      "       ... \n",
      "521    Lak2\n",
      "522    Lak2\n",
      "523    Lak2\n",
      "524    Lak2\n",
      "525    Lak2\n",
      "Name: File, Length: 267, dtype: object\n",
      "patrick 8 slow 230 496\n",
      "224    Lak2\n",
      "225    Lak2\n",
      "226    Lak2\n",
      "227    Lak2\n",
      "228    Lak2\n",
      "       ... \n",
      "497    Lak2\n",
      "498    Lak2\n",
      "499    Lak2\n",
      "500    Lak2\n",
      "501    Lak2\n",
      "Name: File, Length: 278, dtype: object\n",
      "patrick 9 slow 176 426\n",
      "170    Lak2\n",
      "171    Lak2\n",
      "172    Lak2\n",
      "173    Lak2\n",
      "174    Lak2\n",
      "       ... \n",
      "427    Lak2\n",
      "428    Lak2\n",
      "429    Lak2\n",
      "430    Lak2\n",
      "431    Lak2\n",
      "Name: File, Length: 262, dtype: object\n",
      "scott 3 slow 213 440\n",
      "207    Lak2\n",
      "208    Lak2\n",
      "209    Lak2\n",
      "210    Lak2\n",
      "211    Lak2\n",
      "       ... \n",
      "441    Lak2\n",
      "442    Lak2\n",
      "443    Lak2\n",
      "444    Lak2\n",
      "445    Lak2\n",
      "Name: File, Length: 239, dtype: object\n",
      "scott 4 slow 123 358\n",
      "117    Lak2\n",
      "118    Lak2\n",
      "119    Lak2\n",
      "120    Lak2\n",
      "121    Lak2\n",
      "       ... \n",
      "359    Lak2\n",
      "360    Lak2\n",
      "361    Lak2\n",
      "362    Lak2\n",
      "363    Lak2\n",
      "Name: File, Length: 247, dtype: object\n",
      "scott 5 slow 446 680\n",
      "440    Lak2\n",
      "441    Lak2\n",
      "442    Lak2\n",
      "443    Lak2\n",
      "444    Lak2\n",
      "       ... \n",
      "681    Lak2\n",
      "682    Lak2\n",
      "683    Lak2\n",
      "684    Lak2\n",
      "685    Lak2\n",
      "Name: File, Length: 246, dtype: object\n",
      "scott 6 slow 528 765\n",
      "522    Lak2\n",
      "523    Lak2\n",
      "524    Lak2\n",
      "525    Lak2\n",
      "526    Lak2\n",
      "       ... \n",
      "766    Lak2\n",
      "767    Lak2\n",
      "768    Lak2\n",
      "769    Lak2\n",
      "770    Lak2\n",
      "Name: File, Length: 249, dtype: object\n",
      "scott 7 slow 287 518\n",
      "281    Lak2\n",
      "282    Lak2\n",
      "283    Lak2\n",
      "284    Lak2\n",
      "285    Lak2\n",
      "       ... \n",
      "519    Lak2\n",
      "520    Lak2\n",
      "521    Lak2\n",
      "522    Lak2\n",
      "523    Lak2\n",
      "Name: File, Length: 243, dtype: object\n",
      "scott 9 slow 73 308\n",
      "67     Lak2\n",
      "68     Lak2\n",
      "69     Lak2\n",
      "70     Lak2\n",
      "71     Lak2\n",
      "       ... \n",
      "309    Lak2\n",
      "310    Lak2\n",
      "311    Lak2\n",
      "312    Lak2\n",
      "313    Lak2\n",
      "Name: File, Length: 247, dtype: object\n",
      "Lak6 484 576\n",
      "478    Lak2\n",
      "479    Lak2\n",
      "480    Lak2\n",
      "481    Lak2\n",
      "482    Lak2\n",
      "       ... \n",
      "577    Lak2\n",
      "578    Lak2\n",
      "579    Lak2\n",
      "580    Lak2\n",
      "581    Lak2\n",
      "Name: File, Length: 104, dtype: object\n",
      "Lak7 688 792\n",
      "682    Lak2\n",
      "683    Lak2\n",
      "684    Lak2\n",
      "685    Lak2\n",
      "686    Lak2\n",
      "       ... \n",
      "793    Lak2\n",
      "794    Lak2\n",
      "795    Lak2\n",
      "796    Lak2\n",
      "797    Lak2\n",
      "Name: File, Length: 116, dtype: object\n",
      "Lak8 524 597\n",
      "518    Lak2\n",
      "519    Lak2\n",
      "520    Lak2\n",
      "521    Lak2\n",
      "522    Lak2\n",
      "       ... \n",
      "598    Lak2\n",
      "599    Lak2\n",
      "600    Lak2\n",
      "601    Lak2\n",
      "602    Lak2\n",
      "Name: File, Length: 85, dtype: object\n",
      "Lak9 528 636\n",
      "522    Lak2\n",
      "523    Lak2\n",
      "524    Lak2\n",
      "525    Lak2\n",
      "526    Lak2\n",
      "       ... \n",
      "637    Lak2\n",
      "638    Lak2\n",
      "639    Lak2\n",
      "640    Lak2\n",
      "641    Lak2\n",
      "Name: File, Length: 120, dtype: object\n",
      "Lak10 492 576\n",
      "486    Lak2\n",
      "487    Lak2\n",
      "488    Lak2\n",
      "489    Lak2\n",
      "490    Lak2\n",
      "       ... \n",
      "577    Lak2\n",
      "578    Lak2\n",
      "579    Lak2\n",
      "580    Lak2\n",
      "581    Lak2\n",
      "Name: File, Length: 96, dtype: object\n",
      "kev 1 slow 144 393\n",
      "138    Lak2\n",
      "139    Lak2\n",
      "140    Lak2\n",
      "141    Lak2\n",
      "142    Lak2\n",
      "       ... \n",
      "394    Lak2\n",
      "395    Lak2\n",
      "396    Lak2\n",
      "397    Lak2\n",
      "398    Lak2\n",
      "Name: File, Length: 261, dtype: object\n",
      "kev 2 slow 311 550\n",
      "305    Lak2\n",
      "306    Lak2\n",
      "307    Lak2\n",
      "308    Lak2\n",
      "309    Lak2\n",
      "       ... \n",
      "551    Lak2\n",
      "552    Lak2\n",
      "553    Lak2\n",
      "554    Lak2\n",
      "555    Lak2\n",
      "Name: File, Length: 251, dtype: object\n",
      "kev 3 slow 196 440\n",
      "190    Lak2\n",
      "191    Lak2\n",
      "192    Lak2\n",
      "193    Lak2\n",
      "194    Lak2\n",
      "       ... \n",
      "441    Lak2\n",
      "442    Lak2\n",
      "443    Lak2\n",
      "444    Lak2\n",
      "445    Lak2\n",
      "Name: File, Length: 256, dtype: object\n",
      "kev 4 slow 329 580\n"
     ]
    },
    {
     "name": "stdout",
     "output_type": "stream",
     "text": [
      "323    Lak2\n",
      "324    Lak2\n",
      "325    Lak2\n",
      "326    Lak2\n",
      "327    Lak2\n",
      "       ... \n",
      "581    Lak2\n",
      "582    Lak2\n",
      "583    Lak2\n",
      "584    Lak2\n",
      "585    Lak2\n",
      "Name: File, Length: 263, dtype: object\n",
      "kev 5 slow 416 679\n",
      "410    Lak2\n",
      "411    Lak2\n",
      "412    Lak2\n",
      "413    Lak2\n",
      "414    Lak2\n",
      "       ... \n",
      "680    Lak2\n",
      "681    Lak2\n",
      "682    Lak2\n",
      "683    Lak2\n",
      "684    Lak2\n",
      "Name: File, Length: 275, dtype: object\n",
      "kev 6 slow 373 612\n",
      "367    Lak2\n",
      "368    Lak2\n",
      "369    Lak2\n",
      "370    Lak2\n",
      "371    Lak2\n",
      "       ... \n",
      "613    Lak2\n",
      "614    Lak2\n",
      "615    Lak2\n",
      "616    Lak2\n",
      "617    Lak2\n",
      "Name: File, Length: 251, dtype: object\n"
     ]
    }
   ],
   "source": [
    "for i in range(len(frames)):\n",
    "    print(frames.iloc[i][0],frames.iloc[i][1],frames.iloc[i][2])\n",
    "    for name in np.unique(model_data['File']):    \n",
    "        if frames.iloc[i][0] == name:\n",
    "            print(model_data[frames.iloc[i][1]-6:frames.iloc[i][2]+6]['File'])"
   ]
  },
  {
   "cell_type": "code",
   "execution_count": 32,
   "id": "9fb4aa0e",
   "metadata": {},
   "outputs": [],
   "source": [
    "file_list = np.unique(model_data['File'])\n",
    "d = lstm_data(model_data,frames,file_list)"
   ]
  },
  {
   "cell_type": "code",
   "execution_count": 34,
   "id": "173a9423",
   "metadata": {},
   "outputs": [
    {
     "data": {
      "text/plain": [
       "706    Before\n",
       "707    Before\n",
       "708    Before\n",
       "709    Before\n",
       "710    Before\n",
       "        ...  \n",
       "613    Before\n",
       "614    Before\n",
       "615    Before\n",
       "616    Before\n",
       "617    Before\n",
       "Name: Class_1, Length: 11736, dtype: object"
      ]
     },
     "execution_count": 34,
     "metadata": {},
     "output_type": "execute_result"
    }
   ],
   "source": [
    "d[\"Class_1\"]"
   ]
  },
  {
   "cell_type": "code",
   "execution_count": 35,
   "id": "8710097a",
   "metadata": {},
   "outputs": [],
   "source": [
    "d.to_csv(r\"C:\\Users\\ASUS\\OneDrive\\Documents\\Academics\\Summer Semester\\Dissertation\\Model_out\\LSTM_In.csv\")"
   ]
  },
  {
   "cell_type": "code",
   "execution_count": 31,
   "id": "a7a5f63d",
   "metadata": {},
   "outputs": [
    {
     "data": {
      "text/plain": [
       "700"
      ]
     },
     "execution_count": 31,
     "metadata": {},
     "output_type": "execute_result"
    }
   ],
   "source": [
    "list(num).index(\"Toss\")"
   ]
  },
  {
   "cell_type": "code",
   "execution_count": 5,
   "id": "05bb5d0c",
   "metadata": {},
   "outputs": [],
   "source": [
    "def cal_ang(i,j,k,l):\n",
    "    \n",
    "    \n",
    "    angle_rad = []\n",
    "    sho_rand_angle = []\n",
    "    \n",
    "    for x1,y1,x2,y2 in zip(i,j,k,l):\n",
    "        \n",
    "        \n",
    "    \n",
    "        angle_rad.append(math.atan2( y2 - y1 , x2 - x1 ))\n",
    "        #angle_deg = math.degrees(angle_rad)\n",
    "        #nose_wrist_angle.append(pygame.math.Vector2(x1, y1).angle_to((x2, y2)))\n",
    "    \n",
    "        \n",
    "    return angle_rad\n"
   ]
  },
  {
   "cell_type": "code",
   "execution_count": 6,
   "id": "35e3a537",
   "metadata": {},
   "outputs": [],
   "source": [
    "feature_columns = ['NOSE_X', 'NOSE_Y', 'NOSE_Z', 'LEFT_SHOULDER_X', 'LEFT_SHOULDER_Y',\n",
    "       'LEFT_SHOULDER_Z', 'RIGHT_SHOULDER_X', 'RIGHT_SHOULDER_Y',\n",
    "       'RIGHT_SHOULDER_Z', 'LEFT_ELBOW_X', 'LEFT_ELBOW_Y', 'LEFT_ELBOW_Z',\n",
    "       'RIGHT_ELBOW_X', 'RIGHT_ELBOW_Y', 'RIGHT_ELBOW_Z', 'LEFT_WRIST_X',\n",
    "       'LEFT_WRIST_Y', 'LEFT_WRIST_Z', 'RIGHT_WRIST_X', 'RIGHT_WRIST_Y',\n",
    "       'RIGHT_WRIST_Z', 'LEFT_HIP_X', 'LEFT_HIP_Y', 'LEFT_HIP_Z',\n",
    "       'RIGHT_HIP_X', 'RIGHT_HIP_Y', 'RIGHT_HIP_Z', 'LEFT_KNEE_X',\n",
    "       'LEFT_KNEE_Y', 'LEFT_KNEE_Z', 'RIGHT_KNEE_X', 'RIGHT_KNEE_Y',\n",
    "       'RIGHT_KNEE_Z', 'LEFT_ANKLE_X', 'LEFT_ANKLE_Y', 'LEFT_ANKLE_Z',\n",
    "       'RIGHT_ANKLE_X', 'RIGHT_ANKLE_Y', 'RIGHT_ANKLE_Z', 'LEFT_HEEL_X',\n",
    "       'LEFT_HEEL_Y', 'LEFT_HEEL_Z', 'RIGHT_HEEL_X', 'RIGHT_HEEL_Y',\n",
    "       'RIGHT_HEEL_Z', 'LEFT_FOOT_INDEX_X', 'LEFT_FOOT_INDEX_Y',\n",
    "       'LEFT_FOOT_INDEX_Z', 'RIGHT_FOOT_INDEX_X', 'RIGHT_FOOT_INDEX_Y',\n",
    "       'RIGHT_FOOT_INDEX_Z' ,'Left_Sho_Wrist_Angle','Nose_Left_Wrist','Nose_Left_Elbow','Nose_Right_Wrist_Angle','Right_Sho_Wrist Angle','Nose_Right_Elbow']"
   ]
  },
  {
   "cell_type": "code",
   "execution_count": 8,
   "id": "7207f39e",
   "metadata": {},
   "outputs": [],
   "source": [
    "model_data = classify_data(12,frames,data_path)\n",
    "\n",
    "nose_ryt_wrist = cal_ang(model_data['NOSE_X'],model_data['NOSE_Y'],model_data['RIGHT_WRIST_X'],model_data['RIGHT_WRIST_Y'])\n",
    "sho_ryt_wrist = cal_ang(model_data['RIGHT_SHOULDER_X'],model_data['RIGHT_SHOULDER_Y'],model_data['RIGHT_WRIST_X'],model_data['RIGHT_WRIST_Y'])\n",
    "nose_ryt_elb = cal_ang(model_data['NOSE_X'],model_data['NOSE_Y'],model_data['RIGHT_ELBOW_X'],model_data['RIGHT_ELBOW_Y'])\n",
    "\n",
    "sho_left_wrist = cal_ang(model_data['LEFT_SHOULDER_X'],model_data['LEFT_SHOULDER_Y'],model_data['LEFT_WRIST_X'],model_data['LEFT_WRIST_Y'])\n",
    "nose_left_wrist = cal_ang(model_data['NOSE_X'],model_data['NOSE_Y'],model_data['LEFT_WRIST_X'],model_data['LEFT_WRIST_Y'])\n",
    "nose_left_elb = cal_ang(model_data['NOSE_X'],model_data['NOSE_Y'],model_data['LEFT_ELBOW_X'],model_data['LEFT_ELBOW_Y'])\n",
    "\n",
    "\n",
    "model_data['Nose_Right_Wrist_Angle'] = nose_ryt_wrist \n",
    "model_data['Right_Sho_Wrist Angle'] = sho_ryt_wrist\n",
    "model_data['Nose_Right_Elbow'] = nose_ryt_elb\n",
    "model_data['Left_Sho_Wrist_Angle'] = sho_left_wrist\n",
    "model_data['Nose_Left_Wrist'] = nose_left_wrist\n",
    "model_data['Nose_Left_Elbow'] = nose_left_elb\n",
    "\n",
    "file_names = np.unique(model_data['File'])\n",
    "\n",
    "\n",
    "#lstm = lstm_data(model_data,file_names)\n"
   ]
  },
  {
   "cell_type": "code",
   "execution_count": 14,
   "id": "9131b3bb",
   "metadata": {},
   "outputs": [
    {
     "data": {
      "text/plain": [
       "2155563"
      ]
     },
     "execution_count": 14,
     "metadata": {},
     "output_type": "execute_result"
    }
   ],
   "source": [
    "len(lstm)"
   ]
  },
  {
   "cell_type": "code",
   "execution_count": 13,
   "id": "f37b8fd8",
   "metadata": {},
   "outputs": [
    {
     "ename": "ValueError",
     "evalue": "This sheet is too large! Your sheet size is: 2155563, 66 Max sheet size is: 1048576, 16384",
     "output_type": "error",
     "traceback": [
      "\u001b[1;31m---------------------------------------------------------------------------\u001b[0m",
      "\u001b[1;31mValueError\u001b[0m                                Traceback (most recent call last)",
      "\u001b[1;32m<ipython-input-13-8c1d81e0f332>\u001b[0m in \u001b[0;36m<module>\u001b[1;34m\u001b[0m\n\u001b[1;32m----> 1\u001b[1;33m \u001b[0mlstm\u001b[0m\u001b[1;33m.\u001b[0m\u001b[0mto_excel\u001b[0m\u001b[1;33m(\u001b[0m\u001b[1;34mr\"C:\\Users\\ASUS\\OneDrive\\Documents\\Academics\\Summer Semester\\Dissertation\\Model_out\\codeGLSTM.xlsx\"\u001b[0m\u001b[1;33m)\u001b[0m\u001b[1;33m\u001b[0m\u001b[1;33m\u001b[0m\u001b[0m\n\u001b[0m",
      "\u001b[1;32m~\\anaconda3\\lib\\site-packages\\pandas\\core\\generic.py\u001b[0m in \u001b[0;36mto_excel\u001b[1;34m(self, excel_writer, sheet_name, na_rep, float_format, columns, header, index, index_label, startrow, startcol, engine, merge_cells, encoding, inf_rep, verbose, freeze_panes, storage_options)\u001b[0m\n\u001b[0;32m   2187\u001b[0m             \u001b[0minf_rep\u001b[0m\u001b[1;33m=\u001b[0m\u001b[0minf_rep\u001b[0m\u001b[1;33m,\u001b[0m\u001b[1;33m\u001b[0m\u001b[1;33m\u001b[0m\u001b[0m\n\u001b[0;32m   2188\u001b[0m         )\n\u001b[1;32m-> 2189\u001b[1;33m         formatter.write(\n\u001b[0m\u001b[0;32m   2190\u001b[0m             \u001b[0mexcel_writer\u001b[0m\u001b[1;33m,\u001b[0m\u001b[1;33m\u001b[0m\u001b[1;33m\u001b[0m\u001b[0m\n\u001b[0;32m   2191\u001b[0m             \u001b[0msheet_name\u001b[0m\u001b[1;33m=\u001b[0m\u001b[0msheet_name\u001b[0m\u001b[1;33m,\u001b[0m\u001b[1;33m\u001b[0m\u001b[1;33m\u001b[0m\u001b[0m\n",
      "\u001b[1;32m~\\anaconda3\\lib\\site-packages\\pandas\\io\\formats\\excel.py\u001b[0m in \u001b[0;36mwrite\u001b[1;34m(self, writer, sheet_name, startrow, startcol, freeze_panes, engine, storage_options)\u001b[0m\n\u001b[0;32m    801\u001b[0m         \u001b[0mnum_rows\u001b[0m\u001b[1;33m,\u001b[0m \u001b[0mnum_cols\u001b[0m \u001b[1;33m=\u001b[0m \u001b[0mself\u001b[0m\u001b[1;33m.\u001b[0m\u001b[0mdf\u001b[0m\u001b[1;33m.\u001b[0m\u001b[0mshape\u001b[0m\u001b[1;33m\u001b[0m\u001b[1;33m\u001b[0m\u001b[0m\n\u001b[0;32m    802\u001b[0m         \u001b[1;32mif\u001b[0m \u001b[0mnum_rows\u001b[0m \u001b[1;33m>\u001b[0m \u001b[0mself\u001b[0m\u001b[1;33m.\u001b[0m\u001b[0mmax_rows\u001b[0m \u001b[1;32mor\u001b[0m \u001b[0mnum_cols\u001b[0m \u001b[1;33m>\u001b[0m \u001b[0mself\u001b[0m\u001b[1;33m.\u001b[0m\u001b[0mmax_cols\u001b[0m\u001b[1;33m:\u001b[0m\u001b[1;33m\u001b[0m\u001b[1;33m\u001b[0m\u001b[0m\n\u001b[1;32m--> 803\u001b[1;33m             raise ValueError(\n\u001b[0m\u001b[0;32m    804\u001b[0m                 \u001b[1;34mf\"This sheet is too large! Your sheet size is: {num_rows}, {num_cols} \"\u001b[0m\u001b[1;33m\u001b[0m\u001b[1;33m\u001b[0m\u001b[0m\n\u001b[0;32m    805\u001b[0m                 \u001b[1;34mf\"Max sheet size is: {self.max_rows}, {self.max_cols}\"\u001b[0m\u001b[1;33m\u001b[0m\u001b[1;33m\u001b[0m\u001b[0m\n",
      "\u001b[1;31mValueError\u001b[0m: This sheet is too large! Your sheet size is: 2155563, 66 Max sheet size is: 1048576, 16384"
     ]
    }
   ],
   "source": [
    "lstm.to_excel(r\"C:\\Users\\ASUS\\OneDrive\\Documents\\Academics\\Summer Semester\\Dissertation\\Model_out\\codeGLSTM.xlsx\")"
   ]
  },
  {
   "cell_type": "code",
   "execution_count": 29,
   "id": "f00e91de",
   "metadata": {},
   "outputs": [],
   "source": [
    "model_data = pd.read_csv(r\"C:\\Users\\ASUS\\OneDrive\\Documents\\Academics\\Summer Semester\\Dissertation\\Model_out\\DataSet_16_08.csv\")"
   ]
  },
  {
   "cell_type": "code",
   "execution_count": 6,
   "id": "39f3763b",
   "metadata": {},
   "outputs": [],
   "source": [
    "def find_index(dataframe):\n",
    "    \n",
    "    hit_arr = model_data[\"Class_2\"]\n",
    "    np_hit_array = np.array(hit_arr)\n",
    "    item_hit_index = np.where(np_hit_array=='Toss')\n",
    "    ind_toss = item_hit_index[0][0]\n",
    "    \n",
    "    hit_arr = model_data[\"Class_1\"]\n",
    "    np_hit_array = np.array(hit_arr)\n",
    "    item_hit_index = np.where(np_hit_array=='Hit')\n",
    "    ind_hit = item_hit_index[0][-1]\n",
    "        \n",
    "    return ind_toss,ind_hit"
   ]
  },
  {
   "cell_type": "code",
   "execution_count": 33,
   "id": "b16955e5",
   "metadata": {},
   "outputs": [
    {
     "data": {
      "text/plain": [
       "41540"
      ]
     },
     "execution_count": 33,
     "metadata": {},
     "output_type": "execute_result"
    }
   ],
   "source": [
    "last_hit_index"
   ]
  },
  {
   "cell_type": "code",
   "execution_count": null,
   "id": "9d611a1a",
   "metadata": {},
   "outputs": [],
   "source": [
    "model_data.columns"
   ]
  },
  {
   "cell_type": "code",
   "execution_count": 8,
   "id": "c853062a",
   "metadata": {},
   "outputs": [],
   "source": [
    "input_data = model_data[760:40747]\n",
    "test = model_data[1:760]\n",
    "test_kev = model_data[40747:]"
   ]
  },
  {
   "cell_type": "code",
   "execution_count": 9,
   "id": "e8147096",
   "metadata": {},
   "outputs": [],
   "source": [
    "X = input_data[feature_columns]\n",
    "Y = input_data['Class_1']\n",
    "\n",
    "label_encoder = preprocessing.LabelEncoder()\n",
    "y = label_encoder.fit_transform(Y)\n",
    "\n",
    "X_train, X_test, y_train, y_test = train_test_split(X, y, test_size=0.3, random_state=42)"
   ]
  },
  {
   "cell_type": "code",
   "execution_count": null,
   "id": "d75cd00f",
   "metadata": {},
   "outputs": [],
   "source": [
    "X.columns"
   ]
  },
  {
   "cell_type": "markdown",
   "id": "f5fdaff2",
   "metadata": {},
   "source": [
    "*XG Boost Forest Hit Class*"
   ]
  },
  {
   "cell_type": "code",
   "execution_count": 10,
   "id": "4fcb4ab9",
   "metadata": {},
   "outputs": [
    {
     "data": {
      "text/plain": [
       "array(['After', 'Before', 'Hit'], dtype=object)"
      ]
     },
     "execution_count": 10,
     "metadata": {},
     "output_type": "execute_result"
    }
   ],
   "source": [
    "label_encoder.classes_"
   ]
  },
  {
   "cell_type": "code",
   "execution_count": 17,
   "id": "90d76814",
   "metadata": {},
   "outputs": [
    {
     "name": "stderr",
     "output_type": "stream",
     "text": [
      "C:\\Users\\ASUS\\anaconda3\\lib\\site-packages\\sklearn\\linear_model\\_coordinate_descent.py:470: ConvergenceWarning: Objective did not converge. You might want to increase the number of iterations. Duality gap: 0.6009365992977109, tolerance: 0.5220408315469802\n",
      "  model = cd_fast.enet_coordinate_descent_gram(\n",
      "C:\\Users\\ASUS\\anaconda3\\lib\\site-packages\\sklearn\\linear_model\\_coordinate_descent.py:470: ConvergenceWarning: Objective did not converge. You might want to increase the number of iterations. Duality gap: 0.5603830209661282, tolerance: 0.5220408315469802\n",
      "  model = cd_fast.enet_coordinate_descent_gram(\n",
      "C:\\Users\\ASUS\\anaconda3\\lib\\site-packages\\sklearn\\linear_model\\_coordinate_descent.py:470: ConvergenceWarning: Objective did not converge. You might want to increase the number of iterations. Duality gap: 0.5777735022879824, tolerance: 0.5220408315469802\n",
      "  model = cd_fast.enet_coordinate_descent_gram(\n",
      "C:\\Users\\ASUS\\anaconda3\\lib\\site-packages\\sklearn\\linear_model\\_coordinate_descent.py:470: ConvergenceWarning: Objective did not converge. You might want to increase the number of iterations. Duality gap: 0.7303671618660701, tolerance: 0.5220408315469802\n",
      "  model = cd_fast.enet_coordinate_descent_gram(\n",
      "C:\\Users\\ASUS\\anaconda3\\lib\\site-packages\\sklearn\\linear_model\\_coordinate_descent.py:470: ConvergenceWarning: Objective did not converge. You might want to increase the number of iterations. Duality gap: 0.8231546484112187, tolerance: 0.5220408315469802\n",
      "  model = cd_fast.enet_coordinate_descent_gram(\n",
      "C:\\Users\\ASUS\\anaconda3\\lib\\site-packages\\sklearn\\linear_model\\_coordinate_descent.py:470: ConvergenceWarning: Objective did not converge. You might want to increase the number of iterations. Duality gap: 0.8677695914534524, tolerance: 0.5220408315469802\n",
      "  model = cd_fast.enet_coordinate_descent_gram(\n",
      "C:\\Users\\ASUS\\anaconda3\\lib\\site-packages\\sklearn\\linear_model\\_coordinate_descent.py:470: ConvergenceWarning: Objective did not converge. You might want to increase the number of iterations. Duality gap: 0.8219180483479249, tolerance: 0.5220408315469802\n",
      "  model = cd_fast.enet_coordinate_descent_gram(\n",
      "C:\\Users\\ASUS\\anaconda3\\lib\\site-packages\\sklearn\\linear_model\\_coordinate_descent.py:470: ConvergenceWarning: Objective did not converge. You might want to increase the number of iterations. Duality gap: 0.8026779138729125, tolerance: 0.5220408315469802\n",
      "  model = cd_fast.enet_coordinate_descent_gram(\n",
      "C:\\Users\\ASUS\\anaconda3\\lib\\site-packages\\sklearn\\linear_model\\_coordinate_descent.py:470: ConvergenceWarning: Objective did not converge. You might want to increase the number of iterations. Duality gap: 1.266924662722431, tolerance: 0.5220408315469802\n",
      "  model = cd_fast.enet_coordinate_descent_gram(\n",
      "C:\\Users\\ASUS\\anaconda3\\lib\\site-packages\\sklearn\\linear_model\\_coordinate_descent.py:470: ConvergenceWarning: Objective did not converge. You might want to increase the number of iterations. Duality gap: 1.211287324884779, tolerance: 0.5220408315469802\n",
      "  model = cd_fast.enet_coordinate_descent_gram(\n",
      "C:\\Users\\ASUS\\anaconda3\\lib\\site-packages\\sklearn\\linear_model\\_coordinate_descent.py:470: ConvergenceWarning: Objective did not converge. You might want to increase the number of iterations. Duality gap: 1.1119782416562884, tolerance: 0.5220408315469802\n",
      "  model = cd_fast.enet_coordinate_descent_gram(\n",
      "C:\\Users\\ASUS\\anaconda3\\lib\\site-packages\\sklearn\\linear_model\\_coordinate_descent.py:470: ConvergenceWarning: Objective did not converge. You might want to increase the number of iterations. Duality gap: 1.1631608526772652, tolerance: 0.5220408315469802\n",
      "  model = cd_fast.enet_coordinate_descent_gram(\n",
      "C:\\Users\\ASUS\\anaconda3\\lib\\site-packages\\sklearn\\linear_model\\_coordinate_descent.py:470: ConvergenceWarning: Objective did not converge. You might want to increase the number of iterations. Duality gap: 2.168766160365749, tolerance: 0.5220408315469802\n",
      "  model = cd_fast.enet_coordinate_descent_gram(\n",
      "C:\\Users\\ASUS\\anaconda3\\lib\\site-packages\\sklearn\\linear_model\\_coordinate_descent.py:470: ConvergenceWarning: Objective did not converge. You might want to increase the number of iterations. Duality gap: 2.5977313475318624, tolerance: 0.5220408315469802\n",
      "  model = cd_fast.enet_coordinate_descent_gram(\n",
      "C:\\Users\\ASUS\\anaconda3\\lib\\site-packages\\sklearn\\linear_model\\_coordinate_descent.py:470: ConvergenceWarning: Objective did not converge. You might want to increase the number of iterations. Duality gap: 2.380281815568196, tolerance: 0.5220408315469802\n",
      "  model = cd_fast.enet_coordinate_descent_gram(\n",
      "C:\\Users\\ASUS\\anaconda3\\lib\\site-packages\\sklearn\\linear_model\\_coordinate_descent.py:470: ConvergenceWarning: Objective did not converge. You might want to increase the number of iterations. Duality gap: 2.9097468152313013, tolerance: 0.5220408315469802\n",
      "  model = cd_fast.enet_coordinate_descent_gram(\n",
      "C:\\Users\\ASUS\\anaconda3\\lib\\site-packages\\sklearn\\linear_model\\_coordinate_descent.py:470: ConvergenceWarning: Objective did not converge. You might want to increase the number of iterations. Duality gap: 10.345726935236598, tolerance: 0.5220408315469802\n",
      "  model = cd_fast.enet_coordinate_descent_gram(\n",
      "C:\\Users\\ASUS\\anaconda3\\lib\\site-packages\\sklearn\\linear_model\\_coordinate_descent.py:470: ConvergenceWarning: Objective did not converge. You might want to increase the number of iterations. Duality gap: 30.523682168622145, tolerance: 0.5220408315469802\n",
      "  model = cd_fast.enet_coordinate_descent_gram(\n",
      "C:\\Users\\ASUS\\anaconda3\\lib\\site-packages\\sklearn\\linear_model\\_coordinate_descent.py:470: ConvergenceWarning: Objective did not converge. You might want to increase the number of iterations. Duality gap: 47.713832672421404, tolerance: 0.5220408315469802\n",
      "  model = cd_fast.enet_coordinate_descent_gram(\n",
      "C:\\Users\\ASUS\\anaconda3\\lib\\site-packages\\sklearn\\linear_model\\_coordinate_descent.py:470: ConvergenceWarning: Objective did not converge. You might want to increase the number of iterations. Duality gap: 64.22139469095191, tolerance: 0.5220408315469802\n",
      "  model = cd_fast.enet_coordinate_descent_gram(\n",
      "C:\\Users\\ASUS\\anaconda3\\lib\\site-packages\\sklearn\\linear_model\\_coordinate_descent.py:470: ConvergenceWarning: Objective did not converge. You might want to increase the number of iterations. Duality gap: 77.1355719344383, tolerance: 0.5220408315469802\n",
      "  model = cd_fast.enet_coordinate_descent_gram(\n",
      "C:\\Users\\ASUS\\anaconda3\\lib\\site-packages\\sklearn\\linear_model\\_coordinate_descent.py:470: ConvergenceWarning: Objective did not converge. You might want to increase the number of iterations. Duality gap: 91.14623590148199, tolerance: 0.5220408315469802\n",
      "  model = cd_fast.enet_coordinate_descent_gram(\n",
      "C:\\Users\\ASUS\\anaconda3\\lib\\site-packages\\sklearn\\linear_model\\_coordinate_descent.py:470: ConvergenceWarning: Objective did not converge. You might want to increase the number of iterations. Duality gap: 97.71230867728877, tolerance: 0.5220408315469802\n",
      "  model = cd_fast.enet_coordinate_descent_gram(\n",
      "C:\\Users\\ASUS\\anaconda3\\lib\\site-packages\\sklearn\\linear_model\\_coordinate_descent.py:470: ConvergenceWarning: Objective did not converge. You might want to increase the number of iterations. Duality gap: 110.84725750431699, tolerance: 0.5220408315469802\n",
      "  model = cd_fast.enet_coordinate_descent_gram(\n",
      "C:\\Users\\ASUS\\anaconda3\\lib\\site-packages\\sklearn\\linear_model\\_coordinate_descent.py:470: ConvergenceWarning: Objective did not converge. You might want to increase the number of iterations. Duality gap: 137.51829671629866, tolerance: 0.5220408315469802\n",
      "  model = cd_fast.enet_coordinate_descent_gram(\n",
      "C:\\Users\\ASUS\\anaconda3\\lib\\site-packages\\sklearn\\linear_model\\_coordinate_descent.py:470: ConvergenceWarning: Objective did not converge. You might want to increase the number of iterations. Duality gap: 191.9734900910223, tolerance: 0.5220408315469802\n",
      "  model = cd_fast.enet_coordinate_descent_gram(\n",
      "C:\\Users\\ASUS\\anaconda3\\lib\\site-packages\\sklearn\\linear_model\\_coordinate_descent.py:470: ConvergenceWarning: Objective did not converge. You might want to increase the number of iterations. Duality gap: 195.6992490003256, tolerance: 0.5220408315469802\n",
      "  model = cd_fast.enet_coordinate_descent_gram(\n",
      "C:\\Users\\ASUS\\anaconda3\\lib\\site-packages\\sklearn\\linear_model\\_coordinate_descent.py:470: ConvergenceWarning: Objective did not converge. You might want to increase the number of iterations. Duality gap: 186.54637654316707, tolerance: 0.5220408315469802\n",
      "  model = cd_fast.enet_coordinate_descent_gram(\n",
      "C:\\Users\\ASUS\\anaconda3\\lib\\site-packages\\sklearn\\linear_model\\_coordinate_descent.py:470: ConvergenceWarning: Objective did not converge. You might want to increase the number of iterations. Duality gap: 199.99440885491822, tolerance: 0.5220408315469802\n",
      "  model = cd_fast.enet_coordinate_descent_gram(\n",
      "C:\\Users\\ASUS\\anaconda3\\lib\\site-packages\\sklearn\\linear_model\\_coordinate_descent.py:470: ConvergenceWarning: Objective did not converge. You might want to increase the number of iterations. Duality gap: 189.98723333223847, tolerance: 0.5220408315469802\n",
      "  model = cd_fast.enet_coordinate_descent_gram(\n",
      "C:\\Users\\ASUS\\anaconda3\\lib\\site-packages\\sklearn\\linear_model\\_coordinate_descent.py:470: ConvergenceWarning: Objective did not converge. You might want to increase the number of iterations. Duality gap: 174.55673751349923, tolerance: 0.5220408315469802\n",
      "  model = cd_fast.enet_coordinate_descent_gram(\n",
      "C:\\Users\\ASUS\\anaconda3\\lib\\site-packages\\sklearn\\linear_model\\_coordinate_descent.py:470: ConvergenceWarning: Objective did not converge. You might want to increase the number of iterations. Duality gap: 200.64401138288667, tolerance: 0.5220408315469802\n",
      "  model = cd_fast.enet_coordinate_descent_gram(\n",
      "C:\\Users\\ASUS\\anaconda3\\lib\\site-packages\\sklearn\\linear_model\\_coordinate_descent.py:470: ConvergenceWarning: Objective did not converge. You might want to increase the number of iterations. Duality gap: 231.09459446872188, tolerance: 0.5220408315469802\n",
      "  model = cd_fast.enet_coordinate_descent_gram(\n",
      "C:\\Users\\ASUS\\anaconda3\\lib\\site-packages\\sklearn\\linear_model\\_coordinate_descent.py:470: ConvergenceWarning: Objective did not converge. You might want to increase the number of iterations. Duality gap: 247.1512687464633, tolerance: 0.5220408315469802\n",
      "  model = cd_fast.enet_coordinate_descent_gram(\n",
      "C:\\Users\\ASUS\\anaconda3\\lib\\site-packages\\sklearn\\linear_model\\_coordinate_descent.py:470: ConvergenceWarning: Objective did not converge. You might want to increase the number of iterations. Duality gap: 271.05555199295964, tolerance: 0.5220408315469802\n",
      "  model = cd_fast.enet_coordinate_descent_gram(\n",
      "C:\\Users\\ASUS\\anaconda3\\lib\\site-packages\\sklearn\\linear_model\\_coordinate_descent.py:470: ConvergenceWarning: Objective did not converge. You might want to increase the number of iterations. Duality gap: 277.91793603394217, tolerance: 0.5220408315469802\n",
      "  model = cd_fast.enet_coordinate_descent_gram(\n",
      "C:\\Users\\ASUS\\anaconda3\\lib\\site-packages\\sklearn\\linear_model\\_coordinate_descent.py:470: ConvergenceWarning: Objective did not converge. You might want to increase the number of iterations. Duality gap: 323.0087112762553, tolerance: 0.5220408315469802\n",
      "  model = cd_fast.enet_coordinate_descent_gram(\n",
      "C:\\Users\\ASUS\\anaconda3\\lib\\site-packages\\sklearn\\linear_model\\_coordinate_descent.py:470: ConvergenceWarning: Objective did not converge. You might want to increase the number of iterations. Duality gap: 388.9145990959096, tolerance: 0.5220408315469802\n",
      "  model = cd_fast.enet_coordinate_descent_gram(\n",
      "C:\\Users\\ASUS\\anaconda3\\lib\\site-packages\\sklearn\\linear_model\\_coordinate_descent.py:470: ConvergenceWarning: Objective did not converge. You might want to increase the number of iterations. Duality gap: 414.723395062643, tolerance: 0.5220408315469802\n",
      "  model = cd_fast.enet_coordinate_descent_gram(\n",
      "C:\\Users\\ASUS\\anaconda3\\lib\\site-packages\\sklearn\\linear_model\\_coordinate_descent.py:470: ConvergenceWarning: Objective did not converge. You might want to increase the number of iterations. Duality gap: 416.52113516113536, tolerance: 0.5220408315469802\n",
      "  model = cd_fast.enet_coordinate_descent_gram(\n",
      "C:\\Users\\ASUS\\anaconda3\\lib\\site-packages\\sklearn\\linear_model\\_coordinate_descent.py:470: ConvergenceWarning: Objective did not converge. You might want to increase the number of iterations. Duality gap: 415.59992748707555, tolerance: 0.5220408315469802\n",
      "  model = cd_fast.enet_coordinate_descent_gram(\n",
      "C:\\Users\\ASUS\\anaconda3\\lib\\site-packages\\sklearn\\linear_model\\_coordinate_descent.py:470: ConvergenceWarning: Objective did not converge. You might want to increase the number of iterations. Duality gap: 429.09792988008576, tolerance: 0.5220408315469802\n",
      "  model = cd_fast.enet_coordinate_descent_gram(\n",
      "C:\\Users\\ASUS\\anaconda3\\lib\\site-packages\\sklearn\\linear_model\\_coordinate_descent.py:470: ConvergenceWarning: Objective did not converge. You might want to increase the number of iterations. Duality gap: 441.7620330970599, tolerance: 0.5220408315469802\n",
      "  model = cd_fast.enet_coordinate_descent_gram(\n",
      "C:\\Users\\ASUS\\anaconda3\\lib\\site-packages\\sklearn\\linear_model\\_coordinate_descent.py:470: ConvergenceWarning: Objective did not converge. You might want to increase the number of iterations. Duality gap: 457.33886927070296, tolerance: 0.5220408315469802\n",
      "  model = cd_fast.enet_coordinate_descent_gram(\n",
      "C:\\Users\\ASUS\\anaconda3\\lib\\site-packages\\sklearn\\linear_model\\_coordinate_descent.py:470: ConvergenceWarning: Objective did not converge. You might want to increase the number of iterations. Duality gap: 474.4138414547389, tolerance: 0.5220408315469802\n",
      "  model = cd_fast.enet_coordinate_descent_gram(\n"
     ]
    },
    {
     "name": "stderr",
     "output_type": "stream",
     "text": [
      "C:\\Users\\ASUS\\anaconda3\\lib\\site-packages\\sklearn\\linear_model\\_coordinate_descent.py:470: ConvergenceWarning: Objective did not converge. You might want to increase the number of iterations. Duality gap: 479.1834596439513, tolerance: 0.5220408315469802\n",
      "  model = cd_fast.enet_coordinate_descent_gram(\n",
      "C:\\Users\\ASUS\\anaconda3\\lib\\site-packages\\sklearn\\linear_model\\_coordinate_descent.py:470: ConvergenceWarning: Objective did not converge. You might want to increase the number of iterations. Duality gap: 0.6358355851698434, tolerance: 0.5189176848874613\n",
      "  model = cd_fast.enet_coordinate_descent_gram(\n",
      "C:\\Users\\ASUS\\anaconda3\\lib\\site-packages\\sklearn\\linear_model\\_coordinate_descent.py:470: ConvergenceWarning: Objective did not converge. You might want to increase the number of iterations. Duality gap: 0.6165482758528924, tolerance: 0.5189176848874613\n",
      "  model = cd_fast.enet_coordinate_descent_gram(\n",
      "C:\\Users\\ASUS\\anaconda3\\lib\\site-packages\\sklearn\\linear_model\\_coordinate_descent.py:470: ConvergenceWarning: Objective did not converge. You might want to increase the number of iterations. Duality gap: 0.5764867887805849, tolerance: 0.5189176848874613\n",
      "  model = cd_fast.enet_coordinate_descent_gram(\n",
      "C:\\Users\\ASUS\\anaconda3\\lib\\site-packages\\sklearn\\linear_model\\_coordinate_descent.py:470: ConvergenceWarning: Objective did not converge. You might want to increase the number of iterations. Duality gap: 0.540153492690024, tolerance: 0.5189176848874613\n",
      "  model = cd_fast.enet_coordinate_descent_gram(\n",
      "C:\\Users\\ASUS\\anaconda3\\lib\\site-packages\\sklearn\\linear_model\\_coordinate_descent.py:470: ConvergenceWarning: Objective did not converge. You might want to increase the number of iterations. Duality gap: 0.7683426433918612, tolerance: 0.5189176848874613\n",
      "  model = cd_fast.enet_coordinate_descent_gram(\n",
      "C:\\Users\\ASUS\\anaconda3\\lib\\site-packages\\sklearn\\linear_model\\_coordinate_descent.py:470: ConvergenceWarning: Objective did not converge. You might want to increase the number of iterations. Duality gap: 0.8730454284434472, tolerance: 0.5189176848874613\n",
      "  model = cd_fast.enet_coordinate_descent_gram(\n",
      "C:\\Users\\ASUS\\anaconda3\\lib\\site-packages\\sklearn\\linear_model\\_coordinate_descent.py:470: ConvergenceWarning: Objective did not converge. You might want to increase the number of iterations. Duality gap: 0.8122592074087152, tolerance: 0.5189176848874613\n",
      "  model = cd_fast.enet_coordinate_descent_gram(\n",
      "C:\\Users\\ASUS\\anaconda3\\lib\\site-packages\\sklearn\\linear_model\\_coordinate_descent.py:470: ConvergenceWarning: Objective did not converge. You might want to increase the number of iterations. Duality gap: 0.7631440607397053, tolerance: 0.5189176848874613\n",
      "  model = cd_fast.enet_coordinate_descent_gram(\n",
      "C:\\Users\\ASUS\\anaconda3\\lib\\site-packages\\sklearn\\linear_model\\_coordinate_descent.py:470: ConvergenceWarning: Objective did not converge. You might want to increase the number of iterations. Duality gap: 1.178545706233308, tolerance: 0.5189176848874613\n",
      "  model = cd_fast.enet_coordinate_descent_gram(\n",
      "C:\\Users\\ASUS\\anaconda3\\lib\\site-packages\\sklearn\\linear_model\\_coordinate_descent.py:470: ConvergenceWarning: Objective did not converge. You might want to increase the number of iterations. Duality gap: 1.1759849768372987, tolerance: 0.5189176848874613\n",
      "  model = cd_fast.enet_coordinate_descent_gram(\n",
      "C:\\Users\\ASUS\\anaconda3\\lib\\site-packages\\sklearn\\linear_model\\_coordinate_descent.py:470: ConvergenceWarning: Objective did not converge. You might want to increase the number of iterations. Duality gap: 1.1116399530983472, tolerance: 0.5189176848874613\n",
      "  model = cd_fast.enet_coordinate_descent_gram(\n",
      "C:\\Users\\ASUS\\anaconda3\\lib\\site-packages\\sklearn\\linear_model\\_coordinate_descent.py:470: ConvergenceWarning: Objective did not converge. You might want to increase the number of iterations. Duality gap: 1.054195658471599, tolerance: 0.5189176848874613\n",
      "  model = cd_fast.enet_coordinate_descent_gram(\n",
      "C:\\Users\\ASUS\\anaconda3\\lib\\site-packages\\sklearn\\linear_model\\_coordinate_descent.py:470: ConvergenceWarning: Objective did not converge. You might want to increase the number of iterations. Duality gap: 2.496805411625246, tolerance: 0.5189176848874613\n",
      "  model = cd_fast.enet_coordinate_descent_gram(\n",
      "C:\\Users\\ASUS\\anaconda3\\lib\\site-packages\\sklearn\\linear_model\\_coordinate_descent.py:470: ConvergenceWarning: Objective did not converge. You might want to increase the number of iterations. Duality gap: 2.024484252372986, tolerance: 0.5189176848874613\n",
      "  model = cd_fast.enet_coordinate_descent_gram(\n",
      "C:\\Users\\ASUS\\anaconda3\\lib\\site-packages\\sklearn\\linear_model\\_coordinate_descent.py:470: ConvergenceWarning: Objective did not converge. You might want to increase the number of iterations. Duality gap: 2.8215126623417746, tolerance: 0.5189176848874613\n",
      "  model = cd_fast.enet_coordinate_descent_gram(\n",
      "C:\\Users\\ASUS\\anaconda3\\lib\\site-packages\\sklearn\\linear_model\\_coordinate_descent.py:470: ConvergenceWarning: Objective did not converge. You might want to increase the number of iterations. Duality gap: 3.16051340509307, tolerance: 0.5189176848874613\n",
      "  model = cd_fast.enet_coordinate_descent_gram(\n",
      "C:\\Users\\ASUS\\anaconda3\\lib\\site-packages\\sklearn\\linear_model\\_coordinate_descent.py:470: ConvergenceWarning: Objective did not converge. You might want to increase the number of iterations. Duality gap: 12.670701073169312, tolerance: 0.5189176848874613\n",
      "  model = cd_fast.enet_coordinate_descent_gram(\n",
      "C:\\Users\\ASUS\\anaconda3\\lib\\site-packages\\sklearn\\linear_model\\_coordinate_descent.py:470: ConvergenceWarning: Objective did not converge. You might want to increase the number of iterations. Duality gap: 33.076416523607804, tolerance: 0.5189176848874613\n",
      "  model = cd_fast.enet_coordinate_descent_gram(\n",
      "C:\\Users\\ASUS\\anaconda3\\lib\\site-packages\\sklearn\\linear_model\\_coordinate_descent.py:470: ConvergenceWarning: Objective did not converge. You might want to increase the number of iterations. Duality gap: 50.75871904686096, tolerance: 0.5189176848874613\n",
      "  model = cd_fast.enet_coordinate_descent_gram(\n",
      "C:\\Users\\ASUS\\anaconda3\\lib\\site-packages\\sklearn\\linear_model\\_coordinate_descent.py:470: ConvergenceWarning: Objective did not converge. You might want to increase the number of iterations. Duality gap: 68.04411806847975, tolerance: 0.5189176848874613\n",
      "  model = cd_fast.enet_coordinate_descent_gram(\n",
      "C:\\Users\\ASUS\\anaconda3\\lib\\site-packages\\sklearn\\linear_model\\_coordinate_descent.py:470: ConvergenceWarning: Objective did not converge. You might want to increase the number of iterations. Duality gap: 87.27438721287581, tolerance: 0.5189176848874613\n",
      "  model = cd_fast.enet_coordinate_descent_gram(\n",
      "C:\\Users\\ASUS\\anaconda3\\lib\\site-packages\\sklearn\\linear_model\\_coordinate_descent.py:470: ConvergenceWarning: Objective did not converge. You might want to increase the number of iterations. Duality gap: 94.14114838217597, tolerance: 0.5189176848874613\n",
      "  model = cd_fast.enet_coordinate_descent_gram(\n",
      "C:\\Users\\ASUS\\anaconda3\\lib\\site-packages\\sklearn\\linear_model\\_coordinate_descent.py:470: ConvergenceWarning: Objective did not converge. You might want to increase the number of iterations. Duality gap: 100.15890333030393, tolerance: 0.5189176848874613\n",
      "  model = cd_fast.enet_coordinate_descent_gram(\n",
      "C:\\Users\\ASUS\\anaconda3\\lib\\site-packages\\sklearn\\linear_model\\_coordinate_descent.py:470: ConvergenceWarning: Objective did not converge. You might want to increase the number of iterations. Duality gap: 109.84389770731354, tolerance: 0.5189176848874613\n",
      "  model = cd_fast.enet_coordinate_descent_gram(\n",
      "C:\\Users\\ASUS\\anaconda3\\lib\\site-packages\\sklearn\\linear_model\\_coordinate_descent.py:470: ConvergenceWarning: Objective did not converge. You might want to increase the number of iterations. Duality gap: 127.91624911388453, tolerance: 0.5189176848874613\n",
      "  model = cd_fast.enet_coordinate_descent_gram(\n",
      "C:\\Users\\ASUS\\anaconda3\\lib\\site-packages\\sklearn\\linear_model\\_coordinate_descent.py:470: ConvergenceWarning: Objective did not converge. You might want to increase the number of iterations. Duality gap: 194.66001452603223, tolerance: 0.5189176848874613\n",
      "  model = cd_fast.enet_coordinate_descent_gram(\n",
      "C:\\Users\\ASUS\\anaconda3\\lib\\site-packages\\sklearn\\linear_model\\_coordinate_descent.py:470: ConvergenceWarning: Objective did not converge. You might want to increase the number of iterations. Duality gap: 188.12887585676845, tolerance: 0.5189176848874613\n",
      "  model = cd_fast.enet_coordinate_descent_gram(\n",
      "C:\\Users\\ASUS\\anaconda3\\lib\\site-packages\\sklearn\\linear_model\\_coordinate_descent.py:470: ConvergenceWarning: Objective did not converge. You might want to increase the number of iterations. Duality gap: 197.85731620901902, tolerance: 0.5189176848874613\n",
      "  model = cd_fast.enet_coordinate_descent_gram(\n",
      "C:\\Users\\ASUS\\anaconda3\\lib\\site-packages\\sklearn\\linear_model\\_coordinate_descent.py:470: ConvergenceWarning: Objective did not converge. You might want to increase the number of iterations. Duality gap: 200.09263673360874, tolerance: 0.5189176848874613\n",
      "  model = cd_fast.enet_coordinate_descent_gram(\n",
      "C:\\Users\\ASUS\\anaconda3\\lib\\site-packages\\sklearn\\linear_model\\_coordinate_descent.py:470: ConvergenceWarning: Objective did not converge. You might want to increase the number of iterations. Duality gap: 197.9690396255378, tolerance: 0.5189176848874613\n",
      "  model = cd_fast.enet_coordinate_descent_gram(\n",
      "C:\\Users\\ASUS\\anaconda3\\lib\\site-packages\\sklearn\\linear_model\\_coordinate_descent.py:470: ConvergenceWarning: Objective did not converge. You might want to increase the number of iterations. Duality gap: 202.03522511004826, tolerance: 0.5189176848874613\n",
      "  model = cd_fast.enet_coordinate_descent_gram(\n",
      "C:\\Users\\ASUS\\anaconda3\\lib\\site-packages\\sklearn\\linear_model\\_coordinate_descent.py:470: ConvergenceWarning: Objective did not converge. You might want to increase the number of iterations. Duality gap: 196.46807142655166, tolerance: 0.5189176848874613\n",
      "  model = cd_fast.enet_coordinate_descent_gram(\n",
      "C:\\Users\\ASUS\\anaconda3\\lib\\site-packages\\sklearn\\linear_model\\_coordinate_descent.py:470: ConvergenceWarning: Objective did not converge. You might want to increase the number of iterations. Duality gap: 230.35070944888298, tolerance: 0.5189176848874613\n",
      "  model = cd_fast.enet_coordinate_descent_gram(\n",
      "C:\\Users\\ASUS\\anaconda3\\lib\\site-packages\\sklearn\\linear_model\\_coordinate_descent.py:470: ConvergenceWarning: Objective did not converge. You might want to increase the number of iterations. Duality gap: 251.97467919904534, tolerance: 0.5189176848874613\n",
      "  model = cd_fast.enet_coordinate_descent_gram(\n",
      "C:\\Users\\ASUS\\anaconda3\\lib\\site-packages\\sklearn\\linear_model\\_coordinate_descent.py:470: ConvergenceWarning: Objective did not converge. You might want to increase the number of iterations. Duality gap: 277.19310719273267, tolerance: 0.5189176848874613\n",
      "  model = cd_fast.enet_coordinate_descent_gram(\n",
      "C:\\Users\\ASUS\\anaconda3\\lib\\site-packages\\sklearn\\linear_model\\_coordinate_descent.py:470: ConvergenceWarning: Objective did not converge. You might want to increase the number of iterations. Duality gap: 290.86458329966194, tolerance: 0.5189176848874613\n",
      "  model = cd_fast.enet_coordinate_descent_gram(\n",
      "C:\\Users\\ASUS\\anaconda3\\lib\\site-packages\\sklearn\\linear_model\\_coordinate_descent.py:470: ConvergenceWarning: Objective did not converge. You might want to increase the number of iterations. Duality gap: 331.4499983862552, tolerance: 0.5189176848874613\n",
      "  model = cd_fast.enet_coordinate_descent_gram(\n",
      "C:\\Users\\ASUS\\anaconda3\\lib\\site-packages\\sklearn\\linear_model\\_coordinate_descent.py:470: ConvergenceWarning: Objective did not converge. You might want to increase the number of iterations. Duality gap: 365.22833155787384, tolerance: 0.5189176848874613\n",
      "  model = cd_fast.enet_coordinate_descent_gram(\n",
      "C:\\Users\\ASUS\\anaconda3\\lib\\site-packages\\sklearn\\linear_model\\_coordinate_descent.py:470: ConvergenceWarning: Objective did not converge. You might want to increase the number of iterations. Duality gap: 385.548342607412, tolerance: 0.5189176848874613\n",
      "  model = cd_fast.enet_coordinate_descent_gram(\n",
      "C:\\Users\\ASUS\\anaconda3\\lib\\site-packages\\sklearn\\linear_model\\_coordinate_descent.py:470: ConvergenceWarning: Objective did not converge. You might want to increase the number of iterations. Duality gap: 402.04197149133597, tolerance: 0.5189176848874613\n",
      "  model = cd_fast.enet_coordinate_descent_gram(\n",
      "C:\\Users\\ASUS\\anaconda3\\lib\\site-packages\\sklearn\\linear_model\\_coordinate_descent.py:470: ConvergenceWarning: Objective did not converge. You might want to increase the number of iterations. Duality gap: 418.4286062061133, tolerance: 0.5189176848874613\n",
      "  model = cd_fast.enet_coordinate_descent_gram(\n",
      "C:\\Users\\ASUS\\anaconda3\\lib\\site-packages\\sklearn\\linear_model\\_coordinate_descent.py:470: ConvergenceWarning: Objective did not converge. You might want to increase the number of iterations. Duality gap: 428.55119681396616, tolerance: 0.5189176848874613\n",
      "  model = cd_fast.enet_coordinate_descent_gram(\n",
      "C:\\Users\\ASUS\\anaconda3\\lib\\site-packages\\sklearn\\linear_model\\_coordinate_descent.py:470: ConvergenceWarning: Objective did not converge. You might want to increase the number of iterations. Duality gap: 436.8514258404806, tolerance: 0.5189176848874613\n",
      "  model = cd_fast.enet_coordinate_descent_gram(\n",
      "C:\\Users\\ASUS\\anaconda3\\lib\\site-packages\\sklearn\\linear_model\\_coordinate_descent.py:470: ConvergenceWarning: Objective did not converge. You might want to increase the number of iterations. Duality gap: 451.815153607542, tolerance: 0.5189176848874613\n",
      "  model = cd_fast.enet_coordinate_descent_gram(\n",
      "C:\\Users\\ASUS\\anaconda3\\lib\\site-packages\\sklearn\\linear_model\\_coordinate_descent.py:470: ConvergenceWarning: Objective did not converge. You might want to increase the number of iterations. Duality gap: 475.1670405364223, tolerance: 0.5189176848874613\n",
      "  model = cd_fast.enet_coordinate_descent_gram(\n",
      "C:\\Users\\ASUS\\anaconda3\\lib\\site-packages\\sklearn\\linear_model\\_coordinate_descent.py:470: ConvergenceWarning: Objective did not converge. You might want to increase the number of iterations. Duality gap: 518.6999115146155, tolerance: 0.5189176848874613\n",
      "  model = cd_fast.enet_coordinate_descent_gram(\n"
     ]
    },
    {
     "name": "stderr",
     "output_type": "stream",
     "text": [
      "C:\\Users\\ASUS\\anaconda3\\lib\\site-packages\\sklearn\\linear_model\\_coordinate_descent.py:470: ConvergenceWarning: Objective did not converge. You might want to increase the number of iterations. Duality gap: 0.5798704182043366, tolerance: 0.5156774517684891\n",
      "  model = cd_fast.enet_coordinate_descent_gram(\n",
      "C:\\Users\\ASUS\\anaconda3\\lib\\site-packages\\sklearn\\linear_model\\_coordinate_descent.py:470: ConvergenceWarning: Objective did not converge. You might want to increase the number of iterations. Duality gap: 0.5343842947290796, tolerance: 0.5156774517684891\n",
      "  model = cd_fast.enet_coordinate_descent_gram(\n",
      "C:\\Users\\ASUS\\anaconda3\\lib\\site-packages\\sklearn\\linear_model\\_coordinate_descent.py:470: ConvergenceWarning: Objective did not converge. You might want to increase the number of iterations. Duality gap: 0.5315378255386349, tolerance: 0.5156774517684891\n",
      "  model = cd_fast.enet_coordinate_descent_gram(\n",
      "C:\\Users\\ASUS\\anaconda3\\lib\\site-packages\\sklearn\\linear_model\\_coordinate_descent.py:470: ConvergenceWarning: Objective did not converge. You might want to increase the number of iterations. Duality gap: 0.5874599307944663, tolerance: 0.5156774517684891\n",
      "  model = cd_fast.enet_coordinate_descent_gram(\n",
      "C:\\Users\\ASUS\\anaconda3\\lib\\site-packages\\sklearn\\linear_model\\_coordinate_descent.py:470: ConvergenceWarning: Objective did not converge. You might want to increase the number of iterations. Duality gap: 0.8285195087601096, tolerance: 0.5156774517684891\n",
      "  model = cd_fast.enet_coordinate_descent_gram(\n",
      "C:\\Users\\ASUS\\anaconda3\\lib\\site-packages\\sklearn\\linear_model\\_coordinate_descent.py:470: ConvergenceWarning: Objective did not converge. You might want to increase the number of iterations. Duality gap: 0.7647758946520753, tolerance: 0.5156774517684891\n",
      "  model = cd_fast.enet_coordinate_descent_gram(\n",
      "C:\\Users\\ASUS\\anaconda3\\lib\\site-packages\\sklearn\\linear_model\\_coordinate_descent.py:470: ConvergenceWarning: Objective did not converge. You might want to increase the number of iterations. Duality gap: 0.981072763872362, tolerance: 0.5156774517684891\n",
      "  model = cd_fast.enet_coordinate_descent_gram(\n",
      "C:\\Users\\ASUS\\anaconda3\\lib\\site-packages\\sklearn\\linear_model\\_coordinate_descent.py:470: ConvergenceWarning: Objective did not converge. You might want to increase the number of iterations. Duality gap: 1.21512587537336, tolerance: 0.5156774517684891\n",
      "  model = cd_fast.enet_coordinate_descent_gram(\n",
      "C:\\Users\\ASUS\\anaconda3\\lib\\site-packages\\sklearn\\linear_model\\_coordinate_descent.py:470: ConvergenceWarning: Objective did not converge. You might want to increase the number of iterations. Duality gap: 1.157317006960966, tolerance: 0.5156774517684891\n",
      "  model = cd_fast.enet_coordinate_descent_gram(\n",
      "C:\\Users\\ASUS\\anaconda3\\lib\\site-packages\\sklearn\\linear_model\\_coordinate_descent.py:470: ConvergenceWarning: Objective did not converge. You might want to increase the number of iterations. Duality gap: 1.0992927796378353, tolerance: 0.5156774517684891\n",
      "  model = cd_fast.enet_coordinate_descent_gram(\n",
      "C:\\Users\\ASUS\\anaconda3\\lib\\site-packages\\sklearn\\linear_model\\_coordinate_descent.py:470: ConvergenceWarning: Objective did not converge. You might want to increase the number of iterations. Duality gap: 0.943609867916166, tolerance: 0.5156774517684891\n",
      "  model = cd_fast.enet_coordinate_descent_gram(\n",
      "C:\\Users\\ASUS\\anaconda3\\lib\\site-packages\\sklearn\\linear_model\\_coordinate_descent.py:470: ConvergenceWarning: Objective did not converge. You might want to increase the number of iterations. Duality gap: 2.1210686721474303, tolerance: 0.5156774517684891\n",
      "  model = cd_fast.enet_coordinate_descent_gram(\n",
      "C:\\Users\\ASUS\\anaconda3\\lib\\site-packages\\sklearn\\linear_model\\_coordinate_descent.py:470: ConvergenceWarning: Objective did not converge. You might want to increase the number of iterations. Duality gap: 2.192895261976446, tolerance: 0.5156774517684891\n",
      "  model = cd_fast.enet_coordinate_descent_gram(\n",
      "C:\\Users\\ASUS\\anaconda3\\lib\\site-packages\\sklearn\\linear_model\\_coordinate_descent.py:470: ConvergenceWarning: Objective did not converge. You might want to increase the number of iterations. Duality gap: 2.5380236938262897, tolerance: 0.5156774517684891\n",
      "  model = cd_fast.enet_coordinate_descent_gram(\n",
      "C:\\Users\\ASUS\\anaconda3\\lib\\site-packages\\sklearn\\linear_model\\_coordinate_descent.py:470: ConvergenceWarning: Objective did not converge. You might want to increase the number of iterations. Duality gap: 2.2900174976027756, tolerance: 0.5156774517684891\n",
      "  model = cd_fast.enet_coordinate_descent_gram(\n",
      "C:\\Users\\ASUS\\anaconda3\\lib\\site-packages\\sklearn\\linear_model\\_coordinate_descent.py:470: ConvergenceWarning: Objective did not converge. You might want to increase the number of iterations. Duality gap: 3.273618684183475, tolerance: 0.5156774517684891\n",
      "  model = cd_fast.enet_coordinate_descent_gram(\n",
      "C:\\Users\\ASUS\\anaconda3\\lib\\site-packages\\sklearn\\linear_model\\_coordinate_descent.py:470: ConvergenceWarning: Objective did not converge. You might want to increase the number of iterations. Duality gap: 19.935233232057954, tolerance: 0.5156774517684891\n",
      "  model = cd_fast.enet_coordinate_descent_gram(\n",
      "C:\\Users\\ASUS\\anaconda3\\lib\\site-packages\\sklearn\\linear_model\\_coordinate_descent.py:470: ConvergenceWarning: Objective did not converge. You might want to increase the number of iterations. Duality gap: 41.59369211413241, tolerance: 0.5156774517684891\n",
      "  model = cd_fast.enet_coordinate_descent_gram(\n",
      "C:\\Users\\ASUS\\anaconda3\\lib\\site-packages\\sklearn\\linear_model\\_coordinate_descent.py:470: ConvergenceWarning: Objective did not converge. You might want to increase the number of iterations. Duality gap: 61.76875134999045, tolerance: 0.5156774517684891\n",
      "  model = cd_fast.enet_coordinate_descent_gram(\n",
      "C:\\Users\\ASUS\\anaconda3\\lib\\site-packages\\sklearn\\linear_model\\_coordinate_descent.py:470: ConvergenceWarning: Objective did not converge. You might want to increase the number of iterations. Duality gap: 74.66023645144787, tolerance: 0.5156774517684891\n",
      "  model = cd_fast.enet_coordinate_descent_gram(\n",
      "C:\\Users\\ASUS\\anaconda3\\lib\\site-packages\\sklearn\\linear_model\\_coordinate_descent.py:470: ConvergenceWarning: Objective did not converge. You might want to increase the number of iterations. Duality gap: 84.53733026349846, tolerance: 0.5156774517684891\n",
      "  model = cd_fast.enet_coordinate_descent_gram(\n",
      "C:\\Users\\ASUS\\anaconda3\\lib\\site-packages\\sklearn\\linear_model\\_coordinate_descent.py:470: ConvergenceWarning: Objective did not converge. You might want to increase the number of iterations. Duality gap: 97.8484119599002, tolerance: 0.5156774517684891\n",
      "  model = cd_fast.enet_coordinate_descent_gram(\n",
      "C:\\Users\\ASUS\\anaconda3\\lib\\site-packages\\sklearn\\linear_model\\_coordinate_descent.py:470: ConvergenceWarning: Objective did not converge. You might want to increase the number of iterations. Duality gap: 109.69501688571131, tolerance: 0.5156774517684891\n",
      "  model = cd_fast.enet_coordinate_descent_gram(\n",
      "C:\\Users\\ASUS\\anaconda3\\lib\\site-packages\\sklearn\\linear_model\\_coordinate_descent.py:470: ConvergenceWarning: Objective did not converge. You might want to increase the number of iterations. Duality gap: 132.66434864120197, tolerance: 0.5156774517684891\n",
      "  model = cd_fast.enet_coordinate_descent_gram(\n",
      "C:\\Users\\ASUS\\anaconda3\\lib\\site-packages\\sklearn\\linear_model\\_coordinate_descent.py:470: ConvergenceWarning: Objective did not converge. You might want to increase the number of iterations. Duality gap: 183.6576055309099, tolerance: 0.5156774517684891\n",
      "  model = cd_fast.enet_coordinate_descent_gram(\n",
      "C:\\Users\\ASUS\\anaconda3\\lib\\site-packages\\sklearn\\linear_model\\_coordinate_descent.py:470: ConvergenceWarning: Objective did not converge. You might want to increase the number of iterations. Duality gap: 194.637926131345, tolerance: 0.5156774517684891\n",
      "  model = cd_fast.enet_coordinate_descent_gram(\n",
      "C:\\Users\\ASUS\\anaconda3\\lib\\site-packages\\sklearn\\linear_model\\_coordinate_descent.py:470: ConvergenceWarning: Objective did not converge. You might want to increase the number of iterations. Duality gap: 200.04103080408868, tolerance: 0.5156774517684891\n",
      "  model = cd_fast.enet_coordinate_descent_gram(\n",
      "C:\\Users\\ASUS\\anaconda3\\lib\\site-packages\\sklearn\\linear_model\\_coordinate_descent.py:470: ConvergenceWarning: Objective did not converge. You might want to increase the number of iterations. Duality gap: 202.6967655085191, tolerance: 0.5156774517684891\n",
      "  model = cd_fast.enet_coordinate_descent_gram(\n",
      "C:\\Users\\ASUS\\anaconda3\\lib\\site-packages\\sklearn\\linear_model\\_coordinate_descent.py:470: ConvergenceWarning: Objective did not converge. You might want to increase the number of iterations. Duality gap: 196.65051800540778, tolerance: 0.5156774517684891\n",
      "  model = cd_fast.enet_coordinate_descent_gram(\n",
      "C:\\Users\\ASUS\\anaconda3\\lib\\site-packages\\sklearn\\linear_model\\_coordinate_descent.py:470: ConvergenceWarning: Objective did not converge. You might want to increase the number of iterations. Duality gap: 205.60582450668903, tolerance: 0.5156774517684891\n",
      "  model = cd_fast.enet_coordinate_descent_gram(\n",
      "C:\\Users\\ASUS\\anaconda3\\lib\\site-packages\\sklearn\\linear_model\\_coordinate_descent.py:470: ConvergenceWarning: Objective did not converge. You might want to increase the number of iterations. Duality gap: 209.09000595340854, tolerance: 0.5156774517684891\n",
      "  model = cd_fast.enet_coordinate_descent_gram(\n",
      "C:\\Users\\ASUS\\anaconda3\\lib\\site-packages\\sklearn\\linear_model\\_coordinate_descent.py:470: ConvergenceWarning: Objective did not converge. You might want to increase the number of iterations. Duality gap: 214.0252690495663, tolerance: 0.5156774517684891\n",
      "  model = cd_fast.enet_coordinate_descent_gram(\n",
      "C:\\Users\\ASUS\\anaconda3\\lib\\site-packages\\sklearn\\linear_model\\_coordinate_descent.py:470: ConvergenceWarning: Objective did not converge. You might want to increase the number of iterations. Duality gap: 253.0866891149194, tolerance: 0.5156774517684891\n",
      "  model = cd_fast.enet_coordinate_descent_gram(\n",
      "C:\\Users\\ASUS\\anaconda3\\lib\\site-packages\\sklearn\\linear_model\\_coordinate_descent.py:470: ConvergenceWarning: Objective did not converge. You might want to increase the number of iterations. Duality gap: 282.6555839681064, tolerance: 0.5156774517684891\n",
      "  model = cd_fast.enet_coordinate_descent_gram(\n",
      "C:\\Users\\ASUS\\anaconda3\\lib\\site-packages\\sklearn\\linear_model\\_coordinate_descent.py:470: ConvergenceWarning: Objective did not converge. You might want to increase the number of iterations. Duality gap: 287.62550840846825, tolerance: 0.5156774517684891\n",
      "  model = cd_fast.enet_coordinate_descent_gram(\n",
      "C:\\Users\\ASUS\\anaconda3\\lib\\site-packages\\sklearn\\linear_model\\_coordinate_descent.py:470: ConvergenceWarning: Objective did not converge. You might want to increase the number of iterations. Duality gap: 328.7219578969234, tolerance: 0.5156774517684891\n",
      "  model = cd_fast.enet_coordinate_descent_gram(\n",
      "C:\\Users\\ASUS\\anaconda3\\lib\\site-packages\\sklearn\\linear_model\\_coordinate_descent.py:470: ConvergenceWarning: Objective did not converge. You might want to increase the number of iterations. Duality gap: 373.70117719586665, tolerance: 0.5156774517684891\n",
      "  model = cd_fast.enet_coordinate_descent_gram(\n",
      "C:\\Users\\ASUS\\anaconda3\\lib\\site-packages\\sklearn\\linear_model\\_coordinate_descent.py:470: ConvergenceWarning: Objective did not converge. You might want to increase the number of iterations. Duality gap: 435.67034424853364, tolerance: 0.5156774517684891\n",
      "  model = cd_fast.enet_coordinate_descent_gram(\n",
      "C:\\Users\\ASUS\\anaconda3\\lib\\site-packages\\sklearn\\linear_model\\_coordinate_descent.py:470: ConvergenceWarning: Objective did not converge. You might want to increase the number of iterations. Duality gap: 453.29787037845426, tolerance: 0.5156774517684891\n",
      "  model = cd_fast.enet_coordinate_descent_gram(\n",
      "C:\\Users\\ASUS\\anaconda3\\lib\\site-packages\\sklearn\\linear_model\\_coordinate_descent.py:470: ConvergenceWarning: Objective did not converge. You might want to increase the number of iterations. Duality gap: 460.34231095908945, tolerance: 0.5156774517684891\n",
      "  model = cd_fast.enet_coordinate_descent_gram(\n",
      "C:\\Users\\ASUS\\anaconda3\\lib\\site-packages\\sklearn\\linear_model\\_coordinate_descent.py:470: ConvergenceWarning: Objective did not converge. You might want to increase the number of iterations. Duality gap: 463.7503685201618, tolerance: 0.5156774517684891\n",
      "  model = cd_fast.enet_coordinate_descent_gram(\n",
      "C:\\Users\\ASUS\\anaconda3\\lib\\site-packages\\sklearn\\linear_model\\_coordinate_descent.py:470: ConvergenceWarning: Objective did not converge. You might want to increase the number of iterations. Duality gap: 464.83092219347225, tolerance: 0.5156774517684891\n",
      "  model = cd_fast.enet_coordinate_descent_gram(\n"
     ]
    },
    {
     "name": "stderr",
     "output_type": "stream",
     "text": [
      "C:\\Users\\ASUS\\anaconda3\\lib\\site-packages\\sklearn\\linear_model\\_coordinate_descent.py:470: ConvergenceWarning: Objective did not converge. You might want to increase the number of iterations. Duality gap: 470.41553616722194, tolerance: 0.5156774517684891\n",
      "  model = cd_fast.enet_coordinate_descent_gram(\n",
      "C:\\Users\\ASUS\\anaconda3\\lib\\site-packages\\sklearn\\linear_model\\_coordinate_descent.py:470: ConvergenceWarning: Objective did not converge. You might want to increase the number of iterations. Duality gap: 483.1888072644839, tolerance: 0.5156774517684891\n",
      "  model = cd_fast.enet_coordinate_descent_gram(\n",
      "C:\\Users\\ASUS\\anaconda3\\lib\\site-packages\\sklearn\\linear_model\\_coordinate_descent.py:470: ConvergenceWarning: Objective did not converge. You might want to increase the number of iterations. Duality gap: 484.07467333661566, tolerance: 0.5156774517684891\n",
      "  model = cd_fast.enet_coordinate_descent_gram(\n",
      "C:\\Users\\ASUS\\anaconda3\\lib\\site-packages\\sklearn\\linear_model\\_coordinate_descent.py:470: ConvergenceWarning: Objective did not converge. You might want to increase the number of iterations. Duality gap: 0.5487936707268091, tolerance: 0.520047731332617\n",
      "  model = cd_fast.enet_coordinate_descent_gram(\n",
      "C:\\Users\\ASUS\\anaconda3\\lib\\site-packages\\sklearn\\linear_model\\_coordinate_descent.py:470: ConvergenceWarning: Objective did not converge. You might want to increase the number of iterations. Duality gap: 0.6064918951701657, tolerance: 0.520047731332617\n",
      "  model = cd_fast.enet_coordinate_descent_gram(\n",
      "C:\\Users\\ASUS\\anaconda3\\lib\\site-packages\\sklearn\\linear_model\\_coordinate_descent.py:470: ConvergenceWarning: Objective did not converge. You might want to increase the number of iterations. Duality gap: 0.7173352189079196, tolerance: 0.520047731332617\n",
      "  model = cd_fast.enet_coordinate_descent_gram(\n",
      "C:\\Users\\ASUS\\anaconda3\\lib\\site-packages\\sklearn\\linear_model\\_coordinate_descent.py:470: ConvergenceWarning: Objective did not converge. You might want to increase the number of iterations. Duality gap: 0.88924187571115, tolerance: 0.520047731332617\n",
      "  model = cd_fast.enet_coordinate_descent_gram(\n",
      "C:\\Users\\ASUS\\anaconda3\\lib\\site-packages\\sklearn\\linear_model\\_coordinate_descent.py:470: ConvergenceWarning: Objective did not converge. You might want to increase the number of iterations. Duality gap: 0.848193475818789, tolerance: 0.520047731332617\n",
      "  model = cd_fast.enet_coordinate_descent_gram(\n",
      "C:\\Users\\ASUS\\anaconda3\\lib\\site-packages\\sklearn\\linear_model\\_coordinate_descent.py:470: ConvergenceWarning: Objective did not converge. You might want to increase the number of iterations. Duality gap: 0.797407715071131, tolerance: 0.520047731332617\n",
      "  model = cd_fast.enet_coordinate_descent_gram(\n",
      "C:\\Users\\ASUS\\anaconda3\\lib\\site-packages\\sklearn\\linear_model\\_coordinate_descent.py:470: ConvergenceWarning: Objective did not converge. You might want to increase the number of iterations. Duality gap: 0.8105242577064473, tolerance: 0.520047731332617\n",
      "  model = cd_fast.enet_coordinate_descent_gram(\n",
      "C:\\Users\\ASUS\\anaconda3\\lib\\site-packages\\sklearn\\linear_model\\_coordinate_descent.py:470: ConvergenceWarning: Objective did not converge. You might want to increase the number of iterations. Duality gap: 1.209593701852782, tolerance: 0.520047731332617\n",
      "  model = cd_fast.enet_coordinate_descent_gram(\n",
      "C:\\Users\\ASUS\\anaconda3\\lib\\site-packages\\sklearn\\linear_model\\_coordinate_descent.py:470: ConvergenceWarning: Objective did not converge. You might want to increase the number of iterations. Duality gap: 1.1375870209042205, tolerance: 0.520047731332617\n",
      "  model = cd_fast.enet_coordinate_descent_gram(\n",
      "C:\\Users\\ASUS\\anaconda3\\lib\\site-packages\\sklearn\\linear_model\\_coordinate_descent.py:470: ConvergenceWarning: Objective did not converge. You might want to increase the number of iterations. Duality gap: 1.209371334361549, tolerance: 0.520047731332617\n",
      "  model = cd_fast.enet_coordinate_descent_gram(\n",
      "C:\\Users\\ASUS\\anaconda3\\lib\\site-packages\\sklearn\\linear_model\\_coordinate_descent.py:470: ConvergenceWarning: Objective did not converge. You might want to increase the number of iterations. Duality gap: 1.0690468189461626, tolerance: 0.520047731332617\n",
      "  model = cd_fast.enet_coordinate_descent_gram(\n",
      "C:\\Users\\ASUS\\anaconda3\\lib\\site-packages\\sklearn\\linear_model\\_coordinate_descent.py:470: ConvergenceWarning: Objective did not converge. You might want to increase the number of iterations. Duality gap: 1.0636929519153, tolerance: 0.520047731332617\n",
      "  model = cd_fast.enet_coordinate_descent_gram(\n",
      "C:\\Users\\ASUS\\anaconda3\\lib\\site-packages\\sklearn\\linear_model\\_coordinate_descent.py:470: ConvergenceWarning: Objective did not converge. You might want to increase the number of iterations. Duality gap: 1.75706597745193, tolerance: 0.520047731332617\n",
      "  model = cd_fast.enet_coordinate_descent_gram(\n",
      "C:\\Users\\ASUS\\anaconda3\\lib\\site-packages\\sklearn\\linear_model\\_coordinate_descent.py:470: ConvergenceWarning: Objective did not converge. You might want to increase the number of iterations. Duality gap: 2.087711295205281, tolerance: 0.520047731332617\n",
      "  model = cd_fast.enet_coordinate_descent_gram(\n",
      "C:\\Users\\ASUS\\anaconda3\\lib\\site-packages\\sklearn\\linear_model\\_coordinate_descent.py:470: ConvergenceWarning: Objective did not converge. You might want to increase the number of iterations. Duality gap: 2.05716801110043, tolerance: 0.520047731332617\n",
      "  model = cd_fast.enet_coordinate_descent_gram(\n",
      "C:\\Users\\ASUS\\anaconda3\\lib\\site-packages\\sklearn\\linear_model\\_coordinate_descent.py:470: ConvergenceWarning: Objective did not converge. You might want to increase the number of iterations. Duality gap: 2.128043333156711, tolerance: 0.520047731332617\n",
      "  model = cd_fast.enet_coordinate_descent_gram(\n",
      "C:\\Users\\ASUS\\anaconda3\\lib\\site-packages\\sklearn\\linear_model\\_coordinate_descent.py:470: ConvergenceWarning: Objective did not converge. You might want to increase the number of iterations. Duality gap: 4.154970648157587, tolerance: 0.520047731332617\n",
      "  model = cd_fast.enet_coordinate_descent_gram(\n",
      "C:\\Users\\ASUS\\anaconda3\\lib\\site-packages\\sklearn\\linear_model\\_coordinate_descent.py:470: ConvergenceWarning: Objective did not converge. You might want to increase the number of iterations. Duality gap: 22.855631402660492, tolerance: 0.520047731332617\n",
      "  model = cd_fast.enet_coordinate_descent_gram(\n",
      "C:\\Users\\ASUS\\anaconda3\\lib\\site-packages\\sklearn\\linear_model\\_coordinate_descent.py:470: ConvergenceWarning: Objective did not converge. You might want to increase the number of iterations. Duality gap: 45.35848650636444, tolerance: 0.520047731332617\n",
      "  model = cd_fast.enet_coordinate_descent_gram(\n",
      "C:\\Users\\ASUS\\anaconda3\\lib\\site-packages\\sklearn\\linear_model\\_coordinate_descent.py:470: ConvergenceWarning: Objective did not converge. You might want to increase the number of iterations. Duality gap: 70.96484236021729, tolerance: 0.520047731332617\n",
      "  model = cd_fast.enet_coordinate_descent_gram(\n",
      "C:\\Users\\ASUS\\anaconda3\\lib\\site-packages\\sklearn\\linear_model\\_coordinate_descent.py:470: ConvergenceWarning: Objective did not converge. You might want to increase the number of iterations. Duality gap: 88.56975151493725, tolerance: 0.520047731332617\n",
      "  model = cd_fast.enet_coordinate_descent_gram(\n",
      "C:\\Users\\ASUS\\anaconda3\\lib\\site-packages\\sklearn\\linear_model\\_coordinate_descent.py:470: ConvergenceWarning: Objective did not converge. You might want to increase the number of iterations. Duality gap: 106.26906834312467, tolerance: 0.520047731332617\n",
      "  model = cd_fast.enet_coordinate_descent_gram(\n",
      "C:\\Users\\ASUS\\anaconda3\\lib\\site-packages\\sklearn\\linear_model\\_coordinate_descent.py:470: ConvergenceWarning: Objective did not converge. You might want to increase the number of iterations. Duality gap: 113.5723142831514, tolerance: 0.520047731332617\n",
      "  model = cd_fast.enet_coordinate_descent_gram(\n",
      "C:\\Users\\ASUS\\anaconda3\\lib\\site-packages\\sklearn\\linear_model\\_coordinate_descent.py:470: ConvergenceWarning: Objective did not converge. You might want to increase the number of iterations. Duality gap: 115.50564308470621, tolerance: 0.520047731332617\n",
      "  model = cd_fast.enet_coordinate_descent_gram(\n",
      "C:\\Users\\ASUS\\anaconda3\\lib\\site-packages\\sklearn\\linear_model\\_coordinate_descent.py:470: ConvergenceWarning: Objective did not converge. You might want to increase the number of iterations. Duality gap: 139.01946691307717, tolerance: 0.520047731332617\n",
      "  model = cd_fast.enet_coordinate_descent_gram(\n",
      "C:\\Users\\ASUS\\anaconda3\\lib\\site-packages\\sklearn\\linear_model\\_coordinate_descent.py:470: ConvergenceWarning: Objective did not converge. You might want to increase the number of iterations. Duality gap: 189.38328460140065, tolerance: 0.520047731332617\n",
      "  model = cd_fast.enet_coordinate_descent_gram(\n",
      "C:\\Users\\ASUS\\anaconda3\\lib\\site-packages\\sklearn\\linear_model\\_coordinate_descent.py:470: ConvergenceWarning: Objective did not converge. You might want to increase the number of iterations. Duality gap: 187.47060485933525, tolerance: 0.520047731332617\n",
      "  model = cd_fast.enet_coordinate_descent_gram(\n",
      "C:\\Users\\ASUS\\anaconda3\\lib\\site-packages\\sklearn\\linear_model\\_coordinate_descent.py:470: ConvergenceWarning: Objective did not converge. You might want to increase the number of iterations. Duality gap: 183.6839004032031, tolerance: 0.520047731332617\n",
      "  model = cd_fast.enet_coordinate_descent_gram(\n",
      "C:\\Users\\ASUS\\anaconda3\\lib\\site-packages\\sklearn\\linear_model\\_coordinate_descent.py:470: ConvergenceWarning: Objective did not converge. You might want to increase the number of iterations. Duality gap: 176.002369936474, tolerance: 0.520047731332617\n",
      "  model = cd_fast.enet_coordinate_descent_gram(\n",
      "C:\\Users\\ASUS\\anaconda3\\lib\\site-packages\\sklearn\\linear_model\\_coordinate_descent.py:470: ConvergenceWarning: Objective did not converge. You might want to increase the number of iterations. Duality gap: 173.2533712309271, tolerance: 0.520047731332617\n",
      "  model = cd_fast.enet_coordinate_descent_gram(\n",
      "C:\\Users\\ASUS\\anaconda3\\lib\\site-packages\\sklearn\\linear_model\\_coordinate_descent.py:470: ConvergenceWarning: Objective did not converge. You might want to increase the number of iterations. Duality gap: 164.35208823057292, tolerance: 0.520047731332617\n",
      "  model = cd_fast.enet_coordinate_descent_gram(\n",
      "C:\\Users\\ASUS\\anaconda3\\lib\\site-packages\\sklearn\\linear_model\\_coordinate_descent.py:470: ConvergenceWarning: Objective did not converge. You might want to increase the number of iterations. Duality gap: 184.7198992556407, tolerance: 0.520047731332617\n",
      "  model = cd_fast.enet_coordinate_descent_gram(\n",
      "C:\\Users\\ASUS\\anaconda3\\lib\\site-packages\\sklearn\\linear_model\\_coordinate_descent.py:470: ConvergenceWarning: Objective did not converge. You might want to increase the number of iterations. Duality gap: 230.8671029585953, tolerance: 0.520047731332617\n",
      "  model = cd_fast.enet_coordinate_descent_gram(\n",
      "C:\\Users\\ASUS\\anaconda3\\lib\\site-packages\\sklearn\\linear_model\\_coordinate_descent.py:470: ConvergenceWarning: Objective did not converge. You might want to increase the number of iterations. Duality gap: 265.38896545872376, tolerance: 0.520047731332617\n",
      "  model = cd_fast.enet_coordinate_descent_gram(\n",
      "C:\\Users\\ASUS\\anaconda3\\lib\\site-packages\\sklearn\\linear_model\\_coordinate_descent.py:470: ConvergenceWarning: Objective did not converge. You might want to increase the number of iterations. Duality gap: 266.45730765898566, tolerance: 0.520047731332617\n",
      "  model = cd_fast.enet_coordinate_descent_gram(\n",
      "C:\\Users\\ASUS\\anaconda3\\lib\\site-packages\\sklearn\\linear_model\\_coordinate_descent.py:470: ConvergenceWarning: Objective did not converge. You might want to increase the number of iterations. Duality gap: 276.9933191238681, tolerance: 0.520047731332617\n",
      "  model = cd_fast.enet_coordinate_descent_gram(\n",
      "C:\\Users\\ASUS\\anaconda3\\lib\\site-packages\\sklearn\\linear_model\\_coordinate_descent.py:470: ConvergenceWarning: Objective did not converge. You might want to increase the number of iterations. Duality gap: 312.7341280352616, tolerance: 0.520047731332617\n",
      "  model = cd_fast.enet_coordinate_descent_gram(\n",
      "C:\\Users\\ASUS\\anaconda3\\lib\\site-packages\\sklearn\\linear_model\\_coordinate_descent.py:470: ConvergenceWarning: Objective did not converge. You might want to increase the number of iterations. Duality gap: 355.5254579519469, tolerance: 0.520047731332617\n",
      "  model = cd_fast.enet_coordinate_descent_gram(\n",
      "C:\\Users\\ASUS\\anaconda3\\lib\\site-packages\\sklearn\\linear_model\\_coordinate_descent.py:470: ConvergenceWarning: Objective did not converge. You might want to increase the number of iterations. Duality gap: 362.20914292416137, tolerance: 0.520047731332617\n",
      "  model = cd_fast.enet_coordinate_descent_gram(\n",
      "C:\\Users\\ASUS\\anaconda3\\lib\\site-packages\\sklearn\\linear_model\\_coordinate_descent.py:470: ConvergenceWarning: Objective did not converge. You might want to increase the number of iterations. Duality gap: 363.5728752864343, tolerance: 0.520047731332617\n",
      "  model = cd_fast.enet_coordinate_descent_gram(\n",
      "C:\\Users\\ASUS\\anaconda3\\lib\\site-packages\\sklearn\\linear_model\\_coordinate_descent.py:470: ConvergenceWarning: Objective did not converge. You might want to increase the number of iterations. Duality gap: 366.50113774269676, tolerance: 0.520047731332617\n",
      "  model = cd_fast.enet_coordinate_descent_gram(\n",
      "C:\\Users\\ASUS\\anaconda3\\lib\\site-packages\\sklearn\\linear_model\\_coordinate_descent.py:470: ConvergenceWarning: Objective did not converge. You might want to increase the number of iterations. Duality gap: 387.70261413009416, tolerance: 0.520047731332617\n",
      "  model = cd_fast.enet_coordinate_descent_gram(\n",
      "C:\\Users\\ASUS\\anaconda3\\lib\\site-packages\\sklearn\\linear_model\\_coordinate_descent.py:470: ConvergenceWarning: Objective did not converge. You might want to increase the number of iterations. Duality gap: 423.1826534781509, tolerance: 0.520047731332617\n",
      "  model = cd_fast.enet_coordinate_descent_gram(\n",
      "C:\\Users\\ASUS\\anaconda3\\lib\\site-packages\\sklearn\\linear_model\\_coordinate_descent.py:470: ConvergenceWarning: Objective did not converge. You might want to increase the number of iterations. Duality gap: 457.1059361145592, tolerance: 0.520047731332617\n",
      "  model = cd_fast.enet_coordinate_descent_gram(\n",
      "C:\\Users\\ASUS\\anaconda3\\lib\\site-packages\\sklearn\\linear_model\\_coordinate_descent.py:470: ConvergenceWarning: Objective did not converge. You might want to increase the number of iterations. Duality gap: 505.48747641765453, tolerance: 0.520047731332617\n",
      "  model = cd_fast.enet_coordinate_descent_gram(\n",
      "C:\\Users\\ASUS\\anaconda3\\lib\\site-packages\\sklearn\\linear_model\\_coordinate_descent.py:470: ConvergenceWarning: Objective did not converge. You might want to increase the number of iterations. Duality gap: 544.762388005967, tolerance: 0.520047731332617\n",
      "  model = cd_fast.enet_coordinate_descent_gram(\n"
     ]
    },
    {
     "name": "stderr",
     "output_type": "stream",
     "text": [
      "C:\\Users\\ASUS\\anaconda3\\lib\\site-packages\\sklearn\\linear_model\\_coordinate_descent.py:470: ConvergenceWarning: Objective did not converge. You might want to increase the number of iterations. Duality gap: 0.5291649160199086, tolerance: 0.5202728117184711\n",
      "  model = cd_fast.enet_coordinate_descent_gram(\n",
      "C:\\Users\\ASUS\\anaconda3\\lib\\site-packages\\sklearn\\linear_model\\_coordinate_descent.py:470: ConvergenceWarning: Objective did not converge. You might want to increase the number of iterations. Duality gap: 0.5892655366674262, tolerance: 0.5202728117184711\n",
      "  model = cd_fast.enet_coordinate_descent_gram(\n",
      "C:\\Users\\ASUS\\anaconda3\\lib\\site-packages\\sklearn\\linear_model\\_coordinate_descent.py:470: ConvergenceWarning: Objective did not converge. You might want to increase the number of iterations. Duality gap: 0.6004429173208337, tolerance: 0.5202728117184711\n",
      "  model = cd_fast.enet_coordinate_descent_gram(\n",
      "C:\\Users\\ASUS\\anaconda3\\lib\\site-packages\\sklearn\\linear_model\\_coordinate_descent.py:470: ConvergenceWarning: Objective did not converge. You might want to increase the number of iterations. Duality gap: 0.6584242605626969, tolerance: 0.5202728117184711\n",
      "  model = cd_fast.enet_coordinate_descent_gram(\n",
      "C:\\Users\\ASUS\\anaconda3\\lib\\site-packages\\sklearn\\linear_model\\_coordinate_descent.py:470: ConvergenceWarning: Objective did not converge. You might want to increase the number of iterations. Duality gap: 0.7730562471647318, tolerance: 0.5202728117184711\n",
      "  model = cd_fast.enet_coordinate_descent_gram(\n",
      "C:\\Users\\ASUS\\anaconda3\\lib\\site-packages\\sklearn\\linear_model\\_coordinate_descent.py:470: ConvergenceWarning: Objective did not converge. You might want to increase the number of iterations. Duality gap: 0.8852816199942026, tolerance: 0.5202728117184711\n",
      "  model = cd_fast.enet_coordinate_descent_gram(\n",
      "C:\\Users\\ASUS\\anaconda3\\lib\\site-packages\\sklearn\\linear_model\\_coordinate_descent.py:470: ConvergenceWarning: Objective did not converge. You might want to increase the number of iterations. Duality gap: 0.8876793895774426, tolerance: 0.5202728117184711\n",
      "  model = cd_fast.enet_coordinate_descent_gram(\n",
      "C:\\Users\\ASUS\\anaconda3\\lib\\site-packages\\sklearn\\linear_model\\_coordinate_descent.py:470: ConvergenceWarning: Objective did not converge. You might want to increase the number of iterations. Duality gap: 0.835201599961465, tolerance: 0.5202728117184711\n",
      "  model = cd_fast.enet_coordinate_descent_gram(\n",
      "C:\\Users\\ASUS\\anaconda3\\lib\\site-packages\\sklearn\\linear_model\\_coordinate_descent.py:470: ConvergenceWarning: Objective did not converge. You might want to increase the number of iterations. Duality gap: 0.7480434214771776, tolerance: 0.5202728117184711\n",
      "  model = cd_fast.enet_coordinate_descent_gram(\n",
      "C:\\Users\\ASUS\\anaconda3\\lib\\site-packages\\sklearn\\linear_model\\_coordinate_descent.py:470: ConvergenceWarning: Objective did not converge. You might want to increase the number of iterations. Duality gap: 1.2506413079540835, tolerance: 0.5202728117184711\n",
      "  model = cd_fast.enet_coordinate_descent_gram(\n",
      "C:\\Users\\ASUS\\anaconda3\\lib\\site-packages\\sklearn\\linear_model\\_coordinate_descent.py:470: ConvergenceWarning: Objective did not converge. You might want to increase the number of iterations. Duality gap: 1.1598404479323108, tolerance: 0.5202728117184711\n",
      "  model = cd_fast.enet_coordinate_descent_gram(\n",
      "C:\\Users\\ASUS\\anaconda3\\lib\\site-packages\\sklearn\\linear_model\\_coordinate_descent.py:470: ConvergenceWarning: Objective did not converge. You might want to increase the number of iterations. Duality gap: 1.330786876655111, tolerance: 0.5202728117184711\n",
      "  model = cd_fast.enet_coordinate_descent_gram(\n",
      "C:\\Users\\ASUS\\anaconda3\\lib\\site-packages\\sklearn\\linear_model\\_coordinate_descent.py:470: ConvergenceWarning: Objective did not converge. You might want to increase the number of iterations. Duality gap: 1.1164738134439176, tolerance: 0.5202728117184711\n",
      "  model = cd_fast.enet_coordinate_descent_gram(\n",
      "C:\\Users\\ASUS\\anaconda3\\lib\\site-packages\\sklearn\\linear_model\\_coordinate_descent.py:470: ConvergenceWarning: Objective did not converge. You might want to increase the number of iterations. Duality gap: 0.6738676186055272, tolerance: 0.5202728117184711\n",
      "  model = cd_fast.enet_coordinate_descent_gram(\n",
      "C:\\Users\\ASUS\\anaconda3\\lib\\site-packages\\sklearn\\linear_model\\_coordinate_descent.py:470: ConvergenceWarning: Objective did not converge. You might want to increase the number of iterations. Duality gap: 1.8908188554942171, tolerance: 0.5202728117184711\n",
      "  model = cd_fast.enet_coordinate_descent_gram(\n",
      "C:\\Users\\ASUS\\anaconda3\\lib\\site-packages\\sklearn\\linear_model\\_coordinate_descent.py:470: ConvergenceWarning: Objective did not converge. You might want to increase the number of iterations. Duality gap: 2.2023256652050804, tolerance: 0.5202728117184711\n",
      "  model = cd_fast.enet_coordinate_descent_gram(\n",
      "C:\\Users\\ASUS\\anaconda3\\lib\\site-packages\\sklearn\\linear_model\\_coordinate_descent.py:470: ConvergenceWarning: Objective did not converge. You might want to increase the number of iterations. Duality gap: 2.972292163502061, tolerance: 0.5202728117184711\n",
      "  model = cd_fast.enet_coordinate_descent_gram(\n",
      "C:\\Users\\ASUS\\anaconda3\\lib\\site-packages\\sklearn\\linear_model\\_coordinate_descent.py:470: ConvergenceWarning: Objective did not converge. You might want to increase the number of iterations. Duality gap: 3.1460392082226463, tolerance: 0.5202728117184711\n",
      "  model = cd_fast.enet_coordinate_descent_gram(\n",
      "C:\\Users\\ASUS\\anaconda3\\lib\\site-packages\\sklearn\\linear_model\\_coordinate_descent.py:470: ConvergenceWarning: Objective did not converge. You might want to increase the number of iterations. Duality gap: 3.7599212917114073, tolerance: 0.5202728117184711\n",
      "  model = cd_fast.enet_coordinate_descent_gram(\n",
      "C:\\Users\\ASUS\\anaconda3\\lib\\site-packages\\sklearn\\linear_model\\_coordinate_descent.py:470: ConvergenceWarning: Objective did not converge. You might want to increase the number of iterations. Duality gap: 16.684654432779553, tolerance: 0.5202728117184711\n",
      "  model = cd_fast.enet_coordinate_descent_gram(\n",
      "C:\\Users\\ASUS\\anaconda3\\lib\\site-packages\\sklearn\\linear_model\\_coordinate_descent.py:470: ConvergenceWarning: Objective did not converge. You might want to increase the number of iterations. Duality gap: 36.62675747796857, tolerance: 0.5202728117184711\n",
      "  model = cd_fast.enet_coordinate_descent_gram(\n",
      "C:\\Users\\ASUS\\anaconda3\\lib\\site-packages\\sklearn\\linear_model\\_coordinate_descent.py:470: ConvergenceWarning: Objective did not converge. You might want to increase the number of iterations. Duality gap: 55.82426852401818, tolerance: 0.5202728117184711\n",
      "  model = cd_fast.enet_coordinate_descent_gram(\n",
      "C:\\Users\\ASUS\\anaconda3\\lib\\site-packages\\sklearn\\linear_model\\_coordinate_descent.py:470: ConvergenceWarning: Objective did not converge. You might want to increase the number of iterations. Duality gap: 78.9176047844146, tolerance: 0.5202728117184711\n",
      "  model = cd_fast.enet_coordinate_descent_gram(\n",
      "C:\\Users\\ASUS\\anaconda3\\lib\\site-packages\\sklearn\\linear_model\\_coordinate_descent.py:470: ConvergenceWarning: Objective did not converge. You might want to increase the number of iterations. Duality gap: 95.98241838908234, tolerance: 0.5202728117184711\n",
      "  model = cd_fast.enet_coordinate_descent_gram(\n",
      "C:\\Users\\ASUS\\anaconda3\\lib\\site-packages\\sklearn\\linear_model\\_coordinate_descent.py:470: ConvergenceWarning: Objective did not converge. You might want to increase the number of iterations. Duality gap: 103.14061472683125, tolerance: 0.5202728117184711\n",
      "  model = cd_fast.enet_coordinate_descent_gram(\n",
      "C:\\Users\\ASUS\\anaconda3\\lib\\site-packages\\sklearn\\linear_model\\_coordinate_descent.py:470: ConvergenceWarning: Objective did not converge. You might want to increase the number of iterations. Duality gap: 105.16649091585236, tolerance: 0.5202728117184711\n",
      "  model = cd_fast.enet_coordinate_descent_gram(\n",
      "C:\\Users\\ASUS\\anaconda3\\lib\\site-packages\\sklearn\\linear_model\\_coordinate_descent.py:470: ConvergenceWarning: Objective did not converge. You might want to increase the number of iterations. Duality gap: 115.75329846779846, tolerance: 0.5202728117184711\n",
      "  model = cd_fast.enet_coordinate_descent_gram(\n",
      "C:\\Users\\ASUS\\anaconda3\\lib\\site-packages\\sklearn\\linear_model\\_coordinate_descent.py:470: ConvergenceWarning: Objective did not converge. You might want to increase the number of iterations. Duality gap: 183.64825150542902, tolerance: 0.5202728117184711\n",
      "  model = cd_fast.enet_coordinate_descent_gram(\n",
      "C:\\Users\\ASUS\\anaconda3\\lib\\site-packages\\sklearn\\linear_model\\_coordinate_descent.py:470: ConvergenceWarning: Objective did not converge. You might want to increase the number of iterations. Duality gap: 204.81841515613473, tolerance: 0.5202728117184711\n",
      "  model = cd_fast.enet_coordinate_descent_gram(\n",
      "C:\\Users\\ASUS\\anaconda3\\lib\\site-packages\\sklearn\\linear_model\\_coordinate_descent.py:470: ConvergenceWarning: Objective did not converge. You might want to increase the number of iterations. Duality gap: 198.67865480082833, tolerance: 0.5202728117184711\n",
      "  model = cd_fast.enet_coordinate_descent_gram(\n",
      "C:\\Users\\ASUS\\anaconda3\\lib\\site-packages\\sklearn\\linear_model\\_coordinate_descent.py:470: ConvergenceWarning: Objective did not converge. You might want to increase the number of iterations. Duality gap: 194.1256797541912, tolerance: 0.5202728117184711\n",
      "  model = cd_fast.enet_coordinate_descent_gram(\n",
      "C:\\Users\\ASUS\\anaconda3\\lib\\site-packages\\sklearn\\linear_model\\_coordinate_descent.py:470: ConvergenceWarning: Objective did not converge. You might want to increase the number of iterations. Duality gap: 196.81214969634902, tolerance: 0.5202728117184711\n",
      "  model = cd_fast.enet_coordinate_descent_gram(\n",
      "C:\\Users\\ASUS\\anaconda3\\lib\\site-packages\\sklearn\\linear_model\\_coordinate_descent.py:470: ConvergenceWarning: Objective did not converge. You might want to increase the number of iterations. Duality gap: 189.4767361996319, tolerance: 0.5202728117184711\n",
      "  model = cd_fast.enet_coordinate_descent_gram(\n",
      "C:\\Users\\ASUS\\anaconda3\\lib\\site-packages\\sklearn\\linear_model\\_coordinate_descent.py:470: ConvergenceWarning: Objective did not converge. You might want to increase the number of iterations. Duality gap: 175.02544347896037, tolerance: 0.5202728117184711\n",
      "  model = cd_fast.enet_coordinate_descent_gram(\n",
      "C:\\Users\\ASUS\\anaconda3\\lib\\site-packages\\sklearn\\linear_model\\_coordinate_descent.py:470: ConvergenceWarning: Objective did not converge. You might want to increase the number of iterations. Duality gap: 225.0234646872907, tolerance: 0.5202728117184711\n",
      "  model = cd_fast.enet_coordinate_descent_gram(\n",
      "C:\\Users\\ASUS\\anaconda3\\lib\\site-packages\\sklearn\\linear_model\\_coordinate_descent.py:470: ConvergenceWarning: Objective did not converge. You might want to increase the number of iterations. Duality gap: 260.9481952066037, tolerance: 0.5202728117184711\n",
      "  model = cd_fast.enet_coordinate_descent_gram(\n",
      "C:\\Users\\ASUS\\anaconda3\\lib\\site-packages\\sklearn\\linear_model\\_coordinate_descent.py:470: ConvergenceWarning: Objective did not converge. You might want to increase the number of iterations. Duality gap: 291.52946743896564, tolerance: 0.5202728117184711\n",
      "  model = cd_fast.enet_coordinate_descent_gram(\n",
      "C:\\Users\\ASUS\\anaconda3\\lib\\site-packages\\sklearn\\linear_model\\_coordinate_descent.py:470: ConvergenceWarning: Objective did not converge. You might want to increase the number of iterations. Duality gap: 301.5362957707132, tolerance: 0.5202728117184711\n",
      "  model = cd_fast.enet_coordinate_descent_gram(\n",
      "C:\\Users\\ASUS\\anaconda3\\lib\\site-packages\\sklearn\\linear_model\\_coordinate_descent.py:470: ConvergenceWarning: Objective did not converge. You might want to increase the number of iterations. Duality gap: 336.50894812699653, tolerance: 0.5202728117184711\n",
      "  model = cd_fast.enet_coordinate_descent_gram(\n",
      "C:\\Users\\ASUS\\anaconda3\\lib\\site-packages\\sklearn\\linear_model\\_coordinate_descent.py:470: ConvergenceWarning: Objective did not converge. You might want to increase the number of iterations. Duality gap: 362.6235610317801, tolerance: 0.5202728117184711\n",
      "  model = cd_fast.enet_coordinate_descent_gram(\n",
      "C:\\Users\\ASUS\\anaconda3\\lib\\site-packages\\sklearn\\linear_model\\_coordinate_descent.py:470: ConvergenceWarning: Objective did not converge. You might want to increase the number of iterations. Duality gap: 363.7489247448473, tolerance: 0.5202728117184711\n",
      "  model = cd_fast.enet_coordinate_descent_gram(\n",
      "C:\\Users\\ASUS\\anaconda3\\lib\\site-packages\\sklearn\\linear_model\\_coordinate_descent.py:470: ConvergenceWarning: Objective did not converge. You might want to increase the number of iterations. Duality gap: 373.9007538829569, tolerance: 0.5202728117184711\n",
      "  model = cd_fast.enet_coordinate_descent_gram(\n",
      "C:\\Users\\ASUS\\anaconda3\\lib\\site-packages\\sklearn\\linear_model\\_coordinate_descent.py:470: ConvergenceWarning: Objective did not converge. You might want to increase the number of iterations. Duality gap: 376.4556675994238, tolerance: 0.5202728117184711\n",
      "  model = cd_fast.enet_coordinate_descent_gram(\n",
      "C:\\Users\\ASUS\\anaconda3\\lib\\site-packages\\sklearn\\linear_model\\_coordinate_descent.py:470: ConvergenceWarning: Objective did not converge. You might want to increase the number of iterations. Duality gap: 415.95387314267316, tolerance: 0.5202728117184711\n",
      "  model = cd_fast.enet_coordinate_descent_gram(\n"
     ]
    },
    {
     "name": "stderr",
     "output_type": "stream",
     "text": [
      "C:\\Users\\ASUS\\anaconda3\\lib\\site-packages\\sklearn\\linear_model\\_coordinate_descent.py:470: ConvergenceWarning: Objective did not converge. You might want to increase the number of iterations. Duality gap: 438.83303659768376, tolerance: 0.5202728117184711\n",
      "  model = cd_fast.enet_coordinate_descent_gram(\n",
      "C:\\Users\\ASUS\\anaconda3\\lib\\site-packages\\sklearn\\linear_model\\_coordinate_descent.py:470: ConvergenceWarning: Objective did not converge. You might want to increase the number of iterations. Duality gap: 460.8218037459361, tolerance: 0.5202728117184711\n",
      "  model = cd_fast.enet_coordinate_descent_gram(\n",
      "C:\\Users\\ASUS\\anaconda3\\lib\\site-packages\\sklearn\\linear_model\\_coordinate_descent.py:470: ConvergenceWarning: Objective did not converge. You might want to increase the number of iterations. Duality gap: 505.04862402095273, tolerance: 0.5202728117184711\n",
      "  model = cd_fast.enet_coordinate_descent_gram(\n",
      "C:\\Users\\ASUS\\anaconda3\\lib\\site-packages\\sklearn\\linear_model\\_coordinate_descent.py:470: ConvergenceWarning: Objective did not converge. You might want to increase the number of iterations. Duality gap: 525.9977772749415, tolerance: 0.5202728117184711\n",
      "  model = cd_fast.enet_coordinate_descent_gram(\n",
      "C:\\Users\\ASUS\\anaconda3\\lib\\site-packages\\sklearn\\linear_model\\_coordinate_descent.py:474: ConvergenceWarning: Objective did not converge. You might want to increase the number of iterations. Duality gap: 1040.617050191088, tolerance: 0.6492471061093288\n",
      "  model = cd_fast.enet_coordinate_descent(\n"
     ]
    },
    {
     "name": "stdout",
     "output_type": "stream",
     "text": [
      "Best Alpha: 0.01\n",
      "Mean Squared Error: 0.08423962851738569\n"
     ]
    },
    {
     "name": "stderr",
     "output_type": "stream",
     "text": [
      "C:\\Users\\ASUS\\anaconda3\\lib\\site-packages\\sklearn\\linear_model\\_coordinate_descent.py:474: ConvergenceWarning: Objective did not converge. You might want to increase the number of iterations. Duality gap: 1040.617050191088, tolerance: 0.6492471061093288\n",
      "  model = cd_fast.enet_coordinate_descent(\n"
     ]
    }
   ],
   "source": [
    "# Create an array of potential alpha values to test\n",
    "alphas = np.logspace(-2, 2, 100)  # Example range of alpha values\n",
    "\n",
    "# Create LassoCV model with cross-validation\n",
    "lasso_cv = LassoCV(alphas=alphas, cv=5)  # 5-fold cross-validation\n",
    "\n",
    "# Fit the LassoCV model to the training data\n",
    "lasso_cv.fit(X_train, y_train)\n",
    "\n",
    "# Get the best alpha value from cross-validation\n",
    "best_alpha = lasso_cv.alpha_\n",
    "\n",
    "# Print the best alpha value\n",
    "print(\"Best Alpha:\", best_alpha)\n",
    "\n",
    "# Now you can create a final Lasso model with the best alpha and fit it to the entire training data\n",
    "final_lasso = Lasso(alpha=best_alpha)\n",
    "final_lasso.fit(X_train, y_train)\n",
    "\n",
    "# Evaluate the final model on the test data\n",
    "y_pred = final_lasso.predict(X_test)\n",
    "mse = mean_squared_error(y_test, y_pred)\n",
    "print(\"Mean Squared Error:\", mse)\n"
   ]
  },
  {
   "cell_type": "code",
   "execution_count": 19,
   "id": "dceb9638",
   "metadata": {
    "scrolled": true
   },
   "outputs": [
    {
     "name": "stdout",
     "output_type": "stream",
     "text": [
      "Mean Squared Error: 0.08423962851738569\n",
      "[0.0003849084996475453, 0.000336888627743254, 0.0006700250730395931, 0.0018070042490333526, -0.0024926401746549957, -0.0019803287094960847, -0.0024585444128189292, 0.001943319776850633, -0.0002816420413925136, 0.002356756301163863, -0.0013847770455951442, 0.0013498650328003386, 0.0010756055121925452, 0.00046833504907129646, 0.00023911223562180024, -7.899474966520914e-06, 0.0018757604167394877, -0.0004062650249494613, -0.0008487796978344095, 0.002897092075577592, 4.167389878447406e-05, -0.002885201131327216, -0.003287182994713356, 1.3635444510584786e-05, -0.001165268469182152, 0.0005843280728041204, -0.000914713814679259, -0.0007695926624113642, -0.0002891579511082943, -0.0009151665678455365, -1.750297603431972e-05, -0.0007796303995536893, 0.0005412077234665879, 4.6121821849603814e-05, 0.00034560366995243743, 0.000719878480601246, 7.703000493635558e-05, 0.0007766053520556868, 0.0007328037849469504, -0.0009240165701518709, 1.423839158958018e-06, 0.0022512261268914546, -0.0009773025001912547, 0.0002813828993984582, -0.0013872875085233812, 0.0009710787915203004, -0.00044490072156347653, -0.001244823510160359, 0.0008592157681100923, -0.00040259107995430207, -0.03748337340169175, 0.010912654722863959, 0.017848263217513007, -0.009017785092956093]\n"
     ]
    },
    {
     "name": "stderr",
     "output_type": "stream",
     "text": [
      "C:\\Users\\ASUS\\anaconda3\\lib\\site-packages\\sklearn\\linear_model\\_coordinate_descent.py:474: ConvergenceWarning: Objective did not converge. You might want to increase the number of iterations. Duality gap: 1040.617050191088, tolerance: 0.6492471061093288\n",
      "  model = cd_fast.enet_coordinate_descent(\n"
     ]
    }
   ],
   "source": [
    "lasso = Lasso(alpha=0.01)\n",
    "\n",
    "lasso.fit(X_train, y_train)\n",
    "\n",
    "y_pred = lasso.predict(X_test)\n",
    "\n",
    "mse = mean_squared_error(y_test, y_pred)\n",
    "print(\"Mean Squared Error:\", mse)\n",
    "\n",
    "coefficients = pd.DataFrame({'Features': X.columns, 'Coefficients': lasso.coef_})\n",
    "\n",
    "coef_lis =[]\n",
    "\n",
    "for j in range(len(coefficients)):\n",
    "    if coefficients.iloc[j][1]!= 0:\n",
    "        coef_lis.append((coefficients.iloc[j][0]))\n",
    "        \n",
    "        \n",
    "        \n",
    "#coef_lis.append('Nose_Right_Wrist_Angle')\n",
    "#coef_lis.append('Right_Sho_Wrist Angle') \n",
    "#coef_lis.append('Nose_Right_Elbow')\n",
    "         \n",
    "        \n",
    "#coef_lis.append('Left_Sho_Wrist_Angle')\n",
    "#coef_lis.append('Nose_Left_Wrist') \n",
    "#coef_lis.append('Nose_Left_Elbow')\n",
    "    \n",
    "print(([i for i in coefficients['Coefficients'] if i!=0]))\n",
    "\n",
    "#0.08251833560364905"
   ]
  },
  {
   "cell_type": "code",
   "execution_count": null,
   "id": "07240bff",
   "metadata": {},
   "outputs": [],
   "source": [
    "len(dataframe.columns[:-2])"
   ]
  },
  {
   "cell_type": "code",
   "execution_count": 21,
   "id": "c2b01b51",
   "metadata": {
    "scrolled": true
   },
   "outputs": [
    {
     "data": {
      "text/plain": [
       "['NOSE_X',\n",
       " 'NOSE_Y',\n",
       " 'NOSE_Z',\n",
       " 'LEFT_SHOULDER_X',\n",
       " 'LEFT_SHOULDER_Y',\n",
       " 'LEFT_SHOULDER_Z',\n",
       " 'RIGHT_SHOULDER_X',\n",
       " 'RIGHT_SHOULDER_Y',\n",
       " 'RIGHT_SHOULDER_Z',\n",
       " 'LEFT_ELBOW_X',\n",
       " 'LEFT_ELBOW_Y',\n",
       " 'LEFT_ELBOW_Z',\n",
       " 'RIGHT_ELBOW_X',\n",
       " 'RIGHT_ELBOW_Y',\n",
       " 'RIGHT_ELBOW_Z',\n",
       " 'LEFT_WRIST_X',\n",
       " 'LEFT_WRIST_Y',\n",
       " 'LEFT_WRIST_Z',\n",
       " 'RIGHT_WRIST_X',\n",
       " 'RIGHT_WRIST_Y',\n",
       " 'RIGHT_WRIST_Z',\n",
       " 'LEFT_HIP_X',\n",
       " 'LEFT_HIP_Y',\n",
       " 'LEFT_HIP_Z',\n",
       " 'RIGHT_HIP_X',\n",
       " 'RIGHT_HIP_Y',\n",
       " 'RIGHT_HIP_Z',\n",
       " 'LEFT_KNEE_X',\n",
       " 'LEFT_KNEE_Y',\n",
       " 'RIGHT_KNEE_X',\n",
       " 'RIGHT_KNEE_Y',\n",
       " 'RIGHT_KNEE_Z',\n",
       " 'LEFT_ANKLE_X',\n",
       " 'LEFT_ANKLE_Y',\n",
       " 'LEFT_ANKLE_Z',\n",
       " 'RIGHT_ANKLE_X',\n",
       " 'RIGHT_ANKLE_Y',\n",
       " 'RIGHT_ANKLE_Z',\n",
       " 'LEFT_HEEL_X',\n",
       " 'LEFT_HEEL_Y',\n",
       " 'LEFT_HEEL_Z',\n",
       " 'RIGHT_HEEL_X',\n",
       " 'RIGHT_HEEL_Y',\n",
       " 'RIGHT_HEEL_Z',\n",
       " 'LEFT_FOOT_INDEX_X',\n",
       " 'LEFT_FOOT_INDEX_Y',\n",
       " 'LEFT_FOOT_INDEX_Z',\n",
       " 'RIGHT_FOOT_INDEX_X',\n",
       " 'RIGHT_FOOT_INDEX_Y',\n",
       " 'RIGHT_FOOT_INDEX_Z',\n",
       " 'Left_Sho_Wrist_Angle',\n",
       " 'Nose_Left_Elbow',\n",
       " 'Nose_Right_Wrist_Angle',\n",
       " 'Right_Sho_Wrist Angle']"
      ]
     },
     "execution_count": 21,
     "metadata": {},
     "output_type": "execute_result"
    }
   ],
   "source": [
    "coef_lis"
   ]
  },
  {
   "cell_type": "code",
   "execution_count": 22,
   "id": "cbbbc715",
   "metadata": {},
   "outputs": [],
   "source": [
    "new_X = input_data[coef_lis]\n",
    "new_X_train, new_X_test, y_train, y_test = train_test_split(new_X, y, test_size=0.3)"
   ]
  },
  {
   "cell_type": "code",
   "execution_count": null,
   "id": "1bbac42d",
   "metadata": {},
   "outputs": [],
   "source": [
    "param_grid = {'max_depth': [6, 10, 15, 20],'learning_rate': [0.001, 0.01, 0.1, 0.2, 0,3],'subsample': [0.5, 0.6, 0.7, 0.8, 0.9, 1.0],'colsample_bytree': [0.4, 0.5, 0.6, 0.7, 0.8, 0.9, 1.0],'colsample_bylevel': [0.4, 0.5, 0.6, 0.7, 0.8, 0.9, 1.0],'min_child_weight': [0.5, 1.0, 3.0, 5.0, 7.0, 10.0],'gamma': [0, 0.25, 0.5, 1.0],'reg_lambda': [0.1, 1.0, 5.0, 10.0, 50.0, 100.0],'n_estimators': [100]}"
   ]
  },
  {
   "cell_type": "code",
   "execution_count": null,
   "id": "cacee9a1",
   "metadata": {},
   "outputs": [],
   "source": [
    "acc = []\n",
    "cm = []\n",
    "for i in range(1,20):\n",
    "    new_X = input_data[coef_lis]\n",
    "    new_X_train, new_X_test, y_train, y_test = train_test_split(new_X, y, test_size=0.2, random_state= None,shuffle=True)\n",
    "\n",
    "    # fit model no training data\n",
    "    xg_model = XGBClassifier()\n",
    "    xg_model.fit(new_X_train, y_train) \n",
    "\n",
    "    y_pred = xg_model.predict(new_X_test)\n",
    "\n",
    "\n",
    "    accuracy = accuracy_score(y_test, y_pred)\n",
    "    acc.append(accuracy)\n",
    "    print(\"Accuracy:\", accuracy)\n",
    "    \n",
    "    cm.append(confusion_matrix(y_test,y_pred))"
   ]
  },
  {
   "cell_type": "code",
   "execution_count": 25,
   "id": "9daf6e63",
   "metadata": {},
   "outputs": [
    {
     "data": {
      "text/html": [
       "<div>\n",
       "<style scoped>\n",
       "    .dataframe tbody tr th:only-of-type {\n",
       "        vertical-align: middle;\n",
       "    }\n",
       "\n",
       "    .dataframe tbody tr th {\n",
       "        vertical-align: top;\n",
       "    }\n",
       "\n",
       "    .dataframe thead th {\n",
       "        text-align: right;\n",
       "    }\n",
       "</style>\n",
       "<table border=\"1\" class=\"dataframe\">\n",
       "  <thead>\n",
       "    <tr style=\"text-align: right;\">\n",
       "      <th></th>\n",
       "      <th>NOSE_X</th>\n",
       "      <th>NOSE_Y</th>\n",
       "      <th>NOSE_Z</th>\n",
       "      <th>LEFT_SHOULDER_X</th>\n",
       "      <th>LEFT_SHOULDER_Y</th>\n",
       "      <th>LEFT_SHOULDER_Z</th>\n",
       "      <th>RIGHT_SHOULDER_X</th>\n",
       "      <th>RIGHT_SHOULDER_Y</th>\n",
       "      <th>RIGHT_SHOULDER_Z</th>\n",
       "      <th>LEFT_ELBOW_X</th>\n",
       "      <th>...</th>\n",
       "      <th>LEFT_FOOT_INDEX_Z</th>\n",
       "      <th>RIGHT_FOOT_INDEX_X</th>\n",
       "      <th>RIGHT_FOOT_INDEX_Y</th>\n",
       "      <th>RIGHT_FOOT_INDEX_Z</th>\n",
       "      <th>Left_Sho_Wrist_Angle</th>\n",
       "      <th>Nose_Left_Wrist</th>\n",
       "      <th>Nose_Left_Elbow</th>\n",
       "      <th>Nose_Right_Wrist_Angle</th>\n",
       "      <th>Right_Sho_Wrist Angle</th>\n",
       "      <th>Nose_Right_Elbow</th>\n",
       "    </tr>\n",
       "  </thead>\n",
       "  <tbody>\n",
       "    <tr>\n",
       "      <th>4412</th>\n",
       "      <td>0.670456</td>\n",
       "      <td>0.437917</td>\n",
       "      <td>-0.584805</td>\n",
       "      <td>0.696898</td>\n",
       "      <td>0.505910</td>\n",
       "      <td>-0.012920</td>\n",
       "      <td>0.559952</td>\n",
       "      <td>0.495668</td>\n",
       "      <td>-0.420204</td>\n",
       "      <td>0.717843</td>\n",
       "      <td>...</td>\n",
       "      <td>0.179560</td>\n",
       "      <td>0.623463</td>\n",
       "      <td>0.951869</td>\n",
       "      <td>0.179560</td>\n",
       "      <td>1.196412</td>\n",
       "      <td>1.197454</td>\n",
       "      <td>1.273103</td>\n",
       "      <td>2.103263</td>\n",
       "      <td>1.770258</td>\n",
       "      <td>2.302446</td>\n",
       "    </tr>\n",
       "    <tr>\n",
       "      <th>31236</th>\n",
       "      <td>308.733802</td>\n",
       "      <td>812.318573</td>\n",
       "      <td>-256.473899</td>\n",
       "      <td>323.943858</td>\n",
       "      <td>772.491608</td>\n",
       "      <td>-86.185829</td>\n",
       "      <td>257.821183</td>\n",
       "      <td>770.521393</td>\n",
       "      <td>-189.564629</td>\n",
       "      <td>332.751846</td>\n",
       "      <td>...</td>\n",
       "      <td>-142.666762</td>\n",
       "      <td>258.885312</td>\n",
       "      <td>536.793938</td>\n",
       "      <td>261.856041</td>\n",
       "      <td>-1.311423</td>\n",
       "      <td>-1.280151</td>\n",
       "      <td>-1.310933</td>\n",
       "      <td>-1.703426</td>\n",
       "      <td>-1.278904</td>\n",
       "      <td>-1.940640</td>\n",
       "    </tr>\n",
       "    <tr>\n",
       "      <th>2460</th>\n",
       "      <td>0.403041</td>\n",
       "      <td>0.413498</td>\n",
       "      <td>-0.257814</td>\n",
       "      <td>0.358754</td>\n",
       "      <td>0.461238</td>\n",
       "      <td>0.124425</td>\n",
       "      <td>0.279150</td>\n",
       "      <td>0.450656</td>\n",
       "      <td>-0.476142</td>\n",
       "      <td>0.391551</td>\n",
       "      <td>...</td>\n",
       "      <td>-0.106227</td>\n",
       "      <td>0.378424</td>\n",
       "      <td>0.897431</td>\n",
       "      <td>-0.106227</td>\n",
       "      <td>0.387277</td>\n",
       "      <td>0.766863</td>\n",
       "      <td>1.667772</td>\n",
       "      <td>2.145402</td>\n",
       "      <td>1.692063</td>\n",
       "      <td>2.405570</td>\n",
       "    </tr>\n",
       "    <tr>\n",
       "      <th>16059</th>\n",
       "      <td>478.398006</td>\n",
       "      <td>858.255539</td>\n",
       "      <td>163.520261</td>\n",
       "      <td>438.094018</td>\n",
       "      <td>816.390228</td>\n",
       "      <td>323.904355</td>\n",
       "      <td>453.140738</td>\n",
       "      <td>856.176224</td>\n",
       "      <td>34.446428</td>\n",
       "      <td>426.840606</td>\n",
       "      <td>...</td>\n",
       "      <td>-9.937214</td>\n",
       "      <td>393.005376</td>\n",
       "      <td>535.174751</td>\n",
       "      <td>-375.023847</td>\n",
       "      <td>-1.147303</td>\n",
       "      <td>-1.596261</td>\n",
       "      <td>-2.027090</td>\n",
       "      <td>1.175662</td>\n",
       "      <td>1.006038</td>\n",
       "      <td>1.227493</td>\n",
       "    </tr>\n",
       "    <tr>\n",
       "      <th>11157</th>\n",
       "      <td>376.518245</td>\n",
       "      <td>826.450729</td>\n",
       "      <td>-238.654396</td>\n",
       "      <td>361.529632</td>\n",
       "      <td>802.499847</td>\n",
       "      <td>-46.389776</td>\n",
       "      <td>306.169910</td>\n",
       "      <td>810.404816</td>\n",
       "      <td>-266.287758</td>\n",
       "      <td>352.891030</td>\n",
       "      <td>...</td>\n",
       "      <td>100.912363</td>\n",
       "      <td>230.566249</td>\n",
       "      <td>520.678825</td>\n",
       "      <td>183.522577</td>\n",
       "      <td>-1.463075</td>\n",
       "      <td>-1.591489</td>\n",
       "      <td>-1.859778</td>\n",
       "      <td>-1.958784</td>\n",
       "      <td>-1.475687</td>\n",
       "      <td>-2.285803</td>\n",
       "    </tr>\n",
       "    <tr>\n",
       "      <th>...</th>\n",
       "      <td>...</td>\n",
       "      <td>...</td>\n",
       "      <td>...</td>\n",
       "      <td>...</td>\n",
       "      <td>...</td>\n",
       "      <td>...</td>\n",
       "      <td>...</td>\n",
       "      <td>...</td>\n",
       "      <td>...</td>\n",
       "      <td>...</td>\n",
       "      <td>...</td>\n",
       "      <td>...</td>\n",
       "      <td>...</td>\n",
       "      <td>...</td>\n",
       "      <td>...</td>\n",
       "      <td>...</td>\n",
       "      <td>...</td>\n",
       "      <td>...</td>\n",
       "      <td>...</td>\n",
       "      <td>...</td>\n",
       "      <td>...</td>\n",
       "    </tr>\n",
       "    <tr>\n",
       "      <th>13620</th>\n",
       "      <td>268.153396</td>\n",
       "      <td>836.961441</td>\n",
       "      <td>-232.136436</td>\n",
       "      <td>294.043965</td>\n",
       "      <td>803.649292</td>\n",
       "      <td>-122.756510</td>\n",
       "      <td>228.321218</td>\n",
       "      <td>778.467178</td>\n",
       "      <td>-24.736201</td>\n",
       "      <td>316.569371</td>\n",
       "      <td>...</td>\n",
       "      <td>75.466949</td>\n",
       "      <td>168.209653</td>\n",
       "      <td>519.181747</td>\n",
       "      <td>279.937284</td>\n",
       "      <td>1.171975</td>\n",
       "      <td>0.744140</td>\n",
       "      <td>0.190291</td>\n",
       "      <td>-2.258183</td>\n",
       "      <td>-2.313931</td>\n",
       "      <td>-2.209002</td>\n",
       "    </tr>\n",
       "    <tr>\n",
       "      <th>16120</th>\n",
       "      <td>532.359996</td>\n",
       "      <td>790.498276</td>\n",
       "      <td>270.374200</td>\n",
       "      <td>475.917242</td>\n",
       "      <td>778.494492</td>\n",
       "      <td>295.871773</td>\n",
       "      <td>524.655147</td>\n",
       "      <td>778.648682</td>\n",
       "      <td>74.197937</td>\n",
       "      <td>458.505178</td>\n",
       "      <td>...</td>\n",
       "      <td>-38.929292</td>\n",
       "      <td>313.792191</td>\n",
       "      <td>594.440918</td>\n",
       "      <td>-213.877180</td>\n",
       "      <td>-1.550782</td>\n",
       "      <td>-2.115573</td>\n",
       "      <td>-2.460183</td>\n",
       "      <td>-1.962574</td>\n",
       "      <td>-1.932929</td>\n",
       "      <td>-1.831293</td>\n",
       "    </tr>\n",
       "    <tr>\n",
       "      <th>36652</th>\n",
       "      <td>0.500908</td>\n",
       "      <td>0.466426</td>\n",
       "      <td>-0.131356</td>\n",
       "      <td>0.480081</td>\n",
       "      <td>0.509470</td>\n",
       "      <td>0.188741</td>\n",
       "      <td>0.386274</td>\n",
       "      <td>0.502266</td>\n",
       "      <td>-0.272083</td>\n",
       "      <td>0.540268</td>\n",
       "      <td>...</td>\n",
       "      <td>-0.372149</td>\n",
       "      <td>0.468551</td>\n",
       "      <td>0.912814</td>\n",
       "      <td>-0.372149</td>\n",
       "      <td>0.148558</td>\n",
       "      <td>0.517239</td>\n",
       "      <td>1.171295</td>\n",
       "      <td>2.193328</td>\n",
       "      <td>1.743885</td>\n",
       "      <td>2.442351</td>\n",
       "    </tr>\n",
       "    <tr>\n",
       "      <th>32957</th>\n",
       "      <td>0.457651</td>\n",
       "      <td>0.465538</td>\n",
       "      <td>-0.304656</td>\n",
       "      <td>0.454686</td>\n",
       "      <td>0.501850</td>\n",
       "      <td>0.054796</td>\n",
       "      <td>0.325029</td>\n",
       "      <td>0.490468</td>\n",
       "      <td>-0.349341</td>\n",
       "      <td>0.530784</td>\n",
       "      <td>...</td>\n",
       "      <td>-0.504703</td>\n",
       "      <td>0.387278</td>\n",
       "      <td>0.873500</td>\n",
       "      <td>-0.504703</td>\n",
       "      <td>0.081901</td>\n",
       "      <td>0.313072</td>\n",
       "      <td>0.825443</td>\n",
       "      <td>2.435747</td>\n",
       "      <td>2.019422</td>\n",
       "      <td>2.647073</td>\n",
       "    </tr>\n",
       "    <tr>\n",
       "      <th>15232</th>\n",
       "      <td>565.009078</td>\n",
       "      <td>844.889221</td>\n",
       "      <td>92.508391</td>\n",
       "      <td>511.082225</td>\n",
       "      <td>823.577957</td>\n",
       "      <td>191.780713</td>\n",
       "      <td>546.526855</td>\n",
       "      <td>831.362305</td>\n",
       "      <td>-66.612822</td>\n",
       "      <td>492.683966</td>\n",
       "      <td>...</td>\n",
       "      <td>-29.577228</td>\n",
       "      <td>475.047305</td>\n",
       "      <td>553.597221</td>\n",
       "      <td>-113.116468</td>\n",
       "      <td>-1.740917</td>\n",
       "      <td>-2.119640</td>\n",
       "      <td>-2.336932</td>\n",
       "      <td>-1.842617</td>\n",
       "      <td>-1.686106</td>\n",
       "      <td>-1.975101</td>\n",
       "    </tr>\n",
       "  </tbody>\n",
       "</table>\n",
       "<p>27679 rows × 57 columns</p>\n",
       "</div>"
      ],
      "text/plain": [
       "           NOSE_X      NOSE_Y      NOSE_Z  LEFT_SHOULDER_X  LEFT_SHOULDER_Y  \\\n",
       "4412     0.670456    0.437917   -0.584805         0.696898         0.505910   \n",
       "31236  308.733802  812.318573 -256.473899       323.943858       772.491608   \n",
       "2460     0.403041    0.413498   -0.257814         0.358754         0.461238   \n",
       "16059  478.398006  858.255539  163.520261       438.094018       816.390228   \n",
       "11157  376.518245  826.450729 -238.654396       361.529632       802.499847   \n",
       "...           ...         ...         ...              ...              ...   \n",
       "13620  268.153396  836.961441 -232.136436       294.043965       803.649292   \n",
       "16120  532.359996  790.498276  270.374200       475.917242       778.494492   \n",
       "36652    0.500908    0.466426   -0.131356         0.480081         0.509470   \n",
       "32957    0.457651    0.465538   -0.304656         0.454686         0.501850   \n",
       "15232  565.009078  844.889221   92.508391       511.082225       823.577957   \n",
       "\n",
       "       LEFT_SHOULDER_Z  RIGHT_SHOULDER_X  RIGHT_SHOULDER_Y  RIGHT_SHOULDER_Z  \\\n",
       "4412         -0.012920          0.559952          0.495668         -0.420204   \n",
       "31236       -86.185829        257.821183        770.521393       -189.564629   \n",
       "2460          0.124425          0.279150          0.450656         -0.476142   \n",
       "16059       323.904355        453.140738        856.176224         34.446428   \n",
       "11157       -46.389776        306.169910        810.404816       -266.287758   \n",
       "...                ...               ...               ...               ...   \n",
       "13620      -122.756510        228.321218        778.467178        -24.736201   \n",
       "16120       295.871773        524.655147        778.648682         74.197937   \n",
       "36652         0.188741          0.386274          0.502266         -0.272083   \n",
       "32957         0.054796          0.325029          0.490468         -0.349341   \n",
       "15232       191.780713        546.526855        831.362305        -66.612822   \n",
       "\n",
       "       LEFT_ELBOW_X  ...  LEFT_FOOT_INDEX_Z  RIGHT_FOOT_INDEX_X  \\\n",
       "4412       0.717843  ...           0.179560            0.623463   \n",
       "31236    332.751846  ...        -142.666762          258.885312   \n",
       "2460       0.391551  ...          -0.106227            0.378424   \n",
       "16059    426.840606  ...          -9.937214          393.005376   \n",
       "11157    352.891030  ...         100.912363          230.566249   \n",
       "...             ...  ...                ...                 ...   \n",
       "13620    316.569371  ...          75.466949          168.209653   \n",
       "16120    458.505178  ...         -38.929292          313.792191   \n",
       "36652      0.540268  ...          -0.372149            0.468551   \n",
       "32957      0.530784  ...          -0.504703            0.387278   \n",
       "15232    492.683966  ...         -29.577228          475.047305   \n",
       "\n",
       "       RIGHT_FOOT_INDEX_Y  RIGHT_FOOT_INDEX_Z  Left_Sho_Wrist_Angle  \\\n",
       "4412             0.951869            0.179560              1.196412   \n",
       "31236          536.793938          261.856041             -1.311423   \n",
       "2460             0.897431           -0.106227              0.387277   \n",
       "16059          535.174751         -375.023847             -1.147303   \n",
       "11157          520.678825          183.522577             -1.463075   \n",
       "...                   ...                 ...                   ...   \n",
       "13620          519.181747          279.937284              1.171975   \n",
       "16120          594.440918         -213.877180             -1.550782   \n",
       "36652            0.912814           -0.372149              0.148558   \n",
       "32957            0.873500           -0.504703              0.081901   \n",
       "15232          553.597221         -113.116468             -1.740917   \n",
       "\n",
       "       Nose_Left_Wrist  Nose_Left_Elbow  Nose_Right_Wrist_Angle  \\\n",
       "4412          1.197454         1.273103                2.103263   \n",
       "31236        -1.280151        -1.310933               -1.703426   \n",
       "2460          0.766863         1.667772                2.145402   \n",
       "16059        -1.596261        -2.027090                1.175662   \n",
       "11157        -1.591489        -1.859778               -1.958784   \n",
       "...                ...              ...                     ...   \n",
       "13620         0.744140         0.190291               -2.258183   \n",
       "16120        -2.115573        -2.460183               -1.962574   \n",
       "36652         0.517239         1.171295                2.193328   \n",
       "32957         0.313072         0.825443                2.435747   \n",
       "15232        -2.119640        -2.336932               -1.842617   \n",
       "\n",
       "       Right_Sho_Wrist Angle  Nose_Right_Elbow  \n",
       "4412                1.770258          2.302446  \n",
       "31236              -1.278904         -1.940640  \n",
       "2460                1.692063          2.405570  \n",
       "16059               1.006038          1.227493  \n",
       "11157              -1.475687         -2.285803  \n",
       "...                      ...               ...  \n",
       "13620              -2.313931         -2.209002  \n",
       "16120              -1.932929         -1.831293  \n",
       "36652               1.743885          2.442351  \n",
       "32957               2.019422          2.647073  \n",
       "15232              -1.686106         -1.975101  \n",
       "\n",
       "[27679 rows x 57 columns]"
      ]
     },
     "execution_count": 25,
     "metadata": {},
     "output_type": "execute_result"
    }
   ],
   "source": [
    "new_X_train"
   ]
  },
  {
   "cell_type": "markdown",
   "id": "841052cc",
   "metadata": {},
   "source": [
    "*XGB FOR HIT*"
   ]
  },
  {
   "cell_type": "code",
   "execution_count": 23,
   "id": "9fe255f1",
   "metadata": {},
   "outputs": [],
   "source": [
    "params = {\n",
    "    'subsample': 0.7,\n",
    "    'reg_lambda': 50.0,\n",
    "    'n_estimators': 100,\n",
    "    'min_child_weight': 5.0,\n",
    "    'max_depth': 6,\n",
    "    'learning_rate': 0.2,\n",
    "    'gamma': 1.0,\n",
    "    'colsample_bytree': 0.9,\n",
    "    'colsample_bylevel': 0.4,\n",
    "}\n",
    "\n",
    "model = XGBClassifier(**params)\n",
    "\n"
   ]
  },
  {
   "cell_type": "code",
   "execution_count": 24,
   "id": "e09ccb00",
   "metadata": {},
   "outputs": [
    {
     "data": {
      "text/plain": [
       "XGBClassifier(base_score=None, booster=None, callbacks=None,\n",
       "              colsample_bylevel=0.4, colsample_bynode=None,\n",
       "              colsample_bytree=0.9, early_stopping_rounds=None,\n",
       "              enable_categorical=False, eval_metric=None, feature_types=None,\n",
       "              gamma=1.0, gpu_id=None, grow_policy=None, importance_type=None,\n",
       "              interaction_constraints=None, learning_rate=0.2, max_bin=None,\n",
       "              max_cat_threshold=None, max_cat_to_onehot=None,\n",
       "              max_delta_step=None, max_depth=6, max_leaves=None,\n",
       "              min_child_weight=5.0, missing=nan, monotone_constraints=None,\n",
       "              n_estimators=100, n_jobs=None, num_parallel_tree=None,\n",
       "              objective='multi:softprob', predictor=None, ...)"
      ]
     },
     "execution_count": 24,
     "metadata": {},
     "output_type": "execute_result"
    }
   ],
   "source": [
    "model.fit(new_X_train, y_train)"
   ]
  },
  {
   "cell_type": "code",
   "execution_count": 25,
   "id": "b2b5fb87",
   "metadata": {},
   "outputs": [],
   "source": [
    "y_pred = model.predict(new_X_test)"
   ]
  },
  {
   "cell_type": "code",
   "execution_count": 27,
   "id": "74d3ef3b",
   "metadata": {},
   "outputs": [
    {
     "data": {
      "text/plain": [
       "0.9973326664999583"
      ]
     },
     "execution_count": 27,
     "metadata": {},
     "output_type": "execute_result"
    }
   ],
   "source": [
    "accuracy_score(y_test,y_pred)"
   ]
  },
  {
   "cell_type": "code",
   "execution_count": 109,
   "id": "b0c0dccf",
   "metadata": {},
   "outputs": [
    {
     "data": {
      "text/plain": [
       "array([1, 1, 1, ..., 0, 1, 1], dtype=int64)"
      ]
     },
     "execution_count": 109,
     "metadata": {},
     "output_type": "execute_result"
    }
   ],
   "source": [
    "y_pred1"
   ]
  },
  {
   "cell_type": "code",
   "execution_count": 26,
   "id": "ec31f637",
   "metadata": {},
   "outputs": [
    {
     "data": {
      "text/plain": [
       "array([[2894,    0,   11],\n",
       "       [   0, 8717,    7],\n",
       "       [   6,    8,  354]], dtype=int64)"
      ]
     },
     "execution_count": 26,
     "metadata": {},
     "output_type": "execute_result"
    }
   ],
   "source": [
    "confusion_matrix(y_test,y_pred)"
   ]
  },
  {
   "cell_type": "code",
   "execution_count": null,
   "id": "684258cd",
   "metadata": {},
   "outputs": [],
   "source": [
    "cm_display = ConfusionMatrixDisplay(confusion_matrix = confusion_matrix, display_labels = [False, True])\n",
    "cm_display.plot()\n",
    "plt.show()"
   ]
  },
  {
   "cell_type": "code",
   "execution_count": 36,
   "id": "7ede94b9",
   "metadata": {},
   "outputs": [
    {
     "data": {
      "text/plain": [
       "'              precision    recall  f1-score   support\\n\\n       After       1.00      1.00      1.00      3004\\n      Before       1.00      1.00      1.00      8626\\n         Hit       0.96      0.97      0.97       367\\n\\n    accuracy                           1.00     11997\\n   macro avg       0.99      0.99      0.99     11997\\nweighted avg       1.00      1.00      1.00     11997\\n'"
      ]
     },
     "execution_count": 36,
     "metadata": {},
     "output_type": "execute_result"
    }
   ],
   "source": [
    "sklearn.metrics.classification_report(y_test,y_pred,target_names=label_encoder.classes_)"
   ]
  },
  {
   "cell_type": "code",
   "execution_count": null,
   "id": "959c9e8e",
   "metadata": {},
   "outputs": [],
   "source": []
  },
  {
   "cell_type": "code",
   "execution_count": null,
   "id": "dc0067a1",
   "metadata": {},
   "outputs": [],
   "source": []
  },
  {
   "cell_type": "code",
   "execution_count": null,
   "id": "8eacb969",
   "metadata": {},
   "outputs": [],
   "source": []
  },
  {
   "cell_type": "code",
   "execution_count": null,
   "id": "956112da",
   "metadata": {},
   "outputs": [],
   "source": []
  },
  {
   "cell_type": "code",
   "execution_count": 19,
   "id": "c8187651",
   "metadata": {},
   "outputs": [],
   "source": [
    "import sklearn"
   ]
  },
  {
   "cell_type": "code",
   "execution_count": 111,
   "id": "be2f3075",
   "metadata": {},
   "outputs": [
    {
     "data": {
      "text/plain": [
       "0.9978327915312162"
      ]
     },
     "execution_count": 111,
     "metadata": {},
     "output_type": "execute_result"
    }
   ],
   "source": [
    "accuracy_score(y_test,y_pred1)"
   ]
  },
  {
   "cell_type": "code",
   "execution_count": 115,
   "id": "b4cbcf44",
   "metadata": {},
   "outputs": [],
   "source": [
    "y_pred2 = model.predict(test[coef_lis])"
   ]
  },
  {
   "cell_type": "code",
   "execution_count": 116,
   "id": "1a1ce763",
   "metadata": {},
   "outputs": [],
   "source": [
    "tes = label_encoder.fit_transform(test['Class_1'])"
   ]
  },
  {
   "cell_type": "code",
   "execution_count": 117,
   "id": "bfe0eb3c",
   "metadata": {},
   "outputs": [
    {
     "data": {
      "text/plain": [
       "0.9934123847167325"
      ]
     },
     "execution_count": 117,
     "metadata": {},
     "output_type": "execute_result"
    }
   ],
   "source": [
    "accuracy_score(tes,y_pred2)"
   ]
  },
  {
   "cell_type": "code",
   "execution_count": 118,
   "id": "aed12e80",
   "metadata": {},
   "outputs": [
    {
     "data": {
      "text/plain": [
       "array([[107,   0,   4],\n",
       "       [  0, 624,   0],\n",
       "       [  0,   1,  23]], dtype=int64)"
      ]
     },
     "execution_count": 118,
     "metadata": {},
     "output_type": "execute_result"
    }
   ],
   "source": [
    "confusion_matrix(tes,y_pred2)"
   ]
  },
  {
   "cell_type": "code",
   "execution_count": 119,
   "id": "24c37c96",
   "metadata": {},
   "outputs": [
    {
     "data": {
      "text/plain": [
       "'              precision    recall  f1-score   support\\n\\n           0       1.00      0.96      0.98       111\\n           1       1.00      1.00      1.00       624\\n           2       0.85      0.96      0.90        24\\n\\n    accuracy                           0.99       759\\n   macro avg       0.95      0.97      0.96       759\\nweighted avg       0.99      0.99      0.99       759\\n'"
      ]
     },
     "execution_count": 119,
     "metadata": {},
     "output_type": "execute_result"
    }
   ],
   "source": [
    "sklearn.metrics.classification_report(tes,y_pred2)"
   ]
  },
  {
   "cell_type": "code",
   "execution_count": null,
   "id": "bc00b328",
   "metadata": {},
   "outputs": [],
   "source": []
  },
  {
   "cell_type": "code",
   "execution_count": null,
   "id": "b7dee2af",
   "metadata": {},
   "outputs": [],
   "source": []
  },
  {
   "cell_type": "markdown",
   "id": "4d0c37cd",
   "metadata": {},
   "source": [
    "*RANDOM FOREST FOR HIT*"
   ]
  },
  {
   "cell_type": "code",
   "execution_count": 120,
   "id": "89fde4a7",
   "metadata": {},
   "outputs": [],
   "source": [
    "params ={'bootstrap': True, 'criterion': 'entropy', 'max_depth': 5, 'max_features': 7, 'min_samples_split': 6}\n",
    "model = RandomForestClassifier(**params)"
   ]
  },
  {
   "cell_type": "code",
   "execution_count": 121,
   "id": "40d9ebc2",
   "metadata": {},
   "outputs": [
    {
     "data": {
      "text/plain": [
       "RandomForestClassifier(bootstrap=True, ccp_alpha=0.0, class_weight=None,\n",
       "                       criterion='entropy', max_depth=5, max_features=7,\n",
       "                       max_leaf_nodes=None, max_samples=None,\n",
       "                       min_impurity_decrease=0.0, min_impurity_split=None,\n",
       "                       min_samples_leaf=1, min_samples_split=6,\n",
       "                       min_weight_fraction_leaf=0.0, n_estimators=100,\n",
       "                       n_jobs=None, oob_score=False, random_state=None,\n",
       "                       verbose=0, warm_start=False)"
      ]
     },
     "execution_count": 121,
     "metadata": {},
     "output_type": "execute_result"
    }
   ],
   "source": [
    "model.fit(new_X_train, y_train)"
   ]
  },
  {
   "cell_type": "code",
   "execution_count": 130,
   "id": "81bad4cc",
   "metadata": {},
   "outputs": [],
   "source": [
    "y_pred = model.predict(test[coef_lis])"
   ]
  },
  {
   "cell_type": "code",
   "execution_count": 131,
   "id": "72e05d05",
   "metadata": {},
   "outputs": [],
   "source": [
    "tes = label_encoder.fit_transform(test['Class_1'])"
   ]
  },
  {
   "cell_type": "code",
   "execution_count": 133,
   "id": "dbd06d4d",
   "metadata": {},
   "outputs": [
    {
     "data": {
      "text/plain": [
       "0.9920948616600791"
      ]
     },
     "execution_count": 133,
     "metadata": {},
     "output_type": "execute_result"
    }
   ],
   "source": [
    "accuracy_score(tes,y_pred)"
   ]
  },
  {
   "cell_type": "code",
   "execution_count": 134,
   "id": "ac0561ec",
   "metadata": {},
   "outputs": [
    {
     "data": {
      "text/plain": [
       "array([[108,   0,   3],\n",
       "       [  0, 624,   0],\n",
       "       [  0,   3,  21]], dtype=int64)"
      ]
     },
     "execution_count": 134,
     "metadata": {},
     "output_type": "execute_result"
    }
   ],
   "source": [
    "confusion_matrix(tes,y_pred)"
   ]
  },
  {
   "cell_type": "code",
   "execution_count": 135,
   "id": "624876d0",
   "metadata": {},
   "outputs": [
    {
     "data": {
      "text/plain": [
       "'              precision    recall  f1-score   support\\n\\n           0       1.00      0.97      0.99       111\\n           1       1.00      1.00      1.00       624\\n           2       0.88      0.88      0.88        24\\n\\n    accuracy                           0.99       759\\n   macro avg       0.96      0.95      0.95       759\\nweighted avg       0.99      0.99      0.99       759\\n'"
      ]
     },
     "execution_count": 135,
     "metadata": {},
     "output_type": "execute_result"
    }
   ],
   "source": [
    "sklearn.metrics.classification_report(tes,y_pred)"
   ]
  },
  {
   "cell_type": "code",
   "execution_count": null,
   "id": "6f4f362b",
   "metadata": {},
   "outputs": [],
   "source": [
    "params = {'bootstrap': False, 'criterion': 'gini', 'max_depth': 5, 'max_features': 10, 'min_samples_split': 6}\n",
    "\n",
    "model = RandomForestClassifier(**params)\n",
    "\n"
   ]
  },
  {
   "cell_type": "code",
   "execution_count": null,
   "id": "3472c0cd",
   "metadata": {},
   "outputs": [],
   "source": [
    "model.fit(new_X_train, y_train)"
   ]
  },
  {
   "cell_type": "code",
   "execution_count": null,
   "id": "8a95ffcd",
   "metadata": {},
   "outputs": [],
   "source": [
    "y_pred=model.predict(test[coef_lis])"
   ]
  },
  {
   "cell_type": "code",
   "execution_count": null,
   "id": "5065a6d6",
   "metadata": {},
   "outputs": [],
   "source": [
    "tes = label_encoder.fit_transform(test['Class_2'])"
   ]
  },
  {
   "cell_type": "code",
   "execution_count": null,
   "id": "0d5870d3",
   "metadata": {},
   "outputs": [],
   "source": [
    "accuracy_score(tes,y_pred)"
   ]
  },
  {
   "cell_type": "code",
   "execution_count": null,
   "id": "c3ac96dc",
   "metadata": {},
   "outputs": [],
   "source": []
  },
  {
   "cell_type": "code",
   "execution_count": null,
   "id": "23e68bd9",
   "metadata": {},
   "outputs": [],
   "source": [
    "import sklearn\n",
    "from sklearn.metrics import ConfusionMatrixDisplay\n",
    "from sklearn.metrics import classification_report"
   ]
  },
  {
   "cell_type": "code",
   "execution_count": null,
   "id": "de3baf01",
   "metadata": {},
   "outputs": [],
   "source": [
    "folds = 5\n",
    "param_comb = 100\n",
    "\n",
    "skf = StratifiedKFold(n_splits=folds, shuffle = True, random_state = 42)\n",
    "  \n",
    "random_search = RandomizedSearchCV(xg_model, param_distributions=param_grid, n_iter=param_comb, scoring='roc_auc', n_jobs=4, cv=skf.split(X_train,y_train), verbose=3, random_state=42 )\n",
    "\n",
    "random_search.fit(new_X_train, y_train)"
   ]
  },
  {
   "cell_type": "code",
   "execution_count": null,
   "id": "bc805bf2",
   "metadata": {},
   "outputs": [],
   "source": [
    "print(random_search.best_params_)"
   ]
  },
  {
   "cell_type": "code",
   "execution_count": null,
   "id": "3b6589bf",
   "metadata": {},
   "outputs": [],
   "source": [
    "test_data = test"
   ]
  },
  {
   "cell_type": "code",
   "execution_count": null,
   "id": "9b918fe8",
   "metadata": {},
   "outputs": [],
   "source": [
    "filename = r'C:\\Users\\ASUS\\OneDrive\\Documents\\Academics\\Summer Semester\\Dissertation\\Models\\Hit model\\XGBoostmodel_06_08.sav'\n",
    "pickle.dump(xg_model, open(filename, 'wb'))"
   ]
  },
  {
   "cell_type": "code",
   "execution_count": null,
   "id": "cfb1e0ba",
   "metadata": {},
   "outputs": [],
   "source": [
    "pickleFile = pickle.load(open(r'C:\\Users\\ASUS\\OneDrive\\Documents\\Academics\\Summer Semester\\Dissertation\\Models\\Hit model\\XGBoostmodel_06_08.sav', \"rb\"))"
   ]
  },
  {
   "cell_type": "code",
   "execution_count": null,
   "id": "5c6c12c1",
   "metadata": {},
   "outputs": [],
   "source": [
    "pd.DataFrame(pickleFile.predict(test_data[coef_lis])).to_csv(r\"C:\\Users\\ASUS\\OneDrive\\Documents\\Academics\\Summer Semester\\Dissertation\\Model_out\\Hit_Lak2_XGB.csv\")"
   ]
  },
  {
   "cell_type": "code",
   "execution_count": null,
   "id": "63c67d10",
   "metadata": {},
   "outputs": [],
   "source": [
    "y_pred = pickleFile.predict(new_X_test)"
   ]
  },
  {
   "cell_type": "code",
   "execution_count": null,
   "id": "bab192a8",
   "metadata": {},
   "outputs": [],
   "source": [
    "accuracy = accuracy_score(y_pred, y_pred)\n",
    "print(\"Accuracy:\", accuracy)"
   ]
  },
  {
   "cell_type": "markdown",
   "id": "a266be65",
   "metadata": {},
   "source": [
    "*Random Forest* "
   ]
  },
  {
   "cell_type": "code",
   "execution_count": null,
   "id": "b9a733ef",
   "metadata": {},
   "outputs": [],
   "source": [
    "clf = RandomForestClassifier() \n",
    "clf.fit(X_train, y_train) \n",
    "y_pred = clf.predict(X_test)"
   ]
  },
  {
   "cell_type": "code",
   "execution_count": null,
   "id": "f312ba2a",
   "metadata": {},
   "outputs": [],
   "source": [
    "coef_lis"
   ]
  },
  {
   "cell_type": "code",
   "execution_count": null,
   "id": "3df1f77f",
   "metadata": {
    "scrolled": true
   },
   "outputs": [],
   "source": [
    "param_dist = {\"max_depth\": [3, 5], \n",
    "    \"max_features\": randint(1, 11), \n",
    "    \"min_samples_split\": randint(2, 11), \n",
    "    \"bootstrap\": [True, False], \n",
    "    \"criterion\": [\"gini\", \"entropy\"]}"
   ]
  },
  {
   "cell_type": "code",
   "execution_count": null,
   "id": "f8120600",
   "metadata": {},
   "outputs": [],
   "source": [
    "clf = RandomForestClassifier(n_estimators=50)\n",
    "\n",
    "random_search = RandomizedSearchCV(clf, param_distributions=param_dist, n_iter=100, cv=5)\n",
    "random_search.fit(X_train, y_train)"
   ]
  },
  {
   "cell_type": "code",
   "execution_count": null,
   "id": "13abf09d",
   "metadata": {},
   "outputs": [],
   "source": [
    "random_search.fit(X_test,y_test)"
   ]
  },
  {
   "cell_type": "code",
   "execution_count": null,
   "id": "95cb0051",
   "metadata": {},
   "outputs": [],
   "source": [
    "y_test"
   ]
  },
  {
   "cell_type": "code",
   "execution_count": null,
   "id": "98974d97",
   "metadata": {},
   "outputs": [],
   "source": [
    "len(X_test)"
   ]
  },
  {
   "cell_type": "code",
   "execution_count": null,
   "id": "93ee4e57",
   "metadata": {},
   "outputs": [],
   "source": [
    "y_pred = random_search.predict(X_test)"
   ]
  },
  {
   "cell_type": "code",
   "execution_count": null,
   "id": "7d720c99",
   "metadata": {},
   "outputs": [],
   "source": [
    "print(random_search.best_params_)"
   ]
  },
  {
   "cell_type": "markdown",
   "id": "a3147296",
   "metadata": {},
   "source": [
    "*RANDOM FOREST FOR TOSS*"
   ]
  },
  {
   "cell_type": "code",
   "execution_count": 148,
   "id": "78d365f6",
   "metadata": {},
   "outputs": [],
   "source": [
    "params = {'bootstrap': True, 'criterion': 'gini', 'max_depth': 5, 'max_features': 10, 'min_samples_split': 2}\n",
    "\n",
    "model = RandomForestClassifier(**params)\n",
    "\n"
   ]
  },
  {
   "cell_type": "code",
   "execution_count": 149,
   "id": "cb148056",
   "metadata": {},
   "outputs": [
    {
     "data": {
      "text/plain": [
       "RandomForestClassifier(bootstrap=True, ccp_alpha=0.0, class_weight=None,\n",
       "                       criterion='gini', max_depth=5, max_features=10,\n",
       "                       max_leaf_nodes=None, max_samples=None,\n",
       "                       min_impurity_decrease=0.0, min_impurity_split=None,\n",
       "                       min_samples_leaf=1, min_samples_split=2,\n",
       "                       min_weight_fraction_leaf=0.0, n_estimators=100,\n",
       "                       n_jobs=None, oob_score=False, random_state=None,\n",
       "                       verbose=0, warm_start=False)"
      ]
     },
     "execution_count": 149,
     "metadata": {},
     "output_type": "execute_result"
    }
   ],
   "source": [
    "model.fit(new_X_train,y_train)"
   ]
  },
  {
   "cell_type": "code",
   "execution_count": 155,
   "id": "c5bfbd15",
   "metadata": {},
   "outputs": [],
   "source": [
    "y_pred = model.predict(test_kev[coef_lis])"
   ]
  },
  {
   "cell_type": "code",
   "execution_count": 156,
   "id": "2d12723c",
   "metadata": {},
   "outputs": [],
   "source": [
    "y_test = label_encoder.fit_transform(test_kev['Class_2'])"
   ]
  },
  {
   "cell_type": "code",
   "execution_count": 157,
   "id": "6eb50689",
   "metadata": {},
   "outputs": [
    {
     "data": {
      "text/plain": [
       "0.9949622166246851"
      ]
     },
     "execution_count": 157,
     "metadata": {},
     "output_type": "execute_result"
    }
   ],
   "source": [
    "accuracy_score(y_test,y_pred)"
   ]
  },
  {
   "cell_type": "code",
   "execution_count": 158,
   "id": "a3e4c266",
   "metadata": {},
   "outputs": [
    {
     "data": {
      "text/plain": [
       "array([[409,   0,   0],\n",
       "       [  0, 361,   0],\n",
       "       [  4,   0,  20]], dtype=int64)"
      ]
     },
     "execution_count": 158,
     "metadata": {},
     "output_type": "execute_result"
    }
   ],
   "source": [
    "confusion_matrix(y_test,y_pred)"
   ]
  },
  {
   "cell_type": "code",
   "execution_count": 159,
   "id": "6ef16977",
   "metadata": {},
   "outputs": [
    {
     "data": {
      "text/plain": [
       "'              precision    recall  f1-score   support\\n\\n           0       0.99      1.00      1.00       409\\n           1       1.00      1.00      1.00       361\\n           2       1.00      0.83      0.91        24\\n\\n    accuracy                           0.99       794\\n   macro avg       1.00      0.94      0.97       794\\nweighted avg       1.00      0.99      0.99       794\\n'"
      ]
     },
     "execution_count": 159,
     "metadata": {},
     "output_type": "execute_result"
    }
   ],
   "source": [
    "sklearn.metrics.classification_report(y_test,y_pred)"
   ]
  },
  {
   "cell_type": "markdown",
   "id": "a4df60dc",
   "metadata": {},
   "source": [
    "*XGB FOR TOSS*"
   ]
  },
  {
   "cell_type": "code",
   "execution_count": 160,
   "id": "70b3f6e3",
   "metadata": {},
   "outputs": [],
   "source": [
    "params = {'subsample': 0.7, 'silent': False, 'reg_lambda': 50.0, 'n_estimators': 100, 'min_child_weight': 5.0, 'max_depth': 6, 'learning_rate': 0.2, 'gamma': 1.0, 'colsample_bytree': 0.9, 'colsample_bylevel': 0.4}\n",
    "\n",
    "model = XGBClassifier(**params)\n",
    "\n"
   ]
  },
  {
   "cell_type": "code",
   "execution_count": 187,
   "id": "9741aef3",
   "metadata": {},
   "outputs": [
    {
     "name": "stdout",
     "output_type": "stream",
     "text": [
      "[14:45:35] WARNING: C:\\buildkite-agent\\builds\\buildkite-windows-cpu-autoscaling-group-i-0fdc6d574b9c0d168-1\\xgboost\\xgboost-ci-windows\\src\\learner.cc:767: \n",
      "Parameters: { \"silent\" } are not used.\n",
      "\n"
     ]
    },
    {
     "data": {
      "text/plain": [
       "XGBClassifier(base_score=None, booster=None, callbacks=None,\n",
       "              colsample_bylevel=0.4, colsample_bynode=None,\n",
       "              colsample_bytree=0.9, early_stopping_rounds=None,\n",
       "              enable_categorical=False, eval_metric=None, feature_types=None,\n",
       "              gamma=1.0, gpu_id=None, grow_policy=None, importance_type=None,\n",
       "              interaction_constraints=None, learning_rate=0.2, max_bin=None,\n",
       "              max_cat_threshold=None, max_cat_to_onehot=None,\n",
       "              max_delta_step=None, max_depth=6, max_leaves=None,\n",
       "              min_child_weight=5.0, missing=nan, monotone_constraints=None,\n",
       "              n_estimators=100, n_jobs=None, num_parallel_tree=None,\n",
       "              objective='multi:softprob', predictor=None, ...)"
      ]
     },
     "execution_count": 187,
     "metadata": {},
     "output_type": "execute_result"
    }
   ],
   "source": [
    "model.fit(new_X_train,y_train,eval_metric=accuracy_score)"
   ]
  },
  {
   "cell_type": "code",
   "execution_count": 189,
   "id": "d106e9e9",
   "metadata": {},
   "outputs": [
    {
     "name": "stdout",
     "output_type": "stream",
     "text": [
      "None\n"
     ]
    }
   ],
   "source": [
    "print(model.eval_metric)"
   ]
  },
  {
   "cell_type": "code",
   "execution_count": 179,
   "id": "1ff73483",
   "metadata": {},
   "outputs": [],
   "source": [
    "y_pred = model.predict(test_kev[coef_lis])"
   ]
  },
  {
   "cell_type": "code",
   "execution_count": 180,
   "id": "52a22b6f",
   "metadata": {},
   "outputs": [],
   "source": [
    "y_test = label_encoder.fit_transform(test_kev['Class_2'])"
   ]
  },
  {
   "cell_type": "code",
   "execution_count": 181,
   "id": "538fea3f",
   "metadata": {},
   "outputs": [
    {
     "data": {
      "text/plain": [
       "0.9962216624685138"
      ]
     },
     "execution_count": 181,
     "metadata": {},
     "output_type": "execute_result"
    }
   ],
   "source": [
    "accuracy_score(y_test,y_pred)"
   ]
  },
  {
   "cell_type": "code",
   "execution_count": 182,
   "id": "8b12f091",
   "metadata": {},
   "outputs": [
    {
     "data": {
      "text/plain": [
       "array([[408,   0,   1],\n",
       "       [  0, 359,   2],\n",
       "       [  0,   0,  24]], dtype=int64)"
      ]
     },
     "execution_count": 182,
     "metadata": {},
     "output_type": "execute_result"
    }
   ],
   "source": [
    "confusion_matrix(y_test,y_pred)"
   ]
  },
  {
   "cell_type": "code",
   "execution_count": 183,
   "id": "7b3c93fd",
   "metadata": {},
   "outputs": [
    {
     "data": {
      "text/plain": [
       "'              precision    recall  f1-score   support\\n\\n           0       1.00      1.00      1.00       409\\n           1       1.00      0.99      1.00       361\\n           2       0.89      1.00      0.94        24\\n\\n    accuracy                           1.00       794\\n   macro avg       0.96      1.00      0.98       794\\nweighted avg       1.00      1.00      1.00       794\\n'"
      ]
     },
     "execution_count": 183,
     "metadata": {},
     "output_type": "execute_result"
    }
   ],
   "source": [
    "sklearn.metrics.classification_report(y_test,y_pred)"
   ]
  },
  {
   "cell_type": "code",
   "execution_count": 167,
   "id": "54170ea0",
   "metadata": {},
   "outputs": [
    {
     "data": {
      "text/plain": [
       "array([0, 0, 0, ..., 2, 1, 2], dtype=int64)"
      ]
     },
     "execution_count": 167,
     "metadata": {},
     "output_type": "execute_result"
    }
   ],
   "source": [
    "y_pred"
   ]
  },
  {
   "cell_type": "code",
   "execution_count": null,
   "id": "2a593888",
   "metadata": {},
   "outputs": [],
   "source": [
    "import sklearn.metrics as metrics\n",
    "confusion_matrix = metrics.confusion_matrix(y_test, y_pred)"
   ]
  },
  {
   "cell_type": "code",
   "execution_count": null,
   "id": "3d0928ee",
   "metadata": {},
   "outputs": [],
   "source": [
    "confusion_matrix"
   ]
  },
  {
   "cell_type": "code",
   "execution_count": null,
   "id": "c77fe7fd",
   "metadata": {},
   "outputs": [],
   "source": [
    "#test_data = pd.read_csv(r\"C:\\Users\\ASUS\\OneDrive\\Documents\\Academics\\Summer Semester\\Dataset\\CSVs\\Lak1.csv\")"
   ]
  },
  {
   "cell_type": "code",
   "execution_count": null,
   "id": "05c68a6a",
   "metadata": {},
   "outputs": [],
   "source": [
    "nose_ryt_wrist = cal_ang(test_data['NOSE_X'],test_data['NOSE_Y'],test_data['RIGHT_WRIST_X'],test_data['RIGHT_WRIST_Y'])\n",
    "sho_ryt_wrist = cal_ang(test_data['RIGHT_SHOULDER_X'],test_data['RIGHT_SHOULDER_Y'],test_data['RIGHT_WRIST_X'],test_data['RIGHT_WRIST_Y'])\n",
    "nose_ryt_elb = cal_ang(test_data['NOSE_X'],test_data['NOSE_Y'],test_data['RIGHT_ELBOW_X'],test_data['RIGHT_ELBOW_Y'])\n",
    "\n",
    "sho_left_wrist = cal_ang(test_data['LEFT_SHOULDER_X'],test_data['LEFT_SHOULDER_Y'],test_data['LEFT_WRIST_X'],test_data['LEFT_WRIST_Y'])\n",
    "nose_left_wrist = cal_ang(test_data['NOSE_X'],test_data['NOSE_Y'],test_data['LEFT_WRIST_X'],test_data['LEFT_WRIST_Y'])\n",
    "nose_left_elb = cal_ang(test_data['NOSE_X'],test_data['NOSE_Y'],test_data['LEFT_ELBOW_X'],test_data['LEFT_ELBOW_Y'])\n",
    "\n",
    "\n",
    "test_data['Nose_Right_Wrist_Angle'] = nose_ryt_wrist \n",
    "test_data['Right_Sho_Wrist Angle'] = sho_ryt_wrist\n",
    "test_data['Nose_Right_Elbow'] = nose_ryt_elb\n",
    "test_data['Left_Sho_Wrist_Angle'] = sho_left_wrist\n",
    "test_data['Nose_Left_Wrist'] = nose_left_wrist\n",
    "test_data['Nose_Left_Elbow'] = nose_left_elb\n",
    "\n",
    "\n"
   ]
  },
  {
   "cell_type": "code",
   "execution_count": null,
   "id": "b8968c3c",
   "metadata": {},
   "outputs": [],
   "source": [
    "filename = r'C:\\Users\\ASUS\\OneDrive\\Documents\\Academics\\Summer Semester\\Dissertation\\Models\\Toss model\\RandRF_08_08.sav'\n",
    "pickle.dump(best_rf_model, open(filename, 'wb'))"
   ]
  },
  {
   "cell_type": "code",
   "execution_count": null,
   "id": "56c3e6b2",
   "metadata": {},
   "outputs": [],
   "source": [
    "pickleFile = pickle.load(open(r\"C:\\Users\\ASUS\\OneDrive\\Documents\\Academics\\Summer Semester\\Dissertation\\Models\\Toss model\\XGBoostMixmodel.sav\", \"rb\"))"
   ]
  },
  {
   "cell_type": "code",
   "execution_count": null,
   "id": "74d387f7",
   "metadata": {},
   "outputs": [],
   "source": [
    "pickleFile.feature_names_in_"
   ]
  },
  {
   "cell_type": "code",
   "execution_count": null,
   "id": "f6e21822",
   "metadata": {},
   "outputs": [],
   "source": [
    "y_pred = pickleFile.predict(new_X_test[pickleFile.feature_names_in_])"
   ]
  },
  {
   "cell_type": "code",
   "execution_count": null,
   "id": "519d47d4",
   "metadata": {},
   "outputs": [],
   "source": [
    "accuracy = accuracy_score(y_pred, y_pred)\n",
    "print(\"Accuracy:\", accuracy)"
   ]
  },
  {
   "cell_type": "code",
   "execution_count": null,
   "id": "e41f07e0",
   "metadata": {},
   "outputs": [],
   "source": [
    "pd.DataFrame(pickleFile.predict(test[pickleFile.feature_names_in_])).to_csv(\"gggggggggggggg.csv\")"
   ]
  },
  {
   "cell_type": "code",
   "execution_count": null,
   "id": "ebc6e5d9",
   "metadata": {},
   "outputs": [],
   "source": [
    "inp = pickleFile.feature_names_in_"
   ]
  },
  {
   "cell_type": "code",
   "execution_count": null,
   "id": "30717675",
   "metadata": {},
   "outputs": [],
   "source": [
    "test[\"Class_1\"]\n",
    "label_encoder = preprocessing.LabelEncoder()\n",
    "y_test = label_encoder.fit_transform(test[\"Class_1\"])"
   ]
  },
  {
   "cell_type": "code",
   "execution_count": null,
   "id": "33550d1a",
   "metadata": {},
   "outputs": [],
   "source": [
    "label_encoder.classes_"
   ]
  },
  {
   "cell_type": "code",
   "execution_count": null,
   "id": "c5f16ba4",
   "metadata": {},
   "outputs": [],
   "source": [
    "y_pred = pickleFile.predict(test[inp])"
   ]
  },
  {
   "cell_type": "code",
   "execution_count": null,
   "id": "8211203f",
   "metadata": {},
   "outputs": [],
   "source": [
    "pd.DataFrame(y_pred).to_csv(\"iiiiiiiioooooo.csv\")"
   ]
  },
  {
   "cell_type": "code",
   "execution_count": null,
   "id": "e8925060",
   "metadata": {},
   "outputs": [],
   "source": [
    "mse = mean_squared_error(y_test, y_pred)\n",
    "print(f\"Mean Squared Error: {mse}\")"
   ]
  },
  {
   "cell_type": "code",
   "execution_count": null,
   "id": "d6314411",
   "metadata": {},
   "outputs": [],
   "source": [
    "confusion_matrix = metrics.confusion_matrix(y_test, y_pred)"
   ]
  },
  {
   "cell_type": "code",
   "execution_count": null,
   "id": "4072c491",
   "metadata": {},
   "outputs": [],
   "source": [
    "confusion_matrix"
   ]
  },
  {
   "cell_type": "code",
   "execution_count": null,
   "id": "5374d9c4",
   "metadata": {},
   "outputs": [],
   "source": [
    "best_rf_model = random_search.best_estimator_\n",
    "print(best_rf_model)"
   ]
  },
  {
   "cell_type": "code",
   "execution_count": null,
   "id": "9438a0e7",
   "metadata": {},
   "outputs": [],
   "source": [
    "coef_lis"
   ]
  },
  {
   "cell_type": "code",
   "execution_count": null,
   "id": "f66a0da9",
   "metadata": {},
   "outputs": [],
   "source": [
    "predictions = pickleFile.predict(test[coef_lis[:-3]])"
   ]
  },
  {
   "cell_type": "code",
   "execution_count": null,
   "id": "18a2c8d4",
   "metadata": {},
   "outputs": [],
   "source": [
    "pd.DataFrame(predictions).to_csv(r\"C:\\Users\\ASUS\\OneDrive\\Documents\\Academics\\Summer Semester\\Dissertation\\Model_out\\OUTTTTTT.CSV\")"
   ]
  },
  {
   "cell_type": "code",
   "execution_count": null,
   "id": "196a953c",
   "metadata": {},
   "outputs": [],
   "source": [
    "def pred_check(arr):\n",
    "\n",
    "    for i in range(len(arr) - 1):\n",
    "        \n",
    "        if (arr[i] == 1 and arr[i-1] == 1) and (arr[i + 1] == 0 ) :\n",
    "            \n",
    "            arr[i + 1] = 2\n",
    "        \n",
    "        elif (arr[i] == 2)  and (arr[i + 1] == 1):\n",
    "            arr[i + 1] = 0\n",
    "        \n",
    "        elif (arr[i] == 0 and arr[i+1] == 1):\n",
    "            arr[i+1] = 0\n",
    "        \n",
    "    \n",
    "    return arr\n"
   ]
  },
  {
   "cell_type": "code",
   "execution_count": null,
   "id": "b456f2b4",
   "metadata": {},
   "outputs": [],
   "source": [
    "pd.DataFrame(pred_check(pickleFile.predict(test_data[coef_lis]))).to_csv(r\"C:\\Users\\ASUS\\OneDrive\\Documents\\Academics\\Summer Semester\\Dissertation\\Model_Out\\r.csv\")"
   ]
  },
  {
   "cell_type": "code",
   "execution_count": null,
   "id": "860a8958",
   "metadata": {},
   "outputs": [],
   "source": [
    "df = pd.DataFrame(columns = model_data.columns )\n",
    "file = model_data.loc[0,\"File\"]\n",
    "raw_list = []\n",
    "\n",
    "file_list = np.unique(model_data[\"File\"])\n"
   ]
  },
  {
   "cell_type": "code",
   "execution_count": null,
   "id": "bb8eb884",
   "metadata": {},
   "outputs": [],
   "source": [
    "\n",
    "def hit_toss(df):\n",
    "    for i in range(len(df)):    \n",
    "        for hit in df[\"Class_1\"] and toss in df[\"Class_2\"]:\n",
    "            if hit == \"Hit\" or toss == \"Toss\":\n",
    "                ind_list = append(i)\n",
    "    return min(ind_list),max(ind_list)  \n",
    "\n"
   ]
  },
  {
   "cell_type": "code",
   "execution_count": 28,
   "id": "53702595",
   "metadata": {},
   "outputs": [
    {
     "ename": "NameError",
     "evalue": "name 'dataframe' is not defined",
     "output_type": "error",
     "traceback": [
      "\u001b[1;31m---------------------------------------------------------------------------\u001b[0m",
      "\u001b[1;31mNameError\u001b[0m                                 Traceback (most recent call last)",
      "\u001b[1;32m<ipython-input-28-9da2ca430050>\u001b[0m in \u001b[0;36m<module>\u001b[1;34m\u001b[0m\n\u001b[1;32m----> 1\u001b[1;33m \u001b[0mdataframe\u001b[0m\u001b[1;33m\u001b[0m\u001b[1;33m\u001b[0m\u001b[0m\n\u001b[0m",
      "\u001b[1;31mNameError\u001b[0m: name 'dataframe' is not defined"
     ]
    }
   ],
   "source": [
    "dataframe"
   ]
  },
  {
   "cell_type": "code",
   "execution_count": null,
   "id": "c3b0470f",
   "metadata": {},
   "outputs": [],
   "source": [
    "index_toss = (df['event'] == 'hit').idxmax()\n",
    "last_hit_index = df.index[(df['event'] == 'hit')[::-1].idxmax()]"
   ]
  },
  {
   "cell_type": "code",
   "execution_count": null,
   "id": "394cd6eb",
   "metadata": {},
   "outputs": [],
   "source": [
    "arr1 = np.array([1,2,3])"
   ]
  },
  {
   "cell_type": "code",
   "execution_count": null,
   "id": "e6e3eab5",
   "metadata": {},
   "outputs": [],
   "source": [
    "arr1.(1)"
   ]
  },
  {
   "cell_type": "markdown",
   "id": "697c4992",
   "metadata": {},
   "source": [
    "**LSTM**"
   ]
  },
  {
   "cell_type": "markdown",
   "id": "55f14c60",
   "metadata": {},
   "source": [
    "*WORKING NEURAL NET*"
   ]
  },
  {
   "cell_type": "markdown",
   "id": "908874a5",
   "metadata": {},
   "source": [
    "X_train = dataset[79:,0:51].astype(float)\n",
    "X_test = dataset[1:79,0:51].astype(float)\n",
    "Y = dataset[1:,53]\n",
    "\n",
    "X_train = dataset[1:8921,0:51].astype(float)\n",
    "X_test = dataset[8921:,0:51].astype(float)\n",
    "Y = dataset[1:8921,53]\n",
    "#encode class values as integers\n",
    "#encoder = LabelEncoder()\n",
    "#encoder.fit(Y)\n",
    "#encoded_Y = encoder.transform(Y)\n",
    "\n",
    "\n",
    "def create_model():\n",
    "    model = Sequential()\n",
    "    model.add(Dense(100, input_shape=(51,), activation='relu'))\n",
    "    model.add(Dense(1, activation='sigmoid'))\n",
    "    model.compile(loss='binary_crossentropy', optimizer='adam', metrics=['accuracy'])\n",
    "    return model\n",
    "\n",
    "\n",
    "estimator = KerasClassifier(model=create_model, epochs=20, batch_size=5, verbose=1)\n",
    "kfold = StratifiedKFold(n_splits=5, shuffle=True)\n",
    "results = cross_val_score(estimator, X_train, Y, cv=kfold)\n",
    "print(\"Smaller: %.2f%% (%.2f%%)\" % (results.mean()*100, results.std()*100))\n",
    "\n",
    "estimator.model.predict(X_test).mean()<.5"
   ]
  },
  {
   "cell_type": "code",
   "execution_count": null,
   "id": "f61b93b1",
   "metadata": {},
   "outputs": [],
   "source": [
    "nose_ryt_wrist = cal_ang(dataframe['NOSE_X'],dataframe['NOSE_Y'],dataframe['RIGHT_WRIST_X'],dataframe['RIGHT_WRIST_Y'])\n",
    "sho_ryt_wrist = cal_ang(dataframe['RIGHT_SHOULDER_X'],dataframe['RIGHT_SHOULDER_Y'],dataframe['RIGHT_WRIST_X'],dataframe['RIGHT_WRIST_Y'])\n",
    "nose_ryt_elb = cal_ang(dataframe['NOSE_X'],dataframe['NOSE_Y'],dataframe['RIGHT_ELBOW_X'],dataframe['RIGHT_ELBOW_Y'])\n",
    "\n",
    "sho_left_wrist = cal_ang(dataframe['LEFT_SHOULDER_X'],dataframe['LEFT_SHOULDER_Y'],dataframe['LEFT_WRIST_X'],dataframe['LEFT_WRIST_Y'])\n",
    "nose_left_wrist = cal_ang(dataframe['NOSE_X'],dataframe['NOSE_Y'],dataframe['LEFT_WRIST_X'],dataframe['LEFT_WRIST_Y'])\n",
    "nose_left_elb = cal_ang(dataframe['NOSE_X'],dataframe['NOSE_Y'],dataframe['LEFT_ELBOW_X'],dataframe['LEFT_ELBOW_Y'])\n",
    "\n",
    "\n",
    "dataframe['Nose_Right_Wrist_Angle'] = nose_ryt_wrist \n",
    "dataframe['Right_Sho_Wrist Angle'] = sho_ryt_wrist\n",
    "dataframe['Nose_Right_Elbow'] = nose_ryt_elb\n",
    "dataframe['Left_Sho_Wrist_Angle'] = sho_left_wrist\n",
    "dataframe['Nose_Left_Wrist'] = nose_left_wrist\n",
    "dataframe['Nose_Left_Elbow'] = nose_left_elb\n"
   ]
  },
  {
   "cell_type": "code",
   "execution_count": null,
   "id": "e2194d26",
   "metadata": {},
   "outputs": [],
   "source": [
    "dataframe"
   ]
  },
  {
   "cell_type": "code",
   "execution_count": null,
   "id": "118b5956",
   "metadata": {},
   "outputs": [],
   "source": [
    "import pandas as pd\n",
    "import os\n",
    "\n",
    "\n",
    "dataframe = pd.DataFrame(columns=feature_columns)\n",
    "data_list = []\n",
    "\n",
    "for i in range(len(frames)):\n",
    "    file_name = frames.iloc[i][0]\n",
    "    toss_row = frames.iloc[i][1]\n",
    "    hit_row = frames.iloc[i][2]\n",
    "\n",
    "    for csv in os.listdir(data_path): \n",
    "        if file_name in csv:\n",
    "            data = pd.read_csv(data_path + \"\\\\\" + csv)\n",
    "            selected_data = data.iloc[toss_row:hit_row]\n",
    "            dataframe = dataframe.append(selected_data, ignore_index=True)\n",
    "\n",
    "            file_list = [file_name] * len(selected_data)\n",
    "            selected_data = selected_data.assign(File=file_list)\n",
    "            data_list.append(selected_data)\n",
    "\n",
    "dataframe = pd.concat(data_list)\n"
   ]
  },
  {
   "cell_type": "code",
   "execution_count": null,
   "id": "a0dd2358",
   "metadata": {},
   "outputs": [],
   "source": [
    "dataframe=pd.read_csv(r\"C:\\Users\\ASUS\\OneDrive\\Documents\\Academics\\Summer Semester\\Dissertation\\Model_out\\FinalIn.csv\")"
   ]
  },
  {
   "cell_type": "code",
   "execution_count": 3,
   "id": "6f57cfa1",
   "metadata": {},
   "outputs": [],
   "source": [
    "dataframe=pd.read_csv(r\"C:\\Users\\ASUS\\OneDrive\\Documents\\Academics\\Summer Semester\\Dissertation\\Model_out\\Neural Net In.csv\")"
   ]
  },
  {
   "cell_type": "code",
   "execution_count": 4,
   "id": "7cb92d13",
   "metadata": {},
   "outputs": [
    {
     "data": {
      "text/plain": [
       "Index(['Unnamed: 0', 'NOSE_X', 'NOSE_Y', 'NOSE_Z', 'LEFT_SHOULDER_X',\n",
       "       'LEFT_SHOULDER_Y', 'LEFT_SHOULDER_Z', 'RIGHT_SHOULDER_X',\n",
       "       'RIGHT_SHOULDER_Y', 'RIGHT_SHOULDER_Z', 'LEFT_ELBOW_X', 'LEFT_ELBOW_Y',\n",
       "       'LEFT_ELBOW_Z', 'RIGHT_ELBOW_X', 'RIGHT_ELBOW_Y', 'RIGHT_ELBOW_Z',\n",
       "       'LEFT_WRIST_X', 'LEFT_WRIST_Y', 'LEFT_WRIST_Z', 'RIGHT_WRIST_X',\n",
       "       'RIGHT_WRIST_Y', 'RIGHT_WRIST_Z', 'LEFT_HIP_X', 'LEFT_HIP_Y',\n",
       "       'LEFT_HIP_Z', 'RIGHT_HIP_X', 'RIGHT_HIP_Y', 'RIGHT_HIP_Z',\n",
       "       'LEFT_KNEE_X', 'LEFT_KNEE_Y', 'LEFT_KNEE_Z', 'RIGHT_KNEE_X',\n",
       "       'RIGHT_KNEE_Y', 'RIGHT_KNEE_Z', 'LEFT_ANKLE_X', 'LEFT_ANKLE_Y',\n",
       "       'LEFT_ANKLE_Z', 'RIGHT_ANKLE_X', 'RIGHT_ANKLE_Y', 'RIGHT_ANKLE_Z',\n",
       "       'LEFT_HEEL_X', 'LEFT_HEEL_Y', 'LEFT_HEEL_Z', 'RIGHT_HEEL_X',\n",
       "       'RIGHT_HEEL_Y', 'RIGHT_HEEL_Z', 'LEFT_FOOT_INDEX_X',\n",
       "       'LEFT_FOOT_INDEX_Y', 'LEFT_FOOT_INDEX_Z', 'RIGHT_FOOT_INDEX_X',\n",
       "       'RIGHT_FOOT_INDEX_Y', 'RIGHT_FOOT_INDEX_Z', 'File', 'Class'],\n",
       "      dtype='object')"
      ]
     },
     "execution_count": 4,
     "metadata": {},
     "output_type": "execute_result"
    }
   ],
   "source": [
    "dataframe.columns"
   ]
  },
  {
   "cell_type": "code",
   "execution_count": null,
   "id": "fdab0dec",
   "metadata": {},
   "outputs": [],
   "source": [
    "dataframe[dataframe.columns[-2]]"
   ]
  },
  {
   "cell_type": "code",
   "execution_count": 5,
   "id": "601794fa",
   "metadata": {},
   "outputs": [],
   "source": [
    "test = dataframe[:77]\n",
    "train = dataframe[77:]"
   ]
  },
  {
   "cell_type": "code",
   "execution_count": null,
   "id": "3233b820",
   "metadata": {},
   "outputs": [],
   "source": [
    "X = train[train.columns[1:-2]]\n",
    "Y = train[train.columns[-2]]\n",
    "\n",
    "\n",
    "X_train, X_test, y_train, y_test = train_test_split(X, Y, test_size=0.3)\n",
    "#encoder.fit(y_test)\n",
    "#y_test = encoder.transform(y_test)encoder = LabelEncoder()\n",
    "encoder.fit(Y)\n",
    "Y = encoder.transform(Y)\n"
   ]
  },
  {
   "cell_type": "code",
   "execution_count": null,
   "id": "59f84941",
   "metadata": {},
   "outputs": [],
   "source": [
    "X_train.columns[-8:-2]"
   ]
  },
  {
   "cell_type": "code",
   "execution_count": null,
   "id": "604965e0",
   "metadata": {},
   "outputs": [],
   "source": [
    "y_test"
   ]
  },
  {
   "cell_type": "code",
   "execution_count": null,
   "id": "4676043c",
   "metadata": {},
   "outputs": [],
   "source": [
    "from sklearn.datasets import make_classification\n",
    "from sklearn.feature_selection import SelectKBest\n",
    "from sklearn.feature_selection import f_classif\n",
    "from sklearn.feature_selection import f_regression, SelectKBest\n",
    "\n",
    "\n",
    "# Applying SelectKBest class to extract top 15 best features\n",
    "fs = SelectKBest(score_func=f_regression,k=25)\n",
    "# Applying feature selection\n",
    "fit = fs.fit(X,Y)\n",
    "\n",
    "features_score = pd.DataFrame(fit.scores_)\n",
    "features = pd.DataFrame(X.columns)\n",
    "feature_score = pd.concat([features,features_score],axis=1)\n",
    "# Assigning column names\n",
    "feature_score.columns = [\"Input_Features\",\"F_Score\"]\n",
    "feature = (feature_score.nlargest(35,columns=\"F_Score\")) \n",
    "print(feature_score.nlargest(35,columns=\"F_Score\"))"
   ]
  },
  {
   "cell_type": "code",
   "execution_count": null,
   "id": "c00aceeb",
   "metadata": {},
   "outputs": [],
   "source": [
    "feature['Input_Features']"
   ]
  },
  {
   "cell_type": "code",
   "execution_count": 41,
   "id": "725b1714",
   "metadata": {},
   "outputs": [
    {
     "data": {
      "text/html": [
       "<div>\n",
       "<style scoped>\n",
       "    .dataframe tbody tr th:only-of-type {\n",
       "        vertical-align: middle;\n",
       "    }\n",
       "\n",
       "    .dataframe tbody tr th {\n",
       "        vertical-align: top;\n",
       "    }\n",
       "\n",
       "    .dataframe thead th {\n",
       "        text-align: right;\n",
       "    }\n",
       "</style>\n",
       "<table border=\"1\" class=\"dataframe\">\n",
       "  <thead>\n",
       "    <tr style=\"text-align: right;\">\n",
       "      <th></th>\n",
       "      <th>Unnamed: 0</th>\n",
       "      <th>NOSE_X</th>\n",
       "      <th>NOSE_Y</th>\n",
       "      <th>NOSE_Z</th>\n",
       "      <th>LEFT_SHOULDER_X</th>\n",
       "      <th>LEFT_SHOULDER_Y</th>\n",
       "      <th>LEFT_SHOULDER_Z</th>\n",
       "      <th>RIGHT_SHOULDER_X</th>\n",
       "      <th>RIGHT_SHOULDER_Y</th>\n",
       "      <th>RIGHT_SHOULDER_Z</th>\n",
       "      <th>...</th>\n",
       "      <th>RIGHT_FOOT_INDEX_Y</th>\n",
       "      <th>RIGHT_FOOT_INDEX_Z</th>\n",
       "      <th>Nose_Right_Wrist_Angle</th>\n",
       "      <th>Right_Sho_Wrist Angle</th>\n",
       "      <th>Nose_Right_Elbow</th>\n",
       "      <th>Left_Sho_Wrist_Angle</th>\n",
       "      <th>Nose_Left_Wrist</th>\n",
       "      <th>Nose_Left_Elbow</th>\n",
       "      <th>Class</th>\n",
       "      <th>File</th>\n",
       "    </tr>\n",
       "  </thead>\n",
       "  <tbody>\n",
       "    <tr>\n",
       "      <th>0</th>\n",
       "      <td>0</td>\n",
       "      <td>0.408953</td>\n",
       "      <td>0.406010</td>\n",
       "      <td>-0.193860</td>\n",
       "      <td>0.452978</td>\n",
       "      <td>0.466087</td>\n",
       "      <td>0.142626</td>\n",
       "      <td>0.319765</td>\n",
       "      <td>0.478428</td>\n",
       "      <td>-0.248102</td>\n",
       "      <td>...</td>\n",
       "      <td>0.886194</td>\n",
       "      <td>-0.312863</td>\n",
       "      <td>1.604131</td>\n",
       "      <td>0.883397</td>\n",
       "      <td>2.189470</td>\n",
       "      <td>-0.040370</td>\n",
       "      <td>0.236590</td>\n",
       "      <td>0.635143</td>\n",
       "      <td>Amatuer</td>\n",
       "      <td>Lak2</td>\n",
       "    </tr>\n",
       "    <tr>\n",
       "      <th>1</th>\n",
       "      <td>1</td>\n",
       "      <td>0.409060</td>\n",
       "      <td>0.405879</td>\n",
       "      <td>-0.185184</td>\n",
       "      <td>0.454087</td>\n",
       "      <td>0.466273</td>\n",
       "      <td>0.146653</td>\n",
       "      <td>0.320003</td>\n",
       "      <td>0.478188</td>\n",
       "      <td>-0.242421</td>\n",
       "      <td>...</td>\n",
       "      <td>0.886290</td>\n",
       "      <td>-0.320928</td>\n",
       "      <td>1.602356</td>\n",
       "      <td>0.882482</td>\n",
       "      <td>2.185320</td>\n",
       "      <td>-0.044552</td>\n",
       "      <td>0.235473</td>\n",
       "      <td>0.626799</td>\n",
       "      <td>Amatuer</td>\n",
       "      <td>Lak2</td>\n",
       "    </tr>\n",
       "    <tr>\n",
       "      <th>2</th>\n",
       "      <td>2</td>\n",
       "      <td>0.409159</td>\n",
       "      <td>0.405786</td>\n",
       "      <td>-0.181807</td>\n",
       "      <td>0.454667</td>\n",
       "      <td>0.466409</td>\n",
       "      <td>0.149583</td>\n",
       "      <td>0.320213</td>\n",
       "      <td>0.477983</td>\n",
       "      <td>-0.241469</td>\n",
       "      <td>...</td>\n",
       "      <td>0.886374</td>\n",
       "      <td>-0.321681</td>\n",
       "      <td>1.598253</td>\n",
       "      <td>0.880111</td>\n",
       "      <td>2.182628</td>\n",
       "      <td>-0.045953</td>\n",
       "      <td>0.235876</td>\n",
       "      <td>0.625097</td>\n",
       "      <td>Amatuer</td>\n",
       "      <td>Lak2</td>\n",
       "    </tr>\n",
       "    <tr>\n",
       "      <th>3</th>\n",
       "      <td>3</td>\n",
       "      <td>0.409148</td>\n",
       "      <td>0.405656</td>\n",
       "      <td>-0.185879</td>\n",
       "      <td>0.454811</td>\n",
       "      <td>0.466484</td>\n",
       "      <td>0.148214</td>\n",
       "      <td>0.320237</td>\n",
       "      <td>0.477775</td>\n",
       "      <td>-0.247761</td>\n",
       "      <td>...</td>\n",
       "      <td>0.886491</td>\n",
       "      <td>-0.303970</td>\n",
       "      <td>1.533943</td>\n",
       "      <td>0.788191</td>\n",
       "      <td>2.155360</td>\n",
       "      <td>-0.201692</td>\n",
       "      <td>0.115514</td>\n",
       "      <td>0.519436</td>\n",
       "      <td>Amatuer</td>\n",
       "      <td>Lak2</td>\n",
       "    </tr>\n",
       "    <tr>\n",
       "      <th>4</th>\n",
       "      <td>4</td>\n",
       "      <td>0.408959</td>\n",
       "      <td>0.405476</td>\n",
       "      <td>-0.191026</td>\n",
       "      <td>0.454987</td>\n",
       "      <td>0.466572</td>\n",
       "      <td>0.149033</td>\n",
       "      <td>0.320400</td>\n",
       "      <td>0.477650</td>\n",
       "      <td>-0.252586</td>\n",
       "      <td>...</td>\n",
       "      <td>0.886573</td>\n",
       "      <td>-0.296560</td>\n",
       "      <td>1.516345</td>\n",
       "      <td>0.766419</td>\n",
       "      <td>2.147701</td>\n",
       "      <td>-0.216116</td>\n",
       "      <td>0.105076</td>\n",
       "      <td>0.497979</td>\n",
       "      <td>Amatuer</td>\n",
       "      <td>Lak2</td>\n",
       "    </tr>\n",
       "    <tr>\n",
       "      <th>...</th>\n",
       "      <td>...</td>\n",
       "      <td>...</td>\n",
       "      <td>...</td>\n",
       "      <td>...</td>\n",
       "      <td>...</td>\n",
       "      <td>...</td>\n",
       "      <td>...</td>\n",
       "      <td>...</td>\n",
       "      <td>...</td>\n",
       "      <td>...</td>\n",
       "      <td>...</td>\n",
       "      <td>...</td>\n",
       "      <td>...</td>\n",
       "      <td>...</td>\n",
       "      <td>...</td>\n",
       "      <td>...</td>\n",
       "      <td>...</td>\n",
       "      <td>...</td>\n",
       "      <td>...</td>\n",
       "      <td>...</td>\n",
       "      <td>...</td>\n",
       "    </tr>\n",
       "    <tr>\n",
       "      <th>11095</th>\n",
       "      <td>11095</td>\n",
       "      <td>402.174003</td>\n",
       "      <td>878.889008</td>\n",
       "      <td>66.439063</td>\n",
       "      <td>406.868019</td>\n",
       "      <td>820.722809</td>\n",
       "      <td>247.666683</td>\n",
       "      <td>389.035106</td>\n",
       "      <td>850.566330</td>\n",
       "      <td>-45.572496</td>\n",
       "      <td>...</td>\n",
       "      <td>517.231674</td>\n",
       "      <td>-112.926107</td>\n",
       "      <td>0.786491</td>\n",
       "      <td>0.870940</td>\n",
       "      <td>0.326737</td>\n",
       "      <td>-0.295615</td>\n",
       "      <td>-1.008039</td>\n",
       "      <td>-1.275435</td>\n",
       "      <td>Amatuer</td>\n",
       "      <td>kev 6 slow</td>\n",
       "    </tr>\n",
       "    <tr>\n",
       "      <th>11096</th>\n",
       "      <td>11096</td>\n",
       "      <td>402.600195</td>\n",
       "      <td>878.836823</td>\n",
       "      <td>95.634913</td>\n",
       "      <td>406.829352</td>\n",
       "      <td>820.359955</td>\n",
       "      <td>271.712515</td>\n",
       "      <td>391.007345</td>\n",
       "      <td>852.615204</td>\n",
       "      <td>-22.517129</td>\n",
       "      <td>...</td>\n",
       "      <td>517.208977</td>\n",
       "      <td>-126.851331</td>\n",
       "      <td>0.756680</td>\n",
       "      <td>0.844756</td>\n",
       "      <td>0.313603</td>\n",
       "      <td>-0.353100</td>\n",
       "      <td>-1.038456</td>\n",
       "      <td>-1.296371</td>\n",
       "      <td>Amatuer</td>\n",
       "      <td>kev 6 slow</td>\n",
       "    </tr>\n",
       "    <tr>\n",
       "      <th>11097</th>\n",
       "      <td>11097</td>\n",
       "      <td>404.788899</td>\n",
       "      <td>878.508987</td>\n",
       "      <td>114.503642</td>\n",
       "      <td>406.281087</td>\n",
       "      <td>819.199829</td>\n",
       "      <td>278.781123</td>\n",
       "      <td>393.105326</td>\n",
       "      <td>852.673874</td>\n",
       "      <td>-16.683931</td>\n",
       "      <td>...</td>\n",
       "      <td>517.145081</td>\n",
       "      <td>-151.908935</td>\n",
       "      <td>0.730428</td>\n",
       "      <td>0.819375</td>\n",
       "      <td>0.325133</td>\n",
       "      <td>-0.432957</td>\n",
       "      <td>-1.095826</td>\n",
       "      <td>-1.351684</td>\n",
       "      <td>Amatuer</td>\n",
       "      <td>kev 6 slow</td>\n",
       "    </tr>\n",
       "    <tr>\n",
       "      <th>11098</th>\n",
       "      <td>11098</td>\n",
       "      <td>406.817594</td>\n",
       "      <td>878.413696</td>\n",
       "      <td>124.298651</td>\n",
       "      <td>404.629941</td>\n",
       "      <td>819.048004</td>\n",
       "      <td>294.026542</td>\n",
       "      <td>395.253174</td>\n",
       "      <td>852.364578</td>\n",
       "      <td>-12.151108</td>\n",
       "      <td>...</td>\n",
       "      <td>516.898880</td>\n",
       "      <td>-184.347775</td>\n",
       "      <td>0.697482</td>\n",
       "      <td>0.793824</td>\n",
       "      <td>0.325730</td>\n",
       "      <td>-0.491387</td>\n",
       "      <td>-1.150620</td>\n",
       "      <td>-1.403587</td>\n",
       "      <td>Amatuer</td>\n",
       "      <td>kev 6 slow</td>\n",
       "    </tr>\n",
       "    <tr>\n",
       "      <th>11099</th>\n",
       "      <td>11099</td>\n",
       "      <td>407.765679</td>\n",
       "      <td>877.380600</td>\n",
       "      <td>137.006485</td>\n",
       "      <td>403.150198</td>\n",
       "      <td>819.076386</td>\n",
       "      <td>303.676336</td>\n",
       "      <td>397.106023</td>\n",
       "      <td>852.941971</td>\n",
       "      <td>-4.565009</td>\n",
       "      <td>...</td>\n",
       "      <td>517.020454</td>\n",
       "      <td>-192.708006</td>\n",
       "      <td>0.667869</td>\n",
       "      <td>0.764500</td>\n",
       "      <td>0.335382</td>\n",
       "      <td>-0.481588</td>\n",
       "      <td>-1.157861</td>\n",
       "      <td>-1.422201</td>\n",
       "      <td>Amatuer</td>\n",
       "      <td>kev 6 slow</td>\n",
       "    </tr>\n",
       "  </tbody>\n",
       "</table>\n",
       "<p>11100 rows × 60 columns</p>\n",
       "</div>"
      ],
      "text/plain": [
       "       Unnamed: 0      NOSE_X      NOSE_Y      NOSE_Z  LEFT_SHOULDER_X  \\\n",
       "0               0    0.408953    0.406010   -0.193860         0.452978   \n",
       "1               1    0.409060    0.405879   -0.185184         0.454087   \n",
       "2               2    0.409159    0.405786   -0.181807         0.454667   \n",
       "3               3    0.409148    0.405656   -0.185879         0.454811   \n",
       "4               4    0.408959    0.405476   -0.191026         0.454987   \n",
       "...           ...         ...         ...         ...              ...   \n",
       "11095       11095  402.174003  878.889008   66.439063       406.868019   \n",
       "11096       11096  402.600195  878.836823   95.634913       406.829352   \n",
       "11097       11097  404.788899  878.508987  114.503642       406.281087   \n",
       "11098       11098  406.817594  878.413696  124.298651       404.629941   \n",
       "11099       11099  407.765679  877.380600  137.006485       403.150198   \n",
       "\n",
       "       LEFT_SHOULDER_Y  LEFT_SHOULDER_Z  RIGHT_SHOULDER_X  RIGHT_SHOULDER_Y  \\\n",
       "0             0.466087         0.142626          0.319765          0.478428   \n",
       "1             0.466273         0.146653          0.320003          0.478188   \n",
       "2             0.466409         0.149583          0.320213          0.477983   \n",
       "3             0.466484         0.148214          0.320237          0.477775   \n",
       "4             0.466572         0.149033          0.320400          0.477650   \n",
       "...                ...              ...               ...               ...   \n",
       "11095       820.722809       247.666683        389.035106        850.566330   \n",
       "11096       820.359955       271.712515        391.007345        852.615204   \n",
       "11097       819.199829       278.781123        393.105326        852.673874   \n",
       "11098       819.048004       294.026542        395.253174        852.364578   \n",
       "11099       819.076386       303.676336        397.106023        852.941971   \n",
       "\n",
       "       RIGHT_SHOULDER_Z  ...  RIGHT_FOOT_INDEX_Y  RIGHT_FOOT_INDEX_Z  \\\n",
       "0             -0.248102  ...            0.886194           -0.312863   \n",
       "1             -0.242421  ...            0.886290           -0.320928   \n",
       "2             -0.241469  ...            0.886374           -0.321681   \n",
       "3             -0.247761  ...            0.886491           -0.303970   \n",
       "4             -0.252586  ...            0.886573           -0.296560   \n",
       "...                 ...  ...                 ...                 ...   \n",
       "11095        -45.572496  ...          517.231674         -112.926107   \n",
       "11096        -22.517129  ...          517.208977         -126.851331   \n",
       "11097        -16.683931  ...          517.145081         -151.908935   \n",
       "11098        -12.151108  ...          516.898880         -184.347775   \n",
       "11099         -4.565009  ...          517.020454         -192.708006   \n",
       "\n",
       "       Nose_Right_Wrist_Angle  Right_Sho_Wrist Angle  Nose_Right_Elbow  \\\n",
       "0                    1.604131               0.883397          2.189470   \n",
       "1                    1.602356               0.882482          2.185320   \n",
       "2                    1.598253               0.880111          2.182628   \n",
       "3                    1.533943               0.788191          2.155360   \n",
       "4                    1.516345               0.766419          2.147701   \n",
       "...                       ...                    ...               ...   \n",
       "11095                0.786491               0.870940          0.326737   \n",
       "11096                0.756680               0.844756          0.313603   \n",
       "11097                0.730428               0.819375          0.325133   \n",
       "11098                0.697482               0.793824          0.325730   \n",
       "11099                0.667869               0.764500          0.335382   \n",
       "\n",
       "       Left_Sho_Wrist_Angle  Nose_Left_Wrist  Nose_Left_Elbow    Class  \\\n",
       "0                 -0.040370         0.236590         0.635143  Amatuer   \n",
       "1                 -0.044552         0.235473         0.626799  Amatuer   \n",
       "2                 -0.045953         0.235876         0.625097  Amatuer   \n",
       "3                 -0.201692         0.115514         0.519436  Amatuer   \n",
       "4                 -0.216116         0.105076         0.497979  Amatuer   \n",
       "...                     ...              ...              ...      ...   \n",
       "11095             -0.295615        -1.008039        -1.275435  Amatuer   \n",
       "11096             -0.353100        -1.038456        -1.296371  Amatuer   \n",
       "11097             -0.432957        -1.095826        -1.351684  Amatuer   \n",
       "11098             -0.491387        -1.150620        -1.403587  Amatuer   \n",
       "11099             -0.481588        -1.157861        -1.422201  Amatuer   \n",
       "\n",
       "             File  \n",
       "0            Lak2  \n",
       "1            Lak2  \n",
       "2            Lak2  \n",
       "3            Lak2  \n",
       "4            Lak2  \n",
       "...           ...  \n",
       "11095  kev 6 slow  \n",
       "11096  kev 6 slow  \n",
       "11097  kev 6 slow  \n",
       "11098  kev 6 slow  \n",
       "11099  kev 6 slow  \n",
       "\n",
       "[11100 rows x 60 columns]"
      ]
     },
     "execution_count": 41,
     "metadata": {},
     "output_type": "execute_result"
    }
   ],
   "source": [
    "dataframe"
   ]
  },
  {
   "cell_type": "code",
   "execution_count": 6,
   "id": "99ef0639",
   "metadata": {},
   "outputs": [],
   "source": [
    "X = dataframe[dataframe.columns[-8:-2]][77:10867]\n",
    "Y = dataframe[dataframe.columns[-2]][77:10867]\n",
    "\n",
    "encoder = LabelEncoder()\n",
    "encoder.fit(Y)\n",
    "Y = encoder.transform(Y)\n",
    "\n",
    "\n",
    "X_train, X_test, Y_train, y_test = train_test_split(X, Y, test_size=0.3)\n"
   ]
  },
  {
   "cell_type": "code",
   "execution_count": 23,
   "id": "999b6d78",
   "metadata": {},
   "outputs": [
    {
     "data": {
      "text/plain": [
       "7553"
      ]
     },
     "execution_count": 23,
     "metadata": {},
     "output_type": "execute_result"
    }
   ],
   "source": [
    "len(Y_train)"
   ]
  },
  {
   "cell_type": "code",
   "execution_count": 7,
   "id": "aa82a9d9",
   "metadata": {},
   "outputs": [],
   "source": [
    "X_test_am = dataframe[dataframe.columns[-8:-2]][:77]\n",
    "Y_test_am = dataframe[dataframe.columns[-2]][:77]\n",
    "\n",
    "encoder = LabelEncoder()\n",
    "encoder.fit(Y_test_am)\n",
    "Y_test_am = encoder.transform(Y_test_am)\n",
    "\n",
    "\n",
    "X_test_pro = dataframe[dataframe.columns[-8:-2]][10867:]\n",
    "Y_test_pro = dataframe[dataframe.columns[-2]][10867:]\n",
    "\n",
    "encoder = LabelEncoder()\n",
    "encoder.fit(Y_test_pro)\n",
    "Y_test_pro = encoder.transform(Y_test_pro)\n",
    "\n"
   ]
  },
  {
   "cell_type": "code",
   "execution_count": 8,
   "id": "9eba0250",
   "metadata": {},
   "outputs": [
    {
     "data": {
      "text/plain": [
       "7770"
      ]
     },
     "execution_count": 8,
     "metadata": {},
     "output_type": "execute_result"
    }
   ],
   "source": [
    "len(X_train)"
   ]
  },
  {
   "cell_type": "code",
   "execution_count": 16,
   "id": "77d9ec9f",
   "metadata": {},
   "outputs": [],
   "source": [
    "import numpy as np\n",
    "from keras.models import Sequential\n",
    "from keras.layers import LSTM, Dense\n",
    "from keras.models import load_model\n",
    "from sklearn.model_selection import cross_val_score\n",
    "\n",
    "model = Sequential()\n",
    "model.add(LSTM(100, activation='sigmoid', input_shape= (6,1)))\n",
    "model.add(Dense(1, activation='sigmoid'))\n",
    "model.compile(optimizer='adam', loss='binary_crossentropy', metrics=['accuracy'])"
   ]
  },
  {
   "cell_type": "code",
   "execution_count": null,
   "id": "c53ca1a4",
   "metadata": {},
   "outputs": [],
   "source": [
    "history= model.fit(X_train,Y_train, batch_size=5, epochs=20,validation_data=(X_test,y_test))"
   ]
  },
  {
   "cell_type": "code",
   "execution_count": 21,
   "id": "1b7371c5",
   "metadata": {},
   "outputs": [],
   "source": [
    "lstm_model= load_model(r\"C:\\Users\\ASUS\\OneDrive\\Documents\\Academics\\Summer Semester\\Dissertation\\Models\\LSTM\\\\\")"
   ]
  },
  {
   "cell_type": "code",
   "execution_count": 80,
   "id": "264f291f",
   "metadata": {},
   "outputs": [],
   "source": [
    "y_predict = np.round(lstm_model.predict(X_test_am))"
   ]
  },
  {
   "cell_type": "code",
   "execution_count": 28,
   "id": "3e308414",
   "metadata": {},
   "outputs": [
    {
     "name": "stdout",
     "output_type": "stream",
     "text": [
      "Model: \"sequential_2\"\n",
      "_________________________________________________________________\n",
      " Layer (type)                Output Shape              Param #   \n",
      "=================================================================\n",
      " lstm_2 (LSTM)               (None, 100)               40800     \n",
      "                                                                 \n",
      " dense_2 (Dense)             (None, 1)                 101       \n",
      "                                                                 \n",
      "=================================================================\n",
      "Total params: 40,901\n",
      "Trainable params: 40,901\n",
      "Non-trainable params: 0\n",
      "_________________________________________________________________\n"
     ]
    }
   ],
   "source": [
    "lstm_model.summary()"
   ]
  },
  {
   "cell_type": "code",
   "execution_count": 74,
   "id": "61f880ab",
   "metadata": {},
   "outputs": [],
   "source": [
    "y_pred = np.round(lstm_model.predict(X_test_am))"
   ]
  },
  {
   "cell_type": "code",
   "execution_count": 66,
   "id": "9b88c9fa",
   "metadata": {},
   "outputs": [
    {
     "data": {
      "text/plain": [
       "0.981155390793945"
      ]
     },
     "execution_count": 66,
     "metadata": {},
     "output_type": "execute_result"
    }
   ],
   "source": [
    "accuracy_score(y_test,pred)"
   ]
  },
  {
   "cell_type": "code",
   "execution_count": 51,
   "id": "dc76571b",
   "metadata": {},
   "outputs": [
    {
     "data": {
      "text/plain": [
       "array([[231,   2],\n",
       "       [  0,   0]], dtype=int64)"
      ]
     },
     "execution_count": 51,
     "metadata": {},
     "output_type": "execute_result"
    }
   ],
   "source": [
    "confusion_matrix(Y_test_pro,pr)"
   ]
  },
  {
   "cell_type": "code",
   "execution_count": 52,
   "id": "93f7e0f0",
   "metadata": {},
   "outputs": [
    {
     "name": "stderr",
     "output_type": "stream",
     "text": [
      "C:\\Users\\ASUS\\anaconda3\\lib\\site-packages\\sklearn\\metrics\\_classification.py:1272: UndefinedMetricWarning: Recall and F-score are ill-defined and being set to 0.0 in labels with no true samples. Use `zero_division` parameter to control this behavior.\n",
      "  _warn_prf(average, modifier, msg_start, len(result))\n"
     ]
    },
    {
     "data": {
      "text/plain": [
       "'              precision    recall  f1-score   support\\n\\n         0.0       1.00      0.99      1.00       233\\n         1.0       0.00      0.00      0.00         0\\n\\n    accuracy                           0.99       233\\n   macro avg       0.50      0.50      0.50       233\\nweighted avg       1.00      0.99      1.00       233\\n'"
      ]
     },
     "execution_count": 52,
     "metadata": {},
     "output_type": "execute_result"
    }
   ],
   "source": [
    "sklearn.metrics.classification_report(Y_test_pro,pr)"
   ]
  },
  {
   "cell_type": "code",
   "execution_count": 67,
   "id": "524c7517",
   "metadata": {},
   "outputs": [
    {
     "data": {
      "image/png": "[encoded data removed]",
      "text/plain": [
       "<Figure size 432x288 with 1 Axes>"
      ]
     },
     "metadata": {
      "needs_background": "light"
     },
     "output_type": "display_data"
    }
   ],
   "source": [
    "from sklearn.metrics import roc_curve, roc_auc_score\n",
    "import matplotlib.pyplot as plt\n",
    "\n",
    "y_pred_proba = lstm_model.predict(X_test)\n",
    "y_pred_proba = y_pred_proba[:, 0]  \n",
    "\n",
    "fpr, tpr, _ = roc_curve(y_test, y_pred_proba)\n",
    "\n",
    "auc = roc_auc_score(y_test, y_pred_proba)\n",
    "\n",
    "plt.plot(fpr, tpr, label=f'AUC = {auc:.2f}')\n",
    "plt.xlabel('False Positive Rate')\n",
    "plt.ylabel('True Positive Rate')\n",
    "plt.title('ROC Curve')\n",
    "plt.legend()\n",
    "plt.show()\n"
   ]
  },
  {
   "cell_type": "code",
   "execution_count": 99,
   "id": "665f27a0",
   "metadata": {},
   "outputs": [
    {
     "name": "stdout",
     "output_type": "stream",
     "text": [
      "The actions such as hitting the ball and getting prepared for hitting the ball is Amatuer but tossing the ball is more like a Professional !!!\n"
     ]
    }
   ],
   "source": [
    "def message(out):\n",
    "    size = out\n",
    "    toss = out[:15]\n",
    "    mid = out[15:-15]\n",
    "    hit = out[-15:]\n",
    "    hit_am = np.count_nonzero(hit == 1)\n",
    "    toss_am = np.count_nonzero(toss == 1)\n",
    "    mid_am = np.count_nonzero(mid == 1)\n",
    "    \n",
    "    #print(\"---------------------\",hit_am,toss_am,mid_am)\n",
    "    flag_hit = 0\n",
    "    flag_mid = 0\n",
    "    flag_toss = 0\n",
    "    \n",
    "    \n",
    "    if hit_am > np.round(len(hit)/5):\n",
    "        flag_hit = 1    \n",
    "    if toss_am > np.round(len(toss)/5):  \n",
    "        flag_toss = 1\n",
    "    if mid_am > np.round(len(mid)/5):\n",
    "        flag_mid = 1\n",
    "    \n",
    "    return flag_hit,flag_toss,flag_mid\n",
    "\n",
    "\n",
    "hit,toss,mid = message(y_predict)\n",
    "#print(hit,toss,mid)\n",
    "\n",
    "if hit and toss and mid == 0:\n",
    "    print(\"All the three actions such as Tossing the ball and getting prepared for hitting the ball and Hitting the ball is Amatuer!!!\")\n",
    "elif hit and mid == 0:\n",
    "    print(\"The actions such as hitting the ball and getting prepared for hitting the ball is Amatuer but tossing the ball is more like a Professional !!!\")\n",
    "elif hit and toss == 0:\n",
    "    print(\"The actions such as Tossing the ball and Hitting the ball is Amatuer but getting prepared for hitting the ball is more like a professional\")\n",
    "elif toss and mid == 0:\n",
    "    print(\"The actions such as Tossing the ball and getting prepared for hitting the ball is Amatuer but Hitting the ball is more like a Professional !!!\")\n",
    "\n",
    "elif hit == 0:\n",
    "    print(\"You are a good player but please improve your hit to be a professional player\")\n",
    "elif toss == 0:\n",
    "    print(\"You are a good player but please improve your ball toss to be a professional player\")\n",
    "elif mid == 0:\n",
    "    print(\"You are a good player but please improve your preperation to hit the ball to be a professional player\")\n",
    "    \n",
    "    \n",
    "else:\n",
    "    print(\"You are a professional!!!!\")\n"
   ]
  },
  {
   "cell_type": "code",
   "execution_count": 97,
   "id": "77b3773f",
   "metadata": {},
   "outputs": [
    {
     "data": {
      "text/plain": [
       "19.0"
      ]
     },
     "execution_count": 97,
     "metadata": {},
     "output_type": "execute_result"
    }
   ],
   "source": [
    "size = 56\n",
    "\n",
    "np.round(56/3)"
   ]
  },
  {
   "cell_type": "code",
   "execution_count": 43,
   "id": "ef0d703d",
   "metadata": {},
   "outputs": [],
   "source": [
    "from keras.models import load_model\n",
    "import sklearn"
   ]
  },
  {
   "cell_type": "code",
   "execution_count": 72,
   "id": "c6800a99",
   "metadata": {},
   "outputs": [],
   "source": [
    "y_predict = np.round(y_pred)"
   ]
  },
  {
   "cell_type": "code",
   "execution_count": 76,
   "id": "fcfcfa8c",
   "metadata": {},
   "outputs": [
    {
     "data": {
      "text/plain": [
       "10835         Amatuer\n",
       "9373          Amatuer\n",
       "9228          Amatuer\n",
       "9159          Amatuer\n",
       "3758     Professional\n",
       "             ...     \n",
       "5344     Professional\n",
       "3076     Professional\n",
       "508      Professional\n",
       "2224     Professional\n",
       "4969     Professional\n",
       "Name: Class, Length: 3330, dtype: object"
      ]
     },
     "execution_count": 76,
     "metadata": {},
     "output_type": "execute_result"
    }
   ],
   "source": [
    "y_test"
   ]
  },
  {
   "cell_type": "code",
   "execution_count": 77,
   "id": "39d534c2",
   "metadata": {},
   "outputs": [
    {
     "data": {
      "text/plain": [
       "0.9882882882882883"
      ]
     },
     "execution_count": 77,
     "metadata": {},
     "output_type": "execute_result"
    }
   ],
   "source": [
    "accuracy_score(y_t,y_predict)"
   ]
  },
  {
   "cell_type": "code",
   "execution_count": 60,
   "id": "875e6ebb",
   "metadata": {},
   "outputs": [],
   "source": [
    "y_pred = model.predict(X_test)"
   ]
  },
  {
   "cell_type": "code",
   "execution_count": 63,
   "id": "a3d9b69c",
   "metadata": {},
   "outputs": [
    {
     "data": {
      "text/plain": [
       "0.7914564"
      ]
     },
     "execution_count": 63,
     "metadata": {},
     "output_type": "execute_result"
    }
   ],
   "source": [
    "y_pred.mean()"
   ]
  },
  {
   "cell_type": "code",
   "execution_count": 84,
   "id": "5b556360",
   "metadata": {},
   "outputs": [
    {
     "name": "stdout",
     "output_type": "stream",
     "text": [
      "[0.38392534852027893, 0.2032294124364853, 0.15533117949962616, 0.13864034414291382, 0.12821413576602936, 0.11253467947244644, 0.10276062786579132, 0.0986751914024353, 0.0848362147808075, 0.08060307800769806, 0.07734844833612442, 0.07308509945869446, 0.07084664702415466, 0.058937814086675644, 0.05536587908864021, 0.05907799303531647, 0.05101386830210686, 0.0462377667427063, 0.045396242290735245, 0.04094814136624336]\n",
      "[0.8545688390731812, 0.9115830063819885, 0.9364221096038818, 0.937966525554657, 0.9468468427658081, 0.9523809552192688, 0.9548262357711792, 0.9580437541007996, 0.9647361636161804, 0.9674388766288757, 0.9666666388511658, 0.9685971736907959, 0.9697554707527161, 0.977091372013092, 0.9782496690750122, 0.9752895832061768, 0.9803088903427124, 0.9819819927215576, 0.9812097549438477, 0.9835264086723328]\n",
      "[0.2932441830635071, 0.17020009458065033, 0.13703708350658417, 0.1328325718641281, 0.1084190309047699, 0.14677466452121735, 0.08772531896829605, 0.08300451934337616, 0.07126156240701675, 0.06870166957378387, 0.06614958494901657, 0.0782218873500824, 0.055457569658756256, 0.05416206270456314, 0.07830953598022461, 0.04104291647672653, 0.05248713493347168, 0.03522983193397522, 0.03288822993636131, 0.04250871390104294]\n",
      "[0.8663663864135742, 0.9234234094619751, 0.9486486315727234, 0.9402402639389038, 0.9537537693977356, 0.9225225448608398, 0.9663663506507874, 0.963663637638092, 0.9684684872627258, 0.9705705642700195, 0.9741742014884949, 0.9609609842300415, 0.9795795679092407, 0.9828828573226929, 0.9690690636634827, 0.9819819927215576, 0.9819819927215576, 0.9867867827415466, 0.9867867827415466, 0.9807807803153992]\n"
     ]
    }
   ],
   "source": [
    "print(history.history['loss'])\n",
    "print(history.history['accuracy'])\n",
    "print(history.history['val_loss'])\n",
    "print(history.history['val_accuracy'])"
   ]
  },
  {
   "cell_type": "code",
   "execution_count": 85,
   "id": "164fa5b4",
   "metadata": {},
   "outputs": [
    {
     "data": {
      "image/png": "[encoded data removed]",
      "text/plain": [
       "<Figure size 432x288 with 1 Axes>"
      ]
     },
     "metadata": {
      "needs_background": "light"
     },
     "output_type": "display_data"
    }
   ],
   "source": [
    "from matplotlib import pyplot\n",
    "\n",
    "pyplot.plot(history.history['loss'])\n",
    "pyplot.plot(history.history['val_loss'])\n",
    "pyplot.title('model train vs validation loss')\n",
    "pyplot.ylabel('loss')\n",
    "pyplot.xlabel('epoch')\n",
    "pyplot.legend(['train', 'validation'], loc='upper right')\n",
    "pyplot.show()"
   ]
  },
  {
   "cell_type": "code",
   "execution_count": 66,
   "id": "21e8d8a9",
   "metadata": {},
   "outputs": [],
   "source": [
    "y_test\n",
    "encoder = LabelEncoder()\n",
    "encoder.fit(y_test)\n",
    "y_t = encoder.transform(y_test)"
   ]
  },
  {
   "cell_type": "code",
   "execution_count": null,
   "id": "1da07edc",
   "metadata": {},
   "outputs": [],
   "source": [
    "test.columns[-8:-2]"
   ]
  },
  {
   "cell_type": "code",
   "execution_count": null,
   "id": "d86e92c5",
   "metadata": {},
   "outputs": [],
   "source": [
    "x_pred = test[test.columns[-8:-2]]\n",
    "y_totest = test[test.columns[-2]]"
   ]
  },
  {
   "cell_type": "code",
   "execution_count": 86,
   "id": "e3dae8e5",
   "metadata": {},
   "outputs": [
    {
     "ename": "ValueError",
     "evalue": "Classification metrics can't handle a mix of binary and continuous targets",
     "output_type": "error",
     "traceback": [
      "\u001b[1;31m---------------------------------------------------------------------------\u001b[0m",
      "\u001b[1;31mValueError\u001b[0m                                Traceback (most recent call last)",
      "\u001b[1;32m<ipython-input-86-92f3c5870ac5>\u001b[0m in \u001b[0;36m<module>\u001b[1;34m\u001b[0m\n\u001b[1;32m----> 1\u001b[1;33m \u001b[0maccuracy_score\u001b[0m\u001b[1;33m(\u001b[0m\u001b[0my_t\u001b[0m\u001b[1;33m,\u001b[0m\u001b[0my_pred\u001b[0m\u001b[1;33m)\u001b[0m\u001b[1;33m\u001b[0m\u001b[1;33m\u001b[0m\u001b[0m\n\u001b[0m",
      "\u001b[1;32m~\\anaconda3\\lib\\site-packages\\sklearn\\metrics\\_classification.py\u001b[0m in \u001b[0;36maccuracy_score\u001b[1;34m(y_true, y_pred, normalize, sample_weight)\u001b[0m\n\u001b[0;32m    183\u001b[0m \u001b[1;33m\u001b[0m\u001b[0m\n\u001b[0;32m    184\u001b[0m     \u001b[1;31m# Compute accuracy for each possible representation\u001b[0m\u001b[1;33m\u001b[0m\u001b[1;33m\u001b[0m\u001b[1;33m\u001b[0m\u001b[0m\n\u001b[1;32m--> 185\u001b[1;33m     \u001b[0my_type\u001b[0m\u001b[1;33m,\u001b[0m \u001b[0my_true\u001b[0m\u001b[1;33m,\u001b[0m \u001b[0my_pred\u001b[0m \u001b[1;33m=\u001b[0m \u001b[0m_check_targets\u001b[0m\u001b[1;33m(\u001b[0m\u001b[0my_true\u001b[0m\u001b[1;33m,\u001b[0m \u001b[0my_pred\u001b[0m\u001b[1;33m)\u001b[0m\u001b[1;33m\u001b[0m\u001b[1;33m\u001b[0m\u001b[0m\n\u001b[0m\u001b[0;32m    186\u001b[0m     \u001b[0mcheck_consistent_length\u001b[0m\u001b[1;33m(\u001b[0m\u001b[0my_true\u001b[0m\u001b[1;33m,\u001b[0m \u001b[0my_pred\u001b[0m\u001b[1;33m,\u001b[0m \u001b[0msample_weight\u001b[0m\u001b[1;33m)\u001b[0m\u001b[1;33m\u001b[0m\u001b[1;33m\u001b[0m\u001b[0m\n\u001b[0;32m    187\u001b[0m     \u001b[1;32mif\u001b[0m \u001b[0my_type\u001b[0m\u001b[1;33m.\u001b[0m\u001b[0mstartswith\u001b[0m\u001b[1;33m(\u001b[0m\u001b[1;34m'multilabel'\u001b[0m\u001b[1;33m)\u001b[0m\u001b[1;33m:\u001b[0m\u001b[1;33m\u001b[0m\u001b[1;33m\u001b[0m\u001b[0m\n",
      "\u001b[1;32m~\\anaconda3\\lib\\site-packages\\sklearn\\metrics\\_classification.py\u001b[0m in \u001b[0;36m_check_targets\u001b[1;34m(y_true, y_pred)\u001b[0m\n\u001b[0;32m     87\u001b[0m \u001b[1;33m\u001b[0m\u001b[0m\n\u001b[0;32m     88\u001b[0m     \u001b[1;32mif\u001b[0m \u001b[0mlen\u001b[0m\u001b[1;33m(\u001b[0m\u001b[0my_type\u001b[0m\u001b[1;33m)\u001b[0m \u001b[1;33m>\u001b[0m \u001b[1;36m1\u001b[0m\u001b[1;33m:\u001b[0m\u001b[1;33m\u001b[0m\u001b[1;33m\u001b[0m\u001b[0m\n\u001b[1;32m---> 89\u001b[1;33m         raise ValueError(\"Classification metrics can't handle a mix of {0} \"\n\u001b[0m\u001b[0;32m     90\u001b[0m                          \"and {1} targets\".format(type_true, type_pred))\n\u001b[0;32m     91\u001b[0m \u001b[1;33m\u001b[0m\u001b[0m\n",
      "\u001b[1;31mValueError\u001b[0m: Classification metrics can't handle a mix of binary and continuous targets"
     ]
    }
   ],
   "source": [
    "accuracy_score(y_t,y_pred)"
   ]
  },
  {
   "cell_type": "code",
   "execution_count": null,
   "id": "cb276921",
   "metadata": {},
   "outputs": [],
   "source": [
    "df = pd.read_excel(r\"C:\\Users\\ASUS\\OneDrive\\Documents\\Academics\\Summer Semester\\Dissertation\\Model_out\\Kev_test.xlsx\")\n",
    "data = df.values"
   ]
  },
  {
   "cell_type": "code",
   "execution_count": null,
   "id": "e31f5f27",
   "metadata": {},
   "outputs": [],
   "source": [
    "X_test = dataset[:,1:51].astype(float)\n",
    "model.predict(X_test).mean()"
   ]
  },
  {
   "cell_type": "markdown",
   "id": "a060d1d1",
   "metadata": {},
   "source": [
    "Scott ------> 0.035862993\n",
    "lak --------> 0.60514396\n",
    "kev --------> 0.8071767\n",
    "ewan --------> 0.80447155"
   ]
  },
  {
   "cell_type": "code",
   "execution_count": null,
   "id": "aef69168",
   "metadata": {},
   "outputs": [],
   "source": [
    "#fet = ['NOSE_X','NOSE_Y','NOSE_Z','LEFT_SHOULDER_X','LEFT_SHOULDER_Y','RIGHT_SHOULDER_X','RIGHT_SHOULDER_Z','LEFT_ELBOW_Y','LEFT_ELBOW_Z','RIGHT_ELBOW_X','RIGHT_ELBOW_Z','LEFT_WRIST_Y','LEFT_WRIST_Z','RIGHT_WRIST_X','RIGHT_WRIST_Y','RIGHT_HIP_X','LEFT_KNEE_Z','RIGHT_KNEE_X','RIGHT_ANKLE_Z','LEFT_HEEL_Y','RIGHT_HEEL_X','RIGHT_HEEL_Y','LEFT_FOOT_INDEX_X','LEFT_FOOT_INDEX_Z','Nose-Wrist Angle','Sho-Wrist Angle','Class_1','Class_2','Out']\n",
    "fet = ['NOSE_X', 'NOSE_Y', 'NOSE_Z', 'LEFT_SHOULDER_X',\n",
    "       'LEFT_SHOULDER_Y', 'LEFT_SHOULDER_Z', 'RIGHT_SHOULDER_X',\n",
    "       'RIGHT_SHOULDER_Y', 'RIGHT_SHOULDER_Z', 'LEFT_ELBOW_X', 'LEFT_ELBOW_Y',\n",
    "       'LEFT_ELBOW_Z', 'RIGHT_ELBOW_X', 'RIGHT_ELBOW_Y', 'RIGHT_ELBOW_Z',\n",
    "       'LEFT_WRIST_X', 'LEFT_WRIST_Y', 'LEFT_WRIST_Z', 'RIGHT_WRIST_X',\n",
    "       'RIGHT_WRIST_Y', 'RIGHT_WRIST_Z', 'LEFT_HIP_X', 'LEFT_HIP_Y',\n",
    "       'LEFT_HIP_Z', 'RIGHT_HIP_X', 'RIGHT_HIP_Y', 'RIGHT_HIP_Z',\n",
    "       'LEFT_KNEE_X', 'LEFT_KNEE_Y', 'LEFT_KNEE_Z', 'RIGHT_KNEE_X',\n",
    "       'RIGHT_KNEE_Y', 'RIGHT_KNEE_Z', 'LEFT_ANKLE_X', 'LEFT_ANKLE_Y',\n",
    "       'LEFT_ANKLE_Z', 'RIGHT_ANKLE_X', 'RIGHT_ANKLE_Y', 'RIGHT_ANKLE_Z',\n",
    "       'LEFT_HEEL_X', 'LEFT_HEEL_Y', 'LEFT_HEEL_Z', 'RIGHT_HEEL_X',\n",
    "       'RIGHT_HEEL_Y', 'RIGHT_HEEL_Z', 'LEFT_FOOT_INDEX_X',\n",
    "       'LEFT_FOOT_INDEX_Y', 'LEFT_FOOT_INDEX_Z', 'RIGHT_FOOT_INDEX_X',\n",
    "       'RIGHT_FOOT_INDEX_Y', 'RIGHT_FOOT_INDEX_Z',\"Class\"]\n",
    "\n",
    "#to_test  = pd.read_csv(r\"C:\\Users\\ASUS\\OneDrive\\Documents\\Academics\\Summer Semester\\Dissertation\\Lak6.csv\")"
   ]
  },
  {
   "cell_type": "code",
   "execution_count": null,
   "id": "7736b769",
   "metadata": {},
   "outputs": [],
   "source": [
    "dataframe = dataframe[fet][:8921]\n",
    "test = dataframe[fet[:-1]][8921:]"
   ]
  },
  {
   "cell_type": "code",
   "execution_count": null,
   "id": "467c7892",
   "metadata": {},
   "outputs": [],
   "source": [
    "dataset = dataframe.values"
   ]
  },
  {
   "cell_type": "code",
   "execution_count": null,
   "id": "3ff49690",
   "metadata": {},
   "outputs": [],
   "source": [
    "dataset[:79,0:51]"
   ]
  },
  {
   "cell_type": "code",
   "execution_count": null,
   "id": "2346c8d8",
   "metadata": {},
   "outputs": [],
   "source": [
    "X_train = dataset[79:,0:51].astype(float)\n",
    "X_test = dataset[1:79,0:51].astype(float)\n",
    "Y = dataset[79:,53]\n"
   ]
  },
  {
   "cell_type": "code",
   "execution_count": null,
   "id": "21673d53",
   "metadata": {},
   "outputs": [],
   "source": [
    "X_train"
   ]
  },
  {
   "cell_type": "code",
   "execution_count": null,
   "id": "592b7cb7",
   "metadata": {},
   "outputs": [],
   "source": [
    "cols = dataframe.columns"
   ]
  },
  {
   "cell_type": "code",
   "execution_count": null,
   "id": "b883562c",
   "metadata": {},
   "outputs": [],
   "source": [
    "cols"
   ]
  },
  {
   "cell_type": "code",
   "execution_count": null,
   "id": "0e08bbac",
   "metadata": {},
   "outputs": [],
   "source": [
    "features = len(cols)"
   ]
  },
  {
   "cell_type": "code",
   "execution_count": null,
   "id": "589b0d21",
   "metadata": {},
   "outputs": [],
   "source": [
    "features"
   ]
  },
  {
   "cell_type": "code",
   "execution_count": null,
   "id": "9eb24036",
   "metadata": {},
   "outputs": [],
   "source": [
    "X = dataframe[fet[:-1]]\n",
    "X = np.resize(X,(X.shape[0],1,X.shape[1]))  \n",
    "y = dataframe[fet[-1]]\n"
   ]
  },
  {
   "cell_type": "code",
   "execution_count": null,
   "id": "fa966269",
   "metadata": {},
   "outputs": [],
   "source": [
    "model.fit(X,y,batch_size= len(X),epochs =15)"
   ]
  },
  {
   "cell_type": "code",
   "execution_count": null,
   "id": "c08d87ba",
   "metadata": {},
   "outputs": [],
   "source": [
    "model.save(r'C:\\Users\\ASUS\\OneDrive\\Documents\\Academics\\Summer Semester\\Dissertation\\Models\\LSTM\\\\')"
   ]
  },
  {
   "cell_type": "code",
   "execution_count": null,
   "id": "17a5677e",
   "metadata": {},
   "outputs": [],
   "source": [
    "model.save_weights(r'C:\\Users\\ASUS\\OneDrive\\Documents\\Academics\\Summer Semester\\Dissertation\\Models\\LSTM\\model.h5')"
   ]
  },
  {
   "cell_type": "code",
   "execution_count": null,
   "id": "9f918580",
   "metadata": {},
   "outputs": [],
   "source": [
    "X_test_reshaped = np.resize(test, (test.shape[0], test.shape[1], 1))\n",
    "\n",
    "# Make predictions using the reshaped data\n",
    "output = model.predict(X_test_reshaped)"
   ]
  },
  {
   "cell_type": "code",
   "execution_count": null,
   "id": "114552e2",
   "metadata": {},
   "outputs": [],
   "source": [
    "output[0]"
   ]
  },
  {
   "cell_type": "markdown",
   "id": "b65168ce",
   "metadata": {},
   "source": [
    "*KERAS MODEL*"
   ]
  },
  {
   "cell_type": "markdown",
   "id": "7cdd8ca6",
   "metadata": {},
   "source": [
    "def create_model():\n",
    "    model = Sequential()\n",
    "    model.add(Dense(100, input_shape=(51,), activation='relu'))\n",
    "    model.add(Dense(1, activation='sigmoid'))\n",
    "    model.compile(loss='binary_crossentropy', optimizer='adam', metrics=['accuracy'])\n",
    "    return model\n"
   ]
  },
  {
   "cell_type": "markdown",
   "id": "727a3784",
   "metadata": {},
   "source": [
    "checkpoint_path = r\"C:\\Users\\ASUS\\OneDrive\\Documents\\Academics\\Summer Semester\\Dissertation\\Models\\Keras model\\\\\"\n",
    "checkpoint_dir = os.path.dirname(checkpoint_path)\n",
    "\n",
    "#Create a callback that saves the model's weights\n",
    "cp_callback = tf.keras.callbacks.ModelCheckpoint(filepath=checkpoint_path,save_weights_only=True,verbose=1)\n",
    "\n",
    "estimator = KerasClassifier(model=create_model, epochs=20, batch_size=5,callbacks=[cp_callback], verbose=1)\n",
    "kfold = StratifiedKFold(n_splits=5, shuffle=True)\n",
    "results = cross_val_score(estimator, X_train, Y, cv=kfold)\n",
    "print(\"Smaller: %.2f%% (%.2f%%)\" % (results.mean()*100, results.std()*100))\n"
   ]
  },
  {
   "cell_type": "code",
   "execution_count": 6,
   "id": "62fcf709",
   "metadata": {},
   "outputs": [],
   "source": [
    "# Binary Classification with Sonar Dataset: Baseline\n",
    "from pandas import read_csv\n",
    "from tensorflow.keras.models import Sequential\n",
    "from tensorflow.keras.layers import Dense\n",
    "from scikeras.wrappers import KerasClassifier\n",
    "from sklearn.model_selection import cross_val_score\n",
    "from sklearn.preprocessing import LabelEncoder\n",
    "from sklearn.model_selection import StratifiedKFold\n",
    "import seaborn as sns\n",
    "import matplotlib as plt\n",
    "from keras.callbacks import LearningRateScheduler\n",
    "import numpy as np\n",
    "\n",
    "\n",
    "from tensorflow.keras.models import save_model\n",
    "import tensorflow as tf\n",
    "\n",
    "\n",
    "#dataframe = read_csv(r\"C:\\Users\\ASUS\\OneDrive\\Documents\\Academics\\Summer Semester\\Dissertation\\Model_out\\Neural Net In.csv\")\n"
   ]
  },
  {
   "cell_type": "code",
   "execution_count": null,
   "id": "5c1abbc9",
   "metadata": {},
   "outputs": [],
   "source": [
    "dataframe = dataframe.drop('Unnamed: 0',1)"
   ]
  },
  {
   "cell_type": "code",
   "execution_count": null,
   "id": "dcb01b96",
   "metadata": {},
   "outputs": [],
   "source": [
    "dataset = dataframe.values"
   ]
  },
  {
   "cell_type": "code",
   "execution_count": null,
   "id": "b1396838",
   "metadata": {},
   "outputs": [],
   "source": [
    "\n",
    "X = dataset[1:,1:51].astype(float)\n",
    "Y = dataset[1:,52]\n",
    "\n",
    "encoder = LabelEncoder()\n",
    "encoder.fit(Y)\n",
    "Y = encoder.transform(Y)\n"
   ]
  },
  {
   "cell_type": "code",
   "execution_count": null,
   "id": "e766c6a7",
   "metadata": {},
   "outputs": [],
   "source": [
    "X_train,X_test,Y_train,Y_test = X_train, X_test, y_train, y_test = train_test_split(X, Y, test_size=0.30)"
   ]
  },
  {
   "cell_type": "code",
   "execution_count": null,
   "id": "5e94e412",
   "metadata": {},
   "outputs": [],
   "source": [
    "import tensorflow as tf\n",
    "print(tf.__version__)\n",
    "pip install tensorflow==2.7.0 --user"
   ]
  },
  {
   "cell_type": "code",
   "execution_count": null,
   "id": "728b7422",
   "metadata": {},
   "outputs": [],
   "source": []
  },
  {
   "cell_type": "markdown",
   "id": "2997cfce",
   "metadata": {},
   "source": [
    "\n",
    "def adjust_learning_rate(epoch, lr):\n",
    "    return lr * 0.1 if epoch % 5 == 0 else lr  # Reduce LR every 5 epochs\n",
    "\n",
    "lr_scheduler = LearningRateScheduler(adjust_learning_rate)"
   ]
  },
  {
   "cell_type": "code",
   "execution_count": null,
   "id": "63fdf175",
   "metadata": {},
   "outputs": [],
   "source": [
    "pip uninstall scikeras"
   ]
  },
  {
   "cell_type": "code",
   "execution_count": null,
   "id": "1f3bfc08",
   "metadata": {},
   "outputs": [],
   "source": [
    "pip install scikeras==0.3.0"
   ]
  },
  {
   "cell_type": "markdown",
   "id": "6d434b03",
   "metadata": {},
   "source": [
    "X_train = dataset[1:,0:51].astype(float)\n",
    "#X_test = dataset[8921:,0:51].astype(float)\n",
    "Y = dataset[1:8921,53]\n",
    "y_test = dataset[8921:,53]\n",
    "#encode class values as integers\n",
    "#encoder = LabelEncoder()\n",
    "#encoder.fit(Y)\n",
    "#encoded_Y = encoder.transform(Y)\n",
    "\n",
    "\n",
    "#estimator = KerasClassifier(model=create_model, epochs=20, batch_size=5,validation_split=0.3,callbacks=[cp_callback], verbose=1,random_state=None)"
   ]
  },
  {
   "cell_type": "code",
   "execution_count": null,
   "id": "94f4a28d",
   "metadata": {},
   "outputs": [],
   "source": [
    "checkpoint_path = r\"C:\\Users\\ASUS\\OneDrive\\Documents\\Academics\\Summer Semester\\Dissertation\\Models\\Neural Net 2\\\\\"\n",
    "checkpoint_dir = os.path.dirname(checkpoint_path)\n",
    "\n",
    "# Create a callback that saves the model's weights\n",
    "cp_callback = tf.keras.callbacks.ModelCheckpoint(filepath=checkpoint_path,save_weights_only=True,verbose=1)"
   ]
  },
  {
   "cell_type": "code",
   "execution_count": 5,
   "id": "a954aca6",
   "metadata": {},
   "outputs": [],
   "source": [
    "from keras.layers import Dense, BatchNormalization, Dropout"
   ]
  },
  {
   "cell_type": "code",
   "execution_count": 17,
   "id": "d5c113cc",
   "metadata": {},
   "outputs": [
    {
     "data": {
      "text/plain": [
       "0        Amatuer\n",
       "1        Amatuer\n",
       "2        Amatuer\n",
       "3        Amatuer\n",
       "4        Amatuer\n",
       "          ...   \n",
       "11095    Amatuer\n",
       "11096    Amatuer\n",
       "11097    Amatuer\n",
       "11098    Amatuer\n",
       "11099    Amatuer\n",
       "Name: Class, Length: 11100, dtype: object"
      ]
     },
     "execution_count": 17,
     "metadata": {},
     "output_type": "execute_result"
    }
   ],
   "source": [
    "dataframe[dataframe.columns[-2]]"
   ]
  },
  {
   "cell_type": "code",
   "execution_count": 18,
   "id": "d3334b61",
   "metadata": {},
   "outputs": [],
   "source": [
    "X = dataframe[dataframe.columns[-8:-2]]"
   ]
  },
  {
   "cell_type": "code",
   "execution_count": 23,
   "id": "82f2a57f",
   "metadata": {},
   "outputs": [],
   "source": [
    "Y = dataframe[dataframe.columns[-2]]\n",
    "encoder = LabelEncoder()\n",
    "encoder.fit(Y)\n",
    "Y = encoder.transform(Y)\n",
    "\n",
    "X_train, X_test, y_train, y_test = train_test_split(X, Y, test_size=0.30)"
   ]
  },
  {
   "cell_type": "code",
   "execution_count": 20,
   "id": "46f6709c",
   "metadata": {},
   "outputs": [
    {
     "name": "stdout",
     "output_type": "stream",
     "text": [
      "Epoch 1/20\n",
      "1511/1511 [==============================] - 5s 3ms/step - loss: -7417.5796 - accuracy: 0.0077 - val_loss: -14836.5293 - val_accuracy: 0.0080\n",
      "Epoch 2/20\n",
      "1511/1511 [==============================] - 4s 3ms/step - loss: -22101.7480 - accuracy: 0.0077 - val_loss: -29378.7461 - val_accuracy: 0.0080\n",
      "Epoch 3/20\n",
      "1511/1511 [==============================] - 4s 3ms/step - loss: -36644.1289 - accuracy: 0.0077 - val_loss: -43965.0234 - val_accuracy: 0.0080\n",
      "Epoch 4/20\n",
      "1511/1511 [==============================] - 4s 3ms/step - loss: -51114.1602 - accuracy: 0.0077 - val_loss: -58486.3867 - val_accuracy: 0.0080\n",
      "Epoch 5/20\n",
      "1511/1511 [==============================] - 4s 3ms/step - loss: -65801.2266 - accuracy: 0.0077 - val_loss: -73044.4375 - val_accuracy: 0.0080\n",
      "Epoch 6/20\n",
      "1511/1511 [==============================] - 4s 3ms/step - loss: -80210.3828 - accuracy: 0.0077 - val_loss: -87556.4375 - val_accuracy: 0.0080\n",
      "Epoch 7/20\n",
      "1511/1511 [==============================] - 4s 3ms/step - loss: -94792.2500 - accuracy: 0.0077 - val_loss: -102133.1641 - val_accuracy: 0.0080\n",
      "Epoch 8/20\n",
      "1511/1511 [==============================] - 4s 2ms/step - loss: -109310.6172 - accuracy: 0.0077 - val_loss: -116705.8125 - val_accuracy: 0.0080\n",
      "Epoch 9/20\n",
      "1511/1511 [==============================] - 4s 3ms/step - loss: -123886.7500 - accuracy: 0.0077 - val_loss: -131238.8438 - val_accuracy: 0.0080\n",
      "Epoch 10/20\n",
      "1511/1511 [==============================] - 4s 3ms/step - loss: -138414.5625 - accuracy: 0.0077 - val_loss: -145777.9375 - val_accuracy: 0.0080\n",
      "Epoch 11/20\n",
      "1511/1511 [==============================] - 4s 3ms/step - loss: -152959.2812 - accuracy: 0.0077 - val_loss: -160347.5312 - val_accuracy: 0.0080\n",
      "Epoch 12/20\n",
      "1511/1511 [==============================] - 4s 3ms/step - loss: -167547.6250 - accuracy: 0.0077 - val_loss: -174902.7031 - val_accuracy: 0.0080\n",
      "Epoch 13/20\n",
      "1511/1511 [==============================] - 4s 3ms/step - loss: -181711.4531 - accuracy: 0.0077 - val_loss: -189425.9062 - val_accuracy: 0.0080\n",
      "Epoch 14/20\n",
      "1511/1511 [==============================] - 4s 2ms/step - loss: -196492.0938 - accuracy: 0.0077 - val_loss: -203994.4531 - val_accuracy: 0.0080\n",
      "Epoch 15/20\n",
      "1511/1511 [==============================] - 4s 2ms/step - loss: -211103.1250 - accuracy: 0.0077 - val_loss: -218569.9062 - val_accuracy: 0.0080\n",
      "Epoch 16/20\n",
      "1511/1511 [==============================] - 4s 2ms/step - loss: -225751.7500 - accuracy: 0.0077 - val_loss: -233099.2031 - val_accuracy: 0.0080\n",
      "Epoch 17/20\n",
      "1511/1511 [==============================] - 4s 2ms/step - loss: -240368.4219 - accuracy: 0.0077 - val_loss: -247698.8750 - val_accuracy: 0.0080\n",
      "Epoch 18/20\n",
      "1511/1511 [==============================] - 4s 2ms/step - loss: -254638.7344 - accuracy: 0.0077 - val_loss: -262231.6250 - val_accuracy: 0.0080\n",
      "Epoch 19/20\n",
      "1511/1511 [==============================] - 5s 3ms/step - loss: -269549.0312 - accuracy: 0.0077 - val_loss: -276786.5312 - val_accuracy: 0.0080\n",
      "Epoch 20/20\n",
      "1511/1511 [==============================] - 4s 3ms/step - loss: -283978.6250 - accuracy: 0.0077 - val_loss: -291325.4062 - val_accuracy: 0.0080\n"
     ]
    }
   ],
   "source": [
    "from tensorflow.keras.optimizers import Adam\n",
    "\n",
    "\n",
    "result = []\n",
    "optimizer = Adam(learning_rate=0.01)\n",
    "model = Sequential()\n",
    "model.add(Dense(100, input_shape=(6,), activation='relu'))\n",
    "\n",
    "model.add(Dense(50, input_shape=(6,), activation='sigmoid'))\n",
    "\n",
    "model.add(Dropout(0.1))\n",
    "        \n",
    "model.add(Dense(1, activation='sigmoid'))\n",
    "        \n",
    "model.compile(loss='binary_crossentropy', optimizer=optimizer, metrics=['accuracy'])\n",
    " \n",
    "history= model.fit(X_train,Y_train, batch_size=5, epochs=20,validation_data=(X_test,y_test))\n",
    "\n"
   ]
  },
  {
   "cell_type": "code",
   "execution_count": null,
   "id": "a5e5b995",
   "metadata": {},
   "outputs": [],
   "source": [
    "estimator = KerasClassifier(model=create_model, epochs=20, batch_size=5,validation_split=0.3, verbose=1, shuffle=True, random_state=None)\n",
    "kfold = StratifiedKFold(n_splits=5, shuffle=True)\n",
    "results = cross_val_score(estimator, X_train, y_train, cv=kfold)\n",
    "result.append((results.mean()*100, results.std()*100))\n",
    "print(\"Smaller: %.2f%% (%.2f%%)\" % (results.mean()*100, results.std()*100))"
   ]
  },
  {
   "cell_type": "code",
   "execution_count": 30,
   "id": "13b58bc9",
   "metadata": {},
   "outputs": [
    {
     "name": "stdout",
     "output_type": "stream",
     "text": [
      "Epoch 1/20\n",
      "1088/1088 [==============================] - 4s 3ms/step - loss: 0.3973 - accuracy: 0.8673 - val_loss: 0.3848 - val_accuracy: 0.8739\n",
      "Epoch 2/20\n",
      "1088/1088 [==============================] - 3s 3ms/step - loss: 0.3716 - accuracy: 0.8726 - val_loss: 0.3563 - val_accuracy: 0.8795\n",
      "Epoch 3/20\n",
      "1088/1088 [==============================] - 3s 3ms/step - loss: 0.3670 - accuracy: 0.8733 - val_loss: 0.3502 - val_accuracy: 0.8777\n",
      "Epoch 4/20\n",
      "1088/1088 [==============================] - 3s 3ms/step - loss: 0.3664 - accuracy: 0.8731 - val_loss: 0.3507 - val_accuracy: 0.8790\n",
      "Epoch 5/20\n",
      "1088/1088 [==============================] - 3s 3ms/step - loss: 0.3689 - accuracy: 0.8726 - val_loss: 0.3603 - val_accuracy: 0.8752\n",
      "Epoch 6/20\n",
      "1088/1088 [==============================] - 3s 3ms/step - loss: 0.3648 - accuracy: 0.8724 - val_loss: 0.3480 - val_accuracy: 0.8820\n",
      "Epoch 7/20\n",
      "1088/1088 [==============================] - 3s 3ms/step - loss: 0.3641 - accuracy: 0.8744 - val_loss: 0.3414 - val_accuracy: 0.8790\n",
      "Epoch 8/20\n",
      "1088/1088 [==============================] - 3s 2ms/step - loss: 0.3634 - accuracy: 0.8742 - val_loss: 0.3462 - val_accuracy: 0.8812\n",
      "Epoch 9/20\n",
      "1088/1088 [==============================] - 3s 3ms/step - loss: 0.3658 - accuracy: 0.8742 - val_loss: 0.3489 - val_accuracy: 0.8807\n",
      "Epoch 10/20\n",
      "1088/1088 [==============================] - 3s 3ms/step - loss: 0.3755 - accuracy: 0.8737 - val_loss: 0.3442 - val_accuracy: 0.8812\n",
      "Epoch 11/20\n",
      "1088/1088 [==============================] - 3s 3ms/step - loss: 0.3634 - accuracy: 0.8735 - val_loss: 0.3392 - val_accuracy: 0.8820\n",
      "Epoch 12/20\n",
      "1088/1088 [==============================] - 3s 2ms/step - loss: 0.3621 - accuracy: 0.8746 - val_loss: 0.3459 - val_accuracy: 0.8807\n",
      "Epoch 13/20\n",
      "1088/1088 [==============================] - 3s 3ms/step - loss: 0.3614 - accuracy: 0.8741 - val_loss: 0.3423 - val_accuracy: 0.8795\n",
      "Epoch 14/20\n",
      "1088/1088 [==============================] - 3s 3ms/step - loss: 0.3674 - accuracy: 0.8728 - val_loss: 0.3570 - val_accuracy: 0.8799\n",
      "Epoch 15/20\n",
      "1088/1088 [==============================] - 3s 3ms/step - loss: 0.3594 - accuracy: 0.8757 - val_loss: 0.3464 - val_accuracy: 0.8820\n",
      "Epoch 16/20\n",
      "1088/1088 [==============================] - 3s 3ms/step - loss: 0.3557 - accuracy: 0.8755 - val_loss: 0.3393 - val_accuracy: 0.8820\n",
      "Epoch 17/20\n",
      "1088/1088 [==============================] - 3s 3ms/step - loss: 0.3641 - accuracy: 0.8735 - val_loss: 0.3437 - val_accuracy: 0.8803\n",
      "Epoch 18/20\n",
      "1088/1088 [==============================] - 3s 3ms/step - loss: 0.3585 - accuracy: 0.8750 - val_loss: 0.3449 - val_accuracy: 0.8825\n",
      "Epoch 19/20\n",
      "1088/1088 [==============================] - 3s 3ms/step - loss: 0.3608 - accuracy: 0.8755 - val_loss: 0.3391 - val_accuracy: 0.8825\n",
      "Epoch 20/20\n",
      "1088/1088 [==============================] - 3s 3ms/step - loss: 0.3640 - accuracy: 0.8731 - val_loss: 0.3394 - val_accuracy: 0.8825\n"
     ]
    }
   ],
   "source": [
    "keras_model = estimator.fit(X_train,y_train)"
   ]
  },
  {
   "cell_type": "code",
   "execution_count": 31,
   "id": "60e1d6d7",
   "metadata": {},
   "outputs": [
    {
     "name": "stdout",
     "output_type": "stream",
     "text": [
      "666/666 [==============================] - 1s 1ms/step\n"
     ]
    }
   ],
   "source": [
    "y_pred = estimator.predict(X_test)"
   ]
  },
  {
   "cell_type": "code",
   "execution_count": 32,
   "id": "1b86e506",
   "metadata": {},
   "outputs": [
    {
     "data": {
      "text/plain": [
       "0.8903903903903904"
      ]
     },
     "execution_count": 32,
     "metadata": {},
     "output_type": "execute_result"
    }
   ],
   "source": [
    "encoder = LabelEncoder()\n",
    "encoder.fit(y_test)\n",
    "y_test = encoder.transform(y_test)\n",
    "accuracy_score(y_test,y_pred)"
   ]
  },
  {
   "cell_type": "code",
   "execution_count": 33,
   "id": "72a5f538",
   "metadata": {},
   "outputs": [
    {
     "data": {
      "text/plain": [
       "array([[ 291,  360],\n",
       "       [   5, 2674]], dtype=int64)"
      ]
     },
     "execution_count": 33,
     "metadata": {},
     "output_type": "execute_result"
    }
   ],
   "source": [
    "confusion_matrix(y_test,y_pred)"
   ]
  },
  {
   "cell_type": "code",
   "execution_count": 34,
   "id": "297fc084",
   "metadata": {},
   "outputs": [
    {
     "data": {
      "text/plain": [
       "'              precision    recall  f1-score   support\\n\\n           0       0.98      0.45      0.61       651\\n           1       0.88      1.00      0.94      2679\\n\\n    accuracy                           0.89      3330\\n   macro avg       0.93      0.72      0.78      3330\\nweighted avg       0.90      0.89      0.87      3330\\n'"
      ]
     },
     "execution_count": 34,
     "metadata": {},
     "output_type": "execute_result"
    }
   ],
   "source": [
    "sklearn.metrics.classification_report(y_test,y_pred)"
   ]
  },
  {
   "cell_type": "code",
   "execution_count": 53,
   "id": "22af7f0c",
   "metadata": {},
   "outputs": [],
   "source": [
    "from sklearn.metrics import plot_roc_curve\n",
    "import sklearn"
   ]
  },
  {
   "cell_type": "code",
   "execution_count": 36,
   "id": "27f483eb",
   "metadata": {},
   "outputs": [
    {
     "name": "stdout",
     "output_type": "stream",
     "text": [
      "666/666 [==============================] - 1s 1ms/step\n"
     ]
    },
    {
     "ename": "AttributeError",
     "evalue": "module 'matplotlib' has no attribute 'show'",
     "output_type": "error",
     "traceback": [
      "\u001b[1;31m---------------------------------------------------------------------------\u001b[0m",
      "\u001b[1;31mAttributeError\u001b[0m                            Traceback (most recent call last)",
      "\u001b[1;32m<ipython-input-36-7fa2e09d26d4>\u001b[0m in \u001b[0;36m<module>\u001b[1;34m\u001b[0m\n\u001b[0;32m      1\u001b[0m \u001b[0mplot_roc_curve\u001b[0m\u001b[1;33m(\u001b[0m\u001b[0mestimator\u001b[0m\u001b[1;33m,\u001b[0m \u001b[0mX_test\u001b[0m\u001b[1;33m,\u001b[0m \u001b[0my_test\u001b[0m\u001b[1;33m)\u001b[0m\u001b[1;33m\u001b[0m\u001b[1;33m\u001b[0m\u001b[0m\n\u001b[1;32m----> 2\u001b[1;33m \u001b[0mplt\u001b[0m\u001b[1;33m.\u001b[0m\u001b[0mshow\u001b[0m\u001b[1;33m(\u001b[0m\u001b[1;33m)\u001b[0m\u001b[1;33m\u001b[0m\u001b[1;33m\u001b[0m\u001b[0m\n\u001b[0m",
      "\u001b[1;31mAttributeError\u001b[0m: module 'matplotlib' has no attribute 'show'"
     ]
    },
    {
     "data": {
      "image/png": "[encoded data removed]",
      "text/plain": [
       "<Figure size 432x288 with 1 Axes>"
      ]
     },
     "metadata": {
      "needs_background": "light"
     },
     "output_type": "display_data"
    }
   ],
   "source": [
    "plot_roc_curve(estimator, X_test, y_test)\n",
    "plt.show()"
   ]
  },
  {
   "cell_type": "code",
   "execution_count": 37,
   "id": "86725ffc",
   "metadata": {},
   "outputs": [
    {
     "data": {
      "image/png": "[encoded data removed]",
      "text/plain": [
       "<Figure size 432x288 with 1 Axes>"
      ]
     },
     "metadata": {
      "needs_background": "light"
     },
     "output_type": "display_data"
    }
   ],
   "source": [
    "from matplotlib import pyplot\n",
    "\n",
    "pyplot.plot(keras_model.history_['loss'])\n",
    "pyplot.plot(keras_model.history_['val_loss'])\n",
    "pyplot.title('model train vs validation loss')\n",
    "pyplot.ylabel('loss')\n",
    "pyplot.xlabel('epoch')\n",
    "pyplot.legend(['train', 'validation'], loc='upper right')\n",
    "pyplot.show()"
   ]
  },
  {
   "cell_type": "code",
   "execution_count": 49,
   "id": "dc3bcc67",
   "metadata": {},
   "outputs": [],
   "source": [
    "estimator.model_.save(r'C:\\Users\\ASUS\\OneDrive\\Documents\\Academics\\Summer Semester\\Dissertation\\Models\\Keras\\Keras_17_8.keras')"
   ]
  },
  {
   "cell_type": "code",
   "execution_count": 39,
   "id": "83fda2b7",
   "metadata": {},
   "outputs": [
    {
     "name": "stdout",
     "output_type": "stream",
     "text": [
      "INFO:tensorflow:Assets written to: C:\\Users\\ASUS\\AppData\\Local\\Temp\\tmpkqnrtib8\\assets\n"
     ]
    }
   ],
   "source": [
    "\n",
    "filename = r'C:\\Users\\ASUS\\OneDrive\\Documents\\Academics\\Summer Semester\\Dissertation\\Models\\Keras\\Keras_17_08.sav'\n",
    "pickle.dump(keras_model, open(filename, 'wb'))"
   ]
  },
  {
   "cell_type": "code",
   "execution_count": 43,
   "id": "bd84cafb",
   "metadata": {},
   "outputs": [
    {
     "ename": "AttributeError",
     "evalue": "'function' object has no attribute 'save'",
     "output_type": "error",
     "traceback": [
      "\u001b[1;31m---------------------------------------------------------------------------\u001b[0m",
      "\u001b[1;31mAttributeError\u001b[0m                            Traceback (most recent call last)",
      "\u001b[1;32m<ipython-input-43-2bf4ace75528>\u001b[0m in \u001b[0;36m<module>\u001b[1;34m\u001b[0m\n\u001b[1;32m----> 1\u001b[1;33m \u001b[0mkeras_model\u001b[0m\u001b[1;33m.\u001b[0m\u001b[0mmodel\u001b[0m\u001b[1;33m.\u001b[0m\u001b[0msave\u001b[0m\u001b[1;33m(\u001b[0m\u001b[1;34mr'C:\\Users\\ASUS\\OneDrive\\Documents\\Academics\\Summer Semester\\Dissertation\\Models\\Keras\\Keras_17_8.keras'\u001b[0m\u001b[1;33m)\u001b[0m  \u001b[1;31m# The file needs to end with the .keras extension\u001b[0m\u001b[1;33m\u001b[0m\u001b[1;33m\u001b[0m\u001b[0m\n\u001b[0m",
      "\u001b[1;31mAttributeError\u001b[0m: 'function' object has no attribute 'save'"
     ]
    }
   ],
   "source": [
    "keras_model.save(r'C:\\Users\\ASUS\\OneDrive\\Documents\\Academics\\Summer Semester\\Dissertation\\Models\\Keras\\Keras_17_8.keras')  # The file needs to end with the .keras extension\n"
   ]
  },
  {
   "cell_type": "code",
   "execution_count": 53,
   "id": "68103cdc",
   "metadata": {},
   "outputs": [
    {
     "name": "stdout",
     "output_type": "stream",
     "text": [
      "WARNING:tensorflow:Error in loading the saved optimizer state. As a result, your model is starting with a freshly initialized optimizer.\n"
     ]
    }
   ],
   "source": [
    "ker_model = keras.models.load_model(r'C:\\Users\\ASUS\\OneDrive\\Documents\\Academics\\Summer Semester\\Dissertation\\Models\\Keras\\Keras_17_8.keras')"
   ]
  },
  {
   "cell_type": "code",
   "execution_count": 52,
   "id": "47de5f93",
   "metadata": {},
   "outputs": [],
   "source": [
    "import keras"
   ]
  },
  {
   "cell_type": "code",
   "execution_count": null,
   "id": "f569698b",
   "metadata": {},
   "outputs": [],
   "source": []
  },
  {
   "cell_type": "code",
   "execution_count": 40,
   "id": "5ca88a9c",
   "metadata": {},
   "outputs": [
    {
     "ename": "AttributeError",
     "evalue": "'Adam' object has no attribute 'build'",
     "output_type": "error",
     "traceback": [
      "\u001b[1;31m---------------------------------------------------------------------------\u001b[0m",
      "\u001b[1;31mAttributeError\u001b[0m                            Traceback (most recent call last)",
      "\u001b[1;32m<ipython-input-40-cce28e03a1a2>\u001b[0m in \u001b[0;36m<module>\u001b[1;34m\u001b[0m\n\u001b[1;32m----> 1\u001b[1;33m \u001b[0mpickleFile\u001b[0m \u001b[1;33m=\u001b[0m \u001b[0mpickle\u001b[0m\u001b[1;33m.\u001b[0m\u001b[0mload\u001b[0m\u001b[1;33m(\u001b[0m\u001b[0mopen\u001b[0m\u001b[1;33m(\u001b[0m\u001b[0mfilename\u001b[0m\u001b[1;33m,\u001b[0m \u001b[1;34m\"rb\"\u001b[0m\u001b[1;33m)\u001b[0m\u001b[1;33m)\u001b[0m\u001b[1;33m\u001b[0m\u001b[1;33m\u001b[0m\u001b[0m\n\u001b[0m",
      "\u001b[1;32m~\\anaconda3\\lib\\site-packages\\scikeras\\_saving_utils.py\u001b[0m in \u001b[0;36munpack_keras_model\u001b[1;34m(packed_keras_model)\u001b[0m\n\u001b[0;32m     49\u001b[0m         \u001b[0mmodel\u001b[0m\u001b[1;33m:\u001b[0m \u001b[0mkeras\u001b[0m\u001b[1;33m.\u001b[0m\u001b[0mModel\u001b[0m \u001b[1;33m=\u001b[0m \u001b[0mload_model\u001b[0m\u001b[1;33m(\u001b[0m\u001b[0mtemp_dir\u001b[0m\u001b[1;33m)\u001b[0m\u001b[1;33m\u001b[0m\u001b[1;33m\u001b[0m\u001b[0m\n\u001b[0;32m     50\u001b[0m         \u001b[0mmodel\u001b[0m\u001b[1;33m.\u001b[0m\u001b[0mload_weights\u001b[0m\u001b[1;33m(\u001b[0m\u001b[0mtemp_dir\u001b[0m\u001b[1;33m)\u001b[0m\u001b[1;33m\u001b[0m\u001b[1;33m\u001b[0m\u001b[0m\n\u001b[1;32m---> 51\u001b[1;33m         \u001b[0mmodel\u001b[0m\u001b[1;33m.\u001b[0m\u001b[0moptimizer\u001b[0m\u001b[1;33m.\u001b[0m\u001b[0mbuild\u001b[0m\u001b[1;33m(\u001b[0m\u001b[0mmodel\u001b[0m\u001b[1;33m.\u001b[0m\u001b[0mtrainable_variables\u001b[0m\u001b[1;33m)\u001b[0m\u001b[1;33m\u001b[0m\u001b[1;33m\u001b[0m\u001b[0m\n\u001b[0m\u001b[0;32m     52\u001b[0m         \u001b[1;32mreturn\u001b[0m \u001b[0mmodel\u001b[0m\u001b[1;33m\u001b[0m\u001b[1;33m\u001b[0m\u001b[0m\n\u001b[0;32m     53\u001b[0m \u001b[1;33m\u001b[0m\u001b[0m\n",
      "\u001b[1;32m~\\AppData\\Roaming\\Python\\Python38\\site-packages\\keras\\optimizer_v2\\optimizer_v2.py\u001b[0m in \u001b[0;36m__getattribute__\u001b[1;34m(self, name)\u001b[0m\n\u001b[0;32m    843\u001b[0m       \u001b[1;32mif\u001b[0m \u001b[0mname\u001b[0m \u001b[1;32min\u001b[0m \u001b[0mself\u001b[0m\u001b[1;33m.\u001b[0m\u001b[0m_hyper\u001b[0m\u001b[1;33m:\u001b[0m\u001b[1;33m\u001b[0m\u001b[1;33m\u001b[0m\u001b[0m\n\u001b[0;32m    844\u001b[0m         \u001b[1;32mreturn\u001b[0m \u001b[0mself\u001b[0m\u001b[1;33m.\u001b[0m\u001b[0m_get_hyper\u001b[0m\u001b[1;33m(\u001b[0m\u001b[0mname\u001b[0m\u001b[1;33m)\u001b[0m\u001b[1;33m\u001b[0m\u001b[1;33m\u001b[0m\u001b[0m\n\u001b[1;32m--> 845\u001b[1;33m       \u001b[1;32mraise\u001b[0m \u001b[0me\u001b[0m\u001b[1;33m\u001b[0m\u001b[1;33m\u001b[0m\u001b[0m\n\u001b[0m\u001b[0;32m    846\u001b[0m \u001b[1;33m\u001b[0m\u001b[0m\n\u001b[0;32m    847\u001b[0m   \u001b[1;32mdef\u001b[0m \u001b[0m__dir__\u001b[0m\u001b[1;33m(\u001b[0m\u001b[0mself\u001b[0m\u001b[1;33m)\u001b[0m\u001b[1;33m:\u001b[0m\u001b[1;33m\u001b[0m\u001b[1;33m\u001b[0m\u001b[0m\n",
      "\u001b[1;32m~\\AppData\\Roaming\\Python\\Python38\\site-packages\\keras\\optimizer_v2\\optimizer_v2.py\u001b[0m in \u001b[0;36m__getattribute__\u001b[1;34m(self, name)\u001b[0m\n\u001b[0;32m    833\u001b[0m     \u001b[1;34m\"\"\"Overridden to support hyperparameter access.\"\"\"\u001b[0m\u001b[1;33m\u001b[0m\u001b[1;33m\u001b[0m\u001b[0m\n\u001b[0;32m    834\u001b[0m     \u001b[1;32mtry\u001b[0m\u001b[1;33m:\u001b[0m\u001b[1;33m\u001b[0m\u001b[1;33m\u001b[0m\u001b[0m\n\u001b[1;32m--> 835\u001b[1;33m       \u001b[1;32mreturn\u001b[0m \u001b[0msuper\u001b[0m\u001b[1;33m(\u001b[0m\u001b[0mOptimizerV2\u001b[0m\u001b[1;33m,\u001b[0m \u001b[0mself\u001b[0m\u001b[1;33m)\u001b[0m\u001b[1;33m.\u001b[0m\u001b[0m__getattribute__\u001b[0m\u001b[1;33m(\u001b[0m\u001b[0mname\u001b[0m\u001b[1;33m)\u001b[0m\u001b[1;33m\u001b[0m\u001b[1;33m\u001b[0m\u001b[0m\n\u001b[0m\u001b[0;32m    836\u001b[0m     \u001b[1;32mexcept\u001b[0m \u001b[0mAttributeError\u001b[0m \u001b[1;32mas\u001b[0m \u001b[0me\u001b[0m\u001b[1;33m:\u001b[0m\u001b[1;33m\u001b[0m\u001b[1;33m\u001b[0m\u001b[0m\n\u001b[0;32m    837\u001b[0m       \u001b[1;31m# Needed to avoid infinite recursion with __setattr__.\u001b[0m\u001b[1;33m\u001b[0m\u001b[1;33m\u001b[0m\u001b[1;33m\u001b[0m\u001b[0m\n",
      "\u001b[1;31mAttributeError\u001b[0m: 'Adam' object has no attribute 'build'"
     ]
    }
   ],
   "source": [
    "pickleFile = pickle.load(open(filename, \"rb\"))"
   ]
  },
  {
   "cell_type": "code",
   "execution_count": 52,
   "id": "6078e7f1",
   "metadata": {},
   "outputs": [
    {
     "name": "stderr",
     "output_type": "stream",
     "text": [
      "<ipython-input-52-f48db531799b>:21: DeprecationWarning: KerasClassifier is deprecated, use Sci-Keras (https://github.com/adriangb/scikeras) instead.\n",
      "  model = KerasClassifier(build_fn=create_model,epochs=5,verbose=0)\n",
      "[Parallel(n_jobs=1)]: Using backend SequentialBackend with 1 concurrent workers.\n"
     ]
    },
    {
     "name": "stdout",
     "output_type": "stream",
     "text": [
      "Fitting 5 folds for each of 96 candidates, totalling 480 fits\n"
     ]
    },
    {
     "name": "stderr",
     "output_type": "stream",
     "text": [
      "[Parallel(n_jobs=1)]: Done 480 out of 480 | elapsed: 215.8min finished\n"
     ]
    },
    {
     "name": "stdout",
     "output_type": "stream",
     "text": [
      "Best: 0.929021 using {'batch_size': 4, 'dropout_rate': 0.1, 'layers': 2, 'neurons': 100}\n",
      "0.757408 (0.017444) with: {'batch_size': 4, 'dropout_rate': 0.1, 'layers': 1, 'neurons': 20}\n",
      "0.803296 (0.036306) with: {'batch_size': 4, 'dropout_rate': 0.1, 'layers': 1, 'neurons': 50}\n",
      "0.802014 (0.044463) with: {'batch_size': 4, 'dropout_rate': 0.1, 'layers': 1, 'neurons': 60}\n",
      "0.819814 (0.020947) with: {'batch_size': 4, 'dropout_rate': 0.1, 'layers': 1, 'neurons': 100}\n",
      "0.868581 (0.027258) with: {'batch_size': 4, 'dropout_rate': 0.1, 'layers': 2, 'neurons': 20}\n",
      "0.905734 (0.013906) with: {'batch_size': 4, 'dropout_rate': 0.1, 'layers': 2, 'neurons': 50}\n",
      "0.899081 (0.042916) with: {'batch_size': 4, 'dropout_rate': 0.1, 'layers': 2, 'neurons': 60}\n",
      "0.929021 (0.022395) with: {'batch_size': 4, 'dropout_rate': 0.1, 'layers': 2, 'neurons': 100}\n",
      "0.714700 (0.021454) with: {'batch_size': 4, 'dropout_rate': 0.2, 'layers': 1, 'neurons': 20}\n",
      "0.773617 (0.030272) with: {'batch_size': 4, 'dropout_rate': 0.2, 'layers': 1, 'neurons': 50}\n",
      "0.776785 (0.035864) with: {'batch_size': 4, 'dropout_rate': 0.2, 'layers': 1, 'neurons': 60}\n",
      "0.773260 (0.019357) with: {'batch_size': 4, 'dropout_rate': 0.2, 'layers': 1, 'neurons': 100}\n",
      "0.849622 (0.015988) with: {'batch_size': 4, 'dropout_rate': 0.2, 'layers': 2, 'neurons': 20}\n",
      "0.888760 (0.026680) with: {'batch_size': 4, 'dropout_rate': 0.2, 'layers': 2, 'neurons': 50}\n",
      "0.887725 (0.031957) with: {'batch_size': 4, 'dropout_rate': 0.2, 'layers': 2, 'neurons': 60}\n",
      "0.899773 (0.017774) with: {'batch_size': 4, 'dropout_rate': 0.2, 'layers': 2, 'neurons': 100}\n",
      "0.694491 (0.021072) with: {'batch_size': 4, 'dropout_rate': 0.3, 'layers': 1, 'neurons': 20}\n",
      "0.739250 (0.044397) with: {'batch_size': 4, 'dropout_rate': 0.3, 'layers': 1, 'neurons': 50}\n",
      "0.753393 (0.037241) with: {'batch_size': 4, 'dropout_rate': 0.3, 'layers': 1, 'neurons': 60}\n",
      "0.760949 (0.048546) with: {'batch_size': 4, 'dropout_rate': 0.3, 'layers': 1, 'neurons': 100}\n",
      "0.809303 (0.028216) with: {'batch_size': 4, 'dropout_rate': 0.3, 'layers': 2, 'neurons': 20}\n",
      "0.869176 (0.021885) with: {'batch_size': 4, 'dropout_rate': 0.3, 'layers': 2, 'neurons': 50}\n",
      "0.896595 (0.014758) with: {'batch_size': 4, 'dropout_rate': 0.3, 'layers': 2, 'neurons': 60}\n",
      "0.867277 (0.028277) with: {'batch_size': 4, 'dropout_rate': 0.3, 'layers': 2, 'neurons': 100}\n",
      "0.767128 (0.024007) with: {'batch_size': 5, 'dropout_rate': 0.1, 'layers': 1, 'neurons': 20}\n",
      "0.783861 (0.024546) with: {'batch_size': 5, 'dropout_rate': 0.1, 'layers': 1, 'neurons': 50}\n",
      "0.794358 (0.016918) with: {'batch_size': 5, 'dropout_rate': 0.1, 'layers': 1, 'neurons': 60}\n",
      "0.786722 (0.047139) with: {'batch_size': 5, 'dropout_rate': 0.1, 'layers': 1, 'neurons': 100}\n",
      "0.863410 (0.018647) with: {'batch_size': 5, 'dropout_rate': 0.1, 'layers': 2, 'neurons': 20}\n",
      "0.897056 (0.024539) with: {'batch_size': 5, 'dropout_rate': 0.1, 'layers': 2, 'neurons': 50}\n",
      "0.901813 (0.016849) with: {'batch_size': 5, 'dropout_rate': 0.1, 'layers': 2, 'neurons': 60}\n",
      "0.898573 (0.012282) with: {'batch_size': 5, 'dropout_rate': 0.1, 'layers': 2, 'neurons': 100}\n",
      "0.701304 (0.019523) with: {'batch_size': 5, 'dropout_rate': 0.2, 'layers': 1, 'neurons': 20}\n",
      "0.746493 (0.023843) with: {'batch_size': 5, 'dropout_rate': 0.2, 'layers': 1, 'neurons': 50}\n",
      "0.729620 (0.030414) with: {'batch_size': 5, 'dropout_rate': 0.2, 'layers': 1, 'neurons': 60}\n",
      "0.765906 (0.027587) with: {'batch_size': 5, 'dropout_rate': 0.2, 'layers': 1, 'neurons': 100}\n",
      "0.849215 (0.021852) with: {'batch_size': 5, 'dropout_rate': 0.2, 'layers': 2, 'neurons': 20}\n",
      "0.890196 (0.015260) with: {'batch_size': 5, 'dropout_rate': 0.2, 'layers': 2, 'neurons': 50}\n",
      "0.875881 (0.048795) with: {'batch_size': 5, 'dropout_rate': 0.2, 'layers': 2, 'neurons': 60}\n",
      "0.898424 (0.035271) with: {'batch_size': 5, 'dropout_rate': 0.2, 'layers': 2, 'neurons': 100}\n",
      "0.685678 (0.015811) with: {'batch_size': 5, 'dropout_rate': 0.3, 'layers': 1, 'neurons': 20}\n",
      "0.738044 (0.062645) with: {'batch_size': 5, 'dropout_rate': 0.3, 'layers': 1, 'neurons': 50}\n",
      "0.755709 (0.018803) with: {'batch_size': 5, 'dropout_rate': 0.3, 'layers': 1, 'neurons': 60}\n",
      "0.748025 (0.032068) with: {'batch_size': 5, 'dropout_rate': 0.3, 'layers': 1, 'neurons': 100}\n",
      "0.790140 (0.018268) with: {'batch_size': 5, 'dropout_rate': 0.3, 'layers': 2, 'neurons': 20}\n",
      "0.865560 (0.029655) with: {'batch_size': 5, 'dropout_rate': 0.3, 'layers': 2, 'neurons': 50}\n",
      "0.859351 (0.050785) with: {'batch_size': 5, 'dropout_rate': 0.3, 'layers': 2, 'neurons': 60}\n",
      "0.871254 (0.024520) with: {'batch_size': 5, 'dropout_rate': 0.3, 'layers': 2, 'neurons': 100}\n",
      "0.704622 (0.028466) with: {'batch_size': 10, 'dropout_rate': 0.1, 'layers': 1, 'neurons': 20}\n",
      "0.743071 (0.037050) with: {'batch_size': 10, 'dropout_rate': 0.1, 'layers': 1, 'neurons': 50}\n",
      "0.739925 (0.033963) with: {'batch_size': 10, 'dropout_rate': 0.1, 'layers': 1, 'neurons': 60}\n",
      "0.740480 (0.044454) with: {'batch_size': 10, 'dropout_rate': 0.1, 'layers': 1, 'neurons': 100}\n",
      "0.850454 (0.014158) with: {'batch_size': 10, 'dropout_rate': 0.1, 'layers': 2, 'neurons': 20}\n",
      "0.868308 (0.023014) with: {'batch_size': 10, 'dropout_rate': 0.1, 'layers': 2, 'neurons': 50}\n",
      "0.890425 (0.023674) with: {'batch_size': 10, 'dropout_rate': 0.1, 'layers': 2, 'neurons': 60}\n",
      "0.870155 (0.034090) with: {'batch_size': 10, 'dropout_rate': 0.1, 'layers': 2, 'neurons': 100}\n",
      "0.673949 (0.012609) with: {'batch_size': 10, 'dropout_rate': 0.2, 'layers': 1, 'neurons': 20}\n",
      "0.712345 (0.015277) with: {'batch_size': 10, 'dropout_rate': 0.2, 'layers': 1, 'neurons': 50}\n",
      "0.718836 (0.029232) with: {'batch_size': 10, 'dropout_rate': 0.2, 'layers': 1, 'neurons': 60}\n",
      "0.737921 (0.027615) with: {'batch_size': 10, 'dropout_rate': 0.2, 'layers': 1, 'neurons': 100}\n",
      "0.823832 (0.035438) with: {'batch_size': 10, 'dropout_rate': 0.2, 'layers': 2, 'neurons': 20}\n",
      "0.867799 (0.021154) with: {'batch_size': 10, 'dropout_rate': 0.2, 'layers': 2, 'neurons': 50}\n",
      "0.827712 (0.031713) with: {'batch_size': 10, 'dropout_rate': 0.2, 'layers': 2, 'neurons': 60}\n",
      "0.877016 (0.018115) with: {'batch_size': 10, 'dropout_rate': 0.2, 'layers': 2, 'neurons': 100}\n",
      "0.664795 (0.010038) with: {'batch_size': 10, 'dropout_rate': 0.3, 'layers': 1, 'neurons': 20}\n",
      "0.678209 (0.008837) with: {'batch_size': 10, 'dropout_rate': 0.3, 'layers': 1, 'neurons': 50}\n",
      "0.685382 (0.015800) with: {'batch_size': 10, 'dropout_rate': 0.3, 'layers': 1, 'neurons': 60}\n",
      "0.686320 (0.009081) with: {'batch_size': 10, 'dropout_rate': 0.3, 'layers': 1, 'neurons': 100}\n",
      "0.741388 (0.051018) with: {'batch_size': 10, 'dropout_rate': 0.3, 'layers': 2, 'neurons': 20}\n",
      "0.848510 (0.018486) with: {'batch_size': 10, 'dropout_rate': 0.3, 'layers': 2, 'neurons': 50}\n",
      "0.842076 (0.026688) with: {'batch_size': 10, 'dropout_rate': 0.3, 'layers': 2, 'neurons': 60}\n",
      "0.864183 (0.022510) with: {'batch_size': 10, 'dropout_rate': 0.3, 'layers': 2, 'neurons': 100}\n",
      "0.672757 (0.009937) with: {'batch_size': 20, 'dropout_rate': 0.1, 'layers': 1, 'neurons': 20}\n",
      "0.686214 (0.011312) with: {'batch_size': 20, 'dropout_rate': 0.1, 'layers': 1, 'neurons': 50}\n",
      "0.700569 (0.025959) with: {'batch_size': 20, 'dropout_rate': 0.1, 'layers': 1, 'neurons': 60}\n",
      "0.692886 (0.010683) with: {'batch_size': 20, 'dropout_rate': 0.1, 'layers': 1, 'neurons': 100}\n",
      "0.844737 (0.027345) with: {'batch_size': 20, 'dropout_rate': 0.1, 'layers': 2, 'neurons': 20}\n",
      "0.873473 (0.016322) with: {'batch_size': 20, 'dropout_rate': 0.1, 'layers': 2, 'neurons': 50}\n",
      "0.871993 (0.011777) with: {'batch_size': 20, 'dropout_rate': 0.1, 'layers': 2, 'neurons': 60}\n",
      "0.847423 (0.038560) with: {'batch_size': 20, 'dropout_rate': 0.1, 'layers': 2, 'neurons': 100}\n",
      "0.668921 (0.009247) with: {'batch_size': 20, 'dropout_rate': 0.2, 'layers': 1, 'neurons': 20}\n",
      "0.684110 (0.019335) with: {'batch_size': 20, 'dropout_rate': 0.2, 'layers': 1, 'neurons': 50}\n",
      "0.676356 (0.011284) with: {'batch_size': 20, 'dropout_rate': 0.2, 'layers': 1, 'neurons': 60}\n",
      "0.686078 (0.010577) with: {'batch_size': 20, 'dropout_rate': 0.2, 'layers': 1, 'neurons': 100}\n",
      "0.730117 (0.037951) with: {'batch_size': 20, 'dropout_rate': 0.2, 'layers': 2, 'neurons': 20}\n",
      "0.838722 (0.024295) with: {'batch_size': 20, 'dropout_rate': 0.2, 'layers': 2, 'neurons': 50}\n",
      "0.839868 (0.028171) with: {'batch_size': 20, 'dropout_rate': 0.2, 'layers': 2, 'neurons': 60}\n",
      "0.857684 (0.032288) with: {'batch_size': 20, 'dropout_rate': 0.2, 'layers': 2, 'neurons': 100}\n",
      "0.665024 (0.007721) with: {'batch_size': 20, 'dropout_rate': 0.3, 'layers': 1, 'neurons': 20}\n",
      "0.668604 (0.006674) with: {'batch_size': 20, 'dropout_rate': 0.3, 'layers': 1, 'neurons': 50}\n",
      "0.668759 (0.007307) with: {'batch_size': 20, 'dropout_rate': 0.3, 'layers': 1, 'neurons': 60}\n",
      "0.672774 (0.012216) with: {'batch_size': 20, 'dropout_rate': 0.3, 'layers': 1, 'neurons': 100}\n",
      "0.708165 (0.015250) with: {'batch_size': 20, 'dropout_rate': 0.3, 'layers': 2, 'neurons': 20}\n",
      "0.830612 (0.042357) with: {'batch_size': 20, 'dropout_rate': 0.3, 'layers': 2, 'neurons': 50}\n",
      "0.812358 (0.048079) with: {'batch_size': 20, 'dropout_rate': 0.3, 'layers': 2, 'neurons': 60}\n",
      "0.859035 (0.025877) with: {'batch_size': 20, 'dropout_rate': 0.3, 'layers': 2, 'neurons': 100}\n"
     ]
    }
   ],
   "source": [
    "import numpy as np\n",
    "from sklearn.model_selection import GridSearchCV, StratifiedKFold\n",
    "from sklearn.metrics import make_scorer, roc_auc_score\n",
    "from tensorflow.keras.models import Sequential\n",
    "from tensorflow.keras.layers import Dense, Dropout\n",
    "from tensorflow.keras.wrappers.scikit_learn import KerasClassifier\n",
    "\n",
    "# Define your binary classification data (X_train, Y_train) and other parameters\n",
    "\n",
    "# Define the create_model function for Keras\n",
    "def create_model(layers=1, neurons=50, dropout_rate=0.0):\n",
    "    model = Sequential()\n",
    "    for _ in range(layers):\n",
    "        model.add(Dense(neurons, input_shape=(X_train.shape[1],), activation='tanh'))\n",
    "        model.add(Dropout(dropout_rate))\n",
    "    model.add(Dense(1, activation='sigmoid'))\n",
    "    model.compile(loss='binary_crossentropy', optimizer='adam', metrics=['accuracy'])\n",
    "    return model\n",
    "\n",
    "# Create the KerasClassifier\n",
    "model = KerasClassifier(build_fn=create_model,epochs=5,verbose=0)\n",
    "\n",
    "# Define the parameter grid for grid search\n",
    "param_grid = {\n",
    "    'layers': [1, 2],  \n",
    "    'batch_size': [4,5,10,20],\n",
    "    'neurons': [20,50,60,100],     # Number of neurons per layer\n",
    "    'dropout_rate': [0.1,0.2,0.3],  # Dropout rate\n",
    "    \n",
    "}\n",
    "\n",
    "# Define a custom scoring function (ROC AUC in this case)\n",
    "roc_auc_scorer = make_scorer(roc_auc_score, greater_is_better=True)\n",
    "\n",
    "# Perform grid search using cross-validation\n",
    "kfold = StratifiedKFold(n_splits=5, shuffle=True)\n",
    "grid = GridSearchCV(estimator=model, param_grid=param_grid, scoring=roc_auc_scorer, cv=kfold, verbose=1)\n",
    "grid_result = grid.fit(X_train, y_train)\n",
    "\n",
    "# Print the results\n",
    "print(\"Best: %f using %s\" % (grid_result.best_score_, grid_result.best_params_))\n",
    "means = grid_result.cv_results_['mean_test_score']\n",
    "stds = grid_result.cv_results_['std_test_score']\n",
    "params = grid_result.cv_results_['params']\n",
    "for mean, stdev, param in zip(means, stds, params):\n",
    "    print(\"%f (%f) with: %r\" % (mean, stdev, param))"
   ]
  },
  {
   "cell_type": "code",
   "execution_count": null,
   "id": "bba949e2",
   "metadata": {
    "scrolled": false
   },
   "outputs": [],
   "source": [
    "estimator.fit(X_train,Y)"
   ]
  },
  {
   "cell_type": "markdown",
   "id": "9878c041",
   "metadata": {},
   "source": [
    "*Evaluating Model by confusion matrix*"
   ]
  },
  {
   "cell_type": "code",
   "execution_count": null,
   "id": "6df6b507",
   "metadata": {},
   "outputs": [],
   "source": [
    "y_pred.shape"
   ]
  },
  {
   "cell_type": "code",
   "execution_count": null,
   "id": "8f5bbdaa",
   "metadata": {},
   "outputs": [],
   "source": [
    "from sklearn.metrics import confusion_matrix\n",
    "import matplotlib.pyplot as plt\n",
    "import seaborn as sns\n",
    "\n",
    "# Assuming y_test contains the true labels and y_pred contains the predicted labels\n",
    "cm = confusion_matrix(y_test, y_pred)\n",
    "\n",
    "# Display the confusion matrix using a heatmap\n",
    "plt.figure(figsize=(6, 4))\n",
    "sns.heatmap(cm, annot=True, fmt=\"d\", cmap=\"Blues\")\n",
    "plt.xlabel(\"Predicted labels\")\n",
    "plt.ylabel(\"True labels\")\n",
    "plt.title(\"Confusion Matrix\")\n",
    "plt.show()\n"
   ]
  },
  {
   "cell_type": "code",
   "execution_count": null,
   "id": "707233d1",
   "metadata": {},
   "outputs": [],
   "source": [
    "cm[0]"
   ]
  },
  {
   "cell_type": "code",
   "execution_count": null,
   "id": "e94f173d",
   "metadata": {
    "scrolled": true
   },
   "outputs": [],
   "source": [
    "from sklearn.metrics import confusion_matrix\n",
    "\n",
    "cm = confusion_matrix(y_test, y_pred)\n",
    "\n",
    "TP = cm[1, 1]  # True Positives\n",
    "TN = cm[0, 0]  # True Negatives\n",
    "FP = cm[0, 1]  # False Positives\n",
    "FN = cm[1, 0]  # False Negatives\n",
    "\n",
    "print(\"True Positives:\", TP)\n",
    "print(\"True Negatives:\", TN)\n",
    "print(\"False Positives:\", FP)\n",
    "print(\"False Negatives:\", FN)\n"
   ]
  },
  {
   "cell_type": "code",
   "execution_count": null,
   "id": "0290af0d",
   "metadata": {},
   "outputs": [],
   "source": [
    "from sklearn import metrics\n",
    "\n",
    "\n",
    "conf = metrics.confusion_matrix(y_test, y_pred)"
   ]
  },
  {
   "cell_type": "code",
   "execution_count": null,
   "id": "85e6e173",
   "metadata": {},
   "outputs": [],
   "source": [
    "m_display = metrics.ConfusionMatrixDisplay(confusion_matrix = conf, display_labels = [False, True])"
   ]
  },
  {
   "cell_type": "code",
   "execution_count": null,
   "id": "9057b635",
   "metadata": {},
   "outputs": [],
   "source": [
    "F1_score = metrics.f1_score(y_test, y_pred)"
   ]
  },
  {
   "cell_type": "code",
   "execution_count": null,
   "id": "1420e0bc",
   "metadata": {},
   "outputs": [],
   "source": [
    "F1_score"
   ]
  },
  {
   "cell_type": "code",
   "execution_count": null,
   "id": "f199d16c",
   "metadata": {},
   "outputs": [],
   "source": [
    "from sklearn.metrics import confusion_matrix\n",
    "\n",
    "y_prediction= estimator.predict(X_test)\n",
    "#Create confusion matrix and normalizes it over predicted (columns)\n",
    "result = confusion_matrix(y_test, y_prediction , normalize='pred')"
   ]
  },
  {
   "cell_type": "code",
   "execution_count": null,
   "id": "495161fd",
   "metadata": {},
   "outputs": [],
   "source": [
    "X_test = dataset[1:79, :51]\n",
    "y_test = dataset[1:79,53]"
   ]
  },
  {
   "cell_type": "code",
   "execution_count": null,
   "id": "e12045ab",
   "metadata": {},
   "outputs": [],
   "source": []
  },
  {
   "cell_type": "code",
   "execution_count": null,
   "id": "f959b4db",
   "metadata": {},
   "outputs": [],
   "source": [
    "pip install pytest"
   ]
  },
  {
   "cell_type": "code",
   "execution_count": null,
   "id": "58d14804",
   "metadata": {},
   "outputs": [],
   "source": [
    "import numpy\n",
    "import pandas\n",
    "import matplotlib.pyplot as plt\n",
    "from keras.models import Sequential\n",
    "from keras.layers import Dense, Dropout\n",
    "from keras.wrappers.scikit_learn import KerasClassifier\n",
    "from sklearn.model_selection import cross_val_score\n",
    "from sklearn.preprocessing import LabelEncoder\n",
    "from sklearn.model_selection import StratifiedKFold\n",
    "from sklearn.preprocessing import StandardScaler\n",
    "from sklearn.pipeline import Pipeline\n",
    "from keras.utils import np_utils\n",
    "from sklearn.model_selection import KFold\n",
    "from sklearn.metrics import confusion_matrix\n",
    "import itertools\n",
    "\n",
    "seed = 7\n",
    "numpy.random.seed(seed)\n",
    "\n",
    "dataframe = pandas.read_csv(r\"C:\\Users\\ASUS\\OneDrive\\Documents\\Academics\\Summer Semester\\Dissertation\\Model_out\\LSTM_data.csv\")\n",
    "\n",
    "dataset = dataframe.values\n",
    "X = dataset[79:,0:51].astype(float) # number of cols-1\n",
    "Y = dataset[79:,53]\n",
    "\n",
    "#encoder = LabelEncoder()\n",
    "#encoder.fit(Y)\n",
    "#encoded_Y = encoder.transform(Y)\n",
    "\n",
    "#encoded_Y = np_utils.to_categorical(encoded_Y)\n",
    "#print(\"encoded_Y=\", encoded_Y) \n",
    "# baseline model\n",
    "def create_baseline():\n",
    "    # create model\n",
    "    model = Sequential()\n",
    "    model.add(Dense(5, input_dim=5, kernel_initializer='normal', activation='relu'))\n",
    "    model.add(Dense(5, kernel_initializer='normal', activation='relu'))\n",
    "    #model.add(Dense(2, kernel_initializer='normal', activation='sigmoid'))\n",
    "\n",
    "    model.add(Dense(2, kernel_initializer='normal', activation='softmax'))\n",
    "\n",
    "    # Compile model\n",
    "    model.compile(loss='binary_crossentropy', optimizer='adam', metrics=['accuracy'])  # for binayr classification\n",
    "        #model.compile(loss='categorical_crossentropy', optimizer='adam', metrics=['accuracy'])  # for multi class\n",
    "    return model\n",
    "\n",
    "\n",
    "model=create_baseline();\n",
    "history=model.fit(X, Y, batch_size=5, epoch=50, validation_split = 0.2, verbose=1)\n",
    "print(history.history.keys())\n",
    "# list all data in history\n",
    "print(history.history.keys())\n",
    "# summarize history for accuracy\n",
    "plt.plot(history.history['acc'])\n",
    "plt.plot(history.history['val_acc'])\n",
    "plt.title('model accuracy')\n",
    "plt.ylabel('accuracy')\n",
    "plt.xlabel('epoch')\n",
    "plt.legend(['train', 'test'], loc='upper left')\n",
    "plt.show()\n",
    "# summarize history for loss\n",
    "plt.plot(history.history['loss'])\n",
    "plt.plot(history.history['val_loss'])\n",
    "plt.title('model loss')\n",
    "plt.ylabel('loss')\n",
    "plt.xlabel('epoch')\n",
    "plt.legend(['train', 'test'], loc='upper left')\n",
    "plt.show()\n",
    "\n",
    "\n",
    "pre_cls=model.predict_classes(X)    \n",
    "cm1 = confusion_matrix(encoder.transform(Y),pre_cls)\n",
    "print('Confusion Matrix : \\n')\n",
    "print(cm1)\n",
    "\n",
    "\n",
    "score, acc = model.evaluate(X,encoded_Y)\n",
    "print('Test score:', score)\n",
    "print('Test accuracy:', acc)"
   ]
  },
  {
   "cell_type": "code",
   "execution_count": null,
   "id": "b81dfd5b",
   "metadata": {},
   "outputs": [],
   "source": [
    "from sklearn.metrics import roc_curve\n"
   ]
  },
  {
   "cell_type": "code",
   "execution_count": null,
   "id": "69b18715",
   "metadata": {},
   "outputs": [],
   "source": [
    "y_pred_proba = model.predict_proba(new_X_test)[::,1]\n",
    "fpr, tpr, _ = metrics.roc_curve(y_test,  y_pred_proba)\n",
    "auc = metrics.roc_auc_score(y_test, y_pred_proba)\n",
    "plt.plot(fpr,tpr,label=\"data 1, auc=\"+str(auc))\n",
    "plt.legend(loc=4)\n",
    "plt.show()"
   ]
  },
  {
   "cell_type": "code",
   "execution_count": null,
   "id": "09775a2c",
   "metadata": {},
   "outputs": [],
   "source": []
  },
  {
   "cell_type": "code",
   "execution_count": null,
   "id": "a4feed8e",
   "metadata": {},
   "outputs": [],
   "source": []
  }
 ],
 "metadata": {
  "kernelspec": {
   "display_name": "Python 3",
   "language": "python",
   "name": "python3"
  },
  "language_info": {
   "codemirror_mode": {
    "name": "ipython",
    "version": 3
   },
   "file_extension": ".py",
   "mimetype": "text/x-python",
   "name": "python",
   "nbconvert_exporter": "python",
   "pygments_lexer": "ipython3",
   "version": "3.8.8"
  }
 },
 "nbformat": 4,
 "nbformat_minor": 5
}
